{
 "cells": [
  {
   "cell_type": "markdown",
   "id": "39f6e9de",
   "metadata": {},
   "source": [
    "## Предсказание коэффициента восстановления золота"
   ]
  },
  {
   "cell_type": "markdown",
   "id": "f67df620",
   "metadata": {},
   "source": [
    "***Задача***:\n",
    "\n",
    "Необходимо построить модель, которая будет предсказывать коэффициент восстановления золота из золотосодержащей руды. Модель поможет оптимизировать производство, чтобы не запускать предприятие с убыточными характеристиками.\n",
    "\n",
    "Задача будет выполняться в несколько этапов:\n",
    "* Знакомство и подготовка данных;\n",
    "* Исследовательский анализ данных;\n",
    "* Подбор и тестирование модели;\n",
    "\n",
    "Метрика качества моделей - sMAPE, причём важно учесть, что необходимо предсказать не только финальный коэффициент, но и коэффициент восстановления после флотации(грубая очистка).\n",
    "Финальный коэффициент складывается из двух составляющих: `0.25 * sMAPE(rougher) + 0.75 * sMAPE(final)`.\n",
    "\n",
    "Параметр `recovery` - восстановление расчитывается по формуле: `(C * (F - T)) / (F * (C - T)) * 100%`, где:\n",
    "* С - доля золота в концентрате после флотации/очистки;\n",
    "* F - доля золота в сырье/концентрате до флотации/очистки;\n",
    "* T - доля золота в отвальных хвостах после флотации/очистки.\n",
    "\n",
    "В нашем распоряжении данные в 3-х таблицах:\n",
    "* Таблица с обучающими данными;\n",
    "* Полная таблица;\n",
    "* Таблица с тестовыми данными.\n",
    "\n",
    "Данные \"сырые\", поэтому необходимо произвести предобработку. "
   ]
  },
  {
   "cell_type": "markdown",
   "id": "9c074163",
   "metadata": {},
   "source": [
    "## Подготовка данных"
   ]
  },
  {
   "cell_type": "markdown",
   "id": "bcec2436",
   "metadata": {},
   "source": [
    "### Знакомство с данными"
   ]
  },
  {
   "cell_type": "code",
   "execution_count": 1,
   "id": "15d53a2a",
   "metadata": {},
   "outputs": [],
   "source": [
    "import pandas as pd\n",
    "\n",
    "import numpy as np\n",
    "\n",
    "import matplotlib.pyplot as plt\n",
    "from matplotlib import rcParams\n",
    "import seaborn as sns\n",
    "\n",
    "from sklearn.dummy import DummyRegressor\n",
    "from sklearn.ensemble import RandomForestRegressor\n",
    "from sklearn.linear_model import LinearRegression\n",
    "from sklearn.metrics import make_scorer\n",
    "from sklearn.metrics import mean_absolute_error\n",
    "from sklearn.model_selection import cross_val_score\n",
    "from sklearn.model_selection import RandomizedSearchCV\n",
    "from sklearn.preprocessing import StandardScaler\n",
    "from sklearn.tree import DecisionTreeRegressor\n",
    "\n",
    "from lightgbm import LGBMRegressor\n",
    "\n",
    "\n",
    "rcParams['font.size'] = 12"
   ]
  },
  {
   "cell_type": "code",
   "execution_count": 2,
   "id": "c049846d",
   "metadata": {},
   "outputs": [],
   "source": [
    "try:\n",
    "    df_train = pd.read_csv('/datasets/gold_recovery_train_new.csv')\n",
    "    df_test = pd.read_csv('/datasets/gold_recovery_test_new.csv')\n",
    "    df_full = pd.read_csv('/datasets/gold_recovery_full_new.csv')\n",
    "except:\n",
    "    df_train = pd.read_csv('gold_recovery_train_new.csv')\n",
    "    df_test = pd.read_csv('gold_recovery_test_new.csv')\n",
    "    df_full = pd.read_csv('gold_recovery_full_new.csv')\n",
    "    "
   ]
  },
  {
   "cell_type": "code",
   "execution_count": 3,
   "id": "d978d979",
   "metadata": {},
   "outputs": [],
   "source": [
    "dfs = [df_train, df_test, df_full]"
   ]
  },
  {
   "cell_type": "code",
   "execution_count": 4,
   "id": "01bf14dc",
   "metadata": {
    "scrolled": true
   },
   "outputs": [
    {
     "data": {
      "text/html": [
       "<div>\n",
       "<style scoped>\n",
       "    .dataframe tbody tr th:only-of-type {\n",
       "        vertical-align: middle;\n",
       "    }\n",
       "\n",
       "    .dataframe tbody tr th {\n",
       "        vertical-align: top;\n",
       "    }\n",
       "\n",
       "    .dataframe thead th {\n",
       "        text-align: right;\n",
       "    }\n",
       "</style>\n",
       "<table border=\"1\" class=\"dataframe\">\n",
       "  <thead>\n",
       "    <tr style=\"text-align: right;\">\n",
       "      <th></th>\n",
       "      <th>date</th>\n",
       "      <th>final.output.concentrate_ag</th>\n",
       "      <th>final.output.concentrate_pb</th>\n",
       "      <th>final.output.concentrate_sol</th>\n",
       "      <th>final.output.concentrate_au</th>\n",
       "      <th>final.output.recovery</th>\n",
       "      <th>final.output.tail_ag</th>\n",
       "      <th>final.output.tail_pb</th>\n",
       "      <th>final.output.tail_sol</th>\n",
       "      <th>final.output.tail_au</th>\n",
       "      <th>...</th>\n",
       "      <th>secondary_cleaner.state.floatbank4_a_air</th>\n",
       "      <th>secondary_cleaner.state.floatbank4_a_level</th>\n",
       "      <th>secondary_cleaner.state.floatbank4_b_air</th>\n",
       "      <th>secondary_cleaner.state.floatbank4_b_level</th>\n",
       "      <th>secondary_cleaner.state.floatbank5_a_air</th>\n",
       "      <th>secondary_cleaner.state.floatbank5_a_level</th>\n",
       "      <th>secondary_cleaner.state.floatbank5_b_air</th>\n",
       "      <th>secondary_cleaner.state.floatbank5_b_level</th>\n",
       "      <th>secondary_cleaner.state.floatbank6_a_air</th>\n",
       "      <th>secondary_cleaner.state.floatbank6_a_level</th>\n",
       "    </tr>\n",
       "  </thead>\n",
       "  <tbody>\n",
       "    <tr>\n",
       "      <th>0</th>\n",
       "      <td>2016-01-15 00:00:00</td>\n",
       "      <td>6.055403</td>\n",
       "      <td>9.889648</td>\n",
       "      <td>5.507324</td>\n",
       "      <td>42.192020</td>\n",
       "      <td>70.541216</td>\n",
       "      <td>10.411962</td>\n",
       "      <td>0.895447</td>\n",
       "      <td>16.904297</td>\n",
       "      <td>2.143149</td>\n",
       "      <td>...</td>\n",
       "      <td>14.016835</td>\n",
       "      <td>-502.488007</td>\n",
       "      <td>12.099931</td>\n",
       "      <td>-504.715942</td>\n",
       "      <td>9.925633</td>\n",
       "      <td>-498.310211</td>\n",
       "      <td>8.079666</td>\n",
       "      <td>-500.470978</td>\n",
       "      <td>14.151341</td>\n",
       "      <td>-605.841980</td>\n",
       "    </tr>\n",
       "    <tr>\n",
       "      <th>1</th>\n",
       "      <td>2016-01-15 01:00:00</td>\n",
       "      <td>6.029369</td>\n",
       "      <td>9.968944</td>\n",
       "      <td>5.257781</td>\n",
       "      <td>42.701629</td>\n",
       "      <td>69.266198</td>\n",
       "      <td>10.462676</td>\n",
       "      <td>0.927452</td>\n",
       "      <td>16.634514</td>\n",
       "      <td>2.224930</td>\n",
       "      <td>...</td>\n",
       "      <td>13.992281</td>\n",
       "      <td>-505.503262</td>\n",
       "      <td>11.950531</td>\n",
       "      <td>-501.331529</td>\n",
       "      <td>10.039245</td>\n",
       "      <td>-500.169983</td>\n",
       "      <td>7.984757</td>\n",
       "      <td>-500.582168</td>\n",
       "      <td>13.998353</td>\n",
       "      <td>-599.787184</td>\n",
       "    </tr>\n",
       "    <tr>\n",
       "      <th>2</th>\n",
       "      <td>2016-01-15 02:00:00</td>\n",
       "      <td>6.055926</td>\n",
       "      <td>10.213995</td>\n",
       "      <td>5.383759</td>\n",
       "      <td>42.657501</td>\n",
       "      <td>68.116445</td>\n",
       "      <td>10.507046</td>\n",
       "      <td>0.953716</td>\n",
       "      <td>16.208849</td>\n",
       "      <td>2.257889</td>\n",
       "      <td>...</td>\n",
       "      <td>14.015015</td>\n",
       "      <td>-502.520901</td>\n",
       "      <td>11.912783</td>\n",
       "      <td>-501.133383</td>\n",
       "      <td>10.070913</td>\n",
       "      <td>-500.129135</td>\n",
       "      <td>8.013877</td>\n",
       "      <td>-500.517572</td>\n",
       "      <td>14.028663</td>\n",
       "      <td>-601.427363</td>\n",
       "    </tr>\n",
       "    <tr>\n",
       "      <th>3</th>\n",
       "      <td>2016-01-15 03:00:00</td>\n",
       "      <td>6.047977</td>\n",
       "      <td>9.977019</td>\n",
       "      <td>4.858634</td>\n",
       "      <td>42.689819</td>\n",
       "      <td>68.347543</td>\n",
       "      <td>10.422762</td>\n",
       "      <td>0.883763</td>\n",
       "      <td>16.532835</td>\n",
       "      <td>2.146849</td>\n",
       "      <td>...</td>\n",
       "      <td>14.036510</td>\n",
       "      <td>-500.857308</td>\n",
       "      <td>11.999550</td>\n",
       "      <td>-501.193686</td>\n",
       "      <td>9.970366</td>\n",
       "      <td>-499.201640</td>\n",
       "      <td>7.977324</td>\n",
       "      <td>-500.255908</td>\n",
       "      <td>14.005551</td>\n",
       "      <td>-599.996129</td>\n",
       "    </tr>\n",
       "    <tr>\n",
       "      <th>4</th>\n",
       "      <td>2016-01-15 04:00:00</td>\n",
       "      <td>6.148599</td>\n",
       "      <td>10.142511</td>\n",
       "      <td>4.939416</td>\n",
       "      <td>42.774141</td>\n",
       "      <td>66.927016</td>\n",
       "      <td>10.360302</td>\n",
       "      <td>0.792826</td>\n",
       "      <td>16.525686</td>\n",
       "      <td>2.055292</td>\n",
       "      <td>...</td>\n",
       "      <td>14.027298</td>\n",
       "      <td>-499.838632</td>\n",
       "      <td>11.953070</td>\n",
       "      <td>-501.053894</td>\n",
       "      <td>9.925709</td>\n",
       "      <td>-501.686727</td>\n",
       "      <td>7.894242</td>\n",
       "      <td>-500.356035</td>\n",
       "      <td>13.996647</td>\n",
       "      <td>-601.496691</td>\n",
       "    </tr>\n",
       "  </tbody>\n",
       "</table>\n",
       "<p>5 rows × 87 columns</p>\n",
       "</div>"
      ],
      "text/plain": [
       "                  date  final.output.concentrate_ag  \\\n",
       "0  2016-01-15 00:00:00                     6.055403   \n",
       "1  2016-01-15 01:00:00                     6.029369   \n",
       "2  2016-01-15 02:00:00                     6.055926   \n",
       "3  2016-01-15 03:00:00                     6.047977   \n",
       "4  2016-01-15 04:00:00                     6.148599   \n",
       "\n",
       "   final.output.concentrate_pb  final.output.concentrate_sol  \\\n",
       "0                     9.889648                      5.507324   \n",
       "1                     9.968944                      5.257781   \n",
       "2                    10.213995                      5.383759   \n",
       "3                     9.977019                      4.858634   \n",
       "4                    10.142511                      4.939416   \n",
       "\n",
       "   final.output.concentrate_au  final.output.recovery  final.output.tail_ag  \\\n",
       "0                    42.192020              70.541216             10.411962   \n",
       "1                    42.701629              69.266198             10.462676   \n",
       "2                    42.657501              68.116445             10.507046   \n",
       "3                    42.689819              68.347543             10.422762   \n",
       "4                    42.774141              66.927016             10.360302   \n",
       "\n",
       "   final.output.tail_pb  final.output.tail_sol  final.output.tail_au  ...  \\\n",
       "0              0.895447              16.904297              2.143149  ...   \n",
       "1              0.927452              16.634514              2.224930  ...   \n",
       "2              0.953716              16.208849              2.257889  ...   \n",
       "3              0.883763              16.532835              2.146849  ...   \n",
       "4              0.792826              16.525686              2.055292  ...   \n",
       "\n",
       "   secondary_cleaner.state.floatbank4_a_air  \\\n",
       "0                                 14.016835   \n",
       "1                                 13.992281   \n",
       "2                                 14.015015   \n",
       "3                                 14.036510   \n",
       "4                                 14.027298   \n",
       "\n",
       "   secondary_cleaner.state.floatbank4_a_level  \\\n",
       "0                                 -502.488007   \n",
       "1                                 -505.503262   \n",
       "2                                 -502.520901   \n",
       "3                                 -500.857308   \n",
       "4                                 -499.838632   \n",
       "\n",
       "   secondary_cleaner.state.floatbank4_b_air  \\\n",
       "0                                 12.099931   \n",
       "1                                 11.950531   \n",
       "2                                 11.912783   \n",
       "3                                 11.999550   \n",
       "4                                 11.953070   \n",
       "\n",
       "   secondary_cleaner.state.floatbank4_b_level  \\\n",
       "0                                 -504.715942   \n",
       "1                                 -501.331529   \n",
       "2                                 -501.133383   \n",
       "3                                 -501.193686   \n",
       "4                                 -501.053894   \n",
       "\n",
       "   secondary_cleaner.state.floatbank5_a_air  \\\n",
       "0                                  9.925633   \n",
       "1                                 10.039245   \n",
       "2                                 10.070913   \n",
       "3                                  9.970366   \n",
       "4                                  9.925709   \n",
       "\n",
       "   secondary_cleaner.state.floatbank5_a_level  \\\n",
       "0                                 -498.310211   \n",
       "1                                 -500.169983   \n",
       "2                                 -500.129135   \n",
       "3                                 -499.201640   \n",
       "4                                 -501.686727   \n",
       "\n",
       "   secondary_cleaner.state.floatbank5_b_air  \\\n",
       "0                                  8.079666   \n",
       "1                                  7.984757   \n",
       "2                                  8.013877   \n",
       "3                                  7.977324   \n",
       "4                                  7.894242   \n",
       "\n",
       "   secondary_cleaner.state.floatbank5_b_level  \\\n",
       "0                                 -500.470978   \n",
       "1                                 -500.582168   \n",
       "2                                 -500.517572   \n",
       "3                                 -500.255908   \n",
       "4                                 -500.356035   \n",
       "\n",
       "   secondary_cleaner.state.floatbank6_a_air  \\\n",
       "0                                 14.151341   \n",
       "1                                 13.998353   \n",
       "2                                 14.028663   \n",
       "3                                 14.005551   \n",
       "4                                 13.996647   \n",
       "\n",
       "   secondary_cleaner.state.floatbank6_a_level  \n",
       "0                                 -605.841980  \n",
       "1                                 -599.787184  \n",
       "2                                 -601.427363  \n",
       "3                                 -599.996129  \n",
       "4                                 -601.496691  \n",
       "\n",
       "[5 rows x 87 columns]"
      ]
     },
     "metadata": {},
     "output_type": "display_data"
    },
    {
     "name": "stdout",
     "output_type": "stream",
     "text": [
      "<class 'pandas.core.frame.DataFrame'>\n",
      "RangeIndex: 14149 entries, 0 to 14148\n",
      "Data columns (total 87 columns):\n",
      " #   Column                                              Non-Null Count  Dtype  \n",
      "---  ------                                              --------------  -----  \n",
      " 0   date                                                14149 non-null  object \n",
      " 1   final.output.concentrate_ag                         14148 non-null  float64\n",
      " 2   final.output.concentrate_pb                         14148 non-null  float64\n",
      " 3   final.output.concentrate_sol                        13938 non-null  float64\n",
      " 4   final.output.concentrate_au                         14149 non-null  float64\n",
      " 5   final.output.recovery                               14149 non-null  float64\n",
      " 6   final.output.tail_ag                                14149 non-null  float64\n",
      " 7   final.output.tail_pb                                14049 non-null  float64\n",
      " 8   final.output.tail_sol                               14144 non-null  float64\n",
      " 9   final.output.tail_au                                14149 non-null  float64\n",
      " 10  primary_cleaner.input.sulfate                       14129 non-null  float64\n",
      " 11  primary_cleaner.input.depressant                    14117 non-null  float64\n",
      " 12  primary_cleaner.input.feed_size                     14149 non-null  float64\n",
      " 13  primary_cleaner.input.xanthate                      14049 non-null  float64\n",
      " 14  primary_cleaner.output.concentrate_ag               14149 non-null  float64\n",
      " 15  primary_cleaner.output.concentrate_pb               14063 non-null  float64\n",
      " 16  primary_cleaner.output.concentrate_sol              13863 non-null  float64\n",
      " 17  primary_cleaner.output.concentrate_au               14149 non-null  float64\n",
      " 18  primary_cleaner.output.tail_ag                      14148 non-null  float64\n",
      " 19  primary_cleaner.output.tail_pb                      14134 non-null  float64\n",
      " 20  primary_cleaner.output.tail_sol                     14103 non-null  float64\n",
      " 21  primary_cleaner.output.tail_au                      14149 non-null  float64\n",
      " 22  primary_cleaner.state.floatbank8_a_air              14145 non-null  float64\n",
      " 23  primary_cleaner.state.floatbank8_a_level            14148 non-null  float64\n",
      " 24  primary_cleaner.state.floatbank8_b_air              14145 non-null  float64\n",
      " 25  primary_cleaner.state.floatbank8_b_level            14148 non-null  float64\n",
      " 26  primary_cleaner.state.floatbank8_c_air              14147 non-null  float64\n",
      " 27  primary_cleaner.state.floatbank8_c_level            14148 non-null  float64\n",
      " 28  primary_cleaner.state.floatbank8_d_air              14146 non-null  float64\n",
      " 29  primary_cleaner.state.floatbank8_d_level            14148 non-null  float64\n",
      " 30  rougher.calculation.sulfate_to_au_concentrate       14148 non-null  float64\n",
      " 31  rougher.calculation.floatbank10_sulfate_to_au_feed  14148 non-null  float64\n",
      " 32  rougher.calculation.floatbank11_sulfate_to_au_feed  14148 non-null  float64\n",
      " 33  rougher.calculation.au_pb_ratio                     14149 non-null  float64\n",
      " 34  rougher.input.feed_ag                               14149 non-null  float64\n",
      " 35  rougher.input.feed_pb                               14049 non-null  float64\n",
      " 36  rougher.input.feed_rate                             14141 non-null  float64\n",
      " 37  rougher.input.feed_size                             14005 non-null  float64\n",
      " 38  rougher.input.feed_sol                              14071 non-null  float64\n",
      " 39  rougher.input.feed_au                               14149 non-null  float64\n",
      " 40  rougher.input.floatbank10_sulfate                   14120 non-null  float64\n",
      " 41  rougher.input.floatbank10_xanthate                  14141 non-null  float64\n",
      " 42  rougher.input.floatbank11_sulfate                   14113 non-null  float64\n",
      " 43  rougher.input.floatbank11_xanthate                  13721 non-null  float64\n",
      " 44  rougher.output.concentrate_ag                       14149 non-null  float64\n",
      " 45  rougher.output.concentrate_pb                       14149 non-null  float64\n",
      " 46  rougher.output.concentrate_sol                      14127 non-null  float64\n",
      " 47  rougher.output.concentrate_au                       14149 non-null  float64\n",
      " 48  rougher.output.recovery                             14149 non-null  float64\n",
      " 49  rougher.output.tail_ag                              14148 non-null  float64\n",
      " 50  rougher.output.tail_pb                              14149 non-null  float64\n",
      " 51  rougher.output.tail_sol                             14149 non-null  float64\n",
      " 52  rougher.output.tail_au                              14149 non-null  float64\n",
      " 53  rougher.state.floatbank10_a_air                     14148 non-null  float64\n",
      " 54  rougher.state.floatbank10_a_level                   14148 non-null  float64\n",
      " 55  rougher.state.floatbank10_b_air                     14148 non-null  float64\n",
      " 56  rougher.state.floatbank10_b_level                   14148 non-null  float64\n",
      " 57  rougher.state.floatbank10_c_air                     14148 non-null  float64\n",
      " 58  rougher.state.floatbank10_c_level                   14148 non-null  float64\n",
      " 59  rougher.state.floatbank10_d_air                     14149 non-null  float64\n",
      " 60  rougher.state.floatbank10_d_level                   14149 non-null  float64\n",
      " 61  rougher.state.floatbank10_e_air                     13713 non-null  float64\n",
      " 62  rougher.state.floatbank10_e_level                   14149 non-null  float64\n",
      " 63  rougher.state.floatbank10_f_air                     14149 non-null  float64\n",
      " 64  rougher.state.floatbank10_f_level                   14149 non-null  float64\n",
      " 65  secondary_cleaner.output.tail_ag                    14147 non-null  float64\n",
      " 66  secondary_cleaner.output.tail_pb                    14139 non-null  float64\n",
      " 67  secondary_cleaner.output.tail_sol                   12544 non-null  float64\n",
      " 68  secondary_cleaner.output.tail_au                    14149 non-null  float64\n",
      " 69  secondary_cleaner.state.floatbank2_a_air            13932 non-null  float64\n",
      " 70  secondary_cleaner.state.floatbank2_a_level          14148 non-null  float64\n",
      " 71  secondary_cleaner.state.floatbank2_b_air            14128 non-null  float64\n",
      " 72  secondary_cleaner.state.floatbank2_b_level          14148 non-null  float64\n",
      " 73  secondary_cleaner.state.floatbank3_a_air            14145 non-null  float64\n",
      " 74  secondary_cleaner.state.floatbank3_a_level          14148 non-null  float64\n",
      " 75  secondary_cleaner.state.floatbank3_b_air            14148 non-null  float64\n",
      " 76  secondary_cleaner.state.floatbank3_b_level          14148 non-null  float64\n",
      " 77  secondary_cleaner.state.floatbank4_a_air            14143 non-null  float64\n",
      " 78  secondary_cleaner.state.floatbank4_a_level          14148 non-null  float64\n",
      " 79  secondary_cleaner.state.floatbank4_b_air            14148 non-null  float64\n",
      " 80  secondary_cleaner.state.floatbank4_b_level          14148 non-null  float64\n",
      " 81  secondary_cleaner.state.floatbank5_a_air            14148 non-null  float64\n",
      " 82  secondary_cleaner.state.floatbank5_a_level          14148 non-null  float64\n",
      " 83  secondary_cleaner.state.floatbank5_b_air            14148 non-null  float64\n",
      " 84  secondary_cleaner.state.floatbank5_b_level          14148 non-null  float64\n",
      " 85  secondary_cleaner.state.floatbank6_a_air            14147 non-null  float64\n",
      " 86  secondary_cleaner.state.floatbank6_a_level          14148 non-null  float64\n",
      "dtypes: float64(86), object(1)\n",
      "memory usage: 9.4+ MB\n",
      "None\n"
     ]
    },
    {
     "data": {
      "text/html": [
       "<div>\n",
       "<style scoped>\n",
       "    .dataframe tbody tr th:only-of-type {\n",
       "        vertical-align: middle;\n",
       "    }\n",
       "\n",
       "    .dataframe tbody tr th {\n",
       "        vertical-align: top;\n",
       "    }\n",
       "\n",
       "    .dataframe thead th {\n",
       "        text-align: right;\n",
       "    }\n",
       "</style>\n",
       "<table border=\"1\" class=\"dataframe\">\n",
       "  <thead>\n",
       "    <tr style=\"text-align: right;\">\n",
       "      <th></th>\n",
       "      <th>date</th>\n",
       "      <th>primary_cleaner.input.sulfate</th>\n",
       "      <th>primary_cleaner.input.depressant</th>\n",
       "      <th>primary_cleaner.input.feed_size</th>\n",
       "      <th>primary_cleaner.input.xanthate</th>\n",
       "      <th>primary_cleaner.state.floatbank8_a_air</th>\n",
       "      <th>primary_cleaner.state.floatbank8_a_level</th>\n",
       "      <th>primary_cleaner.state.floatbank8_b_air</th>\n",
       "      <th>primary_cleaner.state.floatbank8_b_level</th>\n",
       "      <th>primary_cleaner.state.floatbank8_c_air</th>\n",
       "      <th>...</th>\n",
       "      <th>secondary_cleaner.state.floatbank4_a_air</th>\n",
       "      <th>secondary_cleaner.state.floatbank4_a_level</th>\n",
       "      <th>secondary_cleaner.state.floatbank4_b_air</th>\n",
       "      <th>secondary_cleaner.state.floatbank4_b_level</th>\n",
       "      <th>secondary_cleaner.state.floatbank5_a_air</th>\n",
       "      <th>secondary_cleaner.state.floatbank5_a_level</th>\n",
       "      <th>secondary_cleaner.state.floatbank5_b_air</th>\n",
       "      <th>secondary_cleaner.state.floatbank5_b_level</th>\n",
       "      <th>secondary_cleaner.state.floatbank6_a_air</th>\n",
       "      <th>secondary_cleaner.state.floatbank6_a_level</th>\n",
       "    </tr>\n",
       "  </thead>\n",
       "  <tbody>\n",
       "    <tr>\n",
       "      <th>0</th>\n",
       "      <td>2016-09-01 00:59:59</td>\n",
       "      <td>210.800909</td>\n",
       "      <td>14.993118</td>\n",
       "      <td>8.080000</td>\n",
       "      <td>1.005021</td>\n",
       "      <td>1398.981301</td>\n",
       "      <td>-500.225577</td>\n",
       "      <td>1399.144926</td>\n",
       "      <td>-499.919735</td>\n",
       "      <td>1400.102998</td>\n",
       "      <td>...</td>\n",
       "      <td>12.023554</td>\n",
       "      <td>-497.795834</td>\n",
       "      <td>8.016656</td>\n",
       "      <td>-501.289139</td>\n",
       "      <td>7.946562</td>\n",
       "      <td>-432.317850</td>\n",
       "      <td>4.872511</td>\n",
       "      <td>-500.037437</td>\n",
       "      <td>26.705889</td>\n",
       "      <td>-499.709414</td>\n",
       "    </tr>\n",
       "    <tr>\n",
       "      <th>1</th>\n",
       "      <td>2016-09-01 01:59:59</td>\n",
       "      <td>215.392455</td>\n",
       "      <td>14.987471</td>\n",
       "      <td>8.080000</td>\n",
       "      <td>0.990469</td>\n",
       "      <td>1398.777912</td>\n",
       "      <td>-500.057435</td>\n",
       "      <td>1398.055362</td>\n",
       "      <td>-499.778182</td>\n",
       "      <td>1396.151033</td>\n",
       "      <td>...</td>\n",
       "      <td>12.058140</td>\n",
       "      <td>-498.695773</td>\n",
       "      <td>8.130979</td>\n",
       "      <td>-499.634209</td>\n",
       "      <td>7.958270</td>\n",
       "      <td>-525.839648</td>\n",
       "      <td>4.878850</td>\n",
       "      <td>-500.162375</td>\n",
       "      <td>25.019940</td>\n",
       "      <td>-499.819438</td>\n",
       "    </tr>\n",
       "    <tr>\n",
       "      <th>2</th>\n",
       "      <td>2016-09-01 02:59:59</td>\n",
       "      <td>215.259946</td>\n",
       "      <td>12.884934</td>\n",
       "      <td>7.786667</td>\n",
       "      <td>0.996043</td>\n",
       "      <td>1398.493666</td>\n",
       "      <td>-500.868360</td>\n",
       "      <td>1398.860436</td>\n",
       "      <td>-499.764529</td>\n",
       "      <td>1398.075709</td>\n",
       "      <td>...</td>\n",
       "      <td>11.962366</td>\n",
       "      <td>-498.767484</td>\n",
       "      <td>8.096893</td>\n",
       "      <td>-500.827423</td>\n",
       "      <td>8.071056</td>\n",
       "      <td>-500.801673</td>\n",
       "      <td>4.905125</td>\n",
       "      <td>-499.828510</td>\n",
       "      <td>24.994862</td>\n",
       "      <td>-500.622559</td>\n",
       "    </tr>\n",
       "    <tr>\n",
       "      <th>3</th>\n",
       "      <td>2016-09-01 03:59:59</td>\n",
       "      <td>215.336236</td>\n",
       "      <td>12.006805</td>\n",
       "      <td>7.640000</td>\n",
       "      <td>0.863514</td>\n",
       "      <td>1399.618111</td>\n",
       "      <td>-498.863574</td>\n",
       "      <td>1397.440120</td>\n",
       "      <td>-499.211024</td>\n",
       "      <td>1400.129303</td>\n",
       "      <td>...</td>\n",
       "      <td>12.033091</td>\n",
       "      <td>-498.350935</td>\n",
       "      <td>8.074946</td>\n",
       "      <td>-499.474407</td>\n",
       "      <td>7.897085</td>\n",
       "      <td>-500.868509</td>\n",
       "      <td>4.931400</td>\n",
       "      <td>-499.963623</td>\n",
       "      <td>24.948919</td>\n",
       "      <td>-498.709987</td>\n",
       "    </tr>\n",
       "    <tr>\n",
       "      <th>4</th>\n",
       "      <td>2016-09-01 04:59:59</td>\n",
       "      <td>199.099327</td>\n",
       "      <td>10.682530</td>\n",
       "      <td>7.530000</td>\n",
       "      <td>0.805575</td>\n",
       "      <td>1401.268123</td>\n",
       "      <td>-500.808305</td>\n",
       "      <td>1398.128818</td>\n",
       "      <td>-499.504543</td>\n",
       "      <td>1402.172226</td>\n",
       "      <td>...</td>\n",
       "      <td>12.025367</td>\n",
       "      <td>-500.786497</td>\n",
       "      <td>8.054678</td>\n",
       "      <td>-500.397500</td>\n",
       "      <td>8.107890</td>\n",
       "      <td>-509.526725</td>\n",
       "      <td>4.957674</td>\n",
       "      <td>-500.360026</td>\n",
       "      <td>25.003331</td>\n",
       "      <td>-500.856333</td>\n",
       "    </tr>\n",
       "  </tbody>\n",
       "</table>\n",
       "<p>5 rows × 53 columns</p>\n",
       "</div>"
      ],
      "text/plain": [
       "                  date  primary_cleaner.input.sulfate  \\\n",
       "0  2016-09-01 00:59:59                     210.800909   \n",
       "1  2016-09-01 01:59:59                     215.392455   \n",
       "2  2016-09-01 02:59:59                     215.259946   \n",
       "3  2016-09-01 03:59:59                     215.336236   \n",
       "4  2016-09-01 04:59:59                     199.099327   \n",
       "\n",
       "   primary_cleaner.input.depressant  primary_cleaner.input.feed_size  \\\n",
       "0                         14.993118                         8.080000   \n",
       "1                         14.987471                         8.080000   \n",
       "2                         12.884934                         7.786667   \n",
       "3                         12.006805                         7.640000   \n",
       "4                         10.682530                         7.530000   \n",
       "\n",
       "   primary_cleaner.input.xanthate  primary_cleaner.state.floatbank8_a_air  \\\n",
       "0                        1.005021                             1398.981301   \n",
       "1                        0.990469                             1398.777912   \n",
       "2                        0.996043                             1398.493666   \n",
       "3                        0.863514                             1399.618111   \n",
       "4                        0.805575                             1401.268123   \n",
       "\n",
       "   primary_cleaner.state.floatbank8_a_level  \\\n",
       "0                               -500.225577   \n",
       "1                               -500.057435   \n",
       "2                               -500.868360   \n",
       "3                               -498.863574   \n",
       "4                               -500.808305   \n",
       "\n",
       "   primary_cleaner.state.floatbank8_b_air  \\\n",
       "0                             1399.144926   \n",
       "1                             1398.055362   \n",
       "2                             1398.860436   \n",
       "3                             1397.440120   \n",
       "4                             1398.128818   \n",
       "\n",
       "   primary_cleaner.state.floatbank8_b_level  \\\n",
       "0                               -499.919735   \n",
       "1                               -499.778182   \n",
       "2                               -499.764529   \n",
       "3                               -499.211024   \n",
       "4                               -499.504543   \n",
       "\n",
       "   primary_cleaner.state.floatbank8_c_air  ...  \\\n",
       "0                             1400.102998  ...   \n",
       "1                             1396.151033  ...   \n",
       "2                             1398.075709  ...   \n",
       "3                             1400.129303  ...   \n",
       "4                             1402.172226  ...   \n",
       "\n",
       "   secondary_cleaner.state.floatbank4_a_air  \\\n",
       "0                                 12.023554   \n",
       "1                                 12.058140   \n",
       "2                                 11.962366   \n",
       "3                                 12.033091   \n",
       "4                                 12.025367   \n",
       "\n",
       "   secondary_cleaner.state.floatbank4_a_level  \\\n",
       "0                                 -497.795834   \n",
       "1                                 -498.695773   \n",
       "2                                 -498.767484   \n",
       "3                                 -498.350935   \n",
       "4                                 -500.786497   \n",
       "\n",
       "   secondary_cleaner.state.floatbank4_b_air  \\\n",
       "0                                  8.016656   \n",
       "1                                  8.130979   \n",
       "2                                  8.096893   \n",
       "3                                  8.074946   \n",
       "4                                  8.054678   \n",
       "\n",
       "   secondary_cleaner.state.floatbank4_b_level  \\\n",
       "0                                 -501.289139   \n",
       "1                                 -499.634209   \n",
       "2                                 -500.827423   \n",
       "3                                 -499.474407   \n",
       "4                                 -500.397500   \n",
       "\n",
       "   secondary_cleaner.state.floatbank5_a_air  \\\n",
       "0                                  7.946562   \n",
       "1                                  7.958270   \n",
       "2                                  8.071056   \n",
       "3                                  7.897085   \n",
       "4                                  8.107890   \n",
       "\n",
       "   secondary_cleaner.state.floatbank5_a_level  \\\n",
       "0                                 -432.317850   \n",
       "1                                 -525.839648   \n",
       "2                                 -500.801673   \n",
       "3                                 -500.868509   \n",
       "4                                 -509.526725   \n",
       "\n",
       "   secondary_cleaner.state.floatbank5_b_air  \\\n",
       "0                                  4.872511   \n",
       "1                                  4.878850   \n",
       "2                                  4.905125   \n",
       "3                                  4.931400   \n",
       "4                                  4.957674   \n",
       "\n",
       "   secondary_cleaner.state.floatbank5_b_level  \\\n",
       "0                                 -500.037437   \n",
       "1                                 -500.162375   \n",
       "2                                 -499.828510   \n",
       "3                                 -499.963623   \n",
       "4                                 -500.360026   \n",
       "\n",
       "   secondary_cleaner.state.floatbank6_a_air  \\\n",
       "0                                 26.705889   \n",
       "1                                 25.019940   \n",
       "2                                 24.994862   \n",
       "3                                 24.948919   \n",
       "4                                 25.003331   \n",
       "\n",
       "   secondary_cleaner.state.floatbank6_a_level  \n",
       "0                                 -499.709414  \n",
       "1                                 -499.819438  \n",
       "2                                 -500.622559  \n",
       "3                                 -498.709987  \n",
       "4                                 -500.856333  \n",
       "\n",
       "[5 rows x 53 columns]"
      ]
     },
     "metadata": {},
     "output_type": "display_data"
    },
    {
     "name": "stdout",
     "output_type": "stream",
     "text": [
      "<class 'pandas.core.frame.DataFrame'>\n",
      "RangeIndex: 5290 entries, 0 to 5289\n",
      "Data columns (total 53 columns):\n",
      " #   Column                                      Non-Null Count  Dtype  \n",
      "---  ------                                      --------------  -----  \n",
      " 0   date                                        5290 non-null   object \n",
      " 1   primary_cleaner.input.sulfate               5286 non-null   float64\n",
      " 2   primary_cleaner.input.depressant            5285 non-null   float64\n",
      " 3   primary_cleaner.input.feed_size             5290 non-null   float64\n",
      " 4   primary_cleaner.input.xanthate              5286 non-null   float64\n",
      " 5   primary_cleaner.state.floatbank8_a_air      5290 non-null   float64\n",
      " 6   primary_cleaner.state.floatbank8_a_level    5290 non-null   float64\n",
      " 7   primary_cleaner.state.floatbank8_b_air      5290 non-null   float64\n",
      " 8   primary_cleaner.state.floatbank8_b_level    5290 non-null   float64\n",
      " 9   primary_cleaner.state.floatbank8_c_air      5290 non-null   float64\n",
      " 10  primary_cleaner.state.floatbank8_c_level    5290 non-null   float64\n",
      " 11  primary_cleaner.state.floatbank8_d_air      5290 non-null   float64\n",
      " 12  primary_cleaner.state.floatbank8_d_level    5290 non-null   float64\n",
      " 13  rougher.input.feed_ag                       5290 non-null   float64\n",
      " 14  rougher.input.feed_pb                       5290 non-null   float64\n",
      " 15  rougher.input.feed_rate                     5287 non-null   float64\n",
      " 16  rougher.input.feed_size                     5289 non-null   float64\n",
      " 17  rougher.input.feed_sol                      5269 non-null   float64\n",
      " 18  rougher.input.feed_au                       5290 non-null   float64\n",
      " 19  rougher.input.floatbank10_sulfate           5285 non-null   float64\n",
      " 20  rougher.input.floatbank10_xanthate          5290 non-null   float64\n",
      " 21  rougher.input.floatbank11_sulfate           5282 non-null   float64\n",
      " 22  rougher.input.floatbank11_xanthate          5265 non-null   float64\n",
      " 23  rougher.state.floatbank10_a_air             5290 non-null   float64\n",
      " 24  rougher.state.floatbank10_a_level           5290 non-null   float64\n",
      " 25  rougher.state.floatbank10_b_air             5290 non-null   float64\n",
      " 26  rougher.state.floatbank10_b_level           5290 non-null   float64\n",
      " 27  rougher.state.floatbank10_c_air             5290 non-null   float64\n",
      " 28  rougher.state.floatbank10_c_level           5290 non-null   float64\n",
      " 29  rougher.state.floatbank10_d_air             5290 non-null   float64\n",
      " 30  rougher.state.floatbank10_d_level           5290 non-null   float64\n",
      " 31  rougher.state.floatbank10_e_air             5290 non-null   float64\n",
      " 32  rougher.state.floatbank10_e_level           5290 non-null   float64\n",
      " 33  rougher.state.floatbank10_f_air             5290 non-null   float64\n",
      " 34  rougher.state.floatbank10_f_level           5290 non-null   float64\n",
      " 35  secondary_cleaner.state.floatbank2_a_air    5287 non-null   float64\n",
      " 36  secondary_cleaner.state.floatbank2_a_level  5290 non-null   float64\n",
      " 37  secondary_cleaner.state.floatbank2_b_air    5288 non-null   float64\n",
      " 38  secondary_cleaner.state.floatbank2_b_level  5290 non-null   float64\n",
      " 39  secondary_cleaner.state.floatbank3_a_air    5281 non-null   float64\n",
      " 40  secondary_cleaner.state.floatbank3_a_level  5290 non-null   float64\n",
      " 41  secondary_cleaner.state.floatbank3_b_air    5290 non-null   float64\n",
      " 42  secondary_cleaner.state.floatbank3_b_level  5290 non-null   float64\n",
      " 43  secondary_cleaner.state.floatbank4_a_air    5290 non-null   float64\n",
      " 44  secondary_cleaner.state.floatbank4_a_level  5290 non-null   float64\n",
      " 45  secondary_cleaner.state.floatbank4_b_air    5290 non-null   float64\n",
      " 46  secondary_cleaner.state.floatbank4_b_level  5290 non-null   float64\n",
      " 47  secondary_cleaner.state.floatbank5_a_air    5290 non-null   float64\n",
      " 48  secondary_cleaner.state.floatbank5_a_level  5290 non-null   float64\n",
      " 49  secondary_cleaner.state.floatbank5_b_air    5290 non-null   float64\n",
      " 50  secondary_cleaner.state.floatbank5_b_level  5290 non-null   float64\n",
      " 51  secondary_cleaner.state.floatbank6_a_air    5290 non-null   float64\n",
      " 52  secondary_cleaner.state.floatbank6_a_level  5290 non-null   float64\n",
      "dtypes: float64(52), object(1)\n",
      "memory usage: 2.1+ MB\n",
      "None\n"
     ]
    },
    {
     "data": {
      "text/html": [
       "<div>\n",
       "<style scoped>\n",
       "    .dataframe tbody tr th:only-of-type {\n",
       "        vertical-align: middle;\n",
       "    }\n",
       "\n",
       "    .dataframe tbody tr th {\n",
       "        vertical-align: top;\n",
       "    }\n",
       "\n",
       "    .dataframe thead th {\n",
       "        text-align: right;\n",
       "    }\n",
       "</style>\n",
       "<table border=\"1\" class=\"dataframe\">\n",
       "  <thead>\n",
       "    <tr style=\"text-align: right;\">\n",
       "      <th></th>\n",
       "      <th>date</th>\n",
       "      <th>final.output.concentrate_ag</th>\n",
       "      <th>final.output.concentrate_pb</th>\n",
       "      <th>final.output.concentrate_sol</th>\n",
       "      <th>final.output.concentrate_au</th>\n",
       "      <th>final.output.recovery</th>\n",
       "      <th>final.output.tail_ag</th>\n",
       "      <th>final.output.tail_pb</th>\n",
       "      <th>final.output.tail_sol</th>\n",
       "      <th>final.output.tail_au</th>\n",
       "      <th>...</th>\n",
       "      <th>secondary_cleaner.state.floatbank4_a_air</th>\n",
       "      <th>secondary_cleaner.state.floatbank4_a_level</th>\n",
       "      <th>secondary_cleaner.state.floatbank4_b_air</th>\n",
       "      <th>secondary_cleaner.state.floatbank4_b_level</th>\n",
       "      <th>secondary_cleaner.state.floatbank5_a_air</th>\n",
       "      <th>secondary_cleaner.state.floatbank5_a_level</th>\n",
       "      <th>secondary_cleaner.state.floatbank5_b_air</th>\n",
       "      <th>secondary_cleaner.state.floatbank5_b_level</th>\n",
       "      <th>secondary_cleaner.state.floatbank6_a_air</th>\n",
       "      <th>secondary_cleaner.state.floatbank6_a_level</th>\n",
       "    </tr>\n",
       "  </thead>\n",
       "  <tbody>\n",
       "    <tr>\n",
       "      <th>0</th>\n",
       "      <td>2016-01-15 00:00:00</td>\n",
       "      <td>6.055403</td>\n",
       "      <td>9.889648</td>\n",
       "      <td>5.507324</td>\n",
       "      <td>42.192020</td>\n",
       "      <td>70.541216</td>\n",
       "      <td>10.411962</td>\n",
       "      <td>0.895447</td>\n",
       "      <td>16.904297</td>\n",
       "      <td>2.143149</td>\n",
       "      <td>...</td>\n",
       "      <td>14.016835</td>\n",
       "      <td>-502.488007</td>\n",
       "      <td>12.099931</td>\n",
       "      <td>-504.715942</td>\n",
       "      <td>9.925633</td>\n",
       "      <td>-498.310211</td>\n",
       "      <td>8.079666</td>\n",
       "      <td>-500.470978</td>\n",
       "      <td>14.151341</td>\n",
       "      <td>-605.841980</td>\n",
       "    </tr>\n",
       "    <tr>\n",
       "      <th>1</th>\n",
       "      <td>2016-01-15 01:00:00</td>\n",
       "      <td>6.029369</td>\n",
       "      <td>9.968944</td>\n",
       "      <td>5.257781</td>\n",
       "      <td>42.701629</td>\n",
       "      <td>69.266198</td>\n",
       "      <td>10.462676</td>\n",
       "      <td>0.927452</td>\n",
       "      <td>16.634514</td>\n",
       "      <td>2.224930</td>\n",
       "      <td>...</td>\n",
       "      <td>13.992281</td>\n",
       "      <td>-505.503262</td>\n",
       "      <td>11.950531</td>\n",
       "      <td>-501.331529</td>\n",
       "      <td>10.039245</td>\n",
       "      <td>-500.169983</td>\n",
       "      <td>7.984757</td>\n",
       "      <td>-500.582168</td>\n",
       "      <td>13.998353</td>\n",
       "      <td>-599.787184</td>\n",
       "    </tr>\n",
       "    <tr>\n",
       "      <th>2</th>\n",
       "      <td>2016-01-15 02:00:00</td>\n",
       "      <td>6.055926</td>\n",
       "      <td>10.213995</td>\n",
       "      <td>5.383759</td>\n",
       "      <td>42.657501</td>\n",
       "      <td>68.116445</td>\n",
       "      <td>10.507046</td>\n",
       "      <td>0.953716</td>\n",
       "      <td>16.208849</td>\n",
       "      <td>2.257889</td>\n",
       "      <td>...</td>\n",
       "      <td>14.015015</td>\n",
       "      <td>-502.520901</td>\n",
       "      <td>11.912783</td>\n",
       "      <td>-501.133383</td>\n",
       "      <td>10.070913</td>\n",
       "      <td>-500.129135</td>\n",
       "      <td>8.013877</td>\n",
       "      <td>-500.517572</td>\n",
       "      <td>14.028663</td>\n",
       "      <td>-601.427363</td>\n",
       "    </tr>\n",
       "    <tr>\n",
       "      <th>3</th>\n",
       "      <td>2016-01-15 03:00:00</td>\n",
       "      <td>6.047977</td>\n",
       "      <td>9.977019</td>\n",
       "      <td>4.858634</td>\n",
       "      <td>42.689819</td>\n",
       "      <td>68.347543</td>\n",
       "      <td>10.422762</td>\n",
       "      <td>0.883763</td>\n",
       "      <td>16.532835</td>\n",
       "      <td>2.146849</td>\n",
       "      <td>...</td>\n",
       "      <td>14.036510</td>\n",
       "      <td>-500.857308</td>\n",
       "      <td>11.999550</td>\n",
       "      <td>-501.193686</td>\n",
       "      <td>9.970366</td>\n",
       "      <td>-499.201640</td>\n",
       "      <td>7.977324</td>\n",
       "      <td>-500.255908</td>\n",
       "      <td>14.005551</td>\n",
       "      <td>-599.996129</td>\n",
       "    </tr>\n",
       "    <tr>\n",
       "      <th>4</th>\n",
       "      <td>2016-01-15 04:00:00</td>\n",
       "      <td>6.148599</td>\n",
       "      <td>10.142511</td>\n",
       "      <td>4.939416</td>\n",
       "      <td>42.774141</td>\n",
       "      <td>66.927016</td>\n",
       "      <td>10.360302</td>\n",
       "      <td>0.792826</td>\n",
       "      <td>16.525686</td>\n",
       "      <td>2.055292</td>\n",
       "      <td>...</td>\n",
       "      <td>14.027298</td>\n",
       "      <td>-499.838632</td>\n",
       "      <td>11.953070</td>\n",
       "      <td>-501.053894</td>\n",
       "      <td>9.925709</td>\n",
       "      <td>-501.686727</td>\n",
       "      <td>7.894242</td>\n",
       "      <td>-500.356035</td>\n",
       "      <td>13.996647</td>\n",
       "      <td>-601.496691</td>\n",
       "    </tr>\n",
       "  </tbody>\n",
       "</table>\n",
       "<p>5 rows × 87 columns</p>\n",
       "</div>"
      ],
      "text/plain": [
       "                  date  final.output.concentrate_ag  \\\n",
       "0  2016-01-15 00:00:00                     6.055403   \n",
       "1  2016-01-15 01:00:00                     6.029369   \n",
       "2  2016-01-15 02:00:00                     6.055926   \n",
       "3  2016-01-15 03:00:00                     6.047977   \n",
       "4  2016-01-15 04:00:00                     6.148599   \n",
       "\n",
       "   final.output.concentrate_pb  final.output.concentrate_sol  \\\n",
       "0                     9.889648                      5.507324   \n",
       "1                     9.968944                      5.257781   \n",
       "2                    10.213995                      5.383759   \n",
       "3                     9.977019                      4.858634   \n",
       "4                    10.142511                      4.939416   \n",
       "\n",
       "   final.output.concentrate_au  final.output.recovery  final.output.tail_ag  \\\n",
       "0                    42.192020              70.541216             10.411962   \n",
       "1                    42.701629              69.266198             10.462676   \n",
       "2                    42.657501              68.116445             10.507046   \n",
       "3                    42.689819              68.347543             10.422762   \n",
       "4                    42.774141              66.927016             10.360302   \n",
       "\n",
       "   final.output.tail_pb  final.output.tail_sol  final.output.tail_au  ...  \\\n",
       "0              0.895447              16.904297              2.143149  ...   \n",
       "1              0.927452              16.634514              2.224930  ...   \n",
       "2              0.953716              16.208849              2.257889  ...   \n",
       "3              0.883763              16.532835              2.146849  ...   \n",
       "4              0.792826              16.525686              2.055292  ...   \n",
       "\n",
       "   secondary_cleaner.state.floatbank4_a_air  \\\n",
       "0                                 14.016835   \n",
       "1                                 13.992281   \n",
       "2                                 14.015015   \n",
       "3                                 14.036510   \n",
       "4                                 14.027298   \n",
       "\n",
       "   secondary_cleaner.state.floatbank4_a_level  \\\n",
       "0                                 -502.488007   \n",
       "1                                 -505.503262   \n",
       "2                                 -502.520901   \n",
       "3                                 -500.857308   \n",
       "4                                 -499.838632   \n",
       "\n",
       "   secondary_cleaner.state.floatbank4_b_air  \\\n",
       "0                                 12.099931   \n",
       "1                                 11.950531   \n",
       "2                                 11.912783   \n",
       "3                                 11.999550   \n",
       "4                                 11.953070   \n",
       "\n",
       "   secondary_cleaner.state.floatbank4_b_level  \\\n",
       "0                                 -504.715942   \n",
       "1                                 -501.331529   \n",
       "2                                 -501.133383   \n",
       "3                                 -501.193686   \n",
       "4                                 -501.053894   \n",
       "\n",
       "   secondary_cleaner.state.floatbank5_a_air  \\\n",
       "0                                  9.925633   \n",
       "1                                 10.039245   \n",
       "2                                 10.070913   \n",
       "3                                  9.970366   \n",
       "4                                  9.925709   \n",
       "\n",
       "   secondary_cleaner.state.floatbank5_a_level  \\\n",
       "0                                 -498.310211   \n",
       "1                                 -500.169983   \n",
       "2                                 -500.129135   \n",
       "3                                 -499.201640   \n",
       "4                                 -501.686727   \n",
       "\n",
       "   secondary_cleaner.state.floatbank5_b_air  \\\n",
       "0                                  8.079666   \n",
       "1                                  7.984757   \n",
       "2                                  8.013877   \n",
       "3                                  7.977324   \n",
       "4                                  7.894242   \n",
       "\n",
       "   secondary_cleaner.state.floatbank5_b_level  \\\n",
       "0                                 -500.470978   \n",
       "1                                 -500.582168   \n",
       "2                                 -500.517572   \n",
       "3                                 -500.255908   \n",
       "4                                 -500.356035   \n",
       "\n",
       "   secondary_cleaner.state.floatbank6_a_air  \\\n",
       "0                                 14.151341   \n",
       "1                                 13.998353   \n",
       "2                                 14.028663   \n",
       "3                                 14.005551   \n",
       "4                                 13.996647   \n",
       "\n",
       "   secondary_cleaner.state.floatbank6_a_level  \n",
       "0                                 -605.841980  \n",
       "1                                 -599.787184  \n",
       "2                                 -601.427363  \n",
       "3                                 -599.996129  \n",
       "4                                 -601.496691  \n",
       "\n",
       "[5 rows x 87 columns]"
      ]
     },
     "metadata": {},
     "output_type": "display_data"
    },
    {
     "name": "stdout",
     "output_type": "stream",
     "text": [
      "<class 'pandas.core.frame.DataFrame'>\n",
      "RangeIndex: 19439 entries, 0 to 19438\n",
      "Data columns (total 87 columns):\n",
      " #   Column                                              Non-Null Count  Dtype  \n",
      "---  ------                                              --------------  -----  \n",
      " 0   date                                                19439 non-null  object \n",
      " 1   final.output.concentrate_ag                         19438 non-null  float64\n",
      " 2   final.output.concentrate_pb                         19438 non-null  float64\n",
      " 3   final.output.concentrate_sol                        19228 non-null  float64\n",
      " 4   final.output.concentrate_au                         19439 non-null  float64\n",
      " 5   final.output.recovery                               19439 non-null  float64\n",
      " 6   final.output.tail_ag                                19438 non-null  float64\n",
      " 7   final.output.tail_pb                                19338 non-null  float64\n",
      " 8   final.output.tail_sol                               19433 non-null  float64\n",
      " 9   final.output.tail_au                                19439 non-null  float64\n",
      " 10  primary_cleaner.input.sulfate                       19415 non-null  float64\n",
      " 11  primary_cleaner.input.depressant                    19402 non-null  float64\n",
      " 12  primary_cleaner.input.feed_size                     19439 non-null  float64\n",
      " 13  primary_cleaner.input.xanthate                      19335 non-null  float64\n",
      " 14  primary_cleaner.output.concentrate_ag               19439 non-null  float64\n",
      " 15  primary_cleaner.output.concentrate_pb               19323 non-null  float64\n",
      " 16  primary_cleaner.output.concentrate_sol              19069 non-null  float64\n",
      " 17  primary_cleaner.output.concentrate_au               19439 non-null  float64\n",
      " 18  primary_cleaner.output.tail_ag                      19435 non-null  float64\n",
      " 19  primary_cleaner.output.tail_pb                      19418 non-null  float64\n",
      " 20  primary_cleaner.output.tail_sol                     19377 non-null  float64\n",
      " 21  primary_cleaner.output.tail_au                      19439 non-null  float64\n",
      " 22  primary_cleaner.state.floatbank8_a_air              19435 non-null  float64\n",
      " 23  primary_cleaner.state.floatbank8_a_level            19438 non-null  float64\n",
      " 24  primary_cleaner.state.floatbank8_b_air              19435 non-null  float64\n",
      " 25  primary_cleaner.state.floatbank8_b_level            19438 non-null  float64\n",
      " 26  primary_cleaner.state.floatbank8_c_air              19437 non-null  float64\n",
      " 27  primary_cleaner.state.floatbank8_c_level            19438 non-null  float64\n",
      " 28  primary_cleaner.state.floatbank8_d_air              19436 non-null  float64\n",
      " 29  primary_cleaner.state.floatbank8_d_level            19438 non-null  float64\n",
      " 30  rougher.calculation.sulfate_to_au_concentrate       19437 non-null  float64\n",
      " 31  rougher.calculation.floatbank10_sulfate_to_au_feed  19437 non-null  float64\n",
      " 32  rougher.calculation.floatbank11_sulfate_to_au_feed  19437 non-null  float64\n",
      " 33  rougher.calculation.au_pb_ratio                     19439 non-null  float64\n",
      " 34  rougher.input.feed_ag                               19439 non-null  float64\n",
      " 35  rougher.input.feed_pb                               19339 non-null  float64\n",
      " 36  rougher.input.feed_rate                             19428 non-null  float64\n",
      " 37  rougher.input.feed_size                             19294 non-null  float64\n",
      " 38  rougher.input.feed_sol                              19340 non-null  float64\n",
      " 39  rougher.input.feed_au                               19439 non-null  float64\n",
      " 40  rougher.input.floatbank10_sulfate                   19405 non-null  float64\n",
      " 41  rougher.input.floatbank10_xanthate                  19431 non-null  float64\n",
      " 42  rougher.input.floatbank11_sulfate                   19395 non-null  float64\n",
      " 43  rougher.input.floatbank11_xanthate                  18986 non-null  float64\n",
      " 44  rougher.output.concentrate_ag                       19439 non-null  float64\n",
      " 45  rougher.output.concentrate_pb                       19439 non-null  float64\n",
      " 46  rougher.output.concentrate_sol                      19416 non-null  float64\n",
      " 47  rougher.output.concentrate_au                       19439 non-null  float64\n",
      " 48  rougher.output.recovery                             19439 non-null  float64\n",
      " 49  rougher.output.tail_ag                              19438 non-null  float64\n",
      " 50  rougher.output.tail_pb                              19439 non-null  float64\n",
      " 51  rougher.output.tail_sol                             19439 non-null  float64\n",
      " 52  rougher.output.tail_au                              19439 non-null  float64\n",
      " 53  rougher.state.floatbank10_a_air                     19438 non-null  float64\n",
      " 54  rougher.state.floatbank10_a_level                   19438 non-null  float64\n",
      " 55  rougher.state.floatbank10_b_air                     19438 non-null  float64\n",
      " 56  rougher.state.floatbank10_b_level                   19438 non-null  float64\n",
      " 57  rougher.state.floatbank10_c_air                     19438 non-null  float64\n",
      " 58  rougher.state.floatbank10_c_level                   19438 non-null  float64\n",
      " 59  rougher.state.floatbank10_d_air                     19439 non-null  float64\n",
      " 60  rougher.state.floatbank10_d_level                   19439 non-null  float64\n",
      " 61  rougher.state.floatbank10_e_air                     19003 non-null  float64\n",
      " 62  rougher.state.floatbank10_e_level                   19439 non-null  float64\n",
      " 63  rougher.state.floatbank10_f_air                     19439 non-null  float64\n",
      " 64  rougher.state.floatbank10_f_level                   19439 non-null  float64\n",
      " 65  secondary_cleaner.output.tail_ag                    19437 non-null  float64\n",
      " 66  secondary_cleaner.output.tail_pb                    19427 non-null  float64\n",
      " 67  secondary_cleaner.output.tail_sol                   17691 non-null  float64\n",
      " 68  secondary_cleaner.output.tail_au                    19439 non-null  float64\n",
      " 69  secondary_cleaner.state.floatbank2_a_air            19219 non-null  float64\n",
      " 70  secondary_cleaner.state.floatbank2_a_level          19438 non-null  float64\n",
      " 71  secondary_cleaner.state.floatbank2_b_air            19416 non-null  float64\n",
      " 72  secondary_cleaner.state.floatbank2_b_level          19438 non-null  float64\n",
      " 73  secondary_cleaner.state.floatbank3_a_air            19426 non-null  float64\n",
      " 74  secondary_cleaner.state.floatbank3_a_level          19438 non-null  float64\n",
      " 75  secondary_cleaner.state.floatbank3_b_air            19438 non-null  float64\n",
      " 76  secondary_cleaner.state.floatbank3_b_level          19438 non-null  float64\n",
      " 77  secondary_cleaner.state.floatbank4_a_air            19433 non-null  float64\n",
      " 78  secondary_cleaner.state.floatbank4_a_level          19438 non-null  float64\n",
      " 79  secondary_cleaner.state.floatbank4_b_air            19438 non-null  float64\n",
      " 80  secondary_cleaner.state.floatbank4_b_level          19438 non-null  float64\n",
      " 81  secondary_cleaner.state.floatbank5_a_air            19438 non-null  float64\n",
      " 82  secondary_cleaner.state.floatbank5_a_level          19438 non-null  float64\n",
      " 83  secondary_cleaner.state.floatbank5_b_air            19438 non-null  float64\n",
      " 84  secondary_cleaner.state.floatbank5_b_level          19438 non-null  float64\n",
      " 85  secondary_cleaner.state.floatbank6_a_air            19437 non-null  float64\n",
      " 86  secondary_cleaner.state.floatbank6_a_level          19438 non-null  float64\n",
      "dtypes: float64(86), object(1)\n",
      "memory usage: 12.9+ MB\n",
      "None\n"
     ]
    }
   ],
   "source": [
    "for df in dfs:\n",
    "    display(df.head())\n",
    "    print(df.info())\n",
    "    "
   ]
  },
  {
   "cell_type": "markdown",
   "id": "b412bffd",
   "metadata": {},
   "source": [
    "#### Вывод\n",
    "\n",
    "* Данные представлены в 3-х таблицах;\n",
    "* Как видно из названий столбцов, есть данные для каждого этапа очистки, эти данные в свою очередь подразделяются на данные до `input`, после `output`, данные процесса `state`.\n",
    "* Количество столбцов в тестовой выборке отличается от количества в тренировочной, в дальнейшем исследуем различия.\n",
    "* Все переменные - количественные, непрерывные, кроме даты, которая не будет фигурировать как переменная в модели."
   ]
  },
  {
   "cell_type": "markdown",
   "id": "287cd32e",
   "metadata": {},
   "source": [
    "### Проверка правильности расчёта recovery"
   ]
  },
  {
   "cell_type": "markdown",
   "id": "8716adb9",
   "metadata": {},
   "source": [
    "Напишем функцию для расчёта `recovery`:"
   ]
  },
  {
   "cell_type": "code",
   "execution_count": 5,
   "id": "e3feeb22",
   "metadata": {},
   "outputs": [],
   "source": [
    "def rougher_recovery_calc(df):\n",
    "    \n",
    "    c = df['rougher.output.concentrate_au'] # концентрация золота после флотации\n",
    "    f = df['rougher.input.feed_au'] # концентрация золота до флотации\n",
    "    t = df['rougher.output.tail_au'] # концентрация золота в отвальных хвостах после флотации\n",
    "    \n",
    "    recovery = (c * (f - t)) / (f * (c - t)) # коэффициент восстановления\n",
    "    return recovery * 100"
   ]
  },
  {
   "cell_type": "markdown",
   "id": "94afba7e",
   "metadata": {},
   "source": [
    "Посчитаем `rougher.output.recovery` - коэффициент восстановления после флотации:"
   ]
  },
  {
   "cell_type": "code",
   "execution_count": 6,
   "id": "823c6b2b",
   "metadata": {},
   "outputs": [],
   "source": [
    "df_full['rougher.output.recovery_calc'] = df_full.apply(rougher_recovery_calc, axis=1)"
   ]
  },
  {
   "cell_type": "markdown",
   "id": "9020fa5a",
   "metadata": {},
   "source": [
    "Рассчитаем `MAE` - среднюю абсолютную ошибку:"
   ]
  },
  {
   "cell_type": "code",
   "execution_count": 7,
   "id": "a5b44a50",
   "metadata": {},
   "outputs": [
    {
     "name": "stdout",
     "output_type": "stream",
     "text": [
      "MAE равно: 9.874045668302637e-15\n"
     ]
    }
   ],
   "source": [
    "mae = mean_absolute_error(df_full['rougher.output.recovery_calc'], df_full['rougher.output.recovery'])\n",
    "print(f'MAE равно: {mae}')"
   ]
  },
  {
   "cell_type": "markdown",
   "id": "cf3276c3",
   "metadata": {},
   "source": [
    "MAE пренебрежительно мало."
   ]
  },
  {
   "cell_type": "markdown",
   "id": "7837a1c8",
   "metadata": {},
   "source": [
    "#### Вывод\n",
    "\n",
    "Рассчитанное значение коэффициента восстановления после флотации совпадает с тем, что дано в таблице.\n"
   ]
  },
  {
   "cell_type": "markdown",
   "id": "13490ab0",
   "metadata": {},
   "source": [
    "### Анализ признаков"
   ]
  },
  {
   "cell_type": "markdown",
   "id": "2d278738",
   "metadata": {},
   "source": [
    "Рассмотрим признаки, которые нам не доступны в тестовой выборке:"
   ]
  },
  {
   "cell_type": "code",
   "execution_count": 8,
   "id": "6c8b1712",
   "metadata": {},
   "outputs": [
    {
     "data": {
      "text/plain": [
       "['final.output.concentrate_ag',\n",
       " 'final.output.concentrate_pb',\n",
       " 'final.output.concentrate_sol',\n",
       " 'final.output.concentrate_au',\n",
       " 'final.output.recovery',\n",
       " 'final.output.tail_ag',\n",
       " 'final.output.tail_pb',\n",
       " 'final.output.tail_sol',\n",
       " 'final.output.tail_au',\n",
       " 'primary_cleaner.output.concentrate_ag',\n",
       " 'primary_cleaner.output.concentrate_pb',\n",
       " 'primary_cleaner.output.concentrate_sol',\n",
       " 'primary_cleaner.output.concentrate_au',\n",
       " 'primary_cleaner.output.tail_ag',\n",
       " 'primary_cleaner.output.tail_pb',\n",
       " 'primary_cleaner.output.tail_sol',\n",
       " 'primary_cleaner.output.tail_au',\n",
       " 'rougher.calculation.sulfate_to_au_concentrate',\n",
       " 'rougher.calculation.floatbank10_sulfate_to_au_feed',\n",
       " 'rougher.calculation.floatbank11_sulfate_to_au_feed',\n",
       " 'rougher.calculation.au_pb_ratio',\n",
       " 'rougher.output.concentrate_ag',\n",
       " 'rougher.output.concentrate_pb',\n",
       " 'rougher.output.concentrate_sol',\n",
       " 'rougher.output.concentrate_au',\n",
       " 'rougher.output.recovery',\n",
       " 'rougher.output.tail_ag',\n",
       " 'rougher.output.tail_pb',\n",
       " 'rougher.output.tail_sol',\n",
       " 'rougher.output.tail_au',\n",
       " 'secondary_cleaner.output.tail_ag',\n",
       " 'secondary_cleaner.output.tail_pb',\n",
       " 'secondary_cleaner.output.tail_sol',\n",
       " 'secondary_cleaner.output.tail_au']"
      ]
     },
     "execution_count": 8,
     "metadata": {},
     "output_type": "execute_result"
    }
   ],
   "source": [
    "unavailable_features = []\n",
    "\n",
    "for column in df_train.columns:\n",
    "    if column not in df_test.columns:\n",
    "        unavailable_features.append(column)\n",
    "        \n",
    "unavailable_features\n"
   ]
  },
  {
   "cell_type": "markdown",
   "id": "fe59267e",
   "metadata": {},
   "source": [
    "Среди недоступных признаков:\n",
    "* Признаки типа `output` - признаки, которые являлись бы утечкой, так как от них явно зависит целевой показатель.\n",
    "* Признаки типа `calculation` - также являлись бы утечкой так как являются производным параметров, из который явно вычисляется целевой показатель.\n",
    "* `recovery` - целевой признак, естественно не доступен."
   ]
  },
  {
   "cell_type": "markdown",
   "id": "bb06d832",
   "metadata": {},
   "source": [
    "Добавим доступные признаки в отдельный список:"
   ]
  },
  {
   "cell_type": "code",
   "execution_count": 9,
   "id": "71ed3247",
   "metadata": {},
   "outputs": [
    {
     "data": {
      "text/plain": [
       "Index(['primary_cleaner.input.sulfate', 'primary_cleaner.input.depressant',\n",
       "       'primary_cleaner.input.feed_size', 'primary_cleaner.input.xanthate',\n",
       "       'primary_cleaner.state.floatbank8_a_air',\n",
       "       'primary_cleaner.state.floatbank8_a_level',\n",
       "       'primary_cleaner.state.floatbank8_b_air',\n",
       "       'primary_cleaner.state.floatbank8_b_level',\n",
       "       'primary_cleaner.state.floatbank8_c_air',\n",
       "       'primary_cleaner.state.floatbank8_c_level',\n",
       "       'primary_cleaner.state.floatbank8_d_air',\n",
       "       'primary_cleaner.state.floatbank8_d_level', 'rougher.input.feed_ag',\n",
       "       'rougher.input.feed_pb', 'rougher.input.feed_rate',\n",
       "       'rougher.input.feed_size', 'rougher.input.feed_sol',\n",
       "       'rougher.input.feed_au', 'rougher.input.floatbank10_sulfate',\n",
       "       'rougher.input.floatbank10_xanthate',\n",
       "       'rougher.input.floatbank11_sulfate',\n",
       "       'rougher.input.floatbank11_xanthate', 'rougher.state.floatbank10_a_air',\n",
       "       'rougher.state.floatbank10_a_level', 'rougher.state.floatbank10_b_air',\n",
       "       'rougher.state.floatbank10_b_level', 'rougher.state.floatbank10_c_air',\n",
       "       'rougher.state.floatbank10_c_level', 'rougher.state.floatbank10_d_air',\n",
       "       'rougher.state.floatbank10_d_level', 'rougher.state.floatbank10_e_air',\n",
       "       'rougher.state.floatbank10_e_level', 'rougher.state.floatbank10_f_air',\n",
       "       'rougher.state.floatbank10_f_level',\n",
       "       'secondary_cleaner.state.floatbank2_a_air',\n",
       "       'secondary_cleaner.state.floatbank2_a_level',\n",
       "       'secondary_cleaner.state.floatbank2_b_air',\n",
       "       'secondary_cleaner.state.floatbank2_b_level',\n",
       "       'secondary_cleaner.state.floatbank3_a_air',\n",
       "       'secondary_cleaner.state.floatbank3_a_level',\n",
       "       'secondary_cleaner.state.floatbank3_b_air',\n",
       "       'secondary_cleaner.state.floatbank3_b_level',\n",
       "       'secondary_cleaner.state.floatbank4_a_air',\n",
       "       'secondary_cleaner.state.floatbank4_a_level',\n",
       "       'secondary_cleaner.state.floatbank4_b_air',\n",
       "       'secondary_cleaner.state.floatbank4_b_level',\n",
       "       'secondary_cleaner.state.floatbank5_a_air',\n",
       "       'secondary_cleaner.state.floatbank5_a_level',\n",
       "       'secondary_cleaner.state.floatbank5_b_air',\n",
       "       'secondary_cleaner.state.floatbank5_b_level',\n",
       "       'secondary_cleaner.state.floatbank6_a_air',\n",
       "       'secondary_cleaner.state.floatbank6_a_level'],\n",
       "      dtype='object')"
      ]
     },
     "execution_count": 9,
     "metadata": {},
     "output_type": "execute_result"
    }
   ],
   "source": [
    "available_features = df_test.columns[1:] # отсекаем дату\n",
    "available_features"
   ]
  },
  {
   "cell_type": "markdown",
   "id": "35bb6009",
   "metadata": {},
   "source": [
    "#### Вывод\n",
    "\n",
    "* Среди недоступных признаков:\n",
    "    * Признаки типа `output` - признаки, которые являлись бы утечкой, так как от них явно зависит целевой показатель.\n",
    "    * Признаки типа `calculation` - также являлись бы утечкой так как являются производным параметров, из который явно вычисляется целевой показатель.\n",
    "    * `recovery` - целевой признак, естественно не доступен.\n",
    "* Были выделены доступные для обучения признаки;    \n"
   ]
  },
  {
   "cell_type": "markdown",
   "id": "e140ef70",
   "metadata": {},
   "source": [
    "### Предобработка данных"
   ]
  },
  {
   "cell_type": "markdown",
   "id": "6a3203f2",
   "metadata": {},
   "source": [
    "***Обработка пропусков***"
   ]
  },
  {
   "cell_type": "markdown",
   "id": "7e5df694",
   "metadata": {},
   "source": [
    "Удалим пропуски в обучающей выборке и заполним пропуски в тестовой выборке предыдущим значением, так как по условию соседние значения похожи:"
   ]
  },
  {
   "cell_type": "code",
   "execution_count": 10,
   "id": "2acb1bb7",
   "metadata": {},
   "outputs": [],
   "source": [
    "df_full = df_full.fillna(method='backfill')\n",
    "df_test = df_test.fillna(method='backfill')\n",
    "df_train = df_train.fillna(method='backfill')"
   ]
  },
  {
   "cell_type": "code",
   "execution_count": 11,
   "id": "83f3027b",
   "metadata": {},
   "outputs": [
    {
     "data": {
      "text/plain": [
       "5290"
      ]
     },
     "execution_count": 11,
     "metadata": {},
     "output_type": "execute_result"
    }
   ],
   "source": [
    "len(df_test)"
   ]
  },
  {
   "cell_type": "code",
   "execution_count": 12,
   "id": "9753c8dc",
   "metadata": {},
   "outputs": [
    {
     "name": "stdout",
     "output_type": "stream",
     "text": [
      "date                                            0\n",
      "final.output.concentrate_ag                     1\n",
      "final.output.concentrate_pb                     1\n",
      "final.output.concentrate_sol                  211\n",
      "final.output.concentrate_au                     0\n",
      "                                             ... \n",
      "secondary_cleaner.state.floatbank5_a_level      1\n",
      "secondary_cleaner.state.floatbank5_b_air        1\n",
      "secondary_cleaner.state.floatbank5_b_level      1\n",
      "secondary_cleaner.state.floatbank6_a_air        2\n",
      "secondary_cleaner.state.floatbank6_a_level      1\n",
      "Length: 87, dtype: int64\n"
     ]
    },
    {
     "data": {
      "text/html": [
       "<div>\n",
       "<style scoped>\n",
       "    .dataframe tbody tr th:only-of-type {\n",
       "        vertical-align: middle;\n",
       "    }\n",
       "\n",
       "    .dataframe tbody tr th {\n",
       "        vertical-align: top;\n",
       "    }\n",
       "\n",
       "    .dataframe thead th {\n",
       "        text-align: right;\n",
       "    }\n",
       "</style>\n",
       "<table border=\"1\" class=\"dataframe\">\n",
       "  <thead>\n",
       "    <tr style=\"text-align: right;\">\n",
       "      <th></th>\n",
       "      <th>date</th>\n",
       "      <th>final.output.concentrate_ag</th>\n",
       "      <th>final.output.concentrate_pb</th>\n",
       "      <th>final.output.concentrate_sol</th>\n",
       "      <th>final.output.concentrate_au</th>\n",
       "      <th>final.output.recovery</th>\n",
       "      <th>final.output.tail_ag</th>\n",
       "      <th>final.output.tail_pb</th>\n",
       "      <th>final.output.tail_sol</th>\n",
       "      <th>final.output.tail_au</th>\n",
       "      <th>...</th>\n",
       "      <th>secondary_cleaner.state.floatbank4_a_air</th>\n",
       "      <th>secondary_cleaner.state.floatbank4_a_level</th>\n",
       "      <th>secondary_cleaner.state.floatbank4_b_air</th>\n",
       "      <th>secondary_cleaner.state.floatbank4_b_level</th>\n",
       "      <th>secondary_cleaner.state.floatbank5_a_air</th>\n",
       "      <th>secondary_cleaner.state.floatbank5_a_level</th>\n",
       "      <th>secondary_cleaner.state.floatbank5_b_air</th>\n",
       "      <th>secondary_cleaner.state.floatbank5_b_level</th>\n",
       "      <th>secondary_cleaner.state.floatbank6_a_air</th>\n",
       "      <th>secondary_cleaner.state.floatbank6_a_level</th>\n",
       "    </tr>\n",
       "  </thead>\n",
       "  <tbody>\n",
       "    <tr>\n",
       "      <th>0</th>\n",
       "      <td>2016-01-15 00:00:00</td>\n",
       "      <td>6.055403</td>\n",
       "      <td>9.889648</td>\n",
       "      <td>5.507324</td>\n",
       "      <td>42.192020</td>\n",
       "      <td>70.541216</td>\n",
       "      <td>10.411962</td>\n",
       "      <td>0.895447</td>\n",
       "      <td>16.904297</td>\n",
       "      <td>2.143149</td>\n",
       "      <td>...</td>\n",
       "      <td>14.016835</td>\n",
       "      <td>-502.488007</td>\n",
       "      <td>12.099931</td>\n",
       "      <td>-504.715942</td>\n",
       "      <td>9.925633</td>\n",
       "      <td>-498.310211</td>\n",
       "      <td>8.079666</td>\n",
       "      <td>-500.470978</td>\n",
       "      <td>14.151341</td>\n",
       "      <td>-605.841980</td>\n",
       "    </tr>\n",
       "    <tr>\n",
       "      <th>1</th>\n",
       "      <td>2016-01-15 01:00:00</td>\n",
       "      <td>6.029369</td>\n",
       "      <td>9.968944</td>\n",
       "      <td>5.257781</td>\n",
       "      <td>42.701629</td>\n",
       "      <td>69.266198</td>\n",
       "      <td>10.462676</td>\n",
       "      <td>0.927452</td>\n",
       "      <td>16.634514</td>\n",
       "      <td>2.224930</td>\n",
       "      <td>...</td>\n",
       "      <td>13.992281</td>\n",
       "      <td>-505.503262</td>\n",
       "      <td>11.950531</td>\n",
       "      <td>-501.331529</td>\n",
       "      <td>10.039245</td>\n",
       "      <td>-500.169983</td>\n",
       "      <td>7.984757</td>\n",
       "      <td>-500.582168</td>\n",
       "      <td>13.998353</td>\n",
       "      <td>-599.787184</td>\n",
       "    </tr>\n",
       "    <tr>\n",
       "      <th>2</th>\n",
       "      <td>2016-01-15 02:00:00</td>\n",
       "      <td>6.055926</td>\n",
       "      <td>10.213995</td>\n",
       "      <td>5.383759</td>\n",
       "      <td>42.657501</td>\n",
       "      <td>68.116445</td>\n",
       "      <td>10.507046</td>\n",
       "      <td>0.953716</td>\n",
       "      <td>16.208849</td>\n",
       "      <td>2.257889</td>\n",
       "      <td>...</td>\n",
       "      <td>14.015015</td>\n",
       "      <td>-502.520901</td>\n",
       "      <td>11.912783</td>\n",
       "      <td>-501.133383</td>\n",
       "      <td>10.070913</td>\n",
       "      <td>-500.129135</td>\n",
       "      <td>8.013877</td>\n",
       "      <td>-500.517572</td>\n",
       "      <td>14.028663</td>\n",
       "      <td>-601.427363</td>\n",
       "    </tr>\n",
       "    <tr>\n",
       "      <th>3</th>\n",
       "      <td>2016-01-15 03:00:00</td>\n",
       "      <td>6.047977</td>\n",
       "      <td>9.977019</td>\n",
       "      <td>4.858634</td>\n",
       "      <td>42.689819</td>\n",
       "      <td>68.347543</td>\n",
       "      <td>10.422762</td>\n",
       "      <td>0.883763</td>\n",
       "      <td>16.532835</td>\n",
       "      <td>2.146849</td>\n",
       "      <td>...</td>\n",
       "      <td>14.036510</td>\n",
       "      <td>-500.857308</td>\n",
       "      <td>11.999550</td>\n",
       "      <td>-501.193686</td>\n",
       "      <td>9.970366</td>\n",
       "      <td>-499.201640</td>\n",
       "      <td>7.977324</td>\n",
       "      <td>-500.255908</td>\n",
       "      <td>14.005551</td>\n",
       "      <td>-599.996129</td>\n",
       "    </tr>\n",
       "    <tr>\n",
       "      <th>4</th>\n",
       "      <td>2016-01-15 04:00:00</td>\n",
       "      <td>6.148599</td>\n",
       "      <td>10.142511</td>\n",
       "      <td>4.939416</td>\n",
       "      <td>42.774141</td>\n",
       "      <td>66.927016</td>\n",
       "      <td>10.360302</td>\n",
       "      <td>0.792826</td>\n",
       "      <td>16.525686</td>\n",
       "      <td>2.055292</td>\n",
       "      <td>...</td>\n",
       "      <td>14.027298</td>\n",
       "      <td>-499.838632</td>\n",
       "      <td>11.953070</td>\n",
       "      <td>-501.053894</td>\n",
       "      <td>9.925709</td>\n",
       "      <td>-501.686727</td>\n",
       "      <td>7.894242</td>\n",
       "      <td>-500.356035</td>\n",
       "      <td>13.996647</td>\n",
       "      <td>-601.496691</td>\n",
       "    </tr>\n",
       "  </tbody>\n",
       "</table>\n",
       "<p>5 rows × 87 columns</p>\n",
       "</div>"
      ],
      "text/plain": [
       "                  date  final.output.concentrate_ag  \\\n",
       "0  2016-01-15 00:00:00                     6.055403   \n",
       "1  2016-01-15 01:00:00                     6.029369   \n",
       "2  2016-01-15 02:00:00                     6.055926   \n",
       "3  2016-01-15 03:00:00                     6.047977   \n",
       "4  2016-01-15 04:00:00                     6.148599   \n",
       "\n",
       "   final.output.concentrate_pb  final.output.concentrate_sol  \\\n",
       "0                     9.889648                      5.507324   \n",
       "1                     9.968944                      5.257781   \n",
       "2                    10.213995                      5.383759   \n",
       "3                     9.977019                      4.858634   \n",
       "4                    10.142511                      4.939416   \n",
       "\n",
       "   final.output.concentrate_au  final.output.recovery  final.output.tail_ag  \\\n",
       "0                    42.192020              70.541216             10.411962   \n",
       "1                    42.701629              69.266198             10.462676   \n",
       "2                    42.657501              68.116445             10.507046   \n",
       "3                    42.689819              68.347543             10.422762   \n",
       "4                    42.774141              66.927016             10.360302   \n",
       "\n",
       "   final.output.tail_pb  final.output.tail_sol  final.output.tail_au  ...  \\\n",
       "0              0.895447              16.904297              2.143149  ...   \n",
       "1              0.927452              16.634514              2.224930  ...   \n",
       "2              0.953716              16.208849              2.257889  ...   \n",
       "3              0.883763              16.532835              2.146849  ...   \n",
       "4              0.792826              16.525686              2.055292  ...   \n",
       "\n",
       "   secondary_cleaner.state.floatbank4_a_air  \\\n",
       "0                                 14.016835   \n",
       "1                                 13.992281   \n",
       "2                                 14.015015   \n",
       "3                                 14.036510   \n",
       "4                                 14.027298   \n",
       "\n",
       "   secondary_cleaner.state.floatbank4_a_level  \\\n",
       "0                                 -502.488007   \n",
       "1                                 -505.503262   \n",
       "2                                 -502.520901   \n",
       "3                                 -500.857308   \n",
       "4                                 -499.838632   \n",
       "\n",
       "   secondary_cleaner.state.floatbank4_b_air  \\\n",
       "0                                 12.099931   \n",
       "1                                 11.950531   \n",
       "2                                 11.912783   \n",
       "3                                 11.999550   \n",
       "4                                 11.953070   \n",
       "\n",
       "   secondary_cleaner.state.floatbank4_b_level  \\\n",
       "0                                 -504.715942   \n",
       "1                                 -501.331529   \n",
       "2                                 -501.133383   \n",
       "3                                 -501.193686   \n",
       "4                                 -501.053894   \n",
       "\n",
       "   secondary_cleaner.state.floatbank5_a_air  \\\n",
       "0                                  9.925633   \n",
       "1                                 10.039245   \n",
       "2                                 10.070913   \n",
       "3                                  9.970366   \n",
       "4                                  9.925709   \n",
       "\n",
       "   secondary_cleaner.state.floatbank5_a_level  \\\n",
       "0                                 -498.310211   \n",
       "1                                 -500.169983   \n",
       "2                                 -500.129135   \n",
       "3                                 -499.201640   \n",
       "4                                 -501.686727   \n",
       "\n",
       "   secondary_cleaner.state.floatbank5_b_air  \\\n",
       "0                                  8.079666   \n",
       "1                                  7.984757   \n",
       "2                                  8.013877   \n",
       "3                                  7.977324   \n",
       "4                                  7.894242   \n",
       "\n",
       "   secondary_cleaner.state.floatbank5_b_level  \\\n",
       "0                                 -500.470978   \n",
       "1                                 -500.582168   \n",
       "2                                 -500.517572   \n",
       "3                                 -500.255908   \n",
       "4                                 -500.356035   \n",
       "\n",
       "   secondary_cleaner.state.floatbank6_a_air  \\\n",
       "0                                 14.151341   \n",
       "1                                 13.998353   \n",
       "2                                 14.028663   \n",
       "3                                 14.005551   \n",
       "4                                 13.996647   \n",
       "\n",
       "   secondary_cleaner.state.floatbank6_a_level  \n",
       "0                                 -605.841980  \n",
       "1                                 -599.787184  \n",
       "2                                 -601.427363  \n",
       "3                                 -599.996129  \n",
       "4                                 -601.496691  \n",
       "\n",
       "[5 rows x 87 columns]"
      ]
     },
     "metadata": {},
     "output_type": "display_data"
    },
    {
     "name": "stdout",
     "output_type": "stream",
     "text": [
      "date                                           0\n",
      "primary_cleaner.input.sulfate                  4\n",
      "primary_cleaner.input.depressant               5\n",
      "primary_cleaner.input.feed_size                0\n",
      "primary_cleaner.input.xanthate                 4\n",
      "primary_cleaner.state.floatbank8_a_air         0\n",
      "primary_cleaner.state.floatbank8_a_level       0\n",
      "primary_cleaner.state.floatbank8_b_air         0\n",
      "primary_cleaner.state.floatbank8_b_level       0\n",
      "primary_cleaner.state.floatbank8_c_air         0\n",
      "primary_cleaner.state.floatbank8_c_level       0\n",
      "primary_cleaner.state.floatbank8_d_air         0\n",
      "primary_cleaner.state.floatbank8_d_level       0\n",
      "rougher.input.feed_ag                          0\n",
      "rougher.input.feed_pb                          0\n",
      "rougher.input.feed_rate                        3\n",
      "rougher.input.feed_size                        1\n",
      "rougher.input.feed_sol                        21\n",
      "rougher.input.feed_au                          0\n",
      "rougher.input.floatbank10_sulfate              5\n",
      "rougher.input.floatbank10_xanthate             0\n",
      "rougher.input.floatbank11_sulfate              8\n",
      "rougher.input.floatbank11_xanthate            25\n",
      "rougher.state.floatbank10_a_air                0\n",
      "rougher.state.floatbank10_a_level              0\n",
      "rougher.state.floatbank10_b_air                0\n",
      "rougher.state.floatbank10_b_level              0\n",
      "rougher.state.floatbank10_c_air                0\n",
      "rougher.state.floatbank10_c_level              0\n",
      "rougher.state.floatbank10_d_air                0\n",
      "rougher.state.floatbank10_d_level              0\n",
      "rougher.state.floatbank10_e_air                0\n",
      "rougher.state.floatbank10_e_level              0\n",
      "rougher.state.floatbank10_f_air                0\n",
      "rougher.state.floatbank10_f_level              0\n",
      "secondary_cleaner.state.floatbank2_a_air       3\n",
      "secondary_cleaner.state.floatbank2_a_level     0\n",
      "secondary_cleaner.state.floatbank2_b_air       2\n",
      "secondary_cleaner.state.floatbank2_b_level     0\n",
      "secondary_cleaner.state.floatbank3_a_air       9\n",
      "secondary_cleaner.state.floatbank3_a_level     0\n",
      "secondary_cleaner.state.floatbank3_b_air       0\n",
      "secondary_cleaner.state.floatbank3_b_level     0\n",
      "secondary_cleaner.state.floatbank4_a_air       0\n",
      "secondary_cleaner.state.floatbank4_a_level     0\n",
      "secondary_cleaner.state.floatbank4_b_air       0\n",
      "secondary_cleaner.state.floatbank4_b_level     0\n",
      "secondary_cleaner.state.floatbank5_a_air       0\n",
      "secondary_cleaner.state.floatbank5_a_level     0\n",
      "secondary_cleaner.state.floatbank5_b_air       0\n",
      "secondary_cleaner.state.floatbank5_b_level     0\n",
      "secondary_cleaner.state.floatbank6_a_air       0\n",
      "secondary_cleaner.state.floatbank6_a_level     0\n",
      "dtype: int64\n"
     ]
    },
    {
     "data": {
      "text/html": [
       "<div>\n",
       "<style scoped>\n",
       "    .dataframe tbody tr th:only-of-type {\n",
       "        vertical-align: middle;\n",
       "    }\n",
       "\n",
       "    .dataframe tbody tr th {\n",
       "        vertical-align: top;\n",
       "    }\n",
       "\n",
       "    .dataframe thead th {\n",
       "        text-align: right;\n",
       "    }\n",
       "</style>\n",
       "<table border=\"1\" class=\"dataframe\">\n",
       "  <thead>\n",
       "    <tr style=\"text-align: right;\">\n",
       "      <th></th>\n",
       "      <th>date</th>\n",
       "      <th>primary_cleaner.input.sulfate</th>\n",
       "      <th>primary_cleaner.input.depressant</th>\n",
       "      <th>primary_cleaner.input.feed_size</th>\n",
       "      <th>primary_cleaner.input.xanthate</th>\n",
       "      <th>primary_cleaner.state.floatbank8_a_air</th>\n",
       "      <th>primary_cleaner.state.floatbank8_a_level</th>\n",
       "      <th>primary_cleaner.state.floatbank8_b_air</th>\n",
       "      <th>primary_cleaner.state.floatbank8_b_level</th>\n",
       "      <th>primary_cleaner.state.floatbank8_c_air</th>\n",
       "      <th>...</th>\n",
       "      <th>secondary_cleaner.state.floatbank4_a_air</th>\n",
       "      <th>secondary_cleaner.state.floatbank4_a_level</th>\n",
       "      <th>secondary_cleaner.state.floatbank4_b_air</th>\n",
       "      <th>secondary_cleaner.state.floatbank4_b_level</th>\n",
       "      <th>secondary_cleaner.state.floatbank5_a_air</th>\n",
       "      <th>secondary_cleaner.state.floatbank5_a_level</th>\n",
       "      <th>secondary_cleaner.state.floatbank5_b_air</th>\n",
       "      <th>secondary_cleaner.state.floatbank5_b_level</th>\n",
       "      <th>secondary_cleaner.state.floatbank6_a_air</th>\n",
       "      <th>secondary_cleaner.state.floatbank6_a_level</th>\n",
       "    </tr>\n",
       "  </thead>\n",
       "  <tbody>\n",
       "    <tr>\n",
       "      <th>0</th>\n",
       "      <td>2016-09-01 00:59:59</td>\n",
       "      <td>210.800909</td>\n",
       "      <td>14.993118</td>\n",
       "      <td>8.080000</td>\n",
       "      <td>1.005021</td>\n",
       "      <td>1398.981301</td>\n",
       "      <td>-500.225577</td>\n",
       "      <td>1399.144926</td>\n",
       "      <td>-499.919735</td>\n",
       "      <td>1400.102998</td>\n",
       "      <td>...</td>\n",
       "      <td>12.023554</td>\n",
       "      <td>-497.795834</td>\n",
       "      <td>8.016656</td>\n",
       "      <td>-501.289139</td>\n",
       "      <td>7.946562</td>\n",
       "      <td>-432.317850</td>\n",
       "      <td>4.872511</td>\n",
       "      <td>-500.037437</td>\n",
       "      <td>26.705889</td>\n",
       "      <td>-499.709414</td>\n",
       "    </tr>\n",
       "    <tr>\n",
       "      <th>1</th>\n",
       "      <td>2016-09-01 01:59:59</td>\n",
       "      <td>215.392455</td>\n",
       "      <td>14.987471</td>\n",
       "      <td>8.080000</td>\n",
       "      <td>0.990469</td>\n",
       "      <td>1398.777912</td>\n",
       "      <td>-500.057435</td>\n",
       "      <td>1398.055362</td>\n",
       "      <td>-499.778182</td>\n",
       "      <td>1396.151033</td>\n",
       "      <td>...</td>\n",
       "      <td>12.058140</td>\n",
       "      <td>-498.695773</td>\n",
       "      <td>8.130979</td>\n",
       "      <td>-499.634209</td>\n",
       "      <td>7.958270</td>\n",
       "      <td>-525.839648</td>\n",
       "      <td>4.878850</td>\n",
       "      <td>-500.162375</td>\n",
       "      <td>25.019940</td>\n",
       "      <td>-499.819438</td>\n",
       "    </tr>\n",
       "    <tr>\n",
       "      <th>2</th>\n",
       "      <td>2016-09-01 02:59:59</td>\n",
       "      <td>215.259946</td>\n",
       "      <td>12.884934</td>\n",
       "      <td>7.786667</td>\n",
       "      <td>0.996043</td>\n",
       "      <td>1398.493666</td>\n",
       "      <td>-500.868360</td>\n",
       "      <td>1398.860436</td>\n",
       "      <td>-499.764529</td>\n",
       "      <td>1398.075709</td>\n",
       "      <td>...</td>\n",
       "      <td>11.962366</td>\n",
       "      <td>-498.767484</td>\n",
       "      <td>8.096893</td>\n",
       "      <td>-500.827423</td>\n",
       "      <td>8.071056</td>\n",
       "      <td>-500.801673</td>\n",
       "      <td>4.905125</td>\n",
       "      <td>-499.828510</td>\n",
       "      <td>24.994862</td>\n",
       "      <td>-500.622559</td>\n",
       "    </tr>\n",
       "    <tr>\n",
       "      <th>3</th>\n",
       "      <td>2016-09-01 03:59:59</td>\n",
       "      <td>215.336236</td>\n",
       "      <td>12.006805</td>\n",
       "      <td>7.640000</td>\n",
       "      <td>0.863514</td>\n",
       "      <td>1399.618111</td>\n",
       "      <td>-498.863574</td>\n",
       "      <td>1397.440120</td>\n",
       "      <td>-499.211024</td>\n",
       "      <td>1400.129303</td>\n",
       "      <td>...</td>\n",
       "      <td>12.033091</td>\n",
       "      <td>-498.350935</td>\n",
       "      <td>8.074946</td>\n",
       "      <td>-499.474407</td>\n",
       "      <td>7.897085</td>\n",
       "      <td>-500.868509</td>\n",
       "      <td>4.931400</td>\n",
       "      <td>-499.963623</td>\n",
       "      <td>24.948919</td>\n",
       "      <td>-498.709987</td>\n",
       "    </tr>\n",
       "    <tr>\n",
       "      <th>4</th>\n",
       "      <td>2016-09-01 04:59:59</td>\n",
       "      <td>199.099327</td>\n",
       "      <td>10.682530</td>\n",
       "      <td>7.530000</td>\n",
       "      <td>0.805575</td>\n",
       "      <td>1401.268123</td>\n",
       "      <td>-500.808305</td>\n",
       "      <td>1398.128818</td>\n",
       "      <td>-499.504543</td>\n",
       "      <td>1402.172226</td>\n",
       "      <td>...</td>\n",
       "      <td>12.025367</td>\n",
       "      <td>-500.786497</td>\n",
       "      <td>8.054678</td>\n",
       "      <td>-500.397500</td>\n",
       "      <td>8.107890</td>\n",
       "      <td>-509.526725</td>\n",
       "      <td>4.957674</td>\n",
       "      <td>-500.360026</td>\n",
       "      <td>25.003331</td>\n",
       "      <td>-500.856333</td>\n",
       "    </tr>\n",
       "  </tbody>\n",
       "</table>\n",
       "<p>5 rows × 53 columns</p>\n",
       "</div>"
      ],
      "text/plain": [
       "                  date  primary_cleaner.input.sulfate  \\\n",
       "0  2016-09-01 00:59:59                     210.800909   \n",
       "1  2016-09-01 01:59:59                     215.392455   \n",
       "2  2016-09-01 02:59:59                     215.259946   \n",
       "3  2016-09-01 03:59:59                     215.336236   \n",
       "4  2016-09-01 04:59:59                     199.099327   \n",
       "\n",
       "   primary_cleaner.input.depressant  primary_cleaner.input.feed_size  \\\n",
       "0                         14.993118                         8.080000   \n",
       "1                         14.987471                         8.080000   \n",
       "2                         12.884934                         7.786667   \n",
       "3                         12.006805                         7.640000   \n",
       "4                         10.682530                         7.530000   \n",
       "\n",
       "   primary_cleaner.input.xanthate  primary_cleaner.state.floatbank8_a_air  \\\n",
       "0                        1.005021                             1398.981301   \n",
       "1                        0.990469                             1398.777912   \n",
       "2                        0.996043                             1398.493666   \n",
       "3                        0.863514                             1399.618111   \n",
       "4                        0.805575                             1401.268123   \n",
       "\n",
       "   primary_cleaner.state.floatbank8_a_level  \\\n",
       "0                               -500.225577   \n",
       "1                               -500.057435   \n",
       "2                               -500.868360   \n",
       "3                               -498.863574   \n",
       "4                               -500.808305   \n",
       "\n",
       "   primary_cleaner.state.floatbank8_b_air  \\\n",
       "0                             1399.144926   \n",
       "1                             1398.055362   \n",
       "2                             1398.860436   \n",
       "3                             1397.440120   \n",
       "4                             1398.128818   \n",
       "\n",
       "   primary_cleaner.state.floatbank8_b_level  \\\n",
       "0                               -499.919735   \n",
       "1                               -499.778182   \n",
       "2                               -499.764529   \n",
       "3                               -499.211024   \n",
       "4                               -499.504543   \n",
       "\n",
       "   primary_cleaner.state.floatbank8_c_air  ...  \\\n",
       "0                             1400.102998  ...   \n",
       "1                             1396.151033  ...   \n",
       "2                             1398.075709  ...   \n",
       "3                             1400.129303  ...   \n",
       "4                             1402.172226  ...   \n",
       "\n",
       "   secondary_cleaner.state.floatbank4_a_air  \\\n",
       "0                                 12.023554   \n",
       "1                                 12.058140   \n",
       "2                                 11.962366   \n",
       "3                                 12.033091   \n",
       "4                                 12.025367   \n",
       "\n",
       "   secondary_cleaner.state.floatbank4_a_level  \\\n",
       "0                                 -497.795834   \n",
       "1                                 -498.695773   \n",
       "2                                 -498.767484   \n",
       "3                                 -498.350935   \n",
       "4                                 -500.786497   \n",
       "\n",
       "   secondary_cleaner.state.floatbank4_b_air  \\\n",
       "0                                  8.016656   \n",
       "1                                  8.130979   \n",
       "2                                  8.096893   \n",
       "3                                  8.074946   \n",
       "4                                  8.054678   \n",
       "\n",
       "   secondary_cleaner.state.floatbank4_b_level  \\\n",
       "0                                 -501.289139   \n",
       "1                                 -499.634209   \n",
       "2                                 -500.827423   \n",
       "3                                 -499.474407   \n",
       "4                                 -500.397500   \n",
       "\n",
       "   secondary_cleaner.state.floatbank5_a_air  \\\n",
       "0                                  7.946562   \n",
       "1                                  7.958270   \n",
       "2                                  8.071056   \n",
       "3                                  7.897085   \n",
       "4                                  8.107890   \n",
       "\n",
       "   secondary_cleaner.state.floatbank5_a_level  \\\n",
       "0                                 -432.317850   \n",
       "1                                 -525.839648   \n",
       "2                                 -500.801673   \n",
       "3                                 -500.868509   \n",
       "4                                 -509.526725   \n",
       "\n",
       "   secondary_cleaner.state.floatbank5_b_air  \\\n",
       "0                                  4.872511   \n",
       "1                                  4.878850   \n",
       "2                                  4.905125   \n",
       "3                                  4.931400   \n",
       "4                                  4.957674   \n",
       "\n",
       "   secondary_cleaner.state.floatbank5_b_level  \\\n",
       "0                                 -500.037437   \n",
       "1                                 -500.162375   \n",
       "2                                 -499.828510   \n",
       "3                                 -499.963623   \n",
       "4                                 -500.360026   \n",
       "\n",
       "   secondary_cleaner.state.floatbank6_a_air  \\\n",
       "0                                 26.705889   \n",
       "1                                 25.019940   \n",
       "2                                 24.994862   \n",
       "3                                 24.948919   \n",
       "4                                 25.003331   \n",
       "\n",
       "   secondary_cleaner.state.floatbank6_a_level  \n",
       "0                                 -499.709414  \n",
       "1                                 -499.819438  \n",
       "2                                 -500.622559  \n",
       "3                                 -498.709987  \n",
       "4                                 -500.856333  \n",
       "\n",
       "[5 rows x 53 columns]"
      ]
     },
     "metadata": {},
     "output_type": "display_data"
    },
    {
     "name": "stdout",
     "output_type": "stream",
     "text": [
      "date                                            0\n",
      "final.output.concentrate_ag                     1\n",
      "final.output.concentrate_pb                     1\n",
      "final.output.concentrate_sol                  211\n",
      "final.output.concentrate_au                     0\n",
      "                                             ... \n",
      "secondary_cleaner.state.floatbank5_b_air        1\n",
      "secondary_cleaner.state.floatbank5_b_level      1\n",
      "secondary_cleaner.state.floatbank6_a_air        2\n",
      "secondary_cleaner.state.floatbank6_a_level      1\n",
      "rougher.output.recovery_calc                    0\n",
      "Length: 88, dtype: int64\n"
     ]
    },
    {
     "data": {
      "text/html": [
       "<div>\n",
       "<style scoped>\n",
       "    .dataframe tbody tr th:only-of-type {\n",
       "        vertical-align: middle;\n",
       "    }\n",
       "\n",
       "    .dataframe tbody tr th {\n",
       "        vertical-align: top;\n",
       "    }\n",
       "\n",
       "    .dataframe thead th {\n",
       "        text-align: right;\n",
       "    }\n",
       "</style>\n",
       "<table border=\"1\" class=\"dataframe\">\n",
       "  <thead>\n",
       "    <tr style=\"text-align: right;\">\n",
       "      <th></th>\n",
       "      <th>date</th>\n",
       "      <th>final.output.concentrate_ag</th>\n",
       "      <th>final.output.concentrate_pb</th>\n",
       "      <th>final.output.concentrate_sol</th>\n",
       "      <th>final.output.concentrate_au</th>\n",
       "      <th>final.output.recovery</th>\n",
       "      <th>final.output.tail_ag</th>\n",
       "      <th>final.output.tail_pb</th>\n",
       "      <th>final.output.tail_sol</th>\n",
       "      <th>final.output.tail_au</th>\n",
       "      <th>...</th>\n",
       "      <th>secondary_cleaner.state.floatbank4_a_level</th>\n",
       "      <th>secondary_cleaner.state.floatbank4_b_air</th>\n",
       "      <th>secondary_cleaner.state.floatbank4_b_level</th>\n",
       "      <th>secondary_cleaner.state.floatbank5_a_air</th>\n",
       "      <th>secondary_cleaner.state.floatbank5_a_level</th>\n",
       "      <th>secondary_cleaner.state.floatbank5_b_air</th>\n",
       "      <th>secondary_cleaner.state.floatbank5_b_level</th>\n",
       "      <th>secondary_cleaner.state.floatbank6_a_air</th>\n",
       "      <th>secondary_cleaner.state.floatbank6_a_level</th>\n",
       "      <th>rougher.output.recovery_calc</th>\n",
       "    </tr>\n",
       "  </thead>\n",
       "  <tbody>\n",
       "    <tr>\n",
       "      <th>0</th>\n",
       "      <td>2016-01-15 00:00:00</td>\n",
       "      <td>6.055403</td>\n",
       "      <td>9.889648</td>\n",
       "      <td>5.507324</td>\n",
       "      <td>42.192020</td>\n",
       "      <td>70.541216</td>\n",
       "      <td>10.411962</td>\n",
       "      <td>0.895447</td>\n",
       "      <td>16.904297</td>\n",
       "      <td>2.143149</td>\n",
       "      <td>...</td>\n",
       "      <td>-502.488007</td>\n",
       "      <td>12.099931</td>\n",
       "      <td>-504.715942</td>\n",
       "      <td>9.925633</td>\n",
       "      <td>-498.310211</td>\n",
       "      <td>8.079666</td>\n",
       "      <td>-500.470978</td>\n",
       "      <td>14.151341</td>\n",
       "      <td>-605.841980</td>\n",
       "      <td>87.107763</td>\n",
       "    </tr>\n",
       "    <tr>\n",
       "      <th>1</th>\n",
       "      <td>2016-01-15 01:00:00</td>\n",
       "      <td>6.029369</td>\n",
       "      <td>9.968944</td>\n",
       "      <td>5.257781</td>\n",
       "      <td>42.701629</td>\n",
       "      <td>69.266198</td>\n",
       "      <td>10.462676</td>\n",
       "      <td>0.927452</td>\n",
       "      <td>16.634514</td>\n",
       "      <td>2.224930</td>\n",
       "      <td>...</td>\n",
       "      <td>-505.503262</td>\n",
       "      <td>11.950531</td>\n",
       "      <td>-501.331529</td>\n",
       "      <td>10.039245</td>\n",
       "      <td>-500.169983</td>\n",
       "      <td>7.984757</td>\n",
       "      <td>-500.582168</td>\n",
       "      <td>13.998353</td>\n",
       "      <td>-599.787184</td>\n",
       "      <td>86.843261</td>\n",
       "    </tr>\n",
       "    <tr>\n",
       "      <th>2</th>\n",
       "      <td>2016-01-15 02:00:00</td>\n",
       "      <td>6.055926</td>\n",
       "      <td>10.213995</td>\n",
       "      <td>5.383759</td>\n",
       "      <td>42.657501</td>\n",
       "      <td>68.116445</td>\n",
       "      <td>10.507046</td>\n",
       "      <td>0.953716</td>\n",
       "      <td>16.208849</td>\n",
       "      <td>2.257889</td>\n",
       "      <td>...</td>\n",
       "      <td>-502.520901</td>\n",
       "      <td>11.912783</td>\n",
       "      <td>-501.133383</td>\n",
       "      <td>10.070913</td>\n",
       "      <td>-500.129135</td>\n",
       "      <td>8.013877</td>\n",
       "      <td>-500.517572</td>\n",
       "      <td>14.028663</td>\n",
       "      <td>-601.427363</td>\n",
       "      <td>86.842308</td>\n",
       "    </tr>\n",
       "    <tr>\n",
       "      <th>3</th>\n",
       "      <td>2016-01-15 03:00:00</td>\n",
       "      <td>6.047977</td>\n",
       "      <td>9.977019</td>\n",
       "      <td>4.858634</td>\n",
       "      <td>42.689819</td>\n",
       "      <td>68.347543</td>\n",
       "      <td>10.422762</td>\n",
       "      <td>0.883763</td>\n",
       "      <td>16.532835</td>\n",
       "      <td>2.146849</td>\n",
       "      <td>...</td>\n",
       "      <td>-500.857308</td>\n",
       "      <td>11.999550</td>\n",
       "      <td>-501.193686</td>\n",
       "      <td>9.970366</td>\n",
       "      <td>-499.201640</td>\n",
       "      <td>7.977324</td>\n",
       "      <td>-500.255908</td>\n",
       "      <td>14.005551</td>\n",
       "      <td>-599.996129</td>\n",
       "      <td>87.226430</td>\n",
       "    </tr>\n",
       "    <tr>\n",
       "      <th>4</th>\n",
       "      <td>2016-01-15 04:00:00</td>\n",
       "      <td>6.148599</td>\n",
       "      <td>10.142511</td>\n",
       "      <td>4.939416</td>\n",
       "      <td>42.774141</td>\n",
       "      <td>66.927016</td>\n",
       "      <td>10.360302</td>\n",
       "      <td>0.792826</td>\n",
       "      <td>16.525686</td>\n",
       "      <td>2.055292</td>\n",
       "      <td>...</td>\n",
       "      <td>-499.838632</td>\n",
       "      <td>11.953070</td>\n",
       "      <td>-501.053894</td>\n",
       "      <td>9.925709</td>\n",
       "      <td>-501.686727</td>\n",
       "      <td>7.894242</td>\n",
       "      <td>-500.356035</td>\n",
       "      <td>13.996647</td>\n",
       "      <td>-601.496691</td>\n",
       "      <td>86.688794</td>\n",
       "    </tr>\n",
       "  </tbody>\n",
       "</table>\n",
       "<p>5 rows × 88 columns</p>\n",
       "</div>"
      ],
      "text/plain": [
       "                  date  final.output.concentrate_ag  \\\n",
       "0  2016-01-15 00:00:00                     6.055403   \n",
       "1  2016-01-15 01:00:00                     6.029369   \n",
       "2  2016-01-15 02:00:00                     6.055926   \n",
       "3  2016-01-15 03:00:00                     6.047977   \n",
       "4  2016-01-15 04:00:00                     6.148599   \n",
       "\n",
       "   final.output.concentrate_pb  final.output.concentrate_sol  \\\n",
       "0                     9.889648                      5.507324   \n",
       "1                     9.968944                      5.257781   \n",
       "2                    10.213995                      5.383759   \n",
       "3                     9.977019                      4.858634   \n",
       "4                    10.142511                      4.939416   \n",
       "\n",
       "   final.output.concentrate_au  final.output.recovery  final.output.tail_ag  \\\n",
       "0                    42.192020              70.541216             10.411962   \n",
       "1                    42.701629              69.266198             10.462676   \n",
       "2                    42.657501              68.116445             10.507046   \n",
       "3                    42.689819              68.347543             10.422762   \n",
       "4                    42.774141              66.927016             10.360302   \n",
       "\n",
       "   final.output.tail_pb  final.output.tail_sol  final.output.tail_au  ...  \\\n",
       "0              0.895447              16.904297              2.143149  ...   \n",
       "1              0.927452              16.634514              2.224930  ...   \n",
       "2              0.953716              16.208849              2.257889  ...   \n",
       "3              0.883763              16.532835              2.146849  ...   \n",
       "4              0.792826              16.525686              2.055292  ...   \n",
       "\n",
       "   secondary_cleaner.state.floatbank4_a_level  \\\n",
       "0                                 -502.488007   \n",
       "1                                 -505.503262   \n",
       "2                                 -502.520901   \n",
       "3                                 -500.857308   \n",
       "4                                 -499.838632   \n",
       "\n",
       "   secondary_cleaner.state.floatbank4_b_air  \\\n",
       "0                                 12.099931   \n",
       "1                                 11.950531   \n",
       "2                                 11.912783   \n",
       "3                                 11.999550   \n",
       "4                                 11.953070   \n",
       "\n",
       "   secondary_cleaner.state.floatbank4_b_level  \\\n",
       "0                                 -504.715942   \n",
       "1                                 -501.331529   \n",
       "2                                 -501.133383   \n",
       "3                                 -501.193686   \n",
       "4                                 -501.053894   \n",
       "\n",
       "   secondary_cleaner.state.floatbank5_a_air  \\\n",
       "0                                  9.925633   \n",
       "1                                 10.039245   \n",
       "2                                 10.070913   \n",
       "3                                  9.970366   \n",
       "4                                  9.925709   \n",
       "\n",
       "   secondary_cleaner.state.floatbank5_a_level  \\\n",
       "0                                 -498.310211   \n",
       "1                                 -500.169983   \n",
       "2                                 -500.129135   \n",
       "3                                 -499.201640   \n",
       "4                                 -501.686727   \n",
       "\n",
       "   secondary_cleaner.state.floatbank5_b_air  \\\n",
       "0                                  8.079666   \n",
       "1                                  7.984757   \n",
       "2                                  8.013877   \n",
       "3                                  7.977324   \n",
       "4                                  7.894242   \n",
       "\n",
       "   secondary_cleaner.state.floatbank5_b_level  \\\n",
       "0                                 -500.470978   \n",
       "1                                 -500.582168   \n",
       "2                                 -500.517572   \n",
       "3                                 -500.255908   \n",
       "4                                 -500.356035   \n",
       "\n",
       "   secondary_cleaner.state.floatbank6_a_air  \\\n",
       "0                                 14.151341   \n",
       "1                                 13.998353   \n",
       "2                                 14.028663   \n",
       "3                                 14.005551   \n",
       "4                                 13.996647   \n",
       "\n",
       "   secondary_cleaner.state.floatbank6_a_level  rougher.output.recovery_calc  \n",
       "0                                 -605.841980                     87.107763  \n",
       "1                                 -599.787184                     86.843261  \n",
       "2                                 -601.427363                     86.842308  \n",
       "3                                 -599.996129                     87.226430  \n",
       "4                                 -601.496691                     86.688794  \n",
       "\n",
       "[5 rows x 88 columns]"
      ]
     },
     "metadata": {},
     "output_type": "display_data"
    }
   ],
   "source": [
    "for df in dfs:\n",
    "    print(df.isna().sum())\n",
    "    display(df.head())"
   ]
  },
  {
   "cell_type": "code",
   "execution_count": 13,
   "id": "a884a758",
   "metadata": {},
   "outputs": [
    {
     "data": {
      "text/plain": [
       "date                                          0\n",
       "final.output.concentrate_ag                   0\n",
       "final.output.concentrate_pb                   0\n",
       "final.output.concentrate_sol                  0\n",
       "final.output.concentrate_au                   0\n",
       "                                             ..\n",
       "secondary_cleaner.state.floatbank5_a_level    0\n",
       "secondary_cleaner.state.floatbank5_b_air      0\n",
       "secondary_cleaner.state.floatbank5_b_level    0\n",
       "secondary_cleaner.state.floatbank6_a_air      0\n",
       "secondary_cleaner.state.floatbank6_a_level    0\n",
       "Length: 87, dtype: int64"
      ]
     },
     "execution_count": 13,
     "metadata": {},
     "output_type": "execute_result"
    }
   ],
   "source": [
    "df_train.isna().sum()"
   ]
  },
  {
   "cell_type": "markdown",
   "id": "7d503ba8",
   "metadata": {},
   "source": [
    "Приведём типы данных к оптимальным:"
   ]
  },
  {
   "cell_type": "code",
   "execution_count": 14,
   "id": "e0302763",
   "metadata": {},
   "outputs": [
    {
     "name": "stdout",
     "output_type": "stream",
     "text": [
      "date                                           object\n",
      "final.output.concentrate_ag                   float32\n",
      "final.output.concentrate_pb                   float32\n",
      "final.output.concentrate_sol                  float32\n",
      "final.output.concentrate_au                   float32\n",
      "                                               ...   \n",
      "secondary_cleaner.state.floatbank5_a_level    float32\n",
      "secondary_cleaner.state.floatbank5_b_air      float32\n",
      "secondary_cleaner.state.floatbank5_b_level    float32\n",
      "secondary_cleaner.state.floatbank6_a_air      float32\n",
      "secondary_cleaner.state.floatbank6_a_level    float32\n",
      "Length: 87, dtype: object\n",
      "date                                           object\n",
      "primary_cleaner.input.sulfate                 float32\n",
      "primary_cleaner.input.depressant              float32\n",
      "primary_cleaner.input.feed_size               float32\n",
      "primary_cleaner.input.xanthate                float32\n",
      "primary_cleaner.state.floatbank8_a_air        float32\n",
      "primary_cleaner.state.floatbank8_a_level      float32\n",
      "primary_cleaner.state.floatbank8_b_air        float32\n",
      "primary_cleaner.state.floatbank8_b_level      float32\n",
      "primary_cleaner.state.floatbank8_c_air        float32\n",
      "primary_cleaner.state.floatbank8_c_level      float32\n",
      "primary_cleaner.state.floatbank8_d_air        float32\n",
      "primary_cleaner.state.floatbank8_d_level      float32\n",
      "rougher.input.feed_ag                         float32\n",
      "rougher.input.feed_pb                         float32\n",
      "rougher.input.feed_rate                       float32\n",
      "rougher.input.feed_size                       float32\n",
      "rougher.input.feed_sol                        float32\n",
      "rougher.input.feed_au                         float32\n",
      "rougher.input.floatbank10_sulfate             float32\n",
      "rougher.input.floatbank10_xanthate            float32\n",
      "rougher.input.floatbank11_sulfate             float32\n",
      "rougher.input.floatbank11_xanthate            float32\n",
      "rougher.state.floatbank10_a_air               float32\n",
      "rougher.state.floatbank10_a_level             float32\n",
      "rougher.state.floatbank10_b_air               float32\n",
      "rougher.state.floatbank10_b_level             float32\n",
      "rougher.state.floatbank10_c_air               float32\n",
      "rougher.state.floatbank10_c_level             float32\n",
      "rougher.state.floatbank10_d_air               float32\n",
      "rougher.state.floatbank10_d_level             float32\n",
      "rougher.state.floatbank10_e_air               float32\n",
      "rougher.state.floatbank10_e_level             float32\n",
      "rougher.state.floatbank10_f_air               float32\n",
      "rougher.state.floatbank10_f_level             float32\n",
      "secondary_cleaner.state.floatbank2_a_air      float32\n",
      "secondary_cleaner.state.floatbank2_a_level    float32\n",
      "secondary_cleaner.state.floatbank2_b_air      float32\n",
      "secondary_cleaner.state.floatbank2_b_level    float32\n",
      "secondary_cleaner.state.floatbank3_a_air      float32\n",
      "secondary_cleaner.state.floatbank3_a_level    float32\n",
      "secondary_cleaner.state.floatbank3_b_air      float32\n",
      "secondary_cleaner.state.floatbank3_b_level    float32\n",
      "secondary_cleaner.state.floatbank4_a_air      float32\n",
      "secondary_cleaner.state.floatbank4_a_level    float32\n",
      "secondary_cleaner.state.floatbank4_b_air      float32\n",
      "secondary_cleaner.state.floatbank4_b_level    float32\n",
      "secondary_cleaner.state.floatbank5_a_air      float32\n",
      "secondary_cleaner.state.floatbank5_a_level    float32\n",
      "secondary_cleaner.state.floatbank5_b_air      float32\n",
      "secondary_cleaner.state.floatbank5_b_level    float32\n",
      "secondary_cleaner.state.floatbank6_a_air      float32\n",
      "secondary_cleaner.state.floatbank6_a_level    float32\n",
      "dtype: object\n",
      "date                                           object\n",
      "final.output.concentrate_ag                   float32\n",
      "final.output.concentrate_pb                   float32\n",
      "final.output.concentrate_sol                  float32\n",
      "final.output.concentrate_au                   float32\n",
      "                                               ...   \n",
      "secondary_cleaner.state.floatbank5_b_air      float32\n",
      "secondary_cleaner.state.floatbank5_b_level    float32\n",
      "secondary_cleaner.state.floatbank6_a_air      float32\n",
      "secondary_cleaner.state.floatbank6_a_level    float32\n",
      "rougher.output.recovery_calc                  float32\n",
      "Length: 88, dtype: object\n"
     ]
    }
   ],
   "source": [
    "# функция для смены типа данных в столбцах с целыми и вещественными числовыми значениями\n",
    "def type_change(data):    \n",
    "    for column in data.columns:\n",
    "        if data[column].dtype == 'int64':\n",
    "            data[column] = pd.to_numeric(data[column], downcast='integer')\n",
    "        elif data[column].dtype == 'float64':\n",
    "            data[column] = pd.to_numeric(data[column], downcast='float')\n",
    "    return data        \n",
    "\n",
    "\n",
    "for df in dfs:\n",
    "    df = type_change(df)\n",
    "    print(df.dtypes)"
   ]
  },
  {
   "cell_type": "markdown",
   "id": "36276835",
   "metadata": {},
   "source": [
    "#### Вывод\n",
    "\n",
    "* Пропуски в данных заполнены соседним значением;\n",
    "* Типы данных приведены к оптимальным."
   ]
  },
  {
   "cell_type": "markdown",
   "id": "9b25055a",
   "metadata": {},
   "source": [
    "## Исследовательский анализ данных"
   ]
  },
  {
   "cell_type": "markdown",
   "id": "54a849ae",
   "metadata": {},
   "source": [
    "### Концентрация Au, Ag, Pb на различных стадиях"
   ]
  },
  {
   "cell_type": "markdown",
   "id": "a8b81cc8",
   "metadata": {},
   "source": [
    "Создадим таблицу, в которой будут средние концентрации на каждой из стадий для каждого элемента:"
   ]
  },
  {
   "cell_type": "code",
   "execution_count": 15,
   "id": "31df8d84",
   "metadata": {},
   "outputs": [
    {
     "data": {
      "text/html": [
       "<div>\n",
       "<style scoped>\n",
       "    .dataframe tbody tr th:only-of-type {\n",
       "        vertical-align: middle;\n",
       "    }\n",
       "\n",
       "    .dataframe tbody tr th {\n",
       "        vertical-align: top;\n",
       "    }\n",
       "\n",
       "    .dataframe thead th {\n",
       "        text-align: right;\n",
       "    }\n",
       "</style>\n",
       "<table border=\"1\" class=\"dataframe\">\n",
       "  <thead>\n",
       "    <tr style=\"text-align: right;\">\n",
       "      <th></th>\n",
       "      <th>au</th>\n",
       "      <th>ag</th>\n",
       "      <th>pb</th>\n",
       "    </tr>\n",
       "  </thead>\n",
       "  <tbody>\n",
       "    <tr>\n",
       "      <th>feed</th>\n",
       "      <td>8.266097</td>\n",
       "      <td>8.794927</td>\n",
       "      <td>3.585850</td>\n",
       "    </tr>\n",
       "    <tr>\n",
       "      <th>rougher</th>\n",
       "      <td>19.772000</td>\n",
       "      <td>11.994759</td>\n",
       "      <td>7.606272</td>\n",
       "    </tr>\n",
       "    <tr>\n",
       "      <th>primary_cleaner</th>\n",
       "      <td>32.119400</td>\n",
       "      <td>8.442408</td>\n",
       "      <td>9.810430</td>\n",
       "    </tr>\n",
       "    <tr>\n",
       "      <th>final</th>\n",
       "      <td>44.076513</td>\n",
       "      <td>5.168382</td>\n",
       "      <td>9.978817</td>\n",
       "    </tr>\n",
       "  </tbody>\n",
       "</table>\n",
       "</div>"
      ],
      "text/plain": [
       "                        au         ag        pb\n",
       "feed              8.266097   8.794927  3.585850\n",
       "rougher          19.772000  11.994759  7.606272\n",
       "primary_cleaner  32.119400   8.442408  9.810430\n",
       "final            44.076513   5.168382  9.978817"
      ]
     },
     "execution_count": 15,
     "metadata": {},
     "output_type": "execute_result"
    }
   ],
   "source": [
    "index = ['feed', 'rougher', 'primary_cleaner', 'final']\n",
    "concentrates = {'au' : [df_full['rougher.input.feed_au'].mean(), \n",
    "                        df_full['rougher.output.concentrate_au'].mean(),\n",
    "                       df_full['primary_cleaner.output.concentrate_au'].mean(),\n",
    "                       df_full['final.output.concentrate_au'].mean()],\n",
    "                'ag' : [df_full['rougher.input.feed_ag'].mean(), \n",
    "                        df_full['rougher.output.concentrate_ag'].mean(),\n",
    "                       df_full['primary_cleaner.output.concentrate_ag'].mean(),\n",
    "                       df_full['final.output.concentrate_ag'].mean()],\n",
    "                'pb' : [df_full['rougher.input.feed_pb'].mean(), \n",
    "                        df_full['rougher.output.concentrate_pb'].mean(),\n",
    "                       df_full['primary_cleaner.output.concentrate_pb'].mean(),\n",
    "                       df_full['final.output.concentrate_pb'].mean()],\n",
    "               }\n",
    "\n",
    "df_means = pd.DataFrame(data=concentrates, index=index)\n",
    "df_means"
   ]
  },
  {
   "cell_type": "markdown",
   "id": "0caac6b1",
   "metadata": {},
   "source": [
    "Построим график для каждого этапа:"
   ]
  },
  {
   "cell_type": "code",
   "execution_count": 16,
   "id": "8dc0d951",
   "metadata": {},
   "outputs": [
    {
     "data": {
      "image/png": "[encoded data removed]",
      "text/plain": [
       "<Figure size 432x288 with 1 Axes>"
      ]
     },
     "metadata": {
      "needs_background": "light"
     },
     "output_type": "display_data"
    }
   ],
   "source": [
    "sns.barplot(data=df_means, x=index, y='au').set_title('Концентрация золота')\n",
    "plt.show()"
   ]
  },
  {
   "cell_type": "markdown",
   "id": "1e16bba7",
   "metadata": {},
   "source": [
    "Концентрация золота вырастает от этапа к этапу, причём прирост после флотации больше, а затем примерно на одинаковую велечину."
   ]
  },
  {
   "cell_type": "code",
   "execution_count": 17,
   "id": "30af2a66",
   "metadata": {},
   "outputs": [
    {
     "data": {
      "image/png": "[encoded data removed]",
      "text/plain": [
       "<Figure size 432x288 with 1 Axes>"
      ]
     },
     "metadata": {
      "needs_background": "light"
     },
     "output_type": "display_data"
    }
   ],
   "source": [
    "sns.barplot(data=df_means, x=index, y='ag').set_title('Концентрация серебра')\n",
    "plt.show()"
   ]
  },
  {
   "cell_type": "markdown",
   "id": "0aa2f200",
   "metadata": {},
   "source": [
    "Концентрация серебра сначала увеличивается, вероятно, флотация очищает именно от неметаллических примесей, а затем уменьшается от этапа к этапу, остальные 2 этапа очищают золото от серебра."
   ]
  },
  {
   "cell_type": "code",
   "execution_count": 18,
   "id": "e57fd30a",
   "metadata": {},
   "outputs": [
    {
     "data": {
      "image/png": "[encoded data removed]",
      "text/plain": [
       "<Figure size 432x288 with 1 Axes>"
      ]
     },
     "metadata": {
      "needs_background": "light"
     },
     "output_type": "display_data"
    }
   ],
   "source": [
    "sns.barplot(data=df_means, x=index, y='pb').set_title('Концентрация свинца')\n",
    "plt.show()"
   ]
  },
  {
   "cell_type": "markdown",
   "id": "9032593e",
   "metadata": {},
   "source": [
    "Концентрация свинца только увеличивается от этапа к этапу, причём сильный скачок происходит после флотации и первичной очистки, возможно, есть какое-то нарушение технологического процесса. Либо процесс устроен так, что на этапе флотации происходит очистка от неметаллов, первичиная очистка очищает от серебра, а вторичная в равной степени от серебра и свинца.\n"
   ]
  },
  {
   "cell_type": "markdown",
   "id": "6c1408e1",
   "metadata": {},
   "source": [
    "#### Вывод\n",
    "\n",
    "* Концентрация золота вырастает от этапа к этапу, причём прирост примерно на одинаковую велечину;\n",
    "* Концентрация серебра сначала увеличивается, вероятно, флотация очищает именно от неметаллических примесей, а затем уменьшается от этапа к этапу, остальные 2 этапа очищают золото от серебра.\n",
    "* Концентрация свинца только увеличивается от этапа к этапу, причём сильный скачок происходит после флотации и первичной очистки, возможно, есть какое-то нарушение технологического процесса. Либо процесс устроен так, что на этапе флотации происходит очистка от неметаллов, первичиная очистка очищает от серебра, а вторичная в равной степени от серебра и свинца. "
   ]
  },
  {
   "cell_type": "markdown",
   "id": "a9de3b7a",
   "metadata": {},
   "source": [
    "###  Исследование размера гранул"
   ]
  },
  {
   "cell_type": "markdown",
   "id": "76e511ba",
   "metadata": {},
   "source": [
    "Рассмотрим распределения размеров гранул сырья в тестовой и тренировочной выборках"
   ]
  },
  {
   "cell_type": "code",
   "execution_count": 19,
   "id": "9a06b532",
   "metadata": {},
   "outputs": [
    {
     "data": {
      "image/png": "[encoded data removed]",
      "text/plain": [
       "<Figure size 864x648 with 1 Axes>"
      ]
     },
     "metadata": {
      "needs_background": "light"
     },
     "output_type": "display_data"
    }
   ],
   "source": [
    "fig = plt.figure(figsize=(12, 9))\n",
    "ax1 = fig.add_subplot(1, 1, 1)\n",
    "\n",
    "ax1.set(title='Распределение размеров гранул сырья',\n",
    "        ylabel='Частота',\n",
    "        xlabel='Размер гранулы',\n",
    "        ) \n",
    "\n",
    "\n",
    "ax1.hist(df_train['rougher.input.feed_size'], bins=100, color='red', alpha=0.7, label='Обучающая выборка')\n",
    "ax1.hist(df_test['rougher.input.feed_size'], bins=100, alpha=0.7, label='Тестовая выборка')\n",
    "ax1.legend()\n",
    "plt.show()"
   ]
  },
  {
   "cell_type": "markdown",
   "id": "0b7b4a60",
   "metadata": {},
   "source": [
    "#### Вывод\n",
    "\n",
    "* Распределение размеров гранул индентичны в обучающей и тестовой выборках."
   ]
  },
  {
   "cell_type": "markdown",
   "id": "e16e7a93",
   "metadata": {},
   "source": [
    "### Исследование суммарных концентраций на различных стадиях"
   ]
  },
  {
   "cell_type": "markdown",
   "id": "c1882976",
   "metadata": {},
   "source": [
    "Посчитаем суммарные концентрации маталлов на различных стадиях, будем использовать в расчёте только обучающую выборку:\n"
   ]
  },
  {
   "cell_type": "code",
   "execution_count": 20,
   "id": "7523f146",
   "metadata": {
    "scrolled": true
   },
   "outputs": [
    {
     "data": {
      "image/png": "[encoded data removed]",
      "text/plain": [
       "<Figure size 432x288 with 1 Axes>"
      ]
     },
     "metadata": {
      "needs_background": "light"
     },
     "output_type": "display_data"
    },
    {
     "data": {
      "image/png": "[encoded data removed]",
      "text/plain": [
       "<Figure size 432x288 with 1 Axes>"
      ]
     },
     "metadata": {
      "needs_background": "light"
     },
     "output_type": "display_data"
    },
    {
     "data": {
      "image/png": "[encoded data removed]",
      "text/plain": [
       "<Figure size 432x288 with 1 Axes>"
      ]
     },
     "metadata": {
      "needs_background": "light"
     },
     "output_type": "display_data"
    }
   ],
   "source": [
    "df_train['rougher.input.feed_total'] = df_train[['rougher.input.feed_au',\n",
    "                                               'rougher.input.feed_ag',\n",
    "                                               'rougher.input.feed_pb',\n",
    "                                              'rougher.input.feed_sol']].sum(axis=1)\n",
    "df_train['rougher.output.concentrate_total'] = df_train[['rougher.output.concentrate_au',\n",
    "                                               'rougher.output.concentrate_ag',\n",
    "                                               'rougher.output.concentrate_pb',\n",
    "                                                'rougher.output.concentrate_sol']\n",
    "                                                     ].sum(axis=1)\n",
    "df_train['final.output.concentrate_total'] = df_train[['final.output.concentrate_au',\n",
    "                                               'final.output.concentrate_ag',\n",
    "                                               'final.output.concentrate_pb',\n",
    "                                                'final.output.concentrate_sol']].sum(axis=1)\n",
    "\n",
    "\n",
    "(sns.histplot(df_train['rougher.input.feed_total'])\n",
    " .set_title('Распределение суммарных концентраций до флотации'))\n",
    "plt.show()\n",
    "(sns.histplot(df_train['rougher.output.concentrate_total'])\n",
    " .set_title('Распределение суммарных концентраций после флотации'))\n",
    "plt.show()\n",
    "(sns.histplot(df_train['final.output.concentrate_total'])\n",
    " .set_title('Распределение суммарных концентраций после финальной очистки'))\n",
    "plt.show()"
   ]
  },
  {
   "cell_type": "markdown",
   "id": "5ff3effb",
   "metadata": {},
   "source": [
    "Видны аномальные значения - есть строки, где концентрации нулевые. Отрежем строки, где значения суммарных концентраций меньше 20:"
   ]
  },
  {
   "cell_type": "code",
   "execution_count": 21,
   "id": "d1358c2b",
   "metadata": {},
   "outputs": [],
   "source": [
    "df_train_clean = df_train[df_train['rougher.output.concentrate_total'] > 30].copy()\n",
    "df_train_clean = df_train_clean[df_train_clean['rougher.input.feed_total'] > 30]\n",
    "df_train_clean = (df_train_clean[df_train_clean['final.output.concentrate_total'] > 50]\n",
    "                  .reset_index(drop=True))"
   ]
  },
  {
   "cell_type": "code",
   "execution_count": 22,
   "id": "aa67800e",
   "metadata": {},
   "outputs": [
    {
     "data": {
      "image/png": "[encoded data removed]",
      "text/plain": [
       "<Figure size 432x288 with 1 Axes>"
      ]
     },
     "metadata": {
      "needs_background": "light"
     },
     "output_type": "display_data"
    },
    {
     "data": {
      "image/png": "[encoded data removed]",
      "text/plain": [
       "<Figure size 432x288 with 1 Axes>"
      ]
     },
     "metadata": {
      "needs_background": "light"
     },
     "output_type": "display_data"
    },
    {
     "data": {
      "image/png": "[encoded data removed]",
      "text/plain": [
       "<Figure size 432x288 with 1 Axes>"
      ]
     },
     "metadata": {
      "needs_background": "light"
     },
     "output_type": "display_data"
    }
   ],
   "source": [
    "sns.histplot(df_train_clean['rougher.input.feed_total'])\n",
    "plt.show()\n",
    "sns.histplot(df_train_clean['rougher.output.concentrate_total'])\n",
    "plt.show()\n",
    "sns.histplot(df_train_clean['final.output.concentrate_total'])\n",
    "plt.show()"
   ]
  },
  {
   "cell_type": "markdown",
   "id": "877823d6",
   "metadata": {},
   "source": [
    "#### Вывод\n",
    "\n",
    "В ходе исследования концентрации частиц были выявлены аномальные значения - строки, в которых концентрация всех элементов в сумме равна нулю, а также были отброшены строки, значения финальных концентраций в которых, меньше 30 для `rougher.input.feed_total` и `rougher.output.concentrate_all`, и менее 50 для `final` -  они приняты за выбросы.\n"
   ]
  },
  {
   "cell_type": "markdown",
   "id": "a8bbbbec",
   "metadata": {},
   "source": [
    "## Построение модели"
   ]
  },
  {
   "cell_type": "markdown",
   "id": "2bccb596",
   "metadata": {},
   "source": [
    "### Функция для расчёта sMAPE"
   ]
  },
  {
   "cell_type": "markdown",
   "id": "08528d7d",
   "metadata": {},
   "source": [
    "Функция для расчёта sMape:"
   ]
  },
  {
   "cell_type": "code",
   "execution_count": 23,
   "id": "2431adb8",
   "metadata": {},
   "outputs": [],
   "source": [
    "# функция принимает в себя значения target и predict и выдаёт sMAPE\n",
    "def smape(recovery_true, recovery_predict):\n",
    "    \n",
    "    smape_sum = 0\n",
    "    \n",
    "    y_true = pd.Series(recovery_true).reset_index(drop=True)\n",
    "    y_predict = pd.Series(recovery_predict)\n",
    "      \n",
    "     \n",
    "    smape_sum = np.sum(2 * np.abs(y_true - y_predict) / (np.abs(y_true) + np.abs(y_predict)))\n",
    "    \n",
    "    smape = (100 * smape_sum) / len(y_true)\n",
    "    \n",
    "    return smape"
   ]
  },
  {
   "cell_type": "markdown",
   "id": "0ae2f469",
   "metadata": {},
   "source": [
    "Для того, чтобы можно было использовать нашу функцию в качестве метрики для встроенных методов кросс-валидации, необходимо сделать её `scorer`:"
   ]
  },
  {
   "cell_type": "code",
   "execution_count": 24,
   "id": "dddfb0a7",
   "metadata": {},
   "outputs": [],
   "source": [
    "smape_score=make_scorer(smape, greater_is_better=False)"
   ]
  },
  {
   "cell_type": "markdown",
   "id": "3bd7a468",
   "metadata": {},
   "source": [
    "Стоит заметить, что параметр `greater_is_better=False`, и теперь функция выдаёт отрицательные значения, это сделано для того, чтобы встроенные методы поиска модели типа `GridSearchCV` могли найти её минимум."
   ]
  },
  {
   "cell_type": "markdown",
   "id": "28515a8d",
   "metadata": {},
   "source": [
    "Функция для расчёта финального `sMAPE`:"
   ]
  },
  {
   "cell_type": "code",
   "execution_count": 25,
   "id": "54e7a757",
   "metadata": {},
   "outputs": [],
   "source": [
    "# функция получает на вход sMAPE для rougher и final и выдаёт итоговую sMAPE\n",
    "def smape_total(smape_rougher, smape_final):\n",
    "    return smape_rougher * 0.25 + 0.75 * smape_final"
   ]
  },
  {
   "cell_type": "markdown",
   "id": "1f5d7182",
   "metadata": {},
   "source": [
    "#### Вывод\n",
    "\n",
    "* Написаны функции, для расчёта целевых метрик."
   ]
  },
  {
   "cell_type": "markdown",
   "id": "49714836",
   "metadata": {},
   "source": [
    "### Подготовка данных"
   ]
  },
  {
   "cell_type": "markdown",
   "id": "5837043f",
   "metadata": {},
   "source": [
    "Доступные предикторы:"
   ]
  },
  {
   "cell_type": "code",
   "execution_count": 26,
   "id": "8379cff7",
   "metadata": {
    "scrolled": true
   },
   "outputs": [
    {
     "data": {
      "text/plain": [
       "['primary_cleaner.input.sulfate',\n",
       " 'primary_cleaner.input.depressant',\n",
       " 'primary_cleaner.input.feed_size',\n",
       " 'primary_cleaner.input.xanthate',\n",
       " 'primary_cleaner.state.floatbank8_a_air',\n",
       " 'primary_cleaner.state.floatbank8_a_level',\n",
       " 'primary_cleaner.state.floatbank8_b_air',\n",
       " 'primary_cleaner.state.floatbank8_b_level',\n",
       " 'primary_cleaner.state.floatbank8_c_air',\n",
       " 'primary_cleaner.state.floatbank8_c_level',\n",
       " 'primary_cleaner.state.floatbank8_d_air',\n",
       " 'primary_cleaner.state.floatbank8_d_level',\n",
       " 'rougher.input.feed_ag',\n",
       " 'rougher.input.feed_pb',\n",
       " 'rougher.input.feed_rate',\n",
       " 'rougher.input.feed_size',\n",
       " 'rougher.input.feed_sol',\n",
       " 'rougher.input.feed_au',\n",
       " 'rougher.input.floatbank10_sulfate',\n",
       " 'rougher.input.floatbank10_xanthate',\n",
       " 'rougher.input.floatbank11_sulfate',\n",
       " 'rougher.input.floatbank11_xanthate',\n",
       " 'rougher.state.floatbank10_a_air',\n",
       " 'rougher.state.floatbank10_a_level',\n",
       " 'rougher.state.floatbank10_b_air',\n",
       " 'rougher.state.floatbank10_b_level',\n",
       " 'rougher.state.floatbank10_c_air',\n",
       " 'rougher.state.floatbank10_c_level',\n",
       " 'rougher.state.floatbank10_d_air',\n",
       " 'rougher.state.floatbank10_d_level',\n",
       " 'rougher.state.floatbank10_e_air',\n",
       " 'rougher.state.floatbank10_e_level',\n",
       " 'rougher.state.floatbank10_f_air',\n",
       " 'rougher.state.floatbank10_f_level',\n",
       " 'secondary_cleaner.state.floatbank2_a_air',\n",
       " 'secondary_cleaner.state.floatbank2_a_level',\n",
       " 'secondary_cleaner.state.floatbank2_b_air',\n",
       " 'secondary_cleaner.state.floatbank2_b_level',\n",
       " 'secondary_cleaner.state.floatbank3_a_air',\n",
       " 'secondary_cleaner.state.floatbank3_a_level',\n",
       " 'secondary_cleaner.state.floatbank3_b_air',\n",
       " 'secondary_cleaner.state.floatbank3_b_level',\n",
       " 'secondary_cleaner.state.floatbank4_a_air',\n",
       " 'secondary_cleaner.state.floatbank4_a_level',\n",
       " 'secondary_cleaner.state.floatbank4_b_air',\n",
       " 'secondary_cleaner.state.floatbank4_b_level',\n",
       " 'secondary_cleaner.state.floatbank5_a_air',\n",
       " 'secondary_cleaner.state.floatbank5_a_level',\n",
       " 'secondary_cleaner.state.floatbank5_b_air',\n",
       " 'secondary_cleaner.state.floatbank5_b_level',\n",
       " 'secondary_cleaner.state.floatbank6_a_air',\n",
       " 'secondary_cleaner.state.floatbank6_a_level']"
      ]
     },
     "execution_count": 26,
     "metadata": {},
     "output_type": "execute_result"
    }
   ],
   "source": [
    "list(available_features)"
   ]
  },
  {
   "cell_type": "markdown",
   "id": "286584ac",
   "metadata": {},
   "source": [
    "Таким образом, в представленном выше списке у нас собраны все предикторы. Они характеризуют процесс очистки."
   ]
  },
  {
   "cell_type": "markdown",
   "id": "7dbe9a43",
   "metadata": {},
   "source": [
    "Выделим предикторы, которые предсказывают нам целевой показатель после флотации, в своём названии они содержат `rougher`:"
   ]
  },
  {
   "cell_type": "code",
   "execution_count": 27,
   "id": "ea32a0f0",
   "metadata": {},
   "outputs": [
    {
     "data": {
      "text/plain": [
       "['rougher.input.feed_ag',\n",
       " 'rougher.input.feed_pb',\n",
       " 'rougher.input.feed_rate',\n",
       " 'rougher.input.feed_size',\n",
       " 'rougher.input.feed_sol',\n",
       " 'rougher.input.feed_au',\n",
       " 'rougher.input.floatbank10_sulfate',\n",
       " 'rougher.input.floatbank10_xanthate',\n",
       " 'rougher.input.floatbank11_sulfate',\n",
       " 'rougher.input.floatbank11_xanthate',\n",
       " 'rougher.state.floatbank10_a_air',\n",
       " 'rougher.state.floatbank10_a_level',\n",
       " 'rougher.state.floatbank10_b_air',\n",
       " 'rougher.state.floatbank10_b_level',\n",
       " 'rougher.state.floatbank10_c_air',\n",
       " 'rougher.state.floatbank10_c_level',\n",
       " 'rougher.state.floatbank10_d_air',\n",
       " 'rougher.state.floatbank10_d_level',\n",
       " 'rougher.state.floatbank10_e_air',\n",
       " 'rougher.state.floatbank10_e_level',\n",
       " 'rougher.state.floatbank10_f_air',\n",
       " 'rougher.state.floatbank10_f_level']"
      ]
     },
     "execution_count": 27,
     "metadata": {},
     "output_type": "execute_result"
    }
   ],
   "source": [
    "available_features_rougher = []\n",
    "\n",
    "for feature in available_features:\n",
    "    if 'rougher' in feature:\n",
    "         available_features_rougher.append(feature) \n",
    "           \n",
    "        \n",
    "available_features_rougher        "
   ]
  },
  {
   "cell_type": "markdown",
   "id": "c6c96a2b",
   "metadata": {},
   "source": [
    "Таким образом, мы получили предикторы для показателя восстановления после флотации."
   ]
  },
  {
   "cell_type": "markdown",
   "id": "e116c3ba",
   "metadata": {},
   "source": [
    "Выделим предикторы и целевой показатель после флотации из обучающего набора:"
   ]
  },
  {
   "cell_type": "code",
   "execution_count": 28,
   "id": "aafa7d17",
   "metadata": {},
   "outputs": [],
   "source": [
    "features_rougher = df_train_clean[available_features_rougher]\n",
    "target_rougher = df_train_clean['rougher.output.recovery']"
   ]
  },
  {
   "cell_type": "markdown",
   "id": "97645370",
   "metadata": {},
   "source": [
    "Выделим предикторы и целевой показатель после финальной очистки из обучающего набора, для него мы будем использовать все имеющиеся предикторы:"
   ]
  },
  {
   "cell_type": "code",
   "execution_count": 29,
   "id": "99acb7f5",
   "metadata": {},
   "outputs": [],
   "source": [
    "features_final = df_train_clean[available_features]\n",
    "target_final = df_train_clean['final.output.recovery']"
   ]
  },
  {
   "cell_type": "markdown",
   "id": "f968b6b8",
   "metadata": {},
   "source": [
    "Обучим и отмасштабируем данные:"
   ]
  },
  {
   "cell_type": "code",
   "execution_count": 30,
   "id": "42d4ab69",
   "metadata": {},
   "outputs": [
    {
     "data": {
      "text/plain": [
       "array([[-1.34665446, -1.13954624,  0.46273857, ...,  0.16712583,\n",
       "         2.16357183,  0.2249748 ],\n",
       "       [-1.31400506, -1.15700268,  0.47994312, ...,  0.24867044,\n",
       "         2.0686227 ,  0.25727766],\n",
       "       [-1.33801206, -1.25539298,  0.52665721, ...,  0.26522139,\n",
       "         2.07203112,  0.25003608],\n",
       "       ...,\n",
       "       [-1.41646448,  0.46476186,  0.77971913, ..., -0.63254361,\n",
       "        -1.06637369, -0.75013087],\n",
       "       [-1.37474119,  0.35615022,  0.67170153, ..., -0.60653085,\n",
       "        -1.06129407, -0.61217464],\n",
       "       [-1.31529294,  0.33136117,  0.78107376, ..., -0.61034853,\n",
       "        -1.06833363, -0.61722333]])"
      ]
     },
     "execution_count": 30,
     "metadata": {},
     "output_type": "execute_result"
    }
   ],
   "source": [
    "scaler_rougher = StandardScaler()\n",
    "scaler_rougher.fit(features_rougher)\n",
    "features_rougher = scaler_rougher.transform(features_rougher)\n",
    "features_rougher"
   ]
  },
  {
   "cell_type": "code",
   "execution_count": 31,
   "id": "c507ec1c",
   "metadata": {},
   "outputs": [
    {
     "data": {
      "text/plain": [
       "array([[-0.18385327,  0.37203068, -0.12525319, ..., -0.43135678,\n",
       "        -0.96148235, -2.70479582],\n",
       "       [-0.22141357,  0.42196192, -0.12525319, ..., -0.43422998,\n",
       "        -0.98817304, -2.53945261],\n",
       "       [-0.26787504,  0.7252045 , -0.12525319, ..., -0.4325608 ,\n",
       "        -0.98288502, -2.58424231],\n",
       "       ...,\n",
       "       [-0.73401633, -0.27403105, -1.34447395, ..., -0.41697434,\n",
       "         0.05729459,  0.14405114],\n",
       "       [-0.908253  , -0.26539419, -1.34447395, ..., -0.41857327,\n",
       "         0.06132478,  0.1684365 ],\n",
       "       [-1.00151653, -0.23721328, -1.34447395, ..., -0.42127942,\n",
       "         0.05719871,  0.20759306]])"
      ]
     },
     "execution_count": 31,
     "metadata": {},
     "output_type": "execute_result"
    }
   ],
   "source": [
    "scaler_final = StandardScaler()\n",
    "scaler_final.fit(features_final)\n",
    "features_final = scaler_final.transform(features_final)\n",
    "features_final"
   ]
  },
  {
   "cell_type": "markdown",
   "id": "f3dab7e9",
   "metadata": {},
   "source": [
    "#### Вывод\n",
    "\n",
    "* Для предсказания `recovery` после флотации были выделены отдельные предикторы;\n",
    "* Были выделены `features` и `target` для обучающей.\n",
    "* Предикторы были отмасштабированы для обучающей выборки.\n"
   ]
  },
  {
   "cell_type": "markdown",
   "id": "9f5aca80",
   "metadata": {},
   "source": [
    "### Подбор моделей"
   ]
  },
  {
   "cell_type": "markdown",
   "id": "479a666e",
   "metadata": {},
   "source": [
    "#### Линейная регрессия"
   ]
  },
  {
   "cell_type": "code",
   "execution_count": 32,
   "id": "e6464241",
   "metadata": {},
   "outputs": [
    {
     "name": "stdout",
     "output_type": "stream",
     "text": [
      "Средний показатель sMAPE для линейной регресси после флотации: 8.42%\n"
     ]
    }
   ],
   "source": [
    "model_lin_rougher = LinearRegression()\n",
    "lin_rougher_score = abs(cross_val_score(model_lin_rougher,\n",
    "                       features_rougher,\n",
    "                       target_rougher,\n",
    "                       scoring=smape_score,\n",
    "                       cv=3).mean())\n",
    "print(f'Средний показатель sMAPE для линейной регресси после флотации: {lin_rougher_score:.2f}%')"
   ]
  },
  {
   "cell_type": "code",
   "execution_count": 33,
   "id": "c71fae65",
   "metadata": {},
   "outputs": [
    {
     "name": "stdout",
     "output_type": "stream",
     "text": [
      "Средний показатель sMAPE для линейной регресси после финальной очистки: 12.71%\n"
     ]
    }
   ],
   "source": [
    "model_lin_final = LinearRegression()\n",
    "lin_final_score = abs(cross_val_score(model_lin_final,\n",
    "                       features_final,\n",
    "                       target_final,\n",
    "                       scoring=smape_score,\n",
    "                       cv=3).mean())\n",
    "print(f'Средний показатель sMAPE для линейной регресси после финальной очистки: {lin_final_score:.2f}%')"
   ]
  },
  {
   "cell_type": "code",
   "execution_count": 34,
   "id": "ab434575",
   "metadata": {},
   "outputs": [
    {
     "name": "stdout",
     "output_type": "stream",
     "text": [
      "Финальный показатель: 11.63%\n"
     ]
    }
   ],
   "source": [
    "print(f'Финальный показатель: {smape_total(lin_rougher_score, lin_final_score):.2f}%')"
   ]
  },
  {
   "cell_type": "markdown",
   "id": "bd09fa38",
   "metadata": {},
   "source": [
    "Обучим модели на всех данных:"
   ]
  },
  {
   "cell_type": "code",
   "execution_count": 35,
   "id": "2d3c2b20",
   "metadata": {},
   "outputs": [
    {
     "data": {
      "text/plain": [
       "LinearRegression()"
      ]
     },
     "execution_count": 35,
     "metadata": {},
     "output_type": "execute_result"
    }
   ],
   "source": [
    "model_lin_rougher.fit(features_rougher, target_rougher)\n",
    "model_lin_final.fit(features_final, target_final)"
   ]
  },
  {
   "cell_type": "markdown",
   "id": "66dab91e",
   "metadata": {},
   "source": [
    "#### Случайный лес"
   ]
  },
  {
   "cell_type": "markdown",
   "id": "9f0e8da8",
   "metadata": {},
   "source": [
    "Подбор параметров и кросс валидацию будем проводить с помощью метода `RandomizedSearchCV`:"
   ]
  },
  {
   "cell_type": "code",
   "execution_count": 620,
   "id": "a538ca8d",
   "metadata": {},
   "outputs": [],
   "source": [
    "depths = list(range(1, 10))\n",
    "n_estimators = list(range(50, 150, 50))\n",
    "params_rf = {\n",
    "              'max_depth' : depths,\n",
    "              'n_estimators' : n_estimators\n",
    "               }\n",
    "\n",
    "rf_rougher = RandomizedSearchCV(RandomForestRegressor(random_state=12345),\n",
    "                                  param_distributions=params_rf,\n",
    "                                  cv=3,\n",
    "                                  n_iter=5,\n",
    "                                  scoring=smape_score,\n",
    "                                  random_state=12345,\n",
    "                                  )\n",
    "\n",
    "rf_rougher.fit(features_rougher, target_rougher)\n",
    "smape_rf_rougher_best = abs(rf_rougher.best_score_)\n",
    "\n",
    "print(f'Лучшая модель случайного леса показала smape -  {smape_rf_rougher_best}')\n",
    "print(f'Параметры лучшей модели случайного для rougher.outout.recovery : {rf_rougher.best_params_}')"
   ]
  },
  {
   "cell_type": "markdown",
   "id": "92463f83",
   "metadata": {},
   "source": [
    "Для финального показателя:"
   ]
  },
  {
   "cell_type": "code",
   "execution_count": 621,
   "id": "ac36f898",
   "metadata": {},
   "outputs": [],
   "source": [
    "rf_final = RandomizedSearchCV(RandomForestRegressor(random_state=12345),\n",
    "                                  param_distributions=params_rf,\n",
    "                                  cv=3,\n",
    "                                  n_iter=5,\n",
    "                                  scoring=smape_score,\n",
    "                                  random_state=12345,\n",
    "                                  )\n",
    "\n",
    "rf_final.fit(features_final, target_final)\n",
    "smape_rf_final_best = abs(rf_final.best_score_)\n",
    "\n",
    "print(f'Лучшая модель случайного леса показала smape -  {smape_rf_final_best}')\n",
    "print(f'Параметры лучшей модели случайного для final.outout.recovery : {rf_final.best_params_}')"
   ]
  },
  {
   "cell_type": "code",
   "execution_count": 622,
   "id": "44b5e084",
   "metadata": {},
   "outputs": [],
   "source": [
    "print(f'Итоговый sMAPE для случайного леса: {smape_total(smape_rf_rougher_best ,smape_rf_final_best):.2f}%')"
   ]
  },
  {
   "cell_type": "markdown",
   "id": "0e77081b",
   "metadata": {},
   "source": [
    "Обучим модели на полной выборке:"
   ]
  },
  {
   "cell_type": "code",
   "execution_count": 623,
   "id": "74ae6c2d",
   "metadata": {},
   "outputs": [
    {
     "data": {},
     "execution_count": 623,
     "metadata": {},
     "output_type": "execute_result"
    }
   ],
   "source": [
    "rf_rougher = RandomForestRegressor(random_state=12345,\n",
    "                                    max_depth=rf_rougher.best_params_['max_depth'],\n",
    "                                    n_estimators=rf_rougher.best_params_['n_estimators'])\n",
    "\n",
    "rf_final = RandomForestRegressor(random_state=12345,\n",
    "                                    max_depth=rf_final.best_params_['max_depth'],\n",
    "                                    n_estimators=rf_final.best_params_['n_estimators'])\n",
    "\n",
    "rf_rougher.fit(features_rougher, target_rougher)\n",
    "rf_final.fit(features_final, target_final)"
   ]
  },
  {
   "cell_type": "markdown",
   "id": "69fbe64a",
   "metadata": {},
   "source": [
    "#### LightGBM"
   ]
  },
  {
   "cell_type": "code",
   "execution_count": 624,
   "id": "81998017",
   "metadata": {},
   "outputs": [],
   "source": [
    "depths = [1, 2, 3, 4, 5]\n",
    "n_estimators = [10, 20, 30, 40, 50, 60, 70, 80, 90, 100, 150, 200, 300]\n",
    "learning_rate = [0.05, 0.1, 0.15, 0.2]\n",
    "params_lgbm = {'learning_rate' : learning_rate,\n",
    "              'max_depth' : depths,\n",
    "              'n_estimators' : n_estimators\n",
    "               }\n",
    "\n",
    "lgbm_rougher = RandomizedSearchCV(LGBMRegressor(random_state=12345,\n",
    "                                                     ),\n",
    "                                  param_distributions=params_lgbm,\n",
    "                                  cv=3,\n",
    "                                  n_iter=50,\n",
    "                                  scoring=smape_score,\n",
    "                                  random_state=12345,\n",
    "                                  )\n",
    "\n",
    "lgbm_rougher.fit(features_rougher, target_rougher)\n",
    "smape_lgbm_rougher_best = abs(lgbm_rougher.best_score_)\n",
    "\n",
    "print(f'Лучшая модель показала smape -  {smape_lgbm_rougher_best}')\n",
    "print(f'Параметры лучшей модели для rougher.outout.recovery : {lgbm_rougher.best_params_}')"
   ]
  },
  {
   "cell_type": "code",
   "execution_count": 625,
   "id": "23474ba9",
   "metadata": {},
   "outputs": [],
   "source": [
    "lgbm_final = RandomizedSearchCV(LGBMRegressor(random_state=12345,\n",
    "                                                     ),\n",
    "                                  param_distributions=params_lgbm,\n",
    "                                  cv=3,\n",
    "                                  n_iter=50,\n",
    "                                  scoring=smape_score,\n",
    "                                  random_state=12345,\n",
    "                                  )\n",
    "\n",
    "lgbm_final.fit(features_final, target_final)\n",
    "smape_lgbm_final_best = abs(lgbm_final.best_score_)\n",
    "\n",
    "print(f'Лучшая модель показала smape -  {smape_lgbm_final_best:.2f}%')\n",
    "print(f'Параметры лучшей модели для final.outout.recovery : {lgbm_final.best_params_}')"
   ]
  },
  {
   "cell_type": "code",
   "execution_count": 626,
   "id": "d02fd2ef",
   "metadata": {},
   "outputs": [],
   "source": [
    "(print(f'''Итоговой sMAPE для LighGBM для обучающей выборки: {smape_total(smape_lgbm_rougher_best,\n",
    "smape_lgbm_final_best):.2f}%'''))"
   ]
  },
  {
   "cell_type": "markdown",
   "id": "e322772f",
   "metadata": {},
   "source": [
    "Обучим модели на целом датасете:"
   ]
  },
  {
   "cell_type": "code",
   "execution_count": 627,
   "id": "04f78c2c",
   "metadata": {},
   "outputs": [
    {
     "data": {},
     "execution_count": 627,
     "metadata": {},
     "output_type": "execute_result"
    }
   ],
   "source": [
    "lgbm_rougher = LGBMRegressor(random_state=12345,\n",
    "                             n_estimators=lgbm_rougher.best_params_['n_estimators'],\n",
    "                             max_depth=lgbm_rougher.best_params_['max_depth'],\n",
    "                             learning_rate=lgbm_rougher.best_params_['learning_rate']\n",
    "                            )\n",
    "\n",
    "lgbm_rougher.fit(features_rougher, target_rougher)"
   ]
  },
  {
   "cell_type": "code",
   "execution_count": 628,
   "id": "e9f5b172",
   "metadata": {},
   "outputs": [
    {
     "data": {},
     "execution_count": 628,
     "metadata": {},
     "output_type": "execute_result"
    }
   ],
   "source": [
    "lgbm_final = LGBMRegressor(random_state=12345,\n",
    "                             n_estimators=lgbm_final.best_params_['n_estimators'],\n",
    "                             max_depth=lgbm_final.best_params_['max_depth'],\n",
    "                             learning_rate=lgbm_final.best_params_['learning_rate']\n",
    "                            )\n",
    "\n",
    "lgbm_final.fit(features_final, target_final)"
   ]
  },
  {
   "cell_type": "markdown",
   "id": "7c1919d1",
   "metadata": {},
   "source": [
    "#### Вывод\n",
    "\n",
    "* Было подобрано 3 вида моделей:\n",
    "    * Линейная регрессия;\n",
    "    * Случайный лес;\n",
    "    * LighGBM.\n",
    "    \n",
    "Лучше всех в результате кросс-валидации себя показал `LightGBM` с `sMAPE=9.06`.    "
   ]
  },
  {
   "cell_type": "markdown",
   "id": "6db66960",
   "metadata": {},
   "source": [
    "### Проверка моделей"
   ]
  },
  {
   "cell_type": "markdown",
   "id": "686e39a7",
   "metadata": {},
   "source": [
    "Дополним тестовую выборку целевыми показателями:"
   ]
  },
  {
   "cell_type": "code",
   "execution_count": 36,
   "id": "ac16526a",
   "metadata": {},
   "outputs": [],
   "source": [
    "df_test_merged = df_test.merge(df_full[['date', 'rougher.output.recovery', 'final.output.recovery']],\n",
    "                               on='date')"
   ]
  },
  {
   "cell_type": "markdown",
   "id": "6a19f37f",
   "metadata": {},
   "source": [
    "Разделим на предикторы и целевые показатели:"
   ]
  },
  {
   "cell_type": "code",
   "execution_count": 37,
   "id": "6abfa596",
   "metadata": {},
   "outputs": [],
   "source": [
    "features_test_rougher = df_test_merged[available_features_rougher]\n",
    "features_test_final = df_test_merged[available_features]\n",
    "target_test_rougher = df_test_merged['rougher.output.recovery']\n",
    "target_test_final = df_test_merged['final.output.recovery']"
   ]
  },
  {
   "cell_type": "markdown",
   "id": "43147b48",
   "metadata": {},
   "source": [
    "Отмасштабируем `features`:"
   ]
  },
  {
   "cell_type": "code",
   "execution_count": 38,
   "id": "c45fc80c",
   "metadata": {},
   "outputs": [],
   "source": [
    "features_test_rougher = scaler_rougher.transform(features_test_rougher)\n",
    "features_test_final = scaler_final.transform(features_test_final)"
   ]
  },
  {
   "cell_type": "markdown",
   "id": "67f53498",
   "metadata": {},
   "source": [
    "***Линейная регрессия***"
   ]
  },
  {
   "cell_type": "code",
   "execution_count": 39,
   "id": "57dc0341",
   "metadata": {},
   "outputs": [],
   "source": [
    "def get_stats(features_test_rougher,\n",
    "              features_test_final,\n",
    "              target_test_rougher,\n",
    "              target_test_final,\n",
    "             model_rougher,\n",
    "              model_final,\n",
    "             model_name='Линейная регрессия'):\n",
    "\n",
    "    predict_rougher = model_rougher.predict(features_test_rougher)\n",
    "    predict_final = model_final.predict(features_test_final)\n",
    "    smape_rougher = smape(predict_rougher, target_test_rougher)\n",
    "    smape_final = smape(predict_final, target_test_final)\n",
    "    print(f'Для {model_name} sMAPE rougher.recovery: {smape_rougher:.2f}%')\n",
    "    print(f'Для {model_name} sMAPE final.recovery: {smape_final:.2f}%')\n",
    "    print(f'Для {model_name} итоговый sMAPE: {smape_total(smape_rougher, smape_final):.2f}%')"
   ]
  },
  {
   "cell_type": "code",
   "execution_count": 40,
   "id": "8a94ab23",
   "metadata": {
    "scrolled": true
   },
   "outputs": [
    {
     "name": "stdout",
     "output_type": "stream",
     "text": [
      "Для Линейная регрессия sMAPE rougher.recovery: 8.22%\n",
      "Для Линейная регрессия sMAPE final.recovery: 10.07%\n",
      "Для Линейная регрессия итоговый sMAPE: 9.61%\n"
     ]
    }
   ],
   "source": [
    "get_stats(features_test_rougher,\n",
    "              features_test_final,\n",
    "              target_test_rougher,\n",
    "              target_test_final,\n",
    "             model_lin_rougher,\n",
    "          model_lin_final,\n",
    "             model_name='Линейная регрессия')"
   ]
  },
  {
   "cell_type": "markdown",
   "id": "b3fd97c9",
   "metadata": {},
   "source": [
    "***Случайный лес***"
   ]
  },
  {
   "cell_type": "code",
   "execution_count": 634,
   "id": "5f4aead2",
   "metadata": {},
   "outputs": [],
   "source": [
    "get_stats(features_test_rougher,\n",
    "              features_test_final,\n",
    "              target_test_rougher,\n",
    "              target_test_final,\n",
    "             rf_rougher,\n",
    "          rf_final,\n",
    "             model_name='Случайный лес')"
   ]
  },
  {
   "cell_type": "markdown",
   "id": "5c96905c",
   "metadata": {},
   "source": [
    "***LightGBM***"
   ]
  },
  {
   "cell_type": "code",
   "execution_count": 635,
   "id": "1e4cf339",
   "metadata": {
    "scrolled": true
   },
   "outputs": [],
   "source": [
    "get_stats(features_test_rougher,\n",
    "              features_test_final,\n",
    "              target_test_rougher,\n",
    "              target_test_final,\n",
    "             lgbm_rougher,\n",
    "          lgbm_final,\n",
    "             model_name='LightGBM')"
   ]
  },
  {
   "cell_type": "code",
   "execution_count": 41,
   "id": "98386099",
   "metadata": {},
   "outputs": [
    {
     "data": {
      "text/plain": [
       "DummyRegressor(strategy='median')"
      ]
     },
     "execution_count": 41,
     "metadata": {},
     "output_type": "execute_result"
    }
   ],
   "source": [
    "dummy_rougher = DummyRegressor(strategy='median')\n",
    "dummy_final = DummyRegressor(strategy='median')\n",
    "dummy_rougher.fit(features_rougher, target_rougher)\n",
    "dummy_final.fit(features_final, target_final)"
   ]
  },
  {
   "cell_type": "code",
   "execution_count": 637,
   "id": "fe7a8b4f",
   "metadata": {},
   "outputs": [],
   "source": [
    "get_stats(features_test_rougher,\n",
    "              features_test_final,\n",
    "              target_test_rougher,\n",
    "              target_test_final,\n",
    "             dummy_rougher,\n",
    "          dummy_final,\n",
    "             model_name='DummyRegressor')"
   ]
  },
  {
   "cell_type": "markdown",
   "id": "f11671be",
   "metadata": {},
   "source": [
    "#### Вывод\n",
    "\n",
    "В результате тестирования моделей:\n",
    "* Константная модель показала итоговый `sMAPE=9.43%` с медианной стратегией;\n",
    "* Модель линейной регрессии показала себя хуже константной модели `sMAPE=9.61%`\n",
    "* Модель случайного леса показала себя немного лучше константной модели `sMAPE=9.27%`\n",
    "* Модель LightGBM показала себя лучше всех: `sMAPE=8.57%`.\n",
    "\n",
    "\n",
    "Таким образом, лучшая модель - `LightGBM`."
   ]
  },
  {
   "cell_type": "markdown",
   "id": "8cc35c2a",
   "metadata": {},
   "source": [
    "## Общий вывод\n",
    "\n",
    "* Данные представлены в 3-х таблицах;\n",
    "* Как видно из названий столбцов, есть данные для каждого этапа очистки, эти данные в свою очередь подразделяются на данные до `input`, после `output`, данные процесса `state`.\n",
    "* Количество столбцов в тестовой выборке отличается от количества в тренировочной, в дальнейшем исследуем различия.\n",
    "* Все переменные - количественные, непрерывные, кроме даты, которая не будет фигурировать как переменная в модели.\n",
    "* Рассчитанное значение коэффициента восстановления после флотации совпадает с тем, что дано в таблице.\n",
    "* Среди недоступных признаков:\n",
    "    * Признаки типа `output` - признаки, которые являлись бы утечкой, так как от них явно зависит целевой показатель.\n",
    "    * Признаки типа `calculation` - также являлись бы утечкой так как являются производным параметров, из который явно вычисляется целевой показатель.\n",
    "    * `recovery` - целевой признак, естественно не доступен.\n",
    "* Были выделены доступные для обучения признаки;   \n",
    "* Пропуски в данных заполнены соседним значением;\n",
    "* Типы данных приведены к оптимальным.\n",
    "* Концентрация золота вырастает от этапа к этапу, причём прирост примерно на одинаковую велечину;\n",
    "* Концентрация серебра сначала увеличивается, вероятно, флотация очищает именно от неметаллических примесей, а затем уменьшается от этапа к этапу, остальные 2 этапа очищают золото от серебра.\n",
    "* Концентрация свинца только увеличивается от этапа к этапу, причём сильный скачок происходит после флотации и первичной очистки, возможно, есть какое-то нарушение технологического процесса. Либо процесс устроен так, что на этапе флотации происходит очистка от неметаллов, первичиная очистка очищает от серебра, а вторичная в равной степени от серебра и свинца.\n",
    "* Распределение размеров гранул индентичны в обучающей и тестовой выборках.\n",
    "* В ходе исследования концентрации частиц были выявлены аномальные значения - строки, в которых концентрация всех элементов в сумме равна нулю, а также были отброшены строки, значения финальных концентраций в которых, меньше 30 для `rougher.input.feed_total` и `rougher.output.concentrate_all`, и менее 50 для `final` -  они приняты за выбросы.\n",
    "* Написаны функции, для расчёта целевых метрик.\n",
    "* Для предсказания `recovery` после флотации были выделены отдельные предикторы;\n",
    "* Были выделены `features` и `target` для обучающей.\n",
    "* Предикторы были отмасштабированы для обучающей выборки.\n",
    "* Было подобрано 3 вида моделей:\n",
    "    * Линейная регрессия;\n",
    "    * Случайный лес;\n",
    "    * LighGBM.\n",
    "    \n",
    "* Лучше всех в результате кросс-валидации себя показал `LightGBM` с `sMAPE=9.06`.  \n",
    "* В результате тестирования моделей:\n",
    "* Константная модель показала итоговый `sMAPE=9.43%` с медианной стратегией;\n",
    "* Модель линейной регрессии показала себя хуже константной модели `sMAPE=9.61%`\n",
    "* Модель случайного леса показала себя немного лучше константной модели `sMAPE=9.27%`\n",
    "* Модель LightGBM показала себя лучше всех: `sMAPE=8.57%`.\n",
    "\n",
    "\n",
    "* Таким образом, лучшая модель - `LightGBM`.\n",
    "\n"
   ]
  }
 ],
 "metadata": {
  "ExecuteTimeLog": [
   {
    "duration": 1852,
    "start_time": "2022-04-23T07:50:26.040Z"
   },
   {
    "duration": 256,
    "start_time": "2022-04-23T07:50:27.895Z"
   },
   {
    "duration": 0,
    "start_time": "2022-04-23T07:50:28.155Z"
   },
   {
    "duration": 0,
    "start_time": "2022-04-23T07:50:28.156Z"
   },
   {
    "duration": 0,
    "start_time": "2022-04-23T07:50:28.158Z"
   },
   {
    "duration": 0,
    "start_time": "2022-04-23T07:50:28.160Z"
   },
   {
    "duration": 0,
    "start_time": "2022-04-23T07:50:28.161Z"
   },
   {
    "duration": 0,
    "start_time": "2022-04-23T07:50:28.163Z"
   },
   {
    "duration": 0,
    "start_time": "2022-04-23T07:50:28.164Z"
   },
   {
    "duration": 0,
    "start_time": "2022-04-23T07:50:28.166Z"
   },
   {
    "duration": 0,
    "start_time": "2022-04-23T07:50:28.167Z"
   },
   {
    "duration": 0,
    "start_time": "2022-04-23T07:50:28.169Z"
   },
   {
    "duration": 0,
    "start_time": "2022-04-23T07:50:28.170Z"
   },
   {
    "duration": 0,
    "start_time": "2022-04-23T07:50:28.194Z"
   },
   {
    "duration": 0,
    "start_time": "2022-04-23T07:50:28.195Z"
   },
   {
    "duration": 0,
    "start_time": "2022-04-23T07:50:28.196Z"
   },
   {
    "duration": 0,
    "start_time": "2022-04-23T07:50:28.197Z"
   },
   {
    "duration": 0,
    "start_time": "2022-04-23T07:50:28.198Z"
   },
   {
    "duration": 0,
    "start_time": "2022-04-23T07:50:28.199Z"
   },
   {
    "duration": 0,
    "start_time": "2022-04-23T07:50:28.201Z"
   },
   {
    "duration": 0,
    "start_time": "2022-04-23T07:50:28.202Z"
   },
   {
    "duration": 0,
    "start_time": "2022-04-23T07:50:28.202Z"
   },
   {
    "duration": 0,
    "start_time": "2022-04-23T07:50:28.203Z"
   },
   {
    "duration": 0,
    "start_time": "2022-04-23T07:50:28.205Z"
   },
   {
    "duration": 0,
    "start_time": "2022-04-23T07:50:28.205Z"
   },
   {
    "duration": 0,
    "start_time": "2022-04-23T07:50:28.207Z"
   },
   {
    "duration": 1,
    "start_time": "2022-04-23T07:50:28.207Z"
   },
   {
    "duration": 0,
    "start_time": "2022-04-23T07:50:28.209Z"
   },
   {
    "duration": 0,
    "start_time": "2022-04-23T07:50:28.210Z"
   },
   {
    "duration": 0,
    "start_time": "2022-04-23T07:50:28.211Z"
   },
   {
    "duration": 0,
    "start_time": "2022-04-23T07:50:28.212Z"
   },
   {
    "duration": 0,
    "start_time": "2022-04-23T07:50:28.213Z"
   },
   {
    "duration": 0,
    "start_time": "2022-04-23T07:50:28.214Z"
   },
   {
    "duration": 0,
    "start_time": "2022-04-23T07:50:28.215Z"
   },
   {
    "duration": 0,
    "start_time": "2022-04-23T07:50:28.216Z"
   },
   {
    "duration": 0,
    "start_time": "2022-04-23T07:50:28.217Z"
   },
   {
    "duration": 0,
    "start_time": "2022-04-23T07:50:28.218Z"
   },
   {
    "duration": 0,
    "start_time": "2022-04-23T07:50:28.219Z"
   },
   {
    "duration": 0,
    "start_time": "2022-04-23T07:50:28.220Z"
   },
   {
    "duration": 0,
    "start_time": "2022-04-23T07:50:28.221Z"
   },
   {
    "duration": 0,
    "start_time": "2022-04-23T07:50:28.222Z"
   },
   {
    "duration": 0,
    "start_time": "2022-04-23T07:50:28.223Z"
   },
   {
    "duration": 0,
    "start_time": "2022-04-23T07:50:28.225Z"
   },
   {
    "duration": 0,
    "start_time": "2022-04-23T07:50:28.226Z"
   },
   {
    "duration": 0,
    "start_time": "2022-04-23T07:50:28.228Z"
   },
   {
    "duration": 0,
    "start_time": "2022-04-23T07:50:28.292Z"
   },
   {
    "duration": 0,
    "start_time": "2022-04-23T07:50:28.293Z"
   },
   {
    "duration": 0,
    "start_time": "2022-04-23T07:50:28.294Z"
   },
   {
    "duration": 0,
    "start_time": "2022-04-23T07:50:28.296Z"
   },
   {
    "duration": 0,
    "start_time": "2022-04-23T07:50:28.298Z"
   },
   {
    "duration": 5,
    "start_time": "2022-04-23T07:50:52.538Z"
   },
   {
    "duration": 720,
    "start_time": "2022-04-23T07:50:52.545Z"
   },
   {
    "duration": 3,
    "start_time": "2022-04-23T07:50:53.267Z"
   },
   {
    "duration": 122,
    "start_time": "2022-04-23T07:50:53.273Z"
   },
   {
    "duration": 4,
    "start_time": "2022-04-23T07:50:53.397Z"
   },
   {
    "duration": 341,
    "start_time": "2022-04-23T07:50:53.403Z"
   },
   {
    "duration": 5,
    "start_time": "2022-04-23T07:50:53.746Z"
   },
   {
    "duration": 8,
    "start_time": "2022-04-23T07:50:53.753Z"
   },
   {
    "duration": 7,
    "start_time": "2022-04-23T07:50:53.762Z"
   },
   {
    "duration": 140,
    "start_time": "2022-04-23T07:50:53.792Z"
   },
   {
    "duration": 79,
    "start_time": "2022-04-23T07:50:53.934Z"
   },
   {
    "duration": 416,
    "start_time": "2022-04-23T07:50:54.014Z"
   },
   {
    "duration": 68,
    "start_time": "2022-04-23T07:50:54.432Z"
   },
   {
    "duration": 220,
    "start_time": "2022-04-23T07:50:54.502Z"
   },
   {
    "duration": 211,
    "start_time": "2022-04-23T07:50:54.724Z"
   },
   {
    "duration": 202,
    "start_time": "2022-04-23T07:50:54.992Z"
   },
   {
    "duration": 1024,
    "start_time": "2022-04-23T07:50:55.196Z"
   },
   {
    "duration": 1983,
    "start_time": "2022-04-23T07:50:56.222Z"
   },
   {
    "duration": 19,
    "start_time": "2022-04-23T07:50:58.206Z"
   },
   {
    "duration": 1136,
    "start_time": "2022-04-23T07:50:58.227Z"
   },
   {
    "duration": 4,
    "start_time": "2022-04-23T07:50:59.365Z"
   },
   {
    "duration": 5,
    "start_time": "2022-04-23T07:50:59.371Z"
   },
   {
    "duration": 16,
    "start_time": "2022-04-23T07:50:59.377Z"
   },
   {
    "duration": 16,
    "start_time": "2022-04-23T07:50:59.394Z"
   },
   {
    "duration": 6,
    "start_time": "2022-04-23T07:50:59.412Z"
   },
   {
    "duration": 6,
    "start_time": "2022-04-23T07:50:59.420Z"
   },
   {
    "duration": 6,
    "start_time": "2022-04-23T07:50:59.428Z"
   },
   {
    "duration": 15,
    "start_time": "2022-04-23T07:50:59.438Z"
   },
   {
    "duration": 38,
    "start_time": "2022-04-23T07:50:59.455Z"
   },
   {
    "duration": 846,
    "start_time": "2022-04-23T07:50:59.495Z"
   },
   {
    "duration": 1156,
    "start_time": "2022-04-23T07:51:00.343Z"
   },
   {
    "duration": 3,
    "start_time": "2022-04-23T07:51:01.500Z"
   },
   {
    "duration": 392,
    "start_time": "2022-04-23T07:51:01.505Z"
   },
   {
    "duration": 76650,
    "start_time": "2022-04-23T07:51:01.900Z"
   },
   {
    "duration": 172841,
    "start_time": "2022-04-23T07:52:18.552Z"
   },
   {
    "duration": 4,
    "start_time": "2022-04-23T07:55:11.394Z"
   },
   {
    "duration": 18628,
    "start_time": "2022-04-23T07:55:11.400Z"
   },
   {
    "duration": 352278,
    "start_time": "2022-04-23T07:55:30.031Z"
   },
   {
    "duration": 0,
    "start_time": "2022-04-23T08:01:22.312Z"
   },
   {
    "duration": 0,
    "start_time": "2022-04-23T08:01:22.313Z"
   },
   {
    "duration": 0,
    "start_time": "2022-04-23T08:01:22.314Z"
   },
   {
    "duration": 0,
    "start_time": "2022-04-23T08:01:22.316Z"
   },
   {
    "duration": 0,
    "start_time": "2022-04-23T08:01:22.317Z"
   },
   {
    "duration": 0,
    "start_time": "2022-04-23T08:01:22.318Z"
   },
   {
    "duration": 0,
    "start_time": "2022-04-23T08:01:22.320Z"
   },
   {
    "duration": 0,
    "start_time": "2022-04-23T08:01:22.321Z"
   },
   {
    "duration": 0,
    "start_time": "2022-04-23T08:01:22.322Z"
   },
   {
    "duration": 0,
    "start_time": "2022-04-23T08:01:22.323Z"
   },
   {
    "duration": 0,
    "start_time": "2022-04-23T08:01:22.325Z"
   },
   {
    "duration": 1,
    "start_time": "2022-04-23T08:01:22.326Z"
   },
   {
    "duration": 170,
    "start_time": "2022-04-23T08:03:59.866Z"
   },
   {
    "duration": 8,
    "start_time": "2022-04-23T08:04:06.132Z"
   },
   {
    "duration": 4,
    "start_time": "2022-04-23T08:04:17.592Z"
   },
   {
    "duration": 9,
    "start_time": "2022-04-23T08:04:22.608Z"
   },
   {
    "duration": 1776,
    "start_time": "2022-04-23T08:04:50.920Z"
   },
   {
    "duration": 6,
    "start_time": "2022-04-23T08:04:59.082Z"
   },
   {
    "duration": 6,
    "start_time": "2022-04-23T08:05:20.400Z"
   },
   {
    "duration": 6,
    "start_time": "2022-04-23T08:05:30.028Z"
   },
   {
    "duration": 6,
    "start_time": "2022-04-23T08:05:40.819Z"
   },
   {
    "duration": 20,
    "start_time": "2022-04-23T08:05:52.047Z"
   },
   {
    "duration": 7,
    "start_time": "2022-04-23T08:06:06.428Z"
   },
   {
    "duration": 6,
    "start_time": "2022-04-23T08:06:10.223Z"
   },
   {
    "duration": 6,
    "start_time": "2022-04-23T08:06:13.507Z"
   },
   {
    "duration": 9,
    "start_time": "2022-04-23T08:06:19.033Z"
   },
   {
    "duration": 13,
    "start_time": "2022-04-23T08:06:50.923Z"
   },
   {
    "duration": 8,
    "start_time": "2022-04-23T08:06:55.878Z"
   },
   {
    "duration": 8,
    "start_time": "2022-04-23T08:07:10.041Z"
   },
   {
    "duration": 8,
    "start_time": "2022-04-23T08:07:40.361Z"
   },
   {
    "duration": 8,
    "start_time": "2022-04-23T08:07:49.075Z"
   },
   {
    "duration": 9,
    "start_time": "2022-04-23T08:08:26.419Z"
   },
   {
    "duration": 5,
    "start_time": "2022-04-23T08:08:28.896Z"
   },
   {
    "duration": 9,
    "start_time": "2022-04-23T08:08:32.742Z"
   },
   {
    "duration": 4,
    "start_time": "2022-04-23T08:10:50.521Z"
   },
   {
    "duration": 682,
    "start_time": "2022-04-23T08:10:50.528Z"
   },
   {
    "duration": 3,
    "start_time": "2022-04-23T08:10:51.211Z"
   },
   {
    "duration": 109,
    "start_time": "2022-04-23T08:10:51.216Z"
   },
   {
    "duration": 3,
    "start_time": "2022-04-23T08:10:51.328Z"
   },
   {
    "duration": 325,
    "start_time": "2022-04-23T08:10:51.333Z"
   },
   {
    "duration": 5,
    "start_time": "2022-04-23T08:10:51.660Z"
   },
   {
    "duration": 8,
    "start_time": "2022-04-23T08:10:51.666Z"
   },
   {
    "duration": 18,
    "start_time": "2022-04-23T08:10:51.675Z"
   },
   {
    "duration": 2,
    "start_time": "2022-04-23T08:10:51.695Z"
   },
   {
    "duration": 26,
    "start_time": "2022-04-23T08:10:51.698Z"
   },
   {
    "duration": 85,
    "start_time": "2022-04-23T08:10:51.726Z"
   },
   {
    "duration": 265,
    "start_time": "2022-04-23T08:10:51.814Z"
   },
   {
    "duration": 19,
    "start_time": "2022-04-23T08:10:52.081Z"
   },
   {
    "duration": 114,
    "start_time": "2022-04-23T08:10:52.102Z"
   },
   {
    "duration": 116,
    "start_time": "2022-04-23T08:10:52.217Z"
   },
   {
    "duration": 113,
    "start_time": "2022-04-23T08:10:52.335Z"
   },
   {
    "duration": 568,
    "start_time": "2022-04-23T08:10:52.450Z"
   },
   {
    "duration": 985,
    "start_time": "2022-04-23T08:10:53.020Z"
   },
   {
    "duration": 18,
    "start_time": "2022-04-23T08:10:54.007Z"
   },
   {
    "duration": 1090,
    "start_time": "2022-04-23T08:10:54.027Z"
   },
   {
    "duration": 4,
    "start_time": "2022-04-23T08:10:55.119Z"
   },
   {
    "duration": 7,
    "start_time": "2022-04-23T08:10:55.125Z"
   },
   {
    "duration": 5,
    "start_time": "2022-04-23T08:10:55.133Z"
   },
   {
    "duration": 6,
    "start_time": "2022-04-23T08:10:55.193Z"
   },
   {
    "duration": 16,
    "start_time": "2022-04-23T08:10:55.200Z"
   },
   {
    "duration": 11,
    "start_time": "2022-04-23T08:10:55.218Z"
   },
   {
    "duration": 10,
    "start_time": "2022-04-23T08:10:55.231Z"
   },
   {
    "duration": 59,
    "start_time": "2022-04-23T08:10:55.243Z"
   },
   {
    "duration": 19,
    "start_time": "2022-04-23T08:10:55.303Z"
   },
   {
    "duration": 13,
    "start_time": "2022-04-23T08:10:55.324Z"
   },
   {
    "duration": 17,
    "start_time": "2022-04-23T08:10:55.393Z"
   },
   {
    "duration": 4,
    "start_time": "2022-04-23T08:10:55.411Z"
   },
   {
    "duration": 19,
    "start_time": "2022-04-23T08:10:55.416Z"
   },
   {
    "duration": 0,
    "start_time": "2022-04-23T08:10:55.437Z"
   },
   {
    "duration": 0,
    "start_time": "2022-04-23T08:10:55.439Z"
   },
   {
    "duration": 0,
    "start_time": "2022-04-23T08:10:55.493Z"
   },
   {
    "duration": 0,
    "start_time": "2022-04-23T08:10:55.494Z"
   },
   {
    "duration": 0,
    "start_time": "2022-04-23T08:10:55.495Z"
   },
   {
    "duration": 0,
    "start_time": "2022-04-23T08:10:55.496Z"
   },
   {
    "duration": 0,
    "start_time": "2022-04-23T08:10:55.497Z"
   },
   {
    "duration": 0,
    "start_time": "2022-04-23T08:10:55.498Z"
   },
   {
    "duration": 0,
    "start_time": "2022-04-23T08:10:55.499Z"
   },
   {
    "duration": 0,
    "start_time": "2022-04-23T08:10:55.500Z"
   },
   {
    "duration": 0,
    "start_time": "2022-04-23T08:10:55.502Z"
   },
   {
    "duration": 0,
    "start_time": "2022-04-23T08:10:55.503Z"
   },
   {
    "duration": 0,
    "start_time": "2022-04-23T08:10:55.504Z"
   },
   {
    "duration": 0,
    "start_time": "2022-04-23T08:10:55.505Z"
   },
   {
    "duration": 0,
    "start_time": "2022-04-23T08:10:55.506Z"
   },
   {
    "duration": 0,
    "start_time": "2022-04-23T08:10:55.507Z"
   },
   {
    "duration": 0,
    "start_time": "2022-04-23T08:10:55.508Z"
   },
   {
    "duration": 0,
    "start_time": "2022-04-23T08:10:55.509Z"
   },
   {
    "duration": 0,
    "start_time": "2022-04-23T08:10:55.510Z"
   },
   {
    "duration": 9,
    "start_time": "2022-04-23T08:11:42.045Z"
   },
   {
    "duration": 2,
    "start_time": "2022-04-23T08:11:47.611Z"
   },
   {
    "duration": 8,
    "start_time": "2022-04-23T08:11:49.953Z"
   },
   {
    "duration": 23,
    "start_time": "2022-04-23T08:13:35.812Z"
   },
   {
    "duration": 23,
    "start_time": "2022-04-23T08:13:40.951Z"
   },
   {
    "duration": 25,
    "start_time": "2022-04-23T08:14:08.106Z"
   },
   {
    "duration": 65,
    "start_time": "2022-04-23T08:14:22.996Z"
   },
   {
    "duration": 61,
    "start_time": "2022-04-23T08:15:11.166Z"
   },
   {
    "duration": 7,
    "start_time": "2022-04-23T08:15:24.239Z"
   },
   {
    "duration": 8,
    "start_time": "2022-04-23T08:15:50.761Z"
   },
   {
    "duration": 25,
    "start_time": "2022-04-23T08:16:22.954Z"
   },
   {
    "duration": 9,
    "start_time": "2022-04-23T08:16:26.651Z"
   },
   {
    "duration": 63,
    "start_time": "2022-04-23T08:16:28.692Z"
   },
   {
    "duration": 78,
    "start_time": "2022-04-23T08:16:32.895Z"
   },
   {
    "duration": 4,
    "start_time": "2022-04-23T08:16:38.962Z"
   },
   {
    "duration": 701,
    "start_time": "2022-04-23T08:16:38.969Z"
   },
   {
    "duration": 3,
    "start_time": "2022-04-23T08:16:39.672Z"
   },
   {
    "duration": 120,
    "start_time": "2022-04-23T08:16:39.678Z"
   },
   {
    "duration": 4,
    "start_time": "2022-04-23T08:16:39.800Z"
   },
   {
    "duration": 322,
    "start_time": "2022-04-23T08:16:39.806Z"
   },
   {
    "duration": 5,
    "start_time": "2022-04-23T08:16:40.130Z"
   },
   {
    "duration": 9,
    "start_time": "2022-04-23T08:16:40.136Z"
   },
   {
    "duration": 4,
    "start_time": "2022-04-23T08:16:40.148Z"
   },
   {
    "duration": 4,
    "start_time": "2022-04-23T08:16:40.155Z"
   },
   {
    "duration": 60,
    "start_time": "2022-04-23T08:16:40.160Z"
   },
   {
    "duration": 8,
    "start_time": "2022-04-23T08:16:40.222Z"
   },
   {
    "duration": 86,
    "start_time": "2022-04-23T08:16:40.232Z"
   },
   {
    "duration": 243,
    "start_time": "2022-04-23T08:16:40.319Z"
   },
   {
    "duration": 13,
    "start_time": "2022-04-23T08:16:40.564Z"
   },
   {
    "duration": 116,
    "start_time": "2022-04-23T08:16:40.578Z"
   },
   {
    "duration": 115,
    "start_time": "2022-04-23T08:16:40.696Z"
   },
   {
    "duration": 117,
    "start_time": "2022-04-23T08:16:40.813Z"
   },
   {
    "duration": 574,
    "start_time": "2022-04-23T08:16:40.932Z"
   },
   {
    "duration": 1426,
    "start_time": "2022-04-23T08:16:41.508Z"
   },
   {
    "duration": 70,
    "start_time": "2022-04-23T08:16:42.936Z"
   },
   {
    "duration": 1688,
    "start_time": "2022-04-23T08:16:43.008Z"
   },
   {
    "duration": 5,
    "start_time": "2022-04-23T08:16:44.698Z"
   },
   {
    "duration": 10,
    "start_time": "2022-04-23T08:16:44.705Z"
   },
   {
    "duration": 4,
    "start_time": "2022-04-23T08:16:44.717Z"
   },
   {
    "duration": 8,
    "start_time": "2022-04-23T08:16:44.722Z"
   },
   {
    "duration": 7,
    "start_time": "2022-04-23T08:16:44.731Z"
   },
   {
    "duration": 51,
    "start_time": "2022-04-23T08:16:44.742Z"
   },
   {
    "duration": 8,
    "start_time": "2022-04-23T08:16:44.795Z"
   },
   {
    "duration": 15,
    "start_time": "2022-04-23T08:16:44.804Z"
   },
   {
    "duration": 19,
    "start_time": "2022-04-23T08:16:44.821Z"
   },
   {
    "duration": 12,
    "start_time": "2022-04-23T08:16:44.893Z"
   },
   {
    "duration": 14,
    "start_time": "2022-04-23T08:16:44.907Z"
   },
   {
    "duration": 3,
    "start_time": "2022-04-23T08:16:44.923Z"
   },
   {
    "duration": 70,
    "start_time": "2022-04-23T08:16:44.928Z"
   },
   {
    "duration": 0,
    "start_time": "2022-04-23T08:16:45.000Z"
   },
   {
    "duration": 0,
    "start_time": "2022-04-23T08:16:45.001Z"
   },
   {
    "duration": 0,
    "start_time": "2022-04-23T08:16:45.002Z"
   },
   {
    "duration": 0,
    "start_time": "2022-04-23T08:16:45.003Z"
   },
   {
    "duration": 0,
    "start_time": "2022-04-23T08:16:45.004Z"
   },
   {
    "duration": 0,
    "start_time": "2022-04-23T08:16:45.006Z"
   },
   {
    "duration": 0,
    "start_time": "2022-04-23T08:16:45.007Z"
   },
   {
    "duration": 0,
    "start_time": "2022-04-23T08:16:45.008Z"
   },
   {
    "duration": 0,
    "start_time": "2022-04-23T08:16:45.009Z"
   },
   {
    "duration": 0,
    "start_time": "2022-04-23T08:16:45.010Z"
   },
   {
    "duration": 0,
    "start_time": "2022-04-23T08:16:45.011Z"
   },
   {
    "duration": 0,
    "start_time": "2022-04-23T08:16:45.012Z"
   },
   {
    "duration": 0,
    "start_time": "2022-04-23T08:16:45.014Z"
   },
   {
    "duration": 0,
    "start_time": "2022-04-23T08:16:45.015Z"
   },
   {
    "duration": 0,
    "start_time": "2022-04-23T08:16:45.016Z"
   },
   {
    "duration": 0,
    "start_time": "2022-04-23T08:16:45.017Z"
   },
   {
    "duration": 0,
    "start_time": "2022-04-23T08:16:45.018Z"
   },
   {
    "duration": 0,
    "start_time": "2022-04-23T08:16:45.019Z"
   },
   {
    "duration": 0,
    "start_time": "2022-04-23T08:16:45.020Z"
   },
   {
    "duration": 0,
    "start_time": "2022-04-23T08:16:45.021Z"
   },
   {
    "duration": 5,
    "start_time": "2022-04-23T08:18:54.043Z"
   },
   {
    "duration": 662,
    "start_time": "2022-04-23T08:18:54.050Z"
   },
   {
    "duration": 3,
    "start_time": "2022-04-23T08:18:54.714Z"
   },
   {
    "duration": 104,
    "start_time": "2022-04-23T08:18:54.719Z"
   },
   {
    "duration": 3,
    "start_time": "2022-04-23T08:18:54.826Z"
   },
   {
    "duration": 332,
    "start_time": "2022-04-23T08:18:54.831Z"
   },
   {
    "duration": 5,
    "start_time": "2022-04-23T08:18:55.165Z"
   },
   {
    "duration": 14,
    "start_time": "2022-04-23T08:18:55.171Z"
   },
   {
    "duration": 5,
    "start_time": "2022-04-23T08:18:55.192Z"
   },
   {
    "duration": 5,
    "start_time": "2022-04-23T08:18:55.198Z"
   },
   {
    "duration": 102,
    "start_time": "2022-04-23T08:18:55.204Z"
   },
   {
    "duration": 9,
    "start_time": "2022-04-23T08:18:55.308Z"
   },
   {
    "duration": 84,
    "start_time": "2022-04-23T08:18:55.318Z"
   },
   {
    "duration": 247,
    "start_time": "2022-04-23T08:18:55.405Z"
   },
   {
    "duration": 12,
    "start_time": "2022-04-23T08:18:55.653Z"
   },
   {
    "duration": 119,
    "start_time": "2022-04-23T08:18:55.667Z"
   },
   {
    "duration": 119,
    "start_time": "2022-04-23T08:18:55.788Z"
   },
   {
    "duration": 108,
    "start_time": "2022-04-23T08:18:55.909Z"
   },
   {
    "duration": 565,
    "start_time": "2022-04-23T08:18:56.018Z"
   },
   {
    "duration": 1085,
    "start_time": "2022-04-23T08:18:56.585Z"
   },
   {
    "duration": 26,
    "start_time": "2022-04-23T08:18:57.671Z"
   },
   {
    "duration": 917,
    "start_time": "2022-04-23T08:18:57.698Z"
   },
   {
    "duration": 4,
    "start_time": "2022-04-23T08:18:58.617Z"
   },
   {
    "duration": 6,
    "start_time": "2022-04-23T08:18:58.623Z"
   },
   {
    "duration": 5,
    "start_time": "2022-04-23T08:18:58.631Z"
   },
   {
    "duration": 6,
    "start_time": "2022-04-23T08:18:58.638Z"
   },
   {
    "duration": 9,
    "start_time": "2022-04-23T08:18:58.646Z"
   },
   {
    "duration": 36,
    "start_time": "2022-04-23T08:18:58.657Z"
   },
   {
    "duration": 7,
    "start_time": "2022-04-23T08:18:58.695Z"
   },
   {
    "duration": 19,
    "start_time": "2022-04-23T08:18:58.704Z"
   },
   {
    "duration": 22,
    "start_time": "2022-04-23T08:18:58.725Z"
   },
   {
    "duration": 873,
    "start_time": "2022-04-23T08:18:58.749Z"
   },
   {
    "duration": 987,
    "start_time": "2022-04-23T08:18:59.623Z"
   },
   {
    "duration": 3,
    "start_time": "2022-04-23T08:19:00.612Z"
   },
   {
    "duration": 176,
    "start_time": "2022-04-23T08:19:00.617Z"
   },
   {
    "duration": 84267,
    "start_time": "2022-04-23T08:19:00.796Z"
   },
   {
    "duration": 184352,
    "start_time": "2022-04-23T08:20:25.064Z"
   },
   {
    "duration": 3,
    "start_time": "2022-04-23T08:23:29.418Z"
   },
   {
    "duration": 17995,
    "start_time": "2022-04-23T08:23:29.422Z"
   },
   {
    "duration": 151,
    "start_time": "2022-04-23T08:23:47.418Z"
   },
   {
    "duration": 0,
    "start_time": "2022-04-23T08:23:47.571Z"
   },
   {
    "duration": 0,
    "start_time": "2022-04-23T08:23:47.573Z"
   },
   {
    "duration": 0,
    "start_time": "2022-04-23T08:23:47.574Z"
   },
   {
    "duration": 0,
    "start_time": "2022-04-23T08:23:47.575Z"
   },
   {
    "duration": 0,
    "start_time": "2022-04-23T08:23:47.576Z"
   },
   {
    "duration": 0,
    "start_time": "2022-04-23T08:23:47.578Z"
   },
   {
    "duration": 0,
    "start_time": "2022-04-23T08:23:47.578Z"
   },
   {
    "duration": 0,
    "start_time": "2022-04-23T08:23:47.579Z"
   },
   {
    "duration": 0,
    "start_time": "2022-04-23T08:23:47.580Z"
   },
   {
    "duration": 0,
    "start_time": "2022-04-23T08:23:47.582Z"
   },
   {
    "duration": 0,
    "start_time": "2022-04-23T08:23:47.582Z"
   },
   {
    "duration": 0,
    "start_time": "2022-04-23T08:23:47.583Z"
   },
   {
    "duration": 0,
    "start_time": "2022-04-23T08:23:47.584Z"
   },
   {
    "duration": 0,
    "start_time": "2022-04-23T08:23:47.585Z"
   },
   {
    "duration": 0,
    "start_time": "2022-04-23T08:23:47.586Z"
   },
   {
    "duration": 23,
    "start_time": "2022-04-23T08:24:25.695Z"
   },
   {
    "duration": 7,
    "start_time": "2022-04-23T08:24:26.902Z"
   },
   {
    "duration": 9,
    "start_time": "2022-04-23T08:24:27.628Z"
   },
   {
    "duration": 4,
    "start_time": "2022-04-23T08:24:29.652Z"
   },
   {
    "duration": 308,
    "start_time": "2022-04-23T08:24:31.256Z"
   },
   {
    "duration": 153,
    "start_time": "2022-04-23T08:24:35.200Z"
   },
   {
    "duration": 13,
    "start_time": "2022-04-23T08:26:34.655Z"
   },
   {
    "duration": 124,
    "start_time": "2022-04-23T08:26:43.481Z"
   },
   {
    "duration": 121,
    "start_time": "2022-04-23T08:26:48.980Z"
   },
   {
    "duration": 4,
    "start_time": "2022-04-23T08:27:04.342Z"
   },
   {
    "duration": 114,
    "start_time": "2022-04-23T08:27:10.473Z"
   },
   {
    "duration": 109,
    "start_time": "2022-04-23T08:27:12.865Z"
   },
   {
    "duration": 105,
    "start_time": "2022-04-23T08:27:14.687Z"
   },
   {
    "duration": 7,
    "start_time": "2022-04-23T08:28:41.584Z"
   },
   {
    "duration": 180,
    "start_time": "2022-04-23T08:29:06.997Z"
   },
   {
    "duration": 4,
    "start_time": "2022-04-23T08:30:41.372Z"
   },
   {
    "duration": 699,
    "start_time": "2022-04-23T08:30:41.378Z"
   },
   {
    "duration": 3,
    "start_time": "2022-04-23T08:30:42.079Z"
   },
   {
    "duration": 216,
    "start_time": "2022-04-23T08:30:42.092Z"
   },
   {
    "duration": 3,
    "start_time": "2022-04-23T08:30:42.310Z"
   },
   {
    "duration": 319,
    "start_time": "2022-04-23T08:30:42.315Z"
   },
   {
    "duration": 5,
    "start_time": "2022-04-23T08:30:42.635Z"
   },
   {
    "duration": 6,
    "start_time": "2022-04-23T08:30:42.642Z"
   },
   {
    "duration": 5,
    "start_time": "2022-04-23T08:30:42.651Z"
   },
   {
    "duration": 3,
    "start_time": "2022-04-23T08:30:42.658Z"
   },
   {
    "duration": 172,
    "start_time": "2022-04-23T08:30:42.663Z"
   },
   {
    "duration": 0,
    "start_time": "2022-04-23T08:30:42.838Z"
   },
   {
    "duration": 0,
    "start_time": "2022-04-23T08:30:42.839Z"
   },
   {
    "duration": 1,
    "start_time": "2022-04-23T08:30:42.840Z"
   },
   {
    "duration": 1,
    "start_time": "2022-04-23T08:30:42.841Z"
   },
   {
    "duration": 0,
    "start_time": "2022-04-23T08:30:42.842Z"
   },
   {
    "duration": 0,
    "start_time": "2022-04-23T08:30:42.843Z"
   },
   {
    "duration": 0,
    "start_time": "2022-04-23T08:30:42.844Z"
   },
   {
    "duration": 0,
    "start_time": "2022-04-23T08:30:42.845Z"
   },
   {
    "duration": 1,
    "start_time": "2022-04-23T08:30:42.846Z"
   },
   {
    "duration": 0,
    "start_time": "2022-04-23T08:30:42.848Z"
   },
   {
    "duration": 0,
    "start_time": "2022-04-23T08:30:42.849Z"
   },
   {
    "duration": 0,
    "start_time": "2022-04-23T08:30:42.850Z"
   },
   {
    "duration": 0,
    "start_time": "2022-04-23T08:30:42.851Z"
   },
   {
    "duration": 0,
    "start_time": "2022-04-23T08:30:42.852Z"
   },
   {
    "duration": 0,
    "start_time": "2022-04-23T08:30:42.853Z"
   },
   {
    "duration": 0,
    "start_time": "2022-04-23T08:30:42.854Z"
   },
   {
    "duration": 0,
    "start_time": "2022-04-23T08:30:42.855Z"
   },
   {
    "duration": 0,
    "start_time": "2022-04-23T08:30:42.856Z"
   },
   {
    "duration": 0,
    "start_time": "2022-04-23T08:30:42.857Z"
   },
   {
    "duration": 0,
    "start_time": "2022-04-23T08:30:42.858Z"
   },
   {
    "duration": 0,
    "start_time": "2022-04-23T08:30:42.859Z"
   },
   {
    "duration": 0,
    "start_time": "2022-04-23T08:30:42.860Z"
   },
   {
    "duration": 0,
    "start_time": "2022-04-23T08:30:42.861Z"
   },
   {
    "duration": 0,
    "start_time": "2022-04-23T08:30:42.862Z"
   },
   {
    "duration": 0,
    "start_time": "2022-04-23T08:30:42.863Z"
   },
   {
    "duration": 0,
    "start_time": "2022-04-23T08:30:42.864Z"
   },
   {
    "duration": 0,
    "start_time": "2022-04-23T08:30:42.865Z"
   },
   {
    "duration": 0,
    "start_time": "2022-04-23T08:30:42.866Z"
   },
   {
    "duration": 0,
    "start_time": "2022-04-23T08:30:42.867Z"
   },
   {
    "duration": 0,
    "start_time": "2022-04-23T08:30:42.868Z"
   },
   {
    "duration": 0,
    "start_time": "2022-04-23T08:30:42.869Z"
   },
   {
    "duration": 0,
    "start_time": "2022-04-23T08:30:42.870Z"
   },
   {
    "duration": 0,
    "start_time": "2022-04-23T08:30:42.871Z"
   },
   {
    "duration": 0,
    "start_time": "2022-04-23T08:30:42.872Z"
   },
   {
    "duration": 0,
    "start_time": "2022-04-23T08:30:42.873Z"
   },
   {
    "duration": 0,
    "start_time": "2022-04-23T08:30:42.874Z"
   },
   {
    "duration": 0,
    "start_time": "2022-04-23T08:30:42.875Z"
   },
   {
    "duration": 0,
    "start_time": "2022-04-23T08:30:42.893Z"
   },
   {
    "duration": 0,
    "start_time": "2022-04-23T08:30:42.894Z"
   },
   {
    "duration": 0,
    "start_time": "2022-04-23T08:30:42.895Z"
   },
   {
    "duration": 0,
    "start_time": "2022-04-23T08:30:42.896Z"
   },
   {
    "duration": 0,
    "start_time": "2022-04-23T08:30:42.897Z"
   },
   {
    "duration": 0,
    "start_time": "2022-04-23T08:30:42.898Z"
   },
   {
    "duration": 0,
    "start_time": "2022-04-23T08:30:42.899Z"
   },
   {
    "duration": 4,
    "start_time": "2022-04-23T08:30:51.259Z"
   },
   {
    "duration": 644,
    "start_time": "2022-04-23T08:30:51.265Z"
   },
   {
    "duration": 4,
    "start_time": "2022-04-23T08:30:51.911Z"
   },
   {
    "duration": 106,
    "start_time": "2022-04-23T08:30:51.917Z"
   },
   {
    "duration": 3,
    "start_time": "2022-04-23T08:30:52.025Z"
   },
   {
    "duration": 307,
    "start_time": "2022-04-23T08:30:52.030Z"
   },
   {
    "duration": 5,
    "start_time": "2022-04-23T08:30:52.338Z"
   },
   {
    "duration": 13,
    "start_time": "2022-04-23T08:30:52.344Z"
   },
   {
    "duration": 7,
    "start_time": "2022-04-23T08:30:52.358Z"
   },
   {
    "duration": 5,
    "start_time": "2022-04-23T08:30:52.367Z"
   },
   {
    "duration": 184,
    "start_time": "2022-04-23T08:30:52.373Z"
   },
   {
    "duration": 75,
    "start_time": "2022-04-23T08:30:52.559Z"
   },
   {
    "duration": 242,
    "start_time": "2022-04-23T08:30:52.636Z"
   },
   {
    "duration": 24,
    "start_time": "2022-04-23T08:30:52.880Z"
   },
   {
    "duration": 120,
    "start_time": "2022-04-23T08:30:52.906Z"
   },
   {
    "duration": 130,
    "start_time": "2022-04-23T08:30:53.028Z"
   },
   {
    "duration": 116,
    "start_time": "2022-04-23T08:30:53.161Z"
   },
   {
    "duration": 462,
    "start_time": "2022-04-23T08:30:53.279Z"
   },
   {
    "duration": 1869,
    "start_time": "2022-04-23T08:30:53.743Z"
   },
   {
    "duration": 17,
    "start_time": "2022-04-23T08:30:55.614Z"
   },
   {
    "duration": 909,
    "start_time": "2022-04-23T08:30:55.633Z"
   },
   {
    "duration": 4,
    "start_time": "2022-04-23T08:30:56.543Z"
   },
   {
    "duration": 5,
    "start_time": "2022-04-23T08:30:56.549Z"
   },
   {
    "duration": 5,
    "start_time": "2022-04-23T08:30:56.556Z"
   },
   {
    "duration": 6,
    "start_time": "2022-04-23T08:30:56.563Z"
   },
   {
    "duration": 22,
    "start_time": "2022-04-23T08:30:56.571Z"
   },
   {
    "duration": 4,
    "start_time": "2022-04-23T08:30:56.595Z"
   },
   {
    "duration": 3,
    "start_time": "2022-04-23T08:30:56.603Z"
   },
   {
    "duration": 19,
    "start_time": "2022-04-23T08:30:56.608Z"
   },
   {
    "duration": 18,
    "start_time": "2022-04-23T08:30:56.629Z"
   },
   {
    "duration": 254,
    "start_time": "2022-04-23T08:30:56.648Z"
   },
   {
    "duration": 98,
    "start_time": "2022-04-23T08:30:56.904Z"
   },
   {
    "duration": 5,
    "start_time": "2022-04-23T08:30:57.094Z"
   },
   {
    "duration": 109,
    "start_time": "2022-04-23T08:30:57.101Z"
   },
   {
    "duration": 0,
    "start_time": "2022-04-23T08:30:57.212Z"
   },
   {
    "duration": 0,
    "start_time": "2022-04-23T08:30:57.213Z"
   },
   {
    "duration": 0,
    "start_time": "2022-04-23T08:30:57.215Z"
   },
   {
    "duration": 0,
    "start_time": "2022-04-23T08:30:57.216Z"
   },
   {
    "duration": 0,
    "start_time": "2022-04-23T08:30:57.218Z"
   },
   {
    "duration": 0,
    "start_time": "2022-04-23T08:30:57.219Z"
   },
   {
    "duration": 0,
    "start_time": "2022-04-23T08:30:57.221Z"
   },
   {
    "duration": 0,
    "start_time": "2022-04-23T08:30:57.222Z"
   },
   {
    "duration": 1,
    "start_time": "2022-04-23T08:30:57.223Z"
   },
   {
    "duration": 0,
    "start_time": "2022-04-23T08:30:57.225Z"
   },
   {
    "duration": 0,
    "start_time": "2022-04-23T08:30:57.226Z"
   },
   {
    "duration": 0,
    "start_time": "2022-04-23T08:30:57.228Z"
   },
   {
    "duration": 0,
    "start_time": "2022-04-23T08:30:57.229Z"
   },
   {
    "duration": 0,
    "start_time": "2022-04-23T08:30:57.231Z"
   },
   {
    "duration": 0,
    "start_time": "2022-04-23T08:30:57.232Z"
   },
   {
    "duration": 0,
    "start_time": "2022-04-23T08:30:57.234Z"
   },
   {
    "duration": 0,
    "start_time": "2022-04-23T08:30:57.235Z"
   },
   {
    "duration": 0,
    "start_time": "2022-04-23T08:30:57.237Z"
   },
   {
    "duration": 1,
    "start_time": "2022-04-23T08:30:57.238Z"
   },
   {
    "duration": 0,
    "start_time": "2022-04-23T08:30:57.240Z"
   },
   {
    "duration": 0,
    "start_time": "2022-04-23T08:30:57.293Z"
   },
   {
    "duration": 38,
    "start_time": "2022-04-23T08:31:54.012Z"
   },
   {
    "duration": 67,
    "start_time": "2022-04-23T08:31:55.084Z"
   },
   {
    "duration": 12,
    "start_time": "2022-04-23T08:32:38.918Z"
   },
   {
    "duration": 68,
    "start_time": "2022-04-23T08:32:39.992Z"
   },
   {
    "duration": 12,
    "start_time": "2022-04-23T08:33:14.549Z"
   },
   {
    "duration": 66,
    "start_time": "2022-04-23T08:33:15.305Z"
   },
   {
    "duration": 19,
    "start_time": "2022-04-23T08:33:50.950Z"
   },
   {
    "duration": 66,
    "start_time": "2022-04-23T08:33:55.020Z"
   },
   {
    "duration": 8,
    "start_time": "2022-04-23T08:34:12.401Z"
   },
   {
    "duration": 9,
    "start_time": "2022-04-23T08:34:16.818Z"
   },
   {
    "duration": 4,
    "start_time": "2022-04-23T08:34:26.674Z"
   },
   {
    "duration": 662,
    "start_time": "2022-04-23T08:34:26.681Z"
   },
   {
    "duration": 3,
    "start_time": "2022-04-23T08:34:27.345Z"
   },
   {
    "duration": 99,
    "start_time": "2022-04-23T08:34:27.350Z"
   },
   {
    "duration": 3,
    "start_time": "2022-04-23T08:34:27.451Z"
   },
   {
    "duration": 322,
    "start_time": "2022-04-23T08:34:27.457Z"
   },
   {
    "duration": 5,
    "start_time": "2022-04-23T08:34:27.781Z"
   },
   {
    "duration": 5,
    "start_time": "2022-04-23T08:34:27.793Z"
   },
   {
    "duration": 7,
    "start_time": "2022-04-23T08:34:27.800Z"
   },
   {
    "duration": 3,
    "start_time": "2022-04-23T08:34:27.811Z"
   },
   {
    "duration": 37,
    "start_time": "2022-04-23T08:34:27.816Z"
   },
   {
    "duration": 53,
    "start_time": "2022-04-23T08:34:27.855Z"
   },
   {
    "duration": 9,
    "start_time": "2022-04-23T08:34:27.910Z"
   },
   {
    "duration": 92,
    "start_time": "2022-04-23T08:34:27.921Z"
   },
   {
    "duration": 10,
    "start_time": "2022-04-23T08:34:28.015Z"
   },
   {
    "duration": 250,
    "start_time": "2022-04-23T08:34:28.027Z"
   },
   {
    "duration": 24,
    "start_time": "2022-04-23T08:34:28.280Z"
   },
   {
    "duration": 126,
    "start_time": "2022-04-23T08:34:28.306Z"
   },
   {
    "duration": 119,
    "start_time": "2022-04-23T08:34:28.434Z"
   },
   {
    "duration": 118,
    "start_time": "2022-04-23T08:34:28.554Z"
   },
   {
    "duration": 549,
    "start_time": "2022-04-23T08:34:28.674Z"
   },
   {
    "duration": 1912,
    "start_time": "2022-04-23T08:34:29.225Z"
   },
   {
    "duration": 20,
    "start_time": "2022-04-23T08:34:31.139Z"
   },
   {
    "duration": 792,
    "start_time": "2022-04-23T08:34:31.161Z"
   },
   {
    "duration": 4,
    "start_time": "2022-04-23T08:34:31.955Z"
   },
   {
    "duration": 11,
    "start_time": "2022-04-23T08:34:31.961Z"
   },
   {
    "duration": 17,
    "start_time": "2022-04-23T08:34:31.973Z"
   },
   {
    "duration": 19,
    "start_time": "2022-04-23T08:34:31.994Z"
   },
   {
    "duration": 13,
    "start_time": "2022-04-23T08:34:32.015Z"
   },
   {
    "duration": 6,
    "start_time": "2022-04-23T08:34:32.030Z"
   },
   {
    "duration": 15,
    "start_time": "2022-04-23T08:34:32.038Z"
   },
   {
    "duration": 21,
    "start_time": "2022-04-23T08:34:32.055Z"
   },
   {
    "duration": 20,
    "start_time": "2022-04-23T08:34:32.078Z"
   },
   {
    "duration": 721,
    "start_time": "2022-04-23T08:34:32.100Z"
   },
   {
    "duration": 880,
    "start_time": "2022-04-23T08:34:32.823Z"
   },
   {
    "duration": 4,
    "start_time": "2022-04-23T08:34:33.705Z"
   },
   {
    "duration": 184,
    "start_time": "2022-04-23T08:34:33.710Z"
   },
   {
    "duration": 36354,
    "start_time": "2022-04-23T08:34:33.897Z"
   },
   {
    "duration": 0,
    "start_time": "2022-04-23T08:35:10.253Z"
   },
   {
    "duration": 0,
    "start_time": "2022-04-23T08:35:10.254Z"
   },
   {
    "duration": 0,
    "start_time": "2022-04-23T08:35:10.255Z"
   },
   {
    "duration": 0,
    "start_time": "2022-04-23T08:35:10.256Z"
   },
   {
    "duration": 0,
    "start_time": "2022-04-23T08:35:10.258Z"
   },
   {
    "duration": 0,
    "start_time": "2022-04-23T08:35:10.259Z"
   },
   {
    "duration": 0,
    "start_time": "2022-04-23T08:35:10.260Z"
   },
   {
    "duration": 0,
    "start_time": "2022-04-23T08:35:10.262Z"
   },
   {
    "duration": 0,
    "start_time": "2022-04-23T08:35:10.262Z"
   },
   {
    "duration": 0,
    "start_time": "2022-04-23T08:35:10.264Z"
   },
   {
    "duration": 0,
    "start_time": "2022-04-23T08:35:10.265Z"
   },
   {
    "duration": 0,
    "start_time": "2022-04-23T08:35:10.266Z"
   },
   {
    "duration": 0,
    "start_time": "2022-04-23T08:35:10.267Z"
   },
   {
    "duration": 0,
    "start_time": "2022-04-23T08:35:10.268Z"
   },
   {
    "duration": 0,
    "start_time": "2022-04-23T08:35:10.292Z"
   },
   {
    "duration": 0,
    "start_time": "2022-04-23T08:35:10.293Z"
   },
   {
    "duration": 0,
    "start_time": "2022-04-23T08:35:10.294Z"
   },
   {
    "duration": 0,
    "start_time": "2022-04-23T08:35:10.295Z"
   },
   {
    "duration": 0,
    "start_time": "2022-04-23T08:35:10.296Z"
   },
   {
    "duration": 0,
    "start_time": "2022-04-23T08:35:10.297Z"
   },
   {
    "duration": 81,
    "start_time": "2022-04-23T08:35:29.507Z"
   },
   {
    "duration": 92,
    "start_time": "2022-04-23T08:35:29.939Z"
   },
   {
    "duration": 15,
    "start_time": "2022-04-23T08:36:30.089Z"
   },
   {
    "duration": 4,
    "start_time": "2022-04-23T08:36:32.195Z"
   },
   {
    "duration": 670,
    "start_time": "2022-04-23T08:36:32.201Z"
   },
   {
    "duration": 3,
    "start_time": "2022-04-23T08:36:32.873Z"
   },
   {
    "duration": 114,
    "start_time": "2022-04-23T08:36:32.879Z"
   },
   {
    "duration": 4,
    "start_time": "2022-04-23T08:36:32.994Z"
   },
   {
    "duration": 326,
    "start_time": "2022-04-23T08:36:32.999Z"
   },
   {
    "duration": 5,
    "start_time": "2022-04-23T08:36:33.326Z"
   },
   {
    "duration": 23,
    "start_time": "2022-04-23T08:36:33.333Z"
   },
   {
    "duration": 25,
    "start_time": "2022-04-23T08:36:33.358Z"
   },
   {
    "duration": 97,
    "start_time": "2022-04-23T08:36:33.386Z"
   },
   {
    "duration": 71,
    "start_time": "2022-04-23T08:36:33.485Z"
   },
   {
    "duration": 10,
    "start_time": "2022-04-23T08:36:33.558Z"
   },
   {
    "duration": 233,
    "start_time": "2022-04-23T08:36:33.593Z"
   },
   {
    "duration": 14,
    "start_time": "2022-04-23T08:36:33.828Z"
   },
   {
    "duration": 117,
    "start_time": "2022-04-23T08:36:33.843Z"
   },
   {
    "duration": 119,
    "start_time": "2022-04-23T08:36:33.962Z"
   },
   {
    "duration": 120,
    "start_time": "2022-04-23T08:36:34.082Z"
   },
   {
    "duration": 446,
    "start_time": "2022-04-23T08:36:34.203Z"
   },
   {
    "duration": 1112,
    "start_time": "2022-04-23T08:36:34.651Z"
   },
   {
    "duration": 30,
    "start_time": "2022-04-23T08:36:35.765Z"
   },
   {
    "duration": 873,
    "start_time": "2022-04-23T08:36:35.797Z"
   },
   {
    "duration": 4,
    "start_time": "2022-04-23T08:36:36.672Z"
   },
   {
    "duration": 14,
    "start_time": "2022-04-23T08:36:36.678Z"
   },
   {
    "duration": 12,
    "start_time": "2022-04-23T08:36:36.694Z"
   },
   {
    "duration": 10,
    "start_time": "2022-04-23T08:36:36.707Z"
   },
   {
    "duration": 7,
    "start_time": "2022-04-23T08:36:36.719Z"
   },
   {
    "duration": 6,
    "start_time": "2022-04-23T08:36:36.727Z"
   },
   {
    "duration": 13,
    "start_time": "2022-04-23T08:36:36.737Z"
   },
   {
    "duration": 16,
    "start_time": "2022-04-23T08:36:36.752Z"
   },
   {
    "duration": 26,
    "start_time": "2022-04-23T08:36:36.769Z"
   },
   {
    "duration": 853,
    "start_time": "2022-04-23T08:36:36.797Z"
   },
   {
    "duration": 1003,
    "start_time": "2022-04-23T08:36:37.651Z"
   },
   {
    "duration": 3,
    "start_time": "2022-04-23T08:36:38.657Z"
   },
   {
    "duration": 231,
    "start_time": "2022-04-23T08:36:38.663Z"
   },
   {
    "duration": 75533,
    "start_time": "2022-04-23T08:36:38.897Z"
   },
   {
    "duration": 174447,
    "start_time": "2022-04-23T08:37:54.431Z"
   },
   {
    "duration": 11,
    "start_time": "2022-04-23T08:40:48.881Z"
   },
   {
    "duration": 21522,
    "start_time": "2022-04-23T08:40:48.895Z"
   },
   {
    "duration": 139,
    "start_time": "2022-04-23T08:41:10.418Z"
   },
   {
    "duration": 0,
    "start_time": "2022-04-23T08:41:10.559Z"
   },
   {
    "duration": 0,
    "start_time": "2022-04-23T08:41:10.560Z"
   },
   {
    "duration": 0,
    "start_time": "2022-04-23T08:41:10.561Z"
   },
   {
    "duration": 0,
    "start_time": "2022-04-23T08:41:10.562Z"
   },
   {
    "duration": 0,
    "start_time": "2022-04-23T08:41:10.563Z"
   },
   {
    "duration": 0,
    "start_time": "2022-04-23T08:41:10.564Z"
   },
   {
    "duration": 0,
    "start_time": "2022-04-23T08:41:10.565Z"
   },
   {
    "duration": 0,
    "start_time": "2022-04-23T08:41:10.566Z"
   },
   {
    "duration": 0,
    "start_time": "2022-04-23T08:41:10.567Z"
   },
   {
    "duration": 0,
    "start_time": "2022-04-23T08:41:10.568Z"
   },
   {
    "duration": 0,
    "start_time": "2022-04-23T08:41:10.569Z"
   },
   {
    "duration": 0,
    "start_time": "2022-04-23T08:41:10.570Z"
   },
   {
    "duration": 0,
    "start_time": "2022-04-23T08:41:10.571Z"
   },
   {
    "duration": 0,
    "start_time": "2022-04-23T08:41:10.572Z"
   },
   {
    "duration": 0,
    "start_time": "2022-04-23T08:41:10.572Z"
   },
   {
    "duration": 0,
    "start_time": "2022-04-23T08:41:10.573Z"
   },
   {
    "duration": 23,
    "start_time": "2022-04-23T08:41:16.277Z"
   },
   {
    "duration": 7,
    "start_time": "2022-04-23T08:41:18.350Z"
   },
   {
    "duration": 10,
    "start_time": "2022-04-23T08:41:19.122Z"
   },
   {
    "duration": 4,
    "start_time": "2022-04-23T08:41:20.194Z"
   },
   {
    "duration": 335,
    "start_time": "2022-04-23T08:41:21.826Z"
   },
   {
    "duration": 154,
    "start_time": "2022-04-23T08:41:24.162Z"
   },
   {
    "duration": 10,
    "start_time": "2022-04-23T08:41:26.107Z"
   },
   {
    "duration": 6,
    "start_time": "2022-04-23T08:41:27.826Z"
   },
   {
    "duration": 175,
    "start_time": "2022-04-23T08:41:28.702Z"
   },
   {
    "duration": 4,
    "start_time": "2022-04-23T08:42:09.392Z"
   },
   {
    "duration": 671,
    "start_time": "2022-04-23T08:42:09.398Z"
   },
   {
    "duration": 3,
    "start_time": "2022-04-23T08:42:10.071Z"
   },
   {
    "duration": 99,
    "start_time": "2022-04-23T08:42:10.077Z"
   },
   {
    "duration": 16,
    "start_time": "2022-04-23T08:42:10.178Z"
   },
   {
    "duration": 324,
    "start_time": "2022-04-23T08:42:10.196Z"
   },
   {
    "duration": 5,
    "start_time": "2022-04-23T08:42:10.522Z"
   },
   {
    "duration": 8,
    "start_time": "2022-04-23T08:42:10.528Z"
   },
   {
    "duration": 8,
    "start_time": "2022-04-23T08:42:10.537Z"
   },
   {
    "duration": 105,
    "start_time": "2022-04-23T08:42:10.548Z"
   },
   {
    "duration": 76,
    "start_time": "2022-04-23T08:42:10.655Z"
   },
   {
    "duration": 9,
    "start_time": "2022-04-23T08:42:10.732Z"
   },
   {
    "duration": 251,
    "start_time": "2022-04-23T08:42:10.743Z"
   },
   {
    "duration": 14,
    "start_time": "2022-04-23T08:42:10.996Z"
   },
   {
    "duration": 118,
    "start_time": "2022-04-23T08:42:11.012Z"
   },
   {
    "duration": 125,
    "start_time": "2022-04-23T08:42:11.132Z"
   },
   {
    "duration": 120,
    "start_time": "2022-04-23T08:42:11.258Z"
   },
   {
    "duration": 455,
    "start_time": "2022-04-23T08:42:11.380Z"
   },
   {
    "duration": 1216,
    "start_time": "2022-04-23T08:42:11.837Z"
   },
   {
    "duration": 20,
    "start_time": "2022-04-23T08:42:13.055Z"
   },
   {
    "duration": 704,
    "start_time": "2022-04-23T08:42:13.077Z"
   },
   {
    "duration": 9,
    "start_time": "2022-04-23T08:42:13.783Z"
   },
   {
    "duration": 3,
    "start_time": "2022-04-23T08:42:13.794Z"
   },
   {
    "duration": 4,
    "start_time": "2022-04-23T08:42:13.799Z"
   },
   {
    "duration": 17,
    "start_time": "2022-04-23T08:42:13.805Z"
   },
   {
    "duration": 6,
    "start_time": "2022-04-23T08:42:13.824Z"
   },
   {
    "duration": 6,
    "start_time": "2022-04-23T08:42:13.832Z"
   },
   {
    "duration": 4,
    "start_time": "2022-04-23T08:42:13.842Z"
   },
   {
    "duration": 27,
    "start_time": "2022-04-23T08:42:13.848Z"
   },
   {
    "duration": 25,
    "start_time": "2022-04-23T08:42:13.893Z"
   },
   {
    "duration": 647,
    "start_time": "2022-04-23T08:42:13.920Z"
   },
   {
    "duration": 881,
    "start_time": "2022-04-23T08:42:14.568Z"
   },
   {
    "duration": 3,
    "start_time": "2022-04-23T08:42:15.451Z"
   },
   {
    "duration": 446,
    "start_time": "2022-04-23T08:42:15.456Z"
   },
   {
    "duration": 71052,
    "start_time": "2022-04-23T08:42:15.994Z"
   },
   {
    "duration": 167518,
    "start_time": "2022-04-23T08:43:27.048Z"
   },
   {
    "duration": 4,
    "start_time": "2022-04-23T08:46:14.568Z"
   },
   {
    "duration": 17222,
    "start_time": "2022-04-23T08:46:14.573Z"
   },
   {
    "duration": 152,
    "start_time": "2022-04-23T08:46:31.797Z"
   },
   {
    "duration": 0,
    "start_time": "2022-04-23T08:46:31.951Z"
   },
   {
    "duration": 0,
    "start_time": "2022-04-23T08:46:31.952Z"
   },
   {
    "duration": 0,
    "start_time": "2022-04-23T08:46:31.953Z"
   },
   {
    "duration": 0,
    "start_time": "2022-04-23T08:46:31.954Z"
   },
   {
    "duration": 0,
    "start_time": "2022-04-23T08:46:31.955Z"
   },
   {
    "duration": 0,
    "start_time": "2022-04-23T08:46:31.956Z"
   },
   {
    "duration": 0,
    "start_time": "2022-04-23T08:46:31.957Z"
   },
   {
    "duration": 0,
    "start_time": "2022-04-23T08:46:31.958Z"
   },
   {
    "duration": 0,
    "start_time": "2022-04-23T08:46:31.959Z"
   },
   {
    "duration": 0,
    "start_time": "2022-04-23T08:46:31.960Z"
   },
   {
    "duration": 0,
    "start_time": "2022-04-23T08:46:31.961Z"
   },
   {
    "duration": 0,
    "start_time": "2022-04-23T08:46:31.962Z"
   },
   {
    "duration": 0,
    "start_time": "2022-04-23T08:46:31.963Z"
   },
   {
    "duration": 0,
    "start_time": "2022-04-23T08:46:31.964Z"
   },
   {
    "duration": 0,
    "start_time": "2022-04-23T08:46:31.965Z"
   },
   {
    "duration": 0,
    "start_time": "2022-04-23T08:46:31.966Z"
   },
   {
    "duration": 25,
    "start_time": "2022-04-23T08:47:12.988Z"
   },
   {
    "duration": 7,
    "start_time": "2022-04-23T08:47:13.963Z"
   },
   {
    "duration": 8,
    "start_time": "2022-04-23T08:47:14.608Z"
   },
   {
    "duration": 4,
    "start_time": "2022-04-23T08:47:15.397Z"
   },
   {
    "duration": 360,
    "start_time": "2022-04-23T08:47:16.395Z"
   },
   {
    "duration": 150,
    "start_time": "2022-04-23T08:47:20.819Z"
   },
   {
    "duration": 5,
    "start_time": "2022-04-23T08:47:27.476Z"
   },
   {
    "duration": 178,
    "start_time": "2022-04-23T08:47:28.058Z"
   },
   {
    "duration": 453,
    "start_time": "2022-04-23T08:51:52.359Z"
   },
   {
    "duration": 168,
    "start_time": "2022-04-23T08:52:11.053Z"
   },
   {
    "duration": 46412,
    "start_time": "2022-04-23T08:52:15.934Z"
   },
   {
    "duration": 22519,
    "start_time": "2022-04-23T08:53:06.493Z"
   },
   {
    "duration": 13,
    "start_time": "2022-04-23T08:55:01.022Z"
   },
   {
    "duration": 308,
    "start_time": "2022-04-23T08:55:11.095Z"
   },
   {
    "duration": 14,
    "start_time": "2022-04-23T08:55:12.371Z"
   },
   {
    "duration": 32395,
    "start_time": "2022-04-23T08:55:23.521Z"
   },
   {
    "duration": 19,
    "start_time": "2022-04-23T08:55:59.719Z"
   },
   {
    "duration": 54401,
    "start_time": "2022-04-23T08:56:05.705Z"
   },
   {
    "duration": 200228,
    "start_time": "2022-04-23T09:01:43.188Z"
   },
   {
    "duration": 3768,
    "start_time": "2022-04-23T18:37:37.591Z"
   },
   {
    "duration": 707,
    "start_time": "2022-04-23T18:37:41.361Z"
   },
   {
    "duration": 5,
    "start_time": "2022-04-23T18:37:42.070Z"
   },
   {
    "duration": 129,
    "start_time": "2022-04-23T18:37:42.078Z"
   },
   {
    "duration": 3,
    "start_time": "2022-04-23T18:37:42.209Z"
   },
   {
    "duration": 380,
    "start_time": "2022-04-23T18:37:42.214Z"
   },
   {
    "duration": 5,
    "start_time": "2022-04-23T18:37:42.596Z"
   },
   {
    "duration": 5,
    "start_time": "2022-04-23T18:37:42.603Z"
   },
   {
    "duration": 5,
    "start_time": "2022-04-23T18:37:42.610Z"
   },
   {
    "duration": 33,
    "start_time": "2022-04-23T18:37:42.618Z"
   },
   {
    "duration": 5,
    "start_time": "2022-04-23T18:37:42.653Z"
   },
   {
    "duration": 100,
    "start_time": "2022-04-23T18:37:42.694Z"
   },
   {
    "duration": 10,
    "start_time": "2022-04-23T18:37:42.796Z"
   },
   {
    "duration": 284,
    "start_time": "2022-04-23T18:37:42.808Z"
   },
   {
    "duration": 15,
    "start_time": "2022-04-23T18:37:43.094Z"
   },
   {
    "duration": 139,
    "start_time": "2022-04-23T18:37:43.111Z"
   },
   {
    "duration": 130,
    "start_time": "2022-04-23T18:37:43.252Z"
   },
   {
    "duration": 125,
    "start_time": "2022-04-23T18:37:43.383Z"
   },
   {
    "duration": 549,
    "start_time": "2022-04-23T18:37:43.510Z"
   },
   {
    "duration": 1112,
    "start_time": "2022-04-23T18:37:44.061Z"
   },
   {
    "duration": 39,
    "start_time": "2022-04-23T18:37:45.175Z"
   },
   {
    "duration": 1272,
    "start_time": "2022-04-23T18:37:45.217Z"
   },
   {
    "duration": 5,
    "start_time": "2022-04-23T18:37:46.492Z"
   },
   {
    "duration": 12,
    "start_time": "2022-04-23T18:37:46.499Z"
   },
   {
    "duration": 5,
    "start_time": "2022-04-23T18:37:46.513Z"
   },
   {
    "duration": 9,
    "start_time": "2022-04-23T18:37:46.520Z"
   },
   {
    "duration": 6,
    "start_time": "2022-04-23T18:37:46.532Z"
   },
   {
    "duration": 6,
    "start_time": "2022-04-23T18:37:46.543Z"
   },
   {
    "duration": 7,
    "start_time": "2022-04-23T18:37:46.551Z"
   },
   {
    "duration": 46,
    "start_time": "2022-04-23T18:37:46.560Z"
   },
   {
    "duration": 25,
    "start_time": "2022-04-23T18:37:46.608Z"
   },
   {
    "duration": 463,
    "start_time": "2022-04-23T18:37:46.635Z"
   },
   {
    "duration": 792,
    "start_time": "2022-04-23T18:37:47.101Z"
   },
   {
    "duration": 4,
    "start_time": "2022-04-23T18:37:47.896Z"
   },
   {
    "duration": 198,
    "start_time": "2022-04-23T18:37:47.902Z"
   },
   {
    "duration": 15,
    "start_time": "2022-04-23T18:38:05.196Z"
   },
   {
    "duration": 7,
    "start_time": "2022-04-23T18:38:07.682Z"
   },
   {
    "duration": 9,
    "start_time": "2022-04-23T18:38:10.537Z"
   },
   {
    "duration": 4,
    "start_time": "2022-04-23T18:38:15.268Z"
   },
   {
    "duration": 12,
    "start_time": "2022-04-23T18:38:27.819Z"
   },
   {
    "duration": 6,
    "start_time": "2022-04-23T18:39:57.308Z"
   },
   {
    "duration": 139,
    "start_time": "2022-04-23T18:40:58.350Z"
   },
   {
    "duration": 213,
    "start_time": "2022-04-23T18:41:12.696Z"
   },
   {
    "duration": 8,
    "start_time": "2022-04-23T18:42:37.707Z"
   },
   {
    "duration": 4,
    "start_time": "2022-04-23T18:42:53.936Z"
   },
   {
    "duration": 4,
    "start_time": "2022-04-23T18:43:09.528Z"
   },
   {
    "duration": 4,
    "start_time": "2022-04-23T18:43:38.458Z"
   },
   {
    "duration": 107,
    "start_time": "2022-04-23T18:48:43.012Z"
   }
  ],
  "kernelspec": {
   "display_name": "Python 3 (ipykernel)",
   "language": "python",
   "name": "python3"
  },
  "language_info": {
   "codemirror_mode": {
    "name": "ipython",
    "version": 3
   },
   "file_extension": ".py",
   "mimetype": "text/x-python",
   "name": "python",
   "nbconvert_exporter": "python",
   "pygments_lexer": "ipython3",
   "version": "3.9.5"
  },
  "toc": {
   "base_numbering": 1,
   "nav_menu": {},
   "number_sections": true,
   "sideBar": true,
   "skip_h1_title": false,
   "title_cell": "Table of Contents",
   "title_sidebar": "Contents",
   "toc_cell": false,
   "toc_position": {
    "height": "calc(100% - 180px)",
    "left": "10px",
    "top": "150px",
    "width": "273.188px"
   },
   "toc_section_display": true,
   "toc_window_display": true
  }
 },
 "nbformat": 4,
 "nbformat_minor": 5
}
