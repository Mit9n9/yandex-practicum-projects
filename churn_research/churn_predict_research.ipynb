{
 "cells": [
  {
   "cell_type": "markdown",
   "metadata": {
    "toc": true
   },
   "source": [
    "<h1>Содержание<span class=\"tocSkip\"></span></h1>\n",
    "<div class=\"toc\"><ul class=\"toc-item\"><li><span><a href=\"#Подготовка-данных\" data-toc-modified-id=\"Подготовка-данных-1\"><span class=\"toc-item-num\">1&nbsp;&nbsp;</span>Подготовка данных</a></span><ul class=\"toc-item\"><li><span><a href=\"#Знакомство-с-данными\" data-toc-modified-id=\"Знакомство-с-данными-1.1\"><span class=\"toc-item-num\">1.1&nbsp;&nbsp;</span>Знакомство с данными</a></span><ul class=\"toc-item\"><li><span><a href=\"#Вывод\" data-toc-modified-id=\"Вывод-1.1.1\"><span class=\"toc-item-num\">1.1.1&nbsp;&nbsp;</span>Вывод</a></span></li></ul></li><li><span><a href=\"#Предобработка-данных\" data-toc-modified-id=\"Предобработка-данных-1.2\"><span class=\"toc-item-num\">1.2&nbsp;&nbsp;</span>Предобработка данных</a></span><ul class=\"toc-item\"><li><span><a href=\"#Вывод\" data-toc-modified-id=\"Вывод-1.2.1\"><span class=\"toc-item-num\">1.2.1&nbsp;&nbsp;</span>Вывод</a></span></li></ul></li></ul></li><li><span><a href=\"#Исследование-задачи\" data-toc-modified-id=\"Исследование-задачи-2\"><span class=\"toc-item-num\">2&nbsp;&nbsp;</span>Исследование задачи</a></span><ul class=\"toc-item\"><li><span><a href=\"#Исследование-баланса-классов\" data-toc-modified-id=\"Исследование-баланса-классов-2.1\"><span class=\"toc-item-num\">2.1&nbsp;&nbsp;</span>Исследование баланса классов</a></span><ul class=\"toc-item\"><li><span><a href=\"#Вывод\" data-toc-modified-id=\"Вывод-2.1.1\"><span class=\"toc-item-num\">2.1.1&nbsp;&nbsp;</span>Вывод</a></span></li></ul></li><li><span><a href=\"#Исследование-влияния-отдельных-характеристик\" data-toc-modified-id=\"Исследование-влияния-отдельных-характеристик-2.2\"><span class=\"toc-item-num\">2.2&nbsp;&nbsp;</span>Исследование влияния отдельных характеристик</a></span><ul class=\"toc-item\"><li><span><a href=\"#Вывод\" data-toc-modified-id=\"Вывод-2.2.1\"><span class=\"toc-item-num\">2.2.1&nbsp;&nbsp;</span>Вывод</a></span></li></ul></li><li><span><a href=\"#Разбиение-и-подготовка-данных\" data-toc-modified-id=\"Разбиение-и-подготовка-данных-2.3\"><span class=\"toc-item-num\">2.3&nbsp;&nbsp;</span>Разбиение и подготовка данных</a></span><ul class=\"toc-item\"><li><span><a href=\"#Вывод\" data-toc-modified-id=\"Вывод-2.3.1\"><span class=\"toc-item-num\">2.3.1&nbsp;&nbsp;</span>Вывод</a></span></li></ul></li><li><span><a href=\"#Подбор-модели\" data-toc-modified-id=\"Подбор-модели-2.4\"><span class=\"toc-item-num\">2.4&nbsp;&nbsp;</span>Подбор модели</a></span><ul class=\"toc-item\"><li><span><a href=\"#Логистическая-регрессия\" data-toc-modified-id=\"Логистическая-регрессия-2.4.1\"><span class=\"toc-item-num\">2.4.1&nbsp;&nbsp;</span>Логистическая регрессия</a></span><ul class=\"toc-item\"><li><span><a href=\"#Вывод\" data-toc-modified-id=\"Вывод-2.4.1.1\"><span class=\"toc-item-num\">2.4.1.1&nbsp;&nbsp;</span>Вывод</a></span></li></ul></li><li><span><a href=\"#Модель-случайного-леса\" data-toc-modified-id=\"Модель-случайного-леса-2.4.2\"><span class=\"toc-item-num\">2.4.2&nbsp;&nbsp;</span>Модель случайного леса</a></span></li><li><span><a href=\"#Вывод\" data-toc-modified-id=\"Вывод-2.4.3\"><span class=\"toc-item-num\">2.4.3&nbsp;&nbsp;</span>Вывод</a></span></li></ul></li></ul></li><li><span><a href=\"#Борьба-с-дисбалансом\" data-toc-modified-id=\"Борьба-с-дисбалансом-3\"><span class=\"toc-item-num\">3&nbsp;&nbsp;</span>Борьба с дисбалансом</a></span><ul class=\"toc-item\"><li><span><a href=\"#Class_weight\" data-toc-modified-id=\"Class_weight-3.1\"><span class=\"toc-item-num\">3.1&nbsp;&nbsp;</span>Class_weight</a></span><ul class=\"toc-item\"><li><span><a href=\"#Вывод\" data-toc-modified-id=\"Вывод-3.1.1\"><span class=\"toc-item-num\">3.1.1&nbsp;&nbsp;</span>Вывод</a></span></li></ul></li><li><span><a href=\"#Увеличение-выборки\" data-toc-modified-id=\"Увеличение-выборки-3.2\"><span class=\"toc-item-num\">3.2&nbsp;&nbsp;</span>Увеличение выборки</a></span><ul class=\"toc-item\"><li><span><a href=\"#Вывод\" data-toc-modified-id=\"Вывод-3.2.1\"><span class=\"toc-item-num\">3.2.1&nbsp;&nbsp;</span>Вывод</a></span></li></ul></li><li><span><a href=\"#Уменьшение-выборки\" data-toc-modified-id=\"Уменьшение-выборки-3.3\"><span class=\"toc-item-num\">3.3&nbsp;&nbsp;</span>Уменьшение выборки</a></span><ul class=\"toc-item\"><li><span><a href=\"#Вывод\" data-toc-modified-id=\"Вывод-3.3.1\"><span class=\"toc-item-num\">3.3.1&nbsp;&nbsp;</span>Вывод</a></span></li></ul></li><li><span><a href=\"#Поиск-наилучшей-модели\" data-toc-modified-id=\"Поиск-наилучшей-модели-3.4\"><span class=\"toc-item-num\">3.4&nbsp;&nbsp;</span>Поиск наилучшей модели</a></span><ul class=\"toc-item\"><li><span><a href=\"#Вывод\" data-toc-modified-id=\"Вывод-3.4.1\"><span class=\"toc-item-num\">3.4.1&nbsp;&nbsp;</span>Вывод</a></span></li></ul></li></ul></li><li><span><a href=\"#Тестирование-модели\" data-toc-modified-id=\"Тестирование-модели-4\"><span class=\"toc-item-num\">4&nbsp;&nbsp;</span>Тестирование модели</a></span><ul class=\"toc-item\"><li><span><a href=\"#Вывод\" data-toc-modified-id=\"Вывод-4.1\"><span class=\"toc-item-num\">4.1&nbsp;&nbsp;</span>Вывод</a></span></li></ul></li><li><span><a href=\"#Общий-вывод\" data-toc-modified-id=\"Общий-вывод-5\"><span class=\"toc-item-num\">5&nbsp;&nbsp;</span>Общий вывод</a></span></li></ul></div>"
   ]
  },
  {
   "cell_type": "markdown",
   "metadata": {},
   "source": [
    "# Отток клиентов"
   ]
  },
  {
   "cell_type": "markdown",
   "metadata": {},
   "source": [
    "В данном проекте представлены данные о клиентах банка.\n",
    "\n",
    "Нужно спрогнозировать, уйдёт клиент из банка в ближайшее время или нет. Вам предоставлены исторические данные о поведении клиентов и расторжении договоров с банком. \n",
    "\n",
    "Необходимо построить модель с предельно большим значением *F1*-меры.\n",
    "\n",
    "Источник данных: [https://www.kaggle.com/barelydedicated/bank-customer-churn-modeling](https://www.kaggle.com/barelydedicated/bank-customer-churn-modeling)\n",
    "\n",
    "Признаки:\n",
    "* RowNumber — индекс строки в данных;\n",
    "* CustomerId — уникальный идентификатор клиента;\n",
    "* Surname — фамилия;\n",
    "* CreditScore — кредитный рейтинг;\n",
    "* Geography — страна проживания;\n",
    "* Gender — пол;\n",
    "* Age — возраст;\n",
    "* Tenure — сколько лет человек является клиентом банка;\n",
    "* Balance — баланс на счёте;\n",
    "* NumOfProducts — количество продуктов банка, используемых клиентом;\n",
    "* HasCrCard — наличие кредитной карты;\n",
    "* IsActiveMember — активность клиента;\n",
    "* EstimatedSalary — предполагаемая зарплата;\n",
    "Целевой признак:\n",
    "* Exited — факт ухода клиента."
   ]
  },
  {
   "cell_type": "markdown",
   "metadata": {},
   "source": [
    "## Подготовка данных"
   ]
  },
  {
   "cell_type": "markdown",
   "metadata": {},
   "source": [
    "### Знакомство с данными"
   ]
  },
  {
   "cell_type": "code",
   "execution_count": 1,
   "metadata": {},
   "outputs": [],
   "source": [
    "import pandas as pd\n",
    "\n",
    "import seaborn as sns\n",
    "import matplotlib.pyplot as plt\n",
    "\n",
    "from sklearn.preprocessing import StandardScaler\n",
    "from sklearn.model_selection import train_test_split\n",
    "from sklearn.linear_model import LogisticRegression\n",
    "from sklearn.metrics import f1_score, roc_auc_score\n",
    "from sklearn.ensemble import RandomForestClassifier\n",
    "from sklearn.model_selection import RandomizedSearchCV\n",
    "from sklearn.model_selection import GridSearchCV\n",
    "from sklearn.utils import shuffle\n",
    "from lightgbm import LGBMClassifier\n",
    "from sklearn.metrics import roc_curve\n",
    "\n",
    "pd.options.mode.chained_assignment = None\n"
   ]
  },
  {
   "cell_type": "code",
   "execution_count": 2,
   "metadata": {},
   "outputs": [],
   "source": [
    "df = pd.read_csv('/datasets/Churn.csv')"
   ]
  },
  {
   "cell_type": "code",
   "execution_count": 3,
   "metadata": {},
   "outputs": [
    {
     "data": {
      "text/html": [
       "<div>\n",
       "<style scoped>\n",
       "    .dataframe tbody tr th:only-of-type {\n",
       "        vertical-align: middle;\n",
       "    }\n",
       "\n",
       "    .dataframe tbody tr th {\n",
       "        vertical-align: top;\n",
       "    }\n",
       "\n",
       "    .dataframe thead th {\n",
       "        text-align: right;\n",
       "    }\n",
       "</style>\n",
       "<table border=\"1\" class=\"dataframe\">\n",
       "  <thead>\n",
       "    <tr style=\"text-align: right;\">\n",
       "      <th></th>\n",
       "      <th>RowNumber</th>\n",
       "      <th>CustomerId</th>\n",
       "      <th>Surname</th>\n",
       "      <th>CreditScore</th>\n",
       "      <th>Geography</th>\n",
       "      <th>Gender</th>\n",
       "      <th>Age</th>\n",
       "      <th>Tenure</th>\n",
       "      <th>Balance</th>\n",
       "      <th>NumOfProducts</th>\n",
       "      <th>HasCrCard</th>\n",
       "      <th>IsActiveMember</th>\n",
       "      <th>EstimatedSalary</th>\n",
       "      <th>Exited</th>\n",
       "    </tr>\n",
       "  </thead>\n",
       "  <tbody>\n",
       "    <tr>\n",
       "      <th>0</th>\n",
       "      <td>1</td>\n",
       "      <td>15634602</td>\n",
       "      <td>Hargrave</td>\n",
       "      <td>619</td>\n",
       "      <td>France</td>\n",
       "      <td>Female</td>\n",
       "      <td>42</td>\n",
       "      <td>2.0</td>\n",
       "      <td>0.00</td>\n",
       "      <td>1</td>\n",
       "      <td>1</td>\n",
       "      <td>1</td>\n",
       "      <td>101348.88</td>\n",
       "      <td>1</td>\n",
       "    </tr>\n",
       "    <tr>\n",
       "      <th>1</th>\n",
       "      <td>2</td>\n",
       "      <td>15647311</td>\n",
       "      <td>Hill</td>\n",
       "      <td>608</td>\n",
       "      <td>Spain</td>\n",
       "      <td>Female</td>\n",
       "      <td>41</td>\n",
       "      <td>1.0</td>\n",
       "      <td>83807.86</td>\n",
       "      <td>1</td>\n",
       "      <td>0</td>\n",
       "      <td>1</td>\n",
       "      <td>112542.58</td>\n",
       "      <td>0</td>\n",
       "    </tr>\n",
       "    <tr>\n",
       "      <th>2</th>\n",
       "      <td>3</td>\n",
       "      <td>15619304</td>\n",
       "      <td>Onio</td>\n",
       "      <td>502</td>\n",
       "      <td>France</td>\n",
       "      <td>Female</td>\n",
       "      <td>42</td>\n",
       "      <td>8.0</td>\n",
       "      <td>159660.80</td>\n",
       "      <td>3</td>\n",
       "      <td>1</td>\n",
       "      <td>0</td>\n",
       "      <td>113931.57</td>\n",
       "      <td>1</td>\n",
       "    </tr>\n",
       "    <tr>\n",
       "      <th>3</th>\n",
       "      <td>4</td>\n",
       "      <td>15701354</td>\n",
       "      <td>Boni</td>\n",
       "      <td>699</td>\n",
       "      <td>France</td>\n",
       "      <td>Female</td>\n",
       "      <td>39</td>\n",
       "      <td>1.0</td>\n",
       "      <td>0.00</td>\n",
       "      <td>2</td>\n",
       "      <td>0</td>\n",
       "      <td>0</td>\n",
       "      <td>93826.63</td>\n",
       "      <td>0</td>\n",
       "    </tr>\n",
       "    <tr>\n",
       "      <th>4</th>\n",
       "      <td>5</td>\n",
       "      <td>15737888</td>\n",
       "      <td>Mitchell</td>\n",
       "      <td>850</td>\n",
       "      <td>Spain</td>\n",
       "      <td>Female</td>\n",
       "      <td>43</td>\n",
       "      <td>2.0</td>\n",
       "      <td>125510.82</td>\n",
       "      <td>1</td>\n",
       "      <td>1</td>\n",
       "      <td>1</td>\n",
       "      <td>79084.10</td>\n",
       "      <td>0</td>\n",
       "    </tr>\n",
       "  </tbody>\n",
       "</table>\n",
       "</div>"
      ],
      "text/plain": [
       "   RowNumber  CustomerId   Surname  CreditScore Geography  Gender  Age  \\\n",
       "0          1    15634602  Hargrave          619    France  Female   42   \n",
       "1          2    15647311      Hill          608     Spain  Female   41   \n",
       "2          3    15619304      Onio          502    France  Female   42   \n",
       "3          4    15701354      Boni          699    France  Female   39   \n",
       "4          5    15737888  Mitchell          850     Spain  Female   43   \n",
       "\n",
       "   Tenure    Balance  NumOfProducts  HasCrCard  IsActiveMember  \\\n",
       "0     2.0       0.00              1          1               1   \n",
       "1     1.0   83807.86              1          0               1   \n",
       "2     8.0  159660.80              3          1               0   \n",
       "3     1.0       0.00              2          0               0   \n",
       "4     2.0  125510.82              1          1               1   \n",
       "\n",
       "   EstimatedSalary  Exited  \n",
       "0        101348.88       1  \n",
       "1        112542.58       0  \n",
       "2        113931.57       1  \n",
       "3         93826.63       0  \n",
       "4         79084.10       0  "
      ]
     },
     "execution_count": 3,
     "metadata": {},
     "output_type": "execute_result"
    }
   ],
   "source": [
    "df.head()"
   ]
  },
  {
   "cell_type": "code",
   "execution_count": 4,
   "metadata": {},
   "outputs": [
    {
     "name": "stdout",
     "output_type": "stream",
     "text": [
      "<class 'pandas.core.frame.DataFrame'>\n",
      "RangeIndex: 10000 entries, 0 to 9999\n",
      "Data columns (total 14 columns):\n",
      " #   Column           Non-Null Count  Dtype  \n",
      "---  ------           --------------  -----  \n",
      " 0   RowNumber        10000 non-null  int64  \n",
      " 1   CustomerId       10000 non-null  int64  \n",
      " 2   Surname          10000 non-null  object \n",
      " 3   CreditScore      10000 non-null  int64  \n",
      " 4   Geography        10000 non-null  object \n",
      " 5   Gender           10000 non-null  object \n",
      " 6   Age              10000 non-null  int64  \n",
      " 7   Tenure           9091 non-null   float64\n",
      " 8   Balance          10000 non-null  float64\n",
      " 9   NumOfProducts    10000 non-null  int64  \n",
      " 10  HasCrCard        10000 non-null  int64  \n",
      " 11  IsActiveMember   10000 non-null  int64  \n",
      " 12  EstimatedSalary  10000 non-null  float64\n",
      " 13  Exited           10000 non-null  int64  \n",
      "dtypes: float64(3), int64(8), object(3)\n",
      "memory usage: 1.1+ MB\n"
     ]
    }
   ],
   "source": [
    "df.info()"
   ]
  },
  {
   "cell_type": "markdown",
   "metadata": {},
   "source": [
    "#### Вывод"
   ]
  },
  {
   "cell_type": "markdown",
   "metadata": {},
   "source": [
    "* В таблице имеются пропуски;\n",
    "* названия колонок не в змеином регистре;\n",
    "* есть как количественные данные, так и категориальные;"
   ]
  },
  {
   "cell_type": "markdown",
   "metadata": {},
   "source": [
    "### Предобработка данных"
   ]
  },
  {
   "cell_type": "markdown",
   "metadata": {},
   "source": [
    "Приведём нужные нам столбцы к змеиному регистру:"
   ]
  },
  {
   "cell_type": "code",
   "execution_count": 5,
   "metadata": {},
   "outputs": [],
   "source": [
    "df.columns = df.columns.str.lower()"
   ]
  },
  {
   "cell_type": "code",
   "execution_count": 6,
   "metadata": {},
   "outputs": [
    {
     "data": {
      "text/html": [
       "<div>\n",
       "<style scoped>\n",
       "    .dataframe tbody tr th:only-of-type {\n",
       "        vertical-align: middle;\n",
       "    }\n",
       "\n",
       "    .dataframe tbody tr th {\n",
       "        vertical-align: top;\n",
       "    }\n",
       "\n",
       "    .dataframe thead th {\n",
       "        text-align: right;\n",
       "    }\n",
       "</style>\n",
       "<table border=\"1\" class=\"dataframe\">\n",
       "  <thead>\n",
       "    <tr style=\"text-align: right;\">\n",
       "      <th></th>\n",
       "      <th>rownumber</th>\n",
       "      <th>customerid</th>\n",
       "      <th>surname</th>\n",
       "      <th>creditscore</th>\n",
       "      <th>geography</th>\n",
       "      <th>gender</th>\n",
       "      <th>age</th>\n",
       "      <th>tenure</th>\n",
       "      <th>balance</th>\n",
       "      <th>numofproducts</th>\n",
       "      <th>hascrcard</th>\n",
       "      <th>isactivemember</th>\n",
       "      <th>estimatedsalary</th>\n",
       "      <th>exited</th>\n",
       "    </tr>\n",
       "  </thead>\n",
       "  <tbody>\n",
       "    <tr>\n",
       "      <th>0</th>\n",
       "      <td>1</td>\n",
       "      <td>15634602</td>\n",
       "      <td>Hargrave</td>\n",
       "      <td>619</td>\n",
       "      <td>France</td>\n",
       "      <td>Female</td>\n",
       "      <td>42</td>\n",
       "      <td>2.0</td>\n",
       "      <td>0.00</td>\n",
       "      <td>1</td>\n",
       "      <td>1</td>\n",
       "      <td>1</td>\n",
       "      <td>101348.88</td>\n",
       "      <td>1</td>\n",
       "    </tr>\n",
       "    <tr>\n",
       "      <th>1</th>\n",
       "      <td>2</td>\n",
       "      <td>15647311</td>\n",
       "      <td>Hill</td>\n",
       "      <td>608</td>\n",
       "      <td>Spain</td>\n",
       "      <td>Female</td>\n",
       "      <td>41</td>\n",
       "      <td>1.0</td>\n",
       "      <td>83807.86</td>\n",
       "      <td>1</td>\n",
       "      <td>0</td>\n",
       "      <td>1</td>\n",
       "      <td>112542.58</td>\n",
       "      <td>0</td>\n",
       "    </tr>\n",
       "    <tr>\n",
       "      <th>2</th>\n",
       "      <td>3</td>\n",
       "      <td>15619304</td>\n",
       "      <td>Onio</td>\n",
       "      <td>502</td>\n",
       "      <td>France</td>\n",
       "      <td>Female</td>\n",
       "      <td>42</td>\n",
       "      <td>8.0</td>\n",
       "      <td>159660.80</td>\n",
       "      <td>3</td>\n",
       "      <td>1</td>\n",
       "      <td>0</td>\n",
       "      <td>113931.57</td>\n",
       "      <td>1</td>\n",
       "    </tr>\n",
       "    <tr>\n",
       "      <th>3</th>\n",
       "      <td>4</td>\n",
       "      <td>15701354</td>\n",
       "      <td>Boni</td>\n",
       "      <td>699</td>\n",
       "      <td>France</td>\n",
       "      <td>Female</td>\n",
       "      <td>39</td>\n",
       "      <td>1.0</td>\n",
       "      <td>0.00</td>\n",
       "      <td>2</td>\n",
       "      <td>0</td>\n",
       "      <td>0</td>\n",
       "      <td>93826.63</td>\n",
       "      <td>0</td>\n",
       "    </tr>\n",
       "    <tr>\n",
       "      <th>4</th>\n",
       "      <td>5</td>\n",
       "      <td>15737888</td>\n",
       "      <td>Mitchell</td>\n",
       "      <td>850</td>\n",
       "      <td>Spain</td>\n",
       "      <td>Female</td>\n",
       "      <td>43</td>\n",
       "      <td>2.0</td>\n",
       "      <td>125510.82</td>\n",
       "      <td>1</td>\n",
       "      <td>1</td>\n",
       "      <td>1</td>\n",
       "      <td>79084.10</td>\n",
       "      <td>0</td>\n",
       "    </tr>\n",
       "  </tbody>\n",
       "</table>\n",
       "</div>"
      ],
      "text/plain": [
       "   rownumber  customerid   surname  creditscore geography  gender  age  \\\n",
       "0          1    15634602  Hargrave          619    France  Female   42   \n",
       "1          2    15647311      Hill          608     Spain  Female   41   \n",
       "2          3    15619304      Onio          502    France  Female   42   \n",
       "3          4    15701354      Boni          699    France  Female   39   \n",
       "4          5    15737888  Mitchell          850     Spain  Female   43   \n",
       "\n",
       "   tenure    balance  numofproducts  hascrcard  isactivemember  \\\n",
       "0     2.0       0.00              1          1               1   \n",
       "1     1.0   83807.86              1          0               1   \n",
       "2     8.0  159660.80              3          1               0   \n",
       "3     1.0       0.00              2          0               0   \n",
       "4     2.0  125510.82              1          1               1   \n",
       "\n",
       "   estimatedsalary  exited  \n",
       "0        101348.88       1  \n",
       "1        112542.58       0  \n",
       "2        113931.57       1  \n",
       "3         93826.63       0  \n",
       "4         79084.10       0  "
      ]
     },
     "execution_count": 6,
     "metadata": {},
     "output_type": "execute_result"
    }
   ],
   "source": [
    "df.head()"
   ]
  },
  {
   "cell_type": "markdown",
   "metadata": {},
   "source": [
    "Переименуем только те, столбцы, которые могут влиять на результат."
   ]
  },
  {
   "cell_type": "code",
   "execution_count": 7,
   "metadata": {},
   "outputs": [],
   "source": [
    "df = df.rename(columns={'creditscore' : 'credit_score',\n",
    "                            'numofproducts' : 'num_of_products',\n",
    "                            'hascrcard' : 'has_crcard',\n",
    "                        'isactivemember' : 'is_active_member',\n",
    "                        'estimatedsalary' : 'estimated_salary'\n",
    "                       \n",
    "                       }\n",
    "                  )"
   ]
  },
  {
   "cell_type": "code",
   "execution_count": 8,
   "metadata": {},
   "outputs": [
    {
     "data": {
      "text/html": [
       "<div>\n",
       "<style scoped>\n",
       "    .dataframe tbody tr th:only-of-type {\n",
       "        vertical-align: middle;\n",
       "    }\n",
       "\n",
       "    .dataframe tbody tr th {\n",
       "        vertical-align: top;\n",
       "    }\n",
       "\n",
       "    .dataframe thead th {\n",
       "        text-align: right;\n",
       "    }\n",
       "</style>\n",
       "<table border=\"1\" class=\"dataframe\">\n",
       "  <thead>\n",
       "    <tr style=\"text-align: right;\">\n",
       "      <th></th>\n",
       "      <th>rownumber</th>\n",
       "      <th>customerid</th>\n",
       "      <th>surname</th>\n",
       "      <th>credit_score</th>\n",
       "      <th>geography</th>\n",
       "      <th>gender</th>\n",
       "      <th>age</th>\n",
       "      <th>tenure</th>\n",
       "      <th>balance</th>\n",
       "      <th>num_of_products</th>\n",
       "      <th>has_crcard</th>\n",
       "      <th>is_active_member</th>\n",
       "      <th>estimated_salary</th>\n",
       "      <th>exited</th>\n",
       "    </tr>\n",
       "  </thead>\n",
       "  <tbody>\n",
       "    <tr>\n",
       "      <th>0</th>\n",
       "      <td>1</td>\n",
       "      <td>15634602</td>\n",
       "      <td>Hargrave</td>\n",
       "      <td>619</td>\n",
       "      <td>France</td>\n",
       "      <td>Female</td>\n",
       "      <td>42</td>\n",
       "      <td>2.0</td>\n",
       "      <td>0.00</td>\n",
       "      <td>1</td>\n",
       "      <td>1</td>\n",
       "      <td>1</td>\n",
       "      <td>101348.88</td>\n",
       "      <td>1</td>\n",
       "    </tr>\n",
       "    <tr>\n",
       "      <th>1</th>\n",
       "      <td>2</td>\n",
       "      <td>15647311</td>\n",
       "      <td>Hill</td>\n",
       "      <td>608</td>\n",
       "      <td>Spain</td>\n",
       "      <td>Female</td>\n",
       "      <td>41</td>\n",
       "      <td>1.0</td>\n",
       "      <td>83807.86</td>\n",
       "      <td>1</td>\n",
       "      <td>0</td>\n",
       "      <td>1</td>\n",
       "      <td>112542.58</td>\n",
       "      <td>0</td>\n",
       "    </tr>\n",
       "    <tr>\n",
       "      <th>2</th>\n",
       "      <td>3</td>\n",
       "      <td>15619304</td>\n",
       "      <td>Onio</td>\n",
       "      <td>502</td>\n",
       "      <td>France</td>\n",
       "      <td>Female</td>\n",
       "      <td>42</td>\n",
       "      <td>8.0</td>\n",
       "      <td>159660.80</td>\n",
       "      <td>3</td>\n",
       "      <td>1</td>\n",
       "      <td>0</td>\n",
       "      <td>113931.57</td>\n",
       "      <td>1</td>\n",
       "    </tr>\n",
       "    <tr>\n",
       "      <th>3</th>\n",
       "      <td>4</td>\n",
       "      <td>15701354</td>\n",
       "      <td>Boni</td>\n",
       "      <td>699</td>\n",
       "      <td>France</td>\n",
       "      <td>Female</td>\n",
       "      <td>39</td>\n",
       "      <td>1.0</td>\n",
       "      <td>0.00</td>\n",
       "      <td>2</td>\n",
       "      <td>0</td>\n",
       "      <td>0</td>\n",
       "      <td>93826.63</td>\n",
       "      <td>0</td>\n",
       "    </tr>\n",
       "    <tr>\n",
       "      <th>4</th>\n",
       "      <td>5</td>\n",
       "      <td>15737888</td>\n",
       "      <td>Mitchell</td>\n",
       "      <td>850</td>\n",
       "      <td>Spain</td>\n",
       "      <td>Female</td>\n",
       "      <td>43</td>\n",
       "      <td>2.0</td>\n",
       "      <td>125510.82</td>\n",
       "      <td>1</td>\n",
       "      <td>1</td>\n",
       "      <td>1</td>\n",
       "      <td>79084.10</td>\n",
       "      <td>0</td>\n",
       "    </tr>\n",
       "  </tbody>\n",
       "</table>\n",
       "</div>"
      ],
      "text/plain": [
       "   rownumber  customerid   surname  credit_score geography  gender  age  \\\n",
       "0          1    15634602  Hargrave           619    France  Female   42   \n",
       "1          2    15647311      Hill           608     Spain  Female   41   \n",
       "2          3    15619304      Onio           502    France  Female   42   \n",
       "3          4    15701354      Boni           699    France  Female   39   \n",
       "4          5    15737888  Mitchell           850     Spain  Female   43   \n",
       "\n",
       "   tenure    balance  num_of_products  has_crcard  is_active_member  \\\n",
       "0     2.0       0.00                1           1                 1   \n",
       "1     1.0   83807.86                1           0                 1   \n",
       "2     8.0  159660.80                3           1                 0   \n",
       "3     1.0       0.00                2           0                 0   \n",
       "4     2.0  125510.82                1           1                 1   \n",
       "\n",
       "   estimated_salary  exited  \n",
       "0         101348.88       1  \n",
       "1         112542.58       0  \n",
       "2         113931.57       1  \n",
       "3          93826.63       0  \n",
       "4          79084.10       0  "
      ]
     },
     "execution_count": 8,
     "metadata": {},
     "output_type": "execute_result"
    }
   ],
   "source": [
    "df.head()"
   ]
  },
  {
   "cell_type": "markdown",
   "metadata": {},
   "source": [
    "**Изучим пропуски:**"
   ]
  },
  {
   "cell_type": "code",
   "execution_count": 9,
   "metadata": {},
   "outputs": [
    {
     "data": {
      "text/plain": [
       "1.0     952\n",
       "2.0     950\n",
       "8.0     933\n",
       "3.0     928\n",
       "5.0     927\n",
       "7.0     925\n",
       "4.0     885\n",
       "9.0     882\n",
       "6.0     881\n",
       "10.0    446\n",
       "0.0     382\n",
       "Name: tenure, dtype: int64"
      ]
     },
     "execution_count": 9,
     "metadata": {},
     "output_type": "execute_result"
    }
   ],
   "source": [
    "df['tenure'].value_counts()"
   ]
  },
  {
   "cell_type": "code",
   "execution_count": 10,
   "metadata": {},
   "outputs": [
    {
     "data": {
      "text/html": [
       "<div>\n",
       "<style scoped>\n",
       "    .dataframe tbody tr th:only-of-type {\n",
       "        vertical-align: middle;\n",
       "    }\n",
       "\n",
       "    .dataframe tbody tr th {\n",
       "        vertical-align: top;\n",
       "    }\n",
       "\n",
       "    .dataframe thead th {\n",
       "        text-align: right;\n",
       "    }\n",
       "</style>\n",
       "<table border=\"1\" class=\"dataframe\">\n",
       "  <thead>\n",
       "    <tr style=\"text-align: right;\">\n",
       "      <th></th>\n",
       "      <th>rownumber</th>\n",
       "      <th>customerid</th>\n",
       "      <th>surname</th>\n",
       "      <th>credit_score</th>\n",
       "      <th>geography</th>\n",
       "      <th>gender</th>\n",
       "      <th>age</th>\n",
       "      <th>tenure</th>\n",
       "      <th>balance</th>\n",
       "      <th>num_of_products</th>\n",
       "      <th>has_crcard</th>\n",
       "      <th>is_active_member</th>\n",
       "      <th>estimated_salary</th>\n",
       "      <th>exited</th>\n",
       "    </tr>\n",
       "  </thead>\n",
       "  <tbody>\n",
       "    <tr>\n",
       "      <th>30</th>\n",
       "      <td>31</td>\n",
       "      <td>15589475</td>\n",
       "      <td>Azikiwe</td>\n",
       "      <td>591</td>\n",
       "      <td>Spain</td>\n",
       "      <td>Female</td>\n",
       "      <td>39</td>\n",
       "      <td>NaN</td>\n",
       "      <td>0.00</td>\n",
       "      <td>3</td>\n",
       "      <td>1</td>\n",
       "      <td>0</td>\n",
       "      <td>140469.38</td>\n",
       "      <td>1</td>\n",
       "    </tr>\n",
       "    <tr>\n",
       "      <th>48</th>\n",
       "      <td>49</td>\n",
       "      <td>15766205</td>\n",
       "      <td>Yin</td>\n",
       "      <td>550</td>\n",
       "      <td>Germany</td>\n",
       "      <td>Male</td>\n",
       "      <td>38</td>\n",
       "      <td>NaN</td>\n",
       "      <td>103391.38</td>\n",
       "      <td>1</td>\n",
       "      <td>0</td>\n",
       "      <td>1</td>\n",
       "      <td>90878.13</td>\n",
       "      <td>0</td>\n",
       "    </tr>\n",
       "    <tr>\n",
       "      <th>51</th>\n",
       "      <td>52</td>\n",
       "      <td>15768193</td>\n",
       "      <td>Trevisani</td>\n",
       "      <td>585</td>\n",
       "      <td>Germany</td>\n",
       "      <td>Male</td>\n",
       "      <td>36</td>\n",
       "      <td>NaN</td>\n",
       "      <td>146050.97</td>\n",
       "      <td>2</td>\n",
       "      <td>0</td>\n",
       "      <td>0</td>\n",
       "      <td>86424.57</td>\n",
       "      <td>0</td>\n",
       "    </tr>\n",
       "    <tr>\n",
       "      <th>53</th>\n",
       "      <td>54</td>\n",
       "      <td>15702298</td>\n",
       "      <td>Parkhill</td>\n",
       "      <td>655</td>\n",
       "      <td>Germany</td>\n",
       "      <td>Male</td>\n",
       "      <td>41</td>\n",
       "      <td>NaN</td>\n",
       "      <td>125561.97</td>\n",
       "      <td>1</td>\n",
       "      <td>0</td>\n",
       "      <td>0</td>\n",
       "      <td>164040.94</td>\n",
       "      <td>1</td>\n",
       "    </tr>\n",
       "    <tr>\n",
       "      <th>60</th>\n",
       "      <td>61</td>\n",
       "      <td>15651280</td>\n",
       "      <td>Hunter</td>\n",
       "      <td>742</td>\n",
       "      <td>Germany</td>\n",
       "      <td>Male</td>\n",
       "      <td>35</td>\n",
       "      <td>NaN</td>\n",
       "      <td>136857.00</td>\n",
       "      <td>1</td>\n",
       "      <td>0</td>\n",
       "      <td>0</td>\n",
       "      <td>84509.57</td>\n",
       "      <td>0</td>\n",
       "    </tr>\n",
       "    <tr>\n",
       "      <th>...</th>\n",
       "      <td>...</td>\n",
       "      <td>...</td>\n",
       "      <td>...</td>\n",
       "      <td>...</td>\n",
       "      <td>...</td>\n",
       "      <td>...</td>\n",
       "      <td>...</td>\n",
       "      <td>...</td>\n",
       "      <td>...</td>\n",
       "      <td>...</td>\n",
       "      <td>...</td>\n",
       "      <td>...</td>\n",
       "      <td>...</td>\n",
       "      <td>...</td>\n",
       "    </tr>\n",
       "    <tr>\n",
       "      <th>9944</th>\n",
       "      <td>9945</td>\n",
       "      <td>15703923</td>\n",
       "      <td>Cameron</td>\n",
       "      <td>744</td>\n",
       "      <td>Germany</td>\n",
       "      <td>Male</td>\n",
       "      <td>41</td>\n",
       "      <td>NaN</td>\n",
       "      <td>190409.34</td>\n",
       "      <td>2</td>\n",
       "      <td>1</td>\n",
       "      <td>1</td>\n",
       "      <td>138361.48</td>\n",
       "      <td>0</td>\n",
       "    </tr>\n",
       "    <tr>\n",
       "      <th>9956</th>\n",
       "      <td>9957</td>\n",
       "      <td>15707861</td>\n",
       "      <td>Nucci</td>\n",
       "      <td>520</td>\n",
       "      <td>France</td>\n",
       "      <td>Female</td>\n",
       "      <td>46</td>\n",
       "      <td>NaN</td>\n",
       "      <td>85216.61</td>\n",
       "      <td>1</td>\n",
       "      <td>1</td>\n",
       "      <td>0</td>\n",
       "      <td>117369.52</td>\n",
       "      <td>1</td>\n",
       "    </tr>\n",
       "    <tr>\n",
       "      <th>9964</th>\n",
       "      <td>9965</td>\n",
       "      <td>15642785</td>\n",
       "      <td>Douglas</td>\n",
       "      <td>479</td>\n",
       "      <td>France</td>\n",
       "      <td>Male</td>\n",
       "      <td>34</td>\n",
       "      <td>NaN</td>\n",
       "      <td>117593.48</td>\n",
       "      <td>2</td>\n",
       "      <td>0</td>\n",
       "      <td>0</td>\n",
       "      <td>113308.29</td>\n",
       "      <td>0</td>\n",
       "    </tr>\n",
       "    <tr>\n",
       "      <th>9985</th>\n",
       "      <td>9986</td>\n",
       "      <td>15586914</td>\n",
       "      <td>Nepean</td>\n",
       "      <td>659</td>\n",
       "      <td>France</td>\n",
       "      <td>Male</td>\n",
       "      <td>36</td>\n",
       "      <td>NaN</td>\n",
       "      <td>123841.49</td>\n",
       "      <td>2</td>\n",
       "      <td>1</td>\n",
       "      <td>0</td>\n",
       "      <td>96833.00</td>\n",
       "      <td>0</td>\n",
       "    </tr>\n",
       "    <tr>\n",
       "      <th>9999</th>\n",
       "      <td>10000</td>\n",
       "      <td>15628319</td>\n",
       "      <td>Walker</td>\n",
       "      <td>792</td>\n",
       "      <td>France</td>\n",
       "      <td>Female</td>\n",
       "      <td>28</td>\n",
       "      <td>NaN</td>\n",
       "      <td>130142.79</td>\n",
       "      <td>1</td>\n",
       "      <td>1</td>\n",
       "      <td>0</td>\n",
       "      <td>38190.78</td>\n",
       "      <td>0</td>\n",
       "    </tr>\n",
       "  </tbody>\n",
       "</table>\n",
       "<p>909 rows × 14 columns</p>\n",
       "</div>"
      ],
      "text/plain": [
       "      rownumber  customerid    surname  credit_score geography  gender  age  \\\n",
       "30           31    15589475    Azikiwe           591     Spain  Female   39   \n",
       "48           49    15766205        Yin           550   Germany    Male   38   \n",
       "51           52    15768193  Trevisani           585   Germany    Male   36   \n",
       "53           54    15702298   Parkhill           655   Germany    Male   41   \n",
       "60           61    15651280     Hunter           742   Germany    Male   35   \n",
       "...         ...         ...        ...           ...       ...     ...  ...   \n",
       "9944       9945    15703923    Cameron           744   Germany    Male   41   \n",
       "9956       9957    15707861      Nucci           520    France  Female   46   \n",
       "9964       9965    15642785    Douglas           479    France    Male   34   \n",
       "9985       9986    15586914     Nepean           659    France    Male   36   \n",
       "9999      10000    15628319     Walker           792    France  Female   28   \n",
       "\n",
       "      tenure    balance  num_of_products  has_crcard  is_active_member  \\\n",
       "30       NaN       0.00                3           1                 0   \n",
       "48       NaN  103391.38                1           0                 1   \n",
       "51       NaN  146050.97                2           0                 0   \n",
       "53       NaN  125561.97                1           0                 0   \n",
       "60       NaN  136857.00                1           0                 0   \n",
       "...      ...        ...              ...         ...               ...   \n",
       "9944     NaN  190409.34                2           1                 1   \n",
       "9956     NaN   85216.61                1           1                 0   \n",
       "9964     NaN  117593.48                2           0                 0   \n",
       "9985     NaN  123841.49                2           1                 0   \n",
       "9999     NaN  130142.79                1           1                 0   \n",
       "\n",
       "      estimated_salary  exited  \n",
       "30           140469.38       1  \n",
       "48            90878.13       0  \n",
       "51            86424.57       0  \n",
       "53           164040.94       1  \n",
       "60            84509.57       0  \n",
       "...                ...     ...  \n",
       "9944         138361.48       0  \n",
       "9956         117369.52       1  \n",
       "9964         113308.29       0  \n",
       "9985          96833.00       0  \n",
       "9999          38190.78       0  \n",
       "\n",
       "[909 rows x 14 columns]"
      ]
     },
     "execution_count": 10,
     "metadata": {},
     "output_type": "execute_result"
    }
   ],
   "source": [
    "df.query('tenure.isna()')"
   ]
  },
  {
   "cell_type": "markdown",
   "metadata": {},
   "source": [
    "Как видно, пропуски в столбце `tenure` являются случайными, заполним их медианным значением:"
   ]
  },
  {
   "cell_type": "code",
   "execution_count": 11,
   "metadata": {},
   "outputs": [],
   "source": [
    "df['tenure'] = df['tenure'].fillna(value=df['tenure'].median())"
   ]
  },
  {
   "cell_type": "code",
   "execution_count": 12,
   "metadata": {},
   "outputs": [
    {
     "data": {
      "text/plain": [
       "0"
      ]
     },
     "execution_count": 12,
     "metadata": {},
     "output_type": "execute_result"
    }
   ],
   "source": [
    "df['tenure'].isna().sum()"
   ]
  },
  {
   "cell_type": "markdown",
   "metadata": {},
   "source": [
    "**Изменение типов данных:**"
   ]
  },
  {
   "cell_type": "markdown",
   "metadata": {},
   "source": [
    "Напишем функцию для изменения типов данных:"
   ]
  },
  {
   "cell_type": "code",
   "execution_count": 13,
   "metadata": {},
   "outputs": [
    {
     "name": "stdout",
     "output_type": "stream",
     "text": [
      "rownumber             int16\n",
      "customerid            int32\n",
      "surname              object\n",
      "credit_score          int16\n",
      "geography            object\n",
      "gender               object\n",
      "age                    int8\n",
      "tenure              float32\n",
      "balance             float32\n",
      "num_of_products        int8\n",
      "has_crcard             int8\n",
      "is_active_member       int8\n",
      "estimated_salary    float32\n",
      "exited                 int8\n",
      "dtype: object\n"
     ]
    }
   ],
   "source": [
    "def type_change(data):    \n",
    "    for column in data.columns:\n",
    "        if data[column].dtype == 'int64':\n",
    "            data[column] = pd.to_numeric(data[column], downcast='integer')\n",
    "        elif data[column].dtype == 'float64':\n",
    "            data[column] = pd.to_numeric(data[column], downcast='float')\n",
    "    return data        \n",
    "\n",
    "\n",
    "df = type_change(df)\n",
    "print(df.dtypes)"
   ]
  },
  {
   "cell_type": "markdown",
   "metadata": {},
   "source": [
    "Приведём столбцу к категориальному типу:"
   ]
  },
  {
   "cell_type": "code",
   "execution_count": 14,
   "metadata": {},
   "outputs": [],
   "source": [
    "to_category = ['geography', 'gender', 'num_of_products']\n",
    "\n",
    "for column in to_category:\n",
    "    df[column] = df[column].astype('category')"
   ]
  },
  {
   "cell_type": "markdown",
   "metadata": {},
   "source": [
    "#### Вывод\n",
    "\n",
    "* Названия столбцов приведены к змеиному регистру;\n",
    "* выявлены пропуски;\n",
    "* оптимизированы типы данных."
   ]
  },
  {
   "cell_type": "markdown",
   "metadata": {},
   "source": [
    "## Исследование задачи"
   ]
  },
  {
   "cell_type": "markdown",
   "metadata": {},
   "source": [
    "### Исследование баланса классов"
   ]
  },
  {
   "cell_type": "markdown",
   "metadata": {},
   "source": [
    "Посчитаем количество представителей классов:"
   ]
  },
  {
   "cell_type": "code",
   "execution_count": 15,
   "metadata": {},
   "outputs": [
    {
     "data": {
      "text/plain": [
       "0    0.7963\n",
       "1    0.2037\n",
       "Name: exited, dtype: float64"
      ]
     },
     "execution_count": 15,
     "metadata": {},
     "output_type": "execute_result"
    }
   ],
   "source": [
    "df['exited'].value_counts(normalize=True)"
   ]
  },
  {
   "cell_type": "markdown",
   "metadata": {},
   "source": [
    "#### Вывод\n",
    "\n",
    "В данных присутствует дисбаланс классов: количество представителей класса `0`, то есть тех, кто не ушёл из банка в 4 раза больше, чем представителей класса `1`, то есть тех, кто ушёл из банка, это означает, что такая метрика как `accuracy` - точность, будет неадекватно показывать нам качество модели. Будем испольовать  `f1`. Сначала исследуем без учёта баланса классов, затем, учитывая дисбаланс."
   ]
  },
  {
   "cell_type": "markdown",
   "metadata": {},
   "source": [
    "### Исследование влияния отдельных характеристик"
   ]
  },
  {
   "cell_type": "markdown",
   "metadata": {},
   "source": [
    "Исследуем влияние характеристик (всех кроме: фамилии, номер строки, id) на целевой показатель:"
   ]
  },
  {
   "cell_type": "markdown",
   "metadata": {},
   "source": [
    "Напишем функцию, которая будет выводить столбчатую диаграмму, по оси y - доля ушедших из банка, а по оси x - значение характеристики:"
   ]
  },
  {
   "cell_type": "code",
   "execution_count": 16,
   "metadata": {},
   "outputs": [
    {
     "data": {
      "image/png": "[encoded data removed]",
      "text/plain": [
       "<Figure size 432x288 with 1 Axes>"
      ]
     },
     "metadata": {
      "needs_background": "light"
     },
     "output_type": "display_data"
    }
   ],
   "source": [
    "def get_stat(df, column):\n",
    "    df_pivot =  df.pivot_table(index=column, values='exited', aggfunc={'sum','count'})\n",
    "    df_pivot['value'] = df_pivot['sum'] / df_pivot['count']\n",
    "    sns.barplot(x=df_pivot.index, y='value', data=df_pivot)\n",
    "    plt.show()\n",
    "\n",
    "get_stat(df ,'has_crcard')    "
   ]
  },
  {
   "cell_type": "markdown",
   "metadata": {},
   "source": [
    "Как видно, наличие кредитной карты, практически не влияет на долю тех, кто ушёл из банка."
   ]
  },
  {
   "cell_type": "markdown",
   "metadata": {},
   "source": [
    "**Активность пользователя:**"
   ]
  },
  {
   "cell_type": "code",
   "execution_count": 17,
   "metadata": {},
   "outputs": [
    {
     "data": {
      "image/png": "[encoded data removed]",
      "text/plain": [
       "<Figure size 432x288 with 1 Axes>"
      ]
     },
     "metadata": {
      "needs_background": "light"
     },
     "output_type": "display_data"
    }
   ],
   "source": [
    "get_stat(df ,'is_active_member')"
   ]
  },
  {
   "cell_type": "markdown",
   "metadata": {},
   "source": [
    "Как видно, среди активных пользователей, доля тех, кто ушёл из банка намного меньше."
   ]
  },
  {
   "cell_type": "markdown",
   "metadata": {},
   "source": [
    "**Влияние страны:**"
   ]
  },
  {
   "cell_type": "code",
   "execution_count": 18,
   "metadata": {},
   "outputs": [
    {
     "data": {
      "image/png": "[encoded data removed]",
      "text/plain": [
       "<Figure size 432x288 with 1 Axes>"
      ]
     },
     "metadata": {
      "needs_background": "light"
     },
     "output_type": "display_data"
    }
   ],
   "source": [
    "get_stat(df ,'geography')"
   ]
  },
  {
   "cell_type": "markdown",
   "metadata": {},
   "source": [
    "Как видно, во Франции и Испании доля тех, кто ушёл из банка ниже, чем в Германии."
   ]
  },
  {
   "cell_type": "markdown",
   "metadata": {},
   "source": [
    "**Влияние пола:**"
   ]
  },
  {
   "cell_type": "code",
   "execution_count": 19,
   "metadata": {},
   "outputs": [
    {
     "data": {
      "image/png": "[encoded data removed]",
      "text/plain": [
       "<Figure size 432x288 with 1 Axes>"
      ]
     },
     "metadata": {
      "needs_background": "light"
     },
     "output_type": "display_data"
    }
   ],
   "source": [
    "get_stat(df, 'gender')"
   ]
  },
  {
   "cell_type": "markdown",
   "metadata": {},
   "source": [
    "Среди женщин доля ушедших выше, чем у мужчин."
   ]
  },
  {
   "cell_type": "markdown",
   "metadata": {},
   "source": [
    "**Влияние количества продуктов:**"
   ]
  },
  {
   "cell_type": "code",
   "execution_count": 20,
   "metadata": {},
   "outputs": [
    {
     "data": {
      "image/png": "[encoded data removed]",
      "text/plain": [
       "<Figure size 432x288 with 1 Axes>"
      ]
     },
     "metadata": {
      "needs_background": "light"
     },
     "output_type": "display_data"
    }
   ],
   "source": [
    "get_stat(df, 'num_of_products')"
   ]
  },
  {
   "cell_type": "code",
   "execution_count": 21,
   "metadata": {},
   "outputs": [
    {
     "data": {
      "text/html": [
       "<div>\n",
       "<style scoped>\n",
       "    .dataframe tbody tr th:only-of-type {\n",
       "        vertical-align: middle;\n",
       "    }\n",
       "\n",
       "    .dataframe tbody tr th {\n",
       "        vertical-align: top;\n",
       "    }\n",
       "\n",
       "    .dataframe thead th {\n",
       "        text-align: right;\n",
       "    }\n",
       "</style>\n",
       "<table border=\"1\" class=\"dataframe\">\n",
       "  <thead>\n",
       "    <tr style=\"text-align: right;\">\n",
       "      <th></th>\n",
       "      <th>rownumber</th>\n",
       "      <th>customerid</th>\n",
       "      <th>surname</th>\n",
       "      <th>credit_score</th>\n",
       "      <th>geography</th>\n",
       "      <th>gender</th>\n",
       "      <th>age</th>\n",
       "      <th>tenure</th>\n",
       "      <th>balance</th>\n",
       "      <th>num_of_products</th>\n",
       "      <th>has_crcard</th>\n",
       "      <th>is_active_member</th>\n",
       "      <th>estimated_salary</th>\n",
       "      <th>exited</th>\n",
       "    </tr>\n",
       "  </thead>\n",
       "  <tbody>\n",
       "  </tbody>\n",
       "</table>\n",
       "</div>"
      ],
      "text/plain": [
       "Empty DataFrame\n",
       "Columns: [rownumber, customerid, surname, credit_score, geography, gender, age, tenure, balance, num_of_products, has_crcard, is_active_member, estimated_salary, exited]\n",
       "Index: []"
      ]
     },
     "execution_count": 21,
     "metadata": {},
     "output_type": "execute_result"
    }
   ],
   "source": [
    "df.query('num_of_products == 4 and exited == 0').head(10)"
   ]
  },
  {
   "cell_type": "markdown",
   "metadata": {},
   "source": [
    "Количество продуктов сильно влияет на то, уйдет человек из банка или нет, причём, доля ушедших минимальна при количестве продуктов - 2, а затем резко увеличивается при увеличении количества продуктов до 3, и, наконец, все, у кого 4 продукта - ушли из банка. Можно сделать вывод, что оптимальное количество продуктов банка - 2."
   ]
  },
  {
   "cell_type": "markdown",
   "metadata": {},
   "source": [
    "**Влияение зарплаты:**\n",
    "\n",
    "Для всех количественных признаков, будем сравнивать диаграммы ящик с усами для тех кто ушёл и не ушёл:"
   ]
  },
  {
   "cell_type": "code",
   "execution_count": 22,
   "metadata": {},
   "outputs": [
    {
     "data": {
      "image/png": "[encoded data removed]",
      "text/plain": [
       "<Figure size 432x288 with 1 Axes>"
      ]
     },
     "metadata": {
      "needs_background": "light"
     },
     "output_type": "display_data"
    }
   ],
   "source": [
    "sns.boxplot(x='exited', y='estimated_salary', data=df, hue='exited')\n",
    "plt.show()"
   ]
  },
  {
   "cell_type": "markdown",
   "metadata": {},
   "source": [
    "На основании того, что ящики идентичны, можно сделать вывод, что зарплата не влияет на целевой показатель."
   ]
  },
  {
   "cell_type": "markdown",
   "metadata": {},
   "source": [
    "**Влияние возраста:**"
   ]
  },
  {
   "cell_type": "code",
   "execution_count": 23,
   "metadata": {},
   "outputs": [
    {
     "data": {
      "image/png": "[encoded data removed]",
      "text/plain": [
       "<Figure size 432x288 with 1 Axes>"
      ]
     },
     "metadata": {
      "needs_background": "light"
     },
     "output_type": "display_data"
    }
   ],
   "source": [
    "sns.boxplot(x='exited' ,y='age', data=df, hue='exited')\n",
    "plt.show()"
   ]
  },
  {
   "cell_type": "markdown",
   "metadata": {},
   "source": [
    "Диаграммы отличаются, а значит возраст влияет, медианный возраст, среди тех кто ушёл выше."
   ]
  },
  {
   "cell_type": "markdown",
   "metadata": {},
   "source": [
    "**Влияение кредитного рейтинга:** "
   ]
  },
  {
   "cell_type": "code",
   "execution_count": 24,
   "metadata": {},
   "outputs": [
    {
     "data": {
      "image/png": "[encoded data removed]",
      "text/plain": [
       "<Figure size 432x288 with 1 Axes>"
      ]
     },
     "metadata": {
      "needs_background": "light"
     },
     "output_type": "display_data"
    }
   ],
   "source": [
    "sns.boxplot(x='exited' ,y='credit_score', data=df, hue='exited')\n",
    "plt.show()"
   ]
  },
  {
   "cell_type": "markdown",
   "metadata": {},
   "source": [
    "Как видно, диаграммы отличаются при низких значениях рейтинга, можно сделать вывод, что кредитный рейтинг влияет на целевой показатель."
   ]
  },
  {
   "cell_type": "markdown",
   "metadata": {},
   "source": [
    "**Количество лет, в банке:**"
   ]
  },
  {
   "cell_type": "code",
   "execution_count": 25,
   "metadata": {},
   "outputs": [
    {
     "data": {
      "image/png": "[encoded data removed]",
      "text/plain": [
       "<Figure size 432x288 with 1 Axes>"
      ]
     },
     "metadata": {
      "needs_background": "light"
     },
     "output_type": "display_data"
    }
   ],
   "source": [
    "sns.boxplot(x='exited' ,y='tenure', data=df, hue='exited')\n",
    "plt.show()"
   ]
  },
  {
   "cell_type": "markdown",
   "metadata": {},
   "source": [
    "Как видно, диаграммы немного отличаются, хотя медианы одинаковы, но есть небольшой перекос среди тех, кто ушёл."
   ]
  },
  {
   "cell_type": "markdown",
   "metadata": {},
   "source": [
    "**Влияние баланса:**"
   ]
  },
  {
   "cell_type": "code",
   "execution_count": 26,
   "metadata": {},
   "outputs": [
    {
     "data": {
      "image/png": "[encoded data removed]",
      "text/plain": [
       "<Figure size 432x288 with 1 Axes>"
      ]
     },
     "metadata": {
      "needs_background": "light"
     },
     "output_type": "display_data"
    }
   ],
   "source": [
    "sns.boxplot(x='exited' ,y='balance', data=df, hue='exited')\n",
    "plt.show()"
   ]
  },
  {
   "cell_type": "markdown",
   "metadata": {},
   "source": [
    "Как видно, баланс влияет на целевой показатель, причём среди тех кто не ушёл, баланс иногда оказывается равен 0. Среди тех кто ушёл медианной значение баланса выше."
   ]
  },
  {
   "cell_type": "markdown",
   "metadata": {},
   "source": [
    "#### Вывод\n",
    "\n",
    "Колонки с номером строки, id, фамилией, очевидно, не могут влиять на результат.\n",
    "\n",
    "Влияющие колонки:\n",
    "*  `geography` - страна;\n",
    "*  `gender` - пол, среди женщин доля ушедших больше практически в 2 раза;\n",
    "* `is_active_member` - активность пользователя, четверть неактивных пользователей ушла, доля среди активных в 2 раза ниже;\n",
    "* `num_of_products` - количество продуктов, стоит отметить, что при количестве продуктов больше 2-х, доля тех, кто ушёл резко увеличивается до 80%, среди тех у кого 4 продукта ушли все клиенты;\n",
    "* `credit_score` - кредитный рейтинг слабо влияет, но среди тех кто ушёл встречаются люди с рейтингом меньше 400;\n",
    "* `age` - возраст, среди тех кто ушёл медианный возраст выше;\n",
    "* `tenure` - количество лет в банке, слабо влияет на целевой показатель;\n",
    "* `balance` - баланс, среди тех, кто ушёл, баланс обычно выше.\n",
    "\n",
    "Не влияют:\n",
    "* `has_crcard` - наличие кредитной карты;\n",
    "* `extimated_salary` - зарплата.\n"
   ]
  },
  {
   "cell_type": "markdown",
   "metadata": {},
   "source": [
    "### Разбиение и подготовка данных"
   ]
  },
  {
   "cell_type": "markdown",
   "metadata": {},
   "source": [
    "Подготовим 2 набора дата-сетов для сравнения, в первом будем использовать все столбцы, кроме столбцов с фамилией, id, номером строки,а во втором будем использовать только те, которые мы посчитали будут влиять на результат:"
   ]
  },
  {
   "cell_type": "code",
   "execution_count": 27,
   "metadata": {},
   "outputs": [],
   "source": [
    "all_columns = ['credit_score',\n",
    "                       'geography',\n",
    "                       'gender',\n",
    "                       'age',\n",
    "                       'tenure',\n",
    "                       'balance',\n",
    "                       'num_of_products',\n",
    "                       'has_crcard',\n",
    "                       'is_active_member',\n",
    "                      'estimated_salary',\n",
    "                      'exited']"
   ]
  },
  {
   "cell_type": "code",
   "execution_count": 28,
   "metadata": {},
   "outputs": [],
   "source": [
    "valuable_columns = ['geography',\n",
    "                   'gender',\n",
    "                   'is_active_member',\n",
    "                   'num_of_products',\n",
    "                   'age',\n",
    "                    'credit_score',\n",
    "                   'tenure',\n",
    "                   'balance']"
   ]
  },
  {
   "cell_type": "markdown",
   "metadata": {},
   "source": [
    "Создадим 2 датасета:"
   ]
  },
  {
   "cell_type": "code",
   "execution_count": 29,
   "metadata": {},
   "outputs": [],
   "source": [
    "features_all = df[all_columns].drop('exited', axis=1).copy() # все столбцы\n",
    "features_value = df[valuable_columns].copy() # влияющие столбцы\n",
    "target = df['exited'].copy()"
   ]
  },
  {
   "cell_type": "markdown",
   "metadata": {},
   "source": [
    "Применим `OHE` - кодирование к таблицам с предикторами:"
   ]
  },
  {
   "cell_type": "code",
   "execution_count": 30,
   "metadata": {},
   "outputs": [
    {
     "data": {
      "text/html": [
       "<div>\n",
       "<style scoped>\n",
       "    .dataframe tbody tr th:only-of-type {\n",
       "        vertical-align: middle;\n",
       "    }\n",
       "\n",
       "    .dataframe tbody tr th {\n",
       "        vertical-align: top;\n",
       "    }\n",
       "\n",
       "    .dataframe thead th {\n",
       "        text-align: right;\n",
       "    }\n",
       "</style>\n",
       "<table border=\"1\" class=\"dataframe\">\n",
       "  <thead>\n",
       "    <tr style=\"text-align: right;\">\n",
       "      <th></th>\n",
       "      <th>credit_score</th>\n",
       "      <th>age</th>\n",
       "      <th>tenure</th>\n",
       "      <th>balance</th>\n",
       "      <th>has_crcard</th>\n",
       "      <th>is_active_member</th>\n",
       "      <th>estimated_salary</th>\n",
       "      <th>geography_Germany</th>\n",
       "      <th>geography_Spain</th>\n",
       "      <th>gender_Male</th>\n",
       "      <th>num_of_products_2</th>\n",
       "      <th>num_of_products_3</th>\n",
       "      <th>num_of_products_4</th>\n",
       "    </tr>\n",
       "  </thead>\n",
       "  <tbody>\n",
       "    <tr>\n",
       "      <th>0</th>\n",
       "      <td>619</td>\n",
       "      <td>42</td>\n",
       "      <td>2.0</td>\n",
       "      <td>0.000000</td>\n",
       "      <td>1</td>\n",
       "      <td>1</td>\n",
       "      <td>101348.882812</td>\n",
       "      <td>0</td>\n",
       "      <td>0</td>\n",
       "      <td>0</td>\n",
       "      <td>0</td>\n",
       "      <td>0</td>\n",
       "      <td>0</td>\n",
       "    </tr>\n",
       "    <tr>\n",
       "      <th>1</th>\n",
       "      <td>608</td>\n",
       "      <td>41</td>\n",
       "      <td>1.0</td>\n",
       "      <td>83807.859375</td>\n",
       "      <td>0</td>\n",
       "      <td>1</td>\n",
       "      <td>112542.578125</td>\n",
       "      <td>0</td>\n",
       "      <td>1</td>\n",
       "      <td>0</td>\n",
       "      <td>0</td>\n",
       "      <td>0</td>\n",
       "      <td>0</td>\n",
       "    </tr>\n",
       "    <tr>\n",
       "      <th>2</th>\n",
       "      <td>502</td>\n",
       "      <td>42</td>\n",
       "      <td>8.0</td>\n",
       "      <td>159660.796875</td>\n",
       "      <td>1</td>\n",
       "      <td>0</td>\n",
       "      <td>113931.570312</td>\n",
       "      <td>0</td>\n",
       "      <td>0</td>\n",
       "      <td>0</td>\n",
       "      <td>0</td>\n",
       "      <td>1</td>\n",
       "      <td>0</td>\n",
       "    </tr>\n",
       "    <tr>\n",
       "      <th>3</th>\n",
       "      <td>699</td>\n",
       "      <td>39</td>\n",
       "      <td>1.0</td>\n",
       "      <td>0.000000</td>\n",
       "      <td>0</td>\n",
       "      <td>0</td>\n",
       "      <td>93826.632812</td>\n",
       "      <td>0</td>\n",
       "      <td>0</td>\n",
       "      <td>0</td>\n",
       "      <td>1</td>\n",
       "      <td>0</td>\n",
       "      <td>0</td>\n",
       "    </tr>\n",
       "    <tr>\n",
       "      <th>4</th>\n",
       "      <td>850</td>\n",
       "      <td>43</td>\n",
       "      <td>2.0</td>\n",
       "      <td>125510.820312</td>\n",
       "      <td>1</td>\n",
       "      <td>1</td>\n",
       "      <td>79084.101562</td>\n",
       "      <td>0</td>\n",
       "      <td>1</td>\n",
       "      <td>0</td>\n",
       "      <td>0</td>\n",
       "      <td>0</td>\n",
       "      <td>0</td>\n",
       "    </tr>\n",
       "  </tbody>\n",
       "</table>\n",
       "</div>"
      ],
      "text/plain": [
       "   credit_score  age  tenure        balance  has_crcard  is_active_member  \\\n",
       "0           619   42     2.0       0.000000           1                 1   \n",
       "1           608   41     1.0   83807.859375           0                 1   \n",
       "2           502   42     8.0  159660.796875           1                 0   \n",
       "3           699   39     1.0       0.000000           0                 0   \n",
       "4           850   43     2.0  125510.820312           1                 1   \n",
       "\n",
       "   estimated_salary  geography_Germany  geography_Spain  gender_Male  \\\n",
       "0     101348.882812                  0                0            0   \n",
       "1     112542.578125                  0                1            0   \n",
       "2     113931.570312                  0                0            0   \n",
       "3      93826.632812                  0                0            0   \n",
       "4      79084.101562                  0                1            0   \n",
       "\n",
       "   num_of_products_2  num_of_products_3  num_of_products_4  \n",
       "0                  0                  0                  0  \n",
       "1                  0                  0                  0  \n",
       "2                  0                  1                  0  \n",
       "3                  1                  0                  0  \n",
       "4                  0                  0                  0  "
      ]
     },
     "metadata": {},
     "output_type": "display_data"
    },
    {
     "data": {
      "text/html": [
       "<div>\n",
       "<style scoped>\n",
       "    .dataframe tbody tr th:only-of-type {\n",
       "        vertical-align: middle;\n",
       "    }\n",
       "\n",
       "    .dataframe tbody tr th {\n",
       "        vertical-align: top;\n",
       "    }\n",
       "\n",
       "    .dataframe thead th {\n",
       "        text-align: right;\n",
       "    }\n",
       "</style>\n",
       "<table border=\"1\" class=\"dataframe\">\n",
       "  <thead>\n",
       "    <tr style=\"text-align: right;\">\n",
       "      <th></th>\n",
       "      <th>is_active_member</th>\n",
       "      <th>age</th>\n",
       "      <th>credit_score</th>\n",
       "      <th>tenure</th>\n",
       "      <th>balance</th>\n",
       "      <th>geography_Germany</th>\n",
       "      <th>geography_Spain</th>\n",
       "      <th>gender_Male</th>\n",
       "      <th>num_of_products_2</th>\n",
       "      <th>num_of_products_3</th>\n",
       "      <th>num_of_products_4</th>\n",
       "    </tr>\n",
       "  </thead>\n",
       "  <tbody>\n",
       "    <tr>\n",
       "      <th>0</th>\n",
       "      <td>1</td>\n",
       "      <td>42</td>\n",
       "      <td>619</td>\n",
       "      <td>2.0</td>\n",
       "      <td>0.000000</td>\n",
       "      <td>0</td>\n",
       "      <td>0</td>\n",
       "      <td>0</td>\n",
       "      <td>0</td>\n",
       "      <td>0</td>\n",
       "      <td>0</td>\n",
       "    </tr>\n",
       "    <tr>\n",
       "      <th>1</th>\n",
       "      <td>1</td>\n",
       "      <td>41</td>\n",
       "      <td>608</td>\n",
       "      <td>1.0</td>\n",
       "      <td>83807.859375</td>\n",
       "      <td>0</td>\n",
       "      <td>1</td>\n",
       "      <td>0</td>\n",
       "      <td>0</td>\n",
       "      <td>0</td>\n",
       "      <td>0</td>\n",
       "    </tr>\n",
       "    <tr>\n",
       "      <th>2</th>\n",
       "      <td>0</td>\n",
       "      <td>42</td>\n",
       "      <td>502</td>\n",
       "      <td>8.0</td>\n",
       "      <td>159660.796875</td>\n",
       "      <td>0</td>\n",
       "      <td>0</td>\n",
       "      <td>0</td>\n",
       "      <td>0</td>\n",
       "      <td>1</td>\n",
       "      <td>0</td>\n",
       "    </tr>\n",
       "    <tr>\n",
       "      <th>3</th>\n",
       "      <td>0</td>\n",
       "      <td>39</td>\n",
       "      <td>699</td>\n",
       "      <td>1.0</td>\n",
       "      <td>0.000000</td>\n",
       "      <td>0</td>\n",
       "      <td>0</td>\n",
       "      <td>0</td>\n",
       "      <td>1</td>\n",
       "      <td>0</td>\n",
       "      <td>0</td>\n",
       "    </tr>\n",
       "    <tr>\n",
       "      <th>4</th>\n",
       "      <td>1</td>\n",
       "      <td>43</td>\n",
       "      <td>850</td>\n",
       "      <td>2.0</td>\n",
       "      <td>125510.820312</td>\n",
       "      <td>0</td>\n",
       "      <td>1</td>\n",
       "      <td>0</td>\n",
       "      <td>0</td>\n",
       "      <td>0</td>\n",
       "      <td>0</td>\n",
       "    </tr>\n",
       "  </tbody>\n",
       "</table>\n",
       "</div>"
      ],
      "text/plain": [
       "   is_active_member  age  credit_score  tenure        balance  \\\n",
       "0                 1   42           619     2.0       0.000000   \n",
       "1                 1   41           608     1.0   83807.859375   \n",
       "2                 0   42           502     8.0  159660.796875   \n",
       "3                 0   39           699     1.0       0.000000   \n",
       "4                 1   43           850     2.0  125510.820312   \n",
       "\n",
       "   geography_Germany  geography_Spain  gender_Male  num_of_products_2  \\\n",
       "0                  0                0            0                  0   \n",
       "1                  0                1            0                  0   \n",
       "2                  0                0            0                  0   \n",
       "3                  0                0            0                  1   \n",
       "4                  0                1            0                  0   \n",
       "\n",
       "   num_of_products_3  num_of_products_4  \n",
       "0                  0                  0  \n",
       "1                  0                  0  \n",
       "2                  1                  0  \n",
       "3                  0                  0  \n",
       "4                  0                  0  "
      ]
     },
     "metadata": {},
     "output_type": "display_data"
    }
   ],
   "source": [
    "features_all = pd.get_dummies(features_all, drop_first=True)\n",
    "features_value = pd.get_dummies(features_value, drop_first=True)\n",
    "display(features_all.head())\n",
    "display(features_value.head())"
   ]
  },
  {
   "cell_type": "markdown",
   "metadata": {},
   "source": [
    "Разделим обе таблицы на обучающую, валидационную и тестовую выборки в соотношении 3:1:1 в 2 шага:"
   ]
  },
  {
   "cell_type": "code",
   "execution_count": 31,
   "metadata": {},
   "outputs": [],
   "source": [
    "features_all_train_valid, features_all_test, target_train_valid, target_test  = train_test_split(features_all,\n",
    "                                                                                        target,\n",
    "                                                                                        test_size=.2,\n",
    "                                                                                        random_state=12345\n",
    "                                                                                        )"
   ]
  },
  {
   "cell_type": "code",
   "execution_count": 32,
   "metadata": {},
   "outputs": [],
   "source": [
    "features_all_train, features_all_valid, target_train, target_valid = train_test_split(features_all_train_valid,\n",
    "                                                                             target_train_valid,\n",
    "                                                                             test_size=.25,\n",
    "                                                                             random_state=12345\n",
    "                                                                             )"
   ]
  },
  {
   "cell_type": "code",
   "execution_count": 33,
   "metadata": {},
   "outputs": [
    {
     "name": "stdout",
     "output_type": "stream",
     "text": [
      "Размер обучающей выборки: 6000\n",
      "Размер выборки валидации: 2000\n",
      "Размер тестовой выборки: 2000\n"
     ]
    }
   ],
   "source": [
    "print('Размер обучающей выборки:', len(target_train))\n",
    "print('Размер выборки валидации:', len(target_valid))\n",
    "print('Размер тестовой выборки:', len(target_test))"
   ]
  },
  {
   "cell_type": "markdown",
   "metadata": {},
   "source": [
    "Разобъем теперь характеристики, которые имеют влияние исходя из анализа:"
   ]
  },
  {
   "cell_type": "code",
   "execution_count": 34,
   "metadata": {},
   "outputs": [],
   "source": [
    "features_value_train_valid, features_value_test = train_test_split(features_value,\n",
    "                                                               test_size=.2,\n",
    "                                                          random_state=12345\n",
    "                                                               )"
   ]
  },
  {
   "cell_type": "code",
   "execution_count": 35,
   "metadata": {},
   "outputs": [],
   "source": [
    "features_value_train, features_value_valid = train_test_split(features_value_train_valid,\n",
    "                                                               test_size=.25,\n",
    "                                                          random_state=12345\n",
    "                                                               )"
   ]
  },
  {
   "cell_type": "markdown",
   "metadata": {},
   "source": [
    "Пронормируем количественные данные в обеих таблицах:"
   ]
  },
  {
   "cell_type": "markdown",
   "metadata": {},
   "source": [
    "Выделим колонки с числовыми данными для нормировки:"
   ]
  },
  {
   "cell_type": "code",
   "execution_count": 36,
   "metadata": {},
   "outputs": [],
   "source": [
    "numeric_all = ['credit_score', 'age', 'tenure', 'balance', 'estimated_salary']\n",
    "numeric_value = ['age','tenure', 'balance', 'credit_score']"
   ]
  },
  {
   "cell_type": "code",
   "execution_count": 37,
   "metadata": {},
   "outputs": [
    {
     "data": {
      "text/html": [
       "<div>\n",
       "<style scoped>\n",
       "    .dataframe tbody tr th:only-of-type {\n",
       "        vertical-align: middle;\n",
       "    }\n",
       "\n",
       "    .dataframe tbody tr th {\n",
       "        vertical-align: top;\n",
       "    }\n",
       "\n",
       "    .dataframe thead th {\n",
       "        text-align: right;\n",
       "    }\n",
       "</style>\n",
       "<table border=\"1\" class=\"dataframe\">\n",
       "  <thead>\n",
       "    <tr style=\"text-align: right;\">\n",
       "      <th></th>\n",
       "      <th>credit_score</th>\n",
       "      <th>age</th>\n",
       "      <th>tenure</th>\n",
       "      <th>balance</th>\n",
       "      <th>has_crcard</th>\n",
       "      <th>is_active_member</th>\n",
       "      <th>estimated_salary</th>\n",
       "      <th>geography_Germany</th>\n",
       "      <th>geography_Spain</th>\n",
       "      <th>gender_Male</th>\n",
       "      <th>num_of_products_2</th>\n",
       "      <th>num_of_products_3</th>\n",
       "      <th>num_of_products_4</th>\n",
       "    </tr>\n",
       "  </thead>\n",
       "  <tbody>\n",
       "    <tr>\n",
       "      <th>2358</th>\n",
       "      <td>0.175393</td>\n",
       "      <td>0.399118</td>\n",
       "      <td>-1.454209</td>\n",
       "      <td>1.385698</td>\n",
       "      <td>0</td>\n",
       "      <td>1</td>\n",
       "      <td>-1.466761</td>\n",
       "      <td>0</td>\n",
       "      <td>0</td>\n",
       "      <td>1</td>\n",
       "      <td>0</td>\n",
       "      <td>0</td>\n",
       "      <td>0</td>\n",
       "    </tr>\n",
       "    <tr>\n",
       "      <th>8463</th>\n",
       "      <td>-1.299609</td>\n",
       "      <td>0.971741</td>\n",
       "      <td>-1.092511</td>\n",
       "      <td>-1.232442</td>\n",
       "      <td>1</td>\n",
       "      <td>0</td>\n",
       "      <td>0.254415</td>\n",
       "      <td>0</td>\n",
       "      <td>1</td>\n",
       "      <td>1</td>\n",
       "      <td>0</td>\n",
       "      <td>0</td>\n",
       "      <td>0</td>\n",
       "    </tr>\n",
       "    <tr>\n",
       "      <th>163</th>\n",
       "      <td>0.711757</td>\n",
       "      <td>-0.268942</td>\n",
       "      <td>-1.092511</td>\n",
       "      <td>-1.232442</td>\n",
       "      <td>1</td>\n",
       "      <td>1</td>\n",
       "      <td>0.122863</td>\n",
       "      <td>0</td>\n",
       "      <td>1</td>\n",
       "      <td>0</td>\n",
       "      <td>1</td>\n",
       "      <td>0</td>\n",
       "      <td>0</td>\n",
       "    </tr>\n",
       "    <tr>\n",
       "      <th>3074</th>\n",
       "      <td>-0.391916</td>\n",
       "      <td>0.494555</td>\n",
       "      <td>0.354284</td>\n",
       "      <td>0.672529</td>\n",
       "      <td>1</td>\n",
       "      <td>0</td>\n",
       "      <td>0.585847</td>\n",
       "      <td>1</td>\n",
       "      <td>0</td>\n",
       "      <td>0</td>\n",
       "      <td>0</td>\n",
       "      <td>0</td>\n",
       "      <td>0</td>\n",
       "    </tr>\n",
       "    <tr>\n",
       "      <th>5989</th>\n",
       "      <td>0.165078</td>\n",
       "      <td>1.353490</td>\n",
       "      <td>1.801078</td>\n",
       "      <td>0.536522</td>\n",
       "      <td>0</td>\n",
       "      <td>0</td>\n",
       "      <td>1.462457</td>\n",
       "      <td>0</td>\n",
       "      <td>0</td>\n",
       "      <td>0</td>\n",
       "      <td>0</td>\n",
       "      <td>0</td>\n",
       "      <td>0</td>\n",
       "    </tr>\n",
       "  </tbody>\n",
       "</table>\n",
       "</div>"
      ],
      "text/plain": [
       "      credit_score       age    tenure   balance  has_crcard  \\\n",
       "2358      0.175393  0.399118 -1.454209  1.385698           0   \n",
       "8463     -1.299609  0.971741 -1.092511 -1.232442           1   \n",
       "163       0.711757 -0.268942 -1.092511 -1.232442           1   \n",
       "3074     -0.391916  0.494555  0.354284  0.672529           1   \n",
       "5989      0.165078  1.353490  1.801078  0.536522           0   \n",
       "\n",
       "      is_active_member  estimated_salary  geography_Germany  geography_Spain  \\\n",
       "2358                 1         -1.466761                  0                0   \n",
       "8463                 0          0.254415                  0                1   \n",
       "163                  1          0.122863                  0                1   \n",
       "3074                 0          0.585847                  1                0   \n",
       "5989                 0          1.462457                  0                0   \n",
       "\n",
       "      gender_Male  num_of_products_2  num_of_products_3  num_of_products_4  \n",
       "2358            1                  0                  0                  0  \n",
       "8463            1                  0                  0                  0  \n",
       "163             0                  1                  0                  0  \n",
       "3074            0                  0                  0                  0  \n",
       "5989            0                  0                  0                  0  "
      ]
     },
     "metadata": {},
     "output_type": "display_data"
    },
    {
     "data": {
      "text/html": [
       "<div>\n",
       "<style scoped>\n",
       "    .dataframe tbody tr th:only-of-type {\n",
       "        vertical-align: middle;\n",
       "    }\n",
       "\n",
       "    .dataframe tbody tr th {\n",
       "        vertical-align: top;\n",
       "    }\n",
       "\n",
       "    .dataframe thead th {\n",
       "        text-align: right;\n",
       "    }\n",
       "</style>\n",
       "<table border=\"1\" class=\"dataframe\">\n",
       "  <thead>\n",
       "    <tr style=\"text-align: right;\">\n",
       "      <th></th>\n",
       "      <th>credit_score</th>\n",
       "      <th>age</th>\n",
       "      <th>tenure</th>\n",
       "      <th>balance</th>\n",
       "      <th>has_crcard</th>\n",
       "      <th>is_active_member</th>\n",
       "      <th>estimated_salary</th>\n",
       "      <th>geography_Germany</th>\n",
       "      <th>geography_Spain</th>\n",
       "      <th>gender_Male</th>\n",
       "      <th>num_of_products_2</th>\n",
       "      <th>num_of_products_3</th>\n",
       "      <th>num_of_products_4</th>\n",
       "    </tr>\n",
       "  </thead>\n",
       "  <tbody>\n",
       "    <tr>\n",
       "      <th>7867</th>\n",
       "      <td>-0.123733</td>\n",
       "      <td>0.685430</td>\n",
       "      <td>-0.730812</td>\n",
       "      <td>-1.232442</td>\n",
       "      <td>1</td>\n",
       "      <td>1</td>\n",
       "      <td>0.980212</td>\n",
       "      <td>0</td>\n",
       "      <td>1</td>\n",
       "      <td>0</td>\n",
       "      <td>0</td>\n",
       "      <td>0</td>\n",
       "      <td>0</td>\n",
       "    </tr>\n",
       "    <tr>\n",
       "      <th>1402</th>\n",
       "      <td>1.083086</td>\n",
       "      <td>-0.937002</td>\n",
       "      <td>1.077681</td>\n",
       "      <td>0.858518</td>\n",
       "      <td>1</td>\n",
       "      <td>0</td>\n",
       "      <td>-0.390486</td>\n",
       "      <td>0</td>\n",
       "      <td>0</td>\n",
       "      <td>1</td>\n",
       "      <td>0</td>\n",
       "      <td>0</td>\n",
       "      <td>0</td>\n",
       "    </tr>\n",
       "    <tr>\n",
       "      <th>8606</th>\n",
       "      <td>1.598822</td>\n",
       "      <td>0.303681</td>\n",
       "      <td>-0.007415</td>\n",
       "      <td>-1.232442</td>\n",
       "      <td>1</td>\n",
       "      <td>1</td>\n",
       "      <td>-0.435169</td>\n",
       "      <td>0</td>\n",
       "      <td>1</td>\n",
       "      <td>1</td>\n",
       "      <td>1</td>\n",
       "      <td>0</td>\n",
       "      <td>0</td>\n",
       "    </tr>\n",
       "    <tr>\n",
       "      <th>8885</th>\n",
       "      <td>0.165078</td>\n",
       "      <td>0.589993</td>\n",
       "      <td>-0.369113</td>\n",
       "      <td>0.412100</td>\n",
       "      <td>1</td>\n",
       "      <td>1</td>\n",
       "      <td>1.017079</td>\n",
       "      <td>0</td>\n",
       "      <td>1</td>\n",
       "      <td>1</td>\n",
       "      <td>1</td>\n",
       "      <td>0</td>\n",
       "      <td>0</td>\n",
       "    </tr>\n",
       "    <tr>\n",
       "      <th>6494</th>\n",
       "      <td>0.484834</td>\n",
       "      <td>-1.032439</td>\n",
       "      <td>0.715982</td>\n",
       "      <td>-1.232442</td>\n",
       "      <td>1</td>\n",
       "      <td>1</td>\n",
       "      <td>-1.343558</td>\n",
       "      <td>0</td>\n",
       "      <td>0</td>\n",
       "      <td>1</td>\n",
       "      <td>1</td>\n",
       "      <td>0</td>\n",
       "      <td>0</td>\n",
       "    </tr>\n",
       "  </tbody>\n",
       "</table>\n",
       "</div>"
      ],
      "text/plain": [
       "      credit_score       age    tenure   balance  has_crcard  \\\n",
       "7867     -0.123733  0.685430 -0.730812 -1.232442           1   \n",
       "1402      1.083086 -0.937002  1.077681  0.858518           1   \n",
       "8606      1.598822  0.303681 -0.007415 -1.232442           1   \n",
       "8885      0.165078  0.589993 -0.369113  0.412100           1   \n",
       "6494      0.484834 -1.032439  0.715982 -1.232442           1   \n",
       "\n",
       "      is_active_member  estimated_salary  geography_Germany  geography_Spain  \\\n",
       "7867                 1          0.980212                  0                1   \n",
       "1402                 0         -0.390486                  0                0   \n",
       "8606                 1         -0.435169                  0                1   \n",
       "8885                 1          1.017079                  0                1   \n",
       "6494                 1         -1.343558                  0                0   \n",
       "\n",
       "      gender_Male  num_of_products_2  num_of_products_3  num_of_products_4  \n",
       "7867            0                  0                  0                  0  \n",
       "1402            1                  0                  0                  0  \n",
       "8606            1                  1                  0                  0  \n",
       "8885            1                  1                  0                  0  \n",
       "6494            1                  1                  0                  0  "
      ]
     },
     "metadata": {},
     "output_type": "display_data"
    }
   ],
   "source": [
    "scaler = StandardScaler()\n",
    "scaler.fit(features_all_train[numeric_all])\n",
    "features_all_train[numeric_all] = scaler.transform(features_all_train[numeric_all])\n",
    "features_all_valid[numeric_all] = scaler.transform(features_all_valid[numeric_all])\n",
    "features_all_test[numeric_all] = scaler.transform(features_all_test[numeric_all])\n",
    "display(features_all_valid.head())\n",
    "display(features_all_test.head())"
   ]
  },
  {
   "cell_type": "code",
   "execution_count": 38,
   "metadata": {},
   "outputs": [
    {
     "data": {
      "text/html": [
       "<div>\n",
       "<style scoped>\n",
       "    .dataframe tbody tr th:only-of-type {\n",
       "        vertical-align: middle;\n",
       "    }\n",
       "\n",
       "    .dataframe tbody tr th {\n",
       "        vertical-align: top;\n",
       "    }\n",
       "\n",
       "    .dataframe thead th {\n",
       "        text-align: right;\n",
       "    }\n",
       "</style>\n",
       "<table border=\"1\" class=\"dataframe\">\n",
       "  <thead>\n",
       "    <tr style=\"text-align: right;\">\n",
       "      <th></th>\n",
       "      <th>is_active_member</th>\n",
       "      <th>age</th>\n",
       "      <th>credit_score</th>\n",
       "      <th>tenure</th>\n",
       "      <th>balance</th>\n",
       "      <th>geography_Germany</th>\n",
       "      <th>geography_Spain</th>\n",
       "      <th>gender_Male</th>\n",
       "      <th>num_of_products_2</th>\n",
       "      <th>num_of_products_3</th>\n",
       "      <th>num_of_products_4</th>\n",
       "    </tr>\n",
       "  </thead>\n",
       "  <tbody>\n",
       "    <tr>\n",
       "      <th>2358</th>\n",
       "      <td>1</td>\n",
       "      <td>0.399118</td>\n",
       "      <td>0.175393</td>\n",
       "      <td>-1.454209</td>\n",
       "      <td>1.385698</td>\n",
       "      <td>0</td>\n",
       "      <td>0</td>\n",
       "      <td>1</td>\n",
       "      <td>0</td>\n",
       "      <td>0</td>\n",
       "      <td>0</td>\n",
       "    </tr>\n",
       "    <tr>\n",
       "      <th>8463</th>\n",
       "      <td>0</td>\n",
       "      <td>0.971741</td>\n",
       "      <td>-1.299609</td>\n",
       "      <td>-1.092511</td>\n",
       "      <td>-1.232442</td>\n",
       "      <td>0</td>\n",
       "      <td>1</td>\n",
       "      <td>1</td>\n",
       "      <td>0</td>\n",
       "      <td>0</td>\n",
       "      <td>0</td>\n",
       "    </tr>\n",
       "    <tr>\n",
       "      <th>163</th>\n",
       "      <td>1</td>\n",
       "      <td>-0.268942</td>\n",
       "      <td>0.711757</td>\n",
       "      <td>-1.092511</td>\n",
       "      <td>-1.232442</td>\n",
       "      <td>0</td>\n",
       "      <td>1</td>\n",
       "      <td>0</td>\n",
       "      <td>1</td>\n",
       "      <td>0</td>\n",
       "      <td>0</td>\n",
       "    </tr>\n",
       "    <tr>\n",
       "      <th>3074</th>\n",
       "      <td>0</td>\n",
       "      <td>0.494555</td>\n",
       "      <td>-0.391916</td>\n",
       "      <td>0.354284</td>\n",
       "      <td>0.672529</td>\n",
       "      <td>1</td>\n",
       "      <td>0</td>\n",
       "      <td>0</td>\n",
       "      <td>0</td>\n",
       "      <td>0</td>\n",
       "      <td>0</td>\n",
       "    </tr>\n",
       "    <tr>\n",
       "      <th>5989</th>\n",
       "      <td>0</td>\n",
       "      <td>1.353490</td>\n",
       "      <td>0.165078</td>\n",
       "      <td>1.801078</td>\n",
       "      <td>0.536522</td>\n",
       "      <td>0</td>\n",
       "      <td>0</td>\n",
       "      <td>0</td>\n",
       "      <td>0</td>\n",
       "      <td>0</td>\n",
       "      <td>0</td>\n",
       "    </tr>\n",
       "  </tbody>\n",
       "</table>\n",
       "</div>"
      ],
      "text/plain": [
       "      is_active_member       age  credit_score    tenure   balance  \\\n",
       "2358                 1  0.399118      0.175393 -1.454209  1.385698   \n",
       "8463                 0  0.971741     -1.299609 -1.092511 -1.232442   \n",
       "163                  1 -0.268942      0.711757 -1.092511 -1.232442   \n",
       "3074                 0  0.494555     -0.391916  0.354284  0.672529   \n",
       "5989                 0  1.353490      0.165078  1.801078  0.536522   \n",
       "\n",
       "      geography_Germany  geography_Spain  gender_Male  num_of_products_2  \\\n",
       "2358                  0                0            1                  0   \n",
       "8463                  0                1            1                  0   \n",
       "163                   0                1            0                  1   \n",
       "3074                  1                0            0                  0   \n",
       "5989                  0                0            0                  0   \n",
       "\n",
       "      num_of_products_3  num_of_products_4  \n",
       "2358                  0                  0  \n",
       "8463                  0                  0  \n",
       "163                   0                  0  \n",
       "3074                  0                  0  \n",
       "5989                  0                  0  "
      ]
     },
     "metadata": {},
     "output_type": "display_data"
    },
    {
     "data": {
      "text/html": [
       "<div>\n",
       "<style scoped>\n",
       "    .dataframe tbody tr th:only-of-type {\n",
       "        vertical-align: middle;\n",
       "    }\n",
       "\n",
       "    .dataframe tbody tr th {\n",
       "        vertical-align: top;\n",
       "    }\n",
       "\n",
       "    .dataframe thead th {\n",
       "        text-align: right;\n",
       "    }\n",
       "</style>\n",
       "<table border=\"1\" class=\"dataframe\">\n",
       "  <thead>\n",
       "    <tr style=\"text-align: right;\">\n",
       "      <th></th>\n",
       "      <th>is_active_member</th>\n",
       "      <th>age</th>\n",
       "      <th>credit_score</th>\n",
       "      <th>tenure</th>\n",
       "      <th>balance</th>\n",
       "      <th>geography_Germany</th>\n",
       "      <th>geography_Spain</th>\n",
       "      <th>gender_Male</th>\n",
       "      <th>num_of_products_2</th>\n",
       "      <th>num_of_products_3</th>\n",
       "      <th>num_of_products_4</th>\n",
       "    </tr>\n",
       "  </thead>\n",
       "  <tbody>\n",
       "    <tr>\n",
       "      <th>7867</th>\n",
       "      <td>1</td>\n",
       "      <td>0.685430</td>\n",
       "      <td>-0.123733</td>\n",
       "      <td>-0.730812</td>\n",
       "      <td>-1.232442</td>\n",
       "      <td>0</td>\n",
       "      <td>1</td>\n",
       "      <td>0</td>\n",
       "      <td>0</td>\n",
       "      <td>0</td>\n",
       "      <td>0</td>\n",
       "    </tr>\n",
       "    <tr>\n",
       "      <th>1402</th>\n",
       "      <td>0</td>\n",
       "      <td>-0.937002</td>\n",
       "      <td>1.083086</td>\n",
       "      <td>1.077681</td>\n",
       "      <td>0.858518</td>\n",
       "      <td>0</td>\n",
       "      <td>0</td>\n",
       "      <td>1</td>\n",
       "      <td>0</td>\n",
       "      <td>0</td>\n",
       "      <td>0</td>\n",
       "    </tr>\n",
       "    <tr>\n",
       "      <th>8606</th>\n",
       "      <td>1</td>\n",
       "      <td>0.303681</td>\n",
       "      <td>1.598822</td>\n",
       "      <td>-0.007415</td>\n",
       "      <td>-1.232442</td>\n",
       "      <td>0</td>\n",
       "      <td>1</td>\n",
       "      <td>1</td>\n",
       "      <td>1</td>\n",
       "      <td>0</td>\n",
       "      <td>0</td>\n",
       "    </tr>\n",
       "    <tr>\n",
       "      <th>8885</th>\n",
       "      <td>1</td>\n",
       "      <td>0.589993</td>\n",
       "      <td>0.165078</td>\n",
       "      <td>-0.369113</td>\n",
       "      <td>0.412100</td>\n",
       "      <td>0</td>\n",
       "      <td>1</td>\n",
       "      <td>1</td>\n",
       "      <td>1</td>\n",
       "      <td>0</td>\n",
       "      <td>0</td>\n",
       "    </tr>\n",
       "    <tr>\n",
       "      <th>6494</th>\n",
       "      <td>1</td>\n",
       "      <td>-1.032439</td>\n",
       "      <td>0.484834</td>\n",
       "      <td>0.715982</td>\n",
       "      <td>-1.232442</td>\n",
       "      <td>0</td>\n",
       "      <td>0</td>\n",
       "      <td>1</td>\n",
       "      <td>1</td>\n",
       "      <td>0</td>\n",
       "      <td>0</td>\n",
       "    </tr>\n",
       "  </tbody>\n",
       "</table>\n",
       "</div>"
      ],
      "text/plain": [
       "      is_active_member       age  credit_score    tenure   balance  \\\n",
       "7867                 1  0.685430     -0.123733 -0.730812 -1.232442   \n",
       "1402                 0 -0.937002      1.083086  1.077681  0.858518   \n",
       "8606                 1  0.303681      1.598822 -0.007415 -1.232442   \n",
       "8885                 1  0.589993      0.165078 -0.369113  0.412100   \n",
       "6494                 1 -1.032439      0.484834  0.715982 -1.232442   \n",
       "\n",
       "      geography_Germany  geography_Spain  gender_Male  num_of_products_2  \\\n",
       "7867                  0                1            0                  0   \n",
       "1402                  0                0            1                  0   \n",
       "8606                  0                1            1                  1   \n",
       "8885                  0                1            1                  1   \n",
       "6494                  0                0            1                  1   \n",
       "\n",
       "      num_of_products_3  num_of_products_4  \n",
       "7867                  0                  0  \n",
       "1402                  0                  0  \n",
       "8606                  0                  0  \n",
       "8885                  0                  0  \n",
       "6494                  0                  0  "
      ]
     },
     "metadata": {},
     "output_type": "display_data"
    }
   ],
   "source": [
    "scaler.fit(features_value_train[numeric_value])\n",
    "features_value_train[numeric_value] = scaler.transform(features_value_train[numeric_value])\n",
    "features_value_valid[numeric_value] = scaler.transform(features_value_valid[numeric_value])\n",
    "features_value_test[numeric_value] = scaler.transform(features_value_test[numeric_value])\n",
    "display(features_value_valid.head())\n",
    "display(features_value_test.head())"
   ]
  },
  {
   "cell_type": "code",
   "execution_count": 39,
   "metadata": {},
   "outputs": [
    {
     "data": {
      "text/html": [
       "<div>\n",
       "<style scoped>\n",
       "    .dataframe tbody tr th:only-of-type {\n",
       "        vertical-align: middle;\n",
       "    }\n",
       "\n",
       "    .dataframe tbody tr th {\n",
       "        vertical-align: top;\n",
       "    }\n",
       "\n",
       "    .dataframe thead th {\n",
       "        text-align: right;\n",
       "    }\n",
       "</style>\n",
       "<table border=\"1\" class=\"dataframe\">\n",
       "  <thead>\n",
       "    <tr style=\"text-align: right;\">\n",
       "      <th></th>\n",
       "      <th>is_active_member</th>\n",
       "      <th>age</th>\n",
       "      <th>credit_score</th>\n",
       "      <th>tenure</th>\n",
       "      <th>balance</th>\n",
       "      <th>geography_Germany</th>\n",
       "      <th>geography_Spain</th>\n",
       "      <th>gender_Male</th>\n",
       "      <th>num_of_products_2</th>\n",
       "      <th>num_of_products_3</th>\n",
       "      <th>num_of_products_4</th>\n",
       "    </tr>\n",
       "  </thead>\n",
       "  <tbody>\n",
       "    <tr>\n",
       "      <th>492</th>\n",
       "      <td>1</td>\n",
       "      <td>-0.078068</td>\n",
       "      <td>-0.134048</td>\n",
       "      <td>-0.369113</td>\n",
       "      <td>0.076163</td>\n",
       "      <td>0</td>\n",
       "      <td>0</td>\n",
       "      <td>0</td>\n",
       "      <td>1</td>\n",
       "      <td>0</td>\n",
       "      <td>0</td>\n",
       "    </tr>\n",
       "    <tr>\n",
       "      <th>6655</th>\n",
       "      <td>1</td>\n",
       "      <td>0.494555</td>\n",
       "      <td>-1.010798</td>\n",
       "      <td>-0.007415</td>\n",
       "      <td>0.136391</td>\n",
       "      <td>0</td>\n",
       "      <td>0</td>\n",
       "      <td>1</td>\n",
       "      <td>0</td>\n",
       "      <td>0</td>\n",
       "      <td>0</td>\n",
       "    </tr>\n",
       "    <tr>\n",
       "      <th>4287</th>\n",
       "      <td>1</td>\n",
       "      <td>1.353490</td>\n",
       "      <td>0.639554</td>\n",
       "      <td>-1.454209</td>\n",
       "      <td>0.358435</td>\n",
       "      <td>1</td>\n",
       "      <td>0</td>\n",
       "      <td>1</td>\n",
       "      <td>0</td>\n",
       "      <td>0</td>\n",
       "      <td>0</td>\n",
       "    </tr>\n",
       "    <tr>\n",
       "      <th>42</th>\n",
       "      <td>1</td>\n",
       "      <td>2.116987</td>\n",
       "      <td>-0.990168</td>\n",
       "      <td>-1.092511</td>\n",
       "      <td>0.651725</td>\n",
       "      <td>0</td>\n",
       "      <td>0</td>\n",
       "      <td>0</td>\n",
       "      <td>0</td>\n",
       "      <td>0</td>\n",
       "      <td>0</td>\n",
       "    </tr>\n",
       "    <tr>\n",
       "      <th>8178</th>\n",
       "      <td>1</td>\n",
       "      <td>0.685430</td>\n",
       "      <td>0.567351</td>\n",
       "      <td>0.715982</td>\n",
       "      <td>0.813110</td>\n",
       "      <td>0</td>\n",
       "      <td>0</td>\n",
       "      <td>0</td>\n",
       "      <td>1</td>\n",
       "      <td>0</td>\n",
       "      <td>0</td>\n",
       "    </tr>\n",
       "  </tbody>\n",
       "</table>\n",
       "</div>"
      ],
      "text/plain": [
       "      is_active_member       age  credit_score    tenure   balance  \\\n",
       "492                  1 -0.078068     -0.134048 -0.369113  0.076163   \n",
       "6655                 1  0.494555     -1.010798 -0.007415  0.136391   \n",
       "4287                 1  1.353490      0.639554 -1.454209  0.358435   \n",
       "42                   1  2.116987     -0.990168 -1.092511  0.651725   \n",
       "8178                 1  0.685430      0.567351  0.715982  0.813110   \n",
       "\n",
       "      geography_Germany  geography_Spain  gender_Male  num_of_products_2  \\\n",
       "492                   0                0            0                  1   \n",
       "6655                  0                0            1                  0   \n",
       "4287                  1                0            1                  0   \n",
       "42                    0                0            0                  0   \n",
       "8178                  0                0            0                  1   \n",
       "\n",
       "      num_of_products_3  num_of_products_4  \n",
       "492                   0                  0  \n",
       "6655                  0                  0  \n",
       "4287                  0                  0  \n",
       "42                    0                  0  \n",
       "8178                  0                  0  "
      ]
     },
     "execution_count": 39,
     "metadata": {},
     "output_type": "execute_result"
    }
   ],
   "source": [
    "features_value_train.head()"
   ]
  },
  {
   "cell_type": "code",
   "execution_count": 40,
   "metadata": {
    "scrolled": true
   },
   "outputs": [
    {
     "data": {
      "text/plain": [
       "492     0\n",
       "6655    0\n",
       "4287    1\n",
       "42      0\n",
       "8178    0\n",
       "Name: exited, dtype: int8"
      ]
     },
     "execution_count": 40,
     "metadata": {},
     "output_type": "execute_result"
    }
   ],
   "source": [
    "target_train.head()"
   ]
  },
  {
   "cell_type": "code",
   "execution_count": 41,
   "metadata": {},
   "outputs": [
    {
     "data": {
      "text/html": [
       "<div>\n",
       "<style scoped>\n",
       "    .dataframe tbody tr th:only-of-type {\n",
       "        vertical-align: middle;\n",
       "    }\n",
       "\n",
       "    .dataframe tbody tr th {\n",
       "        vertical-align: top;\n",
       "    }\n",
       "\n",
       "    .dataframe thead th {\n",
       "        text-align: right;\n",
       "    }\n",
       "</style>\n",
       "<table border=\"1\" class=\"dataframe\">\n",
       "  <thead>\n",
       "    <tr style=\"text-align: right;\">\n",
       "      <th></th>\n",
       "      <th>credit_score</th>\n",
       "      <th>age</th>\n",
       "      <th>tenure</th>\n",
       "      <th>balance</th>\n",
       "      <th>has_crcard</th>\n",
       "      <th>is_active_member</th>\n",
       "      <th>estimated_salary</th>\n",
       "      <th>geography_Germany</th>\n",
       "      <th>geography_Spain</th>\n",
       "      <th>gender_Male</th>\n",
       "      <th>num_of_products_2</th>\n",
       "      <th>num_of_products_3</th>\n",
       "      <th>num_of_products_4</th>\n",
       "    </tr>\n",
       "  </thead>\n",
       "  <tbody>\n",
       "    <tr>\n",
       "      <th>492</th>\n",
       "      <td>-0.134048</td>\n",
       "      <td>-0.078068</td>\n",
       "      <td>-0.369113</td>\n",
       "      <td>0.076163</td>\n",
       "      <td>0</td>\n",
       "      <td>1</td>\n",
       "      <td>0.331571</td>\n",
       "      <td>0</td>\n",
       "      <td>0</td>\n",
       "      <td>0</td>\n",
       "      <td>1</td>\n",
       "      <td>0</td>\n",
       "      <td>0</td>\n",
       "    </tr>\n",
       "    <tr>\n",
       "      <th>6655</th>\n",
       "      <td>-1.010798</td>\n",
       "      <td>0.494555</td>\n",
       "      <td>-0.007415</td>\n",
       "      <td>0.136391</td>\n",
       "      <td>1</td>\n",
       "      <td>1</td>\n",
       "      <td>-0.727858</td>\n",
       "      <td>0</td>\n",
       "      <td>0</td>\n",
       "      <td>1</td>\n",
       "      <td>0</td>\n",
       "      <td>0</td>\n",
       "      <td>0</td>\n",
       "    </tr>\n",
       "    <tr>\n",
       "      <th>4287</th>\n",
       "      <td>0.639554</td>\n",
       "      <td>1.353490</td>\n",
       "      <td>-1.454209</td>\n",
       "      <td>0.358435</td>\n",
       "      <td>1</td>\n",
       "      <td>1</td>\n",
       "      <td>-0.477006</td>\n",
       "      <td>1</td>\n",
       "      <td>0</td>\n",
       "      <td>1</td>\n",
       "      <td>0</td>\n",
       "      <td>0</td>\n",
       "      <td>0</td>\n",
       "    </tr>\n",
       "    <tr>\n",
       "      <th>42</th>\n",
       "      <td>-0.990168</td>\n",
       "      <td>2.116987</td>\n",
       "      <td>-1.092511</td>\n",
       "      <td>0.651725</td>\n",
       "      <td>1</td>\n",
       "      <td>1</td>\n",
       "      <td>-0.100232</td>\n",
       "      <td>0</td>\n",
       "      <td>0</td>\n",
       "      <td>0</td>\n",
       "      <td>0</td>\n",
       "      <td>0</td>\n",
       "      <td>0</td>\n",
       "    </tr>\n",
       "    <tr>\n",
       "      <th>8178</th>\n",
       "      <td>0.567351</td>\n",
       "      <td>0.685430</td>\n",
       "      <td>0.715982</td>\n",
       "      <td>0.813110</td>\n",
       "      <td>1</td>\n",
       "      <td>1</td>\n",
       "      <td>0.801921</td>\n",
       "      <td>0</td>\n",
       "      <td>0</td>\n",
       "      <td>0</td>\n",
       "      <td>1</td>\n",
       "      <td>0</td>\n",
       "      <td>0</td>\n",
       "    </tr>\n",
       "  </tbody>\n",
       "</table>\n",
       "</div>"
      ],
      "text/plain": [
       "      credit_score       age    tenure   balance  has_crcard  \\\n",
       "492      -0.134048 -0.078068 -0.369113  0.076163           0   \n",
       "6655     -1.010798  0.494555 -0.007415  0.136391           1   \n",
       "4287      0.639554  1.353490 -1.454209  0.358435           1   \n",
       "42       -0.990168  2.116987 -1.092511  0.651725           1   \n",
       "8178      0.567351  0.685430  0.715982  0.813110           1   \n",
       "\n",
       "      is_active_member  estimated_salary  geography_Germany  geography_Spain  \\\n",
       "492                  1          0.331571                  0                0   \n",
       "6655                 1         -0.727858                  0                0   \n",
       "4287                 1         -0.477006                  1                0   \n",
       "42                   1         -0.100232                  0                0   \n",
       "8178                 1          0.801921                  0                0   \n",
       "\n",
       "      gender_Male  num_of_products_2  num_of_products_3  num_of_products_4  \n",
       "492             0                  1                  0                  0  \n",
       "6655            1                  0                  0                  0  \n",
       "4287            1                  0                  0                  0  \n",
       "42              0                  0                  0                  0  \n",
       "8178            0                  1                  0                  0  "
      ]
     },
     "execution_count": 41,
     "metadata": {},
     "output_type": "execute_result"
    }
   ],
   "source": [
    "features_all_train.head()"
   ]
  },
  {
   "cell_type": "markdown",
   "metadata": {},
   "source": [
    "Исходя из того, что мы получили выборки необходимых размеров и индексы совпадают, можно сделать вывод, что разбиение проведено корректно."
   ]
  },
  {
   "cell_type": "markdown",
   "metadata": {},
   "source": [
    "#### Вывод\n",
    "\n",
    "Были получены два набора обучающих, валидационных выборок, а также два набора тестовых."
   ]
  },
  {
   "cell_type": "markdown",
   "metadata": {},
   "source": [
    "### Подбор модели"
   ]
  },
  {
   "cell_type": "markdown",
   "metadata": {},
   "source": [
    "#### Логистическая регрессия"
   ]
  },
  {
   "cell_type": "markdown",
   "metadata": {},
   "source": [
    "Для всех столбцов:"
   ]
  },
  {
   "cell_type": "code",
   "execution_count": 42,
   "metadata": {},
   "outputs": [
    {
     "name": "stdout",
     "output_type": "stream",
     "text": [
      "f1-мера: 0.494195688225539\n",
      "AUC-ROC: 0.8344081167473881\n"
     ]
    }
   ],
   "source": [
    "model_linear = LogisticRegression(solver='liblinear')\n",
    "model_linear.fit(features_all_train, target_train)\n",
    "prediction_valid = model_linear.predict(features_all_valid)\n",
    "probabilities = model_linear.predict_proba(features_all_valid)\n",
    "probabilities_one = probabilities[:, 1]\n",
    "print(f'f1-мера: {f1_score(target_valid, prediction_valid)}')\n",
    "print(f'AUC-ROC: {roc_auc_score(target_valid, probabilities_one)}')"
   ]
  },
  {
   "cell_type": "markdown",
   "metadata": {},
   "source": [
    "Для влияющих столбцов:"
   ]
  },
  {
   "cell_type": "code",
   "execution_count": 43,
   "metadata": {},
   "outputs": [
    {
     "name": "stdout",
     "output_type": "stream",
     "text": [
      "f1-мера: 0.4916943521594685\n",
      "AUC-ROC: 0.8344923615405034\n"
     ]
    }
   ],
   "source": [
    "model_linear = LogisticRegression(solver='liblinear')\n",
    "model_linear.fit(features_value_train, target_train)\n",
    "prediction_valid = model_linear.predict(features_value_valid)\n",
    "probabilities = model_linear.predict_proba(features_value_valid)\n",
    "probabilities_one = probabilities[:, 1]\n",
    "print(f'f1-мера: {f1_score(target_valid, prediction_valid)}')\n",
    "print(f'AUC-ROC: {roc_auc_score(target_valid, probabilities_one)}')"
   ]
  },
  {
   "cell_type": "markdown",
   "metadata": {},
   "source": [
    "##### Вывод\n",
    "\n",
    "* Показатель f1 - меньшье целевого в полученных моделях логистической регресси без учёта дисбаланса классов;\n",
    "* модель без учёта столбцов, показала идентичный результат."
   ]
  },
  {
   "cell_type": "markdown",
   "metadata": {},
   "source": [
    "#### Модель случайного леса"
   ]
  },
  {
   "cell_type": "markdown",
   "metadata": {},
   "source": [
    "Напишем функцию, которая будет выдавать нам нашу модель, а также сообщать полученные показатели `f1` и `AUC-ROC`: "
   ]
  },
  {
   "cell_type": "code",
   "execution_count": 44,
   "metadata": {},
   "outputs": [],
   "source": [
    "def model_search_forest(features_train,\n",
    "                         target_train,\n",
    "                         features_valid,\n",
    "                         target_valid,\n",
    "                                 depths,\n",
    "                                 ests,\n",
    "                       class_weight=None,\n",
    "                       criterion='gini'):\n",
    " \n",
    "    best_f1_forest = 0\n",
    "    best_depth = 0\n",
    "    best_est = 0\n",
    "    best_forest_model = None\n",
    "    \n",
    "    for est in ests:\n",
    "        for depth in depths:\n",
    "            model_forest = RandomForestClassifier(random_state=12345,\n",
    "                                                  n_estimators=est,\n",
    "                                                  max_depth=depth,\n",
    "                                                  criterion=criterion,\n",
    "                                                 class_weight=class_weight)\n",
    "            \n",
    "            model_forest.fit(features_train, target_train)\n",
    "            prediction_valid = model_forest.predict(features_valid)\n",
    "            f1 = f1_score(target_valid, prediction_valid)\n",
    "            \n",
    "            if f1 > best_f1_forest:\n",
    "                \n",
    "                best_f1_forest = f1\n",
    "                best_depth = depth\n",
    "                best_est = est\n",
    "                best_forest_model = model_forest\n",
    "                predicted_proba_one = model_forest.predict_proba(features_valid)[:, 1]\n",
    "                roc_auc = roc_auc_score(target_valid, predicted_proba_one)\n",
    "    \n",
    "    print(f' Лучший показатель f1 {best_f1_forest}, AUC-ROC при этом {roc_auc}')\n",
    "    print(f' Глубина дерева {best_depth}, количество деревьев {best_est}')\n",
    "    return best_forest_model   \n",
    "        \n",
    "    "
   ]
  },
  {
   "cell_type": "markdown",
   "metadata": {},
   "source": [
    "Найдём лучшую модель, используя все столбцы:"
   ]
  },
  {
   "cell_type": "code",
   "execution_count": 45,
   "metadata": {},
   "outputs": [
    {
     "name": "stdout",
     "output_type": "stream",
     "text": [
      " Лучший показатель f1 0.5769230769230769, AUC-ROC при этом 0.8507110737396265\n",
      " Глубина дерева 14, количество деревьев 70\n"
     ]
    }
   ],
   "source": [
    "ests = [10, 20, 30, 40, 50, 60, 70, 80, 90, 100]\n",
    "depths = list(range(1, 15))\n",
    "\n",
    "model_forest = model_search_forest(features_all_train,\n",
    "                                  target_train,\n",
    "                                  features_all_valid,\n",
    "                                  target_valid,\n",
    "                                  depths,\n",
    "                                  ests)"
   ]
  },
  {
   "cell_type": "markdown",
   "metadata": {},
   "source": [
    "Найдём лучшую модель, используя влияющие столбцы:"
   ]
  },
  {
   "cell_type": "code",
   "execution_count": 46,
   "metadata": {},
   "outputs": [
    {
     "name": "stdout",
     "output_type": "stream",
     "text": [
      " Лучший показатель f1 0.5794392523364487, AUC-ROC при этом 0.8488386139983055\n",
      " Глубина дерева 14, количество деревьев 20\n"
     ]
    }
   ],
   "source": [
    "model_forest = model_search_forest(features_value_train,\n",
    "                                  target_train,\n",
    "                                  features_value_valid,\n",
    "                                  target_valid,\n",
    "                                  depths,\n",
    "                                  ests)"
   ]
  },
  {
   "cell_type": "markdown",
   "metadata": {},
   "source": [
    "И снова, используя только часть столбцов, удалось увеличить показатель f1."
   ]
  },
  {
   "cell_type": "markdown",
   "metadata": {},
   "source": [
    "#### Вывод"
   ]
  },
  {
   "cell_type": "markdown",
   "metadata": {},
   "source": [
    "* Без учёта дисбалансов, не удалось получить заданное качество модели;\n",
    "* учёт влияющих столбцов даёт небольшое улучшение качества модели;\n",
    "* в дальнейшем будем использовать выборки с учётом влияния столбцов.\n"
   ]
  },
  {
   "cell_type": "markdown",
   "metadata": {},
   "source": [
    "## Борьба с дисбалансом"
   ]
  },
  {
   "cell_type": "markdown",
   "metadata": {},
   "source": [
    "В этой главе мы на основе модели `RandomForest` найдем наилучший метод борьбы с дисбалансом среди:\n",
    "* Баланс классов параметром `class_weight`;\n",
    "* увеличение выборки;\n",
    "* уменьшение выборки.\n",
    "\n",
    "Будем использовать датасет с влияющими характеристиками.\n",
    "Затем осуществим поиск наилучшей модели."
   ]
  },
  {
   "cell_type": "markdown",
   "metadata": {},
   "source": [
    "### Class_weight"
   ]
  },
  {
   "cell_type": "markdown",
   "metadata": {},
   "source": [
    "Будем использовать модель `RandomForest`, чтобы исследовать влияние различных видов борьбы с дисбалансом."
   ]
  },
  {
   "cell_type": "markdown",
   "metadata": {},
   "source": [
    "Воспользуемся уже написанной ранее функцией, чтобы найти наилучшую модель с параметром `class_weight='balanced'`:"
   ]
  },
  {
   "cell_type": "code",
   "execution_count": 47,
   "metadata": {},
   "outputs": [
    {
     "name": "stdout",
     "output_type": "stream",
     "text": [
      " Лучший показатель f1 0.6066584463625153, AUC-ROC при этом 0.8520200470817128\n",
      " Глубина дерева 11, количество деревьев 40\n"
     ]
    }
   ],
   "source": [
    "model_forest_weight = model_search_forest(features_value_train,\n",
    "                                  target_train,\n",
    "                                  features_value_valid,\n",
    "                                  target_valid,\n",
    "                                  depths,\n",
    "                                  ests,\n",
    "                                  class_weight='balanced')"
   ]
  },
  {
   "cell_type": "markdown",
   "metadata": {},
   "source": [
    "#### Вывод\n",
    "\n",
    "Использование сбалансированных классов путём установки параметра `class_weight=\"balanced\"` повысило показатель f1 - меры до 0.607 на выборке валидации. Стоит отметить, что количество деревьев равное 40-ти довольно мало, поэтому, вероятно, полученная модель будет обладать высокой дисперсией в предсказаниях, что даст непредсказуемый результат (скорее всего хуже) на тестовой выборке и новых данных."
   ]
  },
  {
   "cell_type": "markdown",
   "metadata": {},
   "source": [
    "### Увеличение выборки"
   ]
  },
  {
   "cell_type": "markdown",
   "metadata": {},
   "source": [
    "Теперь увеличим количество `1` в выборке:"
   ]
  },
  {
   "cell_type": "code",
   "execution_count": 48,
   "metadata": {},
   "outputs": [],
   "source": [
    "def upsample(features, target, repeat):\n",
    "    features_zeros = features[target == 0]\n",
    "    features_ones = features[target == 1]\n",
    "    target_zeros = target[target == 0]\n",
    "    target_ones = target[target == 1]\n",
    "\n",
    "    features_upsampled = pd.concat([features_zeros] + [features_ones] * repeat)\n",
    "    target_upsampled = pd.concat([target_zeros] + [target_ones] * repeat)\n",
    "    \n",
    "    features_upsampled, target_upsampled = shuffle(\n",
    "        features_upsampled, target_upsampled, random_state=12345)\n",
    "    \n",
    "    return features_upsampled, target_upsampled"
   ]
  },
  {
   "cell_type": "code",
   "execution_count": 49,
   "metadata": {},
   "outputs": [],
   "source": [
    "features_value_upsampled, target_upsampled = upsample(features_value_train,\n",
    "                                                     target_train,\n",
    "                                                     4)"
   ]
  },
  {
   "cell_type": "code",
   "execution_count": 50,
   "metadata": {},
   "outputs": [
    {
     "data": {
      "text/plain": [
       "1    4876\n",
       "0    4781\n",
       "Name: exited, dtype: int64"
      ]
     },
     "execution_count": 50,
     "metadata": {},
     "output_type": "execute_result"
    }
   ],
   "source": [
    "target_upsampled.value_counts()"
   ]
  },
  {
   "cell_type": "markdown",
   "metadata": {},
   "source": [
    "Теперь у нас сбалансированная обучающая выборка, обучим лес с помощью этой выборки:"
   ]
  },
  {
   "cell_type": "code",
   "execution_count": 51,
   "metadata": {},
   "outputs": [
    {
     "name": "stdout",
     "output_type": "stream",
     "text": [
      " Лучший показатель f1 0.6076260762607626, AUC-ROC при этом 0.8489824659563611\n",
      " Глубина дерева 14, количество деревьев 80\n"
     ]
    }
   ],
   "source": [
    "model_forest_upsampled = model_search_forest(features_value_upsampled,\n",
    "                                  target_upsampled,\n",
    "                                  features_value_valid,\n",
    "                                  target_valid,\n",
    "                                  depths,\n",
    "                                  ests,\n",
    "                                  )"
   ]
  },
  {
   "cell_type": "markdown",
   "metadata": {},
   "source": [
    "#### Вывод\n",
    "\n",
    "Увеличение количества `1` дало результат, показатель `f1` практически такой же, как при `class_weight=\"balanced\"`, но количество деревьев намного выше, поэтому стоит ожидать, что у получившейся модели дисперсия меньше."
   ]
  },
  {
   "cell_type": "markdown",
   "metadata": {},
   "source": [
    "### Уменьшение выборки"
   ]
  },
  {
   "cell_type": "markdown",
   "metadata": {},
   "source": [
    "Теперь уменьшим количество `0` в выборке:"
   ]
  },
  {
   "cell_type": "code",
   "execution_count": 52,
   "metadata": {},
   "outputs": [],
   "source": [
    "def downsample(features, target, fraction):\n",
    "    features_zeros = features[target == 0]\n",
    "    features_ones = features[target == 1]\n",
    "    target_zeros = target[target == 0]\n",
    "    target_ones = target[target == 1]\n",
    "\n",
    "    features_downsampled = pd.concat(\n",
    "        [features_zeros.sample(frac=fraction, random_state=12345)] + [features_ones])\n",
    "    target_downsampled = pd.concat(\n",
    "        [target_zeros.sample(frac=fraction, random_state=12345)] + [target_ones])\n",
    "    \n",
    "    features_downsampled, target_downsampled = shuffle(\n",
    "        features_downsampled, target_downsampled, random_state=12345)\n",
    "    \n",
    "    return features_downsampled, target_downsampled"
   ]
  },
  {
   "cell_type": "code",
   "execution_count": 53,
   "metadata": {},
   "outputs": [],
   "source": [
    "features_value_downsampled, target_downsampled = downsample(features_value_train, target_train, .3)"
   ]
  },
  {
   "cell_type": "code",
   "execution_count": 54,
   "metadata": {},
   "outputs": [
    {
     "data": {
      "text/plain": [
       "0    1434\n",
       "1    1219\n",
       "Name: exited, dtype: int64"
      ]
     },
     "execution_count": 54,
     "metadata": {},
     "output_type": "execute_result"
    }
   ],
   "source": [
    "target_downsampled.value_counts()"
   ]
  },
  {
   "cell_type": "markdown",
   "metadata": {},
   "source": [
    "Теперь в обучающей выборке количество `0` и `1` практически одинаково. Запустим функцию поиска случайного леса:"
   ]
  },
  {
   "cell_type": "code",
   "execution_count": 55,
   "metadata": {},
   "outputs": [
    {
     "name": "stdout",
     "output_type": "stream",
     "text": [
      " Лучший показатель f1 0.5966386554621849, AUC-ROC при этом 0.8552292968420918\n",
      " Глубина дерева 9, количество деревьев 90\n"
     ]
    }
   ],
   "source": [
    "model_forest_downsampled = model_search_forest(features_value_downsampled,\n",
    "                                  target_downsampled,\n",
    "                                  features_value_valid,\n",
    "                                  target_valid,\n",
    "                                  depths,\n",
    "                                  ests,\n",
    "                                  )"
   ]
  },
  {
   "cell_type": "markdown",
   "metadata": {},
   "source": [
    "#### Вывод\n",
    "\n",
    "Уменьшение количества `0` дало наилучший результат на выборке валидации. Показатель `f1 = 0.597`, при этом количество деревьев 90, что позволяет судить о том, что дисперсия модели не очень большая."
   ]
  },
  {
   "cell_type": "markdown",
   "metadata": {},
   "source": [
    "### Поиск наилучшей модели"
   ]
  },
  {
   "cell_type": "markdown",
   "metadata": {},
   "source": [
    "В прошлой главе мы получили 3 модели случайного леса обученные с разным подходом к борьбе с дисбалансом классов, каждая из них выдаёт показатель `f1 > 0.59` на выборке валидации. В этой главе мы обучим дополнительно модель `LGBMClassifier`, применив поиск параметров с кросс-валидацией c помощью `RandomizedSearchCV`.  "
   ]
  },
  {
   "cell_type": "markdown",
   "metadata": {},
   "source": [
    "**C использованием метода борьбы с дизбалансом через `class_weight`:**"
   ]
  },
  {
   "cell_type": "markdown",
   "metadata": {},
   "source": [
    "Соединим данные обучающей и валидационной выборки:"
   ]
  },
  {
   "cell_type": "code",
   "execution_count": 56,
   "metadata": {},
   "outputs": [],
   "source": [
    "features_value_full_train = pd.concat([features_value_train, features_value_valid])\n",
    "target_full_train = pd.concat([target_train, target_valid])"
   ]
  },
  {
   "cell_type": "code",
   "execution_count": 57,
   "metadata": {},
   "outputs": [
    {
     "data": {
      "text/html": [
       "<div>\n",
       "<style scoped>\n",
       "    .dataframe tbody tr th:only-of-type {\n",
       "        vertical-align: middle;\n",
       "    }\n",
       "\n",
       "    .dataframe tbody tr th {\n",
       "        vertical-align: top;\n",
       "    }\n",
       "\n",
       "    .dataframe thead th {\n",
       "        text-align: right;\n",
       "    }\n",
       "</style>\n",
       "<table border=\"1\" class=\"dataframe\">\n",
       "  <thead>\n",
       "    <tr style=\"text-align: right;\">\n",
       "      <th></th>\n",
       "      <th>is_active_member</th>\n",
       "      <th>age</th>\n",
       "      <th>credit_score</th>\n",
       "      <th>tenure</th>\n",
       "      <th>balance</th>\n",
       "      <th>geography_Germany</th>\n",
       "      <th>geography_Spain</th>\n",
       "      <th>gender_Male</th>\n",
       "      <th>num_of_products_2</th>\n",
       "      <th>num_of_products_3</th>\n",
       "      <th>num_of_products_4</th>\n",
       "    </tr>\n",
       "  </thead>\n",
       "  <tbody>\n",
       "    <tr>\n",
       "      <th>492</th>\n",
       "      <td>1</td>\n",
       "      <td>-0.078068</td>\n",
       "      <td>-0.134048</td>\n",
       "      <td>-0.369113</td>\n",
       "      <td>0.076163</td>\n",
       "      <td>0</td>\n",
       "      <td>0</td>\n",
       "      <td>0</td>\n",
       "      <td>1</td>\n",
       "      <td>0</td>\n",
       "      <td>0</td>\n",
       "    </tr>\n",
       "    <tr>\n",
       "      <th>6655</th>\n",
       "      <td>1</td>\n",
       "      <td>0.494555</td>\n",
       "      <td>-1.010798</td>\n",
       "      <td>-0.007415</td>\n",
       "      <td>0.136391</td>\n",
       "      <td>0</td>\n",
       "      <td>0</td>\n",
       "      <td>1</td>\n",
       "      <td>0</td>\n",
       "      <td>0</td>\n",
       "      <td>0</td>\n",
       "    </tr>\n",
       "    <tr>\n",
       "      <th>4287</th>\n",
       "      <td>1</td>\n",
       "      <td>1.353490</td>\n",
       "      <td>0.639554</td>\n",
       "      <td>-1.454209</td>\n",
       "      <td>0.358435</td>\n",
       "      <td>1</td>\n",
       "      <td>0</td>\n",
       "      <td>1</td>\n",
       "      <td>0</td>\n",
       "      <td>0</td>\n",
       "      <td>0</td>\n",
       "    </tr>\n",
       "    <tr>\n",
       "      <th>42</th>\n",
       "      <td>1</td>\n",
       "      <td>2.116987</td>\n",
       "      <td>-0.990168</td>\n",
       "      <td>-1.092511</td>\n",
       "      <td>0.651725</td>\n",
       "      <td>0</td>\n",
       "      <td>0</td>\n",
       "      <td>0</td>\n",
       "      <td>0</td>\n",
       "      <td>0</td>\n",
       "      <td>0</td>\n",
       "    </tr>\n",
       "    <tr>\n",
       "      <th>8178</th>\n",
       "      <td>1</td>\n",
       "      <td>0.685430</td>\n",
       "      <td>0.567351</td>\n",
       "      <td>0.715982</td>\n",
       "      <td>0.813110</td>\n",
       "      <td>0</td>\n",
       "      <td>0</td>\n",
       "      <td>0</td>\n",
       "      <td>1</td>\n",
       "      <td>0</td>\n",
       "      <td>0</td>\n",
       "    </tr>\n",
       "  </tbody>\n",
       "</table>\n",
       "</div>"
      ],
      "text/plain": [
       "      is_active_member       age  credit_score    tenure   balance  \\\n",
       "492                  1 -0.078068     -0.134048 -0.369113  0.076163   \n",
       "6655                 1  0.494555     -1.010798 -0.007415  0.136391   \n",
       "4287                 1  1.353490      0.639554 -1.454209  0.358435   \n",
       "42                   1  2.116987     -0.990168 -1.092511  0.651725   \n",
       "8178                 1  0.685430      0.567351  0.715982  0.813110   \n",
       "\n",
       "      geography_Germany  geography_Spain  gender_Male  num_of_products_2  \\\n",
       "492                   0                0            0                  1   \n",
       "6655                  0                0            1                  0   \n",
       "4287                  1                0            1                  0   \n",
       "42                    0                0            0                  0   \n",
       "8178                  0                0            0                  1   \n",
       "\n",
       "      num_of_products_3  num_of_products_4  \n",
       "492                   0                  0  \n",
       "6655                  0                  0  \n",
       "4287                  0                  0  \n",
       "42                    0                  0  \n",
       "8178                  0                  0  "
      ]
     },
     "execution_count": 57,
     "metadata": {},
     "output_type": "execute_result"
    }
   ],
   "source": [
    "features_value_full_train.head()"
   ]
  },
  {
   "cell_type": "code",
   "execution_count": 58,
   "metadata": {},
   "outputs": [
    {
     "name": "stdout",
     "output_type": "stream",
     "text": [
      "Лучшая модель показала f1 -  0.6041139569569062\n"
     ]
    }
   ],
   "source": [
    "depths = [1, 2, 3, 4, 5]\n",
    "n_estimators = [10, 20, 30, 40, 50, 60, 70, 80, 90, 100, 150, 200, 300]\n",
    "learning_rate = [0.05, 0.1, 0.15, 0.2]\n",
    "reg_alpha = [0, 0.01, 0.02, 0.1, 0.2]\n",
    "reg_lambda = [0, 0.01, 0.02, 0.1, 0.2]\n",
    "params_lgbm = {'learning_rate' : learning_rate,\n",
    "              'max_depth' : depths,\n",
    "              'n_estimators' : n_estimators,\n",
    "              'reg_alpha' : reg_alpha,\n",
    "              'reg_lambda' : reg_lambda}\n",
    "\n",
    "lgbm_randomsearch_weight = RandomizedSearchCV(LGBMClassifier(random_state=12345,\n",
    "                                                     class_weight='balanced'),\n",
    "                                  param_distributions=params_lgbm,\n",
    "                                  cv=5,\n",
    "                                  n_iter=40,\n",
    "                                  scoring='f1',\n",
    "                                  random_state=12345,\n",
    "                                  )\n",
    "lgbm_randomsearch_weight.fit(features_value_full_train, target_full_train)\n",
    "print(f'Лучшая модель показала f1 -  {lgbm_randomsearch_weight.best_score_}')"
   ]
  },
  {
   "cell_type": "markdown",
   "metadata": {},
   "source": [
    "Значение `f1`, полученное на выборке валидации идентично тому, что мы получили на лучшем лесе."
   ]
  },
  {
   "cell_type": "markdown",
   "metadata": {},
   "source": [
    "**На уменьшенной выборке:**"
   ]
  },
  {
   "cell_type": "code",
   "execution_count": 59,
   "metadata": {},
   "outputs": [],
   "source": [
    "features_downsampled_full, target_downsampled_full = downsample(features_value_full_train, target_full_train, 0.3)"
   ]
  },
  {
   "cell_type": "code",
   "execution_count": 60,
   "metadata": {},
   "outputs": [
    {
     "data": {
      "text/plain": [
       "0    1917\n",
       "1    1610\n",
       "Name: exited, dtype: int64"
      ]
     },
     "execution_count": 60,
     "metadata": {},
     "output_type": "execute_result"
    }
   ],
   "source": [
    "target_downsampled_full.value_counts()"
   ]
  },
  {
   "cell_type": "code",
   "execution_count": 61,
   "metadata": {},
   "outputs": [
    {
     "name": "stdout",
     "output_type": "stream",
     "text": [
      "Лучшая модель показала f1 -  0.7494683027574658\n"
     ]
    }
   ],
   "source": [
    "lgbm_randomsearch_down = RandomizedSearchCV(LGBMClassifier(random_state=12345),\n",
    "                                  param_distributions=params_lgbm,\n",
    "                                  cv=5,\n",
    "                                  n_iter=40,\n",
    "                                  scoring='f1',\n",
    "                                  random_state=12345,\n",
    "                                  )\n",
    "lgbm_randomsearch_down.fit(features_downsampled_full, target_downsampled_full)\n",
    "print(f'Лучшая модель показала f1 -  {lgbm_randomsearch_down.best_score_}')"
   ]
  },
  {
   "cell_type": "markdown",
   "metadata": {},
   "source": [
    "**На увеличенной выборке:**"
   ]
  },
  {
   "cell_type": "code",
   "execution_count": 62,
   "metadata": {},
   "outputs": [],
   "source": [
    "features_upsampled_full, target_upsampled_full = upsample(features_value_full_train, target_full_train, 4)"
   ]
  },
  {
   "cell_type": "code",
   "execution_count": 63,
   "metadata": {},
   "outputs": [
    {
     "data": {
      "text/plain": [
       "1    6440\n",
       "0    6390\n",
       "Name: exited, dtype: int64"
      ]
     },
     "execution_count": 63,
     "metadata": {},
     "output_type": "execute_result"
    }
   ],
   "source": [
    "target_upsampled_full.value_counts()"
   ]
  },
  {
   "cell_type": "code",
   "execution_count": 64,
   "metadata": {},
   "outputs": [
    {
     "name": "stdout",
     "output_type": "stream",
     "text": [
      "Лучшая модель показала f1 -  0.8476485388556977\n"
     ]
    }
   ],
   "source": [
    "lgbm_randomsearch_up = RandomizedSearchCV(LGBMClassifier(random_state=12345),\n",
    "                                  param_distributions=params_lgbm,\n",
    "                                  cv=5,\n",
    "                                  n_iter=40,\n",
    "                                  scoring='f1',\n",
    "                                  random_state=12345,\n",
    "                                  )\n",
    "lgbm_randomsearch_up.fit(features_upsampled_full, target_upsampled_full)\n",
    "print(f'Лучшая модель показала f1 -  {lgbm_randomsearch_up.best_score_}')"
   ]
  },
  {
   "cell_type": "code",
   "execution_count": 65,
   "metadata": {},
   "outputs": [
    {
     "data": {
      "text/plain": [
       "{'reg_lambda': 0.2,\n",
       " 'reg_alpha': 0.01,\n",
       " 'n_estimators': 150,\n",
       " 'max_depth': 5,\n",
       " 'learning_rate': 0.15}"
      ]
     },
     "execution_count": 65,
     "metadata": {},
     "output_type": "execute_result"
    }
   ],
   "source": [
    "lgbm_randomsearch_up.best_params_"
   ]
  },
  {
   "cell_type": "markdown",
   "metadata": {},
   "source": [
    "#### Вывод\n",
    "\n",
    "Были подобраны модели `LGMB`, подбор осуществлен отдельно на увеличенной выборке, уменьшенной и с использованием сбалансированных классов. \n",
    "Наилучший результат показала модель с увеличенным количеством строк, но стоит заметить, что показатель `f1` получился слишком высоким при валидации, есть смысл отдельно проверить каждую из полученных моделей на тестовой выборке."
   ]
  },
  {
   "cell_type": "markdown",
   "metadata": {},
   "source": [
    "## Тестирование модели"
   ]
  },
  {
   "cell_type": "markdown",
   "metadata": {},
   "source": [
    "Напишем функцию, которая будет принимать на вход модель, тестовую выборку и выдавать результат проверки на тестовой выборке, а также график ROC-кривой:"
   ]
  },
  {
   "cell_type": "code",
   "execution_count": 66,
   "metadata": {},
   "outputs": [],
   "source": [
    "def test(model, target_test, features_test):\n",
    "    predictions = model.predict(features_test)\n",
    "    f1 = f1_score(target_test, predictions)\n",
    "    probabilities_one = model.predict_proba(features_test)[:, 1]\n",
    "    auc_roc = roc_auc_score(target_test, probabilities_one)\n",
    "    print(f'Показатель f1 на тестовой выборке: {f1}')\n",
    "    print(f'Показатель AUC-ROC на тестовой выборке: {auc_roc}')\n",
    "    \n",
    "    fpr, tpr, thresholds = roc_curve(target_test, probabilities_one)\n",
    "\n",
    "    plt.figure()\n",
    "\n",
    "\n",
    "    plt.plot(fpr, tpr)\n",
    "\n",
    "# ROC-кривая случайной модели (выглядит как прямая)\n",
    "    plt.plot([0, 1], [0, 1], linestyle='--')\n",
    "\n",
    "# < примените функции plt.xlim() и plt.ylim(), чтобы\n",
    "#   установить границы осей от 0 до 1 >\n",
    "\n",
    "    plt.xlim([0.0, 1.0])\n",
    "    plt.ylim([0.0, 1.0])\n",
    "\n",
    "# < примените функции plt.xlabel() и plt.ylabel(), чтобы\n",
    "#   подписать оси \"False Positive Rate\" и \"True Positive Rate\" >\n",
    "\n",
    "    plt.xlabel('False Positive Rate')\n",
    "    plt.ylabel('True Positive Rate')\n",
    "\n",
    "# < добавьте к графику заголовок \"ROC-кривая\" функцией plt.title() >\n",
    "\n",
    "    plt.title('ROC-кривая')\n",
    "\n",
    "    plt.show()"
   ]
  },
  {
   "cell_type": "markdown",
   "metadata": {},
   "source": [
    "Протестируем модель случайного леса с `class_weight=\"balanced\"`:"
   ]
  },
  {
   "cell_type": "code",
   "execution_count": 67,
   "metadata": {},
   "outputs": [
    {
     "name": "stdout",
     "output_type": "stream",
     "text": [
      "Показатель f1 на тестовой выборке: 0.6214285714285714\n",
      "Показатель AUC-ROC на тестовой выборке: 0.8618013878818648\n"
     ]
    },
    {
     "data": {
      "image/png": "[encoded data removed]",
      "text/plain": [
       "<Figure size 432x288 with 1 Axes>"
      ]
     },
     "metadata": {
      "needs_background": "light"
     },
     "output_type": "display_data"
    }
   ],
   "source": [
    "test(model_forest_weight, target_test, features_value_test)"
   ]
  },
  {
   "cell_type": "markdown",
   "metadata": {},
   "source": [
    "Протестируем модель случайного леса с увеличенным количеством 1:"
   ]
  },
  {
   "cell_type": "code",
   "execution_count": 68,
   "metadata": {},
   "outputs": [
    {
     "name": "stdout",
     "output_type": "stream",
     "text": [
      "Показатель f1 на тестовой выборке: 0.6081871345029239\n",
      "Показатель AUC-ROC на тестовой выборке: 0.8520332126889504\n"
     ]
    },
    {
     "data": {
      "image/png": "[encoded data removed]",
      "text/plain": [
       "<Figure size 432x288 with 1 Axes>"
      ]
     },
     "metadata": {
      "needs_background": "light"
     },
     "output_type": "display_data"
    }
   ],
   "source": [
    "test(model_forest_upsampled, target_test, features_value_test)"
   ]
  },
  {
   "cell_type": "markdown",
   "metadata": {},
   "source": [
    "Протестируем модель случайного леса с уменьшенным количеством 0:"
   ]
  },
  {
   "cell_type": "code",
   "execution_count": 69,
   "metadata": {},
   "outputs": [
    {
     "name": "stdout",
     "output_type": "stream",
     "text": [
      "Показатель f1 на тестовой выборке: 0.6386386386386387\n",
      "Показатель AUC-ROC на тестовой выборке: 0.866361656227528\n"
     ]
    },
    {
     "data": {
      "image/png": "[encoded data removed]",
      "text/plain": [
       "<Figure size 432x288 with 1 Axes>"
      ]
     },
     "metadata": {
      "needs_background": "light"
     },
     "output_type": "display_data"
    }
   ],
   "source": [
    "test(model_forest_downsampled, target_test, features_value_test)"
   ]
  },
  {
   "cell_type": "markdown",
   "metadata": {},
   "source": [
    "Протестируем `LGBM` с `class_weight=\"balanced\"`:"
   ]
  },
  {
   "cell_type": "code",
   "execution_count": 70,
   "metadata": {},
   "outputs": [
    {
     "name": "stdout",
     "output_type": "stream",
     "text": [
      "Показатель f1 на тестовой выборке: 0.6300578034682082\n",
      "Показатель AUC-ROC на тестовой выборке: 0.871684202533681\n"
     ]
    },
    {
     "data": {
      "image/png": "[encoded data removed]",
      "text/plain": [
       "<Figure size 432x288 with 1 Axes>"
      ]
     },
     "metadata": {
      "needs_background": "light"
     },
     "output_type": "display_data"
    }
   ],
   "source": [
    "test(lgbm_randomsearch_weight, target_test, features_value_test)"
   ]
  },
  {
   "cell_type": "markdown",
   "metadata": {},
   "source": [
    "Протестируем `LGBM` с увеличенным количеством 1:"
   ]
  },
  {
   "cell_type": "code",
   "execution_count": 71,
   "metadata": {},
   "outputs": [
    {
     "name": "stdout",
     "output_type": "stream",
     "text": [
      "Показатель f1 на тестовой выборке: 0.6302780638516994\n",
      "Показатель AUC-ROC на тестовой выборке: 0.8571309465497245\n"
     ]
    },
    {
     "data": {
      "image/png": "[encoded data removed]",
      "text/plain": [
       "<Figure size 432x288 with 1 Axes>"
      ]
     },
     "metadata": {
      "needs_background": "light"
     },
     "output_type": "display_data"
    }
   ],
   "source": [
    "test(lgbm_randomsearch_up, target_test, features_value_test)"
   ]
  },
  {
   "cell_type": "markdown",
   "metadata": {},
   "source": [
    "Протестируем `LGBM` с уменьшенным количеством 0:"
   ]
  },
  {
   "cell_type": "code",
   "execution_count": 72,
   "metadata": {
    "scrolled": true
   },
   "outputs": [
    {
     "name": "stdout",
     "output_type": "stream",
     "text": [
      "Показатель f1 на тестовой выборке: 0.6337448559670782\n",
      "Показатель AUC-ROC на тестовой выборке: 0.8688159828249247\n"
     ]
    },
    {
     "data": {
      "image/png": "[encoded data removed]",
      "text/plain": [
       "<Figure size 432x288 with 1 Axes>"
      ]
     },
     "metadata": {
      "needs_background": "light"
     },
     "output_type": "display_data"
    }
   ],
   "source": [
    "test(lgbm_randomsearch_down, target_test, features_value_test)"
   ]
  },
  {
   "cell_type": "markdown",
   "metadata": {},
   "source": [
    "Как видно, наилучшим образом себя показали модели `RandomForest` c показателем `f1=0.639`, обученный на уменьшенной выборке и `LightGBM` c показателем `f1=0.634` на уменьшенной выборке."
   ]
  },
  {
   "cell_type": "markdown",
   "metadata": {},
   "source": [
    "**Теперь для лучших моделей среди `RandomForest` и `LightGBM` используя лучшие гиперпараметры, обучим модели на объединении обучающей и валидационной выборки, при этом будем использовать для наших моделей выборки с уменьшенным количеством `0` - так как они лучше всего себя показали на тестовых выборках:**"
   ]
  },
  {
   "cell_type": "code",
   "execution_count": 73,
   "metadata": {},
   "outputs": [
    {
     "data": {
      "text/plain": [
       "{'reg_lambda': 0.1,\n",
       " 'reg_alpha': 0.02,\n",
       " 'n_estimators': 60,\n",
       " 'max_depth': 4,\n",
       " 'learning_rate': 0.15}"
      ]
     },
     "execution_count": 73,
     "metadata": {},
     "output_type": "execute_result"
    }
   ],
   "source": [
    "lgbm_randomsearch_down.best_params_"
   ]
  },
  {
   "cell_type": "code",
   "execution_count": 74,
   "metadata": {},
   "outputs": [
    {
     "data": {
      "text/plain": [
       "LGBMClassifier(learning_rate=0.15, max_depth=4, n_estimators=60,\n",
       "               random_state=12345, reg_alpha=0.02, reg_lambda=0.1)"
      ]
     },
     "execution_count": 74,
     "metadata": {},
     "output_type": "execute_result"
    }
   ],
   "source": [
    "model_lighgbm_full = LGBMClassifier(random_state=12345,\n",
    "                                   max_depth=4,\n",
    "                                   n_estimators=60,\n",
    "                                   learning_rate=.15,\n",
    "                                   reg_alpha=.02,\n",
    "                                   reg_lambda=.1\n",
    "                                   )\n",
    "model_lighgbm_full.fit(features_downsampled_full, target_downsampled_full)"
   ]
  },
  {
   "cell_type": "code",
   "execution_count": 75,
   "metadata": {},
   "outputs": [
    {
     "name": "stdout",
     "output_type": "stream",
     "text": [
      "Показатель f1 на тестовой выборке: 0.6337448559670782\n",
      "Показатель AUC-ROC на тестовой выборке: 0.8688159828249247\n"
     ]
    },
    {
     "data": {
      "image/png": "[encoded data removed]",
      "text/plain": [
       "<Figure size 432x288 with 1 Axes>"
      ]
     },
     "metadata": {
      "needs_background": "light"
     },
     "output_type": "display_data"
    }
   ],
   "source": [
    "test(model_lighgbm_full, target_test, features_value_test)"
   ]
  },
  {
   "cell_type": "code",
   "execution_count": 76,
   "metadata": {},
   "outputs": [
    {
     "data": {
      "text/plain": [
       "RandomForestClassifier(max_depth=9, n_estimators=90, random_state=12345)"
      ]
     },
     "execution_count": 76,
     "metadata": {},
     "output_type": "execute_result"
    }
   ],
   "source": [
    "model_forest_downsampled"
   ]
  },
  {
   "cell_type": "code",
   "execution_count": 77,
   "metadata": {},
   "outputs": [
    {
     "data": {
      "text/plain": [
       "RandomForestClassifier(max_depth=9, n_estimators=90, random_state=12345)"
      ]
     },
     "execution_count": 77,
     "metadata": {},
     "output_type": "execute_result"
    }
   ],
   "source": [
    "model_forest_full_down = RandomForestClassifier(random_state=12345,\n",
    "                                   max_depth=9,\n",
    "                                   n_estimators=90\n",
    "                                           )\n",
    "model_forest_full_down.fit(features_downsampled_full, target_downsampled_full)"
   ]
  },
  {
   "cell_type": "code",
   "execution_count": 78,
   "metadata": {},
   "outputs": [
    {
     "name": "stdout",
     "output_type": "stream",
     "text": [
      "Показатель f1 на тестовой выборке: 0.6307222787385554\n",
      "Показатель AUC-ROC на тестовой выборке: 0.8726206729187356\n"
     ]
    },
    {
     "data": {
      "image/png": "[encoded data removed]",
      "text/plain": [
       "<Figure size 432x288 with 1 Axes>"
      ]
     },
     "metadata": {
      "needs_background": "light"
     },
     "output_type": "display_data"
    }
   ],
   "source": [
    "test(model_forest_full_down, target_test, features_value_test)"
   ]
  },
  {
   "cell_type": "markdown",
   "metadata": {},
   "source": [
    "Попробуем теперь на `RandomForest`, обученном на увеличенном количестве строк:"
   ]
  },
  {
   "cell_type": "code",
   "execution_count": 79,
   "metadata": {},
   "outputs": [
    {
     "data": {
      "text/plain": [
       "RandomForestClassifier(max_depth=14, n_estimators=80, random_state=12345)"
      ]
     },
     "execution_count": 79,
     "metadata": {},
     "output_type": "execute_result"
    }
   ],
   "source": [
    "model_forest_upsampled"
   ]
  },
  {
   "cell_type": "code",
   "execution_count": 80,
   "metadata": {},
   "outputs": [
    {
     "name": "stdout",
     "output_type": "stream",
     "text": [
      "Показатель f1 на тестовой выборке: 0.627906976744186\n",
      "Показатель AUC-ROC на тестовой выборке: 0.8550123497962545\n"
     ]
    },
    {
     "data": {
      "image/png": "[encoded data removed]",
      "text/plain": [
       "<Figure size 432x288 with 1 Axes>"
      ]
     },
     "metadata": {
      "needs_background": "light"
     },
     "output_type": "display_data"
    }
   ],
   "source": [
    "model_forest_full_up = RandomForestClassifier(random_state=12345,\n",
    "                                   max_depth=14,\n",
    "                                   n_estimators=80\n",
    "                                           )\n",
    "model_forest_full_up.fit(features_upsampled_full, target_upsampled_full)\n",
    "test(model_forest_full_up, target_test, features_value_test)"
   ]
  },
  {
   "cell_type": "markdown",
   "metadata": {},
   "source": [
    "### Вывод\n",
    "\n",
    "* Как видно, наилучшим образом себя показали модели `RandomForest` c показателем `f1=0.639`, обученный на уменьшенной выборке и `LightGBM` c показателем `f1=0.634` на уменьшенной выборке. Показатели `AUC-ROC=0.87`;\n",
    "* обучение модели `RandomForest` с наилучшими гиперпараметрами с уменьшенным количеством на объединении выборок не привело к улучшению результата `f1=0.631`;\n",
    "* обучение модели `RandomForest` с наилучшими гиперпараметрами с увеличенным количеством строк на объединении выборок не привело к улучшению результата `f1=0.628`;\n",
    "* обучение модели `LightGBM` с наилучшими гиперпараметрами на объединении выборок не привело к улучшению результата `f1=0.634`;"
   ]
  },
  {
   "cell_type": "markdown",
   "metadata": {},
   "source": [
    "## Общий вывод"
   ]
  },
  {
   "cell_type": "markdown",
   "metadata": {},
   "source": [
    "* Названия столбцов в таблице приведены к змеиному регистру;\n",
    "* выявлены и заполнены пропуски;\n",
    "* оптимизированы типы данных\n",
    "* В данных присутствует дисбаланс классов: количество представителей класса `0`, то есть тех, кто не ушёл из банка в 4 раза больше, чем представителей класса `1`, то есть тех, кто ушёл из банка, это означает, что такая метрика как `accuracy` - точность, будет неадекватно показывать нам качество модели, поэтому дальше мы будем использовать `f1`.\n",
    "Исходя из анализа данных были сделаны следующие выводы:\n",
    "* Влияющие колонки:\n",
    "    *  `geography` - страна;\n",
    "    *  `gender` - пол, среди женщин доля ушедших больше практически в 2 раза;\n",
    "    * `is_active_member` - активность пользователя, четверть неактивных пользователей ушла, доля среди активных в 2 раза ниже;\n",
    "    * `num_of_products` - количество продуктов, стоит отметить, что при количестве продуктов больше 2-х, доля тех, кто ушёл резко увеличивается до 80%, среди тех у кого 4 продукта ушли все клиенты;\n",
    "    * `credit_score` - кредитный рейтинг слабо влияет, но среди тех кто ушёл встречаются люди с рейтингом меньше 400;\n",
    "    * `age` - возраст, среди тех кто ушёл медианный возраст выше;\n",
    "    * `tenure` - количество лет в банке, слабо влияет на целевой показатель;\n",
    "    * `balance` - баланс, среди тех, кто ушёл, баланс обычно выше.\n",
    "\n",
    "* Не влияют:\n",
    "    * `has_crcard` - наличие кредитной карты;\n",
    "    * `extimated_salary` - зарплата.\n",
    "* Были получены два набора обучающих, валидационных выборок, а также два набора тестовых.\n",
    "* без учёта дисбалансов, не удалось получить заданное качество модели;\n",
    "* учёт влияющих столбцов даёт небольшое улучшение качества модели;\n",
    "* Использование сбалансированных классов путём установки параметра `class_weight=\"balanced\"` повысило показатель `f1` - меры до `0.607` на выборке валидации.\n",
    "* Увеличение количества `1` дало результат, показатель `f1` практически такой же, как при `class_weight=\"balanced\"`.\n",
    "* Уменьшение количества `0` дало наилучший результат на выборке валидации. Показатель `f1 = 0.597`\n",
    "* Были подобраны модели `LGMB`, подбор осуществлен отдельно на увеличенной выборке, уменьшенной и с использованием сбалансированных классов. \n",
    "* Как видно, наилучшим образом себя показали модели `RandomForest` c показателем `f1=0.639`, обученный на уменьшенной выборке и `LightGBM` c показателем `f1=0.634` на уменьшенной выборке. Показатели `AUC-ROC=0.87`;\n",
    "* обучение модели `RandomForest` с наилучшими гиперпараметрами с уменьшенным количеством на объединении выборок не привело к улучшению результата `f1=0.631`;\n",
    "* обучение модели `RandomForest` с наилучшими гиперпараметрами с увеличенным количеством строк на объединении выборок не привело к улучшению результата `f1=0.628`;\n",
    "* обучение модели `LightGBM` с наилучшими гиперпараметрами на объединении выборок не привело к улучшению результата `f1=0.634`;\n"
   ]
  }
 ],
 "metadata": {
  "ExecuteTimeLog": [
   {
    "duration": 2860,
    "start_time": "2022-03-29T14:55:09.245Z"
   },
   {
    "duration": 32,
    "start_time": "2022-03-29T14:55:12.107Z"
   },
   {
    "duration": 25,
    "start_time": "2022-03-29T14:55:12.141Z"
   },
   {
    "duration": 19,
    "start_time": "2022-03-29T14:55:12.184Z"
   },
   {
    "duration": 4,
    "start_time": "2022-03-29T14:55:12.205Z"
   },
   {
    "duration": 23,
    "start_time": "2022-03-29T14:55:12.212Z"
   },
   {
    "duration": 11,
    "start_time": "2022-03-29T14:55:12.237Z"
   },
   {
    "duration": 48,
    "start_time": "2022-03-29T14:55:12.251Z"
   },
   {
    "duration": 13,
    "start_time": "2022-03-29T14:55:12.302Z"
   },
   {
    "duration": 48,
    "start_time": "2022-03-29T14:55:12.319Z"
   },
   {
    "duration": 34,
    "start_time": "2022-03-29T14:55:12.370Z"
   },
   {
    "duration": 17,
    "start_time": "2022-03-29T14:55:12.406Z"
   },
   {
    "duration": 60,
    "start_time": "2022-03-29T14:55:12.425Z"
   },
   {
    "duration": 15,
    "start_time": "2022-03-29T14:55:12.488Z"
   },
   {
    "duration": 45,
    "start_time": "2022-03-29T14:55:12.505Z"
   },
   {
    "duration": 447,
    "start_time": "2022-03-29T14:55:12.583Z"
   },
   {
    "duration": 427,
    "start_time": "2022-03-29T14:55:13.083Z"
   },
   {
    "duration": 399,
    "start_time": "2022-03-29T14:55:13.513Z"
   },
   {
    "duration": 486,
    "start_time": "2022-03-29T14:55:13.916Z"
   },
   {
    "duration": 590,
    "start_time": "2022-03-29T14:55:14.405Z"
   },
   {
    "duration": 19,
    "start_time": "2022-03-29T14:55:14.997Z"
   },
   {
    "duration": 503,
    "start_time": "2022-03-29T14:55:15.019Z"
   },
   {
    "duration": 252,
    "start_time": "2022-03-29T14:55:15.524Z"
   },
   {
    "duration": 259,
    "start_time": "2022-03-29T14:55:15.783Z"
   },
   {
    "duration": 255,
    "start_time": "2022-03-29T14:55:16.044Z"
   },
   {
    "duration": 250,
    "start_time": "2022-03-29T14:55:16.302Z"
   },
   {
    "duration": 5,
    "start_time": "2022-03-29T14:55:16.555Z"
   },
   {
    "duration": 24,
    "start_time": "2022-03-29T14:55:16.566Z"
   },
   {
    "duration": 20,
    "start_time": "2022-03-29T14:55:16.592Z"
   },
   {
    "duration": 13,
    "start_time": "2022-03-29T14:55:16.614Z"
   },
   {
    "duration": 9,
    "start_time": "2022-03-29T14:55:16.629Z"
   },
   {
    "duration": 80,
    "start_time": "2022-03-29T14:55:16.640Z"
   },
   {
    "duration": 4,
    "start_time": "2022-03-29T14:55:16.722Z"
   },
   {
    "duration": 66,
    "start_time": "2022-03-29T14:55:16.729Z"
   },
   {
    "duration": 36,
    "start_time": "2022-03-29T14:55:16.798Z"
   },
   {
    "duration": 7,
    "start_time": "2022-03-29T14:55:16.837Z"
   },
   {
    "duration": 11,
    "start_time": "2022-03-29T14:55:16.846Z"
   },
   {
    "duration": 6,
    "start_time": "2022-03-29T14:55:16.884Z"
   },
   {
    "duration": 12,
    "start_time": "2022-03-29T14:55:16.893Z"
   },
   {
    "duration": 15,
    "start_time": "2022-03-29T14:55:16.908Z"
   },
   {
    "duration": 31,
    "start_time": "2022-03-29T14:55:16.926Z"
   },
   {
    "duration": 26,
    "start_time": "2022-03-29T14:55:16.959Z"
   },
   {
    "duration": 18,
    "start_time": "2022-03-29T14:55:16.988Z"
   },
   {
    "duration": 189,
    "start_time": "2022-03-29T14:55:17.008Z"
   },
   {
    "duration": 102,
    "start_time": "2022-03-29T14:55:17.289Z"
   },
   {
    "duration": 90,
    "start_time": "2022-03-29T14:55:17.395Z"
   },
   {
    "duration": 46960,
    "start_time": "2022-03-29T14:55:17.487Z"
   },
   {
    "duration": 43172,
    "start_time": "2022-03-29T14:56:04.450Z"
   },
   {
    "duration": 43111,
    "start_time": "2022-03-29T14:56:47.624Z"
   },
   {
    "duration": 5,
    "start_time": "2022-03-29T14:57:30.737Z"
   },
   {
    "duration": 22,
    "start_time": "2022-03-29T14:57:30.744Z"
   },
   {
    "duration": 32,
    "start_time": "2022-03-29T14:57:30.769Z"
   },
   {
    "duration": 60298,
    "start_time": "2022-03-29T14:57:30.804Z"
   },
   {
    "duration": 6,
    "start_time": "2022-03-29T14:58:31.104Z"
   },
   {
    "duration": 38,
    "start_time": "2022-03-29T14:58:31.113Z"
   },
   {
    "duration": 18,
    "start_time": "2022-03-29T14:58:31.153Z"
   },
   {
    "duration": 30153,
    "start_time": "2022-03-29T14:58:31.174Z"
   },
   {
    "duration": 187060,
    "start_time": "2022-03-29T14:59:01.329Z"
   },
   {
    "duration": 14,
    "start_time": "2022-03-29T15:02:08.392Z"
   },
   {
    "duration": 76,
    "start_time": "2022-03-29T15:02:08.409Z"
   },
   {
    "duration": 107598,
    "start_time": "2022-03-29T15:02:08.488Z"
   },
   {
    "duration": 13,
    "start_time": "2022-03-29T15:03:56.089Z"
   },
   {
    "duration": 9,
    "start_time": "2022-03-29T15:03:56.104Z"
   },
   {
    "duration": 160074,
    "start_time": "2022-03-29T15:03:56.115Z"
   },
   {
    "duration": 7,
    "start_time": "2022-03-29T15:06:36.192Z"
   },
   {
    "duration": 277,
    "start_time": "2022-03-29T15:06:36.201Z"
   },
   {
    "duration": 261,
    "start_time": "2022-03-29T15:06:36.484Z"
   },
   {
    "duration": 276,
    "start_time": "2022-03-29T15:06:36.748Z"
   },
   {
    "duration": 405,
    "start_time": "2022-03-29T15:06:37.026Z"
   },
   {
    "duration": 303,
    "start_time": "2022-03-29T15:06:37.433Z"
   },
   {
    "duration": 301,
    "start_time": "2022-03-29T15:06:37.739Z"
   },
   {
    "duration": 1737,
    "start_time": "2022-03-29T17:24:33.581Z"
   },
   {
    "duration": 41,
    "start_time": "2022-03-29T17:24:35.321Z"
   },
   {
    "duration": 18,
    "start_time": "2022-03-29T17:24:35.364Z"
   },
   {
    "duration": 14,
    "start_time": "2022-03-29T17:24:35.384Z"
   },
   {
    "duration": 3,
    "start_time": "2022-03-29T17:24:35.399Z"
   },
   {
    "duration": 16,
    "start_time": "2022-03-29T17:24:35.404Z"
   },
   {
    "duration": 8,
    "start_time": "2022-03-29T17:24:35.431Z"
   },
   {
    "duration": 15,
    "start_time": "2022-03-29T17:24:35.441Z"
   },
   {
    "duration": 10,
    "start_time": "2022-03-29T17:24:35.458Z"
   },
   {
    "duration": 24,
    "start_time": "2022-03-29T17:24:35.471Z"
   },
   {
    "duration": 5,
    "start_time": "2022-03-29T17:24:35.497Z"
   },
   {
    "duration": 32,
    "start_time": "2022-03-29T17:24:35.503Z"
   },
   {
    "duration": 27,
    "start_time": "2022-03-29T17:24:35.536Z"
   },
   {
    "duration": 7,
    "start_time": "2022-03-29T17:24:35.565Z"
   },
   {
    "duration": 59,
    "start_time": "2022-03-29T17:24:35.574Z"
   },
   {
    "duration": 6,
    "start_time": "2022-03-29T17:24:35.635Z"
   },
   {
    "duration": 20,
    "start_time": "2022-03-29T17:24:35.643Z"
   },
   {
    "duration": 293,
    "start_time": "2022-03-29T17:24:35.665Z"
   },
   {
    "duration": 216,
    "start_time": "2022-03-29T17:24:35.959Z"
   },
   {
    "duration": 282,
    "start_time": "2022-03-29T17:24:36.177Z"
   },
   {
    "duration": 273,
    "start_time": "2022-03-29T17:24:36.461Z"
   },
   {
    "duration": 411,
    "start_time": "2022-03-29T17:24:36.735Z"
   },
   {
    "duration": 13,
    "start_time": "2022-03-29T17:24:37.148Z"
   },
   {
    "duration": 199,
    "start_time": "2022-03-29T17:24:37.162Z"
   },
   {
    "duration": 162,
    "start_time": "2022-03-29T17:24:37.363Z"
   },
   {
    "duration": 196,
    "start_time": "2022-03-29T17:24:37.531Z"
   },
   {
    "duration": 180,
    "start_time": "2022-03-29T17:24:37.729Z"
   },
   {
    "duration": 177,
    "start_time": "2022-03-29T17:24:37.914Z"
   },
   {
    "duration": 4,
    "start_time": "2022-03-29T17:24:38.093Z"
   },
   {
    "duration": 18,
    "start_time": "2022-03-29T17:24:38.098Z"
   },
   {
    "duration": 12,
    "start_time": "2022-03-29T17:24:38.117Z"
   },
   {
    "duration": 9,
    "start_time": "2022-03-29T17:24:38.131Z"
   },
   {
    "duration": 38,
    "start_time": "2022-03-29T17:24:38.141Z"
   },
   {
    "duration": 3,
    "start_time": "2022-03-29T17:24:38.181Z"
   },
   {
    "duration": 49,
    "start_time": "2022-03-29T17:24:38.186Z"
   },
   {
    "duration": 26,
    "start_time": "2022-03-29T17:24:38.237Z"
   },
   {
    "duration": 138,
    "start_time": "2022-03-29T17:24:38.264Z"
   },
   {
    "duration": 0,
    "start_time": "2022-03-29T17:24:38.404Z"
   },
   {
    "duration": 0,
    "start_time": "2022-03-29T17:24:38.405Z"
   },
   {
    "duration": 0,
    "start_time": "2022-03-29T17:24:38.406Z"
   },
   {
    "duration": 0,
    "start_time": "2022-03-29T17:24:38.407Z"
   },
   {
    "duration": 0,
    "start_time": "2022-03-29T17:24:38.409Z"
   },
   {
    "duration": 0,
    "start_time": "2022-03-29T17:24:38.410Z"
   },
   {
    "duration": 0,
    "start_time": "2022-03-29T17:24:38.411Z"
   },
   {
    "duration": 0,
    "start_time": "2022-03-29T17:24:38.412Z"
   },
   {
    "duration": 0,
    "start_time": "2022-03-29T17:24:38.413Z"
   },
   {
    "duration": 0,
    "start_time": "2022-03-29T17:24:38.414Z"
   },
   {
    "duration": 0,
    "start_time": "2022-03-29T17:24:38.431Z"
   },
   {
    "duration": 0,
    "start_time": "2022-03-29T17:24:38.432Z"
   },
   {
    "duration": 0,
    "start_time": "2022-03-29T17:24:38.433Z"
   },
   {
    "duration": 0,
    "start_time": "2022-03-29T17:24:38.434Z"
   },
   {
    "duration": 0,
    "start_time": "2022-03-29T17:24:38.436Z"
   },
   {
    "duration": 0,
    "start_time": "2022-03-29T17:24:38.437Z"
   },
   {
    "duration": 0,
    "start_time": "2022-03-29T17:24:38.438Z"
   },
   {
    "duration": 0,
    "start_time": "2022-03-29T17:24:38.439Z"
   },
   {
    "duration": 0,
    "start_time": "2022-03-29T17:24:38.440Z"
   },
   {
    "duration": 0,
    "start_time": "2022-03-29T17:24:38.441Z"
   },
   {
    "duration": 0,
    "start_time": "2022-03-29T17:24:38.442Z"
   },
   {
    "duration": 0,
    "start_time": "2022-03-29T17:24:38.443Z"
   },
   {
    "duration": 0,
    "start_time": "2022-03-29T17:24:38.444Z"
   },
   {
    "duration": 0,
    "start_time": "2022-03-29T17:24:38.445Z"
   },
   {
    "duration": 0,
    "start_time": "2022-03-29T17:24:38.446Z"
   },
   {
    "duration": 0,
    "start_time": "2022-03-29T17:24:38.447Z"
   },
   {
    "duration": 0,
    "start_time": "2022-03-29T17:24:38.448Z"
   },
   {
    "duration": 0,
    "start_time": "2022-03-29T17:24:38.449Z"
   },
   {
    "duration": 0,
    "start_time": "2022-03-29T17:24:38.450Z"
   },
   {
    "duration": 0,
    "start_time": "2022-03-29T17:24:38.451Z"
   },
   {
    "duration": 0,
    "start_time": "2022-03-29T17:24:38.452Z"
   },
   {
    "duration": 0,
    "start_time": "2022-03-29T17:24:38.453Z"
   },
   {
    "duration": 0,
    "start_time": "2022-03-29T17:24:38.455Z"
   },
   {
    "duration": 0,
    "start_time": "2022-03-29T17:24:38.455Z"
   },
   {
    "duration": 0,
    "start_time": "2022-03-29T17:24:38.457Z"
   },
   {
    "duration": 1,
    "start_time": "2022-03-29T17:24:38.457Z"
   },
   {
    "duration": 5,
    "start_time": "2022-03-29T17:32:24.685Z"
   },
   {
    "duration": 36,
    "start_time": "2022-03-29T17:32:24.692Z"
   },
   {
    "duration": 14,
    "start_time": "2022-03-29T17:32:24.730Z"
   },
   {
    "duration": 19,
    "start_time": "2022-03-29T17:32:24.745Z"
   },
   {
    "duration": 4,
    "start_time": "2022-03-29T17:32:24.767Z"
   },
   {
    "duration": 23,
    "start_time": "2022-03-29T17:32:24.773Z"
   },
   {
    "duration": 35,
    "start_time": "2022-03-29T17:32:24.799Z"
   },
   {
    "duration": 23,
    "start_time": "2022-03-29T17:32:24.836Z"
   },
   {
    "duration": 10,
    "start_time": "2022-03-29T17:32:24.861Z"
   },
   {
    "duration": 29,
    "start_time": "2022-03-29T17:32:24.872Z"
   },
   {
    "duration": 5,
    "start_time": "2022-03-29T17:32:24.932Z"
   },
   {
    "duration": 8,
    "start_time": "2022-03-29T17:32:24.939Z"
   },
   {
    "duration": 19,
    "start_time": "2022-03-29T17:32:24.950Z"
   },
   {
    "duration": 8,
    "start_time": "2022-03-29T17:32:24.971Z"
   },
   {
    "duration": 4,
    "start_time": "2022-03-29T17:32:24.981Z"
   },
   {
    "duration": 10,
    "start_time": "2022-03-29T17:32:24.986Z"
   },
   {
    "duration": 37,
    "start_time": "2022-03-29T17:32:24.998Z"
   },
   {
    "duration": 136,
    "start_time": "2022-03-29T17:32:25.037Z"
   },
   {
    "duration": 120,
    "start_time": "2022-03-29T17:32:25.175Z"
   },
   {
    "duration": 137,
    "start_time": "2022-03-29T17:32:25.297Z"
   },
   {
    "duration": 125,
    "start_time": "2022-03-29T17:32:25.436Z"
   },
   {
    "duration": 140,
    "start_time": "2022-03-29T17:32:25.562Z"
   },
   {
    "duration": 12,
    "start_time": "2022-03-29T17:32:25.704Z"
   },
   {
    "duration": 300,
    "start_time": "2022-03-29T17:32:25.731Z"
   },
   {
    "duration": 170,
    "start_time": "2022-03-29T17:32:26.033Z"
   },
   {
    "duration": 175,
    "start_time": "2022-03-29T17:32:26.204Z"
   },
   {
    "duration": 184,
    "start_time": "2022-03-29T17:32:26.381Z"
   },
   {
    "duration": 176,
    "start_time": "2022-03-29T17:32:26.566Z"
   },
   {
    "duration": 3,
    "start_time": "2022-03-29T17:32:26.744Z"
   },
   {
    "duration": 7,
    "start_time": "2022-03-29T17:32:26.749Z"
   },
   {
    "duration": 14,
    "start_time": "2022-03-29T17:32:26.758Z"
   },
   {
    "duration": 8,
    "start_time": "2022-03-29T17:32:26.774Z"
   },
   {
    "duration": 61,
    "start_time": "2022-03-29T17:32:26.784Z"
   },
   {
    "duration": 8,
    "start_time": "2022-03-29T17:32:26.847Z"
   },
   {
    "duration": 13,
    "start_time": "2022-03-29T17:32:26.857Z"
   },
   {
    "duration": 4,
    "start_time": "2022-03-29T17:32:26.873Z"
   },
   {
    "duration": 7,
    "start_time": "2022-03-29T17:32:26.883Z"
   },
   {
    "duration": 12,
    "start_time": "2022-03-29T17:32:26.892Z"
   },
   {
    "duration": 26,
    "start_time": "2022-03-29T17:32:26.906Z"
   },
   {
    "duration": 60,
    "start_time": "2022-03-29T17:32:26.934Z"
   },
   {
    "duration": 74,
    "start_time": "2022-03-29T17:32:26.996Z"
   },
   {
    "duration": 9,
    "start_time": "2022-03-29T17:32:27.072Z"
   },
   {
    "duration": 0,
    "start_time": "2022-03-29T17:32:27.083Z"
   },
   {
    "duration": 0,
    "start_time": "2022-03-29T17:32:27.084Z"
   },
   {
    "duration": 0,
    "start_time": "2022-03-29T17:32:27.086Z"
   },
   {
    "duration": 1,
    "start_time": "2022-03-29T17:32:27.086Z"
   },
   {
    "duration": 0,
    "start_time": "2022-03-29T17:32:27.087Z"
   },
   {
    "duration": 0,
    "start_time": "2022-03-29T17:32:27.088Z"
   },
   {
    "duration": 0,
    "start_time": "2022-03-29T17:32:27.090Z"
   },
   {
    "duration": 0,
    "start_time": "2022-03-29T17:32:27.091Z"
   },
   {
    "duration": 0,
    "start_time": "2022-03-29T17:32:27.093Z"
   },
   {
    "duration": 0,
    "start_time": "2022-03-29T17:32:27.094Z"
   },
   {
    "duration": 0,
    "start_time": "2022-03-29T17:32:27.131Z"
   },
   {
    "duration": 0,
    "start_time": "2022-03-29T17:32:27.133Z"
   },
   {
    "duration": 0,
    "start_time": "2022-03-29T17:32:27.134Z"
   },
   {
    "duration": 0,
    "start_time": "2022-03-29T17:32:27.135Z"
   },
   {
    "duration": 0,
    "start_time": "2022-03-29T17:32:27.136Z"
   },
   {
    "duration": 0,
    "start_time": "2022-03-29T17:32:27.138Z"
   },
   {
    "duration": 0,
    "start_time": "2022-03-29T17:32:27.139Z"
   },
   {
    "duration": 0,
    "start_time": "2022-03-29T17:32:27.140Z"
   },
   {
    "duration": 0,
    "start_time": "2022-03-29T17:32:27.142Z"
   },
   {
    "duration": 0,
    "start_time": "2022-03-29T17:32:27.143Z"
   },
   {
    "duration": 0,
    "start_time": "2022-03-29T17:32:27.144Z"
   },
   {
    "duration": 1,
    "start_time": "2022-03-29T17:32:27.145Z"
   },
   {
    "duration": 0,
    "start_time": "2022-03-29T17:32:27.146Z"
   },
   {
    "duration": 0,
    "start_time": "2022-03-29T17:32:27.148Z"
   },
   {
    "duration": 0,
    "start_time": "2022-03-29T17:32:27.149Z"
   },
   {
    "duration": 0,
    "start_time": "2022-03-29T17:32:27.150Z"
   },
   {
    "duration": 0,
    "start_time": "2022-03-29T17:32:27.151Z"
   },
   {
    "duration": 0,
    "start_time": "2022-03-29T17:32:27.152Z"
   },
   {
    "duration": 0,
    "start_time": "2022-03-29T17:32:27.154Z"
   },
   {
    "duration": 0,
    "start_time": "2022-03-29T17:32:27.155Z"
   },
   {
    "duration": 0,
    "start_time": "2022-03-29T17:32:27.156Z"
   },
   {
    "duration": 12,
    "start_time": "2022-03-29T17:33:54.778Z"
   },
   {
    "duration": 5,
    "start_time": "2022-03-29T17:33:55.619Z"
   },
   {
    "duration": 13,
    "start_time": "2022-03-29T17:33:58.355Z"
   },
   {
    "duration": 5,
    "start_time": "2022-03-29T17:35:06.272Z"
   },
   {
    "duration": 42,
    "start_time": "2022-03-29T17:35:06.280Z"
   },
   {
    "duration": 18,
    "start_time": "2022-03-29T17:35:06.324Z"
   },
   {
    "duration": 22,
    "start_time": "2022-03-29T17:35:06.345Z"
   },
   {
    "duration": 8,
    "start_time": "2022-03-29T17:35:06.369Z"
   },
   {
    "duration": 24,
    "start_time": "2022-03-29T17:35:06.379Z"
   },
   {
    "duration": 27,
    "start_time": "2022-03-29T17:35:06.405Z"
   },
   {
    "duration": 24,
    "start_time": "2022-03-29T17:35:06.434Z"
   },
   {
    "duration": 10,
    "start_time": "2022-03-29T17:35:06.460Z"
   },
   {
    "duration": 59,
    "start_time": "2022-03-29T17:35:06.474Z"
   },
   {
    "duration": 5,
    "start_time": "2022-03-29T17:35:06.535Z"
   },
   {
    "duration": 9,
    "start_time": "2022-03-29T17:35:06.541Z"
   },
   {
    "duration": 17,
    "start_time": "2022-03-29T17:35:06.552Z"
   },
   {
    "duration": 8,
    "start_time": "2022-03-29T17:35:06.570Z"
   },
   {
    "duration": 3,
    "start_time": "2022-03-29T17:35:06.580Z"
   },
   {
    "duration": 9,
    "start_time": "2022-03-29T17:35:06.585Z"
   },
   {
    "duration": 7,
    "start_time": "2022-03-29T17:35:06.631Z"
   },
   {
    "duration": 140,
    "start_time": "2022-03-29T17:35:06.640Z"
   },
   {
    "duration": 122,
    "start_time": "2022-03-29T17:35:06.782Z"
   },
   {
    "duration": 142,
    "start_time": "2022-03-29T17:35:06.905Z"
   },
   {
    "duration": 130,
    "start_time": "2022-03-29T17:35:07.048Z"
   },
   {
    "duration": 142,
    "start_time": "2022-03-29T17:35:07.179Z"
   },
   {
    "duration": 14,
    "start_time": "2022-03-29T17:35:07.323Z"
   },
   {
    "duration": 200,
    "start_time": "2022-03-29T17:35:07.338Z"
   },
   {
    "duration": 258,
    "start_time": "2022-03-29T17:35:07.540Z"
   },
   {
    "duration": 171,
    "start_time": "2022-03-29T17:35:07.800Z"
   },
   {
    "duration": 181,
    "start_time": "2022-03-29T17:35:07.973Z"
   },
   {
    "duration": 176,
    "start_time": "2022-03-29T17:35:08.158Z"
   },
   {
    "duration": 2,
    "start_time": "2022-03-29T17:35:08.336Z"
   },
   {
    "duration": 28,
    "start_time": "2022-03-29T17:35:08.340Z"
   },
   {
    "duration": 22,
    "start_time": "2022-03-29T17:35:08.370Z"
   },
   {
    "duration": 21,
    "start_time": "2022-03-29T17:35:08.394Z"
   },
   {
    "duration": 44,
    "start_time": "2022-03-29T17:35:08.432Z"
   },
   {
    "duration": 55,
    "start_time": "2022-03-29T17:35:08.477Z"
   },
   {
    "duration": 7,
    "start_time": "2022-03-29T17:35:08.534Z"
   },
   {
    "duration": 26,
    "start_time": "2022-03-29T17:35:08.543Z"
   },
   {
    "duration": 63,
    "start_time": "2022-03-29T17:35:08.571Z"
   },
   {
    "duration": 6,
    "start_time": "2022-03-29T17:35:08.636Z"
   },
   {
    "duration": 17,
    "start_time": "2022-03-29T17:35:08.644Z"
   },
   {
    "duration": 102,
    "start_time": "2022-03-29T17:35:08.663Z"
   },
   {
    "duration": 104,
    "start_time": "2022-03-29T17:35:08.767Z"
   },
   {
    "duration": 66,
    "start_time": "2022-03-29T17:35:08.872Z"
   },
   {
    "duration": 21,
    "start_time": "2022-03-29T17:35:08.940Z"
   },
   {
    "duration": 73,
    "start_time": "2022-03-29T17:35:08.963Z"
   },
   {
    "duration": 202,
    "start_time": "2022-03-29T17:35:09.038Z"
   },
   {
    "duration": 289,
    "start_time": "2022-03-29T17:35:09.243Z"
   },
   {
    "duration": 97,
    "start_time": "2022-03-29T17:35:09.535Z"
   },
   {
    "duration": 40403,
    "start_time": "2022-03-29T17:35:09.634Z"
   },
   {
    "duration": 33037,
    "start_time": "2022-03-29T17:35:50.039Z"
   },
   {
    "duration": 33053,
    "start_time": "2022-03-29T17:36:23.078Z"
   },
   {
    "duration": 6,
    "start_time": "2022-03-29T17:36:56.133Z"
   },
   {
    "duration": 28,
    "start_time": "2022-03-29T17:36:56.141Z"
   },
   {
    "duration": 7,
    "start_time": "2022-03-29T17:36:56.171Z"
   },
   {
    "duration": 45186,
    "start_time": "2022-03-29T17:36:56.180Z"
   },
   {
    "duration": 4,
    "start_time": "2022-03-29T17:37:41.368Z"
   },
   {
    "duration": 20,
    "start_time": "2022-03-29T17:37:41.374Z"
   },
   {
    "duration": 7,
    "start_time": "2022-03-29T17:37:41.396Z"
   },
   {
    "duration": 22350,
    "start_time": "2022-03-29T17:37:41.405Z"
   },
   {
    "duration": 1336,
    "start_time": "2022-03-29T17:38:03.757Z"
   },
   {
    "duration": 0,
    "start_time": "2022-03-29T17:38:05.094Z"
   },
   {
    "duration": 0,
    "start_time": "2022-03-29T17:38:05.095Z"
   },
   {
    "duration": 0,
    "start_time": "2022-03-29T17:38:05.096Z"
   },
   {
    "duration": 1,
    "start_time": "2022-03-29T17:38:05.097Z"
   },
   {
    "duration": 0,
    "start_time": "2022-03-29T17:38:05.098Z"
   },
   {
    "duration": 0,
    "start_time": "2022-03-29T17:38:05.099Z"
   },
   {
    "duration": 0,
    "start_time": "2022-03-29T17:38:05.100Z"
   },
   {
    "duration": 0,
    "start_time": "2022-03-29T17:38:05.101Z"
   },
   {
    "duration": 0,
    "start_time": "2022-03-29T17:38:05.102Z"
   },
   {
    "duration": 0,
    "start_time": "2022-03-29T17:38:05.103Z"
   },
   {
    "duration": 0,
    "start_time": "2022-03-29T17:38:05.104Z"
   },
   {
    "duration": 0,
    "start_time": "2022-03-29T17:38:05.105Z"
   },
   {
    "duration": 0,
    "start_time": "2022-03-29T17:38:05.105Z"
   },
   {
    "duration": 6,
    "start_time": "2022-03-29T17:38:59.274Z"
   },
   {
    "duration": 4,
    "start_time": "2022-03-29T17:39:39.648Z"
   },
   {
    "duration": 34,
    "start_time": "2022-03-29T17:39:39.654Z"
   },
   {
    "duration": 13,
    "start_time": "2022-03-29T17:39:39.690Z"
   },
   {
    "duration": 17,
    "start_time": "2022-03-29T17:39:39.705Z"
   },
   {
    "duration": 3,
    "start_time": "2022-03-29T17:39:39.732Z"
   },
   {
    "duration": 22,
    "start_time": "2022-03-29T17:39:39.737Z"
   },
   {
    "duration": 8,
    "start_time": "2022-03-29T17:39:39.760Z"
   },
   {
    "duration": 20,
    "start_time": "2022-03-29T17:39:39.770Z"
   },
   {
    "duration": 12,
    "start_time": "2022-03-29T17:39:39.793Z"
   },
   {
    "duration": 33,
    "start_time": "2022-03-29T17:39:39.831Z"
   },
   {
    "duration": 4,
    "start_time": "2022-03-29T17:39:39.866Z"
   },
   {
    "duration": 7,
    "start_time": "2022-03-29T17:39:39.872Z"
   },
   {
    "duration": 52,
    "start_time": "2022-03-29T17:39:39.880Z"
   },
   {
    "duration": 8,
    "start_time": "2022-03-29T17:39:39.934Z"
   },
   {
    "duration": 6,
    "start_time": "2022-03-29T17:39:39.944Z"
   },
   {
    "duration": 148,
    "start_time": "2022-03-29T17:39:39.952Z"
   },
   {
    "duration": 120,
    "start_time": "2022-03-29T17:39:40.103Z"
   },
   {
    "duration": 139,
    "start_time": "2022-03-29T17:39:40.225Z"
   },
   {
    "duration": 122,
    "start_time": "2022-03-29T17:39:40.366Z"
   },
   {
    "duration": 135,
    "start_time": "2022-03-29T17:39:40.490Z"
   },
   {
    "duration": 13,
    "start_time": "2022-03-29T17:39:40.631Z"
   },
   {
    "duration": 194,
    "start_time": "2022-03-29T17:39:40.646Z"
   },
   {
    "duration": 255,
    "start_time": "2022-03-29T17:39:40.842Z"
   },
   {
    "duration": 174,
    "start_time": "2022-03-29T17:39:41.101Z"
   },
   {
    "duration": 174,
    "start_time": "2022-03-29T17:39:41.277Z"
   },
   {
    "duration": 182,
    "start_time": "2022-03-29T17:39:41.453Z"
   },
   {
    "duration": 3,
    "start_time": "2022-03-29T17:39:41.636Z"
   },
   {
    "duration": 11,
    "start_time": "2022-03-29T17:39:41.641Z"
   },
   {
    "duration": 13,
    "start_time": "2022-03-29T17:39:41.653Z"
   },
   {
    "duration": 8,
    "start_time": "2022-03-29T17:39:41.668Z"
   },
   {
    "duration": 55,
    "start_time": "2022-03-29T17:39:41.677Z"
   },
   {
    "duration": 6,
    "start_time": "2022-03-29T17:39:41.734Z"
   },
   {
    "duration": 9,
    "start_time": "2022-03-29T17:39:41.742Z"
   },
   {
    "duration": 15,
    "start_time": "2022-03-29T17:39:41.753Z"
   },
   {
    "duration": 13,
    "start_time": "2022-03-29T17:39:41.770Z"
   },
   {
    "duration": 7,
    "start_time": "2022-03-29T17:39:41.785Z"
   },
   {
    "duration": 5,
    "start_time": "2022-03-29T17:39:41.794Z"
   },
   {
    "duration": 61,
    "start_time": "2022-03-29T17:39:41.801Z"
   },
   {
    "duration": 42,
    "start_time": "2022-03-29T17:39:41.864Z"
   },
   {
    "duration": 33,
    "start_time": "2022-03-29T17:39:41.908Z"
   },
   {
    "duration": 8,
    "start_time": "2022-03-29T17:39:41.943Z"
   },
   {
    "duration": 14,
    "start_time": "2022-03-29T17:39:41.953Z"
   },
   {
    "duration": 71,
    "start_time": "2022-03-29T17:39:41.969Z"
   },
   {
    "duration": 203,
    "start_time": "2022-03-29T17:39:42.132Z"
   },
   {
    "duration": 96,
    "start_time": "2022-03-29T17:39:42.341Z"
   },
   {
    "duration": 37967,
    "start_time": "2022-03-29T17:39:42.439Z"
   },
   {
    "duration": 35274,
    "start_time": "2022-03-29T17:40:20.408Z"
   },
   {
    "duration": 32933,
    "start_time": "2022-03-29T17:40:55.684Z"
   },
   {
    "duration": 4,
    "start_time": "2022-03-29T17:41:28.619Z"
   },
   {
    "duration": 31,
    "start_time": "2022-03-29T17:41:28.624Z"
   },
   {
    "duration": 25,
    "start_time": "2022-03-29T17:41:28.657Z"
   },
   {
    "duration": 44204,
    "start_time": "2022-03-29T17:41:28.684Z"
   },
   {
    "duration": 4,
    "start_time": "2022-03-29T17:42:12.891Z"
   },
   {
    "duration": 29,
    "start_time": "2022-03-29T17:42:12.897Z"
   },
   {
    "duration": 8,
    "start_time": "2022-03-29T17:42:12.928Z"
   },
   {
    "duration": 21881,
    "start_time": "2022-03-29T17:42:12.938Z"
   },
   {
    "duration": 205014,
    "start_time": "2022-03-29T17:42:34.821Z"
   },
   {
    "duration": 0,
    "start_time": "2022-03-29T17:45:59.839Z"
   },
   {
    "duration": 0,
    "start_time": "2022-03-29T17:45:59.841Z"
   },
   {
    "duration": 0,
    "start_time": "2022-03-29T17:45:59.842Z"
   },
   {
    "duration": 0,
    "start_time": "2022-03-29T17:45:59.843Z"
   },
   {
    "duration": 0,
    "start_time": "2022-03-29T17:45:59.844Z"
   },
   {
    "duration": 0,
    "start_time": "2022-03-29T17:45:59.846Z"
   },
   {
    "duration": 0,
    "start_time": "2022-03-29T17:45:59.847Z"
   },
   {
    "duration": 0,
    "start_time": "2022-03-29T17:45:59.849Z"
   },
   {
    "duration": 0,
    "start_time": "2022-03-29T17:45:59.850Z"
   },
   {
    "duration": 0,
    "start_time": "2022-03-29T17:45:59.852Z"
   },
   {
    "duration": 0,
    "start_time": "2022-03-29T17:45:59.853Z"
   },
   {
    "duration": 0,
    "start_time": "2022-03-29T17:45:59.854Z"
   },
   {
    "duration": 0,
    "start_time": "2022-03-29T17:45:59.855Z"
   }
  ],
  "kernelspec": {
   "display_name": "Python 3 (ipykernel)",
   "language": "python",
   "name": "python3"
  },
  "language_info": {
   "codemirror_mode": {
    "name": "ipython",
    "version": 3
   },
   "file_extension": ".py",
   "mimetype": "text/x-python",
   "name": "python",
   "nbconvert_exporter": "python",
   "pygments_lexer": "ipython3",
   "version": "3.9.5"
  },
  "toc": {
   "base_numbering": 1,
   "nav_menu": {},
   "number_sections": true,
   "sideBar": true,
   "skip_h1_title": true,
   "title_cell": "Содержание",
   "title_sidebar": "Contents",
   "toc_cell": true,
   "toc_position": {
    "height": "calc(100% - 180px)",
    "left": "10px",
    "top": "150px",
    "width": "384px"
   },
   "toc_section_display": true,
   "toc_window_display": true
  }
 },
 "nbformat": 4,
 "nbformat_minor": 2
}
