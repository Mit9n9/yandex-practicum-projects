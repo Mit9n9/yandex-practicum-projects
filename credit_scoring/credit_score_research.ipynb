{
 "cells": [
  {
   "cell_type": "markdown",
   "metadata": {},
   "source": [
    "# Исследование надёжности заёмщиков\n",
    "\n",
    "В датасете представлены данные о заёмщиках банка.\n",
    "\n",
    "Цель исследования - понять, какие параметры влияют на возврат кредита в срок.\n",
    "\n",
    "Данные в формате `.csv`.\n",
    "\n",
    "О качестве данных информации нет, поэтому необходимо провести предобработку.\n",
    "\n",
    "Проект будет выполнен в несколько этапов:\n",
    "1. [Открытие данных](#start)\n",
    "2. [Предобработка данных](#preprocessing)\n",
    "   * [Обработка пропусков](#na)\n",
    "   * [Замена типа данных](#type_change)\n",
    "   * [Обработка дупликатов](#duplicated)\n",
    "   * [Лемматизация](#lemmatize)\n",
    "   * [Категоризация данных](#category)\n",
    "\n",
    "3. [Исследование заёмщиков](#research)\n",
    "4. [Общий вывод](#conclusion)\n",
    "5. [Чек-лист](#check_list)"
   ]
  },
  {
   "cell_type": "markdown",
   "metadata": {},
   "source": [
    "<a id='start'></a>\n",
    "## Открытие данных"
   ]
  },
  {
   "cell_type": "code",
   "execution_count": 1,
   "metadata": {},
   "outputs": [],
   "source": [
    "import pandas as pd\n",
    "from pymystem3 import Mystem # импорт класса Mystem"
   ]
  },
  {
   "cell_type": "markdown",
   "metadata": {},
   "source": [
    "Ознакомимся с общей информацией о таблице."
   ]
  },
  {
   "cell_type": "code",
   "execution_count": 2,
   "metadata": {},
   "outputs": [
    {
     "name": "stdout",
     "output_type": "stream",
     "text": [
      "<class 'pandas.core.frame.DataFrame'>\n",
      "RangeIndex: 21525 entries, 0 to 21524\n",
      "Data columns (total 12 columns):\n",
      "children            21525 non-null int64\n",
      "days_employed       19351 non-null float64\n",
      "dob_years           21525 non-null int64\n",
      "education           21525 non-null object\n",
      "education_id        21525 non-null int64\n",
      "family_status       21525 non-null object\n",
      "family_status_id    21525 non-null int64\n",
      "gender              21525 non-null object\n",
      "income_type         21525 non-null object\n",
      "debt                21525 non-null int64\n",
      "total_income        19351 non-null float64\n",
      "purpose             21525 non-null object\n",
      "dtypes: float64(2), int64(5), object(5)\n",
      "memory usage: 2.0+ MB\n"
     ]
    }
   ],
   "source": [
    "data = pd.read_csv('data.csv')\n",
    "#  посмотрим первые 5 строк таблицы\n",
    "data.info()"
   ]
  },
  {
   "cell_type": "markdown",
   "metadata": {},
   "source": [
    "**Вывод**"
   ]
  },
  {
   "cell_type": "markdown",
   "metadata": {},
   "source": [
    "В каждой строке таблицы представлены данные о заёмщиках. Все названия столбцов корректно оформлены - в змеином регистре. В столбцах `'days_employed'` и `'total_income'` количество строк не совпадает с количеством строк датафрейма, что говорит о том, что в данных имеются пропуски. \n",
    "Формат значений в этих столбцах - float64, а также описание этих столбцов (в первом случае - стаж, во втором - уровень ежемесячного дохода) говорят нам о том, что в данном случае мы имеем дело с количественными значениями."
   ]
  },
  {
   "cell_type": "markdown",
   "metadata": {},
   "source": [
    "<a id=\"preprocessing\"></a>\n",
    "##  Предобработка данных "
   ]
  },
  {
   "cell_type": "markdown",
   "metadata": {},
   "source": [
    "<a id=\"na\"></a>\n",
    "### Обработка пропусков"
   ]
  },
  {
   "cell_type": "markdown",
   "metadata": {},
   "source": [
    "Посчитаем количество пропущенных значений в целом по датафрейму."
   ]
  },
  {
   "cell_type": "code",
   "execution_count": 3,
   "metadata": {},
   "outputs": [
    {
     "data": {
      "text/plain": [
       "children               0\n",
       "days_employed       2174\n",
       "dob_years              0\n",
       "education              0\n",
       "education_id           0\n",
       "family_status          0\n",
       "family_status_id       0\n",
       "gender                 0\n",
       "income_type            0\n",
       "debt                   0\n",
       "total_income        2174\n",
       "purpose                0\n",
       "dtype: int64"
      ]
     },
     "execution_count": 3,
     "metadata": {},
     "output_type": "execute_result"
    }
   ],
   "source": [
    "data.isna().sum()"
   ]
  },
  {
   "cell_type": "markdown",
   "metadata": {},
   "source": [
    "Как видно, количество пропущенных значений в столбцах со стажем и уровнем дохода совпадает.\n",
    "Количество пропущенных значений составляет 2174, что больше 10% данных. Если их просто удалить, результаты могут сильно пострадать.\n",
    "\n",
    "Создадим таблицу, в которой будут только те строки, в которых есть пропуски по столбцу с 'total_income':"
   ]
  },
  {
   "cell_type": "code",
   "execution_count": 4,
   "metadata": {},
   "outputs": [
    {
     "data": {
      "text/html": [
       "<div>\n",
       "<style scoped>\n",
       "    .dataframe tbody tr th:only-of-type {\n",
       "        vertical-align: middle;\n",
       "    }\n",
       "\n",
       "    .dataframe tbody tr th {\n",
       "        vertical-align: top;\n",
       "    }\n",
       "\n",
       "    .dataframe thead th {\n",
       "        text-align: right;\n",
       "    }\n",
       "</style>\n",
       "<table border=\"1\" class=\"dataframe\">\n",
       "  <thead>\n",
       "    <tr style=\"text-align: right;\">\n",
       "      <th></th>\n",
       "      <th>children</th>\n",
       "      <th>days_employed</th>\n",
       "      <th>dob_years</th>\n",
       "      <th>education</th>\n",
       "      <th>education_id</th>\n",
       "      <th>family_status</th>\n",
       "      <th>family_status_id</th>\n",
       "      <th>gender</th>\n",
       "      <th>income_type</th>\n",
       "      <th>debt</th>\n",
       "      <th>total_income</th>\n",
       "      <th>purpose</th>\n",
       "    </tr>\n",
       "  </thead>\n",
       "  <tbody>\n",
       "    <tr>\n",
       "      <td>12</td>\n",
       "      <td>0</td>\n",
       "      <td>NaN</td>\n",
       "      <td>65</td>\n",
       "      <td>среднее</td>\n",
       "      <td>1</td>\n",
       "      <td>гражданский брак</td>\n",
       "      <td>1</td>\n",
       "      <td>M</td>\n",
       "      <td>пенсионер</td>\n",
       "      <td>0</td>\n",
       "      <td>NaN</td>\n",
       "      <td>сыграть свадьбу</td>\n",
       "    </tr>\n",
       "    <tr>\n",
       "      <td>26</td>\n",
       "      <td>0</td>\n",
       "      <td>NaN</td>\n",
       "      <td>41</td>\n",
       "      <td>среднее</td>\n",
       "      <td>1</td>\n",
       "      <td>женат / замужем</td>\n",
       "      <td>0</td>\n",
       "      <td>M</td>\n",
       "      <td>госслужащий</td>\n",
       "      <td>0</td>\n",
       "      <td>NaN</td>\n",
       "      <td>образование</td>\n",
       "    </tr>\n",
       "    <tr>\n",
       "      <td>29</td>\n",
       "      <td>0</td>\n",
       "      <td>NaN</td>\n",
       "      <td>63</td>\n",
       "      <td>среднее</td>\n",
       "      <td>1</td>\n",
       "      <td>Не женат / не замужем</td>\n",
       "      <td>4</td>\n",
       "      <td>F</td>\n",
       "      <td>пенсионер</td>\n",
       "      <td>0</td>\n",
       "      <td>NaN</td>\n",
       "      <td>строительство жилой недвижимости</td>\n",
       "    </tr>\n",
       "    <tr>\n",
       "      <td>41</td>\n",
       "      <td>0</td>\n",
       "      <td>NaN</td>\n",
       "      <td>50</td>\n",
       "      <td>среднее</td>\n",
       "      <td>1</td>\n",
       "      <td>женат / замужем</td>\n",
       "      <td>0</td>\n",
       "      <td>F</td>\n",
       "      <td>госслужащий</td>\n",
       "      <td>0</td>\n",
       "      <td>NaN</td>\n",
       "      <td>сделка с подержанным автомобилем</td>\n",
       "    </tr>\n",
       "    <tr>\n",
       "      <td>55</td>\n",
       "      <td>0</td>\n",
       "      <td>NaN</td>\n",
       "      <td>54</td>\n",
       "      <td>среднее</td>\n",
       "      <td>1</td>\n",
       "      <td>гражданский брак</td>\n",
       "      <td>1</td>\n",
       "      <td>F</td>\n",
       "      <td>пенсионер</td>\n",
       "      <td>1</td>\n",
       "      <td>NaN</td>\n",
       "      <td>сыграть свадьбу</td>\n",
       "    </tr>\n",
       "  </tbody>\n",
       "</table>\n",
       "</div>"
      ],
      "text/plain": [
       "    children  days_employed  dob_years education  education_id  \\\n",
       "12         0            NaN         65   среднее             1   \n",
       "26         0            NaN         41   среднее             1   \n",
       "29         0            NaN         63   среднее             1   \n",
       "41         0            NaN         50   среднее             1   \n",
       "55         0            NaN         54   среднее             1   \n",
       "\n",
       "            family_status  family_status_id gender  income_type  debt  \\\n",
       "12       гражданский брак                 1      M    пенсионер     0   \n",
       "26        женат / замужем                 0      M  госслужащий     0   \n",
       "29  Не женат / не замужем                 4      F    пенсионер     0   \n",
       "41        женат / замужем                 0      F  госслужащий     0   \n",
       "55       гражданский брак                 1      F    пенсионер     1   \n",
       "\n",
       "    total_income                           purpose  \n",
       "12           NaN                   сыграть свадьбу  \n",
       "26           NaN                       образование  \n",
       "29           NaN  строительство жилой недвижимости  \n",
       "41           NaN  сделка с подержанным автомобилем  \n",
       "55           NaN                   сыграть свадьбу  "
      ]
     },
     "execution_count": 4,
     "metadata": {},
     "output_type": "execute_result"
    }
   ],
   "source": [
    "# с помощью фильтрации создадим таблицу\n",
    "data_nan = data[data['total_income'].isna()]\n",
    "data_nan.head() # выведем на экран первые 5 строк"
   ]
  },
  {
   "cell_type": "markdown",
   "metadata": {},
   "source": [
    "Теперь посчитаем в этой таблице количество пропусков по столбцу days_employed, если их количество равно 2174, то можно сделать вывод, что строки с пропусками у столбцов с пропусками совпадают:"
   ]
  },
  {
   "cell_type": "code",
   "execution_count": 5,
   "metadata": {},
   "outputs": [
    {
     "data": {
      "text/plain": [
       "2174"
      ]
     },
     "execution_count": 5,
     "metadata": {},
     "output_type": "execute_result"
    }
   ],
   "source": [
    "# с помощью фильтрации найдём строки, в которых есть пропуски в столбце 'days_employed' \n",
    "# и с помощью len найдём количество строк.\n",
    "len(data_nan[data_nan['days_employed'].isna()])"
   ]
  },
  {
   "cell_type": "markdown",
   "metadata": {},
   "source": [
    "* Все строки в столбце со стажем с пропусками, можно делать вывод, что пропущенные значения в столбцах со стажем и общим доходом совпадают.\n",
    "* Учитывая, что пропуски в одинаковых строках и в столбцах, природа их возникновения, вероятно, одинаковая - скорее всего банк не смог получить по данным клиентам информацию от работадателя. \n",
    "* Пропущенные данные являются количественными.\n",
    "* В данном исследовании пропуски в столбце со стажем не являются критичными, они никак не будут влиять на результаты.\n",
    "* Пропуски же в столбце с доходами не дадут провести исследование."
   ]
  },
  {
   "cell_type": "markdown",
   "metadata": {},
   "source": [
    "***Устранение пропущенных значений в столбце с ежемесячным уровнем доходов***"
   ]
  },
  {
   "cell_type": "markdown",
   "metadata": {},
   "source": [
    "Количественные значения можно заменить средним значением или медианой. В случае оценки зарплат, лучше всего подходит медиана, так как выбросы в виде слишком высоких или слишком низких зарплат могут внести весомый вклад в оценку.\n",
    "\n",
    "Также, есть предположение, что медианная зарплата для разных значений income_type будет сильно отличаться. К примеру, можно предположить, что медианная зарплата пенсионера явно меньше, чем медиана компаньона, поэтому было бы логичнее подставлять пенсионерам медиану пенсионеров и тд. \n",
    "Посмотрим, каким позициям в income_type соответствуют пропуски и какое количество:"
   ]
  },
  {
   "cell_type": "code",
   "execution_count": 6,
   "metadata": {},
   "outputs": [
    {
     "data": {
      "text/plain": [
       "сотрудник          1105\n",
       "компаньон           508\n",
       "пенсионер           413\n",
       "госслужащий         147\n",
       "предприниматель       1\n",
       "Name: income_type, dtype: int64"
      ]
     },
     "execution_count": 6,
     "metadata": {},
     "output_type": "execute_result"
    }
   ],
   "source": [
    "# получим наименования типов занятости и количество пропусков в каждом из них\n",
    "data[data['total_income'].isna()]['income_type'].value_counts()"
   ]
  },
  {
   "cell_type": "markdown",
   "metadata": {},
   "source": [
    "Посчитаем соответствующие медианы:"
   ]
  },
  {
   "cell_type": "code",
   "execution_count": 7,
   "metadata": {},
   "outputs": [
    {
     "name": "stdout",
     "output_type": "stream",
     "text": [
      "Медиана сотрудников: 142594.39684740017\n",
      "Медиана компаньонов: 172357.95096577113\n",
      "Медиана пенсионеров: 118514.48641164352\n",
      "Медиана госслужащих:  150447.9352830068\n",
      "Медиана предпринимателей: 499163.1449470857\n",
      "Медиана общая: 145017.93753253992\n"
     ]
    }
   ],
   "source": [
    "# применяем логическую фильтрацию и посчитаем медиану с помощью median() для каждого типа занятости, а также в целом\n",
    "employee_median_income = data[data['income_type'] == 'сотрудник']['total_income'].median()\n",
    "companion_median_income = data[data['income_type'] == 'компаньон']['total_income'].median()\n",
    "pensioner_median_income = data[data['income_type'] == 'пенсионер']['total_income'].median()\n",
    "gov_median_income = data[data['income_type'] == 'госслужащий']['total_income'].median()\n",
    "businessman_median_income = data[data['income_type'] == 'предприниматель']['total_income'].median()\n",
    "total_median_income = data['total_income'].median()\n",
    "# Выведем на экран значения медиан, для сравнения\n",
    "print('Медиана сотрудников:', employee_median_income)\n",
    "print('Медиана компаньонов:', companion_median_income)\n",
    "print('Медиана пенсионеров:', pensioner_median_income)\n",
    "print('Медиана госслужащих: ', gov_median_income)\n",
    "print('Медиана предпринимателей:', businessman_median_income)\n",
    "print('Медиана общая:', total_median_income)"
   ]
  },
  {
   "cell_type": "markdown",
   "metadata": {},
   "source": [
    "Как видно, медиана пенсионеров, компаньонов и предпринимателей довольно сильно отличаются друг от друга и от общей, поэтому лучше заменить пропущенные значения согласно типу занятости."
   ]
  },
  {
   "cell_type": "code",
   "execution_count": 8,
   "metadata": {},
   "outputs": [],
   "source": [
    "# при помощи логической индексации заполняем пропуски в строках согласно значению типа занятости\n",
    "# для этого обращаемся с помощью loc. к строкам с соответствующим 'income_type', и столбцам 'total_income'\n",
    "# присваем значение медиан в этих строках в столбце 'total_income' \n",
    "data.loc[data['income_type'] == 'пенсионер', 'total_income'] = data['total_income'].fillna(value=pensioner_median_income)\n",
    "data.loc[data['income_type'] == 'сотрудник', 'total_income'] = data['total_income'].fillna(value=employee_median_income)\n",
    "data.loc[data['income_type'] == 'компаньон', 'total_income'] = data['total_income'].fillna(value=companion_median_income)\n",
    "data.loc[data['income_type'] == 'предприниматель', 'total_income'] = data['total_income'].fillna(value=businessman_median_income)\n",
    "data.loc[data['income_type'] == 'госслужащий', 'total_income'] = data['total_income'].fillna(value=gov_median_income)"
   ]
  },
  {
   "cell_type": "markdown",
   "metadata": {},
   "source": [
    "Посчитаем количество пропусков:"
   ]
  },
  {
   "cell_type": "code",
   "execution_count": 9,
   "metadata": {},
   "outputs": [
    {
     "data": {
      "text/plain": [
       "0"
      ]
     },
     "execution_count": 9,
     "metadata": {},
     "output_type": "execute_result"
    }
   ],
   "source": [
    "# Проверим теперь количество пропусков в столбце 'total_income'\n",
    "data['total_income'].isna().sum()"
   ]
  },
  {
   "cell_type": "markdown",
   "metadata": {},
   "source": [
    "Пропуски в столбце со значениями уровня дохода устранены."
   ]
  },
  {
   "cell_type": "markdown",
   "metadata": {},
   "source": [
    "***Устранение пропущенных значений в столбце со стажем***"
   ]
  },
  {
   "cell_type": "markdown",
   "metadata": {},
   "source": [
    "Стаж вероятнее всего сильно зависит от возраста. Но, так как в данном исследовании влияние стажа никак не будет учитываться, замением его для простоты на значение медианы для всех строк."
   ]
  },
  {
   "cell_type": "code",
   "execution_count": 10,
   "metadata": {},
   "outputs": [
    {
     "name": "stdout",
     "output_type": "stream",
     "text": [
      "Значение медианы для столбца со стажем: -1203.369528770489\n"
     ]
    }
   ],
   "source": [
    "# посчитаем значением медианы стажа\n",
    "days_employed_median = data['days_employed'].median() \n",
    "print('Значение медианы для столбца со стажем:', days_employed_median)"
   ]
  },
  {
   "cell_type": "markdown",
   "metadata": {},
   "source": [
    "Значение медианы получилось отрицательным, и действительно, в таблице видно, что некоторые значения стажа отрицательные.\n",
    "Скорее всего это связано с тем, как заполняли поле со стажем.\n",
    "Скорее всего минус - это тире. Соответственно, можно все отрицательные значения стажа заменить на положительные."
   ]
  },
  {
   "cell_type": "code",
   "execution_count": 11,
   "metadata": {},
   "outputs": [
    {
     "data": {
      "text/plain": [
       "15906"
      ]
     },
     "execution_count": 11,
     "metadata": {},
     "output_type": "execute_result"
    }
   ],
   "source": [
    "# выведем количество отрицательных значений в столбце 'days_employed'\n",
    "data[data['days_employed'] < 0]['days_employed'].count()"
   ]
  },
  {
   "cell_type": "markdown",
   "metadata": {},
   "source": [
    "Как видно, данная ошибка встречается в большинстве случаев. Неплохо бы проверить, почему так получается... Ошибка явно системная.\n",
    "Заменим отрицательные значения на положительные:"
   ]
  },
  {
   "cell_type": "code",
   "execution_count": 12,
   "metadata": {},
   "outputs": [
    {
     "data": {
      "text/plain": [
       "0"
      ]
     },
     "execution_count": 12,
     "metadata": {},
     "output_type": "execute_result"
    }
   ],
   "source": [
    "# применим функцию abs() к столбцу 'data_employed', чтобы заменить отрицательные значения на положительные\n",
    "# выведем количество отрицательных значений в столбце 'days_employed'\n",
    "data['days_employed'] = data['days_employed'].apply(abs)\n",
    "data[data['days_employed'] < 0]['days_employed'].count()"
   ]
  },
  {
   "cell_type": "code",
   "execution_count": 13,
   "metadata": {},
   "outputs": [
    {
     "name": "stdout",
     "output_type": "stream",
     "text": [
      "Значение медианы для столбца со стажем: 2194.220566878695\n"
     ]
    }
   ],
   "source": [
    "# посчитаем значением медианы стажа\n",
    "days_employed_median = data['days_employed'].median() \n",
    "print('Значение медианы для столбца со стажем:', days_employed_median)"
   ]
  },
  {
   "cell_type": "markdown",
   "metadata": {},
   "source": [
    "Заменим пропущенные значения на медиану:"
   ]
  },
  {
   "cell_type": "code",
   "execution_count": 14,
   "metadata": {},
   "outputs": [],
   "source": [
    "# заменим пропущенные значения на медиану\n",
    "data['days_employed'] = data['days_employed'].fillna(value=days_employed_median)"
   ]
  },
  {
   "cell_type": "code",
   "execution_count": 15,
   "metadata": {},
   "outputs": [
    {
     "data": {
      "text/plain": [
       "children            0\n",
       "days_employed       0\n",
       "dob_years           0\n",
       "education           0\n",
       "education_id        0\n",
       "family_status       0\n",
       "family_status_id    0\n",
       "gender              0\n",
       "income_type         0\n",
       "debt                0\n",
       "total_income        0\n",
       "purpose             0\n",
       "dtype: int64"
      ]
     },
     "execution_count": 15,
     "metadata": {},
     "output_type": "execute_result"
    }
   ],
   "source": [
    "# посчитаем теперь количество пропусков в таблице в целом\n",
    "data.isna().sum()"
   ]
  },
  {
   "cell_type": "markdown",
   "metadata": {},
   "source": [
    "**Вывод**\n",
    "* Пропущенные значения встречаются в одинаковых строках, вероятно не удалось получить данные из какого-то источника;\n",
    "* пропущенные данные являются количественными;\n",
    "* пропуски в столбце с ежемесячным доходом заменены на медианы соответствующих типов занятости;\n",
    "* значения в столбце со стажем содержали артефакты - отрицательные значения. Предположительно из-за некорректного заполнения;\n",
    "* количество отрицательных значений больше половины, что говорит о системности данной проблемы;\n",
    "* количество отрицательных значений больше половины, что говорит о системности данной проблемы;\n",
    "* отрицательные значения были заменены на положительные;\n",
    "* пропущенные значения были заменены на медиану по данным без разделения данных на группы по возрасту."
   ]
  },
  {
   "cell_type": "markdown",
   "metadata": {},
   "source": [
    "<a id=\"type_change\"></a>\n",
    "### Замена типа данных"
   ]
  },
  {
   "cell_type": "markdown",
   "metadata": {},
   "source": [
    "Выведем общую информацию о таблице:"
   ]
  },
  {
   "cell_type": "code",
   "execution_count": 16,
   "metadata": {},
   "outputs": [
    {
     "name": "stdout",
     "output_type": "stream",
     "text": [
      "<class 'pandas.core.frame.DataFrame'>\n",
      "RangeIndex: 21525 entries, 0 to 21524\n",
      "Data columns (total 12 columns):\n",
      "children            21525 non-null int64\n",
      "days_employed       21525 non-null float64\n",
      "dob_years           21525 non-null int64\n",
      "education           21525 non-null object\n",
      "education_id        21525 non-null int64\n",
      "family_status       21525 non-null object\n",
      "family_status_id    21525 non-null int64\n",
      "gender              21525 non-null object\n",
      "income_type         21525 non-null object\n",
      "debt                21525 non-null int64\n",
      "total_income        21525 non-null float64\n",
      "purpose             21525 non-null object\n",
      "dtypes: float64(2), int64(5), object(5)\n",
      "memory usage: 11.3 MB\n"
     ]
    }
   ],
   "source": [
    "data.info(memory_usage='deep')"
   ]
  },
  {
   "cell_type": "markdown",
   "metadata": {},
   "source": [
    "Количество памяти занимаемой таблицей - 11,3 Мб.\n",
    "Тип данных в столбцах со стажем и ежемесячным доходом - вещественные. В остальных ячейках int64, что для большинства случае избыточно. Заменим их на целочисленные. Существует несколько типов int:\n",
    "* int8 - максимальное число - 127, минимальное - -128 размер занимаемой памяти 1 байт\n",
    "* int16 - максимальное число - 32767,минимальное - -32768 размер занимаемой памяти 2 байт\n",
    "* int32 - максимальное число - 2147483647,минимальное - -2147483648 размер занимаемой памяти 4 байт\n",
    "* int64 - максимальное число - 9223372036854775807,минимальное - -9223372036854775808 размер занимаемой памяти 8 байт\n",
    "Узнаем максимальные значения, которые принимают значения в столбцах с float64 и int64, чтобы определить, какой тип данных выбрать, чтобы при этом выделить как можно меньше памяти: "
   ]
  },
  {
   "cell_type": "code",
   "execution_count": 17,
   "metadata": {},
   "outputs": [
    {
     "name": "stdout",
     "output_type": "stream",
     "text": [
      "Макисмальное значение в столбце children = 20\n",
      "Минимальное значение в столбце children = -1\n",
      "Макисмальное значение в столбце days_employed = 401755.40047533\n",
      "Минимальное значение в столбце days_employed = 24.14163324048118\n",
      "Макисмальное значение в столбце dob_years = 75\n",
      "Минимальное значение в столбце dob_years = 0\n",
      "Макисмальное значение в столбце education_id = 4\n",
      "Минимальное значение в столбце education_id = 0\n",
      "Макисмальное значение в столбце family_status_id = 4\n",
      "Минимальное значение в столбце family_status_id = 0\n",
      "Макисмальное значение в столбце debt = 1\n",
      "Минимальное значение в столбце debt = 0\n",
      "Макисмальное значение в столбце total_income = 2265604.028722744\n",
      "Минимальное значение в столбце total_income = 20667.26379327158\n"
     ]
    }
   ],
   "source": [
    "for column in data.columns:\n",
    "    if (data[column].dtype == 'int64') or (data[column].dtype == 'float64'):\n",
    "        print(f'Макисмальное значение в столбце {column} = {data[column].max()}')\n",
    "        print(f'Минимальное значение в столбце {column} = {data[column].min()}')\n",
    "    "
   ]
  },
  {
   "cell_type": "markdown",
   "metadata": {},
   "source": [
    "* максимальное значение столбца children=20, подойдёт int8;\n",
    "* максимальное значение столбца days_employed=401755, подойдёт int32, но стоит заметить, что данное значение в днях соотвествует более тысячи лет, ниже проверим, что с этим можно сделать;\n",
    "* максимальное значение столбца dob_years=75, подойдёт int8;\n",
    "* максимальное значение столбца education_id=4, подойдёт int8;\n",
    "* максимальное значение столбца family_status_id=4, подойдёт int8;\n",
    "* максимальное значение столбца debt=1, подойдёт int8;\n",
    "* максимальное значение столбца total_income=2265604, подойдёт int32;\n",
    "\n",
    "Также, для всех столбов можно брать uint, так как все числа должны быть положительными, но, учитывая, что встречаются отрицательные значения там, где их быть не должно, более стабильно в данном случае использовать просто int."
   ]
  },
  {
   "cell_type": "markdown",
   "metadata": {},
   "source": [
    "Заменим типы данных:"
   ]
  },
  {
   "cell_type": "code",
   "execution_count": 18,
   "metadata": {},
   "outputs": [
    {
     "name": "stdout",
     "output_type": "stream",
     "text": [
      "<class 'pandas.core.frame.DataFrame'>\n",
      "RangeIndex: 21525 entries, 0 to 21524\n",
      "Data columns (total 12 columns):\n",
      "children            21525 non-null int8\n",
      "days_employed       21525 non-null int32\n",
      "dob_years           21525 non-null int8\n",
      "education           21525 non-null object\n",
      "education_id        21525 non-null int8\n",
      "family_status       21525 non-null object\n",
      "family_status_id    21525 non-null int8\n",
      "gender              21525 non-null object\n",
      "income_type         21525 non-null object\n",
      "debt                21525 non-null int8\n",
      "total_income        21525 non-null int32\n",
      "purpose             21525 non-null object\n",
      "dtypes: int32(2), int8(5), object(5)\n",
      "memory usage: 10.4 MB\n"
     ]
    }
   ],
   "source": [
    "data['children'] = data['children'].astype('int8')\n",
    "data['days_employed'] = data['days_employed'].astype('int32')\n",
    "data['dob_years'] = data['dob_years'].astype('int8')\n",
    "data['education_id'] = data['education_id'].astype('int8')\n",
    "data['family_status_id'] = data['family_status_id'].astype('int8')\n",
    "data['debt'] = data['debt'].astype('int8')\n",
    "data['total_income'] = data['total_income'].astype('int32')\n",
    "data.info(memory_usage='deep')"
   ]
  },
  {
   "cell_type": "markdown",
   "metadata": {},
   "source": [
    "Проверим столбцец со стажем, посчитаем количество людей со стажем более 100 000 дней."
   ]
  },
  {
   "cell_type": "code",
   "execution_count": 19,
   "metadata": {},
   "outputs": [
    {
     "data": {
      "text/plain": [
       "3445"
      ]
     },
     "execution_count": 19,
     "metadata": {},
     "output_type": "execute_result"
    }
   ],
   "source": [
    "data[data['days_employed'] > 100000]['days_employed'].count()"
   ]
  },
  {
   "cell_type": "markdown",
   "metadata": {},
   "source": [
    "Проверим столбцец со стажем, посчитаем количество пропусков со стажем более 20 000, что соответствует стажу в 55 лет."
   ]
  },
  {
   "cell_type": "code",
   "execution_count": 20,
   "metadata": {},
   "outputs": [
    {
     "data": {
      "text/plain": [
       "3445"
      ]
     },
     "execution_count": 20,
     "metadata": {},
     "output_type": "execute_result"
    }
   ],
   "source": [
    "data[data['days_employed'] > 20000]['days_employed'].count()"
   ]
  },
  {
   "cell_type": "markdown",
   "metadata": {},
   "source": [
    "Получилось такое же количество. То есть значения с ошибкой колеблются в диапозоне 100-400 тысяч - они одного порядка. Посмотрим мединанный стаж:"
   ]
  },
  {
   "cell_type": "code",
   "execution_count": 21,
   "metadata": {},
   "outputs": [
    {
     "data": {
      "text/plain": [
       "2194.0"
      ]
     },
     "execution_count": 21,
     "metadata": {},
     "output_type": "execute_result"
    }
   ],
   "source": [
    "data['days_employed'].median()"
   ]
  },
  {
   "cell_type": "markdown",
   "metadata": {},
   "source": [
    "Порядок медианы - тысячи, порядок явно ошибочных значений - сотни тысяч. Ошибка в 2 порядка, исправим ее, поделив все значения выше 100 тысяч на 100."
   ]
  },
  {
   "cell_type": "code",
   "execution_count": 22,
   "metadata": {},
   "outputs": [
    {
     "data": {
      "text/html": [
       "<div>\n",
       "<style scoped>\n",
       "    .dataframe tbody tr th:only-of-type {\n",
       "        vertical-align: middle;\n",
       "    }\n",
       "\n",
       "    .dataframe tbody tr th {\n",
       "        vertical-align: top;\n",
       "    }\n",
       "\n",
       "    .dataframe thead th {\n",
       "        text-align: right;\n",
       "    }\n",
       "</style>\n",
       "<table border=\"1\" class=\"dataframe\">\n",
       "  <thead>\n",
       "    <tr style=\"text-align: right;\">\n",
       "      <th></th>\n",
       "      <th>children</th>\n",
       "      <th>days_employed</th>\n",
       "      <th>dob_years</th>\n",
       "      <th>education</th>\n",
       "      <th>education_id</th>\n",
       "      <th>family_status</th>\n",
       "      <th>family_status_id</th>\n",
       "      <th>gender</th>\n",
       "      <th>income_type</th>\n",
       "      <th>debt</th>\n",
       "      <th>total_income</th>\n",
       "      <th>purpose</th>\n",
       "    </tr>\n",
       "  </thead>\n",
       "  <tbody>\n",
       "    <tr>\n",
       "      <td>0</td>\n",
       "      <td>1</td>\n",
       "      <td>8437.00</td>\n",
       "      <td>42</td>\n",
       "      <td>высшее</td>\n",
       "      <td>0</td>\n",
       "      <td>женат / замужем</td>\n",
       "      <td>0</td>\n",
       "      <td>F</td>\n",
       "      <td>сотрудник</td>\n",
       "      <td>0</td>\n",
       "      <td>253875</td>\n",
       "      <td>покупка жилья</td>\n",
       "    </tr>\n",
       "    <tr>\n",
       "      <td>1</td>\n",
       "      <td>1</td>\n",
       "      <td>4024.00</td>\n",
       "      <td>36</td>\n",
       "      <td>среднее</td>\n",
       "      <td>1</td>\n",
       "      <td>женат / замужем</td>\n",
       "      <td>0</td>\n",
       "      <td>F</td>\n",
       "      <td>сотрудник</td>\n",
       "      <td>0</td>\n",
       "      <td>112080</td>\n",
       "      <td>приобретение автомобиля</td>\n",
       "    </tr>\n",
       "    <tr>\n",
       "      <td>2</td>\n",
       "      <td>0</td>\n",
       "      <td>5623.00</td>\n",
       "      <td>33</td>\n",
       "      <td>Среднее</td>\n",
       "      <td>1</td>\n",
       "      <td>женат / замужем</td>\n",
       "      <td>0</td>\n",
       "      <td>M</td>\n",
       "      <td>сотрудник</td>\n",
       "      <td>0</td>\n",
       "      <td>145885</td>\n",
       "      <td>покупка жилья</td>\n",
       "    </tr>\n",
       "    <tr>\n",
       "      <td>3</td>\n",
       "      <td>3</td>\n",
       "      <td>4124.00</td>\n",
       "      <td>32</td>\n",
       "      <td>среднее</td>\n",
       "      <td>1</td>\n",
       "      <td>женат / замужем</td>\n",
       "      <td>0</td>\n",
       "      <td>M</td>\n",
       "      <td>сотрудник</td>\n",
       "      <td>0</td>\n",
       "      <td>267628</td>\n",
       "      <td>дополнительное образование</td>\n",
       "    </tr>\n",
       "    <tr>\n",
       "      <td>4</td>\n",
       "      <td>0</td>\n",
       "      <td>3402.66</td>\n",
       "      <td>53</td>\n",
       "      <td>среднее</td>\n",
       "      <td>1</td>\n",
       "      <td>гражданский брак</td>\n",
       "      <td>1</td>\n",
       "      <td>F</td>\n",
       "      <td>пенсионер</td>\n",
       "      <td>0</td>\n",
       "      <td>158616</td>\n",
       "      <td>сыграть свадьбу</td>\n",
       "    </tr>\n",
       "  </tbody>\n",
       "</table>\n",
       "</div>"
      ],
      "text/plain": [
       "   children  days_employed  dob_years education  education_id  \\\n",
       "0         1        8437.00         42    высшее             0   \n",
       "1         1        4024.00         36   среднее             1   \n",
       "2         0        5623.00         33   Среднее             1   \n",
       "3         3        4124.00         32   среднее             1   \n",
       "4         0        3402.66         53   среднее             1   \n",
       "\n",
       "      family_status  family_status_id gender income_type  debt  total_income  \\\n",
       "0   женат / замужем                 0      F   сотрудник     0        253875   \n",
       "1   женат / замужем                 0      F   сотрудник     0        112080   \n",
       "2   женат / замужем                 0      M   сотрудник     0        145885   \n",
       "3   женат / замужем                 0      M   сотрудник     0        267628   \n",
       "4  гражданский брак                 1      F   пенсионер     0        158616   \n",
       "\n",
       "                      purpose  \n",
       "0               покупка жилья  \n",
       "1     приобретение автомобиля  \n",
       "2               покупка жилья  \n",
       "3  дополнительное образование  \n",
       "4             сыграть свадьбу  "
      ]
     },
     "execution_count": 22,
     "metadata": {},
     "output_type": "execute_result"
    }
   ],
   "source": [
    "data.loc[data['days_employed'] > 100000, 'days_employed'] = data['days_employed'] / 100\n",
    "data.head()"
   ]
  },
  {
   "cell_type": "markdown",
   "metadata": {},
   "source": [
    "Приведём теперь столбец к формату int16, так как максимальное значение - менее 20 000."
   ]
  },
  {
   "cell_type": "code",
   "execution_count": 23,
   "metadata": {},
   "outputs": [
    {
     "name": "stdout",
     "output_type": "stream",
     "text": [
      "<class 'pandas.core.frame.DataFrame'>\n",
      "RangeIndex: 21525 entries, 0 to 21524\n",
      "Data columns (total 12 columns):\n",
      "children            21525 non-null int8\n",
      "days_employed       21525 non-null int16\n",
      "dob_years           21525 non-null int8\n",
      "education           21525 non-null object\n",
      "education_id        21525 non-null int8\n",
      "family_status       21525 non-null object\n",
      "family_status_id    21525 non-null int8\n",
      "gender              21525 non-null object\n",
      "income_type         21525 non-null object\n",
      "debt                21525 non-null int8\n",
      "total_income        21525 non-null int32\n",
      "purpose             21525 non-null object\n",
      "dtypes: int16(1), int32(1), int8(5), object(5)\n",
      "memory usage: 10.4 MB\n"
     ]
    }
   ],
   "source": [
    "data['days_employed'] = data['days_employed'].astype('int16')\n",
    "data.info(memory_usage='deep')"
   ]
  },
  {
   "cell_type": "markdown",
   "metadata": {},
   "source": [
    "Количество занимаемой памяти теперь 10,4 Мб."
   ]
  },
  {
   "cell_type": "code",
   "execution_count": 24,
   "metadata": {},
   "outputs": [
    {
     "name": "stdout",
     "output_type": "stream",
     "text": [
      "Количество занимаемой памяти уменьшилось на 7.964601769911511%\n"
     ]
    }
   ],
   "source": [
    "print(f'Количество занимаемой памяти уменьшилось на {100-(10.4/11.3)*100}%')"
   ]
  },
  {
   "cell_type": "markdown",
   "metadata": {},
   "source": [
    "Заменим тип данных в столбцах `'family_status'` и `'education' `на `'category'`. `Category`  - занимает в каждой ячейке 1 байт, как int8."
   ]
  },
  {
   "cell_type": "code",
   "execution_count": 25,
   "metadata": {},
   "outputs": [
    {
     "name": "stdout",
     "output_type": "stream",
     "text": [
      "<class 'pandas.core.frame.DataFrame'>\n",
      "RangeIndex: 21525 entries, 0 to 21524\n",
      "Data columns (total 12 columns):\n",
      "children            21525 non-null int8\n",
      "days_employed       21525 non-null int16\n",
      "dob_years           21525 non-null int8\n",
      "education           21525 non-null category\n",
      "education_id        21525 non-null int8\n",
      "family_status       21525 non-null category\n",
      "family_status_id    21525 non-null int8\n",
      "gender              21525 non-null object\n",
      "income_type         21525 non-null object\n",
      "debt                21525 non-null int8\n",
      "total_income        21525 non-null int32\n",
      "purpose             21525 non-null object\n",
      "dtypes: category(2), int16(1), int32(1), int8(5), object(3)\n",
      "memory usage: 6.1 MB\n"
     ]
    }
   ],
   "source": [
    "data['family_status'] = data['family_status'].astype('category')\n",
    "data['education'] = data['education'].astype('category')\n",
    "data.info(memory_usage='deep')"
   ]
  },
  {
   "cell_type": "markdown",
   "metadata": {},
   "source": [
    "Данная замена позволила уменьшить вес таблицы с 10,4 MB до 6,1 MB."
   ]
  },
  {
   "cell_type": "code",
   "execution_count": 48,
   "metadata": {},
   "outputs": [
    {
     "name": "stdout",
     "output_type": "stream",
     "text": [
      "Количество занимаемой памяти уменьшилось на 46.01769911504425%\n"
     ]
    }
   ],
   "source": [
    "print(f'Количество занимаемой памяти уменьшилось на {100-(6.1/11.3)*100}%')"
   ]
  },
  {
   "cell_type": "markdown",
   "metadata": {},
   "source": [
    "**Вывод**"
   ]
  },
  {
   "cell_type": "markdown",
   "metadata": {},
   "source": [
    "Типы данных в предлагаемой таблице заменены на более оптимальные с точки зрения занимаемой памяти. Таким образом, количество занимаемой памяти удалось уменьшить на 46%"
   ]
  },
  {
   "cell_type": "markdown",
   "metadata": {},
   "source": [
    "<a id=\"duplicated\"></a>\n",
    "### Обработка дубликатов"
   ]
  },
  {
   "cell_type": "markdown",
   "metadata": {},
   "source": [
    "Обработаем явные дупликаты:"
   ]
  },
  {
   "cell_type": "code",
   "execution_count": 26,
   "metadata": {},
   "outputs": [
    {
     "data": {
      "text/plain": [
       "54"
      ]
     },
     "execution_count": 26,
     "metadata": {},
     "output_type": "execute_result"
    }
   ],
   "source": [
    "# посчитаем явные дупликаты\n",
    "data.duplicated().sum()"
   ]
  },
  {
   "cell_type": "code",
   "execution_count": 27,
   "metadata": {},
   "outputs": [
    {
     "data": {
      "text/plain": [
       "0"
      ]
     },
     "execution_count": 27,
     "metadata": {},
     "output_type": "execute_result"
    }
   ],
   "source": [
    "# удалим явные дупликаты\n",
    "data = data.drop_duplicates().reset_index(drop=True)\n",
    "# посчитаем явные дупликаты\n",
    "data.duplicated().sum()"
   ]
  },
  {
   "cell_type": "markdown",
   "metadata": {},
   "source": [
    "Обработаем неявные дупликаты:"
   ]
  },
  {
   "cell_type": "code",
   "execution_count": 28,
   "metadata": {},
   "outputs": [
    {
     "data": {
      "text/plain": [
       "среднее                13705\n",
       "высшее                  4710\n",
       "СРЕДНЕЕ                  772\n",
       "Среднее                  711\n",
       "неоконченное высшее      668\n",
       "ВЫСШЕЕ                   273\n",
       "Высшее                   268\n",
       "начальное                250\n",
       "Неоконченное высшее       47\n",
       "НЕОКОНЧЕННОЕ ВЫСШЕЕ       29\n",
       "НАЧАЛЬНОЕ                 17\n",
       "Начальное                 15\n",
       "ученая степень             4\n",
       "Ученая степень             1\n",
       "УЧЕНАЯ СТЕПЕНЬ             1\n",
       "Name: education, dtype: int64"
      ]
     },
     "execution_count": 28,
     "metadata": {},
     "output_type": "execute_result"
    }
   ],
   "source": [
    "# посчитаем количество уникальных значений в столбце 'education' с помощью метода value_counts()\n",
    "data['education'].value_counts()"
   ]
  },
  {
   "cell_type": "markdown",
   "metadata": {},
   "source": [
    "В данном столбце много дубликатов связанных с регистром букв - строчные и заглавные. Уберём их, применив метод str.lower()"
   ]
  },
  {
   "cell_type": "code",
   "execution_count": 29,
   "metadata": {},
   "outputs": [
    {
     "data": {
      "text/plain": [
       "среднее                15188\n",
       "высшее                  5251\n",
       "неоконченное высшее      744\n",
       "начальное                282\n",
       "ученая степень             6\n",
       "Name: education, dtype: int64"
      ]
     },
     "execution_count": 29,
     "metadata": {},
     "output_type": "execute_result"
    }
   ],
   "source": [
    "# приведем все значение в столбце 'education' к единому регистру с помощью str.lower()\n",
    "data['education'] = data['education'].str.lower()\n",
    "# применим метод value_counts(), чтобы посчитать обновлённые количества значений\n",
    "data['education'].value_counts()"
   ]
  },
  {
   "cell_type": "markdown",
   "metadata": {},
   "source": [
    "Проверим наличие неявных дупликатов в столбце с семейным положением:"
   ]
  },
  {
   "cell_type": "code",
   "execution_count": 30,
   "metadata": {},
   "outputs": [
    {
     "data": {
      "text/plain": [
       "женат / замужем          12344\n",
       "гражданский брак          4163\n",
       "Не женат / не замужем     2810\n",
       "в разводе                 1195\n",
       "вдовец / вдова             959\n",
       "Name: family_status, dtype: int64"
      ]
     },
     "execution_count": 30,
     "metadata": {},
     "output_type": "execute_result"
    }
   ],
   "source": [
    "# посчитаем количество уникальных значений в столбце 'family_status' с помощью метода value_counts()\n",
    "data['family_status'].value_counts()"
   ]
  },
  {
   "cell_type": "markdown",
   "metadata": {},
   "source": [
    "В столбце с семейным положением дупликатов связанных с типом регистра не обнаружено. Проверим остальные:"
   ]
  },
  {
   "cell_type": "markdown",
   "metadata": {},
   "source": [
    "Проверим наличие неявных дупликатов в столбце с типом дохода:"
   ]
  },
  {
   "cell_type": "code",
   "execution_count": 31,
   "metadata": {},
   "outputs": [
    {
     "data": {
      "text/plain": [
       "сотрудник          11091\n",
       "компаньон           5080\n",
       "пенсионер           3837\n",
       "госслужащий         1457\n",
       "предприниматель        2\n",
       "безработный            2\n",
       "в декрете              1\n",
       "студент                1\n",
       "Name: income_type, dtype: int64"
      ]
     },
     "execution_count": 31,
     "metadata": {},
     "output_type": "execute_result"
    }
   ],
   "source": [
    "# посчитаем количество уникальных значений в столбце 'income_type' с помощью метода value_counts()\n",
    "data['income_type'].value_counts()"
   ]
  },
  {
   "cell_type": "markdown",
   "metadata": {},
   "source": [
    "Проверим наличие неявных дупликатов в столбце с количеством детей:"
   ]
  },
  {
   "cell_type": "code",
   "execution_count": 32,
   "metadata": {},
   "outputs": [
    {
     "data": {
      "text/plain": [
       " 0     14107\n",
       " 1      4809\n",
       " 2      2052\n",
       " 3       330\n",
       " 20       76\n",
       "-1        47\n",
       " 4        41\n",
       " 5         9\n",
       "Name: children, dtype: int64"
      ]
     },
     "execution_count": 32,
     "metadata": {},
     "output_type": "execute_result"
    }
   ],
   "source": [
    "# посчитаем количество уникальных значений в столбце 'children с помощью метода value_counts()\n",
    "data['children'].value_counts()"
   ]
  },
  {
   "cell_type": "markdown",
   "metadata": {},
   "source": [
    "В столбце с количеством детей есть дубликат связанный с отрицательным значением. А также, можно заметить, что довольно много людей с количеством детей - 20, что выглядит неправдоподобно. Скорее всего это дупликат, заменим его на количество детей = 2. "
   ]
  },
  {
   "cell_type": "code",
   "execution_count": 33,
   "metadata": {},
   "outputs": [
    {
     "data": {
      "text/plain": [
       "0     14107\n",
       "1      4856\n",
       "2      2052\n",
       "3       330\n",
       "20       76\n",
       "4        41\n",
       "5         9\n",
       "Name: children, dtype: int64"
      ]
     },
     "execution_count": 33,
     "metadata": {},
     "output_type": "execute_result"
    }
   ],
   "source": [
    "# применим функцию abs методом apply ко всему столбцу()\n",
    "data['children'] = data['children'].apply(abs)\n",
    "# # посчитаем количество уникальных значений в столбце 'children с помощью метода value_counts()\n",
    "data['children'].value_counts()"
   ]
  },
  {
   "cell_type": "code",
   "execution_count": 34,
   "metadata": {},
   "outputs": [
    {
     "data": {
      "text/plain": [
       "0    14107\n",
       "1     4856\n",
       "2     2128\n",
       "3      330\n",
       "4       41\n",
       "5        9\n",
       "Name: children, dtype: int64"
      ]
     },
     "execution_count": 34,
     "metadata": {},
     "output_type": "execute_result"
    }
   ],
   "source": [
    "# точечно заменим значения количества детей 20 на 2 с помощью логической индексации\n",
    "data.loc[data['children'] == 20, 'children'] = 2\n",
    "data['children'] = data['children'].astype('int8')\n",
    "# # посчитаем количество уникальных значений в столбце 'children с помощью метода value_counts()\n",
    "data['children'].value_counts()"
   ]
  },
  {
   "cell_type": "markdown",
   "metadata": {},
   "source": [
    "**Вывод**"
   ]
  },
  {
   "cell_type": "markdown",
   "metadata": {},
   "source": [
    "* Были посчитаны явные дупликаты и удалены методом `drop_duplicates()`\n",
    "* были выявлены неявные дупликаты в столбце 'education' связанные с регистром. Для посчёта и выявления был использован метод `value_counts()`;\n",
    "* с помощью метода `str.lower()` все значения в столбце `'education'` были приведены к нижнему регистру;\n",
    "* в других столбцах дупликаты не были выявлены\n",
    "* возможная причина появления дупликатов с регистром является то, что не было явных правил по заполнению, допускалось заполнение и верхним и нижним регистром;\n",
    "* в столбце с количеством детей были неявные дупликаты в виде количества детей равного отрицательному значению и значению 20 вместо 2. Возможно, 20 это семьи, количество детей в которых больше 5, в любом случае, 76 - это меньше одного процента данных.\n"
   ]
  },
  {
   "cell_type": "markdown",
   "metadata": {},
   "source": [
    "<a id=\"lemmatize\"></a>\n",
    "### Лемматизация"
   ]
  },
  {
   "cell_type": "markdown",
   "metadata": {},
   "source": [
    "Лемматизация - приведение слова к его словарной форме (лемме). "
   ]
  },
  {
   "cell_type": "markdown",
   "metadata": {},
   "source": [
    "Проведем лемматизацию столбца с целями кредита: "
   ]
  },
  {
   "cell_type": "code",
   "execution_count": 35,
   "metadata": {},
   "outputs": [
    {
     "data": {
      "text/plain": [
       "[автомобиль, \\n]                                          972\n",
       "[свадьба, \\n]                                             793\n",
       "[на,  , проведение,  , свадьба, \\n]                       773\n",
       "[сыграть,  , свадьба, \\n]                                 769\n",
       "[операция,  , с,  , недвижимость, \\n]                     675\n",
       "[покупка,  , коммерческий,  , недвижимость, \\n]           662\n",
       "[операция,  , с,  , жилье, \\n]                            652\n",
       "[покупка,  , жилье,  , для,  , сдача, \\n]                 652\n",
       "[операция,  , с,  , коммерческий,  , недвижимость, \\n]    650\n",
       "[покупка,  , жилье, \\n]                                   646\n",
       "[жилье, \\n]                                               646\n",
       "[покупка,  , жилье,  , для,  , семья, \\n]                 638\n",
       "[строительство,  , собственный,  , недвижимость, \\n]      635\n",
       "[недвижимость, \\n]                                        633\n",
       "[операция,  , со,  , свой,  , недвижимость, \\n]           627\n",
       "[строительство,  , жилой,  , недвижимость, \\n]            625\n",
       "[покупка,  , недвижимость, \\n]                            621\n",
       "[покупка,  , свой,  , жилье, \\n]                          620\n",
       "[строительство,  , недвижимость, \\n]                      619\n",
       "[ремонт,  , жилье, \\n]                                    607\n",
       "[покупка,  , жилой,  , недвижимость, \\n]                  606\n",
       "[на,  , покупка,  , свой,  , автомобиль, \\n]              505\n",
       "[заниматься,  , высокий,  , образование, \\n]              496\n",
       "[сделка,  , с,  , подержанный,  , автомобиль, \\n]         486\n",
       "[свой,  , автомобиль, \\n]                                 479\n",
       "[на,  , покупка,  , подержать,  , автомобиль, \\n]         478\n",
       "[на,  , покупка,  , автомобиль, \\n]                       472\n",
       "[приобретение,  , автомобиль, \\n]                         461\n",
       "[дополнительный,  , образование, \\n]                      460\n",
       "[сделка,  , с,  , автомобиль, \\n]                         455\n",
       "[высокий,  , образование, \\n]                             452\n",
       "[получение,  , дополнительный,  , образование, \\n]        447\n",
       "[образование, \\n]                                         447\n",
       "[получение,  , образование, \\n]                           442\n",
       "[профильный,  , образование, \\n]                          436\n",
       "[получение,  , высокий,  , образование, \\n]               426\n",
       "[заниматься,  , образование, \\n]                          408\n",
       "Name: purpose_lemmas, dtype: int64"
      ]
     },
     "execution_count": 35,
     "metadata": {},
     "output_type": "execute_result"
    }
   ],
   "source": [
    "m = Mystem() # создаем объект класса Mystem\n",
    "# создаём новый столбец с леммами целей кредита, для этого применяем метод класса Mystem - lemmatize к столбцу 'purpose'\n",
    "data['purpose_lemmas'] = data['purpose'].apply(m.lemmatize) # создаём новый столбец с леммами целей кредита\n",
    "data['purpose_lemmas'].value_counts() # количество уникальных списков с леммами\n",
    "# мой ноутбук пытался час сделать эту операцию, после чего я перестал делать проект локально и перенес всё в тренажер\n",
    "# здесь - всего пара секунд"
   ]
  },
  {
   "cell_type": "markdown",
   "metadata": {},
   "source": [
    "**Вывод**"
   ]
  },
  {
   "cell_type": "markdown",
   "metadata": {},
   "source": [
    "Таким образом, с помощью лемматизации удалось выделить леммы (словарные формы) слов в запросах. Словарные формы храняться в списках в столбце `'purpose_lemmas'`. Теперь можно выделить основные цели кредитов."
   ]
  },
  {
   "cell_type": "markdown",
   "metadata": {},
   "source": [
    "<a id=\"category\"></a>\n",
    "### Категоризация данных"
   ]
  },
  {
   "cell_type": "markdown",
   "metadata": {},
   "source": [
    "Категоризацию будем проводить исходя из целей исследования, чтобы в дальнейшем можно было работать только с необходимыми столбцами:\n",
    "* создадим отдельную таблицу, в которой будет информация о количестве детей, наличия или отсутствия долга и столбец, в котором будет отображено наличие или отсутствие детей;\n",
    "* создадим отдельную таблицу с столбцами, отображающими семейное положение и наличие или отсутствие долга;\n",
    "* создадим таблицу с доходами, дополнительно, разделим доходы на диапазоны значенией и добавим соответствующий столбец;\n",
    "* создадим таблицу с целями, для этого в столбцах с леммами выделим конкретные теги."
   ]
  },
  {
   "cell_type": "markdown",
   "metadata": {},
   "source": [
    "Создадим таблицу с информацией о количестве детей и долге:"
   ]
  },
  {
   "cell_type": "code",
   "execution_count": 36,
   "metadata": {},
   "outputs": [
    {
     "data": {
      "text/html": [
       "<div>\n",
       "<style scoped>\n",
       "    .dataframe tbody tr th:only-of-type {\n",
       "        vertical-align: middle;\n",
       "    }\n",
       "\n",
       "    .dataframe tbody tr th {\n",
       "        vertical-align: top;\n",
       "    }\n",
       "\n",
       "    .dataframe thead th {\n",
       "        text-align: right;\n",
       "    }\n",
       "</style>\n",
       "<table border=\"1\" class=\"dataframe\">\n",
       "  <thead>\n",
       "    <tr style=\"text-align: right;\">\n",
       "      <th></th>\n",
       "      <th>children</th>\n",
       "      <th>debt</th>\n",
       "    </tr>\n",
       "  </thead>\n",
       "  <tbody>\n",
       "    <tr>\n",
       "      <td>0</td>\n",
       "      <td>1</td>\n",
       "      <td>0</td>\n",
       "    </tr>\n",
       "    <tr>\n",
       "      <td>1</td>\n",
       "      <td>1</td>\n",
       "      <td>0</td>\n",
       "    </tr>\n",
       "    <tr>\n",
       "      <td>2</td>\n",
       "      <td>0</td>\n",
       "      <td>0</td>\n",
       "    </tr>\n",
       "    <tr>\n",
       "      <td>3</td>\n",
       "      <td>3</td>\n",
       "      <td>0</td>\n",
       "    </tr>\n",
       "    <tr>\n",
       "      <td>4</td>\n",
       "      <td>0</td>\n",
       "      <td>0</td>\n",
       "    </tr>\n",
       "  </tbody>\n",
       "</table>\n",
       "</div>"
      ],
      "text/plain": [
       "   children  debt\n",
       "0         1     0\n",
       "1         1     0\n",
       "2         0     0\n",
       "3         3     0\n",
       "4         0     0"
      ]
     },
     "execution_count": 36,
     "metadata": {},
     "output_type": "execute_result"
    }
   ],
   "source": [
    "# создадим таблицу с информацией и количестве детей и долге\n",
    "data_children_debt = data.loc[:, ['children', 'debt',]]\n",
    "data_children_debt.head()"
   ]
  },
  {
   "cell_type": "code",
   "execution_count": 37,
   "metadata": {},
   "outputs": [],
   "source": [
    "# напишем функцию, которая добавит столбец, отоброжающий наличие или отсутствие детей в семье\n",
    "def children_status(children):\n",
    "    if children > 0:\n",
    "        return 'Дети есть'\n",
    "    return 'Детей нет'"
   ]
  },
  {
   "cell_type": "code",
   "execution_count": 38,
   "metadata": {},
   "outputs": [
    {
     "data": {
      "text/html": [
       "<div>\n",
       "<style scoped>\n",
       "    .dataframe tbody tr th:only-of-type {\n",
       "        vertical-align: middle;\n",
       "    }\n",
       "\n",
       "    .dataframe tbody tr th {\n",
       "        vertical-align: top;\n",
       "    }\n",
       "\n",
       "    .dataframe thead th {\n",
       "        text-align: right;\n",
       "    }\n",
       "</style>\n",
       "<table border=\"1\" class=\"dataframe\">\n",
       "  <thead>\n",
       "    <tr style=\"text-align: right;\">\n",
       "      <th></th>\n",
       "      <th>children</th>\n",
       "      <th>debt</th>\n",
       "      <th>children_status</th>\n",
       "    </tr>\n",
       "  </thead>\n",
       "  <tbody>\n",
       "    <tr>\n",
       "      <td>0</td>\n",
       "      <td>1</td>\n",
       "      <td>0</td>\n",
       "      <td>Дети есть</td>\n",
       "    </tr>\n",
       "    <tr>\n",
       "      <td>1</td>\n",
       "      <td>1</td>\n",
       "      <td>0</td>\n",
       "      <td>Дети есть</td>\n",
       "    </tr>\n",
       "    <tr>\n",
       "      <td>2</td>\n",
       "      <td>0</td>\n",
       "      <td>0</td>\n",
       "      <td>Детей нет</td>\n",
       "    </tr>\n",
       "    <tr>\n",
       "      <td>3</td>\n",
       "      <td>3</td>\n",
       "      <td>0</td>\n",
       "      <td>Дети есть</td>\n",
       "    </tr>\n",
       "    <tr>\n",
       "      <td>4</td>\n",
       "      <td>0</td>\n",
       "      <td>0</td>\n",
       "      <td>Детей нет</td>\n",
       "    </tr>\n",
       "  </tbody>\n",
       "</table>\n",
       "</div>"
      ],
      "text/plain": [
       "   children  debt children_status\n",
       "0         1     0       Дети есть\n",
       "1         1     0       Дети есть\n",
       "2         0     0       Детей нет\n",
       "3         3     0       Дети есть\n",
       "4         0     0       Детей нет"
      ]
     },
     "execution_count": 38,
     "metadata": {},
     "output_type": "execute_result"
    }
   ],
   "source": [
    "# применим функцию 'children_status' к таблице с детьми\n",
    "data_children_debt['children_status'] = data_children_debt['children'].apply(children_status)\n",
    "data_children_debt.head()"
   ]
  },
  {
   "cell_type": "markdown",
   "metadata": {},
   "source": [
    "Создадим таблицу с информацией о семейном положении и наличием или отсутствием долга:"
   ]
  },
  {
   "cell_type": "code",
   "execution_count": 39,
   "metadata": {},
   "outputs": [
    {
     "data": {
      "text/html": [
       "<div>\n",
       "<style scoped>\n",
       "    .dataframe tbody tr th:only-of-type {\n",
       "        vertical-align: middle;\n",
       "    }\n",
       "\n",
       "    .dataframe tbody tr th {\n",
       "        vertical-align: top;\n",
       "    }\n",
       "\n",
       "    .dataframe thead th {\n",
       "        text-align: right;\n",
       "    }\n",
       "</style>\n",
       "<table border=\"1\" class=\"dataframe\">\n",
       "  <thead>\n",
       "    <tr style=\"text-align: right;\">\n",
       "      <th></th>\n",
       "      <th>family_status_id</th>\n",
       "      <th>family_status</th>\n",
       "      <th>debt</th>\n",
       "    </tr>\n",
       "  </thead>\n",
       "  <tbody>\n",
       "    <tr>\n",
       "      <td>0</td>\n",
       "      <td>0</td>\n",
       "      <td>женат / замужем</td>\n",
       "      <td>0</td>\n",
       "    </tr>\n",
       "    <tr>\n",
       "      <td>1</td>\n",
       "      <td>0</td>\n",
       "      <td>женат / замужем</td>\n",
       "      <td>0</td>\n",
       "    </tr>\n",
       "    <tr>\n",
       "      <td>2</td>\n",
       "      <td>0</td>\n",
       "      <td>женат / замужем</td>\n",
       "      <td>0</td>\n",
       "    </tr>\n",
       "    <tr>\n",
       "      <td>3</td>\n",
       "      <td>0</td>\n",
       "      <td>женат / замужем</td>\n",
       "      <td>0</td>\n",
       "    </tr>\n",
       "    <tr>\n",
       "      <td>4</td>\n",
       "      <td>1</td>\n",
       "      <td>гражданский брак</td>\n",
       "      <td>0</td>\n",
       "    </tr>\n",
       "  </tbody>\n",
       "</table>\n",
       "</div>"
      ],
      "text/plain": [
       "   family_status_id     family_status  debt\n",
       "0                 0   женат / замужем     0\n",
       "1                 0   женат / замужем     0\n",
       "2                 0   женат / замужем     0\n",
       "3                 0   женат / замужем     0\n",
       "4                 1  гражданский брак     0"
      ]
     },
     "execution_count": 39,
     "metadata": {},
     "output_type": "execute_result"
    }
   ],
   "source": [
    "# создадим таблицу c информацией о семейном положении и наличием или отсутствием долга\n",
    "data_family_debt = data[['family_status_id', 'family_status','debt']]\n",
    "data_family_debt.head()"
   ]
  },
  {
   "cell_type": "markdown",
   "metadata": {},
   "source": [
    "Создадим таблицу, в которую будет входить столбец с задолженностью и столбец с доходами."
   ]
  },
  {
   "cell_type": "code",
   "execution_count": 40,
   "metadata": {},
   "outputs": [
    {
     "data": {
      "text/html": [
       "<div>\n",
       "<style scoped>\n",
       "    .dataframe tbody tr th:only-of-type {\n",
       "        vertical-align: middle;\n",
       "    }\n",
       "\n",
       "    .dataframe tbody tr th {\n",
       "        vertical-align: top;\n",
       "    }\n",
       "\n",
       "    .dataframe thead th {\n",
       "        text-align: right;\n",
       "    }\n",
       "</style>\n",
       "<table border=\"1\" class=\"dataframe\">\n",
       "  <thead>\n",
       "    <tr style=\"text-align: right;\">\n",
       "      <th></th>\n",
       "      <th>total_income</th>\n",
       "      <th>debt</th>\n",
       "    </tr>\n",
       "  </thead>\n",
       "  <tbody>\n",
       "    <tr>\n",
       "      <td>0</td>\n",
       "      <td>253875</td>\n",
       "      <td>0</td>\n",
       "    </tr>\n",
       "    <tr>\n",
       "      <td>1</td>\n",
       "      <td>112080</td>\n",
       "      <td>0</td>\n",
       "    </tr>\n",
       "    <tr>\n",
       "      <td>2</td>\n",
       "      <td>145885</td>\n",
       "      <td>0</td>\n",
       "    </tr>\n",
       "    <tr>\n",
       "      <td>3</td>\n",
       "      <td>267628</td>\n",
       "      <td>0</td>\n",
       "    </tr>\n",
       "    <tr>\n",
       "      <td>4</td>\n",
       "      <td>158616</td>\n",
       "      <td>0</td>\n",
       "    </tr>\n",
       "  </tbody>\n",
       "</table>\n",
       "</div>"
      ],
      "text/plain": [
       "   total_income  debt\n",
       "0        253875     0\n",
       "1        112080     0\n",
       "2        145885     0\n",
       "3        267628     0\n",
       "4        158616     0"
      ]
     },
     "execution_count": 40,
     "metadata": {},
     "output_type": "execute_result"
    }
   ],
   "source": [
    "data_total_income_debt = data.loc[:,['total_income', 'debt']]\n",
    "# выведем первые 5 строк получившейся таблицы\n",
    "data_total_income_debt.head()"
   ]
  },
  {
   "cell_type": "markdown",
   "metadata": {},
   "source": [
    "Добавим к этой таблице категории доходов:\n",
    "* менее 50 тыс.\n",
    "* 50-100 тыс.\n",
    "* 100-150 тыс.\n",
    "* 150-200 тыс.\n",
    "* 200-250 тыс.\n",
    "* 250-300 тыс.\n",
    "* более 300 тыс."
   ]
  },
  {
   "cell_type": "code",
   "execution_count": 41,
   "metadata": {},
   "outputs": [
    {
     "data": {
      "text/html": [
       "<div>\n",
       "<style scoped>\n",
       "    .dataframe tbody tr th:only-of-type {\n",
       "        vertical-align: middle;\n",
       "    }\n",
       "\n",
       "    .dataframe tbody tr th {\n",
       "        vertical-align: top;\n",
       "    }\n",
       "\n",
       "    .dataframe thead th {\n",
       "        text-align: right;\n",
       "    }\n",
       "</style>\n",
       "<table border=\"1\" class=\"dataframe\">\n",
       "  <thead>\n",
       "    <tr style=\"text-align: right;\">\n",
       "      <th></th>\n",
       "      <th>total_income</th>\n",
       "      <th>debt</th>\n",
       "      <th>income_value</th>\n",
       "    </tr>\n",
       "  </thead>\n",
       "  <tbody>\n",
       "    <tr>\n",
       "      <td>0</td>\n",
       "      <td>253875</td>\n",
       "      <td>0</td>\n",
       "      <td>250-300 тыс.</td>\n",
       "    </tr>\n",
       "    <tr>\n",
       "      <td>1</td>\n",
       "      <td>112080</td>\n",
       "      <td>0</td>\n",
       "      <td>100-150 тыс.</td>\n",
       "    </tr>\n",
       "    <tr>\n",
       "      <td>2</td>\n",
       "      <td>145885</td>\n",
       "      <td>0</td>\n",
       "      <td>100-150 тыс.</td>\n",
       "    </tr>\n",
       "    <tr>\n",
       "      <td>3</td>\n",
       "      <td>267628</td>\n",
       "      <td>0</td>\n",
       "      <td>250-300 тыс.</td>\n",
       "    </tr>\n",
       "    <tr>\n",
       "      <td>4</td>\n",
       "      <td>158616</td>\n",
       "      <td>0</td>\n",
       "      <td>150-200 тыс.</td>\n",
       "    </tr>\n",
       "  </tbody>\n",
       "</table>\n",
       "</div>"
      ],
      "text/plain": [
       "   total_income  debt  income_value\n",
       "0        253875     0  250-300 тыс.\n",
       "1        112080     0  100-150 тыс.\n",
       "2        145885     0  100-150 тыс.\n",
       "3        267628     0  250-300 тыс.\n",
       "4        158616     0  150-200 тыс."
      ]
     },
     "execution_count": 41,
     "metadata": {},
     "output_type": "execute_result"
    }
   ],
   "source": [
    "# сделаем функцию, которая присвоит диапозон дохода, в зависимости от его значения\n",
    "def income_value(total_income):\n",
    "    if total_income <= 50000:\n",
    "        return 'менее 50 тыс.'\n",
    "    if 50000 <= total_income < 100000:\n",
    "        return '50-100 тыс.'\n",
    "    if 100000 <= total_income < 150000:\n",
    "        return '100-150 тыс.'\n",
    "    if 150000 <= total_income < 200000:\n",
    "        return '150-200 тыс.'\n",
    "    if 200000 <= total_income < 250000:\n",
    "        return '200-250 тыс.'\n",
    "    if 250000 <= total_income < 300000:\n",
    "        return '250-300 тыс.'\n",
    "    return 'более 300 тыс.'\n",
    "\n",
    "# применим эту функцию к столбцу 'total_income' методом apply и создадим новый столбец 'income_level'\n",
    "data_total_income_debt['income_value'] = data_total_income_debt['total_income'].apply(income_value)\n",
    "\n",
    "# выведем первые 5 строк получившейся таблицы\n",
    "data_total_income_debt.head()\n"
   ]
  },
  {
   "cell_type": "markdown",
   "metadata": {},
   "source": [
    "Создадим таблицу, в которую будет входить столбец с задолженностью и столбец с целями."
   ]
  },
  {
   "cell_type": "code",
   "execution_count": 42,
   "metadata": {},
   "outputs": [
    {
     "data": {
      "text/plain": [
       "[автомобиль, \\n]                                          972\n",
       "[свадьба, \\n]                                             793\n",
       "[на,  , проведение,  , свадьба, \\n]                       773\n",
       "[сыграть,  , свадьба, \\n]                                 769\n",
       "[операция,  , с,  , недвижимость, \\n]                     675\n",
       "[покупка,  , коммерческий,  , недвижимость, \\n]           662\n",
       "[операция,  , с,  , жилье, \\n]                            652\n",
       "[покупка,  , жилье,  , для,  , сдача, \\n]                 652\n",
       "[операция,  , с,  , коммерческий,  , недвижимость, \\n]    650\n",
       "[покупка,  , жилье, \\n]                                   646\n",
       "[жилье, \\n]                                               646\n",
       "[покупка,  , жилье,  , для,  , семья, \\n]                 638\n",
       "[строительство,  , собственный,  , недвижимость, \\n]      635\n",
       "[недвижимость, \\n]                                        633\n",
       "[операция,  , со,  , свой,  , недвижимость, \\n]           627\n",
       "[строительство,  , жилой,  , недвижимость, \\n]            625\n",
       "[покупка,  , недвижимость, \\n]                            621\n",
       "[покупка,  , свой,  , жилье, \\n]                          620\n",
       "[строительство,  , недвижимость, \\n]                      619\n",
       "[ремонт,  , жилье, \\n]                                    607\n",
       "[покупка,  , жилой,  , недвижимость, \\n]                  606\n",
       "[на,  , покупка,  , свой,  , автомобиль, \\n]              505\n",
       "[заниматься,  , высокий,  , образование, \\n]              496\n",
       "[сделка,  , с,  , подержанный,  , автомобиль, \\n]         486\n",
       "[свой,  , автомобиль, \\n]                                 479\n",
       "[на,  , покупка,  , подержать,  , автомобиль, \\n]         478\n",
       "[на,  , покупка,  , автомобиль, \\n]                       472\n",
       "[приобретение,  , автомобиль, \\n]                         461\n",
       "[дополнительный,  , образование, \\n]                      460\n",
       "[сделка,  , с,  , автомобиль, \\n]                         455\n",
       "[высокий,  , образование, \\n]                             452\n",
       "[получение,  , дополнительный,  , образование, \\n]        447\n",
       "[образование, \\n]                                         447\n",
       "[получение,  , образование, \\n]                           442\n",
       "[профильный,  , образование, \\n]                          436\n",
       "[получение,  , высокий,  , образование, \\n]               426\n",
       "[заниматься,  , образование, \\n]                          408\n",
       "Name: purpose_lemmas, dtype: int64"
      ]
     },
     "execution_count": 42,
     "metadata": {},
     "output_type": "execute_result"
    }
   ],
   "source": [
    "# создадим таблицу, в которую будут входить цели, леммы целей и информация о задолженности\n",
    "data_purpose_debt = data.loc[:,['purpose', 'purpose_lemmas', 'debt']]\n",
    "data_purpose_debt['purpose_lemmas'].value_counts()"
   ]
  },
  {
   "cell_type": "markdown",
   "metadata": {},
   "source": [
    "Как видно, из полученных в результате лемматизации списков можно выделить несколько основных категорий целей:\n",
    "* Жилье, недвижмость\n",
    "* Автомобиль\n",
    "* Образование\n",
    "* Свадьба\n",
    "\n",
    "Преобразуем столбец с леммами целей, заменив строки на выделенные выше категории целей:"
   ]
  },
  {
   "cell_type": "code",
   "execution_count": 43,
   "metadata": {},
   "outputs": [
    {
     "data": {
      "text/plain": [
       "жилье, недвижимость    10814\n",
       "автомобиль              4308\n",
       "образование             4014\n",
       "свадьба                 2335\n",
       "Name: purpose_lemmas, dtype: int64"
      ]
     },
     "execution_count": 43,
     "metadata": {},
     "output_type": "execute_result"
    }
   ],
   "source": [
    "# создадим функцию, которая будет получить на вход датафрейм и список основных категорий\n",
    "# выдаёт \n",
    "def purpose_category(purpose):\n",
    "    if ('жилье' in purpose) or ('недвижимость' in purpose): \n",
    "        return 'жилье, недвижимость'\n",
    "    if 'автомобиль' in purpose: \n",
    "        return 'автомобиль'\n",
    "    if 'образование' in purpose: \n",
    "        return 'образование'\n",
    "    if 'свадьба' in purpose: \n",
    "        return 'свадьба'\n",
    "    return purpose\n",
    "\n",
    "# заменим значения в столбце со списками лемм на соответсвтующее значение категории цели\n",
    "data_purpose_debt['purpose_lemmas'] = data_purpose_debt['purpose_lemmas'].apply(purpose_category)\n",
    "# посчитаем количество уникальных значений теперь в 'purpose_lemmas'\n",
    "data_purpose_debt['purpose_lemmas'].value_counts()"
   ]
  },
  {
   "cell_type": "markdown",
   "metadata": {},
   "source": [
    "**Вывод**\n"
   ]
  },
  {
   "cell_type": "markdown",
   "metadata": {},
   "source": [
    "* Были созданы таблицы с теми столбцами, которые необходимы для проведения исследования;\n",
    "* категоризированы доходы;\n",
    "* добавлен столбец описывающий наличие или отсутствие детей;\n",
    "* были выделены основные категории целей и в соответствии с этим отредактирован столбец с леммами.\n"
   ]
  },
  {
   "cell_type": "markdown",
   "metadata": {},
   "source": [
    "<a id=\"research\"></a>\n",
    "## Исследование заёмщиков"
   ]
  },
  {
   "cell_type": "markdown",
   "metadata": {},
   "source": [
    "<a id=\"children_debt\"></a>\n",
    "- Есть ли зависимость между наличием детей и возвратом кредита в срок?"
   ]
  },
  {
   "cell_type": "markdown",
   "metadata": {},
   "source": [
    "Создадим сводную таблицу, в столбцах количество людей с долгом и без, общее количество клиентов и процент должников:"
   ]
  },
  {
   "cell_type": "code",
   "execution_count": 44,
   "metadata": {},
   "outputs": [
    {
     "data": {
      "text/html": [
       "<div>\n",
       "<style scoped>\n",
       "    .dataframe tbody tr th:only-of-type {\n",
       "        vertical-align: middle;\n",
       "    }\n",
       "\n",
       "    .dataframe tbody tr th {\n",
       "        vertical-align: top;\n",
       "    }\n",
       "\n",
       "    .dataframe thead th {\n",
       "        text-align: right;\n",
       "    }\n",
       "</style>\n",
       "<table border=\"1\" class=\"dataframe\">\n",
       "  <thead>\n",
       "    <tr style=\"text-align: right;\">\n",
       "      <th>debt</th>\n",
       "      <th>0</th>\n",
       "      <th>1</th>\n",
       "      <th>total_clients</th>\n",
       "      <th>debt_percent</th>\n",
       "    </tr>\n",
       "    <tr>\n",
       "      <th>children_status</th>\n",
       "      <th></th>\n",
       "      <th></th>\n",
       "      <th></th>\n",
       "      <th></th>\n",
       "    </tr>\n",
       "  </thead>\n",
       "  <tbody>\n",
       "    <tr>\n",
       "      <td>Детей нет</td>\n",
       "      <td>13044</td>\n",
       "      <td>1063</td>\n",
       "      <td>14107</td>\n",
       "      <td>7.535266</td>\n",
       "    </tr>\n",
       "    <tr>\n",
       "      <td>Дети есть</td>\n",
       "      <td>6686</td>\n",
       "      <td>678</td>\n",
       "      <td>7364</td>\n",
       "      <td>9.206953</td>\n",
       "    </tr>\n",
       "  </tbody>\n",
       "</table>\n",
       "</div>"
      ],
      "text/plain": [
       "debt                 0     1  total_clients  debt_percent\n",
       "children_status                                          \n",
       "Детей нет        13044  1063          14107      7.535266\n",
       "Дети есть         6686   678           7364      9.206953"
      ]
     },
     "execution_count": 44,
     "metadata": {},
     "output_type": "execute_result"
    }
   ],
   "source": [
    "# создадим сводную таблицу, в которой в качестве индекса будет информация о наличии детей 'children_status'\n",
    "# в остальных столбцах информация о количестве должников\n",
    "# в данном случае необходимо посчитать количество методом count(), считать будем по столбцу 'children'\n",
    "# подошёл бы любой свободный столбец с полным количеством строк\n",
    "data_children_debt_pivot = data_children_debt.pivot_table(index='children_status', columns='debt', values='children', aggfunc='count')\n",
    "\n",
    "# добавим столбцец total_clients, в котором будет общее количество клиентов\n",
    "data_children_debt_pivot['total_clients'] = data_children_debt_pivot[0] + data_children_debt_pivot[1]\n",
    "\n",
    "# добавим столбцец debt_percent, в котором будет в процентах доля должников\n",
    "data_children_debt_pivot['debt_percent'] = 100 * data_children_debt_pivot[1] / data_children_debt_pivot['total_clients']\n",
    "\n",
    "data_children_debt_pivot\n"
   ]
  },
  {
   "cell_type": "markdown",
   "metadata": {},
   "source": [
    "**Вывод**"
   ]
  },
  {
   "cell_type": "markdown",
   "metadata": {},
   "source": [
    "* Количество должников среди тех у кого нет детей составляет 7,5%\n",
    "* Количество должников среди тех у кого есть дети составляет 9,2%\n",
    "\n",
    "Таким образом, можно сделать вывод, что есть зависимость между наличием детей и возвратом кредита в срок. Те у кого дети есть, чаще являются должниками."
   ]
  },
  {
   "cell_type": "markdown",
   "metadata": {},
   "source": [
    "<a id=\"family_debt\"></a>\n",
    "- Есть ли зависимость между семейным положением и возвратом кредита в срок?"
   ]
  },
  {
   "cell_type": "markdown",
   "metadata": {},
   "source": [
    "Создадим сводную таблицу, в столбцах количество людей с долгом и без, общее количество клиентов и процент должников:"
   ]
  },
  {
   "cell_type": "code",
   "execution_count": 45,
   "metadata": {},
   "outputs": [
    {
     "data": {
      "text/html": [
       "<div>\n",
       "<style scoped>\n",
       "    .dataframe tbody tr th:only-of-type {\n",
       "        vertical-align: middle;\n",
       "    }\n",
       "\n",
       "    .dataframe tbody tr th {\n",
       "        vertical-align: top;\n",
       "    }\n",
       "\n",
       "    .dataframe thead th {\n",
       "        text-align: right;\n",
       "    }\n",
       "</style>\n",
       "<table border=\"1\" class=\"dataframe\">\n",
       "  <thead>\n",
       "    <tr style=\"text-align: right;\">\n",
       "      <th>debt</th>\n",
       "      <th>0</th>\n",
       "      <th>1</th>\n",
       "      <th>total_clients</th>\n",
       "      <th>debt_percent</th>\n",
       "    </tr>\n",
       "    <tr>\n",
       "      <th>family_status</th>\n",
       "      <th></th>\n",
       "      <th></th>\n",
       "      <th></th>\n",
       "      <th></th>\n",
       "    </tr>\n",
       "  </thead>\n",
       "  <tbody>\n",
       "    <tr>\n",
       "      <td>вдовец / вдова</td>\n",
       "      <td>896</td>\n",
       "      <td>63</td>\n",
       "      <td>959</td>\n",
       "      <td>6.569343</td>\n",
       "    </tr>\n",
       "    <tr>\n",
       "      <td>в разводе</td>\n",
       "      <td>1110</td>\n",
       "      <td>85</td>\n",
       "      <td>1195</td>\n",
       "      <td>7.112971</td>\n",
       "    </tr>\n",
       "    <tr>\n",
       "      <td>женат / замужем</td>\n",
       "      <td>11413</td>\n",
       "      <td>931</td>\n",
       "      <td>12344</td>\n",
       "      <td>7.542126</td>\n",
       "    </tr>\n",
       "    <tr>\n",
       "      <td>гражданский брак</td>\n",
       "      <td>3775</td>\n",
       "      <td>388</td>\n",
       "      <td>4163</td>\n",
       "      <td>9.320202</td>\n",
       "    </tr>\n",
       "    <tr>\n",
       "      <td>Не женат / не замужем</td>\n",
       "      <td>2536</td>\n",
       "      <td>274</td>\n",
       "      <td>2810</td>\n",
       "      <td>9.750890</td>\n",
       "    </tr>\n",
       "  </tbody>\n",
       "</table>\n",
       "</div>"
      ],
      "text/plain": [
       "debt                       0    1  total_clients  debt_percent\n",
       "family_status                                                 \n",
       "вдовец / вдова           896   63            959      6.569343\n",
       "в разводе               1110   85           1195      7.112971\n",
       "женат / замужем        11413  931          12344      7.542126\n",
       "гражданский брак        3775  388           4163      9.320202\n",
       "Не женат / не замужем   2536  274           2810      9.750890"
      ]
     },
     "execution_count": 45,
     "metadata": {},
     "output_type": "execute_result"
    }
   ],
   "source": [
    "# создадим сводную таблицу, в которой в качестве индекса будет информация о семейном положении 'family_status'\n",
    "# в остальных столбцах информация о количестве должников\n",
    "# в данном случае необходимо посчитать количество методом count(), считать будем по столбцу 'family_status_id'\n",
    "# подошёл бы любой свободный столбец с полным количеством строк\n",
    "data_family_debt_pivot = data_family_debt.pivot_table(index='family_status', columns='debt', values='family_status_id', aggfunc='count')\n",
    "\n",
    "# добавим столбцец total_clients, в котором будет общее количество клиентов\n",
    "data_family_debt_pivot['total_clients'] = data_family_debt_pivot[0] + data_family_debt_pivot[1]\n",
    "\n",
    "# добавим столбцец debt_percent, в котором будет в процентах доля должников\n",
    "data_family_debt_pivot['debt_percent'] = 100 * data_family_debt_pivot[1] / data_family_debt_pivot['total_clients']\n",
    "\n",
    "data_family_debt_pivot.sort_values(by='debt_percent', ascending=True) # применена сортировка по столбцу с долей должников"
   ]
  },
  {
   "cell_type": "markdown",
   "metadata": {},
   "source": [
    "**Вывод**"
   ]
  },
  {
   "cell_type": "markdown",
   "metadata": {},
   "source": [
    "* У категории вдовец/вдова процент должников 6.5 %\n",
    "* У категории в разводе процент должников 7.11%\n",
    "* У категории женат/замужем процент должников 7.5%\n",
    "* У категории гражданский брак процент должников 9.3%\n",
    "* У категории не женат/не замужем процент должников 9.75%\n",
    "\n",
    "Таким образом, можно сделать вывод, что есть зависимость между семейным положением и возвратом кредита."
   ]
  },
  {
   "cell_type": "markdown",
   "metadata": {},
   "source": [
    "<a id=\"income_debt\"></a>\n",
    "- Есть ли зависимость между уровнем дохода и возвратом кредита в срок?"
   ]
  },
  {
   "cell_type": "markdown",
   "metadata": {},
   "source": [
    "Создадим сводную таблицу, в столбцах количество людей с долгом и без, общее количество клиентов и процент должников:"
   ]
  },
  {
   "cell_type": "code",
   "execution_count": 46,
   "metadata": {},
   "outputs": [
    {
     "data": {
      "text/html": [
       "<div>\n",
       "<style scoped>\n",
       "    .dataframe tbody tr th:only-of-type {\n",
       "        vertical-align: middle;\n",
       "    }\n",
       "\n",
       "    .dataframe tbody tr th {\n",
       "        vertical-align: top;\n",
       "    }\n",
       "\n",
       "    .dataframe thead th {\n",
       "        text-align: right;\n",
       "    }\n",
       "</style>\n",
       "<table border=\"1\" class=\"dataframe\">\n",
       "  <thead>\n",
       "    <tr style=\"text-align: right;\">\n",
       "      <th>debt</th>\n",
       "      <th>0</th>\n",
       "      <th>1</th>\n",
       "      <th>total_clients</th>\n",
       "      <th>debt_percent</th>\n",
       "    </tr>\n",
       "    <tr>\n",
       "      <th>income_value</th>\n",
       "      <th></th>\n",
       "      <th></th>\n",
       "      <th></th>\n",
       "      <th></th>\n",
       "    </tr>\n",
       "  </thead>\n",
       "  <tbody>\n",
       "    <tr>\n",
       "      <td>менее 50 тыс.</td>\n",
       "      <td>349</td>\n",
       "      <td>23</td>\n",
       "      <td>372</td>\n",
       "      <td>6.182796</td>\n",
       "    </tr>\n",
       "    <tr>\n",
       "      <td>250-300 тыс.</td>\n",
       "      <td>1242</td>\n",
       "      <td>88</td>\n",
       "      <td>1330</td>\n",
       "      <td>6.616541</td>\n",
       "    </tr>\n",
       "    <tr>\n",
       "      <td>более 300 тыс.</td>\n",
       "      <td>1377</td>\n",
       "      <td>106</td>\n",
       "      <td>1483</td>\n",
       "      <td>7.147674</td>\n",
       "    </tr>\n",
       "    <tr>\n",
       "      <td>200-250 тыс.</td>\n",
       "      <td>2090</td>\n",
       "      <td>164</td>\n",
       "      <td>2254</td>\n",
       "      <td>7.275954</td>\n",
       "    </tr>\n",
       "    <tr>\n",
       "      <td>50-100 тыс.</td>\n",
       "      <td>3760</td>\n",
       "      <td>331</td>\n",
       "      <td>4091</td>\n",
       "      <td>8.090931</td>\n",
       "    </tr>\n",
       "    <tr>\n",
       "      <td>150-200 тыс.</td>\n",
       "      <td>4361</td>\n",
       "      <td>405</td>\n",
       "      <td>4766</td>\n",
       "      <td>8.497692</td>\n",
       "    </tr>\n",
       "    <tr>\n",
       "      <td>100-150 тыс.</td>\n",
       "      <td>6551</td>\n",
       "      <td>624</td>\n",
       "      <td>7175</td>\n",
       "      <td>8.696864</td>\n",
       "    </tr>\n",
       "  </tbody>\n",
       "</table>\n",
       "</div>"
      ],
      "text/plain": [
       "debt               0    1  total_clients  debt_percent\n",
       "income_value                                          \n",
       "менее 50 тыс.    349   23            372      6.182796\n",
       "250-300 тыс.    1242   88           1330      6.616541\n",
       "более 300 тыс.  1377  106           1483      7.147674\n",
       "200-250 тыс.    2090  164           2254      7.275954\n",
       "50-100 тыс.     3760  331           4091      8.090931\n",
       "150-200 тыс.    4361  405           4766      8.497692\n",
       "100-150 тыс.    6551  624           7175      8.696864"
      ]
     },
     "execution_count": 46,
     "metadata": {},
     "output_type": "execute_result"
    }
   ],
   "source": [
    "# создадим сводную таблицу, в которой в качестве индекса будет информация о диапозоне уровня доходов 'income_value'\n",
    "# в остальных столбцах информация о количестве должников\n",
    "# в данном случае необходимо посчитать количество методом count(), считать будем по столбцу 'total_income'\n",
    "# подошёл бы любой свободный столбец с полным количеством строк\n",
    "data_total_income_debt_pivot = data_total_income_debt.pivot_table(index='income_value', columns='debt', values='total_income', aggfunc='count')\n",
    "\n",
    "# добавим столбцец total_clients, в котором будет общее количество клиентов\n",
    "data_total_income_debt_pivot['total_clients'] = data_total_income_debt_pivot[0] + data_total_income_debt_pivot[1]\n",
    "\n",
    "# добавим столбцец debt_percent, в котором будет в процентах доля должников\n",
    "data_total_income_debt_pivot['debt_percent'] = 100 * data_total_income_debt_pivot[1] / data_total_income_debt_pivot['total_clients']\n",
    "\n",
    "data_total_income_debt_pivot.sort_values(by='debt_percent', ascending=True) # применена сортировка по столбцу с долей должников"
   ]
  },
  {
   "cell_type": "markdown",
   "metadata": {},
   "source": [
    "**Вывод**"
   ]
  },
  {
   "cell_type": "markdown",
   "metadata": {},
   "source": [
    "* Наибольшее количество должников среди тех, кто находится в диапозоне 50-200 тысяч - более 8%\n",
    "* Наименьшее количество среди тех, уровень дохода которых менее 50 тыс. Около 6%\n",
    "* У людей с уровнем дохода более 200 тысяч процент должников 6.6 - 7.3 %\n",
    "\n",
    "Таким образом, можно сделать вывод, что уровень дохода влияет на возврат кредита."
   ]
  },
  {
   "cell_type": "markdown",
   "metadata": {},
   "source": [
    "<a id=\"purpose_debt\"></a>\n",
    "- Как разные цели кредита влияют на его возврат в срок?"
   ]
  },
  {
   "cell_type": "markdown",
   "metadata": {},
   "source": [
    "Создадим сводную таблицу, в столбцах количество людей с долгом и без, общее количество клиентов и процент должников:"
   ]
  },
  {
   "cell_type": "code",
   "execution_count": 47,
   "metadata": {},
   "outputs": [
    {
     "data": {
      "text/html": [
       "<div>\n",
       "<style scoped>\n",
       "    .dataframe tbody tr th:only-of-type {\n",
       "        vertical-align: middle;\n",
       "    }\n",
       "\n",
       "    .dataframe tbody tr th {\n",
       "        vertical-align: top;\n",
       "    }\n",
       "\n",
       "    .dataframe thead th {\n",
       "        text-align: right;\n",
       "    }\n",
       "</style>\n",
       "<table border=\"1\" class=\"dataframe\">\n",
       "  <thead>\n",
       "    <tr style=\"text-align: right;\">\n",
       "      <th>debt</th>\n",
       "      <th>0</th>\n",
       "      <th>1</th>\n",
       "      <th>total_clients</th>\n",
       "      <th>debt_percent</th>\n",
       "    </tr>\n",
       "    <tr>\n",
       "      <th>purpose_lemmas</th>\n",
       "      <th></th>\n",
       "      <th></th>\n",
       "      <th></th>\n",
       "      <th></th>\n",
       "    </tr>\n",
       "  </thead>\n",
       "  <tbody>\n",
       "    <tr>\n",
       "      <td>жилье, недвижимость</td>\n",
       "      <td>10032</td>\n",
       "      <td>782</td>\n",
       "      <td>10814</td>\n",
       "      <td>7.231367</td>\n",
       "    </tr>\n",
       "    <tr>\n",
       "      <td>свадьба</td>\n",
       "      <td>2149</td>\n",
       "      <td>186</td>\n",
       "      <td>2335</td>\n",
       "      <td>7.965739</td>\n",
       "    </tr>\n",
       "    <tr>\n",
       "      <td>образование</td>\n",
       "      <td>3644</td>\n",
       "      <td>370</td>\n",
       "      <td>4014</td>\n",
       "      <td>9.217738</td>\n",
       "    </tr>\n",
       "    <tr>\n",
       "      <td>автомобиль</td>\n",
       "      <td>3905</td>\n",
       "      <td>403</td>\n",
       "      <td>4308</td>\n",
       "      <td>9.354689</td>\n",
       "    </tr>\n",
       "  </tbody>\n",
       "</table>\n",
       "</div>"
      ],
      "text/plain": [
       "debt                     0    1  total_clients  debt_percent\n",
       "purpose_lemmas                                              \n",
       "жилье, недвижимость  10032  782          10814      7.231367\n",
       "свадьба               2149  186           2335      7.965739\n",
       "образование           3644  370           4014      9.217738\n",
       "автомобиль            3905  403           4308      9.354689"
      ]
     },
     "execution_count": 47,
     "metadata": {},
     "output_type": "execute_result"
    }
   ],
   "source": [
    "# создадим сводную таблицу, в которой в качестве индекса будет информация о цели 'purpose_lemmas'\n",
    "# в остальных столбцах информация о количестве должников\n",
    "# в данном случае необходимо посчитать количество методом count(), считать будем по столбцу 'purpose'\n",
    "# подошёл бы любой свободный столбец с полным количеством строк\n",
    "data_purpose_debt_pivot = data_purpose_debt.pivot_table(index='purpose_lemmas', columns='debt', values='purpose', aggfunc='count')\n",
    "\n",
    "# добавим столбцец total_clients, в котором будет общее количество клиентов\n",
    "data_purpose_debt_pivot['total_clients'] = data_purpose_debt_pivot[0] + data_purpose_debt_pivot[1]\n",
    "\n",
    "# добавим столбцец debt_percent, в котором будет в процентах доля должников\n",
    "data_purpose_debt_pivot['debt_percent'] = 100 * data_purpose_debt_pivot[1] / data_purpose_debt_pivot['total_clients']\n",
    "\n",
    "data_purpose_debt_pivot.sort_values(by='debt_percent', ascending=True) # применена сортировка по столбцу с долей должников"
   ]
  },
  {
   "cell_type": "markdown",
   "metadata": {},
   "source": [
    "**Вывод**"
   ]
  },
  {
   "cell_type": "markdown",
   "metadata": {},
   "source": [
    "* Наименьшее количество должников среди тех, кто брал кредит на жилье/недижимость - 7.2%\n",
    "* Среди тех, кто брал кредит на свадьбу количество должников - 8%\n",
    "* Наибольшее количество должников среди тех, кто брал кредит на образование и автомобиль  - более 9%\n",
    "\n",
    "Таким образом, можно сделать вывод, что цель кредита влияет на возвраты."
   ]
  },
  {
   "cell_type": "markdown",
   "metadata": {},
   "source": [
    "<a id=\"conclusion\"></a>\n",
    "## Общий вывод"
   ]
  },
  {
   "cell_type": "markdown",
   "metadata": {},
   "source": [
    "* В данных обнаружены пропуски в столбцах со стажем и ежемесячным доходами. Строки с пропусками совпадают, что говорит о одинаковой природе ошибок. Вероятно, не получилось получить данные от работодателя;\n",
    "* данные в столбце с ежемесячным доходом были заменены на медианы соответствующего типа занятости;\n",
    "* в данных со стажем обнаружены и заменены некорректные значения;\n",
    "* в данных об образовании были обнаружены и устранены многочисленные дупликаты, связанные с регистром;\n",
    "* была проведена оптимизация типов данных, что уменьшило вес таблицы на 46%;\n",
    "* выявлены и устранены дупликаты в столбце с информацией о детях;\n",
    "* была проведена категоризация данных о доходах;\n",
    "* была проведена категоризация данных о наличии детей;\n",
    "* была проведена категоризация данных о целях кредита, выделено 4 основных цели: недвижимость, свадьба, образование, автомобиль;\n",
    "* выявлена зависимость между наличием детей и возвратом кредита в срок: \n",
    "    * если дети есть - процент невозврата: 9,2%; \n",
    "    * если нет - 7,5%;\n",
    "* выявлена зависимость между семейным положением и возвратом кредита в срок:\n",
    "    * меньше всего должников среди вдов/вдовцов: 6%;\n",
    "    * больше всего среди не женатых/не замужних: 9,2%;\n",
    "* выявлена зависимость между уровнем дохода и возвратом креди в срок:\n",
    "    * Наибольшее количество должников среди тех, кто находится в диапозоне 50-200 тысяч - более 8 %;\n",
    "    * Наименьшее количество среди тех, уровень дохода которых менее 50 тыс. Около 6 %;\n",
    "    * У людей с уровнем дохода более 200 тысяч процент должников 6.6 - 7.3 %;\n",
    "* выявлена завсисимость между целью кредита и возвратом кредита в срок\n",
    "    * Наименьшее количество должников среди тех, кто брал кредит на жилье/недижимость - 7.2%\n",
    "    * Среди тех, кто брал кредит на свадьбу количество должников - 8%\n",
    "    * Наибольшее количество должников среди тех, кто брал кредит на образование и автомобиль  - более 9%"
   ]
  }
 ],
 "metadata": {
  "ExecuteTimeLog": [
   {
    "duration": 1031,
    "start_time": "2022-01-13T09:29:55.835Z"
   },
   {
    "duration": 268,
    "start_time": "2022-01-13T09:30:03.889Z"
   },
   {
    "duration": 98,
    "start_time": "2022-01-13T09:30:30.355Z"
   },
   {
    "duration": 3920,
    "start_time": "2022-01-13T09:32:02.176Z"
   },
   {
    "duration": 4092,
    "start_time": "2022-01-13T09:32:14.639Z"
   },
   {
    "duration": 4154,
    "start_time": "2022-01-13T09:32:59.026Z"
   },
   {
    "duration": 334,
    "start_time": "2022-01-13T09:33:40.770Z"
   },
   {
    "duration": 34,
    "start_time": "2022-01-13T09:33:54.361Z"
   },
   {
    "duration": 297,
    "start_time": "2022-01-13T09:39:05.256Z"
   },
   {
    "duration": 4140,
    "start_time": "2022-01-13T09:49:01.710Z"
   },
   {
    "duration": 8637,
    "start_time": "2022-01-13T09:57:59.500Z"
   },
   {
    "duration": 5959,
    "start_time": "2022-01-13T09:59:48.141Z"
   },
   {
    "duration": 68,
    "start_time": "2022-01-13T10:02:20.148Z"
   },
   {
    "duration": 4081,
    "start_time": "2022-01-13T10:02:20.218Z"
   },
   {
    "duration": 27,
    "start_time": "2022-01-13T10:02:24.302Z"
   },
   {
    "duration": 16,
    "start_time": "2022-01-13T10:02:24.331Z"
   },
   {
    "duration": 5994,
    "start_time": "2022-01-13T10:04:25.050Z"
   },
   {
    "duration": 12,
    "start_time": "2022-01-13T10:09:13.179Z"
   },
   {
    "duration": 29,
    "start_time": "2022-01-13T10:09:39.254Z"
   },
   {
    "duration": 20782,
    "start_time": "2022-01-13T10:11:33.909Z"
   },
   {
    "duration": 12,
    "start_time": "2022-01-13T10:11:56.525Z"
   },
   {
    "duration": 26756,
    "start_time": "2022-01-13T10:12:11.157Z"
   },
   {
    "duration": 8,
    "start_time": "2022-01-13T10:12:49.136Z"
   },
   {
    "duration": 1960,
    "start_time": "2022-01-13T10:21:35.586Z"
   },
   {
    "duration": 3225,
    "start_time": "2022-01-13T10:21:53.154Z"
   },
   {
    "duration": 2112,
    "start_time": "2022-01-13T10:22:06.772Z"
   },
   {
    "duration": 60,
    "start_time": "2022-01-13T10:22:20.299Z"
   },
   {
    "duration": 6998,
    "start_time": "2022-01-13T10:23:37.737Z"
   },
   {
    "duration": 6714,
    "start_time": "2022-01-13T10:24:06.693Z"
   },
   {
    "duration": 12,
    "start_time": "2022-01-13T10:25:11.833Z"
   },
   {
    "duration": 14,
    "start_time": "2022-01-13T10:25:48.312Z"
   },
   {
    "duration": 6,
    "start_time": "2022-01-13T10:26:09.392Z"
   },
   {
    "duration": 8,
    "start_time": "2022-01-13T10:26:58.118Z"
   },
   {
    "duration": 23,
    "start_time": "2022-01-13T10:27:11.618Z"
   },
   {
    "duration": 43,
    "start_time": "2022-01-13T10:27:26.750Z"
   },
   {
    "duration": 5,
    "start_time": "2022-01-13T10:27:35.853Z"
   },
   {
    "duration": 5,
    "start_time": "2022-01-13T10:28:23.492Z"
   },
   {
    "duration": 9,
    "start_time": "2022-01-13T10:28:36.274Z"
   },
   {
    "duration": 7,
    "start_time": "2022-01-13T10:28:49.316Z"
   },
   {
    "duration": 5,
    "start_time": "2022-01-13T10:29:01.213Z"
   },
   {
    "duration": 3,
    "start_time": "2022-01-13T10:29:13.224Z"
   },
   {
    "duration": 10,
    "start_time": "2022-01-13T10:29:21.428Z"
   },
   {
    "duration": 14,
    "start_time": "2022-01-13T10:29:57.380Z"
   },
   {
    "duration": 22,
    "start_time": "2022-01-13T10:30:22.159Z"
   },
   {
    "duration": 29,
    "start_time": "2022-01-13T10:30:33.198Z"
   },
   {
    "duration": 8,
    "start_time": "2022-01-13T10:30:45.370Z"
   },
   {
    "duration": 26,
    "start_time": "2022-01-13T10:31:01.252Z"
   },
   {
    "duration": 24,
    "start_time": "2022-01-13T10:31:10.855Z"
   },
   {
    "duration": 39,
    "start_time": "2022-01-13T10:31:18.048Z"
   },
   {
    "duration": 8,
    "start_time": "2022-01-13T10:31:30.746Z"
   },
   {
    "duration": 8,
    "start_time": "2022-01-13T10:31:47.433Z"
   },
   {
    "duration": 4115,
    "start_time": "2022-01-13T10:32:20.940Z"
   },
   {
    "duration": 75,
    "start_time": "2022-01-13T10:32:30.213Z"
   },
   {
    "duration": 10,
    "start_time": "2022-01-13T10:32:30.290Z"
   },
   {
    "duration": 56,
    "start_time": "2022-01-13T10:32:30.302Z"
   },
   {
    "duration": 46,
    "start_time": "2022-01-13T10:32:30.360Z"
   },
   {
    "duration": 29,
    "start_time": "2022-01-13T10:32:30.408Z"
   },
   {
    "duration": 64,
    "start_time": "2022-01-13T10:32:30.439Z"
   },
   {
    "duration": 48,
    "start_time": "2022-01-13T10:32:30.505Z"
   },
   {
    "duration": 64,
    "start_time": "2022-01-13T10:32:30.556Z"
   },
   {
    "duration": 45,
    "start_time": "2022-01-13T10:32:30.623Z"
   },
   {
    "duration": 29,
    "start_time": "2022-01-13T10:32:30.670Z"
   },
   {
    "duration": 38,
    "start_time": "2022-01-13T10:32:30.702Z"
   },
   {
    "duration": 38,
    "start_time": "2022-01-13T10:32:30.741Z"
   },
   {
    "duration": 32,
    "start_time": "2022-01-13T10:32:30.781Z"
   },
   {
    "duration": 37,
    "start_time": "2022-01-13T10:32:30.815Z"
   },
   {
    "duration": 53,
    "start_time": "2022-01-13T10:32:30.854Z"
   },
   {
    "duration": 23,
    "start_time": "2022-01-13T10:32:30.909Z"
   },
   {
    "duration": 74,
    "start_time": "2022-01-13T10:32:30.934Z"
   },
   {
    "duration": 25,
    "start_time": "2022-01-13T10:32:31.010Z"
   },
   {
    "duration": 50,
    "start_time": "2022-01-13T10:32:31.037Z"
   },
   {
    "duration": 113,
    "start_time": "2022-01-13T10:32:31.089Z"
   },
   {
    "duration": 186,
    "start_time": "2022-01-13T10:32:31.204Z"
   },
   {
    "duration": 38,
    "start_time": "2022-01-13T10:32:31.393Z"
   },
   {
    "duration": 61,
    "start_time": "2022-01-13T10:32:31.435Z"
   },
   {
    "duration": 4140,
    "start_time": "2022-01-13T10:32:31.498Z"
   },
   {
    "duration": 43,
    "start_time": "2022-01-13T10:32:35.640Z"
   },
   {
    "duration": 29814,
    "start_time": "2022-01-13T10:32:35.685Z"
   },
   {
    "duration": 7,
    "start_time": "2022-01-13T10:33:05.501Z"
   },
   {
    "duration": 10,
    "start_time": "2022-01-13T10:33:41.544Z"
   },
   {
    "duration": 8,
    "start_time": "2022-01-13T10:33:54.425Z"
   },
   {
    "duration": 66,
    "start_time": "2022-01-13T10:34:03.946Z"
   },
   {
    "duration": 9,
    "start_time": "2022-01-13T10:34:04.014Z"
   },
   {
    "duration": 15,
    "start_time": "2022-01-13T10:34:04.025Z"
   },
   {
    "duration": 25,
    "start_time": "2022-01-13T10:34:04.042Z"
   },
   {
    "duration": 16,
    "start_time": "2022-01-13T10:34:04.070Z"
   },
   {
    "duration": 22,
    "start_time": "2022-01-13T10:34:04.088Z"
   },
   {
    "duration": 23,
    "start_time": "2022-01-13T10:34:04.112Z"
   },
   {
    "duration": 27,
    "start_time": "2022-01-13T10:34:04.136Z"
   },
   {
    "duration": 8,
    "start_time": "2022-01-13T10:34:04.168Z"
   },
   {
    "duration": 12,
    "start_time": "2022-01-13T10:34:04.179Z"
   },
   {
    "duration": 6,
    "start_time": "2022-01-13T10:34:04.193Z"
   },
   {
    "duration": 8,
    "start_time": "2022-01-13T10:34:04.200Z"
   },
   {
    "duration": 4,
    "start_time": "2022-01-13T10:34:04.210Z"
   },
   {
    "duration": 11,
    "start_time": "2022-01-13T10:34:04.216Z"
   },
   {
    "duration": 48,
    "start_time": "2022-01-13T10:34:04.229Z"
   },
   {
    "duration": 16,
    "start_time": "2022-01-13T10:34:04.280Z"
   },
   {
    "duration": 30,
    "start_time": "2022-01-13T10:34:04.298Z"
   },
   {
    "duration": 35,
    "start_time": "2022-01-13T10:34:04.331Z"
   },
   {
    "duration": 25,
    "start_time": "2022-01-13T10:34:04.369Z"
   },
   {
    "duration": 20,
    "start_time": "2022-01-13T10:34:04.395Z"
   },
   {
    "duration": 55,
    "start_time": "2022-01-13T10:34:04.417Z"
   },
   {
    "duration": 10,
    "start_time": "2022-01-13T10:34:04.473Z"
   },
   {
    "duration": 9,
    "start_time": "2022-01-13T10:34:04.485Z"
   },
   {
    "duration": 3898,
    "start_time": "2022-01-13T10:34:04.495Z"
   },
   {
    "duration": 24,
    "start_time": "2022-01-13T10:34:08.395Z"
   },
   {
    "duration": 28065,
    "start_time": "2022-01-13T10:34:08.421Z"
   },
   {
    "duration": 8,
    "start_time": "2022-01-13T10:34:36.489Z"
   },
   {
    "duration": 4533,
    "start_time": "2022-01-13T10:37:13.344Z"
   },
   {
    "duration": 6008,
    "start_time": "2022-01-13T10:41:07.017Z"
   },
   {
    "duration": 4811,
    "start_time": "2022-01-13T10:41:32.877Z"
   },
   {
    "duration": 4121,
    "start_time": "2022-01-13T10:41:47.177Z"
   },
   {
    "duration": 39,
    "start_time": "2022-01-13T10:49:54.369Z"
   },
   {
    "duration": 93,
    "start_time": "2022-01-13T10:50:01.031Z"
   },
   {
    "duration": 37,
    "start_time": "2022-01-13T10:50:01.126Z"
   },
   {
    "duration": 16,
    "start_time": "2022-01-13T10:50:01.165Z"
   },
   {
    "duration": 57,
    "start_time": "2022-01-13T10:50:01.183Z"
   },
   {
    "duration": 56,
    "start_time": "2022-01-13T10:50:01.243Z"
   },
   {
    "duration": 45,
    "start_time": "2022-01-13T10:50:01.303Z"
   },
   {
    "duration": 41,
    "start_time": "2022-01-13T10:50:01.351Z"
   },
   {
    "duration": 8,
    "start_time": "2022-01-13T10:50:01.397Z"
   },
   {
    "duration": 22,
    "start_time": "2022-01-13T10:50:01.408Z"
   },
   {
    "duration": 18,
    "start_time": "2022-01-13T10:50:01.432Z"
   },
   {
    "duration": 13,
    "start_time": "2022-01-13T10:50:01.452Z"
   },
   {
    "duration": 28,
    "start_time": "2022-01-13T10:50:01.468Z"
   },
   {
    "duration": 31,
    "start_time": "2022-01-13T10:50:01.499Z"
   },
   {
    "duration": 27,
    "start_time": "2022-01-13T10:50:01.533Z"
   },
   {
    "duration": 62,
    "start_time": "2022-01-13T10:50:01.562Z"
   },
   {
    "duration": 16,
    "start_time": "2022-01-13T10:50:01.626Z"
   },
   {
    "duration": 45,
    "start_time": "2022-01-13T10:50:01.644Z"
   },
   {
    "duration": 16,
    "start_time": "2022-01-13T10:50:01.692Z"
   },
   {
    "duration": 56,
    "start_time": "2022-01-13T10:50:01.710Z"
   },
   {
    "duration": 149,
    "start_time": "2022-01-13T10:50:01.768Z"
   },
   {
    "duration": 51,
    "start_time": "2022-01-13T10:50:01.919Z"
   },
   {
    "duration": 24,
    "start_time": "2022-01-13T10:50:01.973Z"
   },
   {
    "duration": 20,
    "start_time": "2022-01-13T10:50:02.000Z"
   },
   {
    "duration": 4640,
    "start_time": "2022-01-13T10:50:02.023Z"
   },
   {
    "duration": 29138,
    "start_time": "2022-01-13T10:50:06.666Z"
   },
   {
    "duration": 10,
    "start_time": "2022-01-13T10:50:35.806Z"
   },
   {
    "duration": 30,
    "start_time": "2022-01-13T10:51:19.441Z"
   },
   {
    "duration": 14828,
    "start_time": "2022-01-13T10:59:28.237Z"
   },
   {
    "duration": 19846,
    "start_time": "2022-01-13T11:00:35.722Z"
   },
   {
    "duration": 12,
    "start_time": "2022-01-13T11:00:55.571Z"
   },
   {
    "duration": 11,
    "start_time": "2022-01-13T11:17:40.329Z"
   },
   {
    "duration": 4,
    "start_time": "2022-01-13T11:17:55.893Z"
   },
   {
    "duration": 9,
    "start_time": "2022-01-13T11:18:08.925Z"
   },
   {
    "duration": 11,
    "start_time": "2022-01-13T11:19:32.539Z"
   },
   {
    "duration": 850,
    "start_time": "2022-01-13T15:13:16.606Z"
   },
   {
    "duration": 21,
    "start_time": "2022-01-13T15:13:17.459Z"
   },
   {
    "duration": 39,
    "start_time": "2022-01-13T15:13:17.483Z"
   },
   {
    "duration": 8,
    "start_time": "2022-01-13T15:13:17.525Z"
   },
   {
    "duration": 10,
    "start_time": "2022-01-13T15:13:17.535Z"
   },
   {
    "duration": 29,
    "start_time": "2022-01-13T15:13:17.548Z"
   },
   {
    "duration": 33,
    "start_time": "2022-01-13T15:13:17.616Z"
   },
   {
    "duration": 6,
    "start_time": "2022-01-13T15:13:17.653Z"
   },
   {
    "duration": 5,
    "start_time": "2022-01-13T15:13:17.662Z"
   },
   {
    "duration": 9,
    "start_time": "2022-01-13T15:13:17.670Z"
   },
   {
    "duration": 8,
    "start_time": "2022-01-13T15:13:17.718Z"
   },
   {
    "duration": 8,
    "start_time": "2022-01-13T15:13:17.729Z"
   },
   {
    "duration": 4,
    "start_time": "2022-01-13T15:13:17.740Z"
   },
   {
    "duration": 13,
    "start_time": "2022-01-13T15:13:17.747Z"
   },
   {
    "duration": 60,
    "start_time": "2022-01-13T15:13:17.763Z"
   },
   {
    "duration": 22,
    "start_time": "2022-01-13T15:13:17.825Z"
   },
   {
    "duration": 68,
    "start_time": "2022-01-13T15:13:17.849Z"
   },
   {
    "duration": 10,
    "start_time": "2022-01-13T15:13:17.919Z"
   },
   {
    "duration": 27,
    "start_time": "2022-01-13T15:13:17.931Z"
   },
   {
    "duration": 23,
    "start_time": "2022-01-13T15:13:17.960Z"
   },
   {
    "duration": 43,
    "start_time": "2022-01-13T15:13:18.018Z"
   },
   {
    "duration": 9,
    "start_time": "2022-01-13T15:13:18.063Z"
   },
   {
    "duration": 14,
    "start_time": "2022-01-13T15:13:18.076Z"
   },
   {
    "duration": 4414,
    "start_time": "2022-01-13T15:13:18.118Z"
   },
   {
    "duration": 36350,
    "start_time": "2022-01-13T15:13:22.535Z"
   },
   {
    "duration": 10,
    "start_time": "2022-01-13T15:13:58.887Z"
   },
   {
    "duration": 26,
    "start_time": "2022-01-13T15:13:58.900Z"
   },
   {
    "duration": 335,
    "start_time": "2022-01-13T15:13:58.928Z"
   },
   {
    "duration": 14,
    "start_time": "2022-01-13T15:14:08.850Z"
   },
   {
    "duration": 6,
    "start_time": "2022-01-13T15:17:20.755Z"
   },
   {
    "duration": 13,
    "start_time": "2022-01-13T15:17:30.331Z"
   },
   {
    "duration": 12,
    "start_time": "2022-01-13T15:17:50.262Z"
   },
   {
    "duration": 10,
    "start_time": "2022-01-13T15:19:49.544Z"
   },
   {
    "duration": 12,
    "start_time": "2022-01-13T15:21:53.799Z"
   },
   {
    "duration": 19,
    "start_time": "2022-01-13T15:29:56.812Z"
   },
   {
    "duration": 24,
    "start_time": "2022-01-13T15:32:02.653Z"
   },
   {
    "duration": 15,
    "start_time": "2022-01-13T15:32:20.160Z"
   },
   {
    "duration": 73,
    "start_time": "2022-01-13T15:33:30.441Z"
   },
   {
    "duration": 12,
    "start_time": "2022-01-13T15:33:30.517Z"
   },
   {
    "duration": 29,
    "start_time": "2022-01-13T15:33:30.532Z"
   },
   {
    "duration": 7,
    "start_time": "2022-01-13T15:33:30.564Z"
   },
   {
    "duration": 19,
    "start_time": "2022-01-13T15:33:30.573Z"
   },
   {
    "duration": 50,
    "start_time": "2022-01-13T15:33:30.595Z"
   },
   {
    "duration": 32,
    "start_time": "2022-01-13T15:33:30.648Z"
   },
   {
    "duration": 6,
    "start_time": "2022-01-13T15:33:30.684Z"
   },
   {
    "duration": 7,
    "start_time": "2022-01-13T15:33:30.718Z"
   },
   {
    "duration": 12,
    "start_time": "2022-01-13T15:33:30.727Z"
   },
   {
    "duration": 13,
    "start_time": "2022-01-13T15:33:30.742Z"
   },
   {
    "duration": 21,
    "start_time": "2022-01-13T15:33:30.757Z"
   },
   {
    "duration": 37,
    "start_time": "2022-01-13T15:33:30.780Z"
   },
   {
    "duration": 14,
    "start_time": "2022-01-13T15:33:30.820Z"
   },
   {
    "duration": 23,
    "start_time": "2022-01-13T15:33:30.837Z"
   },
   {
    "duration": 66,
    "start_time": "2022-01-13T15:33:30.863Z"
   },
   {
    "duration": 45,
    "start_time": "2022-01-13T15:33:30.932Z"
   },
   {
    "duration": 11,
    "start_time": "2022-01-13T15:33:30.980Z"
   },
   {
    "duration": 46,
    "start_time": "2022-01-13T15:33:30.993Z"
   },
   {
    "duration": 41,
    "start_time": "2022-01-13T15:33:31.042Z"
   },
   {
    "duration": 69,
    "start_time": "2022-01-13T15:33:31.085Z"
   },
   {
    "duration": 11,
    "start_time": "2022-01-13T15:33:31.157Z"
   },
   {
    "duration": 41,
    "start_time": "2022-01-13T15:33:31.177Z"
   },
   {
    "duration": 4610,
    "start_time": "2022-01-13T15:33:31.221Z"
   },
   {
    "duration": 36929,
    "start_time": "2022-01-13T15:33:35.834Z"
   },
   {
    "duration": 9,
    "start_time": "2022-01-13T15:34:12.765Z"
   },
   {
    "duration": 13,
    "start_time": "2022-01-13T15:34:12.776Z"
   },
   {
    "duration": 38,
    "start_time": "2022-01-13T15:34:12.792Z"
   },
   {
    "duration": 12,
    "start_time": "2022-01-13T15:34:12.832Z"
   },
   {
    "duration": 9,
    "start_time": "2022-01-13T15:34:12.847Z"
   },
   {
    "duration": 12,
    "start_time": "2022-01-13T15:34:12.859Z"
   },
   {
    "duration": 95,
    "start_time": "2022-01-13T15:34:12.873Z"
   },
   {
    "duration": 259,
    "start_time": "2022-01-13T15:35:17.606Z"
   },
   {
    "duration": 327,
    "start_time": "2022-01-13T15:35:41.945Z"
   },
   {
    "duration": 21,
    "start_time": "2022-01-13T15:36:53.571Z"
   },
   {
    "duration": 8,
    "start_time": "2022-01-13T15:38:18.861Z"
   },
   {
    "duration": 73,
    "start_time": "2022-01-13T15:40:09.291Z"
   },
   {
    "duration": 13,
    "start_time": "2022-01-13T15:40:09.367Z"
   },
   {
    "duration": 51,
    "start_time": "2022-01-13T15:40:09.383Z"
   },
   {
    "duration": 8,
    "start_time": "2022-01-13T15:40:09.437Z"
   },
   {
    "duration": 12,
    "start_time": "2022-01-13T15:40:09.447Z"
   },
   {
    "duration": 67,
    "start_time": "2022-01-13T15:40:09.461Z"
   },
   {
    "duration": 30,
    "start_time": "2022-01-13T15:40:09.531Z"
   },
   {
    "duration": 6,
    "start_time": "2022-01-13T15:40:09.565Z"
   },
   {
    "duration": 6,
    "start_time": "2022-01-13T15:40:09.574Z"
   },
   {
    "duration": 11,
    "start_time": "2022-01-13T15:40:09.617Z"
   },
   {
    "duration": 13,
    "start_time": "2022-01-13T15:40:09.631Z"
   },
   {
    "duration": 8,
    "start_time": "2022-01-13T15:40:09.646Z"
   },
   {
    "duration": 5,
    "start_time": "2022-01-13T15:40:09.656Z"
   },
   {
    "duration": 58,
    "start_time": "2022-01-13T15:40:09.663Z"
   },
   {
    "duration": 17,
    "start_time": "2022-01-13T15:40:09.724Z"
   },
   {
    "duration": 21,
    "start_time": "2022-01-13T15:40:09.744Z"
   },
   {
    "duration": 76,
    "start_time": "2022-01-13T15:40:09.768Z"
   },
   {
    "duration": 11,
    "start_time": "2022-01-13T15:40:09.846Z"
   },
   {
    "duration": 23,
    "start_time": "2022-01-13T15:40:09.859Z"
   },
   {
    "duration": 62,
    "start_time": "2022-01-13T15:40:09.885Z"
   },
   {
    "duration": 76,
    "start_time": "2022-01-13T15:40:09.950Z"
   },
   {
    "duration": 13,
    "start_time": "2022-01-13T15:40:10.029Z"
   },
   {
    "duration": 14,
    "start_time": "2022-01-13T15:40:10.048Z"
   },
   {
    "duration": 10,
    "start_time": "2022-01-13T15:40:10.066Z"
   },
   {
    "duration": 58,
    "start_time": "2022-01-13T15:40:10.079Z"
   },
   {
    "duration": 4756,
    "start_time": "2022-01-13T15:40:10.141Z"
   },
   {
    "duration": 36825,
    "start_time": "2022-01-13T15:40:14.900Z"
   },
   {
    "duration": 12,
    "start_time": "2022-01-13T15:40:51.727Z"
   },
   {
    "duration": 13,
    "start_time": "2022-01-13T15:40:51.742Z"
   },
   {
    "duration": 16,
    "start_time": "2022-01-13T15:40:51.757Z"
   },
   {
    "duration": 51,
    "start_time": "2022-01-13T15:40:51.776Z"
   },
   {
    "duration": 10,
    "start_time": "2022-01-13T15:40:51.830Z"
   },
   {
    "duration": 13,
    "start_time": "2022-01-13T15:40:51.843Z"
   },
   {
    "duration": 120,
    "start_time": "2022-01-13T15:40:51.859Z"
   },
   {
    "duration": 13,
    "start_time": "2022-01-13T15:42:49.246Z"
   },
   {
    "duration": 13,
    "start_time": "2022-01-13T15:43:29.468Z"
   },
   {
    "duration": 74,
    "start_time": "2022-01-13T15:46:03.157Z"
   },
   {
    "duration": 12,
    "start_time": "2022-01-13T15:46:03.234Z"
   },
   {
    "duration": 20,
    "start_time": "2022-01-13T15:46:03.249Z"
   },
   {
    "duration": 6,
    "start_time": "2022-01-13T15:46:03.272Z"
   },
   {
    "duration": 10,
    "start_time": "2022-01-13T15:46:03.318Z"
   },
   {
    "duration": 30,
    "start_time": "2022-01-13T15:46:03.330Z"
   },
   {
    "duration": 61,
    "start_time": "2022-01-13T15:46:03.362Z"
   },
   {
    "duration": 6,
    "start_time": "2022-01-13T15:46:03.426Z"
   },
   {
    "duration": 6,
    "start_time": "2022-01-13T15:46:03.435Z"
   },
   {
    "duration": 10,
    "start_time": "2022-01-13T15:46:03.443Z"
   },
   {
    "duration": 12,
    "start_time": "2022-01-13T15:46:03.456Z"
   },
   {
    "duration": 47,
    "start_time": "2022-01-13T15:46:03.470Z"
   },
   {
    "duration": 5,
    "start_time": "2022-01-13T15:46:03.520Z"
   },
   {
    "duration": 14,
    "start_time": "2022-01-13T15:46:03.527Z"
   },
   {
    "duration": 18,
    "start_time": "2022-01-13T15:46:03.543Z"
   },
   {
    "duration": 62,
    "start_time": "2022-01-13T15:46:03.564Z"
   },
   {
    "duration": 45,
    "start_time": "2022-01-13T15:46:03.629Z"
   },
   {
    "duration": 10,
    "start_time": "2022-01-13T15:46:03.677Z"
   },
   {
    "duration": 50,
    "start_time": "2022-01-13T15:46:03.689Z"
   },
   {
    "duration": 31,
    "start_time": "2022-01-13T15:46:03.741Z"
   },
   {
    "duration": 68,
    "start_time": "2022-01-13T15:46:03.774Z"
   },
   {
    "duration": 10,
    "start_time": "2022-01-13T15:46:03.844Z"
   },
   {
    "duration": 11,
    "start_time": "2022-01-13T15:46:03.862Z"
   },
   {
    "duration": 43,
    "start_time": "2022-01-13T15:46:03.876Z"
   },
   {
    "duration": 18,
    "start_time": "2022-01-13T15:46:03.922Z"
   },
   {
    "duration": 18,
    "start_time": "2022-01-13T15:46:03.942Z"
   },
   {
    "duration": 4625,
    "start_time": "2022-01-13T15:46:03.963Z"
   },
   {
    "duration": 38363,
    "start_time": "2022-01-13T15:46:08.591Z"
   },
   {
    "duration": 10,
    "start_time": "2022-01-13T15:46:46.956Z"
   },
   {
    "duration": 14,
    "start_time": "2022-01-13T15:46:46.968Z"
   },
   {
    "duration": 40,
    "start_time": "2022-01-13T15:46:46.985Z"
   },
   {
    "duration": 18,
    "start_time": "2022-01-13T15:46:47.028Z"
   },
   {
    "duration": 16,
    "start_time": "2022-01-13T15:46:47.049Z"
   },
   {
    "duration": 56,
    "start_time": "2022-01-13T15:46:47.068Z"
   },
   {
    "duration": 82,
    "start_time": "2022-01-13T15:46:47.127Z"
   },
   {
    "duration": 10,
    "start_time": "2022-01-13T15:47:32.851Z"
   },
   {
    "duration": 82,
    "start_time": "2022-01-13T15:55:57.453Z"
   },
   {
    "duration": 13,
    "start_time": "2022-01-13T15:55:57.538Z"
   },
   {
    "duration": 29,
    "start_time": "2022-01-13T15:55:57.555Z"
   },
   {
    "duration": 11,
    "start_time": "2022-01-13T15:55:57.619Z"
   },
   {
    "duration": 11,
    "start_time": "2022-01-13T15:55:57.634Z"
   },
   {
    "duration": 35,
    "start_time": "2022-01-13T15:55:57.647Z"
   },
   {
    "duration": 38,
    "start_time": "2022-01-13T15:55:57.719Z"
   },
   {
    "duration": 7,
    "start_time": "2022-01-13T15:55:57.761Z"
   },
   {
    "duration": 6,
    "start_time": "2022-01-13T15:55:57.771Z"
   },
   {
    "duration": 48,
    "start_time": "2022-01-13T15:55:57.780Z"
   },
   {
    "duration": 17,
    "start_time": "2022-01-13T15:55:57.831Z"
   },
   {
    "duration": 6,
    "start_time": "2022-01-13T15:55:57.851Z"
   },
   {
    "duration": 5,
    "start_time": "2022-01-13T15:55:57.859Z"
   },
   {
    "duration": 67,
    "start_time": "2022-01-13T15:55:57.866Z"
   },
   {
    "duration": 78,
    "start_time": "2022-01-13T15:55:57.936Z"
   },
   {
    "duration": 38,
    "start_time": "2022-01-13T15:55:58.026Z"
   },
   {
    "duration": 73,
    "start_time": "2022-01-13T15:55:58.067Z"
   },
   {
    "duration": 14,
    "start_time": "2022-01-13T15:55:58.144Z"
   },
   {
    "duration": 29,
    "start_time": "2022-01-13T15:55:58.160Z"
   },
   {
    "duration": 32,
    "start_time": "2022-01-13T15:55:58.216Z"
   },
   {
    "duration": 67,
    "start_time": "2022-01-13T15:55:58.250Z"
   },
   {
    "duration": 14,
    "start_time": "2022-01-13T15:55:58.321Z"
   },
   {
    "duration": 14,
    "start_time": "2022-01-13T15:55:58.342Z"
   },
   {
    "duration": 8,
    "start_time": "2022-01-13T15:55:58.359Z"
   },
   {
    "duration": 68,
    "start_time": "2022-01-13T15:55:58.369Z"
   },
   {
    "duration": 15,
    "start_time": "2022-01-13T15:55:58.440Z"
   },
   {
    "duration": 5685,
    "start_time": "2022-01-13T15:55:58.458Z"
   },
   {
    "duration": 41163,
    "start_time": "2022-01-13T15:56:04.145Z"
   },
   {
    "duration": 25,
    "start_time": "2022-01-13T15:56:45.310Z"
   },
   {
    "duration": 12,
    "start_time": "2022-01-13T15:56:45.337Z"
   },
   {
    "duration": 17,
    "start_time": "2022-01-13T15:56:45.353Z"
   },
   {
    "duration": 57,
    "start_time": "2022-01-13T15:56:45.373Z"
   },
   {
    "duration": 12,
    "start_time": "2022-01-13T15:56:45.440Z"
   },
   {
    "duration": 17,
    "start_time": "2022-01-13T15:56:45.454Z"
   },
   {
    "duration": 437,
    "start_time": "2022-01-13T15:56:45.474Z"
   },
   {
    "duration": 14,
    "start_time": "2022-01-13T16:00:44.715Z"
   },
   {
    "duration": 16,
    "start_time": "2022-01-13T16:00:49.715Z"
   },
   {
    "duration": 10,
    "start_time": "2022-01-13T16:01:02.340Z"
   },
   {
    "duration": 11,
    "start_time": "2022-01-13T16:05:38.581Z"
   },
   {
    "duration": 451,
    "start_time": "2022-01-13T16:06:15.348Z"
   },
   {
    "duration": 27,
    "start_time": "2022-01-13T16:06:58.554Z"
   },
   {
    "duration": 30,
    "start_time": "2022-01-13T16:07:34.159Z"
   },
   {
    "duration": 28,
    "start_time": "2022-01-13T16:07:50.776Z"
   },
   {
    "duration": 25,
    "start_time": "2022-01-13T16:08:54.344Z"
   },
   {
    "duration": 11,
    "start_time": "2022-01-13T16:19:40.579Z"
   },
   {
    "duration": 75,
    "start_time": "2022-01-13T16:34:04.690Z"
   },
   {
    "duration": 49,
    "start_time": "2022-01-13T16:34:04.767Z"
   },
   {
    "duration": 20,
    "start_time": "2022-01-13T16:34:04.819Z"
   },
   {
    "duration": 8,
    "start_time": "2022-01-13T16:34:04.841Z"
   },
   {
    "duration": 10,
    "start_time": "2022-01-13T16:34:04.851Z"
   },
   {
    "duration": 66,
    "start_time": "2022-01-13T16:34:04.863Z"
   },
   {
    "duration": 32,
    "start_time": "2022-01-13T16:34:04.932Z"
   },
   {
    "duration": 6,
    "start_time": "2022-01-13T16:34:04.967Z"
   },
   {
    "duration": 8,
    "start_time": "2022-01-13T16:34:04.976Z"
   },
   {
    "duration": 38,
    "start_time": "2022-01-13T16:34:04.987Z"
   },
   {
    "duration": 12,
    "start_time": "2022-01-13T16:34:05.027Z"
   },
   {
    "duration": 9,
    "start_time": "2022-01-13T16:34:05.042Z"
   },
   {
    "duration": 5,
    "start_time": "2022-01-13T16:34:05.054Z"
   },
   {
    "duration": 15,
    "start_time": "2022-01-13T16:34:05.061Z"
   },
   {
    "duration": 55,
    "start_time": "2022-01-13T16:34:05.078Z"
   },
   {
    "duration": 24,
    "start_time": "2022-01-13T16:34:05.135Z"
   },
   {
    "duration": 73,
    "start_time": "2022-01-13T16:34:05.162Z"
   },
   {
    "duration": 10,
    "start_time": "2022-01-13T16:34:05.238Z"
   },
   {
    "duration": 30,
    "start_time": "2022-01-13T16:34:05.250Z"
   },
   {
    "duration": 46,
    "start_time": "2022-01-13T16:34:05.282Z"
   },
   {
    "duration": 46,
    "start_time": "2022-01-13T16:34:05.330Z"
   },
   {
    "duration": 9,
    "start_time": "2022-01-13T16:34:05.378Z"
   },
   {
    "duration": 9,
    "start_time": "2022-01-13T16:34:05.420Z"
   },
   {
    "duration": 17,
    "start_time": "2022-01-13T16:34:05.432Z"
   },
   {
    "duration": 22,
    "start_time": "2022-01-13T16:34:05.452Z"
   },
   {
    "duration": 12,
    "start_time": "2022-01-13T16:34:05.476Z"
   },
   {
    "duration": 4557,
    "start_time": "2022-01-13T16:34:05.491Z"
   },
   {
    "duration": 26143,
    "start_time": "2022-01-13T16:34:10.050Z"
   },
   {
    "duration": 24,
    "start_time": "2022-01-13T16:34:36.195Z"
   },
   {
    "duration": 15,
    "start_time": "2022-01-13T16:34:36.221Z"
   },
   {
    "duration": 17,
    "start_time": "2022-01-13T16:34:36.238Z"
   },
   {
    "duration": 9,
    "start_time": "2022-01-13T16:34:36.258Z"
   },
   {
    "duration": 55,
    "start_time": "2022-01-13T16:34:36.269Z"
   },
   {
    "duration": 11,
    "start_time": "2022-01-13T16:34:36.326Z"
   },
   {
    "duration": 27,
    "start_time": "2022-01-13T16:34:36.340Z"
   },
   {
    "duration": 11,
    "start_time": "2022-01-13T16:34:36.369Z"
   },
   {
    "duration": 36,
    "start_time": "2022-01-13T16:34:36.382Z"
   },
   {
    "duration": 264,
    "start_time": "2022-01-13T16:41:25.538Z"
   },
   {
    "duration": 30,
    "start_time": "2022-01-13T16:41:36.309Z"
   },
   {
    "duration": 296,
    "start_time": "2022-01-13T16:41:50.413Z"
   },
   {
    "duration": 309,
    "start_time": "2022-01-13T16:42:21.898Z"
   },
   {
    "duration": 307,
    "start_time": "2022-01-13T16:43:02.367Z"
   },
   {
    "duration": 270,
    "start_time": "2022-01-13T16:43:51.590Z"
   },
   {
    "duration": 244,
    "start_time": "2022-01-13T16:44:38.228Z"
   },
   {
    "duration": 290,
    "start_time": "2022-01-13T16:47:11.238Z"
   },
   {
    "duration": 233,
    "start_time": "2022-01-13T16:48:50.059Z"
   },
   {
    "duration": 37,
    "start_time": "2022-01-13T16:52:21.084Z"
   },
   {
    "duration": 39,
    "start_time": "2022-01-13T16:53:22.092Z"
   },
   {
    "duration": 42,
    "start_time": "2022-01-13T16:53:29.358Z"
   },
   {
    "duration": 95,
    "start_time": "2022-01-13T16:54:41.496Z"
   },
   {
    "duration": 281,
    "start_time": "2022-01-13T16:55:04.586Z"
   },
   {
    "duration": 7037,
    "start_time": "2022-01-13T16:55:48.992Z"
   },
   {
    "duration": 72,
    "start_time": "2022-01-13T17:01:09.691Z"
   },
   {
    "duration": 12,
    "start_time": "2022-01-13T17:01:09.766Z"
   },
   {
    "duration": 53,
    "start_time": "2022-01-13T17:01:09.781Z"
   },
   {
    "duration": 8,
    "start_time": "2022-01-13T17:01:09.837Z"
   },
   {
    "duration": 13,
    "start_time": "2022-01-13T17:01:09.847Z"
   },
   {
    "duration": 65,
    "start_time": "2022-01-13T17:01:09.862Z"
   },
   {
    "duration": 32,
    "start_time": "2022-01-13T17:01:09.929Z"
   },
   {
    "duration": 5,
    "start_time": "2022-01-13T17:01:09.965Z"
   },
   {
    "duration": 10,
    "start_time": "2022-01-13T17:01:09.973Z"
   },
   {
    "duration": 39,
    "start_time": "2022-01-13T17:01:09.985Z"
   },
   {
    "duration": 12,
    "start_time": "2022-01-13T17:01:10.026Z"
   },
   {
    "duration": 22,
    "start_time": "2022-01-13T17:01:10.041Z"
   },
   {
    "duration": 6,
    "start_time": "2022-01-13T17:01:10.066Z"
   },
   {
    "duration": 43,
    "start_time": "2022-01-13T17:01:10.074Z"
   },
   {
    "duration": 24,
    "start_time": "2022-01-13T17:01:10.120Z"
   },
   {
    "duration": 20,
    "start_time": "2022-01-13T17:01:10.147Z"
   },
   {
    "duration": 75,
    "start_time": "2022-01-13T17:01:10.169Z"
   },
   {
    "duration": 11,
    "start_time": "2022-01-13T17:01:10.246Z"
   },
   {
    "duration": 27,
    "start_time": "2022-01-13T17:01:10.261Z"
   },
   {
    "duration": 27,
    "start_time": "2022-01-13T17:01:10.318Z"
   },
   {
    "duration": 70,
    "start_time": "2022-01-13T17:01:10.348Z"
   },
   {
    "duration": 9,
    "start_time": "2022-01-13T17:01:10.421Z"
   },
   {
    "duration": 10,
    "start_time": "2022-01-13T17:01:10.435Z"
   },
   {
    "duration": 10,
    "start_time": "2022-01-13T17:01:10.448Z"
   },
   {
    "duration": 57,
    "start_time": "2022-01-13T17:01:10.461Z"
   },
   {
    "duration": 12,
    "start_time": "2022-01-13T17:01:10.521Z"
   },
   {
    "duration": 4487,
    "start_time": "2022-01-13T17:01:10.536Z"
   },
   {
    "duration": 28737,
    "start_time": "2022-01-13T17:01:15.026Z"
   },
   {
    "duration": 18,
    "start_time": "2022-01-13T17:01:43.765Z"
   },
   {
    "duration": 14,
    "start_time": "2022-01-13T17:01:43.785Z"
   },
   {
    "duration": 16,
    "start_time": "2022-01-13T17:01:43.818Z"
   },
   {
    "duration": 10,
    "start_time": "2022-01-13T17:01:43.836Z"
   },
   {
    "duration": 26,
    "start_time": "2022-01-13T17:01:43.849Z"
   },
   {
    "duration": 11,
    "start_time": "2022-01-13T17:01:43.877Z"
   },
   {
    "duration": 25,
    "start_time": "2022-01-13T17:01:43.918Z"
   },
   {
    "duration": 20,
    "start_time": "2022-01-13T17:01:43.945Z"
   },
   {
    "duration": 51,
    "start_time": "2022-01-13T17:01:43.967Z"
   },
   {
    "duration": 7058,
    "start_time": "2022-01-13T17:01:44.020Z"
   },
   {
    "duration": 7148,
    "start_time": "2022-01-13T17:02:14.770Z"
   },
   {
    "duration": 30,
    "start_time": "2022-01-13T17:03:01.015Z"
   },
   {
    "duration": 84,
    "start_time": "2022-01-13T17:03:53.320Z"
   },
   {
    "duration": 6053,
    "start_time": "2022-01-13T17:04:05.079Z"
   },
   {
    "duration": 28,
    "start_time": "2022-01-13T17:04:42.773Z"
   },
   {
    "duration": 26,
    "start_time": "2022-01-13T17:05:34.523Z"
   },
   {
    "duration": 26,
    "start_time": "2022-01-13T17:40:12.570Z"
   },
   {
    "duration": 26,
    "start_time": "2022-01-13T17:40:45.169Z"
   },
   {
    "duration": 27,
    "start_time": "2022-01-13T17:40:53.232Z"
   },
   {
    "duration": 16,
    "start_time": "2022-01-13T17:43:01.497Z"
   },
   {
    "duration": 15,
    "start_time": "2022-01-13T17:43:19.331Z"
   },
   {
    "duration": 10,
    "start_time": "2022-01-13T17:45:10.089Z"
   },
   {
    "duration": 20,
    "start_time": "2022-01-13T17:45:19.394Z"
   },
   {
    "duration": 24,
    "start_time": "2022-01-13T17:45:40.725Z"
   },
   {
    "duration": 273,
    "start_time": "2022-01-13T17:46:49.782Z"
   },
   {
    "duration": 28,
    "start_time": "2022-01-13T17:47:13.986Z"
   },
   {
    "duration": 20,
    "start_time": "2022-01-13T17:47:27.499Z"
   },
   {
    "duration": 73,
    "start_time": "2022-01-13T17:47:30.611Z"
   },
   {
    "duration": 42,
    "start_time": "2022-01-13T17:47:30.686Z"
   },
   {
    "duration": 20,
    "start_time": "2022-01-13T17:47:30.730Z"
   },
   {
    "duration": 7,
    "start_time": "2022-01-13T17:47:30.752Z"
   },
   {
    "duration": 16,
    "start_time": "2022-01-13T17:47:30.761Z"
   },
   {
    "duration": 66,
    "start_time": "2022-01-13T17:47:30.779Z"
   },
   {
    "duration": 33,
    "start_time": "2022-01-13T17:47:30.847Z"
   },
   {
    "duration": 33,
    "start_time": "2022-01-13T17:47:30.884Z"
   },
   {
    "duration": 6,
    "start_time": "2022-01-13T17:47:30.920Z"
   },
   {
    "duration": 10,
    "start_time": "2022-01-13T17:47:30.929Z"
   },
   {
    "duration": 13,
    "start_time": "2022-01-13T17:47:30.941Z"
   },
   {
    "duration": 11,
    "start_time": "2022-01-13T17:47:30.957Z"
   },
   {
    "duration": 47,
    "start_time": "2022-01-13T17:47:30.971Z"
   },
   {
    "duration": 13,
    "start_time": "2022-01-13T17:47:31.020Z"
   },
   {
    "duration": 25,
    "start_time": "2022-01-13T17:47:31.036Z"
   },
   {
    "duration": 26,
    "start_time": "2022-01-13T17:47:31.063Z"
   },
   {
    "duration": 69,
    "start_time": "2022-01-13T17:47:31.091Z"
   },
   {
    "duration": 10,
    "start_time": "2022-01-13T17:47:31.162Z"
   },
   {
    "duration": 55,
    "start_time": "2022-01-13T17:47:31.175Z"
   },
   {
    "duration": 53,
    "start_time": "2022-01-13T17:47:31.233Z"
   },
   {
    "duration": 47,
    "start_time": "2022-01-13T17:47:31.289Z"
   },
   {
    "duration": 9,
    "start_time": "2022-01-13T17:47:31.338Z"
   },
   {
    "duration": 17,
    "start_time": "2022-01-13T17:47:31.352Z"
   },
   {
    "duration": 20,
    "start_time": "2022-01-13T17:47:31.372Z"
   },
   {
    "duration": 34,
    "start_time": "2022-01-13T17:47:31.395Z"
   },
   {
    "duration": 13,
    "start_time": "2022-01-13T17:47:31.431Z"
   },
   {
    "duration": 5234,
    "start_time": "2022-01-13T17:47:31.447Z"
   },
   {
    "duration": 26544,
    "start_time": "2022-01-13T17:47:36.683Z"
   },
   {
    "duration": 20,
    "start_time": "2022-01-13T17:48:03.230Z"
   },
   {
    "duration": 14,
    "start_time": "2022-01-13T17:48:03.253Z"
   },
   {
    "duration": 55,
    "start_time": "2022-01-13T17:48:03.270Z"
   },
   {
    "duration": 11,
    "start_time": "2022-01-13T17:48:03.328Z"
   },
   {
    "duration": 14,
    "start_time": "2022-01-13T17:48:03.341Z"
   },
   {
    "duration": 23,
    "start_time": "2022-01-13T17:48:03.357Z"
   },
   {
    "duration": 55,
    "start_time": "2022-01-13T17:48:03.382Z"
   },
   {
    "duration": 14,
    "start_time": "2022-01-13T17:48:03.439Z"
   },
   {
    "duration": 28,
    "start_time": "2022-01-13T17:48:03.455Z"
   },
   {
    "duration": 272,
    "start_time": "2022-01-13T17:48:03.486Z"
   },
   {
    "duration": 503,
    "start_time": "2022-01-13T17:48:28.474Z"
   },
   {
    "duration": 27,
    "start_time": "2022-01-13T17:48:42.316Z"
   },
   {
    "duration": 109,
    "start_time": "2022-01-13T17:54:57.544Z"
   },
   {
    "duration": 18,
    "start_time": "2022-01-13T17:54:57.656Z"
   },
   {
    "duration": 50,
    "start_time": "2022-01-13T17:54:57.677Z"
   },
   {
    "duration": 8,
    "start_time": "2022-01-13T17:54:57.730Z"
   },
   {
    "duration": 12,
    "start_time": "2022-01-13T17:54:57.742Z"
   },
   {
    "duration": 71,
    "start_time": "2022-01-13T17:54:57.757Z"
   },
   {
    "duration": 33,
    "start_time": "2022-01-13T17:54:57.831Z"
   },
   {
    "duration": 6,
    "start_time": "2022-01-13T17:54:57.868Z"
   },
   {
    "duration": 7,
    "start_time": "2022-01-13T17:54:57.877Z"
   },
   {
    "duration": 11,
    "start_time": "2022-01-13T17:54:57.918Z"
   },
   {
    "duration": 17,
    "start_time": "2022-01-13T17:54:57.932Z"
   },
   {
    "duration": 8,
    "start_time": "2022-01-13T17:54:57.952Z"
   },
   {
    "duration": 5,
    "start_time": "2022-01-13T17:54:57.963Z"
   },
   {
    "duration": 13,
    "start_time": "2022-01-13T17:54:58.018Z"
   },
   {
    "duration": 19,
    "start_time": "2022-01-13T17:54:58.034Z"
   },
   {
    "duration": 21,
    "start_time": "2022-01-13T17:54:58.056Z"
   },
   {
    "duration": 83,
    "start_time": "2022-01-13T17:54:58.080Z"
   },
   {
    "duration": 11,
    "start_time": "2022-01-13T17:54:58.165Z"
   },
   {
    "duration": 56,
    "start_time": "2022-01-13T17:54:58.178Z"
   },
   {
    "duration": 25,
    "start_time": "2022-01-13T17:54:58.237Z"
   },
   {
    "duration": 69,
    "start_time": "2022-01-13T17:54:58.265Z"
   },
   {
    "duration": 10,
    "start_time": "2022-01-13T17:54:58.337Z"
   },
   {
    "duration": 11,
    "start_time": "2022-01-13T17:54:58.355Z"
   },
   {
    "duration": 50,
    "start_time": "2022-01-13T17:54:58.370Z"
   },
   {
    "duration": 19,
    "start_time": "2022-01-13T17:54:58.423Z"
   },
   {
    "duration": 14,
    "start_time": "2022-01-13T17:54:58.445Z"
   },
   {
    "duration": 4684,
    "start_time": "2022-01-13T17:54:58.462Z"
   },
   {
    "duration": 38269,
    "start_time": "2022-01-13T17:55:03.148Z"
   },
   {
    "duration": 10,
    "start_time": "2022-01-13T17:55:41.419Z"
   },
   {
    "duration": 12,
    "start_time": "2022-01-13T17:55:41.432Z"
   },
   {
    "duration": 18,
    "start_time": "2022-01-13T17:55:41.446Z"
   },
   {
    "duration": 9,
    "start_time": "2022-01-13T17:55:41.466Z"
   },
   {
    "duration": 10,
    "start_time": "2022-01-13T17:55:41.518Z"
   },
   {
    "duration": 18,
    "start_time": "2022-01-13T17:55:41.531Z"
   },
   {
    "duration": 29,
    "start_time": "2022-01-13T17:55:41.551Z"
   },
   {
    "duration": 41,
    "start_time": "2022-01-13T17:55:41.582Z"
   },
   {
    "duration": 22,
    "start_time": "2022-01-13T17:55:41.626Z"
   },
   {
    "duration": 28,
    "start_time": "2022-01-13T17:55:41.650Z"
   },
   {
    "duration": 17,
    "start_time": "2022-01-13T18:04:46.710Z"
   },
   {
    "duration": 285,
    "start_time": "2022-01-13T18:05:11.098Z"
   },
   {
    "duration": 260,
    "start_time": "2022-01-13T18:05:23.564Z"
   },
   {
    "duration": 18,
    "start_time": "2022-01-13T18:05:41.525Z"
   },
   {
    "duration": 599,
    "start_time": "2022-01-14T06:44:10.270Z"
   },
   {
    "duration": 13,
    "start_time": "2022-01-14T06:44:10.871Z"
   },
   {
    "duration": 35,
    "start_time": "2022-01-14T06:44:10.886Z"
   },
   {
    "duration": 14,
    "start_time": "2022-01-14T06:44:10.924Z"
   },
   {
    "duration": 39,
    "start_time": "2022-01-14T06:44:10.940Z"
   },
   {
    "duration": 44,
    "start_time": "2022-01-14T06:44:10.980Z"
   },
   {
    "duration": 48,
    "start_time": "2022-01-14T06:44:11.025Z"
   },
   {
    "duration": 40,
    "start_time": "2022-01-14T06:44:11.075Z"
   },
   {
    "duration": 21,
    "start_time": "2022-01-14T06:44:11.117Z"
   },
   {
    "duration": 30,
    "start_time": "2022-01-14T06:44:11.141Z"
   },
   {
    "duration": 49,
    "start_time": "2022-01-14T06:44:11.172Z"
   },
   {
    "duration": 47,
    "start_time": "2022-01-14T06:44:11.222Z"
   },
   {
    "duration": 13,
    "start_time": "2022-01-14T06:44:11.270Z"
   },
   {
    "duration": 49,
    "start_time": "2022-01-14T06:44:11.284Z"
   },
   {
    "duration": 25,
    "start_time": "2022-01-14T06:44:11.335Z"
   },
   {
    "duration": 33,
    "start_time": "2022-01-14T06:44:11.361Z"
   },
   {
    "duration": 37,
    "start_time": "2022-01-14T06:44:11.395Z"
   },
   {
    "duration": 13,
    "start_time": "2022-01-14T06:44:11.434Z"
   },
   {
    "duration": 64,
    "start_time": "2022-01-14T06:44:11.449Z"
   },
   {
    "duration": 60,
    "start_time": "2022-01-14T06:44:11.515Z"
   },
   {
    "duration": 58,
    "start_time": "2022-01-14T06:44:11.577Z"
   },
   {
    "duration": 7,
    "start_time": "2022-01-14T06:44:11.636Z"
   },
   {
    "duration": 29,
    "start_time": "2022-01-14T06:44:11.645Z"
   },
   {
    "duration": 42,
    "start_time": "2022-01-14T06:44:11.676Z"
   },
   {
    "duration": 29,
    "start_time": "2022-01-14T06:44:11.720Z"
   },
   {
    "duration": 37,
    "start_time": "2022-01-14T06:44:11.750Z"
   },
   {
    "duration": 3195,
    "start_time": "2022-01-14T06:44:11.790Z"
   },
   {
    "duration": 25067,
    "start_time": "2022-01-14T06:44:14.987Z"
   },
   {
    "duration": 7,
    "start_time": "2022-01-14T06:44:40.055Z"
   },
   {
    "duration": 13,
    "start_time": "2022-01-14T06:44:40.063Z"
   },
   {
    "duration": 14,
    "start_time": "2022-01-14T06:44:40.078Z"
   },
   {
    "duration": 16,
    "start_time": "2022-01-14T06:44:40.093Z"
   },
   {
    "duration": 6,
    "start_time": "2022-01-14T06:44:40.110Z"
   },
   {
    "duration": 8,
    "start_time": "2022-01-14T06:44:40.117Z"
   },
   {
    "duration": 5,
    "start_time": "2022-01-14T06:44:40.141Z"
   },
   {
    "duration": 14,
    "start_time": "2022-01-14T06:44:40.148Z"
   },
   {
    "duration": 7,
    "start_time": "2022-01-14T06:44:40.163Z"
   },
   {
    "duration": 14,
    "start_time": "2022-01-14T06:44:40.171Z"
   },
   {
    "duration": 16,
    "start_time": "2022-01-14T06:44:40.186Z"
   },
   {
    "duration": 16,
    "start_time": "2022-01-14T06:45:47.034Z"
   },
   {
    "duration": 8,
    "start_time": "2022-01-14T06:46:13.536Z"
   },
   {
    "duration": 286,
    "start_time": "2022-01-14T06:47:37.414Z"
   },
   {
    "duration": 17,
    "start_time": "2022-01-14T06:47:45.118Z"
   },
   {
    "duration": 22,
    "start_time": "2022-01-14T06:47:56.723Z"
   },
   {
    "duration": 26,
    "start_time": "2022-01-14T06:48:57.596Z"
   },
   {
    "duration": 240,
    "start_time": "2022-01-14T06:50:23.237Z"
   },
   {
    "duration": 33,
    "start_time": "2022-01-14T06:50:34.010Z"
   },
   {
    "duration": 31,
    "start_time": "2022-01-14T06:51:24.308Z"
   },
   {
    "duration": 26,
    "start_time": "2022-01-14T06:52:18.165Z"
   },
   {
    "duration": 10,
    "start_time": "2022-01-14T06:55:24.227Z"
   },
   {
    "duration": 7,
    "start_time": "2022-01-14T06:55:49.221Z"
   },
   {
    "duration": 10,
    "start_time": "2022-01-14T06:56:21.460Z"
   },
   {
    "duration": 13,
    "start_time": "2022-01-14T07:00:02.239Z"
   },
   {
    "duration": 57,
    "start_time": "2022-01-14T07:02:03.160Z"
   },
   {
    "duration": 9,
    "start_time": "2022-01-14T07:02:03.219Z"
   },
   {
    "duration": 15,
    "start_time": "2022-01-14T07:02:03.230Z"
   },
   {
    "duration": 9,
    "start_time": "2022-01-14T07:02:03.246Z"
   },
   {
    "duration": 16,
    "start_time": "2022-01-14T07:02:03.257Z"
   },
   {
    "duration": 37,
    "start_time": "2022-01-14T07:02:03.275Z"
   },
   {
    "duration": 21,
    "start_time": "2022-01-14T07:02:03.313Z"
   },
   {
    "duration": 4,
    "start_time": "2022-01-14T07:02:03.340Z"
   },
   {
    "duration": 12,
    "start_time": "2022-01-14T07:02:03.346Z"
   },
   {
    "duration": 23,
    "start_time": "2022-01-14T07:02:03.359Z"
   },
   {
    "duration": 13,
    "start_time": "2022-01-14T07:02:03.383Z"
   },
   {
    "duration": 12,
    "start_time": "2022-01-14T07:02:03.397Z"
   },
   {
    "duration": 9,
    "start_time": "2022-01-14T07:02:03.411Z"
   },
   {
    "duration": 22,
    "start_time": "2022-01-14T07:02:03.421Z"
   },
   {
    "duration": 32,
    "start_time": "2022-01-14T07:02:03.445Z"
   },
   {
    "duration": 14,
    "start_time": "2022-01-14T07:02:03.478Z"
   },
   {
    "duration": 37,
    "start_time": "2022-01-14T07:02:03.494Z"
   },
   {
    "duration": 7,
    "start_time": "2022-01-14T07:02:03.533Z"
   },
   {
    "duration": 28,
    "start_time": "2022-01-14T07:02:03.541Z"
   },
   {
    "duration": 35,
    "start_time": "2022-01-14T07:02:03.571Z"
   },
   {
    "duration": 29,
    "start_time": "2022-01-14T07:02:03.608Z"
   },
   {
    "duration": 7,
    "start_time": "2022-01-14T07:02:03.639Z"
   },
   {
    "duration": 8,
    "start_time": "2022-01-14T07:02:03.649Z"
   },
   {
    "duration": 15,
    "start_time": "2022-01-14T07:02:03.659Z"
   },
   {
    "duration": 16,
    "start_time": "2022-01-14T07:02:03.675Z"
   },
   {
    "duration": 25,
    "start_time": "2022-01-14T07:02:03.692Z"
   },
   {
    "duration": 3291,
    "start_time": "2022-01-14T07:02:03.719Z"
   },
   {
    "duration": 25841,
    "start_time": "2022-01-14T07:02:07.012Z"
   },
   {
    "duration": 7,
    "start_time": "2022-01-14T07:02:32.854Z"
   },
   {
    "duration": 16,
    "start_time": "2022-01-14T07:02:32.862Z"
   },
   {
    "duration": 7,
    "start_time": "2022-01-14T07:02:32.879Z"
   },
   {
    "duration": 11,
    "start_time": "2022-01-14T07:02:32.887Z"
   },
   {
    "duration": 6,
    "start_time": "2022-01-14T07:02:32.899Z"
   },
   {
    "duration": 9,
    "start_time": "2022-01-14T07:02:32.907Z"
   },
   {
    "duration": 6,
    "start_time": "2022-01-14T07:02:32.941Z"
   },
   {
    "duration": 19,
    "start_time": "2022-01-14T07:02:32.949Z"
   },
   {
    "duration": 6,
    "start_time": "2022-01-14T07:02:32.969Z"
   },
   {
    "duration": 21,
    "start_time": "2022-01-14T07:02:32.977Z"
   },
   {
    "duration": 9,
    "start_time": "2022-01-14T07:02:33.000Z"
   },
   {
    "duration": 49,
    "start_time": "2022-01-14T07:02:33.010Z"
   },
   {
    "duration": 237,
    "start_time": "2022-01-14T07:03:15.953Z"
   },
   {
    "duration": 17,
    "start_time": "2022-01-14T07:03:25.823Z"
   },
   {
    "duration": 246,
    "start_time": "2022-01-14T07:04:39.276Z"
   },
   {
    "duration": 277,
    "start_time": "2022-01-14T07:04:45.435Z"
   },
   {
    "duration": 17,
    "start_time": "2022-01-14T07:05:04.349Z"
   },
   {
    "duration": 4887,
    "start_time": "2022-01-14T07:07:00.771Z"
   },
   {
    "duration": 80,
    "start_time": "2022-01-14T07:10:18.391Z"
   },
   {
    "duration": 13,
    "start_time": "2022-01-14T07:10:18.473Z"
   },
   {
    "duration": 26,
    "start_time": "2022-01-14T07:10:18.488Z"
   },
   {
    "duration": 33,
    "start_time": "2022-01-14T07:10:18.516Z"
   },
   {
    "duration": 21,
    "start_time": "2022-01-14T07:10:18.550Z"
   },
   {
    "duration": 40,
    "start_time": "2022-01-14T07:10:18.573Z"
   },
   {
    "duration": 57,
    "start_time": "2022-01-14T07:10:18.614Z"
   },
   {
    "duration": 30,
    "start_time": "2022-01-14T07:10:18.673Z"
   },
   {
    "duration": 22,
    "start_time": "2022-01-14T07:10:18.705Z"
   },
   {
    "duration": 44,
    "start_time": "2022-01-14T07:10:18.729Z"
   },
   {
    "duration": 30,
    "start_time": "2022-01-14T07:10:18.775Z"
   },
   {
    "duration": 30,
    "start_time": "2022-01-14T07:10:18.807Z"
   },
   {
    "duration": 28,
    "start_time": "2022-01-14T07:10:18.839Z"
   },
   {
    "duration": 41,
    "start_time": "2022-01-14T07:10:18.869Z"
   },
   {
    "duration": 35,
    "start_time": "2022-01-14T07:10:18.912Z"
   },
   {
    "duration": 23,
    "start_time": "2022-01-14T07:10:18.949Z"
   },
   {
    "duration": 55,
    "start_time": "2022-01-14T07:10:18.973Z"
   },
   {
    "duration": 23,
    "start_time": "2022-01-14T07:10:19.029Z"
   },
   {
    "duration": 27,
    "start_time": "2022-01-14T07:10:19.053Z"
   },
   {
    "duration": 24,
    "start_time": "2022-01-14T07:10:19.082Z"
   },
   {
    "duration": 27,
    "start_time": "2022-01-14T07:10:19.107Z"
   },
   {
    "duration": 9,
    "start_time": "2022-01-14T07:10:19.136Z"
   },
   {
    "duration": 14,
    "start_time": "2022-01-14T07:10:19.150Z"
   },
   {
    "duration": 8,
    "start_time": "2022-01-14T07:10:19.166Z"
   },
   {
    "duration": 15,
    "start_time": "2022-01-14T07:10:19.176Z"
   },
   {
    "duration": 11,
    "start_time": "2022-01-14T07:10:19.193Z"
   },
   {
    "duration": 3542,
    "start_time": "2022-01-14T07:10:19.206Z"
   },
   {
    "duration": 27504,
    "start_time": "2022-01-14T07:10:22.750Z"
   },
   {
    "duration": 7,
    "start_time": "2022-01-14T07:10:50.255Z"
   },
   {
    "duration": 15,
    "start_time": "2022-01-14T07:10:50.263Z"
   },
   {
    "duration": 15,
    "start_time": "2022-01-14T07:10:50.279Z"
   },
   {
    "duration": 33,
    "start_time": "2022-01-14T07:10:50.295Z"
   },
   {
    "duration": 7,
    "start_time": "2022-01-14T07:10:50.330Z"
   },
   {
    "duration": 14,
    "start_time": "2022-01-14T07:10:50.339Z"
   },
   {
    "duration": 22,
    "start_time": "2022-01-14T07:10:50.355Z"
   },
   {
    "duration": 16,
    "start_time": "2022-01-14T07:10:50.379Z"
   },
   {
    "duration": 9,
    "start_time": "2022-01-14T07:10:50.396Z"
   },
   {
    "duration": 25,
    "start_time": "2022-01-14T07:10:50.406Z"
   },
   {
    "duration": 9,
    "start_time": "2022-01-14T07:10:50.432Z"
   },
   {
    "duration": 31,
    "start_time": "2022-01-14T07:10:50.442Z"
   },
   {
    "duration": 17,
    "start_time": "2022-01-14T07:11:21.392Z"
   },
   {
    "duration": 255,
    "start_time": "2022-01-14T07:14:38.789Z"
   },
   {
    "duration": 18,
    "start_time": "2022-01-14T07:14:54.006Z"
   },
   {
    "duration": 17,
    "start_time": "2022-01-14T07:15:27.982Z"
   },
   {
    "duration": 61,
    "start_time": "2022-01-14T07:16:33.781Z"
   },
   {
    "duration": 10,
    "start_time": "2022-01-14T07:16:33.844Z"
   },
   {
    "duration": 15,
    "start_time": "2022-01-14T07:16:33.857Z"
   },
   {
    "duration": 5,
    "start_time": "2022-01-14T07:16:33.874Z"
   },
   {
    "duration": 18,
    "start_time": "2022-01-14T07:16:33.880Z"
   },
   {
    "duration": 21,
    "start_time": "2022-01-14T07:16:33.900Z"
   },
   {
    "duration": 21,
    "start_time": "2022-01-14T07:16:33.942Z"
   },
   {
    "duration": 4,
    "start_time": "2022-01-14T07:16:33.966Z"
   },
   {
    "duration": 8,
    "start_time": "2022-01-14T07:16:33.972Z"
   },
   {
    "duration": 16,
    "start_time": "2022-01-14T07:16:33.982Z"
   },
   {
    "duration": 9,
    "start_time": "2022-01-14T07:16:34.000Z"
   },
   {
    "duration": 8,
    "start_time": "2022-01-14T07:16:34.010Z"
   },
   {
    "duration": 9,
    "start_time": "2022-01-14T07:16:34.019Z"
   },
   {
    "duration": 9,
    "start_time": "2022-01-14T07:16:34.042Z"
   },
   {
    "duration": 20,
    "start_time": "2022-01-14T07:16:34.053Z"
   },
   {
    "duration": 15,
    "start_time": "2022-01-14T07:16:34.075Z"
   },
   {
    "duration": 27,
    "start_time": "2022-01-14T07:16:34.092Z"
   },
   {
    "duration": 8,
    "start_time": "2022-01-14T07:16:34.141Z"
   },
   {
    "duration": 17,
    "start_time": "2022-01-14T07:16:34.151Z"
   },
   {
    "duration": 20,
    "start_time": "2022-01-14T07:16:34.169Z"
   },
   {
    "duration": 54,
    "start_time": "2022-01-14T07:16:34.190Z"
   },
   {
    "duration": 7,
    "start_time": "2022-01-14T07:16:34.246Z"
   },
   {
    "duration": 9,
    "start_time": "2022-01-14T07:16:34.256Z"
   },
   {
    "duration": 7,
    "start_time": "2022-01-14T07:16:34.267Z"
   },
   {
    "duration": 11,
    "start_time": "2022-01-14T07:16:34.276Z"
   },
   {
    "duration": 13,
    "start_time": "2022-01-14T07:16:34.288Z"
   },
   {
    "duration": 3411,
    "start_time": "2022-01-14T07:16:34.303Z"
   },
   {
    "duration": 25793,
    "start_time": "2022-01-14T07:16:37.716Z"
   },
   {
    "duration": 7,
    "start_time": "2022-01-14T07:17:03.511Z"
   },
   {
    "duration": 40,
    "start_time": "2022-01-14T07:17:03.519Z"
   },
   {
    "duration": 42,
    "start_time": "2022-01-14T07:17:03.561Z"
   },
   {
    "duration": 45,
    "start_time": "2022-01-14T07:17:03.605Z"
   },
   {
    "duration": 30,
    "start_time": "2022-01-14T07:17:03.652Z"
   },
   {
    "duration": 59,
    "start_time": "2022-01-14T07:17:03.683Z"
   },
   {
    "duration": 20,
    "start_time": "2022-01-14T07:17:03.744Z"
   },
   {
    "duration": 49,
    "start_time": "2022-01-14T07:17:03.766Z"
   },
   {
    "duration": 11,
    "start_time": "2022-01-14T07:17:03.817Z"
   },
   {
    "duration": 41,
    "start_time": "2022-01-14T07:17:03.830Z"
   },
   {
    "duration": 28,
    "start_time": "2022-01-14T07:17:03.873Z"
   },
   {
    "duration": 42,
    "start_time": "2022-01-14T07:17:03.903Z"
   },
   {
    "duration": 20,
    "start_time": "2022-01-14T07:17:44.501Z"
   },
   {
    "duration": 280,
    "start_time": "2022-01-14T07:17:57.975Z"
   },
   {
    "duration": 20,
    "start_time": "2022-01-14T07:18:04.839Z"
   },
   {
    "duration": 5,
    "start_time": "2022-01-14T07:18:48.264Z"
   },
   {
    "duration": 8,
    "start_time": "2022-01-14T07:22:06.191Z"
   },
   {
    "duration": 15,
    "start_time": "2022-01-14T07:27:28.719Z"
   },
   {
    "duration": 19,
    "start_time": "2022-01-14T07:27:39.713Z"
   },
   {
    "duration": 20,
    "start_time": "2022-01-14T07:27:56.498Z"
   },
   {
    "duration": 8,
    "start_time": "2022-01-14T07:41:19.468Z"
   },
   {
    "duration": 230,
    "start_time": "2022-01-14T07:45:33.077Z"
   },
   {
    "duration": 2,
    "start_time": "2022-01-14T07:45:39.715Z"
   },
   {
    "duration": 11,
    "start_time": "2022-01-14T07:45:52.958Z"
   },
   {
    "duration": 9,
    "start_time": "2022-01-14T07:47:58.391Z"
   },
   {
    "duration": 17,
    "start_time": "2022-01-14T07:53:26.210Z"
   },
   {
    "duration": 8,
    "start_time": "2022-01-14T07:55:03.135Z"
   },
   {
    "duration": 16,
    "start_time": "2022-01-14T07:55:14.858Z"
   },
   {
    "duration": 4,
    "start_time": "2022-01-14T08:36:09.448Z"
   },
   {
    "duration": 9,
    "start_time": "2022-01-14T08:37:30.169Z"
   },
   {
    "duration": 56,
    "start_time": "2022-01-14T08:37:35.932Z"
   },
   {
    "duration": 9,
    "start_time": "2022-01-14T08:37:35.990Z"
   },
   {
    "duration": 13,
    "start_time": "2022-01-14T08:37:36.001Z"
   },
   {
    "duration": 28,
    "start_time": "2022-01-14T08:37:36.016Z"
   },
   {
    "duration": 14,
    "start_time": "2022-01-14T08:37:36.046Z"
   },
   {
    "duration": 18,
    "start_time": "2022-01-14T08:37:36.062Z"
   },
   {
    "duration": 19,
    "start_time": "2022-01-14T08:37:36.082Z"
   },
   {
    "duration": 3,
    "start_time": "2022-01-14T08:37:36.104Z"
   },
   {
    "duration": 33,
    "start_time": "2022-01-14T08:37:36.109Z"
   },
   {
    "duration": 8,
    "start_time": "2022-01-14T08:37:36.144Z"
   },
   {
    "duration": 12,
    "start_time": "2022-01-14T08:37:36.154Z"
   },
   {
    "duration": 4,
    "start_time": "2022-01-14T08:37:36.168Z"
   },
   {
    "duration": 5,
    "start_time": "2022-01-14T08:37:36.174Z"
   },
   {
    "duration": 18,
    "start_time": "2022-01-14T08:37:36.181Z"
   },
   {
    "duration": 47,
    "start_time": "2022-01-14T08:37:36.201Z"
   },
   {
    "duration": 20,
    "start_time": "2022-01-14T08:37:36.251Z"
   },
   {
    "duration": 40,
    "start_time": "2022-01-14T08:37:36.273Z"
   },
   {
    "duration": 29,
    "start_time": "2022-01-14T08:37:36.316Z"
   },
   {
    "duration": 25,
    "start_time": "2022-01-14T08:37:36.347Z"
   },
   {
    "duration": 15,
    "start_time": "2022-01-14T08:37:36.374Z"
   },
   {
    "duration": 11,
    "start_time": "2022-01-14T08:37:36.391Z"
   },
   {
    "duration": 9,
    "start_time": "2022-01-14T08:37:36.404Z"
   },
   {
    "duration": 40,
    "start_time": "2022-01-14T08:37:36.417Z"
   },
   {
    "duration": 12,
    "start_time": "2022-01-14T08:37:36.460Z"
   },
   {
    "duration": 3655,
    "start_time": "2022-01-14T08:37:36.474Z"
   },
   {
    "duration": 15,
    "start_time": "2022-01-14T08:37:40.132Z"
   },
   {
    "duration": 5,
    "start_time": "2022-01-14T08:37:40.149Z"
   },
   {
    "duration": 15,
    "start_time": "2022-01-14T08:37:40.155Z"
   },
   {
    "duration": 12,
    "start_time": "2022-01-14T08:37:40.172Z"
   },
   {
    "duration": 10,
    "start_time": "2022-01-14T08:37:40.185Z"
   },
   {
    "duration": 11,
    "start_time": "2022-01-14T08:37:40.197Z"
   },
   {
    "duration": 8,
    "start_time": "2022-01-14T08:37:40.210Z"
   },
   {
    "duration": 33,
    "start_time": "2022-01-14T08:37:40.220Z"
   },
   {
    "duration": 14,
    "start_time": "2022-01-14T08:37:40.254Z"
   },
   {
    "duration": 25,
    "start_time": "2022-01-14T08:37:40.269Z"
   },
   {
    "duration": 7,
    "start_time": "2022-01-14T08:37:40.296Z"
   },
   {
    "duration": 41,
    "start_time": "2022-01-14T08:37:40.305Z"
   },
   {
    "duration": 19,
    "start_time": "2022-01-14T08:37:40.348Z"
   },
   {
    "duration": 22,
    "start_time": "2022-01-14T08:39:12.186Z"
   },
   {
    "duration": 14,
    "start_time": "2022-01-14T08:39:48.195Z"
   },
   {
    "duration": 1455,
    "start_time": "2022-01-14T08:39:56.948Z"
   },
   {
    "duration": 24,
    "start_time": "2022-01-14T08:40:06.561Z"
   },
   {
    "duration": 57,
    "start_time": "2022-01-14T08:41:22.597Z"
   },
   {
    "duration": 8,
    "start_time": "2022-01-14T08:41:22.655Z"
   },
   {
    "duration": 13,
    "start_time": "2022-01-14T08:41:22.665Z"
   },
   {
    "duration": 4,
    "start_time": "2022-01-14T08:41:22.680Z"
   },
   {
    "duration": 7,
    "start_time": "2022-01-14T08:41:22.686Z"
   },
   {
    "duration": 19,
    "start_time": "2022-01-14T08:41:22.694Z"
   },
   {
    "duration": 44,
    "start_time": "2022-01-14T08:41:22.714Z"
   },
   {
    "duration": 3,
    "start_time": "2022-01-14T08:41:22.761Z"
   },
   {
    "duration": 6,
    "start_time": "2022-01-14T08:41:22.766Z"
   },
   {
    "duration": 9,
    "start_time": "2022-01-14T08:41:22.773Z"
   },
   {
    "duration": 8,
    "start_time": "2022-01-14T08:41:22.784Z"
   },
   {
    "duration": 7,
    "start_time": "2022-01-14T08:41:22.793Z"
   },
   {
    "duration": 7,
    "start_time": "2022-01-14T08:41:22.801Z"
   },
   {
    "duration": 34,
    "start_time": "2022-01-14T08:41:22.809Z"
   },
   {
    "duration": 12,
    "start_time": "2022-01-14T08:41:22.845Z"
   },
   {
    "duration": 12,
    "start_time": "2022-01-14T08:41:22.858Z"
   },
   {
    "duration": 24,
    "start_time": "2022-01-14T08:41:22.872Z"
   },
   {
    "duration": 6,
    "start_time": "2022-01-14T08:41:22.898Z"
   },
   {
    "duration": 54,
    "start_time": "2022-01-14T08:41:22.906Z"
   },
   {
    "duration": 15,
    "start_time": "2022-01-14T08:41:22.962Z"
   },
   {
    "duration": 15,
    "start_time": "2022-01-14T08:41:22.979Z"
   },
   {
    "duration": 9,
    "start_time": "2022-01-14T08:41:22.996Z"
   },
   {
    "duration": 10,
    "start_time": "2022-01-14T08:41:23.007Z"
   },
   {
    "duration": 8,
    "start_time": "2022-01-14T08:41:23.019Z"
   },
   {
    "duration": 3302,
    "start_time": "2022-01-14T08:41:23.028Z"
   },
   {
    "duration": 20,
    "start_time": "2022-01-14T08:41:26.332Z"
   },
   {
    "duration": 3,
    "start_time": "2022-01-14T08:41:26.354Z"
   },
   {
    "duration": 13,
    "start_time": "2022-01-14T08:41:26.359Z"
   },
   {
    "duration": 9,
    "start_time": "2022-01-14T08:41:26.373Z"
   },
   {
    "duration": 24,
    "start_time": "2022-01-14T08:41:26.384Z"
   },
   {
    "duration": 32,
    "start_time": "2022-01-14T08:41:26.410Z"
   },
   {
    "duration": 7,
    "start_time": "2022-01-14T08:41:26.444Z"
   },
   {
    "duration": 20,
    "start_time": "2022-01-14T08:41:26.453Z"
   },
   {
    "duration": 28,
    "start_time": "2022-01-14T08:41:26.475Z"
   },
   {
    "duration": 47,
    "start_time": "2022-01-14T08:41:26.505Z"
   },
   {
    "duration": 6,
    "start_time": "2022-01-14T08:41:26.554Z"
   },
   {
    "duration": 22,
    "start_time": "2022-01-14T08:41:26.562Z"
   },
   {
    "duration": 20,
    "start_time": "2022-01-14T08:41:26.585Z"
   },
   {
    "duration": 13,
    "start_time": "2022-01-14T09:01:38.129Z"
   },
   {
    "duration": 25,
    "start_time": "2022-01-14T09:04:14.686Z"
   },
   {
    "duration": 280,
    "start_time": "2022-01-14T09:20:18.424Z"
   },
   {
    "duration": 14,
    "start_time": "2022-01-14T09:20:45.996Z"
   },
   {
    "duration": 277,
    "start_time": "2022-01-14T09:31:06.498Z"
   },
   {
    "duration": 250,
    "start_time": "2022-01-14T09:31:13.736Z"
   },
   {
    "duration": 60,
    "start_time": "2022-01-14T09:31:32.940Z"
   },
   {
    "duration": 11,
    "start_time": "2022-01-14T09:31:33.002Z"
   },
   {
    "duration": 36,
    "start_time": "2022-01-14T09:31:33.016Z"
   },
   {
    "duration": 6,
    "start_time": "2022-01-14T09:31:33.054Z"
   },
   {
    "duration": 40,
    "start_time": "2022-01-14T09:31:33.062Z"
   },
   {
    "duration": 32,
    "start_time": "2022-01-14T09:31:33.105Z"
   },
   {
    "duration": 22,
    "start_time": "2022-01-14T09:31:33.139Z"
   },
   {
    "duration": 19,
    "start_time": "2022-01-14T09:31:33.163Z"
   },
   {
    "duration": 8,
    "start_time": "2022-01-14T09:31:33.184Z"
   },
   {
    "duration": 25,
    "start_time": "2022-01-14T09:31:33.193Z"
   },
   {
    "duration": 18,
    "start_time": "2022-01-14T09:31:33.220Z"
   },
   {
    "duration": 21,
    "start_time": "2022-01-14T09:31:33.240Z"
   },
   {
    "duration": 17,
    "start_time": "2022-01-14T09:31:33.262Z"
   },
   {
    "duration": 34,
    "start_time": "2022-01-14T09:31:33.281Z"
   },
   {
    "duration": 34,
    "start_time": "2022-01-14T09:31:33.317Z"
   },
   {
    "duration": 25,
    "start_time": "2022-01-14T09:31:33.353Z"
   },
   {
    "duration": 29,
    "start_time": "2022-01-14T09:31:33.379Z"
   },
   {
    "duration": 6,
    "start_time": "2022-01-14T09:31:33.410Z"
   },
   {
    "duration": 38,
    "start_time": "2022-01-14T09:31:33.417Z"
   },
   {
    "duration": 9,
    "start_time": "2022-01-14T09:31:33.457Z"
   },
   {
    "duration": 13,
    "start_time": "2022-01-14T09:31:33.467Z"
   },
   {
    "duration": 15,
    "start_time": "2022-01-14T09:31:33.481Z"
   },
   {
    "duration": 14,
    "start_time": "2022-01-14T09:31:33.499Z"
   },
   {
    "duration": 9,
    "start_time": "2022-01-14T09:31:33.515Z"
   },
   {
    "duration": 4262,
    "start_time": "2022-01-14T09:31:33.526Z"
   },
   {
    "duration": 11,
    "start_time": "2022-01-14T09:31:37.790Z"
   },
   {
    "duration": 4,
    "start_time": "2022-01-14T09:31:37.802Z"
   },
   {
    "duration": 17,
    "start_time": "2022-01-14T09:31:37.807Z"
   },
   {
    "duration": 21,
    "start_time": "2022-01-14T09:31:37.826Z"
   },
   {
    "duration": 14,
    "start_time": "2022-01-14T09:31:37.848Z"
   },
   {
    "duration": 9,
    "start_time": "2022-01-14T09:31:37.864Z"
   },
   {
    "duration": 9,
    "start_time": "2022-01-14T09:31:37.875Z"
   },
   {
    "duration": 19,
    "start_time": "2022-01-14T09:31:37.886Z"
   },
   {
    "duration": 54,
    "start_time": "2022-01-14T09:31:37.907Z"
   },
   {
    "duration": 23,
    "start_time": "2022-01-14T09:31:37.963Z"
   },
   {
    "duration": 272,
    "start_time": "2022-01-14T09:31:37.988Z"
   },
   {
    "duration": -742,
    "start_time": "2022-01-14T09:31:39.005Z"
   },
   {
    "duration": -746,
    "start_time": "2022-01-14T09:31:39.010Z"
   },
   {
    "duration": -748,
    "start_time": "2022-01-14T09:31:39.014Z"
   },
   {
    "duration": 21,
    "start_time": "2022-01-14T09:32:57.092Z"
   },
   {
    "duration": 254,
    "start_time": "2022-01-14T09:33:31.302Z"
   },
   {
    "duration": 63,
    "start_time": "2022-01-14T09:33:37.040Z"
   },
   {
    "duration": 10,
    "start_time": "2022-01-14T09:33:37.105Z"
   },
   {
    "duration": 30,
    "start_time": "2022-01-14T09:33:37.117Z"
   },
   {
    "duration": 10,
    "start_time": "2022-01-14T09:33:37.149Z"
   },
   {
    "duration": 13,
    "start_time": "2022-01-14T09:33:37.161Z"
   },
   {
    "duration": 24,
    "start_time": "2022-01-14T09:33:37.176Z"
   },
   {
    "duration": 67,
    "start_time": "2022-01-14T09:33:37.202Z"
   },
   {
    "duration": 5,
    "start_time": "2022-01-14T09:33:37.272Z"
   },
   {
    "duration": 13,
    "start_time": "2022-01-14T09:33:37.279Z"
   },
   {
    "duration": 7,
    "start_time": "2022-01-14T09:33:37.294Z"
   },
   {
    "duration": 10,
    "start_time": "2022-01-14T09:33:37.303Z"
   },
   {
    "duration": 29,
    "start_time": "2022-01-14T09:33:37.314Z"
   },
   {
    "duration": 12,
    "start_time": "2022-01-14T09:33:37.345Z"
   },
   {
    "duration": 14,
    "start_time": "2022-01-14T09:33:37.358Z"
   },
   {
    "duration": 14,
    "start_time": "2022-01-14T09:33:37.374Z"
   },
   {
    "duration": 18,
    "start_time": "2022-01-14T09:33:37.389Z"
   },
   {
    "duration": 57,
    "start_time": "2022-01-14T09:33:37.408Z"
   },
   {
    "duration": 7,
    "start_time": "2022-01-14T09:33:37.467Z"
   },
   {
    "duration": 21,
    "start_time": "2022-01-14T09:33:37.475Z"
   },
   {
    "duration": 10,
    "start_time": "2022-01-14T09:33:37.498Z"
   },
   {
    "duration": 10,
    "start_time": "2022-01-14T09:33:37.510Z"
   },
   {
    "duration": 21,
    "start_time": "2022-01-14T09:33:37.521Z"
   },
   {
    "duration": 14,
    "start_time": "2022-01-14T09:33:37.545Z"
   },
   {
    "duration": 9,
    "start_time": "2022-01-14T09:33:37.562Z"
   },
   {
    "duration": 3847,
    "start_time": "2022-01-14T09:33:37.573Z"
   },
   {
    "duration": 27,
    "start_time": "2022-01-14T09:33:41.422Z"
   },
   {
    "duration": 4,
    "start_time": "2022-01-14T09:33:41.451Z"
   },
   {
    "duration": 15,
    "start_time": "2022-01-14T09:33:41.457Z"
   },
   {
    "duration": 13,
    "start_time": "2022-01-14T09:33:41.474Z"
   },
   {
    "duration": 15,
    "start_time": "2022-01-14T09:33:41.489Z"
   },
   {
    "duration": 9,
    "start_time": "2022-01-14T09:33:41.506Z"
   },
   {
    "duration": 38,
    "start_time": "2022-01-14T09:33:41.517Z"
   },
   {
    "duration": 27,
    "start_time": "2022-01-14T09:33:41.557Z"
   },
   {
    "duration": 20,
    "start_time": "2022-01-14T09:33:41.586Z"
   },
   {
    "duration": 47,
    "start_time": "2022-01-14T09:33:41.608Z"
   },
   {
    "duration": 7,
    "start_time": "2022-01-14T09:33:41.657Z"
   },
   {
    "duration": 20,
    "start_time": "2022-01-14T09:33:41.666Z"
   },
   {
    "duration": 19,
    "start_time": "2022-01-14T09:33:41.688Z"
   },
   {
    "duration": 16,
    "start_time": "2022-01-14T09:34:29.849Z"
   },
   {
    "duration": 18,
    "start_time": "2022-01-14T09:35:40.487Z"
   },
   {
    "duration": 17,
    "start_time": "2022-01-14T09:35:51.258Z"
   },
   {
    "duration": 13,
    "start_time": "2022-01-14T09:37:24.741Z"
   },
   {
    "duration": 28,
    "start_time": "2022-01-14T09:38:45.209Z"
   },
   {
    "duration": 18,
    "start_time": "2022-01-14T09:38:53.343Z"
   },
   {
    "duration": 254,
    "start_time": "2022-01-14T09:44:07.693Z"
   },
   {
    "duration": 244,
    "start_time": "2022-01-14T09:44:28.518Z"
   },
   {
    "duration": 19,
    "start_time": "2022-01-14T09:44:37.516Z"
   },
   {
    "duration": 19,
    "start_time": "2022-01-14T09:45:05.976Z"
   },
   {
    "duration": 256,
    "start_time": "2022-01-14T09:50:15.799Z"
   },
   {
    "duration": 250,
    "start_time": "2022-01-14T09:50:39.658Z"
   },
   {
    "duration": 288,
    "start_time": "2022-01-14T09:50:50.430Z"
   },
   {
    "duration": 28,
    "start_time": "2022-01-14T09:50:56.482Z"
   },
   {
    "duration": 241,
    "start_time": "2022-01-14T10:02:43.175Z"
   },
   {
    "duration": 243,
    "start_time": "2022-01-14T10:02:57.268Z"
   },
   {
    "duration": 282,
    "start_time": "2022-01-14T10:03:15.788Z"
   },
   {
    "duration": 21,
    "start_time": "2022-01-14T10:03:23.250Z"
   },
   {
    "duration": 20,
    "start_time": "2022-01-14T10:03:45.447Z"
   },
   {
    "duration": 20,
    "start_time": "2022-01-14T10:03:49.182Z"
   },
   {
    "duration": 60,
    "start_time": "2022-01-14T10:03:53.803Z"
   },
   {
    "duration": 9,
    "start_time": "2022-01-14T10:03:53.865Z"
   },
   {
    "duration": 11,
    "start_time": "2022-01-14T10:03:53.876Z"
   },
   {
    "duration": 4,
    "start_time": "2022-01-14T10:03:53.889Z"
   },
   {
    "duration": 13,
    "start_time": "2022-01-14T10:03:53.895Z"
   },
   {
    "duration": 49,
    "start_time": "2022-01-14T10:03:53.909Z"
   },
   {
    "duration": 19,
    "start_time": "2022-01-14T10:03:53.960Z"
   },
   {
    "duration": 4,
    "start_time": "2022-01-14T10:03:53.982Z"
   },
   {
    "duration": 6,
    "start_time": "2022-01-14T10:03:53.988Z"
   },
   {
    "duration": 7,
    "start_time": "2022-01-14T10:03:53.996Z"
   },
   {
    "duration": 38,
    "start_time": "2022-01-14T10:03:54.004Z"
   },
   {
    "duration": 4,
    "start_time": "2022-01-14T10:03:54.043Z"
   },
   {
    "duration": 7,
    "start_time": "2022-01-14T10:03:54.049Z"
   },
   {
    "duration": 13,
    "start_time": "2022-01-14T10:03:54.058Z"
   },
   {
    "duration": 14,
    "start_time": "2022-01-14T10:03:54.073Z"
   },
   {
    "duration": 13,
    "start_time": "2022-01-14T10:03:54.089Z"
   },
   {
    "duration": 47,
    "start_time": "2022-01-14T10:03:54.103Z"
   },
   {
    "duration": 7,
    "start_time": "2022-01-14T10:03:54.151Z"
   },
   {
    "duration": 17,
    "start_time": "2022-01-14T10:03:54.159Z"
   },
   {
    "duration": 9,
    "start_time": "2022-01-14T10:03:54.178Z"
   },
   {
    "duration": 8,
    "start_time": "2022-01-14T10:03:54.189Z"
   },
   {
    "duration": 7,
    "start_time": "2022-01-14T10:03:54.198Z"
   },
   {
    "duration": 34,
    "start_time": "2022-01-14T10:03:54.208Z"
   },
   {
    "duration": 7,
    "start_time": "2022-01-14T10:03:54.244Z"
   },
   {
    "duration": 3593,
    "start_time": "2022-01-14T10:03:54.252Z"
   },
   {
    "duration": 10,
    "start_time": "2022-01-14T10:03:57.847Z"
   },
   {
    "duration": 2,
    "start_time": "2022-01-14T10:03:57.859Z"
   },
   {
    "duration": 12,
    "start_time": "2022-01-14T10:03:57.862Z"
   },
   {
    "duration": 8,
    "start_time": "2022-01-14T10:03:57.875Z"
   },
   {
    "duration": 8,
    "start_time": "2022-01-14T10:03:57.885Z"
   },
   {
    "duration": 12,
    "start_time": "2022-01-14T10:03:57.895Z"
   },
   {
    "duration": 40,
    "start_time": "2022-01-14T10:03:57.909Z"
   },
   {
    "duration": 26,
    "start_time": "2022-01-14T10:03:57.951Z"
   },
   {
    "duration": 17,
    "start_time": "2022-01-14T10:03:57.979Z"
   },
   {
    "duration": 44,
    "start_time": "2022-01-14T10:03:57.997Z"
   },
   {
    "duration": 23,
    "start_time": "2022-01-14T10:03:58.043Z"
   },
   {
    "duration": 19,
    "start_time": "2022-01-14T10:03:58.068Z"
   },
   {
    "duration": 20,
    "start_time": "2022-01-14T10:03:58.089Z"
   },
   {
    "duration": 62,
    "start_time": "2022-01-14T10:18:46.399Z"
   },
   {
    "duration": 8,
    "start_time": "2022-01-14T10:18:46.463Z"
   },
   {
    "duration": 14,
    "start_time": "2022-01-14T10:18:46.473Z"
   },
   {
    "duration": 5,
    "start_time": "2022-01-14T10:18:46.489Z"
   },
   {
    "duration": 13,
    "start_time": "2022-01-14T10:18:46.495Z"
   },
   {
    "duration": 36,
    "start_time": "2022-01-14T10:18:46.509Z"
   },
   {
    "duration": 20,
    "start_time": "2022-01-14T10:18:46.546Z"
   },
   {
    "duration": 4,
    "start_time": "2022-01-14T10:18:46.567Z"
   },
   {
    "duration": 5,
    "start_time": "2022-01-14T10:18:46.573Z"
   },
   {
    "duration": 9,
    "start_time": "2022-01-14T10:18:46.580Z"
   },
   {
    "duration": 9,
    "start_time": "2022-01-14T10:18:46.591Z"
   },
   {
    "duration": 9,
    "start_time": "2022-01-14T10:18:46.601Z"
   },
   {
    "duration": 29,
    "start_time": "2022-01-14T10:18:46.612Z"
   },
   {
    "duration": 9,
    "start_time": "2022-01-14T10:18:46.642Z"
   },
   {
    "duration": 14,
    "start_time": "2022-01-14T10:18:46.653Z"
   },
   {
    "duration": 12,
    "start_time": "2022-01-14T10:18:46.669Z"
   },
   {
    "duration": 25,
    "start_time": "2022-01-14T10:18:46.682Z"
   },
   {
    "duration": 33,
    "start_time": "2022-01-14T10:18:46.708Z"
   },
   {
    "duration": 15,
    "start_time": "2022-01-14T10:18:46.743Z"
   },
   {
    "duration": 13,
    "start_time": "2022-01-14T10:18:46.760Z"
   },
   {
    "duration": 21,
    "start_time": "2022-01-14T10:18:46.775Z"
   },
   {
    "duration": 9,
    "start_time": "2022-01-14T10:18:46.798Z"
   },
   {
    "duration": 12,
    "start_time": "2022-01-14T10:18:46.808Z"
   },
   {
    "duration": 8,
    "start_time": "2022-01-14T10:18:46.821Z"
   },
   {
    "duration": 3270,
    "start_time": "2022-01-14T10:18:46.831Z"
   },
   {
    "duration": 10,
    "start_time": "2022-01-14T10:18:50.103Z"
   },
   {
    "duration": 3,
    "start_time": "2022-01-14T10:18:50.117Z"
   },
   {
    "duration": 29,
    "start_time": "2022-01-14T10:18:50.121Z"
   },
   {
    "duration": 8,
    "start_time": "2022-01-14T10:18:50.152Z"
   },
   {
    "duration": 10,
    "start_time": "2022-01-14T10:18:50.162Z"
   },
   {
    "duration": 10,
    "start_time": "2022-01-14T10:18:50.174Z"
   },
   {
    "duration": 21,
    "start_time": "2022-01-14T10:18:50.185Z"
   },
   {
    "duration": 45,
    "start_time": "2022-01-14T10:18:50.208Z"
   },
   {
    "duration": 26,
    "start_time": "2022-01-14T10:18:50.255Z"
   },
   {
    "duration": 19,
    "start_time": "2022-01-14T10:18:50.283Z"
   },
   {
    "duration": 45,
    "start_time": "2022-01-14T10:18:50.304Z"
   },
   {
    "duration": 28,
    "start_time": "2022-01-14T10:18:50.351Z"
   },
   {
    "duration": 30,
    "start_time": "2022-01-14T10:18:50.381Z"
   },
   {
    "duration": 322,
    "start_time": "2022-01-16T14:12:45.246Z"
   },
   {
    "duration": 804,
    "start_time": "2022-01-16T14:12:52.315Z"
   },
   {
    "duration": 79,
    "start_time": "2022-01-16T14:12:53.122Z"
   },
   {
    "duration": 43003,
    "start_time": "2022-01-16T14:12:10.203Z"
   },
   {
    "duration": 43002,
    "start_time": "2022-01-16T14:12:10.205Z"
   },
   {
    "duration": 43001,
    "start_time": "2022-01-16T14:12:10.208Z"
   },
   {
    "duration": 42996,
    "start_time": "2022-01-16T14:12:10.214Z"
   },
   {
    "duration": 42996,
    "start_time": "2022-01-16T14:12:10.216Z"
   },
   {
    "duration": 42986,
    "start_time": "2022-01-16T14:12:10.227Z"
   },
   {
    "duration": 42986,
    "start_time": "2022-01-16T14:12:10.229Z"
   },
   {
    "duration": 42984,
    "start_time": "2022-01-16T14:12:10.232Z"
   },
   {
    "duration": 42983,
    "start_time": "2022-01-16T14:12:10.234Z"
   },
   {
    "duration": 42981,
    "start_time": "2022-01-16T14:12:10.237Z"
   },
   {
    "duration": 42976,
    "start_time": "2022-01-16T14:12:10.243Z"
   },
   {
    "duration": 42976,
    "start_time": "2022-01-16T14:12:10.245Z"
   },
   {
    "duration": 42975,
    "start_time": "2022-01-16T14:12:10.247Z"
   },
   {
    "duration": 42973,
    "start_time": "2022-01-16T14:12:10.250Z"
   },
   {
    "duration": 42972,
    "start_time": "2022-01-16T14:12:10.252Z"
   },
   {
    "duration": 42971,
    "start_time": "2022-01-16T14:12:10.254Z"
   },
   {
    "duration": 42970,
    "start_time": "2022-01-16T14:12:10.256Z"
   },
   {
    "duration": 42970,
    "start_time": "2022-01-16T14:12:10.258Z"
   },
   {
    "duration": 42969,
    "start_time": "2022-01-16T14:12:10.260Z"
   },
   {
    "duration": 42968,
    "start_time": "2022-01-16T14:12:10.263Z"
   },
   {
    "duration": 42967,
    "start_time": "2022-01-16T14:12:10.265Z"
   },
   {
    "duration": 42965,
    "start_time": "2022-01-16T14:12:10.268Z"
   },
   {
    "duration": 42916,
    "start_time": "2022-01-16T14:12:10.318Z"
   },
   {
    "duration": 42916,
    "start_time": "2022-01-16T14:12:10.320Z"
   },
   {
    "duration": 42903,
    "start_time": "2022-01-16T14:12:10.334Z"
   },
   {
    "duration": 42901,
    "start_time": "2022-01-16T14:12:10.337Z"
   },
   {
    "duration": 42900,
    "start_time": "2022-01-16T14:12:10.339Z"
   },
   {
    "duration": 42898,
    "start_time": "2022-01-16T14:12:10.342Z"
   },
   {
    "duration": 42897,
    "start_time": "2022-01-16T14:12:10.344Z"
   },
   {
    "duration": 42896,
    "start_time": "2022-01-16T14:12:10.347Z"
   },
   {
    "duration": 42895,
    "start_time": "2022-01-16T14:12:10.349Z"
   },
   {
    "duration": 42888,
    "start_time": "2022-01-16T14:12:10.357Z"
   },
   {
    "duration": 42887,
    "start_time": "2022-01-16T14:12:10.359Z"
   },
   {
    "duration": 42885,
    "start_time": "2022-01-16T14:12:10.362Z"
   },
   {
    "duration": 42885,
    "start_time": "2022-01-16T14:12:10.364Z"
   },
   {
    "duration": 42884,
    "start_time": "2022-01-16T14:12:10.366Z"
   },
   {
    "duration": 42883,
    "start_time": "2022-01-16T14:12:10.368Z"
   },
   {
    "duration": 3,
    "start_time": "2022-01-16T14:13:06.545Z"
   },
   {
    "duration": 116,
    "start_time": "2022-01-16T14:13:06.551Z"
   },
   {
    "duration": 43009,
    "start_time": "2022-01-16T14:12:23.661Z"
   },
   {
    "duration": 43007,
    "start_time": "2022-01-16T14:12:23.664Z"
   },
   {
    "duration": 43007,
    "start_time": "2022-01-16T14:12:23.666Z"
   },
   {
    "duration": 42996,
    "start_time": "2022-01-16T14:12:23.678Z"
   },
   {
    "duration": 42994,
    "start_time": "2022-01-16T14:12:23.681Z"
   },
   {
    "duration": 42992,
    "start_time": "2022-01-16T14:12:23.684Z"
   },
   {
    "duration": 42991,
    "start_time": "2022-01-16T14:12:23.687Z"
   },
   {
    "duration": 42990,
    "start_time": "2022-01-16T14:12:23.689Z"
   },
   {
    "duration": 42989,
    "start_time": "2022-01-16T14:12:23.691Z"
   },
   {
    "duration": 42988,
    "start_time": "2022-01-16T14:12:23.693Z"
   },
   {
    "duration": 42987,
    "start_time": "2022-01-16T14:12:23.696Z"
   },
   {
    "duration": 42986,
    "start_time": "2022-01-16T14:12:23.698Z"
   },
   {
    "duration": 42980,
    "start_time": "2022-01-16T14:12:23.705Z"
   },
   {
    "duration": 42978,
    "start_time": "2022-01-16T14:12:23.708Z"
   },
   {
    "duration": 42977,
    "start_time": "2022-01-16T14:12:23.711Z"
   },
   {
    "duration": 42976,
    "start_time": "2022-01-16T14:12:23.713Z"
   },
   {
    "duration": 42971,
    "start_time": "2022-01-16T14:12:23.719Z"
   },
   {
    "duration": 42970,
    "start_time": "2022-01-16T14:12:23.722Z"
   },
   {
    "duration": 42969,
    "start_time": "2022-01-16T14:12:23.724Z"
   },
   {
    "duration": 42968,
    "start_time": "2022-01-16T14:12:23.726Z"
   },
   {
    "duration": 42966,
    "start_time": "2022-01-16T14:12:23.729Z"
   },
   {
    "duration": 42964,
    "start_time": "2022-01-16T14:12:23.733Z"
   },
   {
    "duration": 42962,
    "start_time": "2022-01-16T14:12:23.736Z"
   },
   {
    "duration": 42957,
    "start_time": "2022-01-16T14:12:23.742Z"
   },
   {
    "duration": 42956,
    "start_time": "2022-01-16T14:12:23.745Z"
   },
   {
    "duration": 42954,
    "start_time": "2022-01-16T14:12:23.748Z"
   },
   {
    "duration": 42949,
    "start_time": "2022-01-16T14:12:23.754Z"
   },
   {
    "duration": 42949,
    "start_time": "2022-01-16T14:12:23.756Z"
   },
   {
    "duration": 42948,
    "start_time": "2022-01-16T14:12:23.758Z"
   },
   {
    "duration": 42957,
    "start_time": "2022-01-16T14:12:23.760Z"
   },
   {
    "duration": 42957,
    "start_time": "2022-01-16T14:12:23.763Z"
   },
   {
    "duration": 42953,
    "start_time": "2022-01-16T14:12:23.768Z"
   },
   {
    "duration": 42951,
    "start_time": "2022-01-16T14:12:23.772Z"
   },
   {
    "duration": 42944,
    "start_time": "2022-01-16T14:12:23.780Z"
   },
   {
    "duration": 42942,
    "start_time": "2022-01-16T14:12:23.783Z"
   },
   {
    "duration": 42941,
    "start_time": "2022-01-16T14:12:23.786Z"
   },
   {
    "duration": 42939,
    "start_time": "2022-01-16T14:12:23.789Z"
   },
   {
    "duration": 3,
    "start_time": "2022-01-16T14:13:32.305Z"
   },
   {
    "duration": 76,
    "start_time": "2022-01-16T14:13:32.313Z"
   },
   {
    "duration": 20,
    "start_time": "2022-01-16T14:13:32.417Z"
   },
   {
    "duration": 22,
    "start_time": "2022-01-16T14:13:32.440Z"
   },
   {
    "duration": 8,
    "start_time": "2022-01-16T14:13:32.465Z"
   },
   {
    "duration": 47,
    "start_time": "2022-01-16T14:13:32.475Z"
   },
   {
    "duration": 31,
    "start_time": "2022-01-16T14:13:32.524Z"
   },
   {
    "duration": 59,
    "start_time": "2022-01-16T14:13:32.557Z"
   },
   {
    "duration": 6,
    "start_time": "2022-01-16T14:13:32.621Z"
   },
   {
    "duration": 8,
    "start_time": "2022-01-16T14:13:32.630Z"
   },
   {
    "duration": 11,
    "start_time": "2022-01-16T14:13:32.641Z"
   },
   {
    "duration": 15,
    "start_time": "2022-01-16T14:13:32.655Z"
   },
   {
    "duration": 50,
    "start_time": "2022-01-16T14:13:32.673Z"
   },
   {
    "duration": 5,
    "start_time": "2022-01-16T14:13:32.725Z"
   },
   {
    "duration": 15,
    "start_time": "2022-01-16T14:13:32.732Z"
   },
   {
    "duration": 277,
    "start_time": "2022-01-16T14:13:32.750Z"
   },
   {
    "duration": 43000,
    "start_time": "2022-01-16T14:12:50.030Z"
   },
   {
    "duration": 42999,
    "start_time": "2022-01-16T14:12:50.032Z"
   },
   {
    "duration": 42997,
    "start_time": "2022-01-16T14:12:50.035Z"
   },
   {
    "duration": 42995,
    "start_time": "2022-01-16T14:12:50.038Z"
   },
   {
    "duration": 42995,
    "start_time": "2022-01-16T14:12:50.040Z"
   },
   {
    "duration": 42993,
    "start_time": "2022-01-16T14:12:50.043Z"
   },
   {
    "duration": 42992,
    "start_time": "2022-01-16T14:12:50.046Z"
   },
   {
    "duration": 42986,
    "start_time": "2022-01-16T14:12:50.053Z"
   },
   {
    "duration": 42985,
    "start_time": "2022-01-16T14:12:50.055Z"
   },
   {
    "duration": 42983,
    "start_time": "2022-01-16T14:12:50.058Z"
   },
   {
    "duration": 42982,
    "start_time": "2022-01-16T14:12:50.060Z"
   },
   {
    "duration": 42981,
    "start_time": "2022-01-16T14:12:50.062Z"
   },
   {
    "duration": 42981,
    "start_time": "2022-01-16T14:12:50.064Z"
   },
   {
    "duration": 42975,
    "start_time": "2022-01-16T14:12:50.071Z"
   },
   {
    "duration": 42975,
    "start_time": "2022-01-16T14:12:50.073Z"
   },
   {
    "duration": 42974,
    "start_time": "2022-01-16T14:12:50.075Z"
   },
   {
    "duration": 42972,
    "start_time": "2022-01-16T14:12:50.078Z"
   },
   {
    "duration": 42972,
    "start_time": "2022-01-16T14:12:50.080Z"
   },
   {
    "duration": 42946,
    "start_time": "2022-01-16T14:12:50.107Z"
   },
   {
    "duration": 42945,
    "start_time": "2022-01-16T14:12:50.109Z"
   },
   {
    "duration": 42945,
    "start_time": "2022-01-16T14:12:50.111Z"
   },
   {
    "duration": 42944,
    "start_time": "2022-01-16T14:12:50.113Z"
   },
   {
    "duration": 42942,
    "start_time": "2022-01-16T14:12:50.116Z"
   },
   {
    "duration": 8,
    "start_time": "2022-01-16T14:13:53.527Z"
   },
   {
    "duration": 16,
    "start_time": "2022-01-16T14:14:01.838Z"
   },
   {
    "duration": 5,
    "start_time": "2022-01-16T14:20:15.191Z"
   },
   {
    "duration": 313,
    "start_time": "2022-01-16T14:24:52.090Z"
   },
   {
    "duration": 5,
    "start_time": "2022-01-16T14:24:56.812Z"
   },
   {
    "duration": 315,
    "start_time": "2022-01-16T14:26:55.809Z"
   },
   {
    "duration": 8,
    "start_time": "2022-01-16T14:27:02.476Z"
   },
   {
    "duration": 19,
    "start_time": "2022-01-16T14:28:39.592Z"
   },
   {
    "duration": 24,
    "start_time": "2022-01-16T14:30:59.418Z"
   },
   {
    "duration": 279,
    "start_time": "2022-01-16T14:32:21.244Z"
   },
   {
    "duration": 9,
    "start_time": "2022-01-16T14:32:25.500Z"
   },
   {
    "duration": 12,
    "start_time": "2022-01-16T14:32:47.111Z"
   },
   {
    "duration": 7,
    "start_time": "2022-01-16T14:35:15.025Z"
   },
   {
    "duration": 4,
    "start_time": "2022-01-16T14:35:38.603Z"
   },
   {
    "duration": 75,
    "start_time": "2022-01-16T14:35:38.610Z"
   },
   {
    "duration": 15,
    "start_time": "2022-01-16T14:35:38.717Z"
   },
   {
    "duration": 19,
    "start_time": "2022-01-16T14:35:38.735Z"
   },
   {
    "duration": 7,
    "start_time": "2022-01-16T14:35:38.756Z"
   },
   {
    "duration": 52,
    "start_time": "2022-01-16T14:35:38.765Z"
   },
   {
    "duration": 30,
    "start_time": "2022-01-16T14:35:38.822Z"
   },
   {
    "duration": 64,
    "start_time": "2022-01-16T14:35:38.855Z"
   },
   {
    "duration": 8,
    "start_time": "2022-01-16T14:35:38.922Z"
   },
   {
    "duration": 7,
    "start_time": "2022-01-16T14:35:38.932Z"
   },
   {
    "duration": 10,
    "start_time": "2022-01-16T14:35:38.942Z"
   },
   {
    "duration": 15,
    "start_time": "2022-01-16T14:35:38.955Z"
   },
   {
    "duration": 48,
    "start_time": "2022-01-16T14:35:38.973Z"
   },
   {
    "duration": 6,
    "start_time": "2022-01-16T14:35:39.024Z"
   },
   {
    "duration": 19,
    "start_time": "2022-01-16T14:35:39.033Z"
   },
   {
    "duration": 14,
    "start_time": "2022-01-16T14:35:39.055Z"
   },
   {
    "duration": 54,
    "start_time": "2022-01-16T14:35:39.071Z"
   },
   {
    "duration": 8,
    "start_time": "2022-01-16T14:35:39.127Z"
   },
   {
    "duration": 26,
    "start_time": "2022-01-16T14:35:39.139Z"
   },
   {
    "duration": 86,
    "start_time": "2022-01-16T14:35:39.168Z"
   },
   {
    "duration": 10,
    "start_time": "2022-01-16T14:35:39.257Z"
   },
   {
    "duration": 49,
    "start_time": "2022-01-16T14:35:39.269Z"
   },
   {
    "duration": 15,
    "start_time": "2022-01-16T14:35:39.321Z"
   },
   {
    "duration": 14,
    "start_time": "2022-01-16T14:35:39.338Z"
   },
   {
    "duration": 13,
    "start_time": "2022-01-16T14:35:39.354Z"
   },
   {
    "duration": 25,
    "start_time": "2022-01-16T14:35:39.370Z"
   },
   {
    "duration": 13,
    "start_time": "2022-01-16T14:35:39.417Z"
   },
   {
    "duration": 4663,
    "start_time": "2022-01-16T14:35:39.432Z"
   },
   {
    "duration": 28,
    "start_time": "2022-01-16T14:35:44.099Z"
   },
   {
    "duration": 5,
    "start_time": "2022-01-16T14:35:44.130Z"
   },
   {
    "duration": 18,
    "start_time": "2022-01-16T14:35:44.138Z"
   },
   {
    "duration": 13,
    "start_time": "2022-01-16T14:35:44.159Z"
   },
   {
    "duration": 299,
    "start_time": "2022-01-16T14:35:44.175Z"
   },
   {
    "duration": 43000,
    "start_time": "2022-01-16T14:35:01.476Z"
   },
   {
    "duration": 42999,
    "start_time": "2022-01-16T14:35:01.479Z"
   },
   {
    "duration": 42997,
    "start_time": "2022-01-16T14:35:01.482Z"
   },
   {
    "duration": 42996,
    "start_time": "2022-01-16T14:35:01.484Z"
   },
   {
    "duration": 42996,
    "start_time": "2022-01-16T14:35:01.486Z"
   },
   {
    "duration": 42996,
    "start_time": "2022-01-16T14:35:01.488Z"
   },
   {
    "duration": 42996,
    "start_time": "2022-01-16T14:35:01.490Z"
   },
   {
    "duration": 42996,
    "start_time": "2022-01-16T14:35:01.492Z"
   },
   {
    "duration": 11,
    "start_time": "2022-01-16T14:48:45.176Z"
   },
   {
    "duration": 21,
    "start_time": "2022-01-16T14:49:02.498Z"
   },
   {
    "duration": 20,
    "start_time": "2022-01-16T14:49:18.428Z"
   },
   {
    "duration": 21,
    "start_time": "2022-01-16T14:49:31.094Z"
   },
   {
    "duration": 25,
    "start_time": "2022-01-16T14:50:15.676Z"
   },
   {
    "duration": 4,
    "start_time": "2022-01-16T14:50:41.350Z"
   },
   {
    "duration": 82,
    "start_time": "2022-01-16T14:50:41.356Z"
   },
   {
    "duration": 14,
    "start_time": "2022-01-16T14:50:41.441Z"
   },
   {
    "duration": 21,
    "start_time": "2022-01-16T14:50:41.457Z"
   },
   {
    "duration": 40,
    "start_time": "2022-01-16T14:50:41.481Z"
   },
   {
    "duration": 24,
    "start_time": "2022-01-16T14:50:41.523Z"
   },
   {
    "duration": 31,
    "start_time": "2022-01-16T14:50:41.549Z"
   },
   {
    "duration": 54,
    "start_time": "2022-01-16T14:50:41.582Z"
   },
   {
    "duration": 7,
    "start_time": "2022-01-16T14:50:41.639Z"
   },
   {
    "duration": 12,
    "start_time": "2022-01-16T14:50:41.648Z"
   },
   {
    "duration": 14,
    "start_time": "2022-01-16T14:50:41.662Z"
   },
   {
    "duration": 39,
    "start_time": "2022-01-16T14:50:41.679Z"
   },
   {
    "duration": 6,
    "start_time": "2022-01-16T14:50:41.721Z"
   },
   {
    "duration": 5,
    "start_time": "2022-01-16T14:50:41.730Z"
   },
   {
    "duration": 15,
    "start_time": "2022-01-16T14:50:41.738Z"
   },
   {
    "duration": 16,
    "start_time": "2022-01-16T14:50:41.756Z"
   },
   {
    "duration": 54,
    "start_time": "2022-01-16T14:50:41.775Z"
   },
   {
    "duration": 24,
    "start_time": "2022-01-16T14:50:41.831Z"
   },
   {
    "duration": 62,
    "start_time": "2022-01-16T14:50:41.858Z"
   },
   {
    "duration": 41,
    "start_time": "2022-01-16T14:50:41.922Z"
   },
   {
    "duration": 10,
    "start_time": "2022-01-16T14:50:41.966Z"
   },
   {
    "duration": 56,
    "start_time": "2022-01-16T14:50:41.979Z"
   },
   {
    "duration": 10,
    "start_time": "2022-01-16T14:50:42.037Z"
   },
   {
    "duration": 10,
    "start_time": "2022-01-16T14:50:42.050Z"
   },
   {
    "duration": 10,
    "start_time": "2022-01-16T14:50:42.063Z"
   },
   {
    "duration": 52,
    "start_time": "2022-01-16T14:50:42.075Z"
   },
   {
    "duration": 11,
    "start_time": "2022-01-16T14:50:42.132Z"
   },
   {
    "duration": 4617,
    "start_time": "2022-01-16T14:50:42.145Z"
   },
   {
    "duration": 16,
    "start_time": "2022-01-16T14:50:46.765Z"
   },
   {
    "duration": 3,
    "start_time": "2022-01-16T14:50:46.784Z"
   },
   {
    "duration": 41,
    "start_time": "2022-01-16T14:50:46.789Z"
   },
   {
    "duration": 11,
    "start_time": "2022-01-16T14:50:46.833Z"
   },
   {
    "duration": 13,
    "start_time": "2022-01-16T14:50:46.846Z"
   },
   {
    "duration": 58,
    "start_time": "2022-01-16T14:50:46.861Z"
   },
   {
    "duration": 39,
    "start_time": "2022-01-16T14:50:46.922Z"
   },
   {
    "duration": 25,
    "start_time": "2022-01-16T14:50:46.964Z"
   },
   {
    "duration": 58,
    "start_time": "2022-01-16T14:50:46.991Z"
   },
   {
    "duration": 31,
    "start_time": "2022-01-16T14:50:47.051Z"
   },
   {
    "duration": 354,
    "start_time": "2022-01-16T14:50:47.085Z"
   },
   {
    "duration": 43001,
    "start_time": "2022-01-16T14:50:04.440Z"
   },
   {
    "duration": 12,
    "start_time": "2022-01-16T14:53:14.522Z"
   },
   {
    "duration": 10,
    "start_time": "2022-01-16T14:53:32.316Z"
   },
   {
    "duration": 3,
    "start_time": "2022-01-16T14:53:39.327Z"
   },
   {
    "duration": 93,
    "start_time": "2022-01-16T14:53:39.334Z"
   },
   {
    "duration": 13,
    "start_time": "2022-01-16T14:53:39.430Z"
   },
   {
    "duration": 28,
    "start_time": "2022-01-16T14:53:39.446Z"
   },
   {
    "duration": 41,
    "start_time": "2022-01-16T14:53:39.477Z"
   },
   {
    "duration": 13,
    "start_time": "2022-01-16T14:53:39.521Z"
   },
   {
    "duration": 31,
    "start_time": "2022-01-16T14:53:39.536Z"
   },
   {
    "duration": 70,
    "start_time": "2022-01-16T14:53:39.571Z"
   },
   {
    "duration": 7,
    "start_time": "2022-01-16T14:53:39.644Z"
   },
   {
    "duration": 8,
    "start_time": "2022-01-16T14:53:39.653Z"
   },
   {
    "duration": 11,
    "start_time": "2022-01-16T14:53:39.664Z"
   },
   {
    "duration": 52,
    "start_time": "2022-01-16T14:53:39.678Z"
   },
   {
    "duration": 7,
    "start_time": "2022-01-16T14:53:39.733Z"
   },
   {
    "duration": 5,
    "start_time": "2022-01-16T14:53:39.743Z"
   },
   {
    "duration": 16,
    "start_time": "2022-01-16T14:53:39.750Z"
   },
   {
    "duration": 54,
    "start_time": "2022-01-16T14:53:39.768Z"
   },
   {
    "duration": 15,
    "start_time": "2022-01-16T14:53:39.825Z"
   },
   {
    "duration": 23,
    "start_time": "2022-01-16T14:53:39.842Z"
   },
   {
    "duration": 50,
    "start_time": "2022-01-16T14:53:39.868Z"
   },
   {
    "duration": 31,
    "start_time": "2022-01-16T14:53:39.922Z"
   },
   {
    "duration": 75,
    "start_time": "2022-01-16T14:53:39.955Z"
   },
   {
    "duration": 14,
    "start_time": "2022-01-16T14:53:40.033Z"
   },
   {
    "duration": 31,
    "start_time": "2022-01-16T14:53:40.055Z"
   },
   {
    "duration": 37,
    "start_time": "2022-01-16T14:53:40.090Z"
   },
   {
    "duration": 11,
    "start_time": "2022-01-16T14:53:40.129Z"
   },
   {
    "duration": 12,
    "start_time": "2022-01-16T14:53:40.143Z"
   },
   {
    "duration": 64,
    "start_time": "2022-01-16T14:53:40.158Z"
   },
   {
    "duration": 13,
    "start_time": "2022-01-16T14:53:40.225Z"
   },
   {
    "duration": 6023,
    "start_time": "2022-01-16T14:53:40.240Z"
   },
   {
    "duration": 16,
    "start_time": "2022-01-16T14:53:46.266Z"
   },
   {
    "duration": 4,
    "start_time": "2022-01-16T14:53:46.285Z"
   },
   {
    "duration": 17,
    "start_time": "2022-01-16T14:53:46.318Z"
   },
   {
    "duration": 12,
    "start_time": "2022-01-16T14:53:46.338Z"
   },
   {
    "duration": 14,
    "start_time": "2022-01-16T14:53:46.354Z"
   },
   {
    "duration": 63,
    "start_time": "2022-01-16T14:53:46.370Z"
   },
   {
    "duration": 85,
    "start_time": "2022-01-16T14:53:46.436Z"
   },
   {
    "duration": 27,
    "start_time": "2022-01-16T14:53:46.524Z"
   },
   {
    "duration": 36,
    "start_time": "2022-01-16T14:53:46.554Z"
   },
   {
    "duration": 50,
    "start_time": "2022-01-16T14:53:46.592Z"
   },
   {
    "duration": 269,
    "start_time": "2022-01-16T14:53:46.644Z"
   },
   {
    "duration": 43003,
    "start_time": "2022-01-16T14:53:03.913Z"
   },
   {
    "duration": 10,
    "start_time": "2022-01-16T14:55:36.173Z"
   },
   {
    "duration": 8,
    "start_time": "2022-01-16T14:57:57.854Z"
   },
   {
    "duration": 12,
    "start_time": "2022-01-16T15:00:53.365Z"
   },
   {
    "duration": 15,
    "start_time": "2022-01-16T15:01:55.596Z"
   },
   {
    "duration": 12,
    "start_time": "2022-01-16T15:02:02.585Z"
   },
   {
    "duration": 11,
    "start_time": "2022-01-16T15:02:38.378Z"
   },
   {
    "duration": 14,
    "start_time": "2022-01-16T15:02:50.531Z"
   },
   {
    "duration": 10,
    "start_time": "2022-01-16T15:04:21.687Z"
   },
   {
    "duration": 9,
    "start_time": "2022-01-16T15:06:00.266Z"
   },
   {
    "duration": 9,
    "start_time": "2022-01-16T15:06:09.748Z"
   },
   {
    "duration": 9,
    "start_time": "2022-01-16T15:06:14.091Z"
   },
   {
    "duration": 9,
    "start_time": "2022-01-16T15:06:21.759Z"
   },
   {
    "duration": 9,
    "start_time": "2022-01-16T15:06:26.407Z"
   },
   {
    "duration": 20,
    "start_time": "2022-01-16T15:11:31.028Z"
   },
   {
    "duration": 24,
    "start_time": "2022-01-16T15:11:39.182Z"
   },
   {
    "duration": 19,
    "start_time": "2022-01-16T15:13:46.367Z"
   },
   {
    "duration": 15,
    "start_time": "2022-01-16T15:14:58.969Z"
   },
   {
    "duration": 4,
    "start_time": "2022-01-16T15:15:07.247Z"
   },
   {
    "duration": 74,
    "start_time": "2022-01-16T15:15:07.253Z"
   },
   {
    "duration": 13,
    "start_time": "2022-01-16T15:15:07.330Z"
   },
   {
    "duration": 22,
    "start_time": "2022-01-16T15:15:07.345Z"
   },
   {
    "duration": 53,
    "start_time": "2022-01-16T15:15:07.369Z"
   },
   {
    "duration": 18,
    "start_time": "2022-01-16T15:15:07.425Z"
   },
   {
    "duration": 43,
    "start_time": "2022-01-16T15:15:07.448Z"
   },
   {
    "duration": 31,
    "start_time": "2022-01-16T15:15:07.518Z"
   },
   {
    "duration": 6,
    "start_time": "2022-01-16T15:15:07.551Z"
   },
   {
    "duration": 6,
    "start_time": "2022-01-16T15:15:07.559Z"
   },
   {
    "duration": 10,
    "start_time": "2022-01-16T15:15:07.568Z"
   },
   {
    "duration": 49,
    "start_time": "2022-01-16T15:15:07.580Z"
   },
   {
    "duration": 18,
    "start_time": "2022-01-16T15:15:07.632Z"
   },
   {
    "duration": 6,
    "start_time": "2022-01-16T15:15:07.653Z"
   },
   {
    "duration": 17,
    "start_time": "2022-01-16T15:15:07.662Z"
   },
   {
    "duration": 19,
    "start_time": "2022-01-16T15:15:07.717Z"
   },
   {
    "duration": 15,
    "start_time": "2022-01-16T15:15:07.738Z"
   },
   {
    "duration": 64,
    "start_time": "2022-01-16T15:15:07.756Z"
   },
   {
    "duration": 9,
    "start_time": "2022-01-16T15:15:07.825Z"
   },
   {
    "duration": 8,
    "start_time": "2022-01-16T15:15:07.837Z"
   },
   {
    "duration": 18,
    "start_time": "2022-01-16T15:15:07.847Z"
   },
   {
    "duration": 65,
    "start_time": "2022-01-16T15:15:07.867Z"
   },
   {
    "duration": 21,
    "start_time": "2022-01-16T15:15:07.935Z"
   },
   {
    "duration": 24,
    "start_time": "2022-01-16T15:15:07.959Z"
   },
   {
    "duration": 70,
    "start_time": "2022-01-16T15:15:07.985Z"
   },
   {
    "duration": 10,
    "start_time": "2022-01-16T15:15:08.057Z"
   },
   {
    "duration": 53,
    "start_time": "2022-01-16T15:15:08.070Z"
   },
   {
    "duration": 10,
    "start_time": "2022-01-16T15:15:08.125Z"
   },
   {
    "duration": 10,
    "start_time": "2022-01-16T15:15:08.137Z"
   },
   {
    "duration": 9,
    "start_time": "2022-01-16T15:15:08.150Z"
   },
   {
    "duration": 15,
    "start_time": "2022-01-16T15:15:08.161Z"
   },
   {
    "duration": 14,
    "start_time": "2022-01-16T15:15:08.218Z"
   },
   {
    "duration": 4878,
    "start_time": "2022-01-16T15:15:08.235Z"
   },
   {
    "duration": 17,
    "start_time": "2022-01-16T15:15:13.116Z"
   },
   {
    "duration": 4,
    "start_time": "2022-01-16T15:15:13.135Z"
   },
   {
    "duration": 19,
    "start_time": "2022-01-16T15:15:13.141Z"
   },
   {
    "duration": 12,
    "start_time": "2022-01-16T15:15:13.162Z"
   },
   {
    "duration": 47,
    "start_time": "2022-01-16T15:15:13.176Z"
   },
   {
    "duration": 26,
    "start_time": "2022-01-16T15:15:13.226Z"
   },
   {
    "duration": 77,
    "start_time": "2022-01-16T15:15:13.255Z"
   },
   {
    "duration": 28,
    "start_time": "2022-01-16T15:15:13.335Z"
   },
   {
    "duration": 57,
    "start_time": "2022-01-16T15:15:13.365Z"
   },
   {
    "duration": 32,
    "start_time": "2022-01-16T15:15:13.424Z"
   },
   {
    "duration": 414,
    "start_time": "2022-01-16T15:15:13.458Z"
   },
   {
    "duration": 43006,
    "start_time": "2022-01-16T15:14:30.870Z"
   },
   {
    "duration": 7,
    "start_time": "2022-01-16T15:15:56.607Z"
   },
   {
    "duration": 263,
    "start_time": "2022-01-16T15:17:34.245Z"
   },
   {
    "duration": 31,
    "start_time": "2022-01-16T15:18:09.545Z"
   },
   {
    "duration": 33,
    "start_time": "2022-01-16T15:18:15.562Z"
   },
   {
    "duration": 4,
    "start_time": "2022-01-16T15:37:26.581Z"
   },
   {
    "duration": 87,
    "start_time": "2022-01-16T15:37:26.588Z"
   },
   {
    "duration": 43,
    "start_time": "2022-01-16T15:37:26.679Z"
   },
   {
    "duration": 31,
    "start_time": "2022-01-16T15:37:26.726Z"
   },
   {
    "duration": 10,
    "start_time": "2022-01-16T15:37:26.761Z"
   },
   {
    "duration": 52,
    "start_time": "2022-01-16T15:37:26.774Z"
   },
   {
    "duration": 31,
    "start_time": "2022-01-16T15:37:26.829Z"
   },
   {
    "duration": 66,
    "start_time": "2022-01-16T15:37:26.865Z"
   },
   {
    "duration": 6,
    "start_time": "2022-01-16T15:37:26.934Z"
   },
   {
    "duration": 15,
    "start_time": "2022-01-16T15:37:26.943Z"
   },
   {
    "duration": 10,
    "start_time": "2022-01-16T15:37:26.961Z"
   },
   {
    "duration": 50,
    "start_time": "2022-01-16T15:37:26.973Z"
   },
   {
    "duration": 7,
    "start_time": "2022-01-16T15:37:27.026Z"
   },
   {
    "duration": 8,
    "start_time": "2022-01-16T15:37:27.036Z"
   },
   {
    "duration": 22,
    "start_time": "2022-01-16T15:37:27.048Z"
   },
   {
    "duration": 55,
    "start_time": "2022-01-16T15:37:27.073Z"
   },
   {
    "duration": 16,
    "start_time": "2022-01-16T15:37:27.131Z"
   },
   {
    "duration": 25,
    "start_time": "2022-01-16T15:37:27.150Z"
   },
   {
    "duration": 43,
    "start_time": "2022-01-16T15:37:27.178Z"
   },
   {
    "duration": 11,
    "start_time": "2022-01-16T15:37:27.223Z"
   },
   {
    "duration": 8,
    "start_time": "2022-01-16T15:37:27.237Z"
   },
   {
    "duration": 24,
    "start_time": "2022-01-16T15:37:27.248Z"
   },
   {
    "duration": 16,
    "start_time": "2022-01-16T15:37:27.319Z"
   },
   {
    "duration": 21,
    "start_time": "2022-01-16T15:37:27.338Z"
   },
   {
    "duration": 77,
    "start_time": "2022-01-16T15:37:27.362Z"
   },
   {
    "duration": 9,
    "start_time": "2022-01-16T15:37:27.442Z"
   },
   {
    "duration": 27,
    "start_time": "2022-01-16T15:37:27.454Z"
   },
   {
    "duration": 40,
    "start_time": "2022-01-16T15:37:27.483Z"
   },
   {
    "duration": 12,
    "start_time": "2022-01-16T15:37:27.526Z"
   },
   {
    "duration": 10,
    "start_time": "2022-01-16T15:37:27.540Z"
   },
   {
    "duration": 19,
    "start_time": "2022-01-16T15:37:27.552Z"
   },
   {
    "duration": 48,
    "start_time": "2022-01-16T15:37:27.573Z"
   },
   {
    "duration": 5256,
    "start_time": "2022-01-16T15:37:27.624Z"
   },
   {
    "duration": 35,
    "start_time": "2022-01-16T15:37:32.884Z"
   },
   {
    "duration": 4,
    "start_time": "2022-01-16T15:37:32.923Z"
   },
   {
    "duration": 21,
    "start_time": "2022-01-16T15:37:32.931Z"
   },
   {
    "duration": 12,
    "start_time": "2022-01-16T15:37:32.954Z"
   },
   {
    "duration": 49,
    "start_time": "2022-01-16T15:37:32.969Z"
   },
   {
    "duration": 26,
    "start_time": "2022-01-16T15:37:33.021Z"
   },
   {
    "duration": 92,
    "start_time": "2022-01-16T15:37:33.050Z"
   },
   {
    "duration": 29,
    "start_time": "2022-01-16T15:37:33.144Z"
   },
   {
    "duration": 41,
    "start_time": "2022-01-16T15:37:33.175Z"
   },
   {
    "duration": 33,
    "start_time": "2022-01-16T15:37:33.219Z"
   },
   {
    "duration": 30,
    "start_time": "2022-01-16T15:37:33.255Z"
   },
   {
    "duration": 57,
    "start_time": "2022-01-16T15:37:33.288Z"
   },
   {
    "duration": 4,
    "start_time": "2022-01-16T16:21:29.628Z"
   },
   {
    "duration": 87,
    "start_time": "2022-01-16T16:21:29.634Z"
   },
   {
    "duration": 13,
    "start_time": "2022-01-16T16:21:29.723Z"
   },
   {
    "duration": 19,
    "start_time": "2022-01-16T16:21:29.739Z"
   },
   {
    "duration": 7,
    "start_time": "2022-01-16T16:21:29.760Z"
   },
   {
    "duration": 11,
    "start_time": "2022-01-16T16:21:29.818Z"
   },
   {
    "duration": 30,
    "start_time": "2022-01-16T16:21:29.833Z"
   },
   {
    "duration": 64,
    "start_time": "2022-01-16T16:21:29.865Z"
   },
   {
    "duration": 7,
    "start_time": "2022-01-16T16:21:29.931Z"
   },
   {
    "duration": 8,
    "start_time": "2022-01-16T16:21:29.940Z"
   },
   {
    "duration": 9,
    "start_time": "2022-01-16T16:21:29.951Z"
   },
   {
    "duration": 12,
    "start_time": "2022-01-16T16:21:29.963Z"
   },
   {
    "duration": 7,
    "start_time": "2022-01-16T16:21:30.018Z"
   },
   {
    "duration": 10,
    "start_time": "2022-01-16T16:21:30.027Z"
   },
   {
    "duration": 18,
    "start_time": "2022-01-16T16:21:30.039Z"
   },
   {
    "duration": 15,
    "start_time": "2022-01-16T16:21:30.060Z"
   },
   {
    "duration": 48,
    "start_time": "2022-01-16T16:21:30.077Z"
   },
   {
    "duration": 24,
    "start_time": "2022-01-16T16:21:30.127Z"
   },
   {
    "duration": 10,
    "start_time": "2022-01-16T16:21:30.156Z"
   },
   {
    "duration": 46,
    "start_time": "2022-01-16T16:21:30.170Z"
   },
   {
    "duration": 7,
    "start_time": "2022-01-16T16:21:30.220Z"
   },
   {
    "duration": 30,
    "start_time": "2022-01-16T16:21:30.230Z"
   },
   {
    "duration": 56,
    "start_time": "2022-01-16T16:21:30.263Z"
   },
   {
    "duration": 28,
    "start_time": "2022-01-16T16:21:30.322Z"
   },
   {
    "duration": 65,
    "start_time": "2022-01-16T16:21:30.352Z"
   },
   {
    "duration": 11,
    "start_time": "2022-01-16T16:21:30.419Z"
   },
   {
    "duration": 24,
    "start_time": "2022-01-16T16:21:30.432Z"
   },
   {
    "duration": 13,
    "start_time": "2022-01-16T16:21:30.459Z"
   },
   {
    "duration": 45,
    "start_time": "2022-01-16T16:21:30.475Z"
   },
   {
    "duration": 47,
    "start_time": "2022-01-16T16:21:30.523Z"
   },
   {
    "duration": 16,
    "start_time": "2022-01-16T16:21:30.573Z"
   },
   {
    "duration": 14,
    "start_time": "2022-01-16T16:21:30.591Z"
   },
   {
    "duration": 4742,
    "start_time": "2022-01-16T16:21:30.607Z"
   },
   {
    "duration": 16,
    "start_time": "2022-01-16T16:21:35.352Z"
   },
   {
    "duration": 4,
    "start_time": "2022-01-16T16:21:35.370Z"
   },
   {
    "duration": 47,
    "start_time": "2022-01-16T16:21:35.376Z"
   },
   {
    "duration": 12,
    "start_time": "2022-01-16T16:21:35.425Z"
   },
   {
    "duration": 14,
    "start_time": "2022-01-16T16:21:35.440Z"
   },
   {
    "duration": 26,
    "start_time": "2022-01-16T16:21:35.457Z"
   },
   {
    "duration": 38,
    "start_time": "2022-01-16T16:21:35.518Z"
   },
   {
    "duration": 25,
    "start_time": "2022-01-16T16:21:35.559Z"
   },
   {
    "duration": 52,
    "start_time": "2022-01-16T16:21:35.587Z"
   },
   {
    "duration": 30,
    "start_time": "2022-01-16T16:21:35.641Z"
   },
   {
    "duration": 63,
    "start_time": "2022-01-16T16:21:35.674Z"
   },
   {
    "duration": 31,
    "start_time": "2022-01-16T16:21:35.740Z"
   },
   {
    "duration": 4,
    "start_time": "2022-01-16T16:37:09.408Z"
   },
   {
    "duration": 102,
    "start_time": "2022-01-16T16:37:09.415Z"
   },
   {
    "duration": 12,
    "start_time": "2022-01-16T16:37:09.520Z"
   },
   {
    "duration": 19,
    "start_time": "2022-01-16T16:37:09.535Z"
   },
   {
    "duration": 8,
    "start_time": "2022-01-16T16:37:09.556Z"
   },
   {
    "duration": 54,
    "start_time": "2022-01-16T16:37:09.566Z"
   },
   {
    "duration": 30,
    "start_time": "2022-01-16T16:37:09.622Z"
   },
   {
    "duration": 31,
    "start_time": "2022-01-16T16:37:09.655Z"
   },
   {
    "duration": 33,
    "start_time": "2022-01-16T16:37:09.689Z"
   },
   {
    "duration": 8,
    "start_time": "2022-01-16T16:37:09.724Z"
   },
   {
    "duration": 10,
    "start_time": "2022-01-16T16:37:09.734Z"
   },
   {
    "duration": 14,
    "start_time": "2022-01-16T16:37:09.747Z"
   },
   {
    "duration": 54,
    "start_time": "2022-01-16T16:37:09.764Z"
   },
   {
    "duration": 5,
    "start_time": "2022-01-16T16:37:09.821Z"
   },
   {
    "duration": 15,
    "start_time": "2022-01-16T16:37:09.829Z"
   },
   {
    "duration": 19,
    "start_time": "2022-01-16T16:37:09.847Z"
   },
   {
    "duration": 57,
    "start_time": "2022-01-16T16:37:09.869Z"
   },
   {
    "duration": 170,
    "start_time": "2022-01-16T16:37:09.929Z"
   },
   {
    "duration": 18,
    "start_time": "2022-01-16T16:37:10.102Z"
   },
   {
    "duration": 13,
    "start_time": "2022-01-16T16:37:10.124Z"
   },
   {
    "duration": 7,
    "start_time": "2022-01-16T16:37:10.140Z"
   },
   {
    "duration": 23,
    "start_time": "2022-01-16T16:37:10.150Z"
   },
   {
    "duration": 55,
    "start_time": "2022-01-16T16:37:10.178Z"
   },
   {
    "duration": 24,
    "start_time": "2022-01-16T16:37:10.237Z"
   },
   {
    "duration": 84,
    "start_time": "2022-01-16T16:37:10.264Z"
   },
   {
    "duration": 10,
    "start_time": "2022-01-16T16:37:10.350Z"
   },
   {
    "duration": 54,
    "start_time": "2022-01-16T16:37:10.363Z"
   },
   {
    "duration": 10,
    "start_time": "2022-01-16T16:37:10.420Z"
   },
   {
    "duration": 10,
    "start_time": "2022-01-16T16:37:10.432Z"
   },
   {
    "duration": 9,
    "start_time": "2022-01-16T16:37:10.445Z"
   },
   {
    "duration": 16,
    "start_time": "2022-01-16T16:37:10.456Z"
   },
   {
    "duration": 55,
    "start_time": "2022-01-16T16:37:10.474Z"
   },
   {
    "duration": 4922,
    "start_time": "2022-01-16T16:37:10.532Z"
   },
   {
    "duration": 15,
    "start_time": "2022-01-16T16:37:15.456Z"
   },
   {
    "duration": 3,
    "start_time": "2022-01-16T16:37:15.474Z"
   },
   {
    "duration": 43,
    "start_time": "2022-01-16T16:37:15.480Z"
   },
   {
    "duration": 13,
    "start_time": "2022-01-16T16:37:15.525Z"
   },
   {
    "duration": 13,
    "start_time": "2022-01-16T16:37:15.540Z"
   },
   {
    "duration": 25,
    "start_time": "2022-01-16T16:37:15.555Z"
   },
   {
    "duration": 70,
    "start_time": "2022-01-16T16:37:15.583Z"
   },
   {
    "duration": 24,
    "start_time": "2022-01-16T16:37:15.656Z"
   },
   {
    "duration": 65,
    "start_time": "2022-01-16T16:37:15.682Z"
   },
   {
    "duration": 30,
    "start_time": "2022-01-16T16:37:15.749Z"
   },
   {
    "duration": 59,
    "start_time": "2022-01-16T16:37:15.781Z"
   },
   {
    "duration": 31,
    "start_time": "2022-01-16T16:37:15.842Z"
   },
   {
    "duration": 4,
    "start_time": "2022-01-16T16:37:45.336Z"
   },
   {
    "duration": 95,
    "start_time": "2022-01-16T16:37:45.343Z"
   },
   {
    "duration": 14,
    "start_time": "2022-01-16T16:37:45.442Z"
   },
   {
    "duration": 61,
    "start_time": "2022-01-16T16:37:45.459Z"
   },
   {
    "duration": 8,
    "start_time": "2022-01-16T16:37:45.523Z"
   },
   {
    "duration": 13,
    "start_time": "2022-01-16T16:37:45.534Z"
   },
   {
    "duration": 66,
    "start_time": "2022-01-16T16:37:45.550Z"
   },
   {
    "duration": 33,
    "start_time": "2022-01-16T16:37:45.619Z"
   },
   {
    "duration": 7,
    "start_time": "2022-01-16T16:37:45.658Z"
   },
   {
    "duration": 8,
    "start_time": "2022-01-16T16:37:45.668Z"
   },
   {
    "duration": 46,
    "start_time": "2022-01-16T16:37:45.678Z"
   },
   {
    "duration": 12,
    "start_time": "2022-01-16T16:37:45.727Z"
   },
   {
    "duration": 9,
    "start_time": "2022-01-16T16:37:45.742Z"
   },
   {
    "duration": 6,
    "start_time": "2022-01-16T16:37:45.754Z"
   },
   {
    "duration": 64,
    "start_time": "2022-01-16T16:37:45.763Z"
   },
   {
    "duration": 108,
    "start_time": "2022-01-16T16:37:45.830Z"
   },
   {
    "duration": 14,
    "start_time": "2022-01-16T16:37:45.941Z"
   },
   {
    "duration": 128,
    "start_time": "2022-01-16T16:37:45.958Z"
   },
   {
    "duration": 9,
    "start_time": "2022-01-16T16:37:46.089Z"
   },
   {
    "duration": 12,
    "start_time": "2022-01-16T16:37:46.117Z"
   },
   {
    "duration": 7,
    "start_time": "2022-01-16T16:37:46.131Z"
   },
   {
    "duration": 25,
    "start_time": "2022-01-16T16:37:46.141Z"
   },
   {
    "duration": 61,
    "start_time": "2022-01-16T16:37:46.169Z"
   },
   {
    "duration": 29,
    "start_time": "2022-01-16T16:37:46.233Z"
   },
   {
    "duration": 84,
    "start_time": "2022-01-16T16:37:46.266Z"
   },
   {
    "duration": 12,
    "start_time": "2022-01-16T16:37:46.353Z"
   },
   {
    "duration": 48,
    "start_time": "2022-01-16T16:37:46.371Z"
   },
   {
    "duration": 11,
    "start_time": "2022-01-16T16:37:46.423Z"
   },
   {
    "duration": 12,
    "start_time": "2022-01-16T16:37:46.437Z"
   },
   {
    "duration": 9,
    "start_time": "2022-01-16T16:37:46.452Z"
   },
   {
    "duration": 61,
    "start_time": "2022-01-16T16:37:46.464Z"
   },
   {
    "duration": 15,
    "start_time": "2022-01-16T16:37:46.528Z"
   },
   {
    "duration": 5529,
    "start_time": "2022-01-16T16:37:46.546Z"
   },
   {
    "duration": 39,
    "start_time": "2022-01-16T16:37:52.078Z"
   },
   {
    "duration": 4,
    "start_time": "2022-01-16T16:37:52.120Z"
   },
   {
    "duration": 20,
    "start_time": "2022-01-16T16:37:52.128Z"
   },
   {
    "duration": 15,
    "start_time": "2022-01-16T16:37:52.151Z"
   },
   {
    "duration": 51,
    "start_time": "2022-01-16T16:37:52.168Z"
   },
   {
    "duration": 26,
    "start_time": "2022-01-16T16:37:52.221Z"
   },
   {
    "duration": 66,
    "start_time": "2022-01-16T16:37:52.250Z"
   },
   {
    "duration": 27,
    "start_time": "2022-01-16T16:37:52.319Z"
   },
   {
    "duration": 35,
    "start_time": "2022-01-16T16:37:52.348Z"
   },
   {
    "duration": 57,
    "start_time": "2022-01-16T16:37:52.386Z"
   },
   {
    "duration": 34,
    "start_time": "2022-01-16T16:37:52.445Z"
   },
   {
    "duration": 61,
    "start_time": "2022-01-16T16:37:52.482Z"
   },
   {
    "duration": 4,
    "start_time": "2022-01-16T16:39:00.504Z"
   },
   {
    "duration": 136,
    "start_time": "2022-01-16T16:39:00.512Z"
   },
   {
    "duration": 14,
    "start_time": "2022-01-16T16:39:00.651Z"
   },
   {
    "duration": 52,
    "start_time": "2022-01-16T16:39:00.667Z"
   },
   {
    "duration": 7,
    "start_time": "2022-01-16T16:39:00.722Z"
   },
   {
    "duration": 19,
    "start_time": "2022-01-16T16:39:00.731Z"
   },
   {
    "duration": 65,
    "start_time": "2022-01-16T16:39:00.752Z"
   },
   {
    "duration": 32,
    "start_time": "2022-01-16T16:39:00.821Z"
   },
   {
    "duration": 6,
    "start_time": "2022-01-16T16:39:00.856Z"
   },
   {
    "duration": 10,
    "start_time": "2022-01-16T16:39:00.864Z"
   },
   {
    "duration": 47,
    "start_time": "2022-01-16T16:39:00.876Z"
   },
   {
    "duration": 16,
    "start_time": "2022-01-16T16:39:00.926Z"
   },
   {
    "duration": 11,
    "start_time": "2022-01-16T16:39:00.945Z"
   },
   {
    "duration": 4,
    "start_time": "2022-01-16T16:39:00.959Z"
   },
   {
    "duration": 56,
    "start_time": "2022-01-16T16:39:00.966Z"
   },
   {
    "duration": 119,
    "start_time": "2022-01-16T16:39:01.024Z"
   },
   {
    "duration": 13,
    "start_time": "2022-01-16T16:39:01.146Z"
   },
   {
    "duration": 129,
    "start_time": "2022-01-16T16:39:01.161Z"
   },
   {
    "duration": 10,
    "start_time": "2022-01-16T16:39:01.292Z"
   },
   {
    "duration": 53,
    "start_time": "2022-01-16T16:39:01.317Z"
   },
   {
    "duration": 171,
    "start_time": "2022-01-16T16:39:01.373Z"
   },
   {
    "duration": 35,
    "start_time": "2022-01-16T16:39:01.548Z"
   },
   {
    "duration": 94,
    "start_time": "2022-01-16T16:39:01.589Z"
   },
   {
    "duration": 22,
    "start_time": "2022-01-16T16:39:01.686Z"
   },
   {
    "duration": 60,
    "start_time": "2022-01-16T16:39:01.718Z"
   },
   {
    "duration": 11,
    "start_time": "2022-01-16T16:39:01.780Z"
   },
   {
    "duration": 78,
    "start_time": "2022-01-16T16:39:01.794Z"
   },
   {
    "duration": 93,
    "start_time": "2022-01-16T16:39:01.875Z"
   },
   {
    "duration": 47,
    "start_time": "2022-01-16T16:39:01.971Z"
   },
   {
    "duration": 23,
    "start_time": "2022-01-16T16:39:02.021Z"
   },
   {
    "duration": 26,
    "start_time": "2022-01-16T16:39:02.047Z"
   },
   {
    "duration": 18,
    "start_time": "2022-01-16T16:39:02.077Z"
   },
   {
    "duration": 5709,
    "start_time": "2022-01-16T16:39:02.119Z"
   },
   {
    "duration": 19,
    "start_time": "2022-01-16T16:39:07.830Z"
   },
   {
    "duration": 5,
    "start_time": "2022-01-16T16:39:07.852Z"
   },
   {
    "duration": 56,
    "start_time": "2022-01-16T16:39:07.861Z"
   },
   {
    "duration": 15,
    "start_time": "2022-01-16T16:39:07.920Z"
   },
   {
    "duration": 12,
    "start_time": "2022-01-16T16:39:07.938Z"
   },
   {
    "duration": 67,
    "start_time": "2022-01-16T16:39:07.955Z"
   },
   {
    "duration": 71,
    "start_time": "2022-01-16T16:39:08.026Z"
   },
   {
    "duration": 58,
    "start_time": "2022-01-16T16:39:08.101Z"
   },
   {
    "duration": 79,
    "start_time": "2022-01-16T16:39:08.163Z"
   },
   {
    "duration": 50,
    "start_time": "2022-01-16T16:39:08.245Z"
   },
   {
    "duration": 49,
    "start_time": "2022-01-16T16:39:08.297Z"
   },
   {
    "duration": 35,
    "start_time": "2022-01-16T16:39:08.349Z"
   },
   {
    "duration": 6,
    "start_time": "2022-01-16T16:41:08.718Z"
   },
   {
    "duration": 3,
    "start_time": "2022-01-16T16:50:37.862Z"
   },
   {
    "duration": 77,
    "start_time": "2022-01-16T16:50:37.868Z"
   },
   {
    "duration": 13,
    "start_time": "2022-01-16T16:50:37.948Z"
   },
   {
    "duration": 54,
    "start_time": "2022-01-16T16:50:37.964Z"
   },
   {
    "duration": 7,
    "start_time": "2022-01-16T16:50:38.020Z"
   },
   {
    "duration": 13,
    "start_time": "2022-01-16T16:50:38.030Z"
   },
   {
    "duration": 30,
    "start_time": "2022-01-16T16:50:38.046Z"
   },
   {
    "duration": 32,
    "start_time": "2022-01-16T16:50:38.116Z"
   },
   {
    "duration": 7,
    "start_time": "2022-01-16T16:50:38.150Z"
   },
   {
    "duration": 8,
    "start_time": "2022-01-16T16:50:38.159Z"
   },
   {
    "duration": 11,
    "start_time": "2022-01-16T16:50:38.169Z"
   },
   {
    "duration": 46,
    "start_time": "2022-01-16T16:50:38.182Z"
   },
   {
    "duration": 7,
    "start_time": "2022-01-16T16:50:38.230Z"
   },
   {
    "duration": 5,
    "start_time": "2022-01-16T16:50:38.239Z"
   },
   {
    "duration": 15,
    "start_time": "2022-01-16T16:50:38.246Z"
   },
   {
    "duration": 129,
    "start_time": "2022-01-16T16:50:38.264Z"
   },
   {
    "duration": 29,
    "start_time": "2022-01-16T16:50:38.396Z"
   },
   {
    "duration": 121,
    "start_time": "2022-01-16T16:50:38.427Z"
   },
   {
    "duration": 9,
    "start_time": "2022-01-16T16:50:38.551Z"
   },
   {
    "duration": 8,
    "start_time": "2022-01-16T16:50:38.562Z"
   },
   {
    "duration": 6,
    "start_time": "2022-01-16T16:50:38.573Z"
   },
   {
    "duration": 51,
    "start_time": "2022-01-16T16:50:38.581Z"
   },
   {
    "duration": 113,
    "start_time": "2022-01-16T16:50:38.638Z"
   },
   {
    "duration": 5,
    "start_time": "2022-01-16T16:50:38.754Z"
   },
   {
    "duration": 24,
    "start_time": "2022-01-16T16:50:38.761Z"
   },
   {
    "duration": 63,
    "start_time": "2022-01-16T16:50:38.787Z"
   },
   {
    "duration": 10,
    "start_time": "2022-01-16T16:50:38.852Z"
   },
   {
    "duration": 63,
    "start_time": "2022-01-16T16:50:38.865Z"
   },
   {
    "duration": 12,
    "start_time": "2022-01-16T16:50:38.931Z"
   },
   {
    "duration": 13,
    "start_time": "2022-01-16T16:50:38.947Z"
   },
   {
    "duration": 10,
    "start_time": "2022-01-16T16:50:38.963Z"
   },
   {
    "duration": 54,
    "start_time": "2022-01-16T16:50:38.975Z"
   },
   {
    "duration": 13,
    "start_time": "2022-01-16T16:50:39.031Z"
   },
   {
    "duration": 4928,
    "start_time": "2022-01-16T16:50:39.046Z"
   },
   {
    "duration": 18,
    "start_time": "2022-01-16T16:50:43.977Z"
   },
   {
    "duration": 22,
    "start_time": "2022-01-16T16:50:43.998Z"
   },
   {
    "duration": 20,
    "start_time": "2022-01-16T16:50:44.023Z"
   },
   {
    "duration": 18,
    "start_time": "2022-01-16T16:50:44.046Z"
   },
   {
    "duration": 52,
    "start_time": "2022-01-16T16:50:44.066Z"
   },
   {
    "duration": 35,
    "start_time": "2022-01-16T16:50:44.121Z"
   },
   {
    "duration": 86,
    "start_time": "2022-01-16T16:50:44.160Z"
   },
   {
    "duration": 37,
    "start_time": "2022-01-16T16:50:44.249Z"
   },
   {
    "duration": 54,
    "start_time": "2022-01-16T16:50:44.288Z"
   },
   {
    "duration": 30,
    "start_time": "2022-01-16T16:50:44.345Z"
   },
   {
    "duration": 54,
    "start_time": "2022-01-16T16:50:44.377Z"
   },
   {
    "duration": 32,
    "start_time": "2022-01-16T16:50:44.434Z"
   },
   {
    "duration": 669,
    "start_time": "2022-01-17T16:03:15.352Z"
   },
   {
    "duration": 57,
    "start_time": "2022-01-17T16:03:16.023Z"
   },
   {
    "duration": 13,
    "start_time": "2022-01-17T16:03:16.081Z"
   },
   {
    "duration": 13,
    "start_time": "2022-01-17T16:03:16.095Z"
   },
   {
    "duration": 5,
    "start_time": "2022-01-17T16:03:16.109Z"
   },
   {
    "duration": 8,
    "start_time": "2022-01-17T16:03:16.115Z"
   },
   {
    "duration": 20,
    "start_time": "2022-01-17T16:03:16.124Z"
   },
   {
    "duration": 45,
    "start_time": "2022-01-17T16:03:16.146Z"
   },
   {
    "duration": 4,
    "start_time": "2022-01-17T16:03:16.193Z"
   },
   {
    "duration": 5,
    "start_time": "2022-01-17T16:03:16.198Z"
   },
   {
    "duration": 12,
    "start_time": "2022-01-17T16:03:16.204Z"
   },
   {
    "duration": 9,
    "start_time": "2022-01-17T16:03:16.217Z"
   },
   {
    "duration": 7,
    "start_time": "2022-01-17T16:03:16.228Z"
   },
   {
    "duration": 6,
    "start_time": "2022-01-17T16:03:16.237Z"
   },
   {
    "duration": 35,
    "start_time": "2022-01-17T16:03:16.245Z"
   },
   {
    "duration": 50,
    "start_time": "2022-01-17T16:03:16.282Z"
   },
   {
    "duration": 9,
    "start_time": "2022-01-17T16:03:16.334Z"
   },
   {
    "duration": 79,
    "start_time": "2022-01-17T16:03:16.345Z"
   },
   {
    "duration": 5,
    "start_time": "2022-01-17T16:03:16.426Z"
   },
   {
    "duration": 17,
    "start_time": "2022-01-17T16:03:16.433Z"
   },
   {
    "duration": 5,
    "start_time": "2022-01-17T16:03:16.451Z"
   },
   {
    "duration": 28,
    "start_time": "2022-01-17T16:03:16.458Z"
   },
   {
    "duration": 52,
    "start_time": "2022-01-17T16:03:16.490Z"
   },
   {
    "duration": 3,
    "start_time": "2022-01-17T16:03:16.544Z"
   },
   {
    "duration": 55,
    "start_time": "2022-01-17T16:03:16.549Z"
   },
   {
    "duration": 13,
    "start_time": "2022-01-17T16:03:16.606Z"
   },
   {
    "duration": 22,
    "start_time": "2022-01-17T16:03:16.621Z"
   },
   {
    "duration": 31,
    "start_time": "2022-01-17T16:03:16.645Z"
   },
   {
    "duration": 8,
    "start_time": "2022-01-17T16:03:16.677Z"
   },
   {
    "duration": 6,
    "start_time": "2022-01-17T16:03:16.686Z"
   },
   {
    "duration": 5,
    "start_time": "2022-01-17T16:03:16.694Z"
   },
   {
    "duration": 5,
    "start_time": "2022-01-17T16:03:16.701Z"
   },
   {
    "duration": 10,
    "start_time": "2022-01-17T16:03:16.707Z"
   },
   {
    "duration": 12,
    "start_time": "2022-01-17T16:03:16.718Z"
   },
   {
    "duration": 3401,
    "start_time": "2022-01-17T16:03:16.731Z"
   },
   {
    "duration": 10,
    "start_time": "2022-01-17T16:03:20.133Z"
   },
   {
    "duration": 2,
    "start_time": "2022-01-17T16:03:20.144Z"
   },
   {
    "duration": 32,
    "start_time": "2022-01-17T16:03:20.148Z"
   },
   {
    "duration": 9,
    "start_time": "2022-01-17T16:03:20.181Z"
   },
   {
    "duration": 8,
    "start_time": "2022-01-17T16:03:20.192Z"
   },
   {
    "duration": 15,
    "start_time": "2022-01-17T16:03:20.201Z"
   },
   {
    "duration": 23,
    "start_time": "2022-01-17T16:03:20.217Z"
   },
   {
    "duration": 38,
    "start_time": "2022-01-17T16:03:20.242Z"
   },
   {
    "duration": 18,
    "start_time": "2022-01-17T16:03:20.281Z"
   },
   {
    "duration": 20,
    "start_time": "2022-01-17T16:03:20.300Z"
   },
   {
    "duration": 18,
    "start_time": "2022-01-17T16:03:20.322Z"
   },
   {
    "duration": 45,
    "start_time": "2022-01-17T16:03:20.342Z"
   },
   {
    "duration": 3,
    "start_time": "2022-01-17T16:06:20.459Z"
   }
  ],
  "kernelspec": {
   "display_name": "Python 3 (ipykernel)",
   "language": "python",
   "name": "python3"
  },
  "language_info": {
   "codemirror_mode": {
    "name": "ipython",
    "version": 3
   },
   "file_extension": ".py",
   "mimetype": "text/x-python",
   "name": "python",
   "nbconvert_exporter": "python",
   "pygments_lexer": "ipython3",
   "version": "3.9.5"
  },
  "toc": {
   "base_numbering": 1,
   "nav_menu": {},
   "number_sections": true,
   "sideBar": true,
   "skip_h1_title": true,
   "title_cell": "Table of Contents",
   "title_sidebar": "Contents",
   "toc_cell": false,
   "toc_position": {},
   "toc_section_display": true,
   "toc_window_display": true
  }
 },
 "nbformat": 4,
 "nbformat_minor": 2
}
