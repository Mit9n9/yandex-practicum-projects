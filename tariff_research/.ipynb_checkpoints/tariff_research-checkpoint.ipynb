{
 "cells": [
  {
   "cell_type": "markdown",
   "id": "fc76cfe3",
   "metadata": {
    "toc": true
   },
   "source": [
    "<h1>СОДЕРЖАНИЕ<span class=\"tocSkip\"></span></h1>\n",
    "<div class=\"toc\"><ul class=\"toc-item\"><li><span><a href=\"#Определение-перспективного-тарифа-для-телеком-компании\" data-toc-modified-id=\"Определение-перспективного-тарифа-для-телеком-компании-1\"><span class=\"toc-item-num\">1&nbsp;&nbsp;</span>Определение перспективного тарифа для телеком-компании</a></span></li><li><span><a href=\"#Знакомство-с-данными\" data-toc-modified-id=\"Знакомство-с-данными-2\"><span class=\"toc-item-num\">2&nbsp;&nbsp;</span>Знакомство с данными</a></span><ul class=\"toc-item\"><li><span><a href=\"#Вывод\" data-toc-modified-id=\"Вывод-2.1\"><span class=\"toc-item-num\">2.1&nbsp;&nbsp;</span>Вывод</a></span></li></ul></li><li><span><a href=\"#Подготовка-данных\" data-toc-modified-id=\"Подготовка-данных-3\"><span class=\"toc-item-num\">3&nbsp;&nbsp;</span>Подготовка данных</a></span><ul class=\"toc-item\"><li><span><a href=\"#Поиск-пропусков-и-дупликатов\" data-toc-modified-id=\"Поиск-пропусков-и-дупликатов-3.1\"><span class=\"toc-item-num\">3.1&nbsp;&nbsp;</span>Поиск пропусков и дупликатов</a></span><ul class=\"toc-item\"><li><span><a href=\"#Вывод\" data-toc-modified-id=\"Вывод-3.1.1\"><span class=\"toc-item-num\">3.1.1&nbsp;&nbsp;</span>Вывод</a></span></li></ul></li><li><span><a href=\"#Изменение-типов-данных\" data-toc-modified-id=\"Изменение-типов-данных-3.2\"><span class=\"toc-item-num\">3.2&nbsp;&nbsp;</span>Изменение типов данных</a></span><ul class=\"toc-item\"><li><span><a href=\"#Вывод\" data-toc-modified-id=\"Вывод-3.2.1\"><span class=\"toc-item-num\">3.2.1&nbsp;&nbsp;</span>Вывод</a></span></li></ul></li><li><span><a href=\"#Поиск-ошибок\" data-toc-modified-id=\"Поиск-ошибок-3.3\"><span class=\"toc-item-num\">3.3&nbsp;&nbsp;</span>Поиск ошибок</a></span><ul class=\"toc-item\"><li><span><a href=\"#Вывод\" data-toc-modified-id=\"Вывод-3.3.1\"><span class=\"toc-item-num\">3.3.1&nbsp;&nbsp;</span>Вывод</a></span></li></ul></li><li><span><a href=\"#Формирование-сводных-таблиц\" data-toc-modified-id=\"Формирование-сводных-таблиц-3.4\"><span class=\"toc-item-num\">3.4&nbsp;&nbsp;</span>Формирование сводных таблиц</a></span><ul class=\"toc-item\"><li><span><a href=\"#Вывод\" data-toc-modified-id=\"Вывод-3.4.1\"><span class=\"toc-item-num\">3.4.1&nbsp;&nbsp;</span>Вывод</a></span></li></ul></li></ul></li><li><span><a href=\"#Анализ-данных\" data-toc-modified-id=\"Анализ-данных-4\"><span class=\"toc-item-num\">4&nbsp;&nbsp;</span>Анализ данных</a></span><ul class=\"toc-item\"><li><span><a href=\"#Анализ-количества-потраченных-минут\" data-toc-modified-id=\"Анализ-количества-потраченных-минут-4.1\"><span class=\"toc-item-num\">4.1&nbsp;&nbsp;</span>Анализ количества потраченных минут</a></span><ul class=\"toc-item\"><li><span><a href=\"#Вывод\" data-toc-modified-id=\"Вывод-4.1.1\"><span class=\"toc-item-num\">4.1.1&nbsp;&nbsp;</span>Вывод</a></span></li></ul></li><li><span><a href=\"#Анализ-количества-отправленных-сообщений\" data-toc-modified-id=\"Анализ-количества-отправленных-сообщений-4.2\"><span class=\"toc-item-num\">4.2&nbsp;&nbsp;</span>Анализ количества отправленных сообщений</a></span><ul class=\"toc-item\"><li><span><a href=\"#Вывод\" data-toc-modified-id=\"Вывод-4.2.1\"><span class=\"toc-item-num\">4.2.1&nbsp;&nbsp;</span>Вывод</a></span></li></ul></li><li><span><a href=\"#Анализ-интернет-трафика\" data-toc-modified-id=\"Анализ-интернет-трафика-4.3\"><span class=\"toc-item-num\">4.3&nbsp;&nbsp;</span>Анализ интернет трафика</a></span><ul class=\"toc-item\"><li><span><a href=\"#Вывод\" data-toc-modified-id=\"Вывод-4.3.1\"><span class=\"toc-item-num\">4.3.1&nbsp;&nbsp;</span>Вывод</a></span></li></ul></li></ul></li><li><span><a href=\"#Проверка-гипотез\" data-toc-modified-id=\"Проверка-гипотез-5\"><span class=\"toc-item-num\">5&nbsp;&nbsp;</span>Проверка гипотез</a></span><ul class=\"toc-item\"><li><span><a href=\"#Гипотеза-о-равенстве-средних-выручек-в-разных-тарифах\" data-toc-modified-id=\"Гипотеза-о-равенстве-средних-выручек-в-разных-тарифах-5.1\"><span class=\"toc-item-num\">5.1&nbsp;&nbsp;</span>Гипотеза о равенстве средних выручек в разных тарифах</a></span><ul class=\"toc-item\"><li><span><a href=\"#Вывод\" data-toc-modified-id=\"Вывод-5.1.1\"><span class=\"toc-item-num\">5.1.1&nbsp;&nbsp;</span>Вывод</a></span></li></ul></li><li><span><a href=\"#Гипотеза-о-равенстве-средних-выручек-в-Москве-и-других-городах\" data-toc-modified-id=\"Гипотеза-о-равенстве-средних-выручек-в-Москве-и-других-городах-5.2\"><span class=\"toc-item-num\">5.2&nbsp;&nbsp;</span>Гипотеза о равенстве средних выручек в Москве и других городах</a></span><ul class=\"toc-item\"><li><span><a href=\"#Вывод\" data-toc-modified-id=\"Вывод-5.2.1\"><span class=\"toc-item-num\">5.2.1&nbsp;&nbsp;</span>Вывод</a></span></li></ul></li></ul></li><li><span><a href=\"#Общий-вывод\" data-toc-modified-id=\"Общий-вывод-6\"><span class=\"toc-item-num\">6&nbsp;&nbsp;</span>Общий вывод</a></span></li></ul></div>"
   ]
  },
  {
   "cell_type": "markdown",
   "id": "af2fc919",
   "metadata": {},
   "source": [
    "## Определение перспективного тарифа для телеком-компании"
   ]
  },
  {
   "cell_type": "markdown",
   "id": "b0bef990",
   "metadata": {},
   "source": [
    "В данном проекте используются данные о пользователях тарифов, на основании этих данных, необходимо понять, какой тариф лучше.\n",
    "\n",
    "Данные представлены в виде нескольких таблиц.\n",
    "\n",
    "Для проведения анализа необходимо предобработать и подготовить данные.\n",
    "\n",
    "Выполнение проекта будет проходить в несколько этапов:\n",
    "* Знакомство с данными;\n",
    "* Подготовка данных;\n",
    "* Анализ данных;\n",
    "* Проверка гипотез;\n",
    "* Общий вывод."
   ]
  },
  {
   "cell_type": "markdown",
   "id": "971f82b9",
   "metadata": {},
   "source": [
    "<a id=\"start\"></a>\n",
    "## Знакомство с данными"
   ]
  },
  {
   "cell_type": "code",
   "execution_count": 230,
   "id": "250c195d",
   "metadata": {},
   "outputs": [],
   "source": [
    "import pandas as pd\n",
    "from scipy import stats as st\n",
    "import numpy as np\n",
    "import math\n",
    "import matplotlib.pyplot as plt"
   ]
  },
  {
   "cell_type": "code",
   "execution_count": 231,
   "id": "c0d02ef5",
   "metadata": {},
   "outputs": [],
   "source": [
    "data_calls = pd.read_csv('calls.csv')\n",
    "data_internet = pd.read_csv('internet.csv')\n",
    "data_tariffs = pd.read_csv('tariffs.csv')\n",
    "data_users = pd.read_csv('users.csv')\n",
    "data_messages = pd.read_csv('messages.csv')"
   ]
  },
  {
   "cell_type": "code",
   "execution_count": 232,
   "id": "6e2fd14d",
   "metadata": {},
   "outputs": [
    {
     "name": "stdout",
     "output_type": "stream",
     "text": [
      "<class 'pandas.core.frame.DataFrame'>\n",
      "RangeIndex: 500 entries, 0 to 499\n",
      "Data columns (total 8 columns):\n",
      "user_id       500 non-null int64\n",
      "age           500 non-null int64\n",
      "churn_date    38 non-null object\n",
      "city          500 non-null object\n",
      "first_name    500 non-null object\n",
      "last_name     500 non-null object\n",
      "reg_date      500 non-null object\n",
      "tariff        500 non-null object\n",
      "dtypes: int64(2), object(6)\n",
      "memory usage: 31.4+ KB\n"
     ]
    },
    {
     "data": {
      "text/plain": [
       "None"
      ]
     },
     "metadata": {},
     "output_type": "display_data"
    },
    {
     "data": {
      "text/html": [
       "<div>\n",
       "<style scoped>\n",
       "    .dataframe tbody tr th:only-of-type {\n",
       "        vertical-align: middle;\n",
       "    }\n",
       "\n",
       "    .dataframe tbody tr th {\n",
       "        vertical-align: top;\n",
       "    }\n",
       "\n",
       "    .dataframe thead th {\n",
       "        text-align: right;\n",
       "    }\n",
       "</style>\n",
       "<table border=\"1\" class=\"dataframe\">\n",
       "  <thead>\n",
       "    <tr style=\"text-align: right;\">\n",
       "      <th></th>\n",
       "      <th>user_id</th>\n",
       "      <th>age</th>\n",
       "      <th>churn_date</th>\n",
       "      <th>city</th>\n",
       "      <th>first_name</th>\n",
       "      <th>last_name</th>\n",
       "      <th>reg_date</th>\n",
       "      <th>tariff</th>\n",
       "    </tr>\n",
       "  </thead>\n",
       "  <tbody>\n",
       "    <tr>\n",
       "      <td>0</td>\n",
       "      <td>1000</td>\n",
       "      <td>52</td>\n",
       "      <td>NaN</td>\n",
       "      <td>Краснодар</td>\n",
       "      <td>Рафаил</td>\n",
       "      <td>Верещагин</td>\n",
       "      <td>2018-05-25</td>\n",
       "      <td>ultra</td>\n",
       "    </tr>\n",
       "    <tr>\n",
       "      <td>1</td>\n",
       "      <td>1001</td>\n",
       "      <td>41</td>\n",
       "      <td>NaN</td>\n",
       "      <td>Москва</td>\n",
       "      <td>Иван</td>\n",
       "      <td>Ежов</td>\n",
       "      <td>2018-11-01</td>\n",
       "      <td>smart</td>\n",
       "    </tr>\n",
       "    <tr>\n",
       "      <td>2</td>\n",
       "      <td>1002</td>\n",
       "      <td>59</td>\n",
       "      <td>NaN</td>\n",
       "      <td>Стерлитамак</td>\n",
       "      <td>Евгений</td>\n",
       "      <td>Абрамович</td>\n",
       "      <td>2018-06-17</td>\n",
       "      <td>smart</td>\n",
       "    </tr>\n",
       "    <tr>\n",
       "      <td>3</td>\n",
       "      <td>1003</td>\n",
       "      <td>23</td>\n",
       "      <td>NaN</td>\n",
       "      <td>Москва</td>\n",
       "      <td>Белла</td>\n",
       "      <td>Белякова</td>\n",
       "      <td>2018-08-17</td>\n",
       "      <td>ultra</td>\n",
       "    </tr>\n",
       "    <tr>\n",
       "      <td>4</td>\n",
       "      <td>1004</td>\n",
       "      <td>68</td>\n",
       "      <td>NaN</td>\n",
       "      <td>Новокузнецк</td>\n",
       "      <td>Татьяна</td>\n",
       "      <td>Авдеенко</td>\n",
       "      <td>2018-05-14</td>\n",
       "      <td>ultra</td>\n",
       "    </tr>\n",
       "  </tbody>\n",
       "</table>\n",
       "</div>"
      ],
      "text/plain": [
       "   user_id  age churn_date         city first_name  last_name    reg_date  \\\n",
       "0     1000   52        NaN    Краснодар     Рафаил  Верещагин  2018-05-25   \n",
       "1     1001   41        NaN       Москва       Иван       Ежов  2018-11-01   \n",
       "2     1002   59        NaN  Стерлитамак    Евгений  Абрамович  2018-06-17   \n",
       "3     1003   23        NaN       Москва      Белла   Белякова  2018-08-17   \n",
       "4     1004   68        NaN  Новокузнецк    Татьяна   Авдеенко  2018-05-14   \n",
       "\n",
       "  tariff  \n",
       "0  ultra  \n",
       "1  smart  \n",
       "2  smart  \n",
       "3  ultra  \n",
       "4  ultra  "
      ]
     },
     "metadata": {},
     "output_type": "display_data"
    },
    {
     "data": {
      "text/html": [
       "<div>\n",
       "<style scoped>\n",
       "    .dataframe tbody tr th:only-of-type {\n",
       "        vertical-align: middle;\n",
       "    }\n",
       "\n",
       "    .dataframe tbody tr th {\n",
       "        vertical-align: top;\n",
       "    }\n",
       "\n",
       "    .dataframe thead th {\n",
       "        text-align: right;\n",
       "    }\n",
       "</style>\n",
       "<table border=\"1\" class=\"dataframe\">\n",
       "  <thead>\n",
       "    <tr style=\"text-align: right;\">\n",
       "      <th></th>\n",
       "      <th>count</th>\n",
       "      <th>mean</th>\n",
       "      <th>std</th>\n",
       "      <th>min</th>\n",
       "      <th>25%</th>\n",
       "      <th>50%</th>\n",
       "      <th>75%</th>\n",
       "      <th>max</th>\n",
       "    </tr>\n",
       "  </thead>\n",
       "  <tbody>\n",
       "    <tr>\n",
       "      <td>user_id</td>\n",
       "      <td>500.0</td>\n",
       "      <td>1249.500</td>\n",
       "      <td>144.481833</td>\n",
       "      <td>1000.0</td>\n",
       "      <td>1124.75</td>\n",
       "      <td>1249.5</td>\n",
       "      <td>1374.25</td>\n",
       "      <td>1499.0</td>\n",
       "    </tr>\n",
       "    <tr>\n",
       "      <td>age</td>\n",
       "      <td>500.0</td>\n",
       "      <td>46.588</td>\n",
       "      <td>16.667630</td>\n",
       "      <td>18.0</td>\n",
       "      <td>32.00</td>\n",
       "      <td>46.0</td>\n",
       "      <td>62.00</td>\n",
       "      <td>75.0</td>\n",
       "    </tr>\n",
       "  </tbody>\n",
       "</table>\n",
       "</div>"
      ],
      "text/plain": [
       "         count      mean         std     min      25%     50%      75%     max\n",
       "user_id  500.0  1249.500  144.481833  1000.0  1124.75  1249.5  1374.25  1499.0\n",
       "age      500.0    46.588   16.667630    18.0    32.00    46.0    62.00    75.0"
      ]
     },
     "metadata": {},
     "output_type": "display_data"
    },
    {
     "name": "stdout",
     "output_type": "stream",
     "text": [
      "<class 'pandas.core.frame.DataFrame'>\n",
      "RangeIndex: 202607 entries, 0 to 202606\n",
      "Data columns (total 4 columns):\n",
      "id           202607 non-null object\n",
      "call_date    202607 non-null object\n",
      "duration     202607 non-null float64\n",
      "user_id      202607 non-null int64\n",
      "dtypes: float64(1), int64(1), object(2)\n",
      "memory usage: 6.2+ MB\n"
     ]
    },
    {
     "data": {
      "text/plain": [
       "None"
      ]
     },
     "metadata": {},
     "output_type": "display_data"
    },
    {
     "data": {
      "text/html": [
       "<div>\n",
       "<style scoped>\n",
       "    .dataframe tbody tr th:only-of-type {\n",
       "        vertical-align: middle;\n",
       "    }\n",
       "\n",
       "    .dataframe tbody tr th {\n",
       "        vertical-align: top;\n",
       "    }\n",
       "\n",
       "    .dataframe thead th {\n",
       "        text-align: right;\n",
       "    }\n",
       "</style>\n",
       "<table border=\"1\" class=\"dataframe\">\n",
       "  <thead>\n",
       "    <tr style=\"text-align: right;\">\n",
       "      <th></th>\n",
       "      <th>id</th>\n",
       "      <th>call_date</th>\n",
       "      <th>duration</th>\n",
       "      <th>user_id</th>\n",
       "    </tr>\n",
       "  </thead>\n",
       "  <tbody>\n",
       "    <tr>\n",
       "      <td>0</td>\n",
       "      <td>1000_0</td>\n",
       "      <td>2018-07-25</td>\n",
       "      <td>0.00</td>\n",
       "      <td>1000</td>\n",
       "    </tr>\n",
       "    <tr>\n",
       "      <td>1</td>\n",
       "      <td>1000_1</td>\n",
       "      <td>2018-08-17</td>\n",
       "      <td>0.00</td>\n",
       "      <td>1000</td>\n",
       "    </tr>\n",
       "    <tr>\n",
       "      <td>2</td>\n",
       "      <td>1000_2</td>\n",
       "      <td>2018-06-11</td>\n",
       "      <td>2.85</td>\n",
       "      <td>1000</td>\n",
       "    </tr>\n",
       "    <tr>\n",
       "      <td>3</td>\n",
       "      <td>1000_3</td>\n",
       "      <td>2018-09-21</td>\n",
       "      <td>13.80</td>\n",
       "      <td>1000</td>\n",
       "    </tr>\n",
       "    <tr>\n",
       "      <td>4</td>\n",
       "      <td>1000_4</td>\n",
       "      <td>2018-12-15</td>\n",
       "      <td>5.18</td>\n",
       "      <td>1000</td>\n",
       "    </tr>\n",
       "  </tbody>\n",
       "</table>\n",
       "</div>"
      ],
      "text/plain": [
       "       id   call_date  duration  user_id\n",
       "0  1000_0  2018-07-25      0.00     1000\n",
       "1  1000_1  2018-08-17      0.00     1000\n",
       "2  1000_2  2018-06-11      2.85     1000\n",
       "3  1000_3  2018-09-21     13.80     1000\n",
       "4  1000_4  2018-12-15      5.18     1000"
      ]
     },
     "metadata": {},
     "output_type": "display_data"
    },
    {
     "data": {
      "text/html": [
       "<div>\n",
       "<style scoped>\n",
       "    .dataframe tbody tr th:only-of-type {\n",
       "        vertical-align: middle;\n",
       "    }\n",
       "\n",
       "    .dataframe tbody tr th {\n",
       "        vertical-align: top;\n",
       "    }\n",
       "\n",
       "    .dataframe thead th {\n",
       "        text-align: right;\n",
       "    }\n",
       "</style>\n",
       "<table border=\"1\" class=\"dataframe\">\n",
       "  <thead>\n",
       "    <tr style=\"text-align: right;\">\n",
       "      <th></th>\n",
       "      <th>count</th>\n",
       "      <th>mean</th>\n",
       "      <th>std</th>\n",
       "      <th>min</th>\n",
       "      <th>25%</th>\n",
       "      <th>50%</th>\n",
       "      <th>75%</th>\n",
       "      <th>max</th>\n",
       "    </tr>\n",
       "  </thead>\n",
       "  <tbody>\n",
       "    <tr>\n",
       "      <td>duration</td>\n",
       "      <td>202607.0</td>\n",
       "      <td>6.755887</td>\n",
       "      <td>5.843365</td>\n",
       "      <td>0.0</td>\n",
       "      <td>1.3</td>\n",
       "      <td>6.0</td>\n",
       "      <td>10.7</td>\n",
       "      <td>38.0</td>\n",
       "    </tr>\n",
       "    <tr>\n",
       "      <td>user_id</td>\n",
       "      <td>202607.0</td>\n",
       "      <td>1253.940619</td>\n",
       "      <td>144.722751</td>\n",
       "      <td>1000.0</td>\n",
       "      <td>1126.0</td>\n",
       "      <td>1260.0</td>\n",
       "      <td>1379.0</td>\n",
       "      <td>1499.0</td>\n",
       "    </tr>\n",
       "  </tbody>\n",
       "</table>\n",
       "</div>"
      ],
      "text/plain": [
       "             count         mean         std     min     25%     50%     75%  \\\n",
       "duration  202607.0     6.755887    5.843365     0.0     1.3     6.0    10.7   \n",
       "user_id   202607.0  1253.940619  144.722751  1000.0  1126.0  1260.0  1379.0   \n",
       "\n",
       "             max  \n",
       "duration    38.0  \n",
       "user_id   1499.0  "
      ]
     },
     "metadata": {},
     "output_type": "display_data"
    },
    {
     "name": "stdout",
     "output_type": "stream",
     "text": [
      "<class 'pandas.core.frame.DataFrame'>\n",
      "RangeIndex: 149396 entries, 0 to 149395\n",
      "Data columns (total 5 columns):\n",
      "Unnamed: 0      149396 non-null int64\n",
      "id              149396 non-null object\n",
      "mb_used         149396 non-null float64\n",
      "session_date    149396 non-null object\n",
      "user_id         149396 non-null int64\n",
      "dtypes: float64(1), int64(2), object(2)\n",
      "memory usage: 5.7+ MB\n"
     ]
    },
    {
     "data": {
      "text/plain": [
       "None"
      ]
     },
     "metadata": {},
     "output_type": "display_data"
    },
    {
     "data": {
      "text/html": [
       "<div>\n",
       "<style scoped>\n",
       "    .dataframe tbody tr th:only-of-type {\n",
       "        vertical-align: middle;\n",
       "    }\n",
       "\n",
       "    .dataframe tbody tr th {\n",
       "        vertical-align: top;\n",
       "    }\n",
       "\n",
       "    .dataframe thead th {\n",
       "        text-align: right;\n",
       "    }\n",
       "</style>\n",
       "<table border=\"1\" class=\"dataframe\">\n",
       "  <thead>\n",
       "    <tr style=\"text-align: right;\">\n",
       "      <th></th>\n",
       "      <th>Unnamed: 0</th>\n",
       "      <th>id</th>\n",
       "      <th>mb_used</th>\n",
       "      <th>session_date</th>\n",
       "      <th>user_id</th>\n",
       "    </tr>\n",
       "  </thead>\n",
       "  <tbody>\n",
       "    <tr>\n",
       "      <td>0</td>\n",
       "      <td>0</td>\n",
       "      <td>1000_0</td>\n",
       "      <td>112.95</td>\n",
       "      <td>2018-11-25</td>\n",
       "      <td>1000</td>\n",
       "    </tr>\n",
       "    <tr>\n",
       "      <td>1</td>\n",
       "      <td>1</td>\n",
       "      <td>1000_1</td>\n",
       "      <td>1052.81</td>\n",
       "      <td>2018-09-07</td>\n",
       "      <td>1000</td>\n",
       "    </tr>\n",
       "    <tr>\n",
       "      <td>2</td>\n",
       "      <td>2</td>\n",
       "      <td>1000_2</td>\n",
       "      <td>1197.26</td>\n",
       "      <td>2018-06-25</td>\n",
       "      <td>1000</td>\n",
       "    </tr>\n",
       "    <tr>\n",
       "      <td>3</td>\n",
       "      <td>3</td>\n",
       "      <td>1000_3</td>\n",
       "      <td>550.27</td>\n",
       "      <td>2018-08-22</td>\n",
       "      <td>1000</td>\n",
       "    </tr>\n",
       "    <tr>\n",
       "      <td>4</td>\n",
       "      <td>4</td>\n",
       "      <td>1000_4</td>\n",
       "      <td>302.56</td>\n",
       "      <td>2018-09-24</td>\n",
       "      <td>1000</td>\n",
       "    </tr>\n",
       "  </tbody>\n",
       "</table>\n",
       "</div>"
      ],
      "text/plain": [
       "   Unnamed: 0      id  mb_used session_date  user_id\n",
       "0           0  1000_0   112.95   2018-11-25     1000\n",
       "1           1  1000_1  1052.81   2018-09-07     1000\n",
       "2           2  1000_2  1197.26   2018-06-25     1000\n",
       "3           3  1000_3   550.27   2018-08-22     1000\n",
       "4           4  1000_4   302.56   2018-09-24     1000"
      ]
     },
     "metadata": {},
     "output_type": "display_data"
    },
    {
     "data": {
      "text/html": [
       "<div>\n",
       "<style scoped>\n",
       "    .dataframe tbody tr th:only-of-type {\n",
       "        vertical-align: middle;\n",
       "    }\n",
       "\n",
       "    .dataframe tbody tr th {\n",
       "        vertical-align: top;\n",
       "    }\n",
       "\n",
       "    .dataframe thead th {\n",
       "        text-align: right;\n",
       "    }\n",
       "</style>\n",
       "<table border=\"1\" class=\"dataframe\">\n",
       "  <thead>\n",
       "    <tr style=\"text-align: right;\">\n",
       "      <th></th>\n",
       "      <th>count</th>\n",
       "      <th>mean</th>\n",
       "      <th>std</th>\n",
       "      <th>min</th>\n",
       "      <th>25%</th>\n",
       "      <th>50%</th>\n",
       "      <th>75%</th>\n",
       "      <th>max</th>\n",
       "    </tr>\n",
       "  </thead>\n",
       "  <tbody>\n",
       "    <tr>\n",
       "      <td>Unnamed: 0</td>\n",
       "      <td>149396.0</td>\n",
       "      <td>74697.500000</td>\n",
       "      <td>43127.054745</td>\n",
       "      <td>0.0</td>\n",
       "      <td>37348.7500</td>\n",
       "      <td>74697.500</td>\n",
       "      <td>112046.2500</td>\n",
       "      <td>149395.00</td>\n",
       "    </tr>\n",
       "    <tr>\n",
       "      <td>mb_used</td>\n",
       "      <td>149396.0</td>\n",
       "      <td>370.192426</td>\n",
       "      <td>278.300951</td>\n",
       "      <td>0.0</td>\n",
       "      <td>138.1875</td>\n",
       "      <td>348.015</td>\n",
       "      <td>559.5525</td>\n",
       "      <td>1724.83</td>\n",
       "    </tr>\n",
       "    <tr>\n",
       "      <td>user_id</td>\n",
       "      <td>149396.0</td>\n",
       "      <td>1252.099842</td>\n",
       "      <td>144.050823</td>\n",
       "      <td>1000.0</td>\n",
       "      <td>1130.0000</td>\n",
       "      <td>1251.000</td>\n",
       "      <td>1380.0000</td>\n",
       "      <td>1499.00</td>\n",
       "    </tr>\n",
       "  </tbody>\n",
       "</table>\n",
       "</div>"
      ],
      "text/plain": [
       "               count          mean           std     min         25%  \\\n",
       "Unnamed: 0  149396.0  74697.500000  43127.054745     0.0  37348.7500   \n",
       "mb_used     149396.0    370.192426    278.300951     0.0    138.1875   \n",
       "user_id     149396.0   1252.099842    144.050823  1000.0   1130.0000   \n",
       "\n",
       "                  50%          75%        max  \n",
       "Unnamed: 0  74697.500  112046.2500  149395.00  \n",
       "mb_used       348.015     559.5525    1724.83  \n",
       "user_id      1251.000    1380.0000    1499.00  "
      ]
     },
     "metadata": {},
     "output_type": "display_data"
    },
    {
     "name": "stdout",
     "output_type": "stream",
     "text": [
      "<class 'pandas.core.frame.DataFrame'>\n",
      "RangeIndex: 2 entries, 0 to 1\n",
      "Data columns (total 8 columns):\n",
      "messages_included        2 non-null int64\n",
      "mb_per_month_included    2 non-null int64\n",
      "minutes_included         2 non-null int64\n",
      "rub_monthly_fee          2 non-null int64\n",
      "rub_per_gb               2 non-null int64\n",
      "rub_per_message          2 non-null int64\n",
      "rub_per_minute           2 non-null int64\n",
      "tariff_name              2 non-null object\n",
      "dtypes: int64(7), object(1)\n",
      "memory usage: 256.0+ bytes\n"
     ]
    },
    {
     "data": {
      "text/plain": [
       "None"
      ]
     },
     "metadata": {},
     "output_type": "display_data"
    },
    {
     "data": {
      "text/html": [
       "<div>\n",
       "<style scoped>\n",
       "    .dataframe tbody tr th:only-of-type {\n",
       "        vertical-align: middle;\n",
       "    }\n",
       "\n",
       "    .dataframe tbody tr th {\n",
       "        vertical-align: top;\n",
       "    }\n",
       "\n",
       "    .dataframe thead th {\n",
       "        text-align: right;\n",
       "    }\n",
       "</style>\n",
       "<table border=\"1\" class=\"dataframe\">\n",
       "  <thead>\n",
       "    <tr style=\"text-align: right;\">\n",
       "      <th></th>\n",
       "      <th>messages_included</th>\n",
       "      <th>mb_per_month_included</th>\n",
       "      <th>minutes_included</th>\n",
       "      <th>rub_monthly_fee</th>\n",
       "      <th>rub_per_gb</th>\n",
       "      <th>rub_per_message</th>\n",
       "      <th>rub_per_minute</th>\n",
       "      <th>tariff_name</th>\n",
       "    </tr>\n",
       "  </thead>\n",
       "  <tbody>\n",
       "    <tr>\n",
       "      <td>0</td>\n",
       "      <td>50</td>\n",
       "      <td>15360</td>\n",
       "      <td>500</td>\n",
       "      <td>550</td>\n",
       "      <td>200</td>\n",
       "      <td>3</td>\n",
       "      <td>3</td>\n",
       "      <td>smart</td>\n",
       "    </tr>\n",
       "    <tr>\n",
       "      <td>1</td>\n",
       "      <td>1000</td>\n",
       "      <td>30720</td>\n",
       "      <td>3000</td>\n",
       "      <td>1950</td>\n",
       "      <td>150</td>\n",
       "      <td>1</td>\n",
       "      <td>1</td>\n",
       "      <td>ultra</td>\n",
       "    </tr>\n",
       "  </tbody>\n",
       "</table>\n",
       "</div>"
      ],
      "text/plain": [
       "   messages_included  mb_per_month_included  minutes_included  \\\n",
       "0                 50                  15360               500   \n",
       "1               1000                  30720              3000   \n",
       "\n",
       "   rub_monthly_fee  rub_per_gb  rub_per_message  rub_per_minute tariff_name  \n",
       "0              550         200                3               3       smart  \n",
       "1             1950         150                1               1       ultra  "
      ]
     },
     "metadata": {},
     "output_type": "display_data"
    },
    {
     "data": {
      "text/html": [
       "<div>\n",
       "<style scoped>\n",
       "    .dataframe tbody tr th:only-of-type {\n",
       "        vertical-align: middle;\n",
       "    }\n",
       "\n",
       "    .dataframe tbody tr th {\n",
       "        vertical-align: top;\n",
       "    }\n",
       "\n",
       "    .dataframe thead th {\n",
       "        text-align: right;\n",
       "    }\n",
       "</style>\n",
       "<table border=\"1\" class=\"dataframe\">\n",
       "  <thead>\n",
       "    <tr style=\"text-align: right;\">\n",
       "      <th></th>\n",
       "      <th>count</th>\n",
       "      <th>mean</th>\n",
       "      <th>std</th>\n",
       "      <th>min</th>\n",
       "      <th>25%</th>\n",
       "      <th>50%</th>\n",
       "      <th>75%</th>\n",
       "      <th>max</th>\n",
       "    </tr>\n",
       "  </thead>\n",
       "  <tbody>\n",
       "    <tr>\n",
       "      <td>messages_included</td>\n",
       "      <td>2.0</td>\n",
       "      <td>525.0</td>\n",
       "      <td>671.751442</td>\n",
       "      <td>50.0</td>\n",
       "      <td>287.5</td>\n",
       "      <td>525.0</td>\n",
       "      <td>762.5</td>\n",
       "      <td>1000.0</td>\n",
       "    </tr>\n",
       "    <tr>\n",
       "      <td>mb_per_month_included</td>\n",
       "      <td>2.0</td>\n",
       "      <td>23040.0</td>\n",
       "      <td>10861.160159</td>\n",
       "      <td>15360.0</td>\n",
       "      <td>19200.0</td>\n",
       "      <td>23040.0</td>\n",
       "      <td>26880.0</td>\n",
       "      <td>30720.0</td>\n",
       "    </tr>\n",
       "    <tr>\n",
       "      <td>minutes_included</td>\n",
       "      <td>2.0</td>\n",
       "      <td>1750.0</td>\n",
       "      <td>1767.766953</td>\n",
       "      <td>500.0</td>\n",
       "      <td>1125.0</td>\n",
       "      <td>1750.0</td>\n",
       "      <td>2375.0</td>\n",
       "      <td>3000.0</td>\n",
       "    </tr>\n",
       "    <tr>\n",
       "      <td>rub_monthly_fee</td>\n",
       "      <td>2.0</td>\n",
       "      <td>1250.0</td>\n",
       "      <td>989.949494</td>\n",
       "      <td>550.0</td>\n",
       "      <td>900.0</td>\n",
       "      <td>1250.0</td>\n",
       "      <td>1600.0</td>\n",
       "      <td>1950.0</td>\n",
       "    </tr>\n",
       "    <tr>\n",
       "      <td>rub_per_gb</td>\n",
       "      <td>2.0</td>\n",
       "      <td>175.0</td>\n",
       "      <td>35.355339</td>\n",
       "      <td>150.0</td>\n",
       "      <td>162.5</td>\n",
       "      <td>175.0</td>\n",
       "      <td>187.5</td>\n",
       "      <td>200.0</td>\n",
       "    </tr>\n",
       "    <tr>\n",
       "      <td>rub_per_message</td>\n",
       "      <td>2.0</td>\n",
       "      <td>2.0</td>\n",
       "      <td>1.414214</td>\n",
       "      <td>1.0</td>\n",
       "      <td>1.5</td>\n",
       "      <td>2.0</td>\n",
       "      <td>2.5</td>\n",
       "      <td>3.0</td>\n",
       "    </tr>\n",
       "    <tr>\n",
       "      <td>rub_per_minute</td>\n",
       "      <td>2.0</td>\n",
       "      <td>2.0</td>\n",
       "      <td>1.414214</td>\n",
       "      <td>1.0</td>\n",
       "      <td>1.5</td>\n",
       "      <td>2.0</td>\n",
       "      <td>2.5</td>\n",
       "      <td>3.0</td>\n",
       "    </tr>\n",
       "  </tbody>\n",
       "</table>\n",
       "</div>"
      ],
      "text/plain": [
       "                       count     mean           std      min      25%  \\\n",
       "messages_included        2.0    525.0    671.751442     50.0    287.5   \n",
       "mb_per_month_included    2.0  23040.0  10861.160159  15360.0  19200.0   \n",
       "minutes_included         2.0   1750.0   1767.766953    500.0   1125.0   \n",
       "rub_monthly_fee          2.0   1250.0    989.949494    550.0    900.0   \n",
       "rub_per_gb               2.0    175.0     35.355339    150.0    162.5   \n",
       "rub_per_message          2.0      2.0      1.414214      1.0      1.5   \n",
       "rub_per_minute           2.0      2.0      1.414214      1.0      1.5   \n",
       "\n",
       "                           50%      75%      max  \n",
       "messages_included        525.0    762.5   1000.0  \n",
       "mb_per_month_included  23040.0  26880.0  30720.0  \n",
       "minutes_included        1750.0   2375.0   3000.0  \n",
       "rub_monthly_fee         1250.0   1600.0   1950.0  \n",
       "rub_per_gb               175.0    187.5    200.0  \n",
       "rub_per_message            2.0      2.5      3.0  \n",
       "rub_per_minute             2.0      2.5      3.0  "
      ]
     },
     "metadata": {},
     "output_type": "display_data"
    },
    {
     "name": "stdout",
     "output_type": "stream",
     "text": [
      "<class 'pandas.core.frame.DataFrame'>\n",
      "RangeIndex: 123036 entries, 0 to 123035\n",
      "Data columns (total 3 columns):\n",
      "id              123036 non-null object\n",
      "message_date    123036 non-null object\n",
      "user_id         123036 non-null int64\n",
      "dtypes: int64(1), object(2)\n",
      "memory usage: 2.8+ MB\n"
     ]
    },
    {
     "data": {
      "text/plain": [
       "None"
      ]
     },
     "metadata": {},
     "output_type": "display_data"
    },
    {
     "data": {
      "text/html": [
       "<div>\n",
       "<style scoped>\n",
       "    .dataframe tbody tr th:only-of-type {\n",
       "        vertical-align: middle;\n",
       "    }\n",
       "\n",
       "    .dataframe tbody tr th {\n",
       "        vertical-align: top;\n",
       "    }\n",
       "\n",
       "    .dataframe thead th {\n",
       "        text-align: right;\n",
       "    }\n",
       "</style>\n",
       "<table border=\"1\" class=\"dataframe\">\n",
       "  <thead>\n",
       "    <tr style=\"text-align: right;\">\n",
       "      <th></th>\n",
       "      <th>id</th>\n",
       "      <th>message_date</th>\n",
       "      <th>user_id</th>\n",
       "    </tr>\n",
       "  </thead>\n",
       "  <tbody>\n",
       "    <tr>\n",
       "      <td>0</td>\n",
       "      <td>1000_0</td>\n",
       "      <td>2018-06-27</td>\n",
       "      <td>1000</td>\n",
       "    </tr>\n",
       "    <tr>\n",
       "      <td>1</td>\n",
       "      <td>1000_1</td>\n",
       "      <td>2018-10-08</td>\n",
       "      <td>1000</td>\n",
       "    </tr>\n",
       "    <tr>\n",
       "      <td>2</td>\n",
       "      <td>1000_2</td>\n",
       "      <td>2018-08-04</td>\n",
       "      <td>1000</td>\n",
       "    </tr>\n",
       "    <tr>\n",
       "      <td>3</td>\n",
       "      <td>1000_3</td>\n",
       "      <td>2018-06-16</td>\n",
       "      <td>1000</td>\n",
       "    </tr>\n",
       "    <tr>\n",
       "      <td>4</td>\n",
       "      <td>1000_4</td>\n",
       "      <td>2018-12-05</td>\n",
       "      <td>1000</td>\n",
       "    </tr>\n",
       "  </tbody>\n",
       "</table>\n",
       "</div>"
      ],
      "text/plain": [
       "       id message_date  user_id\n",
       "0  1000_0   2018-06-27     1000\n",
       "1  1000_1   2018-10-08     1000\n",
       "2  1000_2   2018-08-04     1000\n",
       "3  1000_3   2018-06-16     1000\n",
       "4  1000_4   2018-12-05     1000"
      ]
     },
     "metadata": {},
     "output_type": "display_data"
    },
    {
     "data": {
      "text/html": [
       "<div>\n",
       "<style scoped>\n",
       "    .dataframe tbody tr th:only-of-type {\n",
       "        vertical-align: middle;\n",
       "    }\n",
       "\n",
       "    .dataframe tbody tr th {\n",
       "        vertical-align: top;\n",
       "    }\n",
       "\n",
       "    .dataframe thead th {\n",
       "        text-align: right;\n",
       "    }\n",
       "</style>\n",
       "<table border=\"1\" class=\"dataframe\">\n",
       "  <thead>\n",
       "    <tr style=\"text-align: right;\">\n",
       "      <th></th>\n",
       "      <th>count</th>\n",
       "      <th>mean</th>\n",
       "      <th>std</th>\n",
       "      <th>min</th>\n",
       "      <th>25%</th>\n",
       "      <th>50%</th>\n",
       "      <th>75%</th>\n",
       "      <th>max</th>\n",
       "    </tr>\n",
       "  </thead>\n",
       "  <tbody>\n",
       "    <tr>\n",
       "      <td>user_id</td>\n",
       "      <td>123036.0</td>\n",
       "      <td>1256.98941</td>\n",
       "      <td>143.523967</td>\n",
       "      <td>1000.0</td>\n",
       "      <td>1134.0</td>\n",
       "      <td>1271.0</td>\n",
       "      <td>1381.0</td>\n",
       "      <td>1499.0</td>\n",
       "    </tr>\n",
       "  </tbody>\n",
       "</table>\n",
       "</div>"
      ],
      "text/plain": [
       "            count        mean         std     min     25%     50%     75%  \\\n",
       "user_id  123036.0  1256.98941  143.523967  1000.0  1134.0  1271.0  1381.0   \n",
       "\n",
       "            max  \n",
       "user_id  1499.0  "
      ]
     },
     "metadata": {},
     "output_type": "display_data"
    }
   ],
   "source": [
    "datas = [data_users, data_calls, data_internet, data_tariffs, data_messages]\n",
    "\n",
    "for data in datas:\n",
    "    display(data.info())\n",
    "    display(data.head())\n",
    "    display(data.describe().T)"
   ]
  },
  {
   "cell_type": "markdown",
   "id": "1acb3dd4",
   "metadata": {},
   "source": [
    "### Вывод\n",
    "\n",
    "Данные расположены в пяти таблицах. Отдельно информация о клиентах, их id и тариф и город. Отдельно таблица с звонками, интернетом и сообщениями, а также таблица, в которой указаны тарифы. "
   ]
  },
  {
   "cell_type": "markdown",
   "id": "e99df416",
   "metadata": {},
   "source": [
    "<a id=\"preprocessing\"></a>\n",
    "##  Подготовка данных"
   ]
  },
  {
   "cell_type": "markdown",
   "id": "148fa798",
   "metadata": {},
   "source": [
    "В данной главе мы:\n",
    "* проверим данные на дупликаты и пропуски;\n",
    "* изменим типы данных с целью оптимизировать данные;\n",
    "* проведем поиск и исправление ошибок в данных;\n",
    "* сформируем сводные таблицы для дальнейшего анализа."
   ]
  },
  {
   "cell_type": "markdown",
   "id": "e1eaebdb",
   "metadata": {},
   "source": [
    "<a id=\"nan_duplicated\"></a>\n",
    "###  Поиск пропусков и дупликатов"
   ]
  },
  {
   "cell_type": "markdown",
   "id": "a054dfad",
   "metadata": {},
   "source": [
    "Проверим данные на дупликаты:"
   ]
  },
  {
   "cell_type": "code",
   "execution_count": 233,
   "id": "a5abbfdf",
   "metadata": {},
   "outputs": [
    {
     "name": "stdout",
     "output_type": "stream",
     "text": [
      "0\n",
      "0\n",
      "0\n",
      "0\n",
      "0\n"
     ]
    }
   ],
   "source": [
    "for data in datas:\n",
    "    print(data.duplicated().sum())"
   ]
  },
  {
   "cell_type": "markdown",
   "id": "d66bddc4",
   "metadata": {},
   "source": [
    "Проверим данные на пропуски:"
   ]
  },
  {
   "cell_type": "code",
   "execution_count": 234,
   "id": "6e8b9ab6",
   "metadata": {},
   "outputs": [
    {
     "name": "stdout",
     "output_type": "stream",
     "text": [
      "user_id         0\n",
      "age             0\n",
      "churn_date    462\n",
      "city            0\n",
      "first_name      0\n",
      "last_name       0\n",
      "reg_date        0\n",
      "tariff          0\n",
      "dtype: int64\n",
      "Процент пропусков: user_id        0.0\n",
      "age            0.0\n",
      "churn_date    92.4\n",
      "city           0.0\n",
      "first_name     0.0\n",
      "last_name      0.0\n",
      "reg_date       0.0\n",
      "tariff         0.0\n",
      "dtype: float64\n",
      "id           0\n",
      "call_date    0\n",
      "duration     0\n",
      "user_id      0\n",
      "dtype: int64\n",
      "Процент пропусков: id           0.0\n",
      "call_date    0.0\n",
      "duration     0.0\n",
      "user_id      0.0\n",
      "dtype: float64\n",
      "Unnamed: 0      0\n",
      "id              0\n",
      "mb_used         0\n",
      "session_date    0\n",
      "user_id         0\n",
      "dtype: int64\n",
      "Процент пропусков: Unnamed: 0      0.0\n",
      "id              0.0\n",
      "mb_used         0.0\n",
      "session_date    0.0\n",
      "user_id         0.0\n",
      "dtype: float64\n",
      "messages_included        0\n",
      "mb_per_month_included    0\n",
      "minutes_included         0\n",
      "rub_monthly_fee          0\n",
      "rub_per_gb               0\n",
      "rub_per_message          0\n",
      "rub_per_minute           0\n",
      "tariff_name              0\n",
      "dtype: int64\n",
      "Процент пропусков: messages_included        0.0\n",
      "mb_per_month_included    0.0\n",
      "minutes_included         0.0\n",
      "rub_monthly_fee          0.0\n",
      "rub_per_gb               0.0\n",
      "rub_per_message          0.0\n",
      "rub_per_minute           0.0\n",
      "tariff_name              0.0\n",
      "dtype: float64\n",
      "id              0\n",
      "message_date    0\n",
      "user_id         0\n",
      "dtype: int64\n",
      "Процент пропусков: id              0.0\n",
      "message_date    0.0\n",
      "user_id         0.0\n",
      "dtype: float64\n"
     ]
    }
   ],
   "source": [
    "for data in datas:\n",
    "    print(data.isna().sum())\n",
    "    print(f'Процент пропусков: {data.isna().sum() / data.shape[0] * 100}')"
   ]
  },
  {
   "cell_type": "markdown",
   "id": "05995363",
   "metadata": {},
   "source": [
    "#### Вывод\n",
    "\n",
    "Как показала проверка, явных дупликатов в данных нет, пропуски есть только в столбце с датой прекращения тарифа, что, согласно документации, означает, что пользователь ещё действующий."
   ]
  },
  {
   "cell_type": "markdown",
   "id": "7697d254",
   "metadata": {},
   "source": [
    "<a id=\"type_change\"></a>\n",
    "###  Изменение типов данных"
   ]
  },
  {
   "cell_type": "markdown",
   "id": "31c36586",
   "metadata": {},
   "source": [
    "Изменим тип данных в столбце с датой:"
   ]
  },
  {
   "cell_type": "code",
   "execution_count": 235,
   "id": "220d9b9b",
   "metadata": {},
   "outputs": [
    {
     "data": {
      "text/plain": [
       "0   NaT\n",
       "1   NaT\n",
       "2   NaT\n",
       "3   NaT\n",
       "4   NaT\n",
       "Name: churn_date, dtype: datetime64[ns]"
      ]
     },
     "metadata": {},
     "output_type": "display_data"
    },
    {
     "data": {
      "text/plain": [
       "0   2018-05-25\n",
       "1   2018-11-01\n",
       "2   2018-06-17\n",
       "3   2018-08-17\n",
       "4   2018-05-14\n",
       "Name: reg_date, dtype: datetime64[ns]"
      ]
     },
     "metadata": {},
     "output_type": "display_data"
    },
    {
     "data": {
      "text/plain": [
       "0   2018-07-25\n",
       "1   2018-08-17\n",
       "2   2018-06-11\n",
       "3   2018-09-21\n",
       "4   2018-12-15\n",
       "Name: call_date, dtype: datetime64[ns]"
      ]
     },
     "metadata": {},
     "output_type": "display_data"
    },
    {
     "data": {
      "text/plain": [
       "0   2018-11-25\n",
       "1   2018-09-07\n",
       "2   2018-06-25\n",
       "3   2018-08-22\n",
       "4   2018-09-24\n",
       "Name: session_date, dtype: datetime64[ns]"
      ]
     },
     "metadata": {},
     "output_type": "display_data"
    },
    {
     "data": {
      "text/plain": [
       "0   2018-06-27\n",
       "1   2018-10-08\n",
       "2   2018-08-04\n",
       "3   2018-06-16\n",
       "4   2018-12-05\n",
       "Name: message_date, dtype: datetime64[ns]"
      ]
     },
     "metadata": {},
     "output_type": "display_data"
    }
   ],
   "source": [
    "# в каждой из таблиц столбец в название столбца с датой входит 'date'. Поэтому пробежимся по всем таблицам и их столбцам,\n",
    "# и в столбцах, в которых встречается 'date' на формат datetime\n",
    "for data in datas:\n",
    "    for column in data.columns:\n",
    "        if 'date' in column:\n",
    "            data[column] = pd.to_datetime(data[column], format='%Y-%m-%dT%H:%M:%S')\n",
    "            display(data[column].head())        \n"
   ]
  },
  {
   "cell_type": "markdown",
   "id": "8894ce2d",
   "metadata": {},
   "source": [
    "В каждой таблице в столбцах с числовыми значениями используются избыточные форматы. Заменим их на более подходящие:"
   ]
  },
  {
   "cell_type": "code",
   "execution_count": 236,
   "id": "3cf9bd47",
   "metadata": {},
   "outputs": [
    {
     "name": "stdout",
     "output_type": "stream",
     "text": [
      "user_id                int16\n",
      "age                     int8\n",
      "churn_date    datetime64[ns]\n",
      "city                  object\n",
      "first_name            object\n",
      "last_name             object\n",
      "reg_date      datetime64[ns]\n",
      "tariff                object\n",
      "dtype: object\n",
      "id                   object\n",
      "call_date    datetime64[ns]\n",
      "duration            float32\n",
      "user_id               int16\n",
      "dtype: object\n",
      "Unnamed: 0               int32\n",
      "id                      object\n",
      "mb_used                float32\n",
      "session_date    datetime64[ns]\n",
      "user_id                  int16\n",
      "dtype: object\n",
      "messages_included         int16\n",
      "mb_per_month_included     int16\n",
      "minutes_included          int16\n",
      "rub_monthly_fee           int16\n",
      "rub_per_gb                int16\n",
      "rub_per_message            int8\n",
      "rub_per_minute             int8\n",
      "tariff_name              object\n",
      "dtype: object\n",
      "id                      object\n",
      "message_date    datetime64[ns]\n",
      "user_id                  int16\n",
      "dtype: object\n"
     ]
    }
   ],
   "source": [
    "# функция для смены типа данных в столбцах с целыми и вещественными числовыми значениями\n",
    "def type_change(data):    \n",
    "    for column in data.columns:\n",
    "        if data[column].dtype == 'int64':\n",
    "            data[column] = pd.to_numeric(data[column], downcast='integer')\n",
    "        elif data[column].dtype == 'float64':\n",
    "            data[column] = pd.to_numeric(data[column], downcast='float')\n",
    "    return data        \n",
    "\n",
    "\n",
    "for data in datas:\n",
    "    data = type_change(data)\n",
    "    print(data.dtypes)\n",
    "            "
   ]
  },
  {
   "cell_type": "markdown",
   "id": "d163bc6e",
   "metadata": {},
   "source": [
    "#### Вывод\n",
    "\n",
    "Были оптимизированы типы данных. Таким образом, можно уменьшить объем таблиц, а также увеличить скорость работы с ними."
   ]
  },
  {
   "cell_type": "markdown",
   "id": "008d996a",
   "metadata": {},
   "source": [
    "<a id=\"find_error\"></a>\n",
    "### Поиск ошибок"
   ]
  },
  {
   "cell_type": "markdown",
   "id": "a9ef196e",
   "metadata": {},
   "source": [
    "В таблице с информацией о интернет трафике присутствует лишний столбец, который, видимо, появился после использования функции reset_index без drop=True. Таким образом, появился столбец дублирующий индекс. Удалим его:"
   ]
  },
  {
   "cell_type": "code",
   "execution_count": 237,
   "id": "1ba9ab36",
   "metadata": {},
   "outputs": [
    {
     "data": {
      "text/html": [
       "<div>\n",
       "<style scoped>\n",
       "    .dataframe tbody tr th:only-of-type {\n",
       "        vertical-align: middle;\n",
       "    }\n",
       "\n",
       "    .dataframe tbody tr th {\n",
       "        vertical-align: top;\n",
       "    }\n",
       "\n",
       "    .dataframe thead th {\n",
       "        text-align: right;\n",
       "    }\n",
       "</style>\n",
       "<table border=\"1\" class=\"dataframe\">\n",
       "  <thead>\n",
       "    <tr style=\"text-align: right;\">\n",
       "      <th></th>\n",
       "      <th>Unnamed: 0</th>\n",
       "      <th>id</th>\n",
       "      <th>mb_used</th>\n",
       "      <th>session_date</th>\n",
       "      <th>user_id</th>\n",
       "    </tr>\n",
       "  </thead>\n",
       "  <tbody>\n",
       "    <tr>\n",
       "      <td>0</td>\n",
       "      <td>0</td>\n",
       "      <td>1000_0</td>\n",
       "      <td>112.949997</td>\n",
       "      <td>2018-11-25</td>\n",
       "      <td>1000</td>\n",
       "    </tr>\n",
       "    <tr>\n",
       "      <td>1</td>\n",
       "      <td>1</td>\n",
       "      <td>1000_1</td>\n",
       "      <td>1052.810059</td>\n",
       "      <td>2018-09-07</td>\n",
       "      <td>1000</td>\n",
       "    </tr>\n",
       "    <tr>\n",
       "      <td>2</td>\n",
       "      <td>2</td>\n",
       "      <td>1000_2</td>\n",
       "      <td>1197.260010</td>\n",
       "      <td>2018-06-25</td>\n",
       "      <td>1000</td>\n",
       "    </tr>\n",
       "    <tr>\n",
       "      <td>3</td>\n",
       "      <td>3</td>\n",
       "      <td>1000_3</td>\n",
       "      <td>550.270020</td>\n",
       "      <td>2018-08-22</td>\n",
       "      <td>1000</td>\n",
       "    </tr>\n",
       "    <tr>\n",
       "      <td>4</td>\n",
       "      <td>4</td>\n",
       "      <td>1000_4</td>\n",
       "      <td>302.559998</td>\n",
       "      <td>2018-09-24</td>\n",
       "      <td>1000</td>\n",
       "    </tr>\n",
       "  </tbody>\n",
       "</table>\n",
       "</div>"
      ],
      "text/plain": [
       "   Unnamed: 0      id      mb_used session_date  user_id\n",
       "0           0  1000_0   112.949997   2018-11-25     1000\n",
       "1           1  1000_1  1052.810059   2018-09-07     1000\n",
       "2           2  1000_2  1197.260010   2018-06-25     1000\n",
       "3           3  1000_3   550.270020   2018-08-22     1000\n",
       "4           4  1000_4   302.559998   2018-09-24     1000"
      ]
     },
     "execution_count": 237,
     "metadata": {},
     "output_type": "execute_result"
    }
   ],
   "source": [
    "data_internet.head()"
   ]
  },
  {
   "cell_type": "code",
   "execution_count": 238,
   "id": "a5730113",
   "metadata": {},
   "outputs": [
    {
     "data": {
      "text/html": [
       "<div>\n",
       "<style scoped>\n",
       "    .dataframe tbody tr th:only-of-type {\n",
       "        vertical-align: middle;\n",
       "    }\n",
       "\n",
       "    .dataframe tbody tr th {\n",
       "        vertical-align: top;\n",
       "    }\n",
       "\n",
       "    .dataframe thead th {\n",
       "        text-align: right;\n",
       "    }\n",
       "</style>\n",
       "<table border=\"1\" class=\"dataframe\">\n",
       "  <thead>\n",
       "    <tr style=\"text-align: right;\">\n",
       "      <th></th>\n",
       "      <th>id</th>\n",
       "      <th>mb_used</th>\n",
       "      <th>session_date</th>\n",
       "      <th>user_id</th>\n",
       "    </tr>\n",
       "  </thead>\n",
       "  <tbody>\n",
       "    <tr>\n",
       "      <td>0</td>\n",
       "      <td>1000_0</td>\n",
       "      <td>112.949997</td>\n",
       "      <td>2018-11-25</td>\n",
       "      <td>1000</td>\n",
       "    </tr>\n",
       "    <tr>\n",
       "      <td>1</td>\n",
       "      <td>1000_1</td>\n",
       "      <td>1052.810059</td>\n",
       "      <td>2018-09-07</td>\n",
       "      <td>1000</td>\n",
       "    </tr>\n",
       "    <tr>\n",
       "      <td>2</td>\n",
       "      <td>1000_2</td>\n",
       "      <td>1197.260010</td>\n",
       "      <td>2018-06-25</td>\n",
       "      <td>1000</td>\n",
       "    </tr>\n",
       "    <tr>\n",
       "      <td>3</td>\n",
       "      <td>1000_3</td>\n",
       "      <td>550.270020</td>\n",
       "      <td>2018-08-22</td>\n",
       "      <td>1000</td>\n",
       "    </tr>\n",
       "    <tr>\n",
       "      <td>4</td>\n",
       "      <td>1000_4</td>\n",
       "      <td>302.559998</td>\n",
       "      <td>2018-09-24</td>\n",
       "      <td>1000</td>\n",
       "    </tr>\n",
       "  </tbody>\n",
       "</table>\n",
       "</div>"
      ],
      "text/plain": [
       "       id      mb_used session_date  user_id\n",
       "0  1000_0   112.949997   2018-11-25     1000\n",
       "1  1000_1  1052.810059   2018-09-07     1000\n",
       "2  1000_2  1197.260010   2018-06-25     1000\n",
       "3  1000_3   550.270020   2018-08-22     1000\n",
       "4  1000_4   302.559998   2018-09-24     1000"
      ]
     },
     "execution_count": 238,
     "metadata": {},
     "output_type": "execute_result"
    }
   ],
   "source": [
    "data_internet = data_internet.drop(columns='Unnamed: 0') # удалим дублирующий столбец\n",
    "data_internet.head()"
   ]
  },
  {
   "cell_type": "markdown",
   "id": "d25a3e00",
   "metadata": {},
   "source": [
    "Проверим, сколько уникальных юзеров в таблицах с информацией об интернете, звонках, сообщениях:"
   ]
  },
  {
   "cell_type": "code",
   "execution_count": 239,
   "id": "48622f5b",
   "metadata": {},
   "outputs": [
    {
     "name": "stdout",
     "output_type": "stream",
     "text": [
      "500\n",
      "492\n",
      "497\n",
      "426\n"
     ]
    }
   ],
   "source": [
    "datas = [data_users, data_calls, data_internet, data_messages]\n",
    "for data in datas:\n",
    "    print(len(data['user_id'].unique()))"
   ]
  },
  {
   "cell_type": "markdown",
   "id": "4513e5b5",
   "metadata": {},
   "source": [
    "В таблицах с данными о действиях менее 500 пользователей. Причём, меньше всего о сообщениях. Получается, что не все пользователи из таблицы с данными о пользователях пользовались сообщениями, звонками, или интернетом. Вероятно, вообще не обо всех пользователях есть данные. Учтём это, при формировании сводных таблиц."
   ]
  },
  {
   "cell_type": "markdown",
   "id": "546512f7",
   "metadata": {},
   "source": [
    "#### Вывод\n",
    "\n",
    "Был обнаружен и удалён дублирующий столбец, а также тот факт, что не обо всех пользователях есть информация в таблицах с действиями."
   ]
  },
  {
   "cell_type": "markdown",
   "id": "3fc7276f",
   "metadata": {},
   "source": [
    "<a id=\"pivot\"></a>\n",
    "###  Формирование сводных таблиц"
   ]
  },
  {
   "cell_type": "markdown",
   "id": "a2dcc8f1",
   "metadata": {},
   "source": [
    "В этой главе мы:\n",
    "\n",
    "* сделаем сводную таблицу с количеством сделанных звонков и израсходованных минут разговора по месяцам;\n",
    "* сделаем сводную таблицу с количеством отправленных сообщений по месяцам;\n",
    "* сделаем сводную таблицу с объемом израсходованного интернет-трафика по месяцам;\n",
    "* объединим сводные таблицы в одну;\n",
    "* добавим в таблицу с расчитанной помесячной выручкой с каждого пользователя."
   ]
  },
  {
   "cell_type": "code",
   "execution_count": 240,
   "id": "655bbca6",
   "metadata": {},
   "outputs": [
    {
     "data": {
      "text/html": [
       "<div>\n",
       "<style scoped>\n",
       "    .dataframe tbody tr th:only-of-type {\n",
       "        vertical-align: middle;\n",
       "    }\n",
       "\n",
       "    .dataframe tbody tr th {\n",
       "        vertical-align: top;\n",
       "    }\n",
       "\n",
       "    .dataframe thead th {\n",
       "        text-align: right;\n",
       "    }\n",
       "</style>\n",
       "<table border=\"1\" class=\"dataframe\">\n",
       "  <thead>\n",
       "    <tr style=\"text-align: right;\">\n",
       "      <th></th>\n",
       "      <th>id</th>\n",
       "      <th>call_date</th>\n",
       "      <th>duration</th>\n",
       "      <th>user_id</th>\n",
       "    </tr>\n",
       "  </thead>\n",
       "  <tbody>\n",
       "    <tr>\n",
       "      <td>0</td>\n",
       "      <td>1000_0</td>\n",
       "      <td>2018-07-25</td>\n",
       "      <td>0.00</td>\n",
       "      <td>1000</td>\n",
       "    </tr>\n",
       "    <tr>\n",
       "      <td>1</td>\n",
       "      <td>1000_1</td>\n",
       "      <td>2018-08-17</td>\n",
       "      <td>0.00</td>\n",
       "      <td>1000</td>\n",
       "    </tr>\n",
       "    <tr>\n",
       "      <td>2</td>\n",
       "      <td>1000_2</td>\n",
       "      <td>2018-06-11</td>\n",
       "      <td>2.85</td>\n",
       "      <td>1000</td>\n",
       "    </tr>\n",
       "    <tr>\n",
       "      <td>3</td>\n",
       "      <td>1000_3</td>\n",
       "      <td>2018-09-21</td>\n",
       "      <td>13.80</td>\n",
       "      <td>1000</td>\n",
       "    </tr>\n",
       "    <tr>\n",
       "      <td>4</td>\n",
       "      <td>1000_4</td>\n",
       "      <td>2018-12-15</td>\n",
       "      <td>5.18</td>\n",
       "      <td>1000</td>\n",
       "    </tr>\n",
       "  </tbody>\n",
       "</table>\n",
       "</div>"
      ],
      "text/plain": [
       "       id  call_date  duration  user_id\n",
       "0  1000_0 2018-07-25      0.00     1000\n",
       "1  1000_1 2018-08-17      0.00     1000\n",
       "2  1000_2 2018-06-11      2.85     1000\n",
       "3  1000_3 2018-09-21     13.80     1000\n",
       "4  1000_4 2018-12-15      5.18     1000"
      ]
     },
     "execution_count": 240,
     "metadata": {},
     "output_type": "execute_result"
    }
   ],
   "source": [
    "data_calls.head()"
   ]
  },
  {
   "cell_type": "markdown",
   "id": "27c417d3",
   "metadata": {},
   "source": [
    "Добавим столбец с округленным вверх временем звонка, так как любой звонок округляется по условиям тарифа до минут вверх, в столбце с длительностью у нас звонок в минутах, поэтому:"
   ]
  },
  {
   "cell_type": "code",
   "execution_count": 241,
   "id": "e3aae185",
   "metadata": {},
   "outputs": [
    {
     "data": {
      "text/plain": [
       "0     0.0\n",
       "1     0.0\n",
       "2     3.0\n",
       "3    14.0\n",
       "4     6.0\n",
       "Name: duration_ceil, dtype: float32"
      ]
     },
     "execution_count": 241,
     "metadata": {},
     "output_type": "execute_result"
    }
   ],
   "source": [
    "data_calls['duration_ceil'] = np.ceil(data_calls['duration'])\n",
    "data_calls['duration_ceil'].head()"
   ]
  },
  {
   "cell_type": "markdown",
   "id": "7a222323",
   "metadata": {},
   "source": [
    "Добавим столбец с месяцем к таблицам с сообщениями, звонками и интернетом:"
   ]
  },
  {
   "cell_type": "code",
   "execution_count": 242,
   "id": "1dc19136",
   "metadata": {},
   "outputs": [],
   "source": [
    "# функция добавляет к таблице столбец с месяцем, также присваивает тип 'category' этому столбцу, затем меняет цифру месяца\n",
    "# на название соответствующего месяца\n",
    "def data_month(data):\n",
    "    for column in data.columns:\n",
    "        if 'date' in column:\n",
    "            data['month'] = data[column].dt.month\n",
    "        # сделаем тип категории, чтобы дальше можно было проще поменять цифры на названия\n",
    "            data['month'] = data['month'].astype('category') \n",
    "\n",
    "        # создадим словарь с ключами в виде старых значений и элементами в виде новых\n",
    "    month = {\n",
    "            1 : 'Январь',\n",
    "            2 : 'Февраль',\n",
    "            3 : 'Март',\n",
    "            4 : 'Апрель',\n",
    "            5 : 'Май',\n",
    "            6 : 'Июнь',\n",
    "            7 : 'Июль',\n",
    "            8 : 'Август',\n",
    "            9 : 'Сентябрь',\n",
    "            10 : 'Октябрь',\n",
    "            11 : 'Ноябрь',\n",
    "            12 : 'Декабрь'\n",
    "\n",
    "        }\n",
    "        # поменяем значения\n",
    "    data['month'] = data['month'].map(month)\n",
    "    return data\n"
   ]
  },
  {
   "cell_type": "code",
   "execution_count": 243,
   "id": "3d301060",
   "metadata": {},
   "outputs": [
    {
     "name": "stdout",
     "output_type": "stream",
     "text": [
      "0        Июль\n",
      "1      Август\n",
      "2        Июнь\n",
      "3    Сентябрь\n",
      "4     Декабрь\n",
      "Name: month, dtype: category\n",
      "Categories (12, object): [Январь, Февраль, Март, Апрель, ..., Сентябрь, Октябрь, Ноябрь, Декабрь]\n",
      "0       Июнь\n",
      "1    Октябрь\n",
      "2     Август\n",
      "3       Июнь\n",
      "4    Декабрь\n",
      "Name: month, dtype: category\n",
      "Categories (12, object): [Январь, Февраль, Март, Апрель, ..., Сентябрь, Октябрь, Ноябрь, Декабрь]\n",
      "0      Ноябрь\n",
      "1    Сентябрь\n",
      "2        Июнь\n",
      "3      Август\n",
      "4    Сентябрь\n",
      "Name: month, dtype: category\n",
      "Categories (12, object): [Январь, Февраль, Март, Апрель, ..., Сентябрь, Октябрь, Ноябрь, Декабрь]\n"
     ]
    }
   ],
   "source": [
    "# добавим с помощью функции столбец с месяцем к каждой таблице с данными\n",
    "datas_month = [data_calls, data_messages, data_internet]\n",
    "for data in datas_month:\n",
    "    data = data_month(data)\n",
    "    print(data['month'].head())"
   ]
  },
  {
   "cell_type": "markdown",
   "id": "de822988",
   "metadata": {},
   "source": [
    "Создадим сводную таблицу с звонками по месяцам, в ней в качестве индекса первого уровня будет `user_id` в качестве индекса второго уровня - `month`. Таким образом, группировка сначала пройдет по id, затем для каждого id по месяцам и будет проведен расчёт суммы длительностей по столбцу `calls_duration`, а также количество звонков, затем применим функцию `reset_index`, чтобы в дальнейшем можно было объединить эту таблицу с другими и переименуем столбцы:"
   ]
  },
  {
   "cell_type": "code",
   "execution_count": 244,
   "id": "309f98c6",
   "metadata": {},
   "outputs": [
    {
     "data": {
      "text/html": [
       "<div>\n",
       "<style scoped>\n",
       "    .dataframe tbody tr th:only-of-type {\n",
       "        vertical-align: middle;\n",
       "    }\n",
       "\n",
       "    .dataframe tbody tr th {\n",
       "        vertical-align: top;\n",
       "    }\n",
       "\n",
       "    .dataframe thead th {\n",
       "        text-align: right;\n",
       "    }\n",
       "</style>\n",
       "<table border=\"1\" class=\"dataframe\">\n",
       "  <thead>\n",
       "    <tr style=\"text-align: right;\">\n",
       "      <th></th>\n",
       "      <th>user_id</th>\n",
       "      <th>month</th>\n",
       "      <th>calls_amount</th>\n",
       "      <th>calls_duration</th>\n",
       "    </tr>\n",
       "  </thead>\n",
       "  <tbody>\n",
       "    <tr>\n",
       "      <td>0</td>\n",
       "      <td>1000</td>\n",
       "      <td>Август</td>\n",
       "      <td>52.0</td>\n",
       "      <td>408.0</td>\n",
       "    </tr>\n",
       "    <tr>\n",
       "      <td>1</td>\n",
       "      <td>1000</td>\n",
       "      <td>Декабрь</td>\n",
       "      <td>46.0</td>\n",
       "      <td>333.0</td>\n",
       "    </tr>\n",
       "    <tr>\n",
       "      <td>2</td>\n",
       "      <td>1000</td>\n",
       "      <td>Июль</td>\n",
       "      <td>47.0</td>\n",
       "      <td>340.0</td>\n",
       "    </tr>\n",
       "    <tr>\n",
       "      <td>3</td>\n",
       "      <td>1000</td>\n",
       "      <td>Июнь</td>\n",
       "      <td>43.0</td>\n",
       "      <td>172.0</td>\n",
       "    </tr>\n",
       "    <tr>\n",
       "      <td>4</td>\n",
       "      <td>1000</td>\n",
       "      <td>Май</td>\n",
       "      <td>22.0</td>\n",
       "      <td>159.0</td>\n",
       "    </tr>\n",
       "  </tbody>\n",
       "</table>\n",
       "</div>"
      ],
      "text/plain": [
       "   user_id    month  calls_amount  calls_duration\n",
       "0     1000   Август          52.0           408.0\n",
       "1     1000  Декабрь          46.0           333.0\n",
       "2     1000     Июль          47.0           340.0\n",
       "3     1000     Июнь          43.0           172.0\n",
       "4     1000      Май          22.0           159.0"
      ]
     },
     "execution_count": 244,
     "metadata": {},
     "output_type": "execute_result"
    }
   ],
   "source": [
    "# сводная таблица с звонками по месяцам\n",
    "calls_pivot = data_calls.pivot_table(index=['user_id', 'month'], values='duration_ceil', aggfunc={'count', 'sum'}).reset_index()\n",
    "calls_pivot = calls_pivot.rename(columns={'count' : 'calls_amount',\n",
    "                            'sum' : 'calls_duration'\n",
    "                           })\n",
    "calls_pivot.head()"
   ]
  },
  {
   "cell_type": "markdown",
   "id": "3081c70a",
   "metadata": {},
   "source": [
    "Аналогично сделаем таблицу с сообщениями:"
   ]
  },
  {
   "cell_type": "code",
   "execution_count": 245,
   "id": "6a209a4e",
   "metadata": {},
   "outputs": [
    {
     "data": {
      "text/html": [
       "<div>\n",
       "<style scoped>\n",
       "    .dataframe tbody tr th:only-of-type {\n",
       "        vertical-align: middle;\n",
       "    }\n",
       "\n",
       "    .dataframe tbody tr th {\n",
       "        vertical-align: top;\n",
       "    }\n",
       "\n",
       "    .dataframe thead th {\n",
       "        text-align: right;\n",
       "    }\n",
       "</style>\n",
       "<table border=\"1\" class=\"dataframe\">\n",
       "  <thead>\n",
       "    <tr style=\"text-align: right;\">\n",
       "      <th></th>\n",
       "      <th>user_id</th>\n",
       "      <th>month</th>\n",
       "      <th>messages</th>\n",
       "    </tr>\n",
       "  </thead>\n",
       "  <tbody>\n",
       "    <tr>\n",
       "      <td>0</td>\n",
       "      <td>1000</td>\n",
       "      <td>Май</td>\n",
       "      <td>22</td>\n",
       "    </tr>\n",
       "    <tr>\n",
       "      <td>1</td>\n",
       "      <td>1000</td>\n",
       "      <td>Июнь</td>\n",
       "      <td>60</td>\n",
       "    </tr>\n",
       "    <tr>\n",
       "      <td>2</td>\n",
       "      <td>1000</td>\n",
       "      <td>Июль</td>\n",
       "      <td>75</td>\n",
       "    </tr>\n",
       "    <tr>\n",
       "      <td>3</td>\n",
       "      <td>1000</td>\n",
       "      <td>Август</td>\n",
       "      <td>81</td>\n",
       "    </tr>\n",
       "    <tr>\n",
       "      <td>4</td>\n",
       "      <td>1000</td>\n",
       "      <td>Сентябрь</td>\n",
       "      <td>57</td>\n",
       "    </tr>\n",
       "  </tbody>\n",
       "</table>\n",
       "</div>"
      ],
      "text/plain": [
       "   user_id     month  messages\n",
       "0     1000       Май        22\n",
       "1     1000      Июнь        60\n",
       "2     1000      Июль        75\n",
       "3     1000    Август        81\n",
       "4     1000  Сентябрь        57"
      ]
     },
     "execution_count": 245,
     "metadata": {},
     "output_type": "execute_result"
    }
   ],
   "source": [
    "# сводная таблица с сообщениями по месяцам\n",
    "messages_pivot = data_messages.pivot_table(index=['user_id', 'month'], values='message_date', aggfunc={'count'}).reset_index()\n",
    "messages_pivot = messages_pivot.rename(columns={'count' : 'messages'})\n",
    "messages_pivot.head()"
   ]
  },
  {
   "cell_type": "markdown",
   "id": "05c9a638",
   "metadata": {},
   "source": [
    "Аналогично сделаем таблицу с интернетом, причём к сводной таблице добавим столбцец `ceil_gb_used`, в котором будут округленные до Гб данные из столбца `mb_used`:"
   ]
  },
  {
   "cell_type": "code",
   "execution_count": 246,
   "id": "c597a7b0",
   "metadata": {},
   "outputs": [
    {
     "data": {
      "text/html": [
       "<div>\n",
       "<style scoped>\n",
       "    .dataframe tbody tr th:only-of-type {\n",
       "        vertical-align: middle;\n",
       "    }\n",
       "\n",
       "    .dataframe tbody tr th {\n",
       "        vertical-align: top;\n",
       "    }\n",
       "\n",
       "    .dataframe thead th {\n",
       "        text-align: right;\n",
       "    }\n",
       "</style>\n",
       "<table border=\"1\" class=\"dataframe\">\n",
       "  <thead>\n",
       "    <tr style=\"text-align: right;\">\n",
       "      <th></th>\n",
       "      <th>user_id</th>\n",
       "      <th>month</th>\n",
       "      <th>mb_used</th>\n",
       "      <th>ceil_gb_used</th>\n",
       "    </tr>\n",
       "  </thead>\n",
       "  <tbody>\n",
       "    <tr>\n",
       "      <td>0</td>\n",
       "      <td>1000</td>\n",
       "      <td>Май</td>\n",
       "      <td>2253.489990</td>\n",
       "      <td>3.0</td>\n",
       "    </tr>\n",
       "    <tr>\n",
       "      <td>1</td>\n",
       "      <td>1000</td>\n",
       "      <td>Июнь</td>\n",
       "      <td>23233.769531</td>\n",
       "      <td>23.0</td>\n",
       "    </tr>\n",
       "    <tr>\n",
       "      <td>2</td>\n",
       "      <td>1000</td>\n",
       "      <td>Июль</td>\n",
       "      <td>14003.639648</td>\n",
       "      <td>14.0</td>\n",
       "    </tr>\n",
       "    <tr>\n",
       "      <td>3</td>\n",
       "      <td>1000</td>\n",
       "      <td>Август</td>\n",
       "      <td>14055.929688</td>\n",
       "      <td>14.0</td>\n",
       "    </tr>\n",
       "    <tr>\n",
       "      <td>4</td>\n",
       "      <td>1000</td>\n",
       "      <td>Сентябрь</td>\n",
       "      <td>14568.910156</td>\n",
       "      <td>15.0</td>\n",
       "    </tr>\n",
       "  </tbody>\n",
       "</table>\n",
       "</div>"
      ],
      "text/plain": [
       "   user_id     month       mb_used  ceil_gb_used\n",
       "0     1000       Май   2253.489990           3.0\n",
       "1     1000      Июнь  23233.769531          23.0\n",
       "2     1000      Июль  14003.639648          14.0\n",
       "3     1000    Август  14055.929688          14.0\n",
       "4     1000  Сентябрь  14568.910156          15.0"
      ]
     },
     "execution_count": 246,
     "metadata": {},
     "output_type": "execute_result"
    }
   ],
   "source": [
    "# сводная таблица с интернетом по месяцам\n",
    "internet_pivot = data_internet.pivot_table(index=['user_id', 'month'], values='mb_used', aggfunc={'sum'}).reset_index()\n",
    "\n",
    "internet_pivot['ceil_gb_used'] = np.ceil(internet_pivot['sum'] / 1024)\n",
    "internet_pivot = internet_pivot.rename(columns={'sum' : 'mb_used'})\n",
    "internet_pivot.head()"
   ]
  },
  {
   "cell_type": "markdown",
   "id": "a002fa5b",
   "metadata": {},
   "source": [
    "Создадим объединенный датафрейм с информацией о месячном количестве звонков, длительности, сообщениями, интернет трафиком. Для этого объедим таблицы функцей `merge`, при этом объединение будем проводить по столбцам `user_id` и `month`, чтобы не перемешать данные. Чтобы учесть не потерять данные о пользователях, которые допустим есть в таблице с интернетом, но их нет в таблице с сообщениями параметр `how=\"outer\"`. В таком случае, в данных о сообщениях будут просто пропуски. Такая же логика и для месяцев: "
   ]
  },
  {
   "cell_type": "code",
   "execution_count": 247,
   "id": "2e2a7fe1",
   "metadata": {},
   "outputs": [
    {
     "data": {
      "text/html": [
       "<div>\n",
       "<style scoped>\n",
       "    .dataframe tbody tr th:only-of-type {\n",
       "        vertical-align: middle;\n",
       "    }\n",
       "\n",
       "    .dataframe tbody tr th {\n",
       "        vertical-align: top;\n",
       "    }\n",
       "\n",
       "    .dataframe thead th {\n",
       "        text-align: right;\n",
       "    }\n",
       "</style>\n",
       "<table border=\"1\" class=\"dataframe\">\n",
       "  <thead>\n",
       "    <tr style=\"text-align: right;\">\n",
       "      <th></th>\n",
       "      <th>user_id</th>\n",
       "      <th>month</th>\n",
       "      <th>calls_amount</th>\n",
       "      <th>calls_duration</th>\n",
       "      <th>messages</th>\n",
       "      <th>mb_used</th>\n",
       "      <th>ceil_gb_used</th>\n",
       "    </tr>\n",
       "  </thead>\n",
       "  <tbody>\n",
       "    <tr>\n",
       "      <td>0</td>\n",
       "      <td>1000</td>\n",
       "      <td>Август</td>\n",
       "      <td>52.0</td>\n",
       "      <td>408.0</td>\n",
       "      <td>81.0</td>\n",
       "      <td>14055.929688</td>\n",
       "      <td>14.0</td>\n",
       "    </tr>\n",
       "    <tr>\n",
       "      <td>1</td>\n",
       "      <td>1000</td>\n",
       "      <td>Декабрь</td>\n",
       "      <td>46.0</td>\n",
       "      <td>333.0</td>\n",
       "      <td>70.0</td>\n",
       "      <td>9817.610352</td>\n",
       "      <td>10.0</td>\n",
       "    </tr>\n",
       "    <tr>\n",
       "      <td>2</td>\n",
       "      <td>1000</td>\n",
       "      <td>Июль</td>\n",
       "      <td>47.0</td>\n",
       "      <td>340.0</td>\n",
       "      <td>75.0</td>\n",
       "      <td>14003.639648</td>\n",
       "      <td>14.0</td>\n",
       "    </tr>\n",
       "    <tr>\n",
       "      <td>3</td>\n",
       "      <td>1000</td>\n",
       "      <td>Июнь</td>\n",
       "      <td>43.0</td>\n",
       "      <td>172.0</td>\n",
       "      <td>60.0</td>\n",
       "      <td>23233.769531</td>\n",
       "      <td>23.0</td>\n",
       "    </tr>\n",
       "    <tr>\n",
       "      <td>4</td>\n",
       "      <td>1000</td>\n",
       "      <td>Май</td>\n",
       "      <td>22.0</td>\n",
       "      <td>159.0</td>\n",
       "      <td>22.0</td>\n",
       "      <td>2253.489990</td>\n",
       "      <td>3.0</td>\n",
       "    </tr>\n",
       "    <tr>\n",
       "      <td>5</td>\n",
       "      <td>1000</td>\n",
       "      <td>Ноябрь</td>\n",
       "      <td>43.0</td>\n",
       "      <td>338.0</td>\n",
       "      <td>58.0</td>\n",
       "      <td>14756.469727</td>\n",
       "      <td>15.0</td>\n",
       "    </tr>\n",
       "    <tr>\n",
       "      <td>6</td>\n",
       "      <td>1000</td>\n",
       "      <td>Октябрь</td>\n",
       "      <td>57.0</td>\n",
       "      <td>350.0</td>\n",
       "      <td>73.0</td>\n",
       "      <td>14702.490234</td>\n",
       "      <td>15.0</td>\n",
       "    </tr>\n",
       "    <tr>\n",
       "      <td>7</td>\n",
       "      <td>1000</td>\n",
       "      <td>Сентябрь</td>\n",
       "      <td>58.0</td>\n",
       "      <td>466.0</td>\n",
       "      <td>57.0</td>\n",
       "      <td>14568.910156</td>\n",
       "      <td>15.0</td>\n",
       "    </tr>\n",
       "    <tr>\n",
       "      <td>8</td>\n",
       "      <td>1001</td>\n",
       "      <td>Декабрь</td>\n",
       "      <td>63.0</td>\n",
       "      <td>414.0</td>\n",
       "      <td>NaN</td>\n",
       "      <td>14036.660156</td>\n",
       "      <td>14.0</td>\n",
       "    </tr>\n",
       "    <tr>\n",
       "      <td>9</td>\n",
       "      <td>1001</td>\n",
       "      <td>Ноябрь</td>\n",
       "      <td>59.0</td>\n",
       "      <td>430.0</td>\n",
       "      <td>NaN</td>\n",
       "      <td>18429.339844</td>\n",
       "      <td>18.0</td>\n",
       "    </tr>\n",
       "    <tr>\n",
       "      <td>10</td>\n",
       "      <td>1002</td>\n",
       "      <td>Август</td>\n",
       "      <td>42.0</td>\n",
       "      <td>289.0</td>\n",
       "      <td>13.0</td>\n",
       "      <td>20319.259766</td>\n",
       "      <td>20.0</td>\n",
       "    </tr>\n",
       "    <tr>\n",
       "      <td>11</td>\n",
       "      <td>1002</td>\n",
       "      <td>Декабрь</td>\n",
       "      <td>33.0</td>\n",
       "      <td>236.0</td>\n",
       "      <td>12.0</td>\n",
       "      <td>18113.730469</td>\n",
       "      <td>18.0</td>\n",
       "    </tr>\n",
       "    <tr>\n",
       "      <td>12</td>\n",
       "      <td>1002</td>\n",
       "      <td>Июль</td>\n",
       "      <td>26.0</td>\n",
       "      <td>214.0</td>\n",
       "      <td>11.0</td>\n",
       "      <td>17580.099609</td>\n",
       "      <td>18.0</td>\n",
       "    </tr>\n",
       "    <tr>\n",
       "      <td>13</td>\n",
       "      <td>1002</td>\n",
       "      <td>Июнь</td>\n",
       "      <td>15.0</td>\n",
       "      <td>117.0</td>\n",
       "      <td>4.0</td>\n",
       "      <td>10856.820312</td>\n",
       "      <td>11.0</td>\n",
       "    </tr>\n",
       "    <tr>\n",
       "      <td>14</td>\n",
       "      <td>1002</td>\n",
       "      <td>Ноябрь</td>\n",
       "      <td>32.0</td>\n",
       "      <td>243.0</td>\n",
       "      <td>16.0</td>\n",
       "      <td>18587.279297</td>\n",
       "      <td>19.0</td>\n",
       "    </tr>\n",
       "    <tr>\n",
       "      <td>15</td>\n",
       "      <td>1002</td>\n",
       "      <td>Октябрь</td>\n",
       "      <td>33.0</td>\n",
       "      <td>212.0</td>\n",
       "      <td>10.0</td>\n",
       "      <td>13888.250000</td>\n",
       "      <td>14.0</td>\n",
       "    </tr>\n",
       "    <tr>\n",
       "      <td>16</td>\n",
       "      <td>1002</td>\n",
       "      <td>Сентябрь</td>\n",
       "      <td>36.0</td>\n",
       "      <td>206.0</td>\n",
       "      <td>4.0</td>\n",
       "      <td>16691.080078</td>\n",
       "      <td>17.0</td>\n",
       "    </tr>\n",
       "    <tr>\n",
       "      <td>17</td>\n",
       "      <td>1003</td>\n",
       "      <td>Август</td>\n",
       "      <td>55.0</td>\n",
       "      <td>380.0</td>\n",
       "      <td>37.0</td>\n",
       "      <td>8565.209961</td>\n",
       "      <td>9.0</td>\n",
       "    </tr>\n",
       "    <tr>\n",
       "      <td>18</td>\n",
       "      <td>1003</td>\n",
       "      <td>Декабрь</td>\n",
       "      <td>108.0</td>\n",
       "      <td>802.0</td>\n",
       "      <td>75.0</td>\n",
       "      <td>10121.530273</td>\n",
       "      <td>10.0</td>\n",
       "    </tr>\n",
       "    <tr>\n",
       "      <td>19</td>\n",
       "      <td>1003</td>\n",
       "      <td>Ноябрь</td>\n",
       "      <td>115.0</td>\n",
       "      <td>824.0</td>\n",
       "      <td>94.0</td>\n",
       "      <td>11356.889648</td>\n",
       "      <td>12.0</td>\n",
       "    </tr>\n",
       "  </tbody>\n",
       "</table>\n",
       "</div>"
      ],
      "text/plain": [
       "    user_id     month  calls_amount  calls_duration  messages       mb_used  \\\n",
       "0      1000    Август          52.0           408.0      81.0  14055.929688   \n",
       "1      1000   Декабрь          46.0           333.0      70.0   9817.610352   \n",
       "2      1000      Июль          47.0           340.0      75.0  14003.639648   \n",
       "3      1000      Июнь          43.0           172.0      60.0  23233.769531   \n",
       "4      1000       Май          22.0           159.0      22.0   2253.489990   \n",
       "5      1000    Ноябрь          43.0           338.0      58.0  14756.469727   \n",
       "6      1000   Октябрь          57.0           350.0      73.0  14702.490234   \n",
       "7      1000  Сентябрь          58.0           466.0      57.0  14568.910156   \n",
       "8      1001   Декабрь          63.0           414.0       NaN  14036.660156   \n",
       "9      1001    Ноябрь          59.0           430.0       NaN  18429.339844   \n",
       "10     1002    Август          42.0           289.0      13.0  20319.259766   \n",
       "11     1002   Декабрь          33.0           236.0      12.0  18113.730469   \n",
       "12     1002      Июль          26.0           214.0      11.0  17580.099609   \n",
       "13     1002      Июнь          15.0           117.0       4.0  10856.820312   \n",
       "14     1002    Ноябрь          32.0           243.0      16.0  18587.279297   \n",
       "15     1002   Октябрь          33.0           212.0      10.0  13888.250000   \n",
       "16     1002  Сентябрь          36.0           206.0       4.0  16691.080078   \n",
       "17     1003    Август          55.0           380.0      37.0   8565.209961   \n",
       "18     1003   Декабрь         108.0           802.0      75.0  10121.530273   \n",
       "19     1003    Ноябрь         115.0           824.0      94.0  11356.889648   \n",
       "\n",
       "    ceil_gb_used  \n",
       "0           14.0  \n",
       "1           10.0  \n",
       "2           14.0  \n",
       "3           23.0  \n",
       "4            3.0  \n",
       "5           15.0  \n",
       "6           15.0  \n",
       "7           15.0  \n",
       "8           14.0  \n",
       "9           18.0  \n",
       "10          20.0  \n",
       "11          18.0  \n",
       "12          18.0  \n",
       "13          11.0  \n",
       "14          19.0  \n",
       "15          14.0  \n",
       "16          17.0  \n",
       "17           9.0  \n",
       "18          10.0  \n",
       "19          12.0  "
      ]
     },
     "execution_count": 247,
     "metadata": {},
     "output_type": "execute_result"
    }
   ],
   "source": [
    "data_full = calls_pivot.merge(messages_pivot, on=['user_id', 'month'], how='outer').reset_index(drop=True)\n",
    "data_full = data_full.merge(internet_pivot, on=['user_id', 'month'], how='outer').reset_index(drop=True)\n",
    "data_full.head(20)"
   ]
  },
  {
   "cell_type": "markdown",
   "id": "c8fb290b",
   "metadata": {},
   "source": [
    "Добавим к получившейся таблице необходимые данные о каждом пользователе:"
   ]
  },
  {
   "cell_type": "code",
   "execution_count": 248,
   "id": "f8cb1114",
   "metadata": {},
   "outputs": [
    {
     "data": {
      "text/html": [
       "<div>\n",
       "<style scoped>\n",
       "    .dataframe tbody tr th:only-of-type {\n",
       "        vertical-align: middle;\n",
       "    }\n",
       "\n",
       "    .dataframe tbody tr th {\n",
       "        vertical-align: top;\n",
       "    }\n",
       "\n",
       "    .dataframe thead th {\n",
       "        text-align: right;\n",
       "    }\n",
       "</style>\n",
       "<table border=\"1\" class=\"dataframe\">\n",
       "  <thead>\n",
       "    <tr style=\"text-align: right;\">\n",
       "      <th></th>\n",
       "      <th>user_id</th>\n",
       "      <th>month</th>\n",
       "      <th>calls_amount</th>\n",
       "      <th>calls_duration</th>\n",
       "      <th>messages</th>\n",
       "      <th>mb_used</th>\n",
       "      <th>ceil_gb_used</th>\n",
       "      <th>tariff</th>\n",
       "      <th>city</th>\n",
       "    </tr>\n",
       "  </thead>\n",
       "  <tbody>\n",
       "    <tr>\n",
       "      <td>0</td>\n",
       "      <td>1000</td>\n",
       "      <td>Август</td>\n",
       "      <td>52.0</td>\n",
       "      <td>408.0</td>\n",
       "      <td>81.0</td>\n",
       "      <td>14055.929688</td>\n",
       "      <td>14.0</td>\n",
       "      <td>ultra</td>\n",
       "      <td>Краснодар</td>\n",
       "    </tr>\n",
       "    <tr>\n",
       "      <td>1</td>\n",
       "      <td>1000</td>\n",
       "      <td>Декабрь</td>\n",
       "      <td>46.0</td>\n",
       "      <td>333.0</td>\n",
       "      <td>70.0</td>\n",
       "      <td>9817.610352</td>\n",
       "      <td>10.0</td>\n",
       "      <td>ultra</td>\n",
       "      <td>Краснодар</td>\n",
       "    </tr>\n",
       "    <tr>\n",
       "      <td>2</td>\n",
       "      <td>1000</td>\n",
       "      <td>Июль</td>\n",
       "      <td>47.0</td>\n",
       "      <td>340.0</td>\n",
       "      <td>75.0</td>\n",
       "      <td>14003.639648</td>\n",
       "      <td>14.0</td>\n",
       "      <td>ultra</td>\n",
       "      <td>Краснодар</td>\n",
       "    </tr>\n",
       "    <tr>\n",
       "      <td>3</td>\n",
       "      <td>1000</td>\n",
       "      <td>Июнь</td>\n",
       "      <td>43.0</td>\n",
       "      <td>172.0</td>\n",
       "      <td>60.0</td>\n",
       "      <td>23233.769531</td>\n",
       "      <td>23.0</td>\n",
       "      <td>ultra</td>\n",
       "      <td>Краснодар</td>\n",
       "    </tr>\n",
       "    <tr>\n",
       "      <td>4</td>\n",
       "      <td>1000</td>\n",
       "      <td>Май</td>\n",
       "      <td>22.0</td>\n",
       "      <td>159.0</td>\n",
       "      <td>22.0</td>\n",
       "      <td>2253.489990</td>\n",
       "      <td>3.0</td>\n",
       "      <td>ultra</td>\n",
       "      <td>Краснодар</td>\n",
       "    </tr>\n",
       "    <tr>\n",
       "      <td>5</td>\n",
       "      <td>1000</td>\n",
       "      <td>Ноябрь</td>\n",
       "      <td>43.0</td>\n",
       "      <td>338.0</td>\n",
       "      <td>58.0</td>\n",
       "      <td>14756.469727</td>\n",
       "      <td>15.0</td>\n",
       "      <td>ultra</td>\n",
       "      <td>Краснодар</td>\n",
       "    </tr>\n",
       "    <tr>\n",
       "      <td>6</td>\n",
       "      <td>1000</td>\n",
       "      <td>Октябрь</td>\n",
       "      <td>57.0</td>\n",
       "      <td>350.0</td>\n",
       "      <td>73.0</td>\n",
       "      <td>14702.490234</td>\n",
       "      <td>15.0</td>\n",
       "      <td>ultra</td>\n",
       "      <td>Краснодар</td>\n",
       "    </tr>\n",
       "    <tr>\n",
       "      <td>7</td>\n",
       "      <td>1000</td>\n",
       "      <td>Сентябрь</td>\n",
       "      <td>58.0</td>\n",
       "      <td>466.0</td>\n",
       "      <td>57.0</td>\n",
       "      <td>14568.910156</td>\n",
       "      <td>15.0</td>\n",
       "      <td>ultra</td>\n",
       "      <td>Краснодар</td>\n",
       "    </tr>\n",
       "    <tr>\n",
       "      <td>8</td>\n",
       "      <td>1001</td>\n",
       "      <td>Декабрь</td>\n",
       "      <td>63.0</td>\n",
       "      <td>414.0</td>\n",
       "      <td>NaN</td>\n",
       "      <td>14036.660156</td>\n",
       "      <td>14.0</td>\n",
       "      <td>smart</td>\n",
       "      <td>Москва</td>\n",
       "    </tr>\n",
       "    <tr>\n",
       "      <td>9</td>\n",
       "      <td>1001</td>\n",
       "      <td>Ноябрь</td>\n",
       "      <td>59.0</td>\n",
       "      <td>430.0</td>\n",
       "      <td>NaN</td>\n",
       "      <td>18429.339844</td>\n",
       "      <td>18.0</td>\n",
       "      <td>smart</td>\n",
       "      <td>Москва</td>\n",
       "    </tr>\n",
       "    <tr>\n",
       "      <td>10</td>\n",
       "      <td>1002</td>\n",
       "      <td>Август</td>\n",
       "      <td>42.0</td>\n",
       "      <td>289.0</td>\n",
       "      <td>13.0</td>\n",
       "      <td>20319.259766</td>\n",
       "      <td>20.0</td>\n",
       "      <td>smart</td>\n",
       "      <td>Стерлитамак</td>\n",
       "    </tr>\n",
       "    <tr>\n",
       "      <td>11</td>\n",
       "      <td>1002</td>\n",
       "      <td>Декабрь</td>\n",
       "      <td>33.0</td>\n",
       "      <td>236.0</td>\n",
       "      <td>12.0</td>\n",
       "      <td>18113.730469</td>\n",
       "      <td>18.0</td>\n",
       "      <td>smart</td>\n",
       "      <td>Стерлитамак</td>\n",
       "    </tr>\n",
       "    <tr>\n",
       "      <td>12</td>\n",
       "      <td>1002</td>\n",
       "      <td>Июль</td>\n",
       "      <td>26.0</td>\n",
       "      <td>214.0</td>\n",
       "      <td>11.0</td>\n",
       "      <td>17580.099609</td>\n",
       "      <td>18.0</td>\n",
       "      <td>smart</td>\n",
       "      <td>Стерлитамак</td>\n",
       "    </tr>\n",
       "    <tr>\n",
       "      <td>13</td>\n",
       "      <td>1002</td>\n",
       "      <td>Июнь</td>\n",
       "      <td>15.0</td>\n",
       "      <td>117.0</td>\n",
       "      <td>4.0</td>\n",
       "      <td>10856.820312</td>\n",
       "      <td>11.0</td>\n",
       "      <td>smart</td>\n",
       "      <td>Стерлитамак</td>\n",
       "    </tr>\n",
       "    <tr>\n",
       "      <td>14</td>\n",
       "      <td>1002</td>\n",
       "      <td>Ноябрь</td>\n",
       "      <td>32.0</td>\n",
       "      <td>243.0</td>\n",
       "      <td>16.0</td>\n",
       "      <td>18587.279297</td>\n",
       "      <td>19.0</td>\n",
       "      <td>smart</td>\n",
       "      <td>Стерлитамак</td>\n",
       "    </tr>\n",
       "    <tr>\n",
       "      <td>15</td>\n",
       "      <td>1002</td>\n",
       "      <td>Октябрь</td>\n",
       "      <td>33.0</td>\n",
       "      <td>212.0</td>\n",
       "      <td>10.0</td>\n",
       "      <td>13888.250000</td>\n",
       "      <td>14.0</td>\n",
       "      <td>smart</td>\n",
       "      <td>Стерлитамак</td>\n",
       "    </tr>\n",
       "    <tr>\n",
       "      <td>16</td>\n",
       "      <td>1002</td>\n",
       "      <td>Сентябрь</td>\n",
       "      <td>36.0</td>\n",
       "      <td>206.0</td>\n",
       "      <td>4.0</td>\n",
       "      <td>16691.080078</td>\n",
       "      <td>17.0</td>\n",
       "      <td>smart</td>\n",
       "      <td>Стерлитамак</td>\n",
       "    </tr>\n",
       "    <tr>\n",
       "      <td>17</td>\n",
       "      <td>1003</td>\n",
       "      <td>Август</td>\n",
       "      <td>55.0</td>\n",
       "      <td>380.0</td>\n",
       "      <td>37.0</td>\n",
       "      <td>8565.209961</td>\n",
       "      <td>9.0</td>\n",
       "      <td>ultra</td>\n",
       "      <td>Москва</td>\n",
       "    </tr>\n",
       "    <tr>\n",
       "      <td>18</td>\n",
       "      <td>1003</td>\n",
       "      <td>Декабрь</td>\n",
       "      <td>108.0</td>\n",
       "      <td>802.0</td>\n",
       "      <td>75.0</td>\n",
       "      <td>10121.530273</td>\n",
       "      <td>10.0</td>\n",
       "      <td>ultra</td>\n",
       "      <td>Москва</td>\n",
       "    </tr>\n",
       "    <tr>\n",
       "      <td>19</td>\n",
       "      <td>1003</td>\n",
       "      <td>Ноябрь</td>\n",
       "      <td>115.0</td>\n",
       "      <td>824.0</td>\n",
       "      <td>94.0</td>\n",
       "      <td>11356.889648</td>\n",
       "      <td>12.0</td>\n",
       "      <td>ultra</td>\n",
       "      <td>Москва</td>\n",
       "    </tr>\n",
       "  </tbody>\n",
       "</table>\n",
       "</div>"
      ],
      "text/plain": [
       "    user_id     month  calls_amount  calls_duration  messages       mb_used  \\\n",
       "0      1000    Август          52.0           408.0      81.0  14055.929688   \n",
       "1      1000   Декабрь          46.0           333.0      70.0   9817.610352   \n",
       "2      1000      Июль          47.0           340.0      75.0  14003.639648   \n",
       "3      1000      Июнь          43.0           172.0      60.0  23233.769531   \n",
       "4      1000       Май          22.0           159.0      22.0   2253.489990   \n",
       "5      1000    Ноябрь          43.0           338.0      58.0  14756.469727   \n",
       "6      1000   Октябрь          57.0           350.0      73.0  14702.490234   \n",
       "7      1000  Сентябрь          58.0           466.0      57.0  14568.910156   \n",
       "8      1001   Декабрь          63.0           414.0       NaN  14036.660156   \n",
       "9      1001    Ноябрь          59.0           430.0       NaN  18429.339844   \n",
       "10     1002    Август          42.0           289.0      13.0  20319.259766   \n",
       "11     1002   Декабрь          33.0           236.0      12.0  18113.730469   \n",
       "12     1002      Июль          26.0           214.0      11.0  17580.099609   \n",
       "13     1002      Июнь          15.0           117.0       4.0  10856.820312   \n",
       "14     1002    Ноябрь          32.0           243.0      16.0  18587.279297   \n",
       "15     1002   Октябрь          33.0           212.0      10.0  13888.250000   \n",
       "16     1002  Сентябрь          36.0           206.0       4.0  16691.080078   \n",
       "17     1003    Август          55.0           380.0      37.0   8565.209961   \n",
       "18     1003   Декабрь         108.0           802.0      75.0  10121.530273   \n",
       "19     1003    Ноябрь         115.0           824.0      94.0  11356.889648   \n",
       "\n",
       "    ceil_gb_used tariff         city  \n",
       "0           14.0  ultra    Краснодар  \n",
       "1           10.0  ultra    Краснодар  \n",
       "2           14.0  ultra    Краснодар  \n",
       "3           23.0  ultra    Краснодар  \n",
       "4            3.0  ultra    Краснодар  \n",
       "5           15.0  ultra    Краснодар  \n",
       "6           15.0  ultra    Краснодар  \n",
       "7           15.0  ultra    Краснодар  \n",
       "8           14.0  smart       Москва  \n",
       "9           18.0  smart       Москва  \n",
       "10          20.0  smart  Стерлитамак  \n",
       "11          18.0  smart  Стерлитамак  \n",
       "12          18.0  smart  Стерлитамак  \n",
       "13          11.0  smart  Стерлитамак  \n",
       "14          19.0  smart  Стерлитамак  \n",
       "15          14.0  smart  Стерлитамак  \n",
       "16          17.0  smart  Стерлитамак  \n",
       "17           9.0  ultra       Москва  \n",
       "18          10.0  ultra       Москва  \n",
       "19          12.0  ultra       Москва  "
      ]
     },
     "metadata": {},
     "output_type": "display_data"
    }
   ],
   "source": [
    "# объединим с данными по user, возьмём только интересующий столбы : tariff,  city, user_id\n",
    "columns_to_merge = ['user_id', 'tariff', 'city']\n",
    "\n",
    "data_full = data_full.merge(data_users[columns_to_merge], how='outer').reset_index(drop=True)\n",
    "display(data_full.head(20))"
   ]
  },
  {
   "cell_type": "markdown",
   "id": "06e0a836",
   "metadata": {},
   "source": [
    "Проверим на наличие пропусков:"
   ]
  },
  {
   "cell_type": "code",
   "execution_count": 249,
   "id": "722ddfb8",
   "metadata": {},
   "outputs": [
    {
     "data": {
      "text/plain": [
       "user_id             0\n",
       "month               2\n",
       "calls_amount       42\n",
       "calls_duration     42\n",
       "messages          499\n",
       "mb_used            13\n",
       "ceil_gb_used       13\n",
       "tariff              0\n",
       "city                0\n",
       "dtype: int64"
      ]
     },
     "execution_count": 249,
     "metadata": {},
     "output_type": "execute_result"
    }
   ],
   "source": [
    "data_full.isna().sum()"
   ]
  },
  {
   "cell_type": "code",
   "execution_count": 250,
   "id": "17701770",
   "metadata": {},
   "outputs": [
    {
     "data": {
      "text/html": [
       "<div>\n",
       "<style scoped>\n",
       "    .dataframe tbody tr th:only-of-type {\n",
       "        vertical-align: middle;\n",
       "    }\n",
       "\n",
       "    .dataframe tbody tr th {\n",
       "        vertical-align: top;\n",
       "    }\n",
       "\n",
       "    .dataframe thead th {\n",
       "        text-align: right;\n",
       "    }\n",
       "</style>\n",
       "<table border=\"1\" class=\"dataframe\">\n",
       "  <thead>\n",
       "    <tr style=\"text-align: right;\">\n",
       "      <th></th>\n",
       "      <th>user_id</th>\n",
       "      <th>month</th>\n",
       "      <th>calls_amount</th>\n",
       "      <th>calls_duration</th>\n",
       "      <th>messages</th>\n",
       "      <th>mb_used</th>\n",
       "      <th>ceil_gb_used</th>\n",
       "      <th>tariff</th>\n",
       "      <th>city</th>\n",
       "    </tr>\n",
       "  </thead>\n",
       "  <tbody>\n",
       "    <tr>\n",
       "      <td>3214</td>\n",
       "      <td>1128</td>\n",
       "      <td>NaN</td>\n",
       "      <td>NaN</td>\n",
       "      <td>NaN</td>\n",
       "      <td>NaN</td>\n",
       "      <td>NaN</td>\n",
       "      <td>NaN</td>\n",
       "      <td>ultra</td>\n",
       "      <td>Волжский</td>\n",
       "    </tr>\n",
       "    <tr>\n",
       "      <td>3215</td>\n",
       "      <td>1371</td>\n",
       "      <td>NaN</td>\n",
       "      <td>NaN</td>\n",
       "      <td>NaN</td>\n",
       "      <td>NaN</td>\n",
       "      <td>NaN</td>\n",
       "      <td>NaN</td>\n",
       "      <td>smart</td>\n",
       "      <td>Омск</td>\n",
       "    </tr>\n",
       "  </tbody>\n",
       "</table>\n",
       "</div>"
      ],
      "text/plain": [
       "      user_id month  calls_amount  calls_duration  messages  mb_used  \\\n",
       "3214     1128   NaN           NaN             NaN       NaN      NaN   \n",
       "3215     1371   NaN           NaN             NaN       NaN      NaN   \n",
       "\n",
       "      ceil_gb_used tariff      city  \n",
       "3214           NaN  ultra  Волжский  \n",
       "3215           NaN  smart      Омск  "
      ]
     },
     "execution_count": 250,
     "metadata": {},
     "output_type": "execute_result"
    }
   ],
   "source": [
    "data_full[data_full['month'].isna()]"
   ]
  },
  {
   "cell_type": "markdown",
   "id": "7b5add10",
   "metadata": {},
   "source": [
    "Строки с пропусками в сообщениях, звонках или интернете означают, что этот юзер в этот месяц не совершал звонков и не отправлял сообщения либо не пользовался интернетом, что абсолютно нормально.\n",
    "Строки, в которых есть пропуски по месяцам означают, что не было совершено никакой активности, мы не знаем сколько времени человек зарегистрирован, логично будет удалить эти строки:"
   ]
  },
  {
   "cell_type": "code",
   "execution_count": 251,
   "id": "4717bc1e",
   "metadata": {},
   "outputs": [],
   "source": [
    "data_full.drop(index=[3214, 3215], axis=0, inplace=True)"
   ]
  },
  {
   "cell_type": "code",
   "execution_count": 252,
   "id": "680ae512",
   "metadata": {},
   "outputs": [
    {
     "data": {
      "text/html": [
       "<div>\n",
       "<style scoped>\n",
       "    .dataframe tbody tr th:only-of-type {\n",
       "        vertical-align: middle;\n",
       "    }\n",
       "\n",
       "    .dataframe tbody tr th {\n",
       "        vertical-align: top;\n",
       "    }\n",
       "\n",
       "    .dataframe thead th {\n",
       "        text-align: right;\n",
       "    }\n",
       "</style>\n",
       "<table border=\"1\" class=\"dataframe\">\n",
       "  <thead>\n",
       "    <tr style=\"text-align: right;\">\n",
       "      <th></th>\n",
       "      <th>user_id</th>\n",
       "      <th>month</th>\n",
       "      <th>calls_amount</th>\n",
       "      <th>calls_duration</th>\n",
       "      <th>messages</th>\n",
       "      <th>mb_used</th>\n",
       "      <th>ceil_gb_used</th>\n",
       "      <th>tariff</th>\n",
       "      <th>city</th>\n",
       "    </tr>\n",
       "  </thead>\n",
       "  <tbody>\n",
       "  </tbody>\n",
       "</table>\n",
       "</div>"
      ],
      "text/plain": [
       "Empty DataFrame\n",
       "Columns: [user_id, month, calls_amount, calls_duration, messages, mb_used, ceil_gb_used, tariff, city]\n",
       "Index: []"
      ]
     },
     "execution_count": 252,
     "metadata": {},
     "output_type": "execute_result"
    }
   ],
   "source": [
    "data_full[data_full['month'].isna()]"
   ]
  },
  {
   "cell_type": "code",
   "execution_count": 253,
   "id": "f69d5aed",
   "metadata": {},
   "outputs": [
    {
     "data": {
      "text/plain": [
       "user_id             0\n",
       "month               0\n",
       "calls_amount       40\n",
       "calls_duration     40\n",
       "messages          497\n",
       "mb_used            11\n",
       "ceil_gb_used       11\n",
       "tariff              0\n",
       "city                0\n",
       "dtype: int64"
      ]
     },
     "execution_count": 253,
     "metadata": {},
     "output_type": "execute_result"
    }
   ],
   "source": [
    "data_full.isna().sum()"
   ]
  },
  {
   "cell_type": "code",
   "execution_count": 254,
   "id": "71cbc64b",
   "metadata": {},
   "outputs": [
    {
     "name": "stdout",
     "output_type": "stream",
     "text": [
      "<class 'pandas.core.frame.DataFrame'>\n",
      "Int64Index: 3214 entries, 0 to 3213\n",
      "Data columns (total 9 columns):\n",
      "user_id           3214 non-null int64\n",
      "month             3214 non-null object\n",
      "calls_amount      3174 non-null float64\n",
      "calls_duration    3174 non-null float32\n",
      "messages          2717 non-null float64\n",
      "mb_used           3203 non-null float32\n",
      "ceil_gb_used      3203 non-null float32\n",
      "tariff            3214 non-null object\n",
      "city              3214 non-null object\n",
      "dtypes: float32(3), float64(2), int64(1), object(3)\n",
      "memory usage: 213.4+ KB\n"
     ]
    }
   ],
   "source": [
    "data_full.info()"
   ]
  },
  {
   "cell_type": "code",
   "execution_count": 255,
   "id": "9d105e85",
   "metadata": {},
   "outputs": [
    {
     "name": "stdout",
     "output_type": "stream",
     "text": [
      "<class 'pandas.core.frame.DataFrame'>\n",
      "Int64Index: 3214 entries, 0 to 3213\n",
      "Data columns (total 9 columns):\n",
      "user_id           3214 non-null int16\n",
      "month             3214 non-null category\n",
      "calls_amount      3214 non-null int16\n",
      "calls_duration    3174 non-null float32\n",
      "messages          3214 non-null int16\n",
      "mb_used           3203 non-null float32\n",
      "ceil_gb_used      3214 non-null int8\n",
      "tariff            3214 non-null category\n",
      "city              3214 non-null object\n",
      "dtypes: category(2), float32(2), int16(3), int8(1), object(1)\n",
      "memory usage: 104.1+ KB\n"
     ]
    }
   ],
   "source": [
    "columns = ['calls_amount', 'messages', 'ceil_gb_used', 'user_id']\n",
    "\n",
    "for column in columns:\n",
    "    data_full[column] = data_full[column].fillna(value=0)\n",
    "    data_full[column] = data_full[column].astype('int')\n",
    "    data_full[column] = pd.to_numeric(data_full[column], downcast='integer')\n",
    "\n",
    "data_full['tariff'] = data_full['tariff'].astype('category')\n",
    "data_full['month'] = data_full['month'].astype('category') \n",
    "data_full.info()    "
   ]
  },
  {
   "cell_type": "markdown",
   "id": "46c9eb29",
   "metadata": {},
   "source": [
    "***Посчитаем помесячную выручку***"
   ]
  },
  {
   "cell_type": "markdown",
   "id": "d243935f",
   "metadata": {},
   "source": [
    "Добавим к таблице информацию из таблицы с тарифами:"
   ]
  },
  {
   "cell_type": "code",
   "execution_count": 256,
   "id": "633b71d1",
   "metadata": {},
   "outputs": [
    {
     "data": {
      "text/html": [
       "<div>\n",
       "<style scoped>\n",
       "    .dataframe tbody tr th:only-of-type {\n",
       "        vertical-align: middle;\n",
       "    }\n",
       "\n",
       "    .dataframe tbody tr th {\n",
       "        vertical-align: top;\n",
       "    }\n",
       "\n",
       "    .dataframe thead th {\n",
       "        text-align: right;\n",
       "    }\n",
       "</style>\n",
       "<table border=\"1\" class=\"dataframe\">\n",
       "  <thead>\n",
       "    <tr style=\"text-align: right;\">\n",
       "      <th></th>\n",
       "      <th>user_id</th>\n",
       "      <th>month</th>\n",
       "      <th>calls_amount</th>\n",
       "      <th>calls_duration</th>\n",
       "      <th>messages</th>\n",
       "      <th>mb_used</th>\n",
       "      <th>ceil_gb_used</th>\n",
       "      <th>tariff</th>\n",
       "      <th>city</th>\n",
       "      <th>messages_included</th>\n",
       "      <th>mb_per_month_included</th>\n",
       "      <th>minutes_included</th>\n",
       "      <th>rub_monthly_fee</th>\n",
       "      <th>rub_per_gb</th>\n",
       "      <th>rub_per_message</th>\n",
       "      <th>rub_per_minute</th>\n",
       "    </tr>\n",
       "  </thead>\n",
       "  <tbody>\n",
       "    <tr>\n",
       "      <td>0</td>\n",
       "      <td>1000</td>\n",
       "      <td>Август</td>\n",
       "      <td>52</td>\n",
       "      <td>408.0</td>\n",
       "      <td>81</td>\n",
       "      <td>14055.929688</td>\n",
       "      <td>14</td>\n",
       "      <td>ultra</td>\n",
       "      <td>Краснодар</td>\n",
       "      <td>1000</td>\n",
       "      <td>30720</td>\n",
       "      <td>3000</td>\n",
       "      <td>1950</td>\n",
       "      <td>150</td>\n",
       "      <td>1</td>\n",
       "      <td>1</td>\n",
       "    </tr>\n",
       "    <tr>\n",
       "      <td>1</td>\n",
       "      <td>1000</td>\n",
       "      <td>Декабрь</td>\n",
       "      <td>46</td>\n",
       "      <td>333.0</td>\n",
       "      <td>70</td>\n",
       "      <td>9817.610352</td>\n",
       "      <td>10</td>\n",
       "      <td>ultra</td>\n",
       "      <td>Краснодар</td>\n",
       "      <td>1000</td>\n",
       "      <td>30720</td>\n",
       "      <td>3000</td>\n",
       "      <td>1950</td>\n",
       "      <td>150</td>\n",
       "      <td>1</td>\n",
       "      <td>1</td>\n",
       "    </tr>\n",
       "    <tr>\n",
       "      <td>2</td>\n",
       "      <td>1000</td>\n",
       "      <td>Июль</td>\n",
       "      <td>47</td>\n",
       "      <td>340.0</td>\n",
       "      <td>75</td>\n",
       "      <td>14003.639648</td>\n",
       "      <td>14</td>\n",
       "      <td>ultra</td>\n",
       "      <td>Краснодар</td>\n",
       "      <td>1000</td>\n",
       "      <td>30720</td>\n",
       "      <td>3000</td>\n",
       "      <td>1950</td>\n",
       "      <td>150</td>\n",
       "      <td>1</td>\n",
       "      <td>1</td>\n",
       "    </tr>\n",
       "    <tr>\n",
       "      <td>3</td>\n",
       "      <td>1000</td>\n",
       "      <td>Июнь</td>\n",
       "      <td>43</td>\n",
       "      <td>172.0</td>\n",
       "      <td>60</td>\n",
       "      <td>23233.769531</td>\n",
       "      <td>23</td>\n",
       "      <td>ultra</td>\n",
       "      <td>Краснодар</td>\n",
       "      <td>1000</td>\n",
       "      <td>30720</td>\n",
       "      <td>3000</td>\n",
       "      <td>1950</td>\n",
       "      <td>150</td>\n",
       "      <td>1</td>\n",
       "      <td>1</td>\n",
       "    </tr>\n",
       "    <tr>\n",
       "      <td>4</td>\n",
       "      <td>1000</td>\n",
       "      <td>Май</td>\n",
       "      <td>22</td>\n",
       "      <td>159.0</td>\n",
       "      <td>22</td>\n",
       "      <td>2253.489990</td>\n",
       "      <td>3</td>\n",
       "      <td>ultra</td>\n",
       "      <td>Краснодар</td>\n",
       "      <td>1000</td>\n",
       "      <td>30720</td>\n",
       "      <td>3000</td>\n",
       "      <td>1950</td>\n",
       "      <td>150</td>\n",
       "      <td>1</td>\n",
       "      <td>1</td>\n",
       "    </tr>\n",
       "  </tbody>\n",
       "</table>\n",
       "</div>"
      ],
      "text/plain": [
       "   user_id    month  calls_amount  calls_duration  messages       mb_used  \\\n",
       "0     1000   Август            52           408.0        81  14055.929688   \n",
       "1     1000  Декабрь            46           333.0        70   9817.610352   \n",
       "2     1000     Июль            47           340.0        75  14003.639648   \n",
       "3     1000     Июнь            43           172.0        60  23233.769531   \n",
       "4     1000      Май            22           159.0        22   2253.489990   \n",
       "\n",
       "   ceil_gb_used tariff       city  messages_included  mb_per_month_included  \\\n",
       "0            14  ultra  Краснодар               1000                  30720   \n",
       "1            10  ultra  Краснодар               1000                  30720   \n",
       "2            14  ultra  Краснодар               1000                  30720   \n",
       "3            23  ultra  Краснодар               1000                  30720   \n",
       "4             3  ultra  Краснодар               1000                  30720   \n",
       "\n",
       "   minutes_included  rub_monthly_fee  rub_per_gb  rub_per_message  \\\n",
       "0              3000             1950         150                1   \n",
       "1              3000             1950         150                1   \n",
       "2              3000             1950         150                1   \n",
       "3              3000             1950         150                1   \n",
       "4              3000             1950         150                1   \n",
       "\n",
       "   rub_per_minute  \n",
       "0               1  \n",
       "1               1  \n",
       "2               1  \n",
       "3               1  \n",
       "4               1  "
      ]
     },
     "execution_count": 256,
     "metadata": {},
     "output_type": "execute_result"
    }
   ],
   "source": [
    "data_tariffs = data_tariffs.rename(columns={'tariff_name' : 'tariff'})\n",
    "data_full = data_full.merge(data_tariffs, on='tariff')\n",
    "data_full.head()"
   ]
  },
  {
   "cell_type": "markdown",
   "id": "b67dd71f",
   "metadata": {},
   "source": [
    "Посчитаем помесячную выручку с каждого пользователя:"
   ]
  },
  {
   "cell_type": "code",
   "execution_count": 257,
   "id": "875842a1",
   "metadata": {},
   "outputs": [],
   "source": [
    "# Функция возвращает результат расчёта помесячной выручки для пользователя, если пользователь не растратил свой лимит, то \n",
    "# то выручка по соответствующему параметру равна 0, если потратил сверх лимита, то выручка рассчитывается исходя из тарифа\n",
    "# так как данные по лимиту интернета в мегабайтах, необходимо перести данные в таблице с потраченным гб в мегабайты\n",
    "def revenue(data):\n",
    "    calls_revenue = 0\n",
    "    messages_revenue = 0\n",
    "    internet_revenue = 0\n",
    "    if data['calls_amount'] > data['minutes_included']:\n",
    "        calls_revenue = (data['calls_amount'] - data['minutes_included']) * data['rub_per_minute']\n",
    "    if data['messages'] > data['messages_included']:\n",
    "        messages_revenue = (data['messages'] - data['messages_included']) * data['rub_per_message']\n",
    "    if data['ceil_gb_used'] * 1024 > data['mb_per_month_included']:\n",
    "        internet_revenue = (math.ceil((data['ceil_gb_used'] * 1024\n",
    "                                       - data['mb_per_month_included']) / 1024)\n",
    "                                        * data['rub_per_gb'])\n",
    "    return calls_revenue + messages_revenue + internet_revenue + data['rub_monthly_fee']\n",
    "\n"
   ]
  },
  {
   "cell_type": "code",
   "execution_count": 258,
   "id": "52e7ba4f",
   "metadata": {},
   "outputs": [
    {
     "data": {
      "text/html": [
       "<div>\n",
       "<style scoped>\n",
       "    .dataframe tbody tr th:only-of-type {\n",
       "        vertical-align: middle;\n",
       "    }\n",
       "\n",
       "    .dataframe tbody tr th {\n",
       "        vertical-align: top;\n",
       "    }\n",
       "\n",
       "    .dataframe thead th {\n",
       "        text-align: right;\n",
       "    }\n",
       "</style>\n",
       "<table border=\"1\" class=\"dataframe\">\n",
       "  <thead>\n",
       "    <tr style=\"text-align: right;\">\n",
       "      <th></th>\n",
       "      <th>user_id</th>\n",
       "      <th>month</th>\n",
       "      <th>calls_amount</th>\n",
       "      <th>calls_duration</th>\n",
       "      <th>messages</th>\n",
       "      <th>mb_used</th>\n",
       "      <th>ceil_gb_used</th>\n",
       "      <th>tariff</th>\n",
       "      <th>city</th>\n",
       "      <th>messages_included</th>\n",
       "      <th>mb_per_month_included</th>\n",
       "      <th>minutes_included</th>\n",
       "      <th>rub_monthly_fee</th>\n",
       "      <th>rub_per_gb</th>\n",
       "      <th>rub_per_message</th>\n",
       "      <th>rub_per_minute</th>\n",
       "      <th>total_revenue</th>\n",
       "    </tr>\n",
       "  </thead>\n",
       "  <tbody>\n",
       "    <tr>\n",
       "      <td>0</td>\n",
       "      <td>1000</td>\n",
       "      <td>Август</td>\n",
       "      <td>52</td>\n",
       "      <td>408.0</td>\n",
       "      <td>81</td>\n",
       "      <td>14055.929688</td>\n",
       "      <td>14</td>\n",
       "      <td>ultra</td>\n",
       "      <td>Краснодар</td>\n",
       "      <td>1000</td>\n",
       "      <td>30720</td>\n",
       "      <td>3000</td>\n",
       "      <td>1950</td>\n",
       "      <td>150</td>\n",
       "      <td>1</td>\n",
       "      <td>1</td>\n",
       "      <td>1950</td>\n",
       "    </tr>\n",
       "    <tr>\n",
       "      <td>1</td>\n",
       "      <td>1000</td>\n",
       "      <td>Декабрь</td>\n",
       "      <td>46</td>\n",
       "      <td>333.0</td>\n",
       "      <td>70</td>\n",
       "      <td>9817.610352</td>\n",
       "      <td>10</td>\n",
       "      <td>ultra</td>\n",
       "      <td>Краснодар</td>\n",
       "      <td>1000</td>\n",
       "      <td>30720</td>\n",
       "      <td>3000</td>\n",
       "      <td>1950</td>\n",
       "      <td>150</td>\n",
       "      <td>1</td>\n",
       "      <td>1</td>\n",
       "      <td>1950</td>\n",
       "    </tr>\n",
       "    <tr>\n",
       "      <td>2</td>\n",
       "      <td>1000</td>\n",
       "      <td>Июль</td>\n",
       "      <td>47</td>\n",
       "      <td>340.0</td>\n",
       "      <td>75</td>\n",
       "      <td>14003.639648</td>\n",
       "      <td>14</td>\n",
       "      <td>ultra</td>\n",
       "      <td>Краснодар</td>\n",
       "      <td>1000</td>\n",
       "      <td>30720</td>\n",
       "      <td>3000</td>\n",
       "      <td>1950</td>\n",
       "      <td>150</td>\n",
       "      <td>1</td>\n",
       "      <td>1</td>\n",
       "      <td>1950</td>\n",
       "    </tr>\n",
       "    <tr>\n",
       "      <td>3</td>\n",
       "      <td>1000</td>\n",
       "      <td>Июнь</td>\n",
       "      <td>43</td>\n",
       "      <td>172.0</td>\n",
       "      <td>60</td>\n",
       "      <td>23233.769531</td>\n",
       "      <td>23</td>\n",
       "      <td>ultra</td>\n",
       "      <td>Краснодар</td>\n",
       "      <td>1000</td>\n",
       "      <td>30720</td>\n",
       "      <td>3000</td>\n",
       "      <td>1950</td>\n",
       "      <td>150</td>\n",
       "      <td>1</td>\n",
       "      <td>1</td>\n",
       "      <td>1950</td>\n",
       "    </tr>\n",
       "    <tr>\n",
       "      <td>4</td>\n",
       "      <td>1000</td>\n",
       "      <td>Май</td>\n",
       "      <td>22</td>\n",
       "      <td>159.0</td>\n",
       "      <td>22</td>\n",
       "      <td>2253.489990</td>\n",
       "      <td>3</td>\n",
       "      <td>ultra</td>\n",
       "      <td>Краснодар</td>\n",
       "      <td>1000</td>\n",
       "      <td>30720</td>\n",
       "      <td>3000</td>\n",
       "      <td>1950</td>\n",
       "      <td>150</td>\n",
       "      <td>1</td>\n",
       "      <td>1</td>\n",
       "      <td>1950</td>\n",
       "    </tr>\n",
       "  </tbody>\n",
       "</table>\n",
       "</div>"
      ],
      "text/plain": [
       "   user_id    month  calls_amount  calls_duration  messages       mb_used  \\\n",
       "0     1000   Август            52           408.0        81  14055.929688   \n",
       "1     1000  Декабрь            46           333.0        70   9817.610352   \n",
       "2     1000     Июль            47           340.0        75  14003.639648   \n",
       "3     1000     Июнь            43           172.0        60  23233.769531   \n",
       "4     1000      Май            22           159.0        22   2253.489990   \n",
       "\n",
       "   ceil_gb_used tariff       city  messages_included  mb_per_month_included  \\\n",
       "0            14  ultra  Краснодар               1000                  30720   \n",
       "1            10  ultra  Краснодар               1000                  30720   \n",
       "2            14  ultra  Краснодар               1000                  30720   \n",
       "3            23  ultra  Краснодар               1000                  30720   \n",
       "4             3  ultra  Краснодар               1000                  30720   \n",
       "\n",
       "   minutes_included  rub_monthly_fee  rub_per_gb  rub_per_message  \\\n",
       "0              3000             1950         150                1   \n",
       "1              3000             1950         150                1   \n",
       "2              3000             1950         150                1   \n",
       "3              3000             1950         150                1   \n",
       "4              3000             1950         150                1   \n",
       "\n",
       "   rub_per_minute  total_revenue  \n",
       "0               1           1950  \n",
       "1               1           1950  \n",
       "2               1           1950  \n",
       "3               1           1950  \n",
       "4               1           1950  "
      ]
     },
     "execution_count": 258,
     "metadata": {},
     "output_type": "execute_result"
    }
   ],
   "source": [
    "data_full['total_revenue'] = data_full.apply(revenue, axis=1)\n",
    "data_full.head()"
   ]
  },
  {
   "cell_type": "markdown",
   "id": "57761e41",
   "metadata": {},
   "source": [
    "#### Вывод\n",
    "\n",
    "В данной главе мы проверили таблицы на наличие пропусков и дупликатов, удалили лишний столбец, создали сводную таблицу с месячными данными  о пользователях, посчитали месячную выручку с каждого пользователя."
   ]
  },
  {
   "cell_type": "markdown",
   "id": "0e663a41",
   "metadata": {},
   "source": [
    "<a id=\"research\"></a>\n",
    "## Анализ данных"
   ]
  },
  {
   "cell_type": "markdown",
   "id": "90c045aa",
   "metadata": {},
   "source": [
    "В этой главе:\n",
    "* создадим таблицы по тарифам с посчитаными средними значениями по месяцам для каждого пользователя;\n",
    "* изучим количество потраченных пользователями минут;\n",
    "* изучим количество отправленных сообщений;\n",
    "* изучим интернет трафик."
   ]
  },
  {
   "cell_type": "markdown",
   "id": "f22048e4",
   "metadata": {},
   "source": [
    "<a id=\"calls_research\"></a>\n",
    "### Анализ количества потраченных минут"
   ]
  },
  {
   "cell_type": "markdown",
   "id": "8851a41a",
   "metadata": {},
   "source": [
    "Создадим таблицу с данными о потраченных минутах по пользователям каждого из тарифа, посчитаем в ней средние значения по месяцам для каждого пользователя:"
   ]
  },
  {
   "cell_type": "code",
   "execution_count": 259,
   "id": "0a4275dd",
   "metadata": {},
   "outputs": [],
   "source": [
    "data_calls_ultra = data_full.query('tariff == \"ultra\"').groupby('user_id')['calls_duration'].mean()\n",
    "data_calls_smart = data_full.query('tariff == \"smart\"').groupby('user_id')['calls_duration'].mean()\n",
    "data_calls_ultra.name = 'calls_duration_ultra'\n",
    "data_calls_smart.name = 'calls_duration_smart'"
   ]
  },
  {
   "cell_type": "markdown",
   "id": "1951bd83",
   "metadata": {},
   "source": [
    "Посчитаем количество пользователей каждого из тарифов совершавших звонки:"
   ]
  },
  {
   "cell_type": "code",
   "execution_count": 260,
   "id": "0a4586f9",
   "metadata": {},
   "outputs": [
    {
     "name": "stdout",
     "output_type": "stream",
     "text": [
      "количество пользователей со звонками ультра: 148\n",
      "количество пользователей со звонками смарт: 350\n"
     ]
    }
   ],
   "source": [
    "print(f'количество пользователей со звонками ультра: {len(data_calls_ultra)}')\n",
    "print(f'количество пользователей со звонками смарт: {len(data_calls_smart)}')"
   ]
  },
  {
   "cell_type": "markdown",
   "id": "5d4405c7",
   "metadata": {},
   "source": [
    "В функции для расчёта статистик выборок `ddof=1`, так как мы имеем дело с выборками:"
   ]
  },
  {
   "cell_type": "code",
   "execution_count": 261,
   "id": "f5979ed2",
   "metadata": {},
   "outputs": [
    {
     "name": "stdout",
     "output_type": "stream",
     "text": [
      "Для calls_duration_ultra\n",
      "Дисперсия: 72005.4765625\n",
      "Стандартное отклонение: 268.3383483886719\n",
      "Среднее: 546.6854248046875\n",
      "Для calls_duration_smart\n",
      "Дисперсия: 20584.705078125\n",
      "Стандартное отклонение: 143.4737091064453\n",
      "Среднее: 420.8401794433594\n"
     ]
    }
   ],
   "source": [
    "# функция считает и выводит дисперсию и стандартное отклонение для полученного столбца с данными, \n",
    "# а также выводит значения на экран\n",
    "def stats(data):\n",
    "    disp = np.var(data, ddof=1)\n",
    "    std = np.std(data, ddof=1)\n",
    "    mean = data.mean()\n",
    "    return f'Для {data.name}\\nДисперсия: {disp}\\nСтандартное отклонение: {std}\\nСреднее: {mean}'\n",
    "\n",
    "print(stats(data_calls_ultra))\n",
    "print(stats(data_calls_smart))"
   ]
  },
  {
   "cell_type": "markdown",
   "id": "2ca6cb53",
   "metadata": {},
   "source": [
    "Построим гистограмму для звонков тарифа ультра:"
   ]
  },
  {
   "cell_type": "code",
   "execution_count": 262,
   "id": "d9f01817",
   "metadata": {},
   "outputs": [
    {
     "data": {
      "image/png": "[encoded data removed]",
      "text/plain": [
       "<Figure size 1440x720 with 2 Axes>"
      ]
     },
     "metadata": {
      "needs_background": "light"
     },
     "output_type": "display_data"
    }
   ],
   "source": [
    "fig = plt.figure(figsize=(20, 10))\n",
    "\n",
    "ax1 = fig.add_subplot(2, 2, 1)\n",
    "ax2 = fig.add_subplot(2, 2, 2)\n",
    "\n",
    "ax1.set_title('Гистограмма звонков тарифа Ultra',\n",
    "             fontsize=18)\n",
    "ax1.set_xlabel('Количество минут',\n",
    "              fontsize=14)\n",
    "ax1.set_ylabel('Частота',\n",
    "              fontsize=14)\n",
    "\n",
    "ax2.set_title('Гистограмма звонков тарифа Smart',\n",
    "             fontsize=18)\n",
    "ax2.set_xlabel('Количество минут',\n",
    "              fontsize=14)\n",
    "ax2.set_ylabel('Частота',\n",
    "              fontsize=14)\n",
    "\n",
    "ax1.hist(data_calls_ultra, color='green')\n",
    "ax2.hist(data_calls_smart, color='green')\n",
    "\n",
    "\n",
    "plt.show()"
   ]
  },
  {
   "cell_type": "markdown",
   "id": "756d7d6d",
   "metadata": {},
   "source": [
    "Построим гистограмму для звонков тарифа смарт:"
   ]
  },
  {
   "cell_type": "markdown",
   "id": "c87fe230",
   "metadata": {},
   "source": [
    "#### Вывод\n",
    "\n",
    "Для тарифа ультра:\n",
    "* Среднее значение 547 минут;\n",
    "* дисперсия 72000;\n",
    "* стандартное отклонение 268;\n",
    "* судя по гистрограмме данные нормально распределены; \n",
    "* количество пользователей со звонками 148.\n",
    "* пользователи тарифа ультра тратят в среднем всего 547 минут из 3000 доступных.\n",
    "\n",
    "Для тарифа смарт:\n",
    "* Среднее значение 420 минут;\n",
    "* дисперсия 20584;\n",
    "* стандартное отклонение 143;\n",
    "* судя по гистрограмме данные нормально распределены; \n",
    "* количество пользователей со звонками 350.\n",
    "* в среднем пользователи тарифа смарт не успевают израсходовать лимит, хотя приближаются к нему, лимит выбран оптимально.\n",
    "\n",
    "Стандартное отклонение ниже для пользователей тарифа смарт, так как выборка по тарифу смарт больше более чем в 2 раза, чем выборка по тарифу ультра."
   ]
  },
  {
   "cell_type": "markdown",
   "id": "03d2b9c6",
   "metadata": {},
   "source": [
    "<a id=\"messages_research\"></a>\n",
    "### Анализ количества отправленных сообщений"
   ]
  },
  {
   "cell_type": "markdown",
   "id": "66ae27d8",
   "metadata": {},
   "source": [
    "Создадим таблицу с данными о сообщениях по пользователям каждого из тарифа, посчитаем в ней средние значения по месяцам для каждого пользователя:"
   ]
  },
  {
   "cell_type": "code",
   "execution_count": 263,
   "id": "2c86e9f5",
   "metadata": {},
   "outputs": [],
   "source": [
    "data_messages_ultra = data_full.query('tariff == \"ultra\"').groupby('user_id')['messages'].mean()\n",
    "data_messages_smart = data_full.query('tariff == \"smart\"').groupby('user_id')['messages'].mean()\n",
    "data_messages_ultra.name = 'messages_amount_ultra'\n",
    "data_messages_smart.name = 'messages_amount_smart'"
   ]
  },
  {
   "cell_type": "code",
   "execution_count": 264,
   "id": "0377033d",
   "metadata": {},
   "outputs": [
    {
     "name": "stdout",
     "output_type": "stream",
     "text": [
      "Для messages_amount_ultra\n",
      "Дисперсия: 2149.8287933213824\n",
      "Стандартное отклонение: 46.36624627162935\n",
      "Среднее: 54.03074324324324\n",
      "Для messages_amount_smart\n",
      "Дисперсия: 702.9099096396594\n",
      "Стандартное отклонение: 26.512448201545993\n",
      "Среднее: 32.352078231292516\n"
     ]
    }
   ],
   "source": [
    "print(stats(data_messages_ultra)) # используем написанную выше функцию\n",
    "print(stats(data_messages_smart))"
   ]
  },
  {
   "cell_type": "markdown",
   "id": "cfac7921",
   "metadata": {},
   "source": [
    "Построим гистограммы:"
   ]
  },
  {
   "cell_type": "code",
   "execution_count": 265,
   "id": "2c0d24d7",
   "metadata": {},
   "outputs": [
    {
     "data": {
      "image/png": "[encoded data removed]",
      "text/plain": [
       "<Figure size 1440x720 with 2 Axes>"
      ]
     },
     "metadata": {
      "needs_background": "light"
     },
     "output_type": "display_data"
    }
   ],
   "source": [
    "fig = plt.figure(figsize=(20, 10))\n",
    "\n",
    "ax1 = fig.add_subplot(2, 2, 1)\n",
    "ax2 = fig.add_subplot(2, 2, 2)\n",
    "\n",
    "ax1.set_title('Гистограмма сообщений тарифа Ultra',\n",
    "             fontsize=18)\n",
    "ax1.set_xlabel('Количество сообщений',\n",
    "              fontsize=14)\n",
    "ax1.set_ylabel('Частота',\n",
    "              fontsize=14)\n",
    "\n",
    "ax2.set_title('Гистограмма сообщений тарифа Smart',\n",
    "             fontsize=18)\n",
    "ax2.set_xlabel('Количество сообщений',\n",
    "              fontsize=14)\n",
    "ax2.set_ylabel('Частота',\n",
    "              fontsize=14)\n",
    "\n",
    "ax1.hist(data_messages_ultra, color='green')\n",
    "ax2.hist(data_messages_smart, color='green')\n",
    "\n",
    "\n",
    "plt.show()"
   ]
  },
  {
   "cell_type": "markdown",
   "id": "1d40272d",
   "metadata": {},
   "source": [
    "Построим гистограмму для пользователей тарифа смарт:"
   ]
  },
  {
   "cell_type": "markdown",
   "id": "92263974",
   "metadata": {},
   "source": [
    "#### Вывод\n",
    "\n",
    "Для тарифа ультра:\n",
    "* Среднее значение 66 сообщения;\n",
    "* дисперсия 1882;\n",
    "* стандартное отклонение 43;\n",
    "* судя по гистрограмме данные нормального распределения смещены влево;\n",
    "* большое количество людей не отправлют сообщения;\n",
    "* в среднем тратят всего 66 сообщений из 1000 доступных.\n",
    "\n",
    "Для тарифа смарт:\n",
    "* Среднее значение 38 сообщения;\n",
    "* дисперсия 617;\n",
    "* стандартное отклонение 24;\n",
    "* судя по гистрограмме данные нормального распределения смещены влево;\n",
    "* пользователи тратят 38 сообщений из 50 доступных, количество подобрано оптимально.\n",
    "Стандартное отклонение ниже для пользователей тарифа смарт, так как выборка по тарифу смарт больше более чем в 2 раза, чем выборка по тарифу ультра."
   ]
  },
  {
   "cell_type": "markdown",
   "id": "aff82f16",
   "metadata": {},
   "source": [
    "<a id=\"internet_research\"></a>\n",
    "###  Анализ интернет трафика"
   ]
  },
  {
   "cell_type": "markdown",
   "id": "17877fb0",
   "metadata": {},
   "source": [
    "Создадим таблицу с данными об интернет трафике по пользователям каждого из тарифа, посчитаем в ней средние значения по месяцам для каждого пользователя:"
   ]
  },
  {
   "cell_type": "code",
   "execution_count": 266,
   "id": "a0ecaf64",
   "metadata": {},
   "outputs": [],
   "source": [
    "data_internet_ultra = data_full.query('tariff == \"ultra\"').groupby('user_id')['ceil_gb_used'].mean()\n",
    "data_internet_smart = data_full.query('tariff == \"smart\"').groupby('user_id')['ceil_gb_used'].mean()\n",
    "data_internet_ultra.name = 'gb_used_ultra'\n",
    "data_internet_smart.name = 'gb_used_smart'"
   ]
  },
  {
   "cell_type": "code",
   "execution_count": 267,
   "id": "f9e08ee5",
   "metadata": {},
   "outputs": [
    {
     "name": "stdout",
     "output_type": "stream",
     "text": [
      "Для gb_used_ultra\n",
      "Дисперсия: 65.8714021057712\n",
      "Стандартное отклонение: 8.116119892274337\n",
      "Среднее: 19.588446238446238\n",
      "Для gb_used_smart\n",
      "Дисперсия: 12.261503204822011\n",
      "Стандартное отклонение: 3.5016429293721556\n",
      "Среднее: 16.30851886209029\n"
     ]
    }
   ],
   "source": [
    "print(stats(data_internet_ultra)) # используем написанную выше функцию\n",
    "print(stats(data_internet_smart))"
   ]
  },
  {
   "cell_type": "markdown",
   "id": "9e01372c",
   "metadata": {},
   "source": [
    "Построим гистограммы:"
   ]
  },
  {
   "cell_type": "code",
   "execution_count": 268,
   "id": "804b9c45",
   "metadata": {},
   "outputs": [
    {
     "data": {
      "image/png": "[encoded data removed]",
      "text/plain": [
       "<Figure size 1440x720 with 2 Axes>"
      ]
     },
     "metadata": {
      "needs_background": "light"
     },
     "output_type": "display_data"
    }
   ],
   "source": [
    "fig = plt.figure(figsize=(20, 10))\n",
    "\n",
    "ax1 = fig.add_subplot(2, 2, 1)\n",
    "ax2 = fig.add_subplot(2, 2, 2)\n",
    "\n",
    "ax1.set_title('Гистограмма интернет трафика тарифа Ultra',\n",
    "             fontsize=18)\n",
    "ax1.set_xlabel('Количество гигобайт',\n",
    "              fontsize=14)\n",
    "ax1.set_ylabel('Частота',\n",
    "              fontsize=14)\n",
    "\n",
    "ax2.set_title('Гистограмма интернет трафика тарифа Smart',\n",
    "             fontsize=18)\n",
    "ax2.set_xlabel('Количество гигобайт',\n",
    "              fontsize=14)\n",
    "ax2.set_ylabel('Частота',\n",
    "              fontsize=14)\n",
    "\n",
    "ax1.hist(data_internet_ultra, color='green')\n",
    "ax2.hist(data_internet_smart, color='green')\n",
    "\n",
    "\n",
    "plt.show()"
   ]
  },
  {
   "cell_type": "markdown",
   "id": "cb7112be",
   "metadata": {},
   "source": [
    "#### Вывод\n",
    "\n",
    "Для тарифа ультра:\n",
    "* Среднее значение 20 гигобайт из 30 доступных, в основной массе пользователи не превышают лимит;\n",
    "* дисперсия 64;\n",
    "* стандартное отклонение 8;\n",
    "* судя по гистрограмме данные имеют нормальное распределение; \n",
    "\n",
    "Для тарифа смарт:\n",
    "* Среднее значение 16 гигобайт, из 15 доступных, в среднем пользователи превышают лимит;\n",
    "* дисперсия 12;\n",
    "* стандартное отклонение 3,5;\n",
    "* судя по гистрограмме данные имеют нормальное распределение.\n",
    "\n",
    "Стандартное отклонение ниже для пользователей тарифа смарт, так как выборка по тарифу смарт больше более чем в 2 раза, чем выборка по тарифу ультра."
   ]
  },
  {
   "cell_type": "markdown",
   "id": "08cc42f0",
   "metadata": {},
   "source": [
    "<a id=\"hypothesis\"></a>\n",
    "## Проверка гипотез"
   ]
  },
  {
   "cell_type": "markdown",
   "id": "432bc8b9",
   "metadata": {},
   "source": [
    "В этой главе мы:\n",
    "* создадим сводные таблицы для разных тарифов, в которых будут для каждого пользователя расчитаны средние значения месячной выручки;\n",
    "* создадим сводные таблицы для городов - Москва и другие регионы, в которых будут для каждого пользователя расчитаны средние значения месячной выручки;\n",
    "* проверим две гипотезы:\n",
    "    * средняя выручка пользователей тарифов «Ультра» и «Смарт» различаются;\n",
    "    * средняя выручка пользователей из Москвы отличается от выручки пользователей из других регионов."
   ]
  },
  {
   "cell_type": "markdown",
   "id": "009539e7",
   "metadata": {},
   "source": [
    "<a id=\"hypothesis_1\"></a>\n",
    "###   Гипотеза о равенстве средних выручек в разных тарифах"
   ]
  },
  {
   "cell_type": "markdown",
   "id": "77910f96",
   "metadata": {},
   "source": [
    "Создадим сводные таблицы для пользователей тарифов ульта и смарт с месячной средней выручкой для каждого пользователя:"
   ]
  },
  {
   "cell_type": "code",
   "execution_count": 269,
   "id": "50a4b054",
   "metadata": {},
   "outputs": [],
   "source": [
    "data_revenue_ultra = data_full.query('tariff == \"ultra\"').groupby('user_id')['total_revenue'].mean()\n",
    "data_revenue_smart = data_full.query('tariff == \"smart\"').groupby('user_id')['total_revenue'].mean()\n",
    "data_revenue_ultra.name = 'revenue_ultra'\n",
    "data_revenue_smart.name = 'revenue_smart'"
   ]
  },
  {
   "cell_type": "markdown",
   "id": "4c14159d",
   "metadata": {},
   "source": [
    "Посчитаем характеристики распределения:"
   ]
  },
  {
   "cell_type": "code",
   "execution_count": 270,
   "id": "e085c2e0",
   "metadata": {},
   "outputs": [
    {
     "name": "stdout",
     "output_type": "stream",
     "text": [
      "Для revenue_ultra\n",
      "Дисперсия: 89121.78498148208\n",
      "Стандартное отклонение: 298.53272011872014\n",
      "Среднее: 2086.4646586521585\n",
      "Для revenue_smart\n",
      "Дисперсия: 290393.9036203914\n",
      "Стандартное отклонение: 538.8820869359005\n",
      "Среднее: 1187.1793433312719\n"
     ]
    }
   ],
   "source": [
    "print(stats(data_revenue_ultra))\n",
    "print(stats(data_revenue_smart))"
   ]
  },
  {
   "cell_type": "markdown",
   "id": "80c358fa",
   "metadata": {},
   "source": [
    "Напишем функцию для проверки гипотезы, будем использовать функцию `ttest_ind`, которая применяется для проверки гипотезы о равенстве средних двух генеральных совокупностей с помощью t-критерия, который применяется для проверки гипотезы о равенстве средних. Коэффициент значимости `alpha=0.01` по умолчанию:"
   ]
  },
  {
   "cell_type": "code",
   "execution_count": 271,
   "id": "1da215c1",
   "metadata": {},
   "outputs": [],
   "source": [
    "def ttest(data1, data2, equal_param=True, alpha=.01):\n",
    "    alpha = .01\n",
    "\n",
    "    results = st.ttest_ind(data1, data2, equal_var=equal_param)\n",
    "    \n",
    "    print('p-значение:', results.pvalue)\n",
    "    \n",
    "    if results.pvalue < alpha:\n",
    "        print('Отвергаем нулевую гипотезу')\n",
    "    else:\n",
    "        print('Не получилось отвергнуть нулевую гипотезу')"
   ]
  },
  {
   "cell_type": "markdown",
   "id": "e1ce5b6d",
   "metadata": {},
   "source": [
    "Для того, чтобы определить `equal_var=True` или `equal_var=False` посчиатем размер выборок:"
   ]
  },
  {
   "cell_type": "code",
   "execution_count": 272,
   "id": "dd8e6e1c",
   "metadata": {},
   "outputs": [
    {
     "name": "stdout",
     "output_type": "stream",
     "text": [
      "148\n",
      "350\n"
     ]
    }
   ],
   "source": [
    "print(len(data_revenue_ultra))\n",
    "print(len(data_revenue_smart))"
   ]
  },
  {
   "cell_type": "markdown",
   "id": "7ff79963",
   "metadata": {},
   "source": [
    "`Нулевая гипотеза H0: средняя выручка для пользователей тарифов смарт и ультра не отличается.`\n",
    "\n",
    "`Альтернативаня гипотеза H1: средняя выручка для пользователей тарифов смарт и ультра отличается.`"
   ]
  },
  {
   "cell_type": "markdown",
   "id": "1c00b6f6",
   "metadata": {},
   "source": [
    "Так как размер выборок сильно отличается можно сделать вывод, что дисперсии выборок отличаются, поэтому `equal_var=False`, применим функцию:"
   ]
  },
  {
   "cell_type": "code",
   "execution_count": 273,
   "id": "f126d80f",
   "metadata": {},
   "outputs": [
    {
     "name": "stdout",
     "output_type": "stream",
     "text": [
      "p-значение: 3.8565671220518286e-82\n",
      "Отвергаем нулевую гипотезу\n"
     ]
    }
   ],
   "source": [
    "ttest(data_revenue_ultra,\n",
    "      data_revenue_smart,\n",
    "     equal_param=False)"
   ]
  },
  {
   "cell_type": "markdown",
   "id": "639e6fc1",
   "metadata": {},
   "source": [
    "#### Вывод\n",
    "\n",
    "Так как p-значение меньше чем установленный уровень значимости, мы отвергаем нулевую гипотезу о равенстве средних и отдаём предпочтение альтернативной гипотезе, которая заключается в том, что средние выручки с пользователей тарифов смарт и ультра не равны. При этом среднее значение по выборке среди тарифа ультра - 2086, а среди тарифа смарт 1187."
   ]
  },
  {
   "cell_type": "markdown",
   "id": "054a6255",
   "metadata": {},
   "source": [
    "<a id=\"hypothesis_2\"></a>\n",
    "###   Гипотеза о равенстве средних выручек в Москве и других городах"
   ]
  },
  {
   "cell_type": "markdown",
   "id": "a17b6efe",
   "metadata": {},
   "source": [
    "Создадим сводные таблицы для пользователей из Москвы и других регионов с месячной средней выручкой для каждого пользователя:"
   ]
  },
  {
   "cell_type": "code",
   "execution_count": 274,
   "id": "a26c471f",
   "metadata": {},
   "outputs": [],
   "source": [
    "# создадим две таблицы, в одной город только Москва, в другой - все остальные:\n",
    "data_revenue_moscow = data_full.query('city == \"Москва\"').groupby('user_id')['total_revenue'].mean()\n",
    "data_revenue_other = data_full.query('city != \"Москва\"').groupby('user_id')['total_revenue'].mean()\n",
    "data_revenue_moscow.name = 'moscow_revenue'\n",
    "data_revenue_other.name = 'other_revenue'"
   ]
  },
  {
   "cell_type": "code",
   "execution_count": 275,
   "id": "02cf0519",
   "metadata": {},
   "outputs": [
    {
     "data": {
      "text/plain": [
       "user_id\n",
       "1001     850.000000\n",
       "1003    1950.000000\n",
       "1007     794.444444\n",
       "1031     550.000000\n",
       "1033    1914.000000\n",
       "Name: moscow_revenue, dtype: float64"
      ]
     },
     "metadata": {},
     "output_type": "display_data"
    },
    {
     "data": {
      "text/plain": [
       "user_id\n",
       "1000    1950.000000\n",
       "1002    1035.714286\n",
       "1004    1950.000000\n",
       "1005     558.250000\n",
       "1006     931.818182\n",
       "Name: other_revenue, dtype: float64"
      ]
     },
     "metadata": {},
     "output_type": "display_data"
    }
   ],
   "source": [
    "display(data_revenue_moscow.head())\n",
    "display(data_revenue_other.head())"
   ]
  },
  {
   "cell_type": "markdown",
   "id": "fbcf5674",
   "metadata": {},
   "source": [
    "Посчитаем характеристики распределения:"
   ]
  },
  {
   "cell_type": "code",
   "execution_count": 276,
   "id": "eae0cba4",
   "metadata": {},
   "outputs": [
    {
     "name": "stdout",
     "output_type": "stream",
     "text": [
      "Для moscow_revenue\n",
      "Дисперсия: 379986.6137258581\n",
      "Стандартное отклонение: 616.4305424992001\n",
      "Среднее: 1410.0475315929862\n",
      "Для other_revenue\n",
      "Дисперсия: 404737.363434692\n",
      "Стандартное отклонение: 636.1897228301412\n",
      "Среднее: 1465.450711826464\n"
     ]
    }
   ],
   "source": [
    "print(stats(data_revenue_moscow))\n",
    "print(stats(data_revenue_other))"
   ]
  },
  {
   "cell_type": "markdown",
   "id": "cc029920",
   "metadata": {},
   "source": [
    "Посчитаем размеры выборок:"
   ]
  },
  {
   "cell_type": "code",
   "execution_count": 277,
   "id": "f70cb2cd",
   "metadata": {},
   "outputs": [
    {
     "name": "stdout",
     "output_type": "stream",
     "text": [
      "99\n",
      "399\n"
     ]
    }
   ],
   "source": [
    "print(len(data_revenue_moscow))\n",
    "print(len(data_revenue_other))"
   ]
  },
  {
   "cell_type": "markdown",
   "id": "1fe7e982",
   "metadata": {},
   "source": [
    "Применим функцию для проверки гипотезы, будем использовать функцию `ttest_ind`, которая применяется для проверки гипотезы о равенстве средних двух генеральных совокупностей с помощью t-критерия, который применяется для проверки гипотезы о равенстве средних. Коэффициент значимости `alpha=0.01` по умолчанию, `equal_var=False` так как размеры выборок не равны, из чего можно предположить, что и дисперсии не равны:"
   ]
  },
  {
   "cell_type": "markdown",
   "id": "eb212a2a",
   "metadata": {},
   "source": [
    "`Нулевая гипотеза H0: средние выручки с пользователей Москвы и других регионов равны.`\n",
    "\n",
    "`Альтернативная гипотеза H1: средние выручки с пользователей Москвы и других регионов не равны.`"
   ]
  },
  {
   "cell_type": "markdown",
   "id": "3d9adb7e",
   "metadata": {},
   "source": [
    "Так как размер выборок сильно отличается можно сделать вывод, что выборки отличаются, поэтому `equal_var=False`, применим функцию:"
   ]
  },
  {
   "cell_type": "code",
   "execution_count": 278,
   "id": "69b0d269",
   "metadata": {},
   "outputs": [
    {
     "name": "stdout",
     "output_type": "stream",
     "text": [
      "p-значение: 0.427646963675927\n",
      "Не получилось отвергнуть нулевую гипотезу\n"
     ]
    }
   ],
   "source": [
    "ttest(data_revenue_moscow,\n",
    "      data_revenue_other,\n",
    "     equal_param=False)"
   ]
  },
  {
   "cell_type": "markdown",
   "id": "ccb8c6bd",
   "metadata": {},
   "source": [
    "#### Вывод\n",
    "\n",
    "Так как p-значение выше чем установленный уровень значимости, мы принимаем нулевую гипотезу о равенстве средних выручек пользователей в Москве и других регионах. "
   ]
  },
  {
   "cell_type": "markdown",
   "id": "87eb4c8d",
   "metadata": {},
   "source": [
    "<a id=\"conclusion\"></a>\n",
    "## Общий вывод"
   ]
  },
  {
   "cell_type": "markdown",
   "id": "548d3a90",
   "metadata": {},
   "source": [
    "* Данные расположены в пяти таблицах. Отдельно информация о клиентах, их id и тариф и город. Отдельно таблица с звонками, интернетом и сообщениями, а также таблица, в которой указаны тарифы;\n",
    "* выполнена подготовка данных:\n",
    "    * как показала проверка, явных дупликатов в данных нет, пропуски есть только в столбце с датой прекращения тарифа, что, согласно документации, означает, что пользователь ещё действующий;\n",
    "    * были оптимизированы типы данных. Таким образом, можно уменьшить объем таблиц, а также увеличить скорость работы с ними;\n",
    "    * был обнаружен и удалён дублирующий столбец в таблице с данными об интернет трафике, а также тот факт, что не обо всех пользователях есть информация в таблицах с действиями;\n",
    "    * мы создали сводную таблицу с месячными данными  о пользователях, посчитали месячную выручку с каждого пользователя;\n",
    "* проведен анализ данных:\n",
    "    * Количество потраченных минут для тарифа ультра:\n",
    "        * Среднее значение 547 минут;\n",
    "        * дисперсия 72000;\n",
    "        * стандартное отклонение 268;\n",
    "        * судя по гистрограмме данные нормально распределены; \n",
    "        * количество пользователей со звонками 148.\n",
    "        * пользователи тарифа ультра тратят в среднем всего 547 минут из 3000 доступных.\n",
    "    * Количество потраченных минут для тарифа смарт:\n",
    "        * Среднее значение 420 минут;\n",
    "        * дисперсия 20584;\n",
    "        * стандартное отклонение 143;\n",
    "        * судя по гистрограмме данные нормально распределены; \n",
    "        * количество пользователей со звонками 350.\n",
    "        * в среднем пользователи тарифа смарт не успевают израсходовать лимит, хотя приближаются к нему, лимит выбран оптимально.\n",
    "     * Количество сообщений для тарифа ультра:\n",
    "        * Среднее значение 66 сообщений;\n",
    "        * дисперсия 1882;\n",
    "        * стандартное отклонение 43;\n",
    "        * судя по гистрограмме данные нормального распределения смещены влево; \n",
    "        * в среднем тратят всего 66 сообщений из 1000 доступных.\n",
    "    * Количество сообщений для тарифа смарт:\n",
    "        * Среднее значение 38 сообщений;\n",
    "        * дисперсия 617;\n",
    "        * стандартное отклонение 24;\n",
    "        * судя по гистрограмме данные нормального распределения смещены влево.\n",
    "        * пользователи тратят 38 сообщений из 50 доступных, количество подобрано оптимально.\n",
    "     * Интернет трафик для тарифа ультра:\n",
    "        *  Среднее значение 20 гигобайт из 30 доступных, в основной массе пользователи не превышают лимит;\n",
    "        * дисперсия 64;\n",
    "        * стандартное отклонение 8;\n",
    "        * судя по гистрограмме данные имеют нормальное распределение; \n",
    "    * Интернет трафик для тарифа смарт:\n",
    "        * * Среднее значение 16 гигобайт, из 15 доступных, в среднем пользователи превышают лимит;\n",
    "        * дисперсия 12;\n",
    "        * стандартное отклонение 3,5;\n",
    "        * судя по гистрограмме данные имеют нормальное распределение.\n",
    "* проверены статистические гипотезы:\n",
    "    * так как p-значение меньше чем установленный уровень значимости, мы отвергаем нулевую гипотезу о равенстве средних и отдаём предпочтение альтернативной гипотезе, которая заключается в том, что средние выручки с пользователей тарифов смарт и ультра не равны. При этом среднее значение по выборке среди тарифа ультра - 2086, а среди тарифа смарт 1187;\n",
    "    * так как p-значение выше чем установленный уровень значимости, мы принимаем нулевую гипотезу о равенстве средних выручек пользователей в Москве и других регионах. \n",
    "\n",
    "\n",
    "Можно сделать вывод, что тариф ультра приносит большую выручку.\n",
    "    "
   ]
  }
 ],
 "metadata": {
  "ExecuteTimeLog": [
   {
    "duration": 1054,
    "start_time": "2022-02-21T06:48:01.518Z"
   },
   {
    "duration": 421,
    "start_time": "2022-02-21T06:48:03.124Z"
   },
   {
    "duration": 146,
    "start_time": "2022-02-21T06:48:05.982Z"
   },
   {
    "duration": 177,
    "start_time": "2022-02-21T06:48:29.984Z"
   },
   {
    "duration": 191,
    "start_time": "2022-02-21T06:49:55.019Z"
   },
   {
    "duration": 78,
    "start_time": "2022-02-21T06:51:22.051Z"
   },
   {
    "duration": 2,
    "start_time": "2022-02-21T06:52:52.258Z"
   },
   {
    "duration": 408,
    "start_time": "2022-02-21T06:52:52.262Z"
   },
   {
    "duration": 200,
    "start_time": "2022-02-21T06:52:52.672Z"
   },
   {
    "duration": 167,
    "start_time": "2022-02-21T06:52:52.873Z"
   },
   {
    "duration": 76,
    "start_time": "2022-02-21T06:52:53.045Z"
   },
   {
    "duration": 82,
    "start_time": "2022-02-21T06:52:53.122Z"
   },
   {
    "duration": 43,
    "start_time": "2022-02-21T06:52:53.206Z"
   },
   {
    "duration": 8,
    "start_time": "2022-02-21T06:52:53.250Z"
   },
   {
    "duration": 36,
    "start_time": "2022-02-21T06:52:53.260Z"
   },
   {
    "duration": 21,
    "start_time": "2022-02-21T06:52:53.298Z"
   },
   {
    "duration": 14,
    "start_time": "2022-02-21T06:52:53.321Z"
   },
   {
    "duration": 5,
    "start_time": "2022-02-21T06:52:53.336Z"
   },
   {
    "duration": 3,
    "start_time": "2022-02-21T06:52:53.342Z"
   },
   {
    "duration": 61,
    "start_time": "2022-02-21T06:52:53.347Z"
   },
   {
    "duration": 165,
    "start_time": "2022-02-21T06:52:53.410Z"
   },
   {
    "duration": 26,
    "start_time": "2022-02-21T06:52:53.577Z"
   },
   {
    "duration": 65,
    "start_time": "2022-02-21T06:52:53.605Z"
   },
   {
    "duration": 24,
    "start_time": "2022-02-21T06:52:53.671Z"
   },
   {
    "duration": 19,
    "start_time": "2022-02-21T06:52:53.697Z"
   },
   {
    "duration": 30,
    "start_time": "2022-02-21T06:52:53.718Z"
   },
   {
    "duration": 11,
    "start_time": "2022-02-21T06:52:53.750Z"
   },
   {
    "duration": 7,
    "start_time": "2022-02-21T06:52:53.762Z"
   },
   {
    "duration": 14,
    "start_time": "2022-02-21T06:52:53.770Z"
   },
   {
    "duration": 7,
    "start_time": "2022-02-21T06:52:53.786Z"
   },
   {
    "duration": 18,
    "start_time": "2022-02-21T06:52:53.795Z"
   },
   {
    "duration": 4,
    "start_time": "2022-02-21T06:52:53.815Z"
   },
   {
    "duration": 180,
    "start_time": "2022-02-21T06:52:53.847Z"
   },
   {
    "duration": 20,
    "start_time": "2022-02-21T06:52:54.029Z"
   },
   {
    "duration": 3,
    "start_time": "2022-02-21T06:52:54.051Z"
   },
   {
    "duration": 10,
    "start_time": "2022-02-21T06:52:54.055Z"
   },
   {
    "duration": 253,
    "start_time": "2022-02-21T06:52:54.067Z"
   },
   {
    "duration": 186,
    "start_time": "2022-02-21T06:52:54.322Z"
   },
   {
    "duration": 9,
    "start_time": "2022-02-21T06:52:54.510Z"
   },
   {
    "duration": 4,
    "start_time": "2022-02-21T06:52:54.520Z"
   },
   {
    "duration": 191,
    "start_time": "2022-02-21T06:52:54.525Z"
   },
   {
    "duration": 213,
    "start_time": "2022-02-21T06:52:54.717Z"
   },
   {
    "duration": 17,
    "start_time": "2022-02-21T06:52:54.931Z"
   },
   {
    "duration": 3,
    "start_time": "2022-02-21T06:52:54.950Z"
   },
   {
    "duration": 185,
    "start_time": "2022-02-21T06:52:54.955Z"
   },
   {
    "duration": 187,
    "start_time": "2022-02-21T06:52:55.146Z"
   },
   {
    "duration": 18,
    "start_time": "2022-02-21T06:52:55.335Z"
   },
   {
    "duration": 5,
    "start_time": "2022-02-21T06:52:55.354Z"
   },
   {
    "duration": 4,
    "start_time": "2022-02-21T06:52:55.360Z"
   },
   {
    "duration": 5,
    "start_time": "2022-02-21T06:52:55.366Z"
   },
   {
    "duration": 5,
    "start_time": "2022-02-21T06:52:55.372Z"
   },
   {
    "duration": 11,
    "start_time": "2022-02-21T06:52:55.378Z"
   },
   {
    "duration": 7,
    "start_time": "2022-02-21T06:52:55.390Z"
   },
   {
    "duration": 4,
    "start_time": "2022-02-21T06:52:55.399Z"
   },
   {
    "duration": 5,
    "start_time": "2022-02-21T06:52:55.404Z"
   },
   {
    "duration": 4,
    "start_time": "2022-02-21T06:52:55.446Z"
   },
   {
    "duration": 2,
    "start_time": "2022-02-21T06:56:07.898Z"
   },
   {
    "duration": 383,
    "start_time": "2022-02-21T06:56:07.903Z"
   },
   {
    "duration": 194,
    "start_time": "2022-02-21T06:56:08.287Z"
   },
   {
    "duration": 182,
    "start_time": "2022-02-21T06:56:08.483Z"
   },
   {
    "duration": 87,
    "start_time": "2022-02-21T06:56:08.667Z"
   },
   {
    "duration": 67,
    "start_time": "2022-02-21T06:56:08.755Z"
   },
   {
    "duration": 47,
    "start_time": "2022-02-21T06:56:08.824Z"
   },
   {
    "duration": 8,
    "start_time": "2022-02-21T06:56:08.872Z"
   },
   {
    "duration": 11,
    "start_time": "2022-02-21T06:56:08.882Z"
   },
   {
    "duration": 8,
    "start_time": "2022-02-21T06:56:08.895Z"
   },
   {
    "duration": 7,
    "start_time": "2022-02-21T06:56:08.904Z"
   },
   {
    "duration": 35,
    "start_time": "2022-02-21T06:56:08.912Z"
   },
   {
    "duration": 4,
    "start_time": "2022-02-21T06:56:08.949Z"
   },
   {
    "duration": 61,
    "start_time": "2022-02-21T06:56:08.954Z"
   },
   {
    "duration": 144,
    "start_time": "2022-02-21T06:56:09.017Z"
   },
   {
    "duration": 22,
    "start_time": "2022-02-21T06:56:09.162Z"
   },
   {
    "duration": 61,
    "start_time": "2022-02-21T06:56:09.186Z"
   },
   {
    "duration": 23,
    "start_time": "2022-02-21T06:56:09.248Z"
   },
   {
    "duration": 18,
    "start_time": "2022-02-21T06:56:09.273Z"
   },
   {
    "duration": 5,
    "start_time": "2022-02-21T06:56:09.293Z"
   },
   {
    "duration": 10,
    "start_time": "2022-02-21T06:56:09.299Z"
   },
   {
    "duration": 36,
    "start_time": "2022-02-21T06:56:09.310Z"
   },
   {
    "duration": 8,
    "start_time": "2022-02-21T06:56:09.347Z"
   },
   {
    "duration": 5,
    "start_time": "2022-02-21T06:56:09.358Z"
   },
   {
    "duration": 20,
    "start_time": "2022-02-21T06:56:09.365Z"
   },
   {
    "duration": 4,
    "start_time": "2022-02-21T06:56:09.386Z"
   },
   {
    "duration": 196,
    "start_time": "2022-02-21T06:56:09.391Z"
   },
   {
    "duration": 10,
    "start_time": "2022-02-21T06:56:09.589Z"
   },
   {
    "duration": 4,
    "start_time": "2022-02-21T06:56:09.601Z"
   },
   {
    "duration": 14,
    "start_time": "2022-02-21T06:56:09.607Z"
   },
   {
    "duration": 195,
    "start_time": "2022-02-21T06:56:09.622Z"
   },
   {
    "duration": 180,
    "start_time": "2022-02-21T06:56:09.819Z"
   },
   {
    "duration": 9,
    "start_time": "2022-02-21T06:56:10.001Z"
   },
   {
    "duration": 7,
    "start_time": "2022-02-21T06:56:10.012Z"
   },
   {
    "duration": 257,
    "start_time": "2022-02-21T06:56:10.020Z"
   },
   {
    "duration": 181,
    "start_time": "2022-02-21T06:56:10.278Z"
   },
   {
    "duration": 9,
    "start_time": "2022-02-21T06:56:10.461Z"
   },
   {
    "duration": 4,
    "start_time": "2022-02-21T06:56:10.472Z"
   },
   {
    "duration": 201,
    "start_time": "2022-02-21T06:56:10.477Z"
   },
   {
    "duration": 195,
    "start_time": "2022-02-21T06:56:10.679Z"
   },
   {
    "duration": 9,
    "start_time": "2022-02-21T06:56:10.876Z"
   },
   {
    "duration": 5,
    "start_time": "2022-02-21T06:56:10.887Z"
   },
   {
    "duration": 4,
    "start_time": "2022-02-21T06:56:10.893Z"
   },
   {
    "duration": 5,
    "start_time": "2022-02-21T06:56:10.899Z"
   },
   {
    "duration": 7,
    "start_time": "2022-02-21T06:56:10.905Z"
   },
   {
    "duration": 33,
    "start_time": "2022-02-21T06:56:10.913Z"
   },
   {
    "duration": 7,
    "start_time": "2022-02-21T06:56:10.947Z"
   },
   {
    "duration": 10,
    "start_time": "2022-02-21T06:56:10.955Z"
   },
   {
    "duration": 7,
    "start_time": "2022-02-21T06:56:10.966Z"
   },
   {
    "duration": 5,
    "start_time": "2022-02-21T06:56:10.975Z"
   },
   {
    "duration": 6,
    "start_time": "2022-02-21T06:58:44.270Z"
   },
   {
    "duration": 532,
    "start_time": "2022-02-21T07:08:46.543Z"
   },
   {
    "duration": 13,
    "start_time": "2022-02-21T07:10:42.949Z"
   },
   {
    "duration": 7,
    "start_time": "2022-02-21T07:11:04.881Z"
   },
   {
    "duration": 3,
    "start_time": "2022-02-21T07:11:12.316Z"
   },
   {
    "duration": 413,
    "start_time": "2022-02-21T07:11:12.321Z"
   },
   {
    "duration": 222,
    "start_time": "2022-02-21T07:11:12.736Z"
   },
   {
    "duration": 192,
    "start_time": "2022-02-21T07:11:12.960Z"
   },
   {
    "duration": 100,
    "start_time": "2022-02-21T07:11:13.154Z"
   },
   {
    "duration": 74,
    "start_time": "2022-02-21T07:11:13.255Z"
   },
   {
    "duration": 29,
    "start_time": "2022-02-21T07:11:13.346Z"
   },
   {
    "duration": 8,
    "start_time": "2022-02-21T07:11:13.377Z"
   },
   {
    "duration": 13,
    "start_time": "2022-02-21T07:11:13.388Z"
   },
   {
    "duration": 8,
    "start_time": "2022-02-21T07:11:13.403Z"
   },
   {
    "duration": 43,
    "start_time": "2022-02-21T07:11:13.413Z"
   },
   {
    "duration": 9,
    "start_time": "2022-02-21T07:11:13.458Z"
   },
   {
    "duration": 5,
    "start_time": "2022-02-21T07:11:13.469Z"
   },
   {
    "duration": 86,
    "start_time": "2022-02-21T07:11:13.476Z"
   },
   {
    "duration": 139,
    "start_time": "2022-02-21T07:11:13.564Z"
   },
   {
    "duration": 26,
    "start_time": "2022-02-21T07:11:13.705Z"
   },
   {
    "duration": 56,
    "start_time": "2022-02-21T07:11:13.746Z"
   },
   {
    "duration": 25,
    "start_time": "2022-02-21T07:11:13.804Z"
   },
   {
    "duration": 21,
    "start_time": "2022-02-21T07:11:13.847Z"
   },
   {
    "duration": 5,
    "start_time": "2022-02-21T07:11:13.869Z"
   },
   {
    "duration": 13,
    "start_time": "2022-02-21T07:11:13.876Z"
   },
   {
    "duration": 3,
    "start_time": "2022-02-21T07:11:13.891Z"
   },
   {
    "duration": 8,
    "start_time": "2022-02-21T07:11:13.896Z"
   },
   {
    "duration": 15,
    "start_time": "2022-02-21T07:11:13.906Z"
   },
   {
    "duration": 30,
    "start_time": "2022-02-21T07:11:13.922Z"
   },
   {
    "duration": 13,
    "start_time": "2022-02-21T07:11:13.955Z"
   },
   {
    "duration": 18,
    "start_time": "2022-02-21T07:11:13.973Z"
   },
   {
    "duration": 5,
    "start_time": "2022-02-21T07:11:13.994Z"
   },
   {
    "duration": 226,
    "start_time": "2022-02-21T07:11:14.001Z"
   },
   {
    "duration": 18,
    "start_time": "2022-02-21T07:11:14.229Z"
   },
   {
    "duration": 3,
    "start_time": "2022-02-21T07:11:14.248Z"
   },
   {
    "duration": 8,
    "start_time": "2022-02-21T07:11:14.253Z"
   },
   {
    "duration": 214,
    "start_time": "2022-02-21T07:11:14.262Z"
   },
   {
    "duration": 203,
    "start_time": "2022-02-21T07:11:14.477Z"
   },
   {
    "duration": 10,
    "start_time": "2022-02-21T07:11:14.682Z"
   },
   {
    "duration": 7,
    "start_time": "2022-02-21T07:11:14.694Z"
   },
   {
    "duration": 283,
    "start_time": "2022-02-21T07:11:14.702Z"
   },
   {
    "duration": 192,
    "start_time": "2022-02-21T07:11:14.986Z"
   },
   {
    "duration": 10,
    "start_time": "2022-02-21T07:11:15.180Z"
   },
   {
    "duration": 7,
    "start_time": "2022-02-21T07:11:15.191Z"
   },
   {
    "duration": 206,
    "start_time": "2022-02-21T07:11:15.200Z"
   },
   {
    "duration": 196,
    "start_time": "2022-02-21T07:11:15.407Z"
   },
   {
    "duration": 11,
    "start_time": "2022-02-21T07:11:15.605Z"
   },
   {
    "duration": 5,
    "start_time": "2022-02-21T07:11:15.618Z"
   },
   {
    "duration": 23,
    "start_time": "2022-02-21T07:11:15.624Z"
   },
   {
    "duration": 6,
    "start_time": "2022-02-21T07:11:15.648Z"
   },
   {
    "duration": 5,
    "start_time": "2022-02-21T07:11:15.655Z"
   },
   {
    "duration": 9,
    "start_time": "2022-02-21T07:11:15.662Z"
   },
   {
    "duration": 5,
    "start_time": "2022-02-21T07:11:15.673Z"
   },
   {
    "duration": 4,
    "start_time": "2022-02-21T07:11:15.680Z"
   },
   {
    "duration": 5,
    "start_time": "2022-02-21T07:11:15.686Z"
   },
   {
    "duration": 5,
    "start_time": "2022-02-21T07:11:15.692Z"
   },
   {
    "duration": 23,
    "start_time": "2022-02-21T07:12:33.235Z"
   },
   {
    "duration": 17,
    "start_time": "2022-02-21T07:13:53.279Z"
   },
   {
    "duration": 3,
    "start_time": "2022-02-21T07:13:58.133Z"
   },
   {
    "duration": 400,
    "start_time": "2022-02-21T07:13:58.137Z"
   },
   {
    "duration": 210,
    "start_time": "2022-02-21T07:13:58.539Z"
   },
   {
    "duration": 170,
    "start_time": "2022-02-21T07:13:58.751Z"
   },
   {
    "duration": 86,
    "start_time": "2022-02-21T07:13:58.923Z"
   },
   {
    "duration": 79,
    "start_time": "2022-02-21T07:13:59.011Z"
   },
   {
    "duration": 26,
    "start_time": "2022-02-21T07:13:59.092Z"
   },
   {
    "duration": 27,
    "start_time": "2022-02-21T07:13:59.120Z"
   },
   {
    "duration": 15,
    "start_time": "2022-02-21T07:13:59.149Z"
   },
   {
    "duration": 7,
    "start_time": "2022-02-21T07:13:59.165Z"
   },
   {
    "duration": 7,
    "start_time": "2022-02-21T07:13:59.173Z"
   },
   {
    "duration": 10,
    "start_time": "2022-02-21T07:13:59.182Z"
   },
   {
    "duration": 6,
    "start_time": "2022-02-21T07:13:59.194Z"
   },
   {
    "duration": 85,
    "start_time": "2022-02-21T07:13:59.201Z"
   },
   {
    "duration": 115,
    "start_time": "2022-02-21T07:13:59.288Z"
   },
   {
    "duration": 22,
    "start_time": "2022-02-21T07:13:59.404Z"
   },
   {
    "duration": 63,
    "start_time": "2022-02-21T07:13:59.428Z"
   },
   {
    "duration": 24,
    "start_time": "2022-02-21T07:13:59.492Z"
   },
   {
    "duration": 36,
    "start_time": "2022-02-21T07:13:59.519Z"
   },
   {
    "duration": 5,
    "start_time": "2022-02-21T07:13:59.557Z"
   },
   {
    "duration": 11,
    "start_time": "2022-02-21T07:13:59.563Z"
   },
   {
    "duration": 10,
    "start_time": "2022-02-21T07:13:59.575Z"
   },
   {
    "duration": 8,
    "start_time": "2022-02-21T07:13:59.587Z"
   },
   {
    "duration": 7,
    "start_time": "2022-02-21T07:13:59.597Z"
   },
   {
    "duration": 14,
    "start_time": "2022-02-21T07:13:59.605Z"
   },
   {
    "duration": 32,
    "start_time": "2022-02-21T07:13:59.620Z"
   },
   {
    "duration": 19,
    "start_time": "2022-02-21T07:13:59.654Z"
   },
   {
    "duration": 3,
    "start_time": "2022-02-21T07:13:59.675Z"
   },
   {
    "duration": 393,
    "start_time": "2022-02-21T07:13:59.680Z"
   },
   {
    "duration": 11,
    "start_time": "2022-02-21T07:14:00.075Z"
   },
   {
    "duration": 10,
    "start_time": "2022-02-21T07:14:00.088Z"
   },
   {
    "duration": 17,
    "start_time": "2022-02-21T07:14:00.100Z"
   },
   {
    "duration": 222,
    "start_time": "2022-02-21T07:14:00.118Z"
   },
   {
    "duration": 213,
    "start_time": "2022-02-21T07:14:00.346Z"
   },
   {
    "duration": 14,
    "start_time": "2022-02-21T07:14:00.561Z"
   },
   {
    "duration": 8,
    "start_time": "2022-02-21T07:14:00.577Z"
   },
   {
    "duration": 241,
    "start_time": "2022-02-21T07:14:00.587Z"
   },
   {
    "duration": 288,
    "start_time": "2022-02-21T07:14:00.830Z"
   },
   {
    "duration": 10,
    "start_time": "2022-02-21T07:14:01.120Z"
   },
   {
    "duration": 17,
    "start_time": "2022-02-21T07:14:01.131Z"
   },
   {
    "duration": 211,
    "start_time": "2022-02-21T07:14:01.149Z"
   },
   {
    "duration": 194,
    "start_time": "2022-02-21T07:14:01.362Z"
   },
   {
    "duration": 11,
    "start_time": "2022-02-21T07:14:01.558Z"
   },
   {
    "duration": 8,
    "start_time": "2022-02-21T07:14:01.570Z"
   },
   {
    "duration": 4,
    "start_time": "2022-02-21T07:14:01.580Z"
   },
   {
    "duration": 6,
    "start_time": "2022-02-21T07:14:01.586Z"
   },
   {
    "duration": 9,
    "start_time": "2022-02-21T07:14:01.593Z"
   },
   {
    "duration": 11,
    "start_time": "2022-02-21T07:14:01.604Z"
   },
   {
    "duration": 32,
    "start_time": "2022-02-21T07:14:01.617Z"
   },
   {
    "duration": 4,
    "start_time": "2022-02-21T07:14:01.650Z"
   },
   {
    "duration": 5,
    "start_time": "2022-02-21T07:14:01.655Z"
   },
   {
    "duration": 6,
    "start_time": "2022-02-21T07:14:01.662Z"
   },
   {
    "duration": 3,
    "start_time": "2022-02-21T07:15:44.244Z"
   },
   {
    "duration": 335,
    "start_time": "2022-02-21T07:24:26.193Z"
   },
   {
    "duration": 350,
    "start_time": "2022-02-21T07:29:38.620Z"
   },
   {
    "duration": 350,
    "start_time": "2022-02-21T07:30:11.896Z"
   },
   {
    "duration": 356,
    "start_time": "2022-02-21T07:30:21.939Z"
   },
   {
    "duration": 361,
    "start_time": "2022-02-21T07:30:48.077Z"
   },
   {
    "duration": 377,
    "start_time": "2022-02-21T07:30:53.099Z"
   },
   {
    "duration": 405,
    "start_time": "2022-02-21T07:31:53.028Z"
   },
   {
    "duration": 599,
    "start_time": "2022-02-21T07:32:28.639Z"
   },
   {
    "duration": 404,
    "start_time": "2022-02-21T07:33:10.798Z"
   },
   {
    "duration": 415,
    "start_time": "2022-02-21T07:33:34.131Z"
   },
   {
    "duration": 420,
    "start_time": "2022-02-21T07:36:06.190Z"
   },
   {
    "duration": 499,
    "start_time": "2022-02-21T07:38:17.220Z"
   },
   {
    "duration": 3,
    "start_time": "2022-02-21T07:51:58.930Z"
   },
   {
    "duration": 397,
    "start_time": "2022-02-21T07:51:58.935Z"
   },
   {
    "duration": 190,
    "start_time": "2022-02-21T07:51:59.334Z"
   },
   {
    "duration": 180,
    "start_time": "2022-02-21T07:51:59.525Z"
   },
   {
    "duration": 91,
    "start_time": "2022-02-21T07:51:59.707Z"
   },
   {
    "duration": 79,
    "start_time": "2022-02-21T07:51:59.799Z"
   },
   {
    "duration": 28,
    "start_time": "2022-02-21T07:51:59.879Z"
   },
   {
    "duration": 8,
    "start_time": "2022-02-21T07:51:59.908Z"
   },
   {
    "duration": 32,
    "start_time": "2022-02-21T07:51:59.918Z"
   },
   {
    "duration": 7,
    "start_time": "2022-02-21T07:51:59.952Z"
   },
   {
    "duration": 7,
    "start_time": "2022-02-21T07:51:59.961Z"
   },
   {
    "duration": 9,
    "start_time": "2022-02-21T07:51:59.970Z"
   },
   {
    "duration": 6,
    "start_time": "2022-02-21T07:51:59.981Z"
   },
   {
    "duration": 93,
    "start_time": "2022-02-21T07:51:59.989Z"
   },
   {
    "duration": 131,
    "start_time": "2022-02-21T07:52:00.084Z"
   },
   {
    "duration": 33,
    "start_time": "2022-02-21T07:52:00.217Z"
   },
   {
    "duration": 58,
    "start_time": "2022-02-21T07:52:00.252Z"
   },
   {
    "duration": 43,
    "start_time": "2022-02-21T07:52:00.312Z"
   },
   {
    "duration": 23,
    "start_time": "2022-02-21T07:52:00.356Z"
   },
   {
    "duration": 5,
    "start_time": "2022-02-21T07:52:00.381Z"
   },
   {
    "duration": 14,
    "start_time": "2022-02-21T07:52:00.388Z"
   },
   {
    "duration": 12,
    "start_time": "2022-02-21T07:52:00.404Z"
   },
   {
    "duration": 15,
    "start_time": "2022-02-21T07:52:00.417Z"
   },
   {
    "duration": 6,
    "start_time": "2022-02-21T07:52:00.446Z"
   },
   {
    "duration": 11,
    "start_time": "2022-02-21T07:52:00.454Z"
   },
   {
    "duration": 22,
    "start_time": "2022-02-21T07:52:00.466Z"
   },
   {
    "duration": 21,
    "start_time": "2022-02-21T07:52:00.491Z"
   },
   {
    "duration": 5,
    "start_time": "2022-02-21T07:52:00.514Z"
   },
   {
    "duration": 409,
    "start_time": "2022-02-21T07:52:00.520Z"
   },
   {
    "duration": 17,
    "start_time": "2022-02-21T07:52:00.931Z"
   },
   {
    "duration": 3,
    "start_time": "2022-02-21T07:52:00.950Z"
   },
   {
    "duration": 14,
    "start_time": "2022-02-21T07:52:00.955Z"
   },
   {
    "duration": 518,
    "start_time": "2022-02-21T07:52:00.970Z"
   },
   {
    "duration": 11,
    "start_time": "2022-02-21T07:52:01.489Z"
   },
   {
    "duration": 24,
    "start_time": "2022-02-21T07:52:01.501Z"
   },
   {
    "duration": 420,
    "start_time": "2022-02-21T07:52:01.526Z"
   },
   {
    "duration": 10,
    "start_time": "2022-02-21T07:52:01.947Z"
   },
   {
    "duration": 4,
    "start_time": "2022-02-21T07:52:01.959Z"
   },
   {
    "duration": 432,
    "start_time": "2022-02-21T07:52:01.964Z"
   },
   {
    "duration": 10,
    "start_time": "2022-02-21T07:52:02.397Z"
   },
   {
    "duration": 6,
    "start_time": "2022-02-21T07:52:02.408Z"
   },
   {
    "duration": 3,
    "start_time": "2022-02-21T07:52:02.416Z"
   },
   {
    "duration": 8,
    "start_time": "2022-02-21T07:52:02.421Z"
   },
   {
    "duration": 16,
    "start_time": "2022-02-21T07:52:02.431Z"
   },
   {
    "duration": 12,
    "start_time": "2022-02-21T07:52:02.448Z"
   },
   {
    "duration": 5,
    "start_time": "2022-02-21T07:52:02.462Z"
   },
   {
    "duration": 7,
    "start_time": "2022-02-21T07:52:02.468Z"
   },
   {
    "duration": 7,
    "start_time": "2022-02-21T07:52:02.476Z"
   },
   {
    "duration": 6,
    "start_time": "2022-02-21T07:52:02.485Z"
   }
  ],
  "kernelspec": {
   "display_name": "Python 3 (ipykernel)",
   "language": "python",
   "name": "python3"
  },
  "language_info": {
   "codemirror_mode": {
    "name": "ipython",
    "version": 3
   },
   "file_extension": ".py",
   "mimetype": "text/x-python",
   "name": "python",
   "nbconvert_exporter": "python",
   "pygments_lexer": "ipython3",
   "version": "3.9.5"
  },
  "toc": {
   "base_numbering": 1,
   "nav_menu": {},
   "number_sections": true,
   "sideBar": true,
   "skip_h1_title": false,
   "title_cell": "СОДЕРЖАНИЕ",
   "title_sidebar": "Contents",
   "toc_cell": true,
   "toc_position": {
    "height": "calc(100% - 180px)",
    "left": "10px",
    "top": "150px",
    "width": "192px"
   },
   "toc_section_display": true,
   "toc_window_display": true
  }
 },
 "nbformat": 4,
 "nbformat_minor": 5
}
