{
 "cells": [
  {
   "cell_type": "markdown",
   "metadata": {
    "toc": true
   },
   "source": [
    "<h1>Содержание<span class=\"tocSkip\"></span></h1>\n",
    "<div class=\"toc\"><ul class=\"toc-item\"><li><span><a href=\"#Загрузка-данных\" data-toc-modified-id=\"Загрузка-данных-1\"><span class=\"toc-item-num\">1&nbsp;&nbsp;</span>Загрузка данных</a></span><ul class=\"toc-item\"><li><span><a href=\"#Вывод\" data-toc-modified-id=\"Вывод-1.1\"><span class=\"toc-item-num\">1.1&nbsp;&nbsp;</span>Вывод</a></span></li></ul></li><li><span><a href=\"#Исследование-матричных-преобразований\" data-toc-modified-id=\"Исследование-матричных-преобразований-2\"><span class=\"toc-item-num\">2&nbsp;&nbsp;</span>Исследование матричных преобразований</a></span><ul class=\"toc-item\"><li><span><a href=\"#Вывод\" data-toc-modified-id=\"Вывод-2.1\"><span class=\"toc-item-num\">2.1&nbsp;&nbsp;</span>Вывод</a></span></li></ul></li><li><span><a href=\"#Разработка-алгоритма-преобразования\" data-toc-modified-id=\"Разработка-алгоритма-преобразования-3\"><span class=\"toc-item-num\">3&nbsp;&nbsp;</span>Разработка алгоритма преобразования</a></span></li><li><span><a href=\"#Проверка-алгоритма\" data-toc-modified-id=\"Проверка-алгоритма-4\"><span class=\"toc-item-num\">4&nbsp;&nbsp;</span>Проверка алгоритма</a></span><ul class=\"toc-item\"><li><span><a href=\"#Вывод\" data-toc-modified-id=\"Вывод-4.1\"><span class=\"toc-item-num\">4.1&nbsp;&nbsp;</span>Вывод</a></span></li></ul></li><li><span><a href=\"#Общий-вывод\" data-toc-modified-id=\"Общий-вывод-5\"><span class=\"toc-item-num\">5&nbsp;&nbsp;</span>Общий вывод</a></span></li></ul></div>"
   ]
  },
  {
   "cell_type": "markdown",
   "metadata": {},
   "source": [
    "# Защита персональных данных клиентов"
   ]
  },
  {
   "cell_type": "markdown",
   "metadata": {},
   "source": [
    "Необходимо разработать такой метод преобразования данных, при котором будет трудно восстановить изначальную информацию, а также не ухудшится качество полученной модели машинного обучения, подбирать наилучшую модель не требуется.\n",
    "\n",
    "Данные представлены в формате `.csv` и предварительно подготовлены к обработки.\n",
    "Проект будет выполнен в несколько этапов:\n",
    "* Загрузка данных;\n",
    "* Исследование матричных преобразований;\n",
    "* Разработка алгоритма преобразования;\n",
    "* Проверка алгоритма."
   ]
  },
  {
   "cell_type": "markdown",
   "metadata": {},
   "source": [
    "## Загрузка данных"
   ]
  },
  {
   "cell_type": "code",
   "execution_count": 1,
   "metadata": {},
   "outputs": [],
   "source": [
    "import pandas as pd\n",
    "\n",
    "import numpy as np\n",
    "\n",
    "from sklearn.linear_model import LinearRegression\n",
    "from sklearn.model_selection import train_test_split\n",
    "from sklearn.metrics import r2_score"
   ]
  },
  {
   "cell_type": "code",
   "execution_count": 2,
   "metadata": {},
   "outputs": [
    {
     "data": {
      "text/html": [
       "<div>\n",
       "<style scoped>\n",
       "    .dataframe tbody tr th:only-of-type {\n",
       "        vertical-align: middle;\n",
       "    }\n",
       "\n",
       "    .dataframe tbody tr th {\n",
       "        vertical-align: top;\n",
       "    }\n",
       "\n",
       "    .dataframe thead th {\n",
       "        text-align: right;\n",
       "    }\n",
       "</style>\n",
       "<table border=\"1\" class=\"dataframe\">\n",
       "  <thead>\n",
       "    <tr style=\"text-align: right;\">\n",
       "      <th></th>\n",
       "      <th>Пол</th>\n",
       "      <th>Возраст</th>\n",
       "      <th>Зарплата</th>\n",
       "      <th>Члены семьи</th>\n",
       "      <th>Страховые выплаты</th>\n",
       "    </tr>\n",
       "  </thead>\n",
       "  <tbody>\n",
       "    <tr>\n",
       "      <th>0</th>\n",
       "      <td>1</td>\n",
       "      <td>41.0</td>\n",
       "      <td>49600.0</td>\n",
       "      <td>1</td>\n",
       "      <td>0</td>\n",
       "    </tr>\n",
       "    <tr>\n",
       "      <th>1</th>\n",
       "      <td>0</td>\n",
       "      <td>46.0</td>\n",
       "      <td>38000.0</td>\n",
       "      <td>1</td>\n",
       "      <td>1</td>\n",
       "    </tr>\n",
       "    <tr>\n",
       "      <th>2</th>\n",
       "      <td>0</td>\n",
       "      <td>29.0</td>\n",
       "      <td>21000.0</td>\n",
       "      <td>0</td>\n",
       "      <td>0</td>\n",
       "    </tr>\n",
       "    <tr>\n",
       "      <th>3</th>\n",
       "      <td>0</td>\n",
       "      <td>21.0</td>\n",
       "      <td>41700.0</td>\n",
       "      <td>2</td>\n",
       "      <td>0</td>\n",
       "    </tr>\n",
       "    <tr>\n",
       "      <th>4</th>\n",
       "      <td>1</td>\n",
       "      <td>28.0</td>\n",
       "      <td>26100.0</td>\n",
       "      <td>0</td>\n",
       "      <td>0</td>\n",
       "    </tr>\n",
       "  </tbody>\n",
       "</table>\n",
       "</div>"
      ],
      "text/plain": [
       "   Пол  Возраст  Зарплата  Члены семьи  Страховые выплаты\n",
       "0    1     41.0   49600.0            1                  0\n",
       "1    0     46.0   38000.0            1                  1\n",
       "2    0     29.0   21000.0            0                  0\n",
       "3    0     21.0   41700.0            2                  0\n",
       "4    1     28.0   26100.0            0                  0"
      ]
     },
     "metadata": {},
     "output_type": "display_data"
    },
    {
     "name": "stdout",
     "output_type": "stream",
     "text": [
      "<class 'pandas.core.frame.DataFrame'>\n",
      "RangeIndex: 5000 entries, 0 to 4999\n",
      "Data columns (total 5 columns):\n",
      " #   Column             Non-Null Count  Dtype  \n",
      "---  ------             --------------  -----  \n",
      " 0   Пол                5000 non-null   int64  \n",
      " 1   Возраст            5000 non-null   float64\n",
      " 2   Зарплата           5000 non-null   float64\n",
      " 3   Члены семьи        5000 non-null   int64  \n",
      " 4   Страховые выплаты  5000 non-null   int64  \n",
      "dtypes: float64(2), int64(3)\n",
      "memory usage: 195.4 KB\n",
      "None\n"
     ]
    }
   ],
   "source": [
    "try:\n",
    "    df = pd.read_csv('/datasets/insurance.csv')\n",
    "except:\n",
    "    df = pd.read_csv('insurance.csv')\n",
    "display(df.head())\n",
    "print(df.info())"
   ]
  },
  {
   "cell_type": "markdown",
   "metadata": {},
   "source": [
    "### Вывод\n",
    "\n",
    "* Данные представлены в таблице;\n",
    "* Пропусков в данных нет;\n",
    "* Данные готовы к решению задачи."
   ]
  },
  {
   "cell_type": "markdown",
   "metadata": {},
   "source": [
    "## Исследование матричных преобразований"
   ]
  },
  {
   "cell_type": "markdown",
   "metadata": {},
   "source": [
    "Работа и обучение линейной регрессии описывается следующими матричными формулами:"
   ]
  },
  {
   "cell_type": "markdown",
   "metadata": {},
   "source": [
    "Предсказания:\n",
    "\n",
    "$$\n",
    "a = Xw\n",
    "$$\n",
    "\n",
    "\n",
    "\n",
    "Задача обучения:\n",
    "\n",
    "$$\n",
    "w = \\arg\\min_w MSE(Xw, y)\n",
    "$$\n",
    "\n",
    "Формула обучения:\n",
    "\n",
    "$$\n",
    "w = (X^T X)^{-1} X^T y\n",
    "$$"
   ]
  },
  {
   "cell_type": "markdown",
   "metadata": {},
   "source": [
    "Модифицированная матрица будет находится следующим образом:\n",
    "\n",
    "$$B=XP$$  \n",
    "* $P$ - матрица, на которую мы будем домножать наши данные - модифицирующая матрица, примем её обратимой;\n",
    "* $B$ - полученная модифицированная матрица признаков;\n",
    "* $X$ - исходная матрица;\n",
    "\n",
    "Рассмотрим предсказания, которые мы получим, используя модифицированные данные:\n",
    "\n",
    "$$\n",
    "a_1 = Bw_1\n",
    "$$\n",
    "\n",
    "* $a_1$ - новые предсказания;\n",
    "* $w_1$ - новый вектор коэффициентов, который мы получим при обучении на новых данных;\n",
    "\n",
    "Тогда, по определению найдём новый вектор $w_1$:\n",
    "\n",
    "$$\n",
    "w_1 = (B^T B)^{-1} B^T y\n",
    "$$\n",
    "\n",
    "Подставим $B$:\n",
    "\n",
    "$$\n",
    "w_1 = ((XP)^T (XP))^{-1} (XP)^T y \n",
    "$$\n",
    "\n",
    "Совершим ряд преобразований:\n",
    "\n",
    "$$\n",
    "w_1 = (P^T X^T X P)^{-1} P^T X^T y\n",
    "$$\n",
    "\n",
    "$$\n",
    "w_1 = ((P^T X^T X) P)^{-1} P^T X^T y\n",
    "$$\n",
    "\n",
    "$$\n",
    "w_1 = P^{-1} (P^T X^T X)^{-1} P^T X^T y\n",
    "$$\n",
    "\n",
    "$$\n",
    "w_1 = P^{-1} (X^T X)^{-1} (P^T)^{-1} P^T X^T y\n",
    "$$\n",
    "\n",
    "$$\n",
    "w_1 = P^{-1} (X^T X)^{-1} X^T y\n",
    "$$\n",
    "\n",
    "Заметим, что:\n",
    "\n",
    "$$\n",
    "(X^T X)^{-1} X^T y = w\n",
    "$$\n",
    "\n",
    "Сделаем замену и получим:\n",
    "\n",
    "$$\n",
    "w_1 = P^{-1} w\n",
    "$$\n",
    "\n",
    "Или:\n",
    "\n",
    "$$\n",
    "P w_1 = P^{-1} P w\n",
    "$$\n",
    "\n",
    "$$\n",
    "w = P w_1\n",
    "$$\n",
    "\n",
    "\n",
    "**Таким образом, новый вектор коэффициентов линейной регрессии $w_1$, полученный на модифицированной матрице признаков равен произведению обратной модифицирующей матрицы $P^{-1}$ на вектор коэффициентов линейной регрессии полученный на первоначальной матрице признаков $w$. В свою очередь, чтобы получить изначальные коэффициенты $w$ необходимо модифицирующую матрицу $P$ умножить на модифицированные коэффициенты $w_1$.**\n",
    "\n",
    "Теперь рассмотрим предсказания, которые мы получим при использовании нового вектора коэффициентов на модифицированной матрице признаков:\n",
    "\n",
    "$$\n",
    "a_1 = Bw_1\n",
    "$$\n",
    "\n",
    "$$\n",
    "a_1 = XPw_1\n",
    "$$\n",
    "\n",
    "$$\n",
    "a_1 = XPP^{-1} w\n",
    "$$\n",
    "\n",
    "$$\n",
    "a_1 = X w\n",
    "$$\n",
    "\n",
    "$$\n",
    "a_1 = a\n",
    "$$\n",
    "\n",
    "**Таким образом, предсказания полученные с помощью модифицированного вектора коэффициентов, и модифицированной матрице признаков, равны предсказаниям полученным с первоначальным вектором признаков и матрицей признаков.**\n",
    "\n",
    "Для того, чтобы все эти преобразования возможно было выполнить, матрица должна обладать следующими свойствами:\n",
    "* Обратимость;\n",
    "* Размерность должна быть равна количеству признаков;\n",
    "\n",
    "\n",
    "В свою очередь, чтобы матрица была обратима, она должна удовлетворять требованиям:\n",
    "* Матрица должна быть квадратной;\n",
    "* Строки матрицы должны быть линейно-независимы, то есть определитель такой матрицы не должен быть равен нулю.\n",
    "\n",
    "\n",
    "Нулевой столбец с единицами при этом нет смысла модифицировать, коэффициент при нём получится равным в обеих регрессиях."
   ]
  },
  {
   "cell_type": "markdown",
   "metadata": {},
   "source": [
    "### Вывод\n",
    "\n",
    "* Для того, чтобы зашифровать данные необходимо первоначальную матрицу умножить на любую обратимую матрицу, размер которой будет равен количеству столбцов признаков;\n",
    "* Для получения корректных предсказаний, матрицу (вектор) тестовых или же рабочих признаков также необходимо умножать на ту же модифицурующую матрицу;\n",
    "* Коэффициенты линейной регрессии, полученной на первоначальных данных и модифицированных данных связаны между собой, при этом, \n",
    "     новый вектор коэффициентов линейной регрессии $w_1$, полученный на модифицированной матрице признаков равен произведению обратной модифицирующей матрицы $P^{-1}$ на вектор коэффициентов линейной регрессии полученный на первоначальной матрице признаков $w$. В свою очередь, чтобы получить изначальные коэффициенты $w$ необходимо модифицирующую матрицу $P$ умножить на модифицированные коэффициенты $w_1$;\n",
    "* Нулевой столбец с единицами при этом нет смысла модифицировать, коэффициент при нём получится равным в обеих регрессиях."
   ]
  },
  {
   "cell_type": "markdown",
   "metadata": {},
   "source": [
    "## Разработка алгоритма преобразования"
   ]
  },
  {
   "cell_type": "markdown",
   "metadata": {},
   "source": [
    "Исходя из выводов прошлой главы, можно предложить следующий алгоритм преобразования:\n",
    "* Генерируем случайную квадратную матрицу, размерностью, равной количеству признаков;\n",
    "* Проверяем матрицу на обратимость;\n",
    "* Если матрица необратима, генерируем новую;\n",
    "* Сохраняем полученную обратимую матрицу, далее - модифицирующая матрица;\n",
    "* Умножаем наши признаки на модифицирующую матрицу:\n",
    "\n",
    "$$B_{train}=X_{train}P$$ \n",
    "\n",
    "* Решаем задачу регрессии с модифицированной матрицей признаков:\n",
    "\n",
    "$$w_1 = (B_{train}^T B_{train})^{-1} B_{train}^T y_{train}$$\n",
    "\n",
    "* Получаем модифицированные признаки:\n",
    "\n",
    "$$B_{test}=X_{test}P$$ \n",
    "\n",
    "* Получаем ответы:\n",
    "$$a_{test} = B_{test}w_1$$\n",
    "\n",
    "* Исходя из выводов предыдущей главы, полученные ответы будут такие же, как если бы мы получили их на первоначальных данных, соответственно качество линейной регрессии останется таким же.\n",
    "* Векторы коэффициентов будут связаны следующими отношениями:\n",
    "\n",
    "$$\n",
    "w_1 = P^{-1} w\n",
    "$$\n",
    "\n",
    "$$\n",
    "w = P w_1\n",
    "$$"
   ]
  },
  {
   "cell_type": "markdown",
   "metadata": {},
   "source": [
    "## Проверка алгоритма"
   ]
  },
  {
   "cell_type": "markdown",
   "metadata": {},
   "source": [
    "В этой главе мы реализуем предложенный алгоритм, а также проверим, изменится ли качество линейно регрессии, а также связь коэффициентов."
   ]
  },
  {
   "cell_type": "markdown",
   "metadata": {},
   "source": [
    "Выделим признаки и таргет:"
   ]
  },
  {
   "cell_type": "code",
   "execution_count": 3,
   "metadata": {},
   "outputs": [],
   "source": [
    "features = df.drop('Страховые выплаты', axis=1)\n",
    "target = df['Страховые выплаты']"
   ]
  },
  {
   "cell_type": "markdown",
   "metadata": {},
   "source": [
    "Разделим выборку на обучающую и тестовую:\n"
   ]
  },
  {
   "cell_type": "code",
   "execution_count": 4,
   "metadata": {},
   "outputs": [],
   "source": [
    "features_train, features_test, target_train, target_test = train_test_split(features,\n",
    "                                                                           target,\n",
    "                                                                           test_size=0.25,\n",
    "                                                                           random_state=12345\n",
    "                                                                           )"
   ]
  },
  {
   "cell_type": "markdown",
   "metadata": {},
   "source": [
    "Сгенерируем модифицирующую матрицу:"
   ]
  },
  {
   "cell_type": "code",
   "execution_count": 5,
   "metadata": {},
   "outputs": [],
   "source": [
    "flag = True\n",
    "\n",
    "while flag:\n",
    "    matr = np.random.normal(size=(features_train.shape[1],features_train.shape[1]))\n",
    "    try:\n",
    "        np.linalg.inv(matr)\n",
    "        flag=False\n",
    "        matr_mod = matr\n",
    "    except:\n",
    "        print('Пробуем заново')"
   ]
  },
  {
   "cell_type": "code",
   "execution_count": 6,
   "metadata": {},
   "outputs": [
    {
     "data": {
      "text/plain": [
       "array([[-0.33136925, -0.80543693,  0.07960193,  0.2265171 ],\n",
       "       [-1.04940937, -0.38152356, -0.43471874, -0.06118619],\n",
       "       [ 1.01000697,  1.21050046, -0.1355729 , -2.02113986],\n",
       "       [-0.00870904,  0.05960226, -1.05652656,  0.29332601]])"
      ]
     },
     "execution_count": 6,
     "metadata": {},
     "output_type": "execute_result"
    }
   ],
   "source": [
    "matr_mod"
   ]
  },
  {
   "cell_type": "markdown",
   "metadata": {},
   "source": [
    "Получим модифицированные матрицы:"
   ]
  },
  {
   "cell_type": "code",
   "execution_count": 7,
   "metadata": {},
   "outputs": [],
   "source": [
    "features_train_mod = np.dot(features_train.values, matr_mod)\n",
    "features_test_mod = np.dot(features_test.values, matr_mod)"
   ]
  },
  {
   "cell_type": "markdown",
   "metadata": {},
   "source": [
    "Обучим модель на первоначальной матрице признаков, сделаем предсказания на первоначальной тестовой матрице признаков и посчитаем показатель $R^2$:"
   ]
  },
  {
   "cell_type": "code",
   "execution_count": 8,
   "metadata": {},
   "outputs": [
    {
     "name": "stdout",
     "output_type": "stream",
     "text": [
      "Показатель качества на первоначальных данных: 0.44\n"
     ]
    }
   ],
   "source": [
    "model_simple = LinearRegression()\n",
    "model_simple.fit(features_train, target_train)\n",
    "predictions_simple = model_simple.predict(features_test)\n",
    "print(f'Показатель качества на первоначальных данных: {r2_score(target_test, predictions_simple):.2f}')"
   ]
  },
  {
   "cell_type": "markdown",
   "metadata": {},
   "source": [
    "Обучим модель на модифицированной матрице признаков, сделаем предсказаний на модифицированной тестовой матрцие и посчитаем показатель $R^2$:"
   ]
  },
  {
   "cell_type": "code",
   "execution_count": 9,
   "metadata": {},
   "outputs": [
    {
     "name": "stdout",
     "output_type": "stream",
     "text": [
      "Показатель качества на первоначальных данных: 0.44\n"
     ]
    }
   ],
   "source": [
    "model_mod = LinearRegression()\n",
    "model_mod.fit(features_train_mod, target_train)\n",
    "predictions_mod = model_mod.predict(features_test_mod)\n",
    "print(f'Показатель качества на первоначальных данных: {r2_score(target_test, predictions_mod):.2f}')"
   ]
  },
  {
   "cell_type": "markdown",
   "metadata": {},
   "source": [
    "Таким образом, качество не ухудшилось."
   ]
  },
  {
   "cell_type": "code",
   "execution_count": 10,
   "metadata": {},
   "outputs": [
    {
     "data": {
      "text/plain": [
       "array([0.17494798, 0.80523476, 0.45599281, ..., 0.3129923 , 0.34926113,\n",
       "       0.7886826 ])"
      ]
     },
     "execution_count": 10,
     "metadata": {},
     "output_type": "execute_result"
    }
   ],
   "source": [
    "predictions_simple"
   ]
  },
  {
   "cell_type": "code",
   "execution_count": 11,
   "metadata": {},
   "outputs": [
    {
     "data": {
      "text/plain": [
       "array([0.17494798, 0.80523476, 0.45599281, ..., 0.3129923 , 0.34926113,\n",
       "       0.7886826 ])"
      ]
     },
     "execution_count": 11,
     "metadata": {},
     "output_type": "execute_result"
    }
   ],
   "source": [
    "predictions_mod"
   ]
  },
  {
   "cell_type": "markdown",
   "metadata": {},
   "source": [
    "Коэффициенты первоначальной регрессии:"
   ]
  },
  {
   "cell_type": "code",
   "execution_count": 12,
   "metadata": {
    "scrolled": true
   },
   "outputs": [
    {
     "data": {
      "text/plain": [
       "array([ 1.79258369e-02,  3.57228278e-02, -5.46000708e-07, -1.26186590e-02])"
      ]
     },
     "execution_count": 12,
     "metadata": {},
     "output_type": "execute_result"
    }
   ],
   "source": [
    "coef_simple = model_simple.coef_\n",
    "coef_simple"
   ]
  },
  {
   "cell_type": "markdown",
   "metadata": {},
   "source": [
    "Коэффициенты модифицированной регрессии:"
   ]
  },
  {
   "cell_type": "code",
   "execution_count": 13,
   "metadata": {},
   "outputs": [
    {
     "data": {
      "text/plain": [
       "array([-0.02816918, -0.01716852,  0.00436309, -0.0246517 ])"
      ]
     },
     "execution_count": 13,
     "metadata": {},
     "output_type": "execute_result"
    }
   ],
   "source": [
    "coef_mod = model_mod.coef_\n",
    "coef_mod"
   ]
  },
  {
   "cell_type": "markdown",
   "metadata": {},
   "source": [
    "Проверим их связь, найдём коэффициенты изначальной регрессии через модифицирующую матрицу:"
   ]
  },
  {
   "cell_type": "code",
   "execution_count": 14,
   "metadata": {},
   "outputs": [
    {
     "data": {
      "text/plain": [
       "array([ 1.79258369e-02,  3.57228278e-02, -5.46000708e-07, -1.26186590e-02])"
      ]
     },
     "execution_count": 14,
     "metadata": {},
     "output_type": "execute_result"
    }
   ],
   "source": [
    "coef_simple_calc = np.dot(matr_mod, coef_mod)\n",
    "coef_simple_calc"
   ]
  },
  {
   "cell_type": "markdown",
   "metadata": {},
   "source": [
    "Полученные при умножении коэффициенты равны коэффициентам изначальной регрессии."
   ]
  },
  {
   "cell_type": "markdown",
   "metadata": {},
   "source": [
    "Коэффициент при свободном члене при этом оказывается равным в обеих регрессиях:"
   ]
  },
  {
   "cell_type": "code",
   "execution_count": 21,
   "metadata": {},
   "outputs": [
    {
     "name": "stdout",
     "output_type": "stream",
     "text": [
      "Коэффициент при свободном члене в первоначальной модели -0.9321366751688056\n",
      "Коэффициент при свободном члене в модифицированной модели -0.9321366751682496\n"
     ]
    }
   ],
   "source": [
    "print(f'Коэффициент при свободном члене в первоначальной модели {model_simple.intercept_}')\n",
    "print(f'Коэффициент при свободном члене в модифицированной модели {model_mod.intercept_}')"
   ]
  },
  {
   "cell_type": "markdown",
   "metadata": {},
   "source": [
    "Найдем согласно формуле, полученной в 2 главе, коэффициенты модифицированной регрессии через коэффициенты изначальной:"
   ]
  },
  {
   "cell_type": "code",
   "execution_count": 15,
   "metadata": {},
   "outputs": [
    {
     "data": {
      "text/plain": [
       "array([-0.02816918, -0.01716852,  0.00436309, -0.0246517 ])"
      ]
     },
     "execution_count": 15,
     "metadata": {},
     "output_type": "execute_result"
    }
   ],
   "source": [
    "coef_mod_calc = np.dot(np.linalg.inv(matr_mod), coef_simple)\n",
    "coef_mod_calc"
   ]
  },
  {
   "cell_type": "code",
   "execution_count": 16,
   "metadata": {},
   "outputs": [
    {
     "data": {
      "text/html": [
       "<div>\n",
       "<style scoped>\n",
       "    .dataframe tbody tr th:only-of-type {\n",
       "        vertical-align: middle;\n",
       "    }\n",
       "\n",
       "    .dataframe tbody tr th {\n",
       "        vertical-align: top;\n",
       "    }\n",
       "\n",
       "    .dataframe thead th {\n",
       "        text-align: right;\n",
       "    }\n",
       "</style>\n",
       "<table border=\"1\" class=\"dataframe\">\n",
       "  <thead>\n",
       "    <tr style=\"text-align: right;\">\n",
       "      <th></th>\n",
       "      <th>0</th>\n",
       "      <th>1</th>\n",
       "      <th>2</th>\n",
       "      <th>3</th>\n",
       "    </tr>\n",
       "  </thead>\n",
       "  <tbody>\n",
       "    <tr>\n",
       "      <th>coef_simple</th>\n",
       "      <td>0.017926</td>\n",
       "      <td>0.035723</td>\n",
       "      <td>-5.460007e-07</td>\n",
       "      <td>-0.012619</td>\n",
       "    </tr>\n",
       "    <tr>\n",
       "      <th>coef_simple_calc</th>\n",
       "      <td>0.017926</td>\n",
       "      <td>0.035723</td>\n",
       "      <td>-5.460007e-07</td>\n",
       "      <td>-0.012619</td>\n",
       "    </tr>\n",
       "    <tr>\n",
       "      <th>coef_mod</th>\n",
       "      <td>-0.028169</td>\n",
       "      <td>-0.017169</td>\n",
       "      <td>4.363087e-03</td>\n",
       "      <td>-0.024652</td>\n",
       "    </tr>\n",
       "    <tr>\n",
       "      <th>coef_mod_calc</th>\n",
       "      <td>-0.028169</td>\n",
       "      <td>-0.017169</td>\n",
       "      <td>4.363087e-03</td>\n",
       "      <td>-0.024652</td>\n",
       "    </tr>\n",
       "  </tbody>\n",
       "</table>\n",
       "</div>"
      ],
      "text/plain": [
       "                         0         1             2         3\n",
       "coef_simple       0.017926  0.035723 -5.460007e-07 -0.012619\n",
       "coef_simple_calc  0.017926  0.035723 -5.460007e-07 -0.012619\n",
       "coef_mod         -0.028169 -0.017169  4.363087e-03 -0.024652\n",
       "coef_mod_calc    -0.028169 -0.017169  4.363087e-03 -0.024652"
      ]
     },
     "execution_count": 16,
     "metadata": {},
     "output_type": "execute_result"
    }
   ],
   "source": [
    "pd.DataFrame([coef_simple, coef_simple_calc, coef_mod, coef_mod_calc],\n",
    "             index=['coef_simple',\n",
    "                   'coef_simple_calc',\n",
    "                   'coef_mod',\n",
    "                   'coef_mod_calc'])"
   ]
  },
  {
   "cell_type": "markdown",
   "metadata": {},
   "source": [
    "Расчётные коэффициенты при наших признаках совпадают с полученными при обучении, можно сделать вывод, что формулы верны."
   ]
  },
  {
   "cell_type": "markdown",
   "metadata": {},
   "source": [
    "### Вывод\n",
    "\n",
    "* Реализация и проверка алгоритма, полученного в главе 3, подтвердила его корректность.\n",
    "* Качество моделей полученных до и после преобразования - совпадают.\n",
    "* Коэффициенты при свободных членах оказываются равны."
   ]
  },
  {
   "cell_type": "markdown",
   "metadata": {},
   "source": [
    "## Общий вывод"
   ]
  },
  {
   "cell_type": "markdown",
   "metadata": {},
   "source": [
    "* Данные представлены в таблице;\n",
    "* Пропусков в данных нет;\n",
    "* Данные готовы к решению задачи.\n",
    "* Теоретическое исследование показало:\n",
    "    * Для того, чтобы зашифровать данные необходимо первоначальную матрицу умножить на любую обратимую матрицу, размер которой будет равен количеству столбцов признаков;\n",
    "    * Для получения корректных предсказаний, матрицу (вектор) тестовых или же рабочих признаков также необходимо умножать на ту же модифицурующую матрицу;\n",
    "    * Для того, чтобы зашифровать данные необходимо первоначальную матрицу умножить на любую обратимую матрицу, размер которой будет равен количеству столбцов признаков;\n",
    "* Для получения корректных предсказаний, матрицу (вектор) тестовых или же рабочих признаков также необходимо умножать на ту же модифицурующую матрицу;\n",
    "    * Коэффициенты линейной регрессии, полученной на первоначальных данных и модифицированных данных связаны между собой, при этом, \n",
    "      новый вектор коэффициентов линейной регрессии $w_1$, полученный на модифицированной матрице признаков равен произведению обратной модифицирующей матрицы $P^{-1}$ на вектор коэффициентов линейной регрессии полученный на первоначальной матрице признаков $w$. В свою очередь, чтобы получить изначальные коэффициенты $w$ необходимо модифицирующую матрицу $P$ умножить на модифицированные коэффициенты $w_1$\n",
    "* Реализация и проверка алгоритма, полученного в главе 3, подтвердила его корректность. \n",
    "* Качество моделей полученных до и после преобразования совпадают.\n",
    "* Коэффициенты при свободных членах оказываются равны."
   ]
  }
 ],
 "metadata": {
  "ExecuteTimeLog": [
   {
    "duration": 52,
    "start_time": "2022-05-04T17:30:53.214Z"
   },
   {
    "duration": 529,
    "start_time": "2022-05-04T17:30:55.228Z"
   },
   {
    "duration": 31,
    "start_time": "2022-05-04T17:30:55.759Z"
   },
   {
    "duration": 3,
    "start_time": "2022-05-04T17:44:08.065Z"
   },
   {
    "duration": 3,
    "start_time": "2022-05-04T17:44:21.563Z"
   },
   {
    "duration": 6,
    "start_time": "2022-05-04T17:44:26.115Z"
   },
   {
    "duration": 357,
    "start_time": "2022-05-04T17:45:11.698Z"
   },
   {
    "duration": 428,
    "start_time": "2022-05-05T16:34:46.403Z"
   },
   {
    "duration": 27,
    "start_time": "2022-05-05T16:34:46.836Z"
   },
   {
    "duration": 4,
    "start_time": "2022-05-05T16:34:46.865Z"
   },
   {
    "duration": 224,
    "start_time": "2022-05-05T16:34:46.871Z"
   },
   {
    "duration": 2,
    "start_time": "2022-05-05T16:39:39.369Z"
   },
   {
    "duration": 28,
    "start_time": "2022-05-05T16:39:39.373Z"
   },
   {
    "duration": 17,
    "start_time": "2022-05-05T16:39:39.403Z"
   },
   {
    "duration": 0,
    "start_time": "2022-05-05T16:39:39.421Z"
   }
  ],
  "kernelspec": {
   "display_name": "Python 3 (ipykernel)",
   "language": "python",
   "name": "python3"
  },
  "language_info": {
   "codemirror_mode": {
    "name": "ipython",
    "version": 3
   },
   "file_extension": ".py",
   "mimetype": "text/x-python",
   "name": "python",
   "nbconvert_exporter": "python",
   "pygments_lexer": "ipython3",
   "version": "3.9.5"
  },
  "toc": {
   "base_numbering": 1,
   "nav_menu": {},
   "number_sections": true,
   "sideBar": true,
   "skip_h1_title": true,
   "title_cell": "Содержание",
   "title_sidebar": "Contents",
   "toc_cell": true,
   "toc_position": {
    "height": "calc(100% - 180px)",
    "left": "10px",
    "top": "150px",
    "width": "384px"
   },
   "toc_section_display": true,
   "toc_window_display": true
  }
 },
 "nbformat": 4,
 "nbformat_minor": 2
}
