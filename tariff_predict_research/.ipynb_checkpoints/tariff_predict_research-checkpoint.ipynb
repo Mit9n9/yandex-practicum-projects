{
 "cells": [
  {
   "cell_type": "markdown",
   "metadata": {},
   "source": [
    "# Рекомендация тарифов"
   ]
  },
  {
   "cell_type": "markdown",
   "metadata": {},
   "source": [
    "В данном проекте используются данные о поведении клиентов, которые уже перешли на эти тарифы. Нужно построить модель для задачи классификации, которая выберет подходящий тариф. Данные предобработаны.\n",
    "\n",
    "Необходимо построить модель с значением *accuracy* больше 0.75."
   ]
  },
  {
   "cell_type": "markdown",
   "metadata": {},
   "source": [
    "## Откройте и изучите файл"
   ]
  },
  {
   "cell_type": "code",
   "execution_count": 1,
   "metadata": {},
   "outputs": [],
   "source": [
    "import pandas as pd\n",
    "import numpy as np\n",
    "import random\n",
    "from sklearn.model_selection import train_test_split\n",
    "from sklearn.tree import DecisionTreeClassifier\n",
    "from sklearn.model_selection import GridSearchCV\n",
    "from sklearn.ensemble import RandomForestClassifier\n",
    "from sklearn.model_selection import RandomizedSearchCV\n",
    "from sklearn.linear_model import LogisticRegression\n",
    "from sklearn.metrics import accuracy_score\n",
    "from sklearn.ensemble import GradientBoostingClassifier\n",
    "from xgboost import XGBClassifier\n",
    "import matplotlib.pyplot as plt\n",
    "from sklearn.dummy import DummyClassifier"
   ]
  },
  {
   "cell_type": "code",
   "execution_count": 2,
   "metadata": {},
   "outputs": [],
   "source": [
    "df = pd.read_csv('users_behavior.csv')"
   ]
  },
  {
   "cell_type": "code",
   "execution_count": 3,
   "metadata": {},
   "outputs": [
    {
     "data": {
      "text/html": [
       "<div>\n",
       "<style scoped>\n",
       "    .dataframe tbody tr th:only-of-type {\n",
       "        vertical-align: middle;\n",
       "    }\n",
       "\n",
       "    .dataframe tbody tr th {\n",
       "        vertical-align: top;\n",
       "    }\n",
       "\n",
       "    .dataframe thead th {\n",
       "        text-align: right;\n",
       "    }\n",
       "</style>\n",
       "<table border=\"1\" class=\"dataframe\">\n",
       "  <thead>\n",
       "    <tr style=\"text-align: right;\">\n",
       "      <th></th>\n",
       "      <th>calls</th>\n",
       "      <th>minutes</th>\n",
       "      <th>messages</th>\n",
       "      <th>mb_used</th>\n",
       "      <th>is_ultra</th>\n",
       "    </tr>\n",
       "  </thead>\n",
       "  <tbody>\n",
       "    <tr>\n",
       "      <th>0</th>\n",
       "      <td>40.0</td>\n",
       "      <td>311.90</td>\n",
       "      <td>83.0</td>\n",
       "      <td>19915.42</td>\n",
       "      <td>0</td>\n",
       "    </tr>\n",
       "    <tr>\n",
       "      <th>1</th>\n",
       "      <td>85.0</td>\n",
       "      <td>516.75</td>\n",
       "      <td>56.0</td>\n",
       "      <td>22696.96</td>\n",
       "      <td>0</td>\n",
       "    </tr>\n",
       "    <tr>\n",
       "      <th>2</th>\n",
       "      <td>77.0</td>\n",
       "      <td>467.66</td>\n",
       "      <td>86.0</td>\n",
       "      <td>21060.45</td>\n",
       "      <td>0</td>\n",
       "    </tr>\n",
       "    <tr>\n",
       "      <th>3</th>\n",
       "      <td>106.0</td>\n",
       "      <td>745.53</td>\n",
       "      <td>81.0</td>\n",
       "      <td>8437.39</td>\n",
       "      <td>1</td>\n",
       "    </tr>\n",
       "    <tr>\n",
       "      <th>4</th>\n",
       "      <td>66.0</td>\n",
       "      <td>418.74</td>\n",
       "      <td>1.0</td>\n",
       "      <td>14502.75</td>\n",
       "      <td>0</td>\n",
       "    </tr>\n",
       "  </tbody>\n",
       "</table>\n",
       "</div>"
      ],
      "text/plain": [
       "   calls  minutes  messages   mb_used  is_ultra\n",
       "0   40.0   311.90      83.0  19915.42         0\n",
       "1   85.0   516.75      56.0  22696.96         0\n",
       "2   77.0   467.66      86.0  21060.45         0\n",
       "3  106.0   745.53      81.0   8437.39         1\n",
       "4   66.0   418.74       1.0  14502.75         0"
      ]
     },
     "execution_count": 3,
     "metadata": {},
     "output_type": "execute_result"
    }
   ],
   "source": [
    "df.head()"
   ]
  },
  {
   "cell_type": "code",
   "execution_count": 4,
   "metadata": {},
   "outputs": [
    {
     "data": {
      "text/plain": [
       "2229"
      ]
     },
     "execution_count": 4,
     "metadata": {},
     "output_type": "execute_result"
    }
   ],
   "source": [
    "len(df.query('is_ultra == 0'))"
   ]
  },
  {
   "cell_type": "code",
   "execution_count": 5,
   "metadata": {},
   "outputs": [
    {
     "data": {
      "text/plain": [
       "985"
      ]
     },
     "execution_count": 5,
     "metadata": {},
     "output_type": "execute_result"
    }
   ],
   "source": [
    "len(df.query('is_ultra == 1'))"
   ]
  },
  {
   "cell_type": "code",
   "execution_count": 38,
   "metadata": {},
   "outputs": [
    {
     "name": "stdout",
     "output_type": "stream",
     "text": [
      "<class 'pandas.core.frame.DataFrame'>\n",
      "RangeIndex: 3214 entries, 0 to 3213\n",
      "Data columns (total 5 columns):\n",
      " #   Column    Non-Null Count  Dtype  \n",
      "---  ------    --------------  -----  \n",
      " 0   calls     3214 non-null   float64\n",
      " 1   minutes   3214 non-null   float64\n",
      " 2   messages  3214 non-null   float64\n",
      " 3   mb_used   3214 non-null   float64\n",
      " 4   is_ultra  3214 non-null   int64  \n",
      "dtypes: float64(4), int64(1)\n",
      "memory usage: 125.7 KB\n"
     ]
    }
   ],
   "source": [
    "df.info()"
   ]
  },
  {
   "cell_type": "markdown",
   "metadata": {},
   "source": [
    "### Вывод"
   ]
  },
  {
   "cell_type": "markdown",
   "metadata": {},
   "source": [
    "В данном случае у нас предикторы: `'calls'`, `'minutes'`, `'messages'`, `'mb_used'`, а целевой показатель в столбце `'is_ultra'`. Предсказать необходимо категориальные данные -  выбрать между двумя тарифами, поэтому перед нами задача классификации. \n",
    "\n",
    "В нашем распоряжении только один датасет, поэтому его необходимо разделить на несколько частей - учебную выборку, выборку валидации и тестовую выборку."
   ]
  },
  {
   "cell_type": "markdown",
   "metadata": {},
   "source": [
    "## Разбейте данные на выборки"
   ]
  },
  {
   "cell_type": "markdown",
   "metadata": {},
   "source": [
    "Разделим таблицу на предикторы и целевые значения:"
   ]
  },
  {
   "cell_type": "code",
   "execution_count": 6,
   "metadata": {},
   "outputs": [],
   "source": [
    "features = df.drop('is_ultra', axis=1) # предикторы\n",
    "target = df['is_ultra'] # цель"
   ]
  },
  {
   "cell_type": "markdown",
   "metadata": {},
   "source": [
    "Нам необходимо получить 3 выборки, будем использовать соотношение `3:1:1` - обучающая, валидации и тестовая соответственно.\n",
    "\n",
    "Для этого выделим сперва тестовую, то есть пятую часть изначального датасета:"
   ]
  },
  {
   "cell_type": "code",
   "execution_count": 7,
   "metadata": {},
   "outputs": [],
   "source": [
    "\n",
    "train_valid_features, test_features, train_valid_target, test_target  = train_test_split(features,\n",
    "                                                                                        target,\n",
    "                                                                                        test_size=.2,\n",
    "                                                                                        random_state=12345\n",
    "                                                                                        )"
   ]
  },
  {
   "cell_type": "code",
   "execution_count": 8,
   "metadata": {},
   "outputs": [
    {
     "data": {
      "text/plain": [
       "1415    1\n",
       "916     0\n",
       "1670    0\n",
       "686     1\n",
       "2951    0\n",
       "       ..\n",
       "2061    0\n",
       "1510    0\n",
       "2215    0\n",
       "664     1\n",
       "1196    0\n",
       "Name: is_ultra, Length: 643, dtype: int64"
      ]
     },
     "execution_count": 8,
     "metadata": {},
     "output_type": "execute_result"
    }
   ],
   "source": [
    "test_target"
   ]
  },
  {
   "cell_type": "code",
   "execution_count": 9,
   "metadata": {},
   "outputs": [
    {
     "data": {
      "text/html": [
       "<div>\n",
       "<style scoped>\n",
       "    .dataframe tbody tr th:only-of-type {\n",
       "        vertical-align: middle;\n",
       "    }\n",
       "\n",
       "    .dataframe tbody tr th {\n",
       "        vertical-align: top;\n",
       "    }\n",
       "\n",
       "    .dataframe thead th {\n",
       "        text-align: right;\n",
       "    }\n",
       "</style>\n",
       "<table border=\"1\" class=\"dataframe\">\n",
       "  <thead>\n",
       "    <tr style=\"text-align: right;\">\n",
       "      <th></th>\n",
       "      <th>calls</th>\n",
       "      <th>minutes</th>\n",
       "      <th>messages</th>\n",
       "      <th>mb_used</th>\n",
       "    </tr>\n",
       "  </thead>\n",
       "  <tbody>\n",
       "    <tr>\n",
       "      <th>1415</th>\n",
       "      <td>82.0</td>\n",
       "      <td>507.89</td>\n",
       "      <td>88.0</td>\n",
       "      <td>17543.37</td>\n",
       "    </tr>\n",
       "    <tr>\n",
       "      <th>916</th>\n",
       "      <td>50.0</td>\n",
       "      <td>375.91</td>\n",
       "      <td>35.0</td>\n",
       "      <td>12388.40</td>\n",
       "    </tr>\n",
       "    <tr>\n",
       "      <th>1670</th>\n",
       "      <td>83.0</td>\n",
       "      <td>540.49</td>\n",
       "      <td>41.0</td>\n",
       "      <td>9127.74</td>\n",
       "    </tr>\n",
       "    <tr>\n",
       "      <th>686</th>\n",
       "      <td>79.0</td>\n",
       "      <td>562.99</td>\n",
       "      <td>19.0</td>\n",
       "      <td>25508.19</td>\n",
       "    </tr>\n",
       "    <tr>\n",
       "      <th>2951</th>\n",
       "      <td>78.0</td>\n",
       "      <td>531.29</td>\n",
       "      <td>20.0</td>\n",
       "      <td>9217.25</td>\n",
       "    </tr>\n",
       "    <tr>\n",
       "      <th>...</th>\n",
       "      <td>...</td>\n",
       "      <td>...</td>\n",
       "      <td>...</td>\n",
       "      <td>...</td>\n",
       "    </tr>\n",
       "    <tr>\n",
       "      <th>2061</th>\n",
       "      <td>66.0</td>\n",
       "      <td>478.48</td>\n",
       "      <td>0.0</td>\n",
       "      <td>16962.58</td>\n",
       "    </tr>\n",
       "    <tr>\n",
       "      <th>1510</th>\n",
       "      <td>40.0</td>\n",
       "      <td>334.24</td>\n",
       "      <td>91.0</td>\n",
       "      <td>11304.14</td>\n",
       "    </tr>\n",
       "    <tr>\n",
       "      <th>2215</th>\n",
       "      <td>62.0</td>\n",
       "      <td>436.68</td>\n",
       "      <td>52.0</td>\n",
       "      <td>12311.24</td>\n",
       "    </tr>\n",
       "    <tr>\n",
       "      <th>664</th>\n",
       "      <td>117.0</td>\n",
       "      <td>739.27</td>\n",
       "      <td>124.0</td>\n",
       "      <td>22818.56</td>\n",
       "    </tr>\n",
       "    <tr>\n",
       "      <th>1196</th>\n",
       "      <td>66.0</td>\n",
       "      <td>461.84</td>\n",
       "      <td>85.0</td>\n",
       "      <td>14264.14</td>\n",
       "    </tr>\n",
       "  </tbody>\n",
       "</table>\n",
       "<p>643 rows × 4 columns</p>\n",
       "</div>"
      ],
      "text/plain": [
       "      calls  minutes  messages   mb_used\n",
       "1415   82.0   507.89      88.0  17543.37\n",
       "916    50.0   375.91      35.0  12388.40\n",
       "1670   83.0   540.49      41.0   9127.74\n",
       "686    79.0   562.99      19.0  25508.19\n",
       "2951   78.0   531.29      20.0   9217.25\n",
       "...     ...      ...       ...       ...\n",
       "2061   66.0   478.48       0.0  16962.58\n",
       "1510   40.0   334.24      91.0  11304.14\n",
       "2215   62.0   436.68      52.0  12311.24\n",
       "664   117.0   739.27     124.0  22818.56\n",
       "1196   66.0   461.84      85.0  14264.14\n",
       "\n",
       "[643 rows x 4 columns]"
      ]
     },
     "execution_count": 9,
     "metadata": {},
     "output_type": "execute_result"
    }
   ],
   "source": [
    "test_features"
   ]
  },
  {
   "cell_type": "markdown",
   "metadata": {},
   "source": [
    "Теперь разделим большую часть ещё на 2 части - обучающую и валидации:"
   ]
  },
  {
   "cell_type": "code",
   "execution_count": 10,
   "metadata": {},
   "outputs": [],
   "source": [
    "train_features, valid_features, train_target, valid_target = train_test_split(train_valid_features,\n",
    "                                                                             train_valid_target,\n",
    "                                                                             test_size=.25,\n",
    "                                                                             random_state=12345\n",
    "                                                                             )"
   ]
  },
  {
   "cell_type": "code",
   "execution_count": 11,
   "metadata": {},
   "outputs": [
    {
     "data": {
      "text/html": [
       "<div>\n",
       "<style scoped>\n",
       "    .dataframe tbody tr th:only-of-type {\n",
       "        vertical-align: middle;\n",
       "    }\n",
       "\n",
       "    .dataframe tbody tr th {\n",
       "        vertical-align: top;\n",
       "    }\n",
       "\n",
       "    .dataframe thead th {\n",
       "        text-align: right;\n",
       "    }\n",
       "</style>\n",
       "<table border=\"1\" class=\"dataframe\">\n",
       "  <thead>\n",
       "    <tr style=\"text-align: right;\">\n",
       "      <th></th>\n",
       "      <th>calls</th>\n",
       "      <th>minutes</th>\n",
       "      <th>messages</th>\n",
       "      <th>mb_used</th>\n",
       "    </tr>\n",
       "  </thead>\n",
       "  <tbody>\n",
       "    <tr>\n",
       "      <th>2656</th>\n",
       "      <td>30.0</td>\n",
       "      <td>185.07</td>\n",
       "      <td>34.0</td>\n",
       "      <td>17166.53</td>\n",
       "    </tr>\n",
       "    <tr>\n",
       "      <th>823</th>\n",
       "      <td>42.0</td>\n",
       "      <td>290.69</td>\n",
       "      <td>77.0</td>\n",
       "      <td>21507.03</td>\n",
       "    </tr>\n",
       "    <tr>\n",
       "      <th>2566</th>\n",
       "      <td>41.0</td>\n",
       "      <td>289.83</td>\n",
       "      <td>15.0</td>\n",
       "      <td>22151.73</td>\n",
       "    </tr>\n",
       "    <tr>\n",
       "      <th>1451</th>\n",
       "      <td>45.0</td>\n",
       "      <td>333.49</td>\n",
       "      <td>50.0</td>\n",
       "      <td>17275.47</td>\n",
       "    </tr>\n",
       "    <tr>\n",
       "      <th>2953</th>\n",
       "      <td>43.0</td>\n",
       "      <td>300.39</td>\n",
       "      <td>69.0</td>\n",
       "      <td>17277.83</td>\n",
       "    </tr>\n",
       "    <tr>\n",
       "      <th>...</th>\n",
       "      <td>...</td>\n",
       "      <td>...</td>\n",
       "      <td>...</td>\n",
       "      <td>...</td>\n",
       "    </tr>\n",
       "    <tr>\n",
       "      <th>1043</th>\n",
       "      <td>106.0</td>\n",
       "      <td>796.79</td>\n",
       "      <td>23.0</td>\n",
       "      <td>42250.70</td>\n",
       "    </tr>\n",
       "    <tr>\n",
       "      <th>2132</th>\n",
       "      <td>18.0</td>\n",
       "      <td>117.80</td>\n",
       "      <td>0.0</td>\n",
       "      <td>10006.79</td>\n",
       "    </tr>\n",
       "    <tr>\n",
       "      <th>1642</th>\n",
       "      <td>87.0</td>\n",
       "      <td>583.02</td>\n",
       "      <td>1.0</td>\n",
       "      <td>11213.97</td>\n",
       "    </tr>\n",
       "    <tr>\n",
       "      <th>1495</th>\n",
       "      <td>63.0</td>\n",
       "      <td>408.68</td>\n",
       "      <td>63.0</td>\n",
       "      <td>24970.26</td>\n",
       "    </tr>\n",
       "    <tr>\n",
       "      <th>510</th>\n",
       "      <td>83.0</td>\n",
       "      <td>597.83</td>\n",
       "      <td>0.0</td>\n",
       "      <td>16273.02</td>\n",
       "    </tr>\n",
       "  </tbody>\n",
       "</table>\n",
       "<p>1928 rows × 4 columns</p>\n",
       "</div>"
      ],
      "text/plain": [
       "      calls  minutes  messages   mb_used\n",
       "2656   30.0   185.07      34.0  17166.53\n",
       "823    42.0   290.69      77.0  21507.03\n",
       "2566   41.0   289.83      15.0  22151.73\n",
       "1451   45.0   333.49      50.0  17275.47\n",
       "2953   43.0   300.39      69.0  17277.83\n",
       "...     ...      ...       ...       ...\n",
       "1043  106.0   796.79      23.0  42250.70\n",
       "2132   18.0   117.80       0.0  10006.79\n",
       "1642   87.0   583.02       1.0  11213.97\n",
       "1495   63.0   408.68      63.0  24970.26\n",
       "510    83.0   597.83       0.0  16273.02\n",
       "\n",
       "[1928 rows x 4 columns]"
      ]
     },
     "execution_count": 11,
     "metadata": {},
     "output_type": "execute_result"
    }
   ],
   "source": [
    "train_features"
   ]
  },
  {
   "cell_type": "code",
   "execution_count": 12,
   "metadata": {},
   "outputs": [
    {
     "data": {
      "text/plain": [
       "2656    0\n",
       "823     0\n",
       "2566    0\n",
       "1451    0\n",
       "2953    0\n",
       "       ..\n",
       "1043    1\n",
       "2132    1\n",
       "1642    0\n",
       "1495    0\n",
       "510     0\n",
       "Name: is_ultra, Length: 1928, dtype: int64"
      ]
     },
     "execution_count": 12,
     "metadata": {},
     "output_type": "execute_result"
    }
   ],
   "source": [
    "train_target"
   ]
  },
  {
   "cell_type": "code",
   "execution_count": 13,
   "metadata": {},
   "outputs": [
    {
     "data": {
      "text/html": [
       "<div>\n",
       "<style scoped>\n",
       "    .dataframe tbody tr th:only-of-type {\n",
       "        vertical-align: middle;\n",
       "    }\n",
       "\n",
       "    .dataframe tbody tr th {\n",
       "        vertical-align: top;\n",
       "    }\n",
       "\n",
       "    .dataframe thead th {\n",
       "        text-align: right;\n",
       "    }\n",
       "</style>\n",
       "<table border=\"1\" class=\"dataframe\">\n",
       "  <thead>\n",
       "    <tr style=\"text-align: right;\">\n",
       "      <th></th>\n",
       "      <th>calls</th>\n",
       "      <th>minutes</th>\n",
       "      <th>messages</th>\n",
       "      <th>mb_used</th>\n",
       "    </tr>\n",
       "  </thead>\n",
       "  <tbody>\n",
       "    <tr>\n",
       "      <th>2699</th>\n",
       "      <td>71.0</td>\n",
       "      <td>512.53</td>\n",
       "      <td>27.0</td>\n",
       "      <td>15772.68</td>\n",
       "    </tr>\n",
       "    <tr>\n",
       "      <th>242</th>\n",
       "      <td>183.0</td>\n",
       "      <td>1247.04</td>\n",
       "      <td>150.0</td>\n",
       "      <td>29186.41</td>\n",
       "    </tr>\n",
       "    <tr>\n",
       "      <th>2854</th>\n",
       "      <td>34.0</td>\n",
       "      <td>246.06</td>\n",
       "      <td>31.0</td>\n",
       "      <td>8448.76</td>\n",
       "    </tr>\n",
       "    <tr>\n",
       "      <th>1638</th>\n",
       "      <td>63.0</td>\n",
       "      <td>468.66</td>\n",
       "      <td>0.0</td>\n",
       "      <td>11794.34</td>\n",
       "    </tr>\n",
       "    <tr>\n",
       "      <th>1632</th>\n",
       "      <td>4.0</td>\n",
       "      <td>19.85</td>\n",
       "      <td>28.0</td>\n",
       "      <td>13107.42</td>\n",
       "    </tr>\n",
       "  </tbody>\n",
       "</table>\n",
       "</div>"
      ],
      "text/plain": [
       "      calls  minutes  messages   mb_used\n",
       "2699   71.0   512.53      27.0  15772.68\n",
       "242   183.0  1247.04     150.0  29186.41\n",
       "2854   34.0   246.06      31.0   8448.76\n",
       "1638   63.0   468.66       0.0  11794.34\n",
       "1632    4.0    19.85      28.0  13107.42"
      ]
     },
     "execution_count": 13,
     "metadata": {},
     "output_type": "execute_result"
    }
   ],
   "source": [
    "valid_features.head()"
   ]
  },
  {
   "cell_type": "code",
   "execution_count": 14,
   "metadata": {},
   "outputs": [
    {
     "data": {
      "text/plain": [
       "2699    0\n",
       "242     1\n",
       "2854    0\n",
       "1638    0\n",
       "1632    0\n",
       "Name: is_ultra, dtype: int64"
      ]
     },
     "execution_count": 14,
     "metadata": {},
     "output_type": "execute_result"
    }
   ],
   "source": [
    "valid_target.head()"
   ]
  },
  {
   "cell_type": "code",
   "execution_count": 15,
   "metadata": {},
   "outputs": [
    {
     "name": "stdout",
     "output_type": "stream",
     "text": [
      "Размер обучающей выборки: 1928\n",
      "Размер выборки валидации: 643\n",
      "Размер тестовой выборки: 643\n"
     ]
    }
   ],
   "source": [
    "print('Размер обучающей выборки:', len(train_target))\n",
    "print('Размер выборки валидации:', len(valid_target))\n",
    "print('Размер тестовой выборки:', len(test_target))\n"
   ]
  },
  {
   "cell_type": "markdown",
   "metadata": {},
   "source": [
    "### Вывод\n",
    "\n",
    "Мы получили 3 выборки - обущающую, валидации и тестовую."
   ]
  },
  {
   "cell_type": "markdown",
   "metadata": {},
   "source": [
    "## Исследуйте модели"
   ]
  },
  {
   "cell_type": "markdown",
   "metadata": {},
   "source": [
    "В этой главе мы рассмотрим как себя показывают разные модели в нашей задаче и сравним их."
   ]
  },
  {
   "cell_type": "markdown",
   "metadata": {},
   "source": [
    "### DecisionTree"
   ]
  },
  {
   "cell_type": "markdown",
   "metadata": {},
   "source": [
    "Основной гиперпараметр модели, который отвечает за размер дерева - `max_depth`, его и будем менять:"
   ]
  },
  {
   "cell_type": "code",
   "execution_count": 16,
   "metadata": {},
   "outputs": [
    {
     "name": "stdout",
     "output_type": "stream",
     "text": [
      "max_depth = 1, accuracy =: 0.7387247278382582\n",
      "max_depth = 2, accuracy =: 0.7573872472783826\n",
      "max_depth = 3, accuracy =: 0.7651632970451011\n",
      "max_depth = 4, accuracy =: 0.7636080870917574\n",
      "max_depth = 5, accuracy =: 0.7589424572317263\n",
      "max_depth = 6, accuracy =: 0.7573872472783826\n",
      "max_depth = 7, accuracy =: 0.7744945567651633\n",
      "max_depth = 8, accuracy =: 0.7667185069984448\n",
      "max_depth = 9, accuracy =: 0.7620528771384136\n",
      "max_depth = 10, accuracy =: 0.7713841368584758\n",
      "max_depth = 11, accuracy =: 0.7589424572317263\n",
      "max_depth = 12, accuracy =: 0.7558320373250389\n",
      "max_depth = 13, accuracy =: 0.749611197511664\n",
      "max_depth = 14, accuracy =: 0.7573872472783826\n",
      "max_depth = 15, accuracy =: 0.7527216174183515\n",
      "max_depth = 16, accuracy =: 0.749611197511664\n",
      "max_depth = 17, accuracy =: 0.7387247278382582\n",
      "max_depth = 18, accuracy =: 0.7418351477449455\n",
      "max_depth = 19, accuracy =: 0.7356143079315708\n",
      "Лучшая точность 0.7744945567651633 при глубине дерева depth 7\n",
      "CPU times: total: 203 ms\n",
      "Wall time: 187 ms\n"
     ]
    }
   ],
   "source": [
    "%%time\n",
    "depths = list(range(1, 20))\n",
    "max_accuracy = 0\n",
    "best_depth = 0\n",
    "best_tree_model = None\n",
    "for depth in depths:\n",
    "    model = DecisionTreeClassifier(random_state=12345, max_depth=depth)\n",
    "    model.fit(train_features, train_target)\n",
    "    accuracy = model.score(valid_features, valid_target)\n",
    "    print(f'max_depth = {depth}, accuracy =:', accuracy)\n",
    "    if accuracy > max_accuracy:\n",
    "        max_accuracy = accuracy\n",
    "        best_depth = depth\n",
    "        best_tree_model = model\n",
    "print(f'Лучшая точность {max_accuracy} при глубине дерева depth {best_depth}')        "
   ]
  },
  {
   "cell_type": "markdown",
   "metadata": {},
   "source": [
    "Дополнительно воспользуемся `GridSearchCv`, для поиска наилучших параметров, будем перебирать ещё и по критерию, `cv` оставим равным 3:"
   ]
  },
  {
   "cell_type": "code",
   "execution_count": 17,
   "metadata": {},
   "outputs": [
    {
     "name": "stdout",
     "output_type": "stream",
     "text": [
      "CPU times: total: 578 ms\n",
      "Wall time: 570 ms\n"
     ]
    },
    {
     "data": {
      "text/plain": [
       "GridSearchCV(cv=3, estimator=DecisionTreeClassifier(random_state=12345),\n",
       "             param_grid={'max_depth': [1, 2, 3, 4, 5, 6, 7, 8, 9, 10, 11, 12,\n",
       "                                       13, 14, 15, 16, 17, 18, 19]})"
      ]
     },
     "execution_count": 17,
     "metadata": {},
     "output_type": "execute_result"
    }
   ],
   "source": [
    "%%time\n",
    "params = {'max_depth' : depths}\n",
    "model_tree_grid = GridSearchCV(DecisionTreeClassifier(random_state=12345), params, cv=3)\n",
    "model_tree_grid.fit(train_valid_features, train_valid_target)\n"
   ]
  },
  {
   "cell_type": "code",
   "execution_count": 18,
   "metadata": {},
   "outputs": [
    {
     "data": {
      "text/plain": [
       "{'max_depth': 8}"
      ]
     },
     "execution_count": 18,
     "metadata": {},
     "output_type": "execute_result"
    }
   ],
   "source": [
    "model_tree_grid.best_params_"
   ]
  },
  {
   "cell_type": "markdown",
   "metadata": {},
   "source": [
    "Лучшие параметры отличаются от тех, которые были найдены ручным перебором, это связано, по видимому с использованием кросс-валидации в `GridSearchCv`."
   ]
  },
  {
   "cell_type": "markdown",
   "metadata": {},
   "source": [
    "#### Вывод\n",
    "\n",
    "С помощью решающего дерева в ручном переборе удалось получить `accuracy` на валидационной выборке - 0.77\n",
    "\n",
    "Так же была получена модель с помощью `GridSearchCv`, с помощью которой осуществлялся перебор тех же параметров, но с использованием кросс-валидации, при это заняло в 3 раза больше времени, ручной поиск без кросс-валидации, логично, если учесть, что параметр `cv=3`, то есть то, что считал я, повторилось 3 раза, если я всё правильно понял.\n"
   ]
  },
  {
   "cell_type": "markdown",
   "metadata": {},
   "source": [
    "### RandomForest"
   ]
  },
  {
   "cell_type": "markdown",
   "metadata": {},
   "source": [
    "Будем перебирать следующие гиперпараметры модели:\n",
    "* Количество деревьев;\n",
    "* максимальная глубина дерева."
   ]
  },
  {
   "cell_type": "code",
   "execution_count": 19,
   "metadata": {},
   "outputs": [
    {
     "name": "stdout",
     "output_type": "stream",
     "text": [
      "Лучшая точность 0.7947122861586314 при глубине дерева depth 9 и количестве деревьев 10\n",
      "CPU times: total: 13.5 s\n",
      "Wall time: 13.5 s\n"
     ]
    }
   ],
   "source": [
    "%%time\n",
    "ests = [10, 20, 30, 40, 50, 60, 70, 80, 90, 100]\n",
    "depths = list(range(1, 10))\n",
    "\n",
    "accuraces_forest = []\n",
    "best_accuracy_forest = 0\n",
    "best_depth = 0\n",
    "best_est = 0\n",
    "best_forest_model = None\n",
    "\n",
    "for est in ests:\n",
    "    for depth in depths:\n",
    "        model_forest = RandomForestClassifier(random_state=12345,\n",
    "                                              n_estimators=est,\n",
    "                                              max_depth=depth,\n",
    "                                              criterion='gini')\n",
    "        model_forest.fit(train_features, train_target)\n",
    "        accuracy = model_forest.score(valid_features, valid_target)\n",
    "        accuraces_forest.append(accuracy)\n",
    "        if accuracy > best_accuracy_forest:\n",
    "            best_accuracy_forest = accuracy\n",
    "            best_depth = depth\n",
    "            best_est = est\n",
    "            best_forest_model = model_forest\n",
    "            \n",
    "print(f'Лучшая точность {best_accuracy_forest} при глубине дерева depth {best_depth} и количестве деревьев {best_est}')            \n",
    "        "
   ]
  },
  {
   "cell_type": "code",
   "execution_count": 20,
   "metadata": {},
   "outputs": [
    {
     "name": "stdout",
     "output_type": "stream",
     "text": [
      "CPU times: total: 40.7 s\n",
      "Wall time: 41.6 s\n"
     ]
    },
    {
     "data": {
      "text/plain": [
       "{'max_depth': 8, 'n_estimators': 40}"
      ]
     },
     "execution_count": 20,
     "metadata": {},
     "output_type": "execute_result"
    }
   ],
   "source": [
    "%%time\n",
    "params = {'max_depth' : depths, 'n_estimators' : ests}\n",
    "model_forest_grid = GridSearchCV(RandomForestClassifier(random_state=12345), params, cv=3)\n",
    "# берём эти выборки, так как CV подразумевает разбиение внутри себя\n",
    "model_forest_grid.fit(train_valid_features, train_valid_target)\n",
    "model_forest_grid.best_params_"
   ]
  },
  {
   "cell_type": "markdown",
   "metadata": {},
   "source": [
    "Результаты поиска гиперпараметров снова отличаются от ручного поиска."
   ]
  },
  {
   "cell_type": "markdown",
   "metadata": {},
   "source": [
    "Попробуем с помощью `RandomizedSearchCV`:"
   ]
  },
  {
   "cell_type": "code",
   "execution_count": 21,
   "metadata": {},
   "outputs": [
    {
     "name": "stdout",
     "output_type": "stream",
     "text": [
      "CPU times: total: 4.06 s\n",
      "Wall time: 4.26 s\n"
     ]
    },
    {
     "data": {
      "text/plain": [
       "{'n_estimators': 10, 'max_depth': 8}"
      ]
     },
     "execution_count": 21,
     "metadata": {},
     "output_type": "execute_result"
    }
   ],
   "source": [
    "%%time\n",
    "random_search_forest = RandomizedSearchCV(RandomForestClassifier(random_state=12345),\n",
    "                                   param_distributions=params,\n",
    "                                   n_iter=10,\n",
    "                                   cv=3,\n",
    "                                   )\n",
    "\n",
    "random_search_forest.fit(train_valid_features, train_valid_target)\n",
    "\n",
    "random_search_forest.best_params_\n"
   ]
  },
  {
   "cell_type": "markdown",
   "metadata": {},
   "source": [
    "Найденные параметры похожи на `GridSearchCV`, но время выполнения намного меньше."
   ]
  },
  {
   "cell_type": "markdown",
   "metadata": {},
   "source": [
    "#### Вывод"
   ]
  },
  {
   "cell_type": "markdown",
   "metadata": {},
   "source": [
    "С помощью модели \"Случайный лес\" при ручном переборе гиперпараметров - глубины дерева и количества деревьев в лесу, удалось получить `accuracy` на валидацонной выборке `> 0.79`.\n",
    "\n",
    "Также был выполнен подбор модели с помощью `GridSearchCV`, при этом время выполнения в 3 раза выше, что связано, по всей видимости, с кросс-валидацией. Модель будет протестирована на тестовой выборке.\n",
    "\n",
    "Также был опробован поиск модели с помощью `RandomizedSearchCV`. Гиперпараметры модели похожи на `GridSearchCV`, но время поиска существенно меньше, в 9 раз в данном случае, с параметром `n_inter=10`. Модель будет протестирована на тестовой выборке."
   ]
  },
  {
   "cell_type": "markdown",
   "metadata": {},
   "source": [
    "### Логистическая регрессия"
   ]
  },
  {
   "cell_type": "code",
   "execution_count": 22,
   "metadata": {},
   "outputs": [
    {
     "name": "stdout",
     "output_type": "stream",
     "text": [
      "Accuracy = 0.7262830482115086\n",
      "CPU times: total: 46.9 ms\n",
      "Wall time: 47.1 ms\n"
     ]
    }
   ],
   "source": [
    "%%time\n",
    "log_model = LogisticRegression(random_state=12345)\n",
    "log_model.fit(train_features, train_target)\n",
    "print('Accuracy =', log_model.score(valid_features, valid_target))"
   ]
  },
  {
   "cell_type": "markdown",
   "metadata": {},
   "source": [
    "#### Вывод\n",
    "\n",
    "Логистическая регресси показала наихудший результат среди всех на выборке валидации, `accuracy` всего 0.73."
   ]
  },
  {
   "cell_type": "markdown",
   "metadata": {},
   "source": [
    "### Дополнительные модели"
   ]
  },
  {
   "cell_type": "markdown",
   "metadata": {},
   "source": [
    "#### GB"
   ]
  },
  {
   "cell_type": "markdown",
   "metadata": {},
   "source": [
    "Попробуем модель сделать модель с помощью `GradientBoostingClassifier` с случайными гиперпараметрами:"
   ]
  },
  {
   "cell_type": "code",
   "execution_count": 23,
   "metadata": {},
   "outputs": [
    {
     "name": "stdout",
     "output_type": "stream",
     "text": [
      "Accuracy = 0.7978227060653188\n",
      "CPU times: total: 875 ms\n",
      "Wall time: 921 ms\n"
     ]
    }
   ],
   "source": [
    "%%time\n",
    "model_boosting = GradientBoostingClassifier(random_state=12345,\n",
    "                                           n_estimators=500,\n",
    "                                           max_depth=2,\n",
    "                                           learning_rate=.1)\n",
    "\n",
    "model_boosting.fit(train_features, train_target)\n",
    "\n",
    "print('Accuracy =', model_boosting.score(valid_features, valid_target))\n",
    "\n"
   ]
  },
  {
   "cell_type": "code",
   "execution_count": 24,
   "metadata": {},
   "outputs": [
    {
     "name": "stdout",
     "output_type": "stream",
     "text": [
      "CPU times: total: 1min 14s\n",
      "Wall time: 1min 17s\n"
     ]
    },
    {
     "data": {
      "text/plain": [
       "{'max_depth': 4, 'n_estimators': 70}"
      ]
     },
     "execution_count": 24,
     "metadata": {},
     "output_type": "execute_result"
    }
   ],
   "source": [
    "%%time\n",
    "grid_search_boosting = GridSearchCV(GradientBoostingClassifier(random_state=12345), params, cv=3)\n",
    "\n",
    "grid_search_boosting.fit(train_valid_features, train_valid_target)\n",
    "grid_search_boosting.best_params_"
   ]
  },
  {
   "cell_type": "code",
   "execution_count": 25,
   "metadata": {},
   "outputs": [
    {
     "name": "stdout",
     "output_type": "stream",
     "text": [
      "CPU times: total: 8.28 s\n",
      "Wall time: 8.57 s\n"
     ]
    },
    {
     "data": {
      "text/plain": [
       "{'n_estimators': 70, 'max_depth': 4}"
      ]
     },
     "execution_count": 25,
     "metadata": {},
     "output_type": "execute_result"
    }
   ],
   "source": [
    "%%time\n",
    "random_search_boosting = RandomizedSearchCV(GradientBoostingClassifier(random_state=12345),\n",
    "                                   param_distributions=params,\n",
    "                                   n_iter=10,\n",
    "                                   cv=3,\n",
    "                                   )\n",
    "\n",
    "random_search_boosting.fit(train_valid_features, train_valid_target)\n",
    "\n",
    "random_search_boosting.best_params_"
   ]
  },
  {
   "cell_type": "markdown",
   "metadata": {},
   "source": [
    "Время подбора параметров с помощью `GridSearchCV` и `RandomSearchCV` выше чем подбор у `Random Forest`. "
   ]
  },
  {
   "cell_type": "markdown",
   "metadata": {},
   "source": [
    "#### XGboost"
   ]
  },
  {
   "cell_type": "markdown",
   "metadata": {},
   "source": [
    "Попробуем `XGBClassifier` со случайными гиперпараметрами:"
   ]
  },
  {
   "cell_type": "code",
   "execution_count": 26,
   "metadata": {},
   "outputs": [
    {
     "name": "stdout",
     "output_type": "stream",
     "text": [
      "0.7931570762052877\n",
      "CPU times: total: 7.62 s\n",
      "Wall time: 860 ms\n"
     ]
    }
   ],
   "source": [
    "%%time\n",
    "model_xboost = XGBClassifier(random_state=12345,\n",
    "                            n_estimators=1000,\n",
    "                            max_depth=2,\n",
    "                            learning_rate=0.1,\n",
    "                            use_label_encoder=False,\n",
    "                             eval_metric='error',\n",
    "                            )\n",
    "model_xboost.fit(train_features, train_target)\n",
    "\n",
    "print(model_xboost.score(valid_features, valid_target))"
   ]
  },
  {
   "cell_type": "markdown",
   "metadata": {},
   "source": [
    "Подберем модель с помощью `GridSearchCV`:"
   ]
  },
  {
   "cell_type": "code",
   "execution_count": 27,
   "metadata": {},
   "outputs": [
    {
     "name": "stdout",
     "output_type": "stream",
     "text": [
      "CPU times: total: 4min 13s\n",
      "Wall time: 26.1 s\n"
     ]
    },
    {
     "data": {
      "text/plain": [
       "{'max_depth': 7, 'n_estimators': 10}"
      ]
     },
     "execution_count": 27,
     "metadata": {},
     "output_type": "execute_result"
    }
   ],
   "source": [
    "%%time\n",
    "grid_search_xboosting = GridSearchCV(XGBClassifier(random_state=12345,\n",
    "                                                  use_label_encoder=False,\n",
    "                                             eval_metric='error'),\n",
    "                                                     params,cv=3)\n",
    "\n",
    "grid_search_xboosting.fit(train_valid_features, train_valid_target)\n",
    "grid_search_xboosting.best_params_"
   ]
  },
  {
   "cell_type": "markdown",
   "metadata": {},
   "source": [
    "Подберём модель с помощью `RandomizedSearchCV`:"
   ]
  },
  {
   "cell_type": "code",
   "execution_count": 28,
   "metadata": {},
   "outputs": [
    {
     "name": "stdout",
     "output_type": "stream",
     "text": [
      "CPU times: total: 31.6 s\n",
      "Wall time: 3.74 s\n"
     ]
    },
    {
     "data": {
      "text/plain": [
       "{'n_estimators': 60, 'max_depth': 2}"
      ]
     },
     "execution_count": 28,
     "metadata": {},
     "output_type": "execute_result"
    }
   ],
   "source": [
    "%%time\n",
    "random_search_xboosting = RandomizedSearchCV(XGBClassifier(random_state=12345,\n",
    "                                                          use_label_encoder=False,\n",
    "                                                          eval_metric='error'),\n",
    "                                   param_distributions=params,\n",
    "                                   n_iter=10,\n",
    "                                   cv=3,\n",
    "                                   )\n",
    "\n",
    "random_search_xboosting.fit(train_valid_features, train_valid_target)\n",
    "random_search_xboosting.best_params_"
   ]
  },
  {
   "cell_type": "markdown",
   "metadata": {},
   "source": [
    "### Вывод\n",
    "\n",
    "* С помощью решающего дерева в ручном переборе удалось получить `accuracy` на валидационной выборке - 0.77\n",
    "\n",
    "* Так же была получена модель с помощью `GridSearchCv`, с помощью которой осуществлялся перебор тех же параметров, но с использованием кросс-валидации\n",
    "\n",
    "* С помощью модели \"Случайный лес\" при ручном переборе гиперпараметров - глубины дерева и количества деревьев в лесу, удалось получить `accuracy` на валидацонной выборке `> 0.79`.\n",
    "\n",
    "* Также был выполнен подбор модели с помощью `GridSearchCV`, при этом время выполнения в 3 раза выше, что связано, по всей видимости, с кросс-валидацией. Модель будет протестирована на тестовой выборке.\n",
    "\n",
    "* Также был опробован поиск модели с помощью `RandomizedSearchCV`. Гиперпараметры модели похожи на `GridSearchCV`, но время поиска существенно меньше, в 9 раз в данном случае, с параметром `n_inter=10`. Модель будет протестирована на тестовой выборке.\n",
    "* Логистическая регрессия показала наихудший результат среди всех на выборке валидации, `accuracy` всего 0.73.\n",
    "* Были исследованы дополнительные модели:\n",
    "    * GradientBoosting - подобраны 2 модели с помощью методов GridSearchCV и RandomSearchCV, при этом следует отметить, что RandomSearchCV работает намного быстрее.\n",
    "    * Xgboost - подобраны 2 модели  с помощью методов GridSearchCV и RandomSearchCV, RandomSearchCV намного быстрее, а также поиск параметров для XGBoost значительно быстрее, чем GradientBoosting.\n"
   ]
  },
  {
   "cell_type": "markdown",
   "metadata": {},
   "source": [
    "## Проверьте модель на тестовой выборке"
   ]
  },
  {
   "cell_type": "markdown",
   "metadata": {},
   "source": [
    "В этой главе мы проверим на тестовой выборке лучшие из моделей, найденные вручную и модели найденные с помощью методов `GridSearchCV` и `RandomizedSearchCV`."
   ]
  },
  {
   "cell_type": "markdown",
   "metadata": {},
   "source": [
    "### Решающее дерево"
   ]
  },
  {
   "cell_type": "markdown",
   "metadata": {},
   "source": [
    "Лучшее дерево, найденное вручную:"
   ]
  },
  {
   "cell_type": "code",
   "execution_count": 29,
   "metadata": {},
   "outputs": [
    {
     "name": "stdout",
     "output_type": "stream",
     "text": [
      "Accuracy = 0.7884914463452566\n"
     ]
    }
   ],
   "source": [
    "print('Accuracy =', best_tree_model.score(test_features, test_target))"
   ]
  },
  {
   "cell_type": "markdown",
   "metadata": {},
   "source": [
    "`GridSearchCV` дерево:"
   ]
  },
  {
   "cell_type": "code",
   "execution_count": 30,
   "metadata": {},
   "outputs": [
    {
     "name": "stdout",
     "output_type": "stream",
     "text": [
      "Accuracy = 0.7729393468118196\n"
     ]
    }
   ],
   "source": [
    "print('Accuracy =', model_tree_grid.score(test_features, test_target))"
   ]
  },
  {
   "cell_type": "markdown",
   "metadata": {},
   "source": [
    "Полученные `accuracy` удовлетворяет требованиям и равно. Лучшее - `0.79`."
   ]
  },
  {
   "cell_type": "markdown",
   "metadata": {},
   "source": [
    "### RandomForest"
   ]
  },
  {
   "cell_type": "markdown",
   "metadata": {},
   "source": [
    "Модель найденная вручную:"
   ]
  },
  {
   "cell_type": "code",
   "execution_count": 31,
   "metadata": {},
   "outputs": [
    {
     "name": "stdout",
     "output_type": "stream",
     "text": [
      "Accuracy = 0.7947122861586314\n"
     ]
    }
   ],
   "source": [
    "print('Accuracy =', best_forest_model.score(test_features, test_target))"
   ]
  },
  {
   "cell_type": "markdown",
   "metadata": {},
   "source": [
    "Модель найденная с помощью `GridSearchCV`:"
   ]
  },
  {
   "cell_type": "code",
   "execution_count": 32,
   "metadata": {},
   "outputs": [
    {
     "name": "stdout",
     "output_type": "stream",
     "text": [
      "Accuracy = 0.8009331259720062\n"
     ]
    }
   ],
   "source": [
    "print('Accuracy =', model_forest_grid.score(test_features, test_target))"
   ]
  },
  {
   "cell_type": "markdown",
   "metadata": {},
   "source": [
    "Модель найденная с помощью `RandomSearchCV`:"
   ]
  },
  {
   "cell_type": "code",
   "execution_count": 33,
   "metadata": {},
   "outputs": [
    {
     "name": "stdout",
     "output_type": "stream",
     "text": [
      "Accuracy = 0.7931570762052877\n"
     ]
    }
   ],
   "source": [
    "print('Accuracy =', random_search_forest.score(test_features, test_target))"
   ]
  },
  {
   "cell_type": "markdown",
   "metadata": {},
   "source": [
    "Полученные `accuracy` удовлетворяет требованиям и равно. Лучшее - `0.8`."
   ]
  },
  {
   "cell_type": "markdown",
   "metadata": {},
   "source": [
    "### Логистическая регрессия"
   ]
  },
  {
   "cell_type": "code",
   "execution_count": 34,
   "metadata": {},
   "outputs": [
    {
     "name": "stdout",
     "output_type": "stream",
     "text": [
      "Accuracy = 0.7589424572317263\n"
     ]
    }
   ],
   "source": [
    "print('Accuracy =', log_model.score(test_features, test_target))"
   ]
  },
  {
   "cell_type": "markdown",
   "metadata": {},
   "source": [
    "Удовлетворяет требованиям."
   ]
  },
  {
   "cell_type": "markdown",
   "metadata": {},
   "source": [
    "### Дополнительные модели"
   ]
  },
  {
   "cell_type": "code",
   "execution_count": 35,
   "metadata": {},
   "outputs": [
    {
     "name": "stdout",
     "output_type": "stream",
     "text": [
      "Accuracy GBM grid = 0.7947122861586314\n",
      "Accuracy GBM random = 0.7947122861586314\n",
      "Accuracy XGB grid = 0.7916018662519441\n",
      "Accuracy XGB random = 0.807153965785381\n"
     ]
    }
   ],
   "source": [
    "print('Accuracy GBM grid =', grid_search_boosting.score(test_features, test_target))\n",
    "print('Accuracy GBM random =', random_search_boosting.score(test_features, test_target))\n",
    "print('Accuracy XGB grid =', grid_search_xboosting.score(test_features, test_target))\n",
    "print('Accuracy XGB random =', random_search_xboosting.score(test_features, test_target))"
   ]
  },
  {
   "cell_type": "markdown",
   "metadata": {},
   "source": [
    "### Вывод"
   ]
  },
  {
   "cell_type": "markdown",
   "metadata": {},
   "source": [
    "Наилучший показатель `accuracy = 0.8` на тестовой выборке у модели `RandomForest` (`'random_search_forest'`) подобранной с помощью `RandomSearchCV`. Худший результат показала логистическая регрессия `accuracy = 0.76`. Остальные модели дают `accuracy` хуже всего лишь на `1-2%`."
   ]
  },
  {
   "cell_type": "markdown",
   "metadata": {},
   "source": [
    "## Проверка моделей на адекватность"
   ]
  },
  {
   "cell_type": "markdown",
   "metadata": {},
   "source": [
    "Для того, чтобы проверить на адекватность, будем сравнивать их со случайной моделью, а также со стационарной моделью, которая всегда будет выдавать `0`, так как `0` в наших данных больше:"
   ]
  },
  {
   "cell_type": "markdown",
   "metadata": {},
   "source": [
    "### Стационарная модель"
   ]
  },
  {
   "cell_type": "code",
   "execution_count": 36,
   "metadata": {},
   "outputs": [
    {
     "data": {
      "text/plain": [
       "array([0, 0, 0, 0, 0, 0, 0, 0, 0, 0, 0, 0, 0, 0, 0, 0, 0, 0, 0, 0, 0, 0,\n",
       "       0, 0, 0, 0, 0, 0, 0, 0, 0, 0, 0, 0, 0, 0, 0, 0, 0, 0, 0, 0, 0, 0,\n",
       "       0, 0, 0, 0, 0, 0, 0, 0, 0, 0, 0, 0, 0, 0, 0, 0, 0, 0, 0, 0, 0, 0,\n",
       "       0, 0, 0, 0, 0, 0, 0, 0, 0, 0, 0, 0, 0, 0, 0, 0, 0, 0, 0, 0, 0, 0,\n",
       "       0, 0, 0, 0, 0, 0, 0, 0, 0, 0, 0, 0, 0, 0, 0, 0, 0, 0, 0, 0, 0, 0,\n",
       "       0, 0, 0, 0, 0, 0, 0, 0, 0, 0, 0, 0, 0, 0, 0, 0, 0, 0, 0, 0, 0, 0,\n",
       "       0, 0, 0, 0, 0, 0, 0, 0, 0, 0, 0, 0, 0, 0, 0, 0, 0, 0, 0, 0, 0, 0,\n",
       "       0, 0, 0, 0, 0, 0, 0, 0, 0, 0, 0, 0, 0, 0, 0, 0, 0, 0, 0, 0, 0, 0,\n",
       "       0, 0, 0, 0, 0, 0, 0, 0, 0, 0, 0, 0, 0, 0, 0, 0, 0, 0, 0, 0, 0, 0,\n",
       "       0, 0, 0, 0, 0, 0, 0, 0, 0, 0, 0, 0, 0, 0, 0, 0, 0, 0, 0, 0, 0, 0,\n",
       "       0, 0, 0, 0, 0, 0, 0, 0, 0, 0, 0, 0, 0, 0, 0, 0, 0, 0, 0, 0, 0, 0,\n",
       "       0, 0, 0, 0, 0, 0, 0, 0, 0, 0, 0, 0, 0, 0, 0, 0, 0, 0, 0, 0, 0, 0,\n",
       "       0, 0, 0, 0, 0, 0, 0, 0, 0, 0, 0, 0, 0, 0, 0, 0, 0, 0, 0, 0, 0, 0,\n",
       "       0, 0, 0, 0, 0, 0, 0, 0, 0, 0, 0, 0, 0, 0, 0, 0, 0, 0, 0, 0, 0, 0,\n",
       "       0, 0, 0, 0, 0, 0, 0, 0, 0, 0, 0, 0, 0, 0, 0, 0, 0, 0, 0, 0, 0, 0,\n",
       "       0, 0, 0, 0, 0, 0, 0, 0, 0, 0, 0, 0, 0, 0, 0, 0, 0, 0, 0, 0, 0, 0,\n",
       "       0, 0, 0, 0, 0, 0, 0, 0, 0, 0, 0, 0, 0, 0, 0, 0, 0, 0, 0, 0, 0, 0,\n",
       "       0, 0, 0, 0, 0, 0, 0, 0, 0, 0, 0, 0, 0, 0, 0, 0, 0, 0, 0, 0, 0, 0,\n",
       "       0, 0, 0, 0, 0, 0, 0, 0, 0, 0, 0, 0, 0, 0, 0, 0, 0, 0, 0, 0, 0, 0,\n",
       "       0, 0, 0, 0, 0, 0, 0, 0, 0, 0, 0, 0, 0, 0, 0, 0, 0, 0, 0, 0, 0, 0,\n",
       "       0, 0, 0, 0, 0, 0, 0, 0, 0, 0, 0, 0, 0, 0, 0, 0, 0, 0, 0, 0, 0, 0,\n",
       "       0, 0, 0, 0, 0, 0, 0, 0, 0, 0, 0, 0, 0, 0, 0, 0, 0, 0, 0, 0, 0, 0,\n",
       "       0, 0, 0, 0, 0, 0, 0, 0, 0, 0, 0, 0, 0, 0, 0, 0, 0, 0, 0, 0, 0, 0,\n",
       "       0, 0, 0, 0, 0, 0, 0, 0, 0, 0, 0, 0, 0, 0, 0, 0, 0, 0, 0, 0, 0, 0,\n",
       "       0, 0, 0, 0, 0, 0, 0, 0, 0, 0, 0, 0, 0, 0, 0, 0, 0, 0, 0, 0, 0, 0,\n",
       "       0, 0, 0, 0, 0, 0, 0, 0, 0, 0, 0, 0, 0, 0, 0, 0, 0, 0, 0, 0, 0, 0,\n",
       "       0, 0, 0, 0, 0, 0, 0, 0, 0, 0, 0, 0, 0, 0, 0, 0, 0, 0, 0, 0, 0, 0,\n",
       "       0, 0, 0, 0, 0, 0, 0, 0, 0, 0, 0, 0, 0, 0, 0, 0, 0, 0, 0, 0, 0, 0,\n",
       "       0, 0, 0, 0, 0, 0, 0, 0, 0, 0, 0, 0, 0, 0, 0, 0, 0, 0, 0, 0, 0, 0,\n",
       "       0, 0, 0, 0, 0], dtype=int64)"
      ]
     },
     "execution_count": 36,
     "metadata": {},
     "output_type": "execute_result"
    }
   ],
   "source": [
    "dummy_model = DummyClassifier(strategy='most_frequent')\n",
    "dummy_model.fit(test_features, test_target)\n",
    "dummy_model.predict(test_features)"
   ]
  },
  {
   "cell_type": "code",
   "execution_count": 37,
   "metadata": {},
   "outputs": [
    {
     "data": {
      "text/plain": [
       "0.6951788491446346"
      ]
     },
     "execution_count": 37,
     "metadata": {},
     "output_type": "execute_result"
    }
   ],
   "source": [
    "dummy_model.score(test_features, test_target)"
   ]
  },
  {
   "cell_type": "markdown",
   "metadata": {},
   "source": [
    "#### Вывод\n",
    "\n",
    "Наша лучшая модель показывает себя лучше, чем стационарный предсказатель `0.8` против `0.7`."
   ]
  },
  {
   "cell_type": "markdown",
   "metadata": {},
   "source": [
    "## Вывод"
   ]
  },
  {
   "cell_type": "markdown",
   "metadata": {},
   "source": [
    "* В данном случае у нас предикторы: `'calls'`, `'minutes'`, `'messages'`, `'mb_used'`, а целевой показатель в столбце `'is_ultra'`. Предсказать необходимо категориальные данные -  выбрать между двумя тарифами, поэтому перед нами задача классификации. \n",
    "\n",
    "* В нашем распоряжении только один датасет, поэтому его необходимо разделить на несколько частей - учебную выборку, выборку валидации и тестовую выборку.\n",
    "* С помощью решающего дерева в ручном переборе удалось получить `accuracy` на валидационной выборке - 0.77\n",
    "\n",
    "    * Так же была получена модель с помощью `GridSearchCv`, с помощью которой осуществлялся перебор тех же параметров, но с использованием кросс-валидации\n",
    "\n",
    "* С помощью модели \"Случайный лес\" при ручном переборе гиперпараметров - глубины дерева и количества деревьев в лесу, удалось получить `accuracy` на валидацонной выборке `> 0.79`.\n",
    "\n",
    "    * Также был выполнен подбор модели с помощью `GridSearchCV`, при этом время выполнения в 3 раза выше, что связано, по всей видимости, с кросс-валидацией.\n",
    "\n",
    "    * Также был опробован поиск модели с помощью `RandomizedSearchCV`. Гиперпараметры модели похожи на `GridSearchCV`, но время поиска существенно меньше, в 9 раз в данном случае, с параметром `n_inter=10`.\n",
    "* Логистическая регрессия показала наихудший результат среди всех на выборке валидации, `accuracy` всего 0.73.\n",
    "* Были исследованы дополнительные модели:\n",
    "    * GradientBoosting - подобраны 2 модели с помощью методов GridSearchCV и RandomSearchCV, при этом следует отметить, что RandomSearchCV работает намного быстрее.\n",
    "    * Xgboost - подобраны 2 модели  с помощью методов GridSearchCV и RandomSearchCV, RandomSearchCV намного быстрее, а также поиск параметров для XGBoost значительно быстрее, чем GradientBoosting.\n",
    "* Наилучший показатель `accuracy = 0.8` на тестовой выборке у модели `RandomForest` (`'random_search_forest'`) подобранной с помощью `RandomSearchCV`. Худший результат показала логистическая регрессия `accuracy = 0.76`. Остальные модели дают `accuracy` хуже всего лишь на `1-2%`. \n",
    "* Наша модель показывает себя значительно лучше, чем \"случайный предсказатель\" `0.8` против `0.5`.\n",
    "* Наша лучшая модель показывает себя лучше, чем стационарный предсказатель `0.8` против `0.7`."
   ]
  },
  {
   "cell_type": "code",
   "execution_count": null,
   "metadata": {},
   "outputs": [],
   "source": []
  }
 ],
 "metadata": {
  "ExecuteTimeLog": [
   {
    "duration": 702,
    "start_time": "2022-03-09T11:16:01.906Z"
   },
   {
    "duration": 388,
    "start_time": "2022-03-09T11:16:34.181Z"
   },
   {
    "duration": 16,
    "start_time": "2022-03-09T11:16:40.711Z"
   },
   {
    "duration": 27,
    "start_time": "2022-03-09T11:16:44.311Z"
   },
   {
    "duration": 12,
    "start_time": "2022-03-09T11:17:13.726Z"
   },
   {
    "duration": 10,
    "start_time": "2022-03-09T11:17:19.166Z"
   },
   {
    "duration": 525,
    "start_time": "2022-03-09T11:18:24.443Z"
   },
   {
    "duration": 6,
    "start_time": "2022-03-09T11:20:23.152Z"
   },
   {
    "duration": 603,
    "start_time": "2022-03-09T11:22:05.451Z"
   },
   {
    "duration": 269,
    "start_time": "2022-03-09T11:22:26.920Z"
   },
   {
    "duration": 76,
    "start_time": "2022-03-09T11:22:53.194Z"
   },
   {
    "duration": 211,
    "start_time": "2022-03-09T11:22:58.041Z"
   },
   {
    "duration": 4,
    "start_time": "2022-03-09T11:26:52.416Z"
   },
   {
    "duration": 24,
    "start_time": "2022-03-09T11:26:52.422Z"
   },
   {
    "duration": 15,
    "start_time": "2022-03-09T11:26:52.450Z"
   },
   {
    "duration": 11,
    "start_time": "2022-03-09T11:26:52.468Z"
   },
   {
    "duration": 8,
    "start_time": "2022-03-09T11:26:52.482Z"
   },
   {
    "duration": 7,
    "start_time": "2022-03-09T11:26:52.493Z"
   },
   {
    "duration": 4,
    "start_time": "2022-03-09T11:27:09.416Z"
   },
   {
    "duration": 20,
    "start_time": "2022-03-09T11:27:09.423Z"
   },
   {
    "duration": 18,
    "start_time": "2022-03-09T11:27:09.447Z"
   },
   {
    "duration": 11,
    "start_time": "2022-03-09T11:27:09.468Z"
   },
   {
    "duration": 9,
    "start_time": "2022-03-09T11:27:09.484Z"
   },
   {
    "duration": 9,
    "start_time": "2022-03-09T11:27:09.496Z"
   },
   {
    "duration": 6,
    "start_time": "2022-03-09T11:29:08.698Z"
   },
   {
    "duration": 233,
    "start_time": "2022-03-09T11:29:09.297Z"
   },
   {
    "duration": 15,
    "start_time": "2022-03-09T11:29:40.151Z"
   },
   {
    "duration": 18,
    "start_time": "2022-03-09T11:29:52.185Z"
   },
   {
    "duration": 7,
    "start_time": "2022-03-09T11:30:53.875Z"
   },
   {
    "duration": 6,
    "start_time": "2022-03-09T11:30:54.558Z"
   },
   {
    "duration": 9,
    "start_time": "2022-03-09T11:31:56.139Z"
   },
   {
    "duration": 7,
    "start_time": "2022-03-09T11:32:04.272Z"
   },
   {
    "duration": 5,
    "start_time": "2022-03-09T11:32:24.438Z"
   },
   {
    "duration": 6,
    "start_time": "2022-03-09T11:32:35.096Z"
   },
   {
    "duration": 4,
    "start_time": "2022-03-09T11:35:04.121Z"
   },
   {
    "duration": 3,
    "start_time": "2022-03-09T11:39:40.387Z"
   },
   {
    "duration": 28,
    "start_time": "2022-03-09T11:39:40.393Z"
   },
   {
    "duration": 17,
    "start_time": "2022-03-09T11:39:40.424Z"
   },
   {
    "duration": 11,
    "start_time": "2022-03-09T11:39:40.444Z"
   },
   {
    "duration": 29,
    "start_time": "2022-03-09T11:39:40.458Z"
   },
   {
    "duration": 8,
    "start_time": "2022-03-09T11:39:40.489Z"
   },
   {
    "duration": 32,
    "start_time": "2022-03-09T11:39:40.499Z"
   },
   {
    "duration": 22,
    "start_time": "2022-03-09T11:39:40.535Z"
   },
   {
    "duration": 15,
    "start_time": "2022-03-09T11:39:40.560Z"
   },
   {
    "duration": 11,
    "start_time": "2022-03-09T11:39:40.578Z"
   },
   {
    "duration": 279,
    "start_time": "2022-03-09T11:39:40.591Z"
   },
   {
    "duration": 227,
    "start_time": "2022-03-09T11:40:01.241Z"
   },
   {
    "duration": 28,
    "start_time": "2022-03-09T11:40:09.040Z"
   },
   {
    "duration": 22,
    "start_time": "2022-03-09T11:43:56.741Z"
   },
   {
    "duration": 8,
    "start_time": "2022-03-09T11:45:19.984Z"
   },
   {
    "duration": 21,
    "start_time": "2022-03-09T12:14:08.910Z"
   },
   {
    "duration": 20,
    "start_time": "2022-03-09T12:14:12.157Z"
   },
   {
    "duration": 20,
    "start_time": "2022-03-09T12:14:14.332Z"
   },
   {
    "duration": 21,
    "start_time": "2022-03-09T12:14:23.943Z"
   },
   {
    "duration": 21,
    "start_time": "2022-03-09T12:14:27.087Z"
   },
   {
    "duration": 23,
    "start_time": "2022-03-09T12:14:29.992Z"
   },
   {
    "duration": 92,
    "start_time": "2022-03-09T12:16:33.725Z"
   },
   {
    "duration": 188,
    "start_time": "2022-03-09T12:16:44.319Z"
   },
   {
    "duration": 193,
    "start_time": "2022-03-09T12:20:43.904Z"
   },
   {
    "duration": 197,
    "start_time": "2022-03-09T12:21:49.632Z"
   },
   {
    "duration": 203,
    "start_time": "2022-03-09T12:24:00.928Z"
   },
   {
    "duration": 203,
    "start_time": "2022-03-09T12:24:35.147Z"
   },
   {
    "duration": 214,
    "start_time": "2022-03-09T12:24:46.780Z"
   },
   {
    "duration": 195,
    "start_time": "2022-03-09T12:26:34.125Z"
   },
   {
    "duration": 1291,
    "start_time": "2022-03-09T12:26:49.329Z"
   },
   {
    "duration": 18,
    "start_time": "2022-03-09T12:26:50.624Z"
   },
   {
    "duration": 39,
    "start_time": "2022-03-09T12:26:50.645Z"
   },
   {
    "duration": 13,
    "start_time": "2022-03-09T12:26:50.689Z"
   },
   {
    "duration": 6,
    "start_time": "2022-03-09T12:26:50.704Z"
   },
   {
    "duration": 11,
    "start_time": "2022-03-09T12:26:50.713Z"
   },
   {
    "duration": 9,
    "start_time": "2022-03-09T12:26:50.727Z"
   },
   {
    "duration": 15,
    "start_time": "2022-03-09T12:26:50.739Z"
   },
   {
    "duration": 6,
    "start_time": "2022-03-09T12:26:50.790Z"
   },
   {
    "duration": 6,
    "start_time": "2022-03-09T12:26:50.800Z"
   },
   {
    "duration": 636,
    "start_time": "2022-03-09T12:26:50.809Z"
   },
   {
    "duration": 188,
    "start_time": "2022-03-09T12:27:09.755Z"
   },
   {
    "duration": 1278,
    "start_time": "2022-03-09T12:27:39.745Z"
   },
   {
    "duration": 16,
    "start_time": "2022-03-09T12:27:41.026Z"
   },
   {
    "duration": 33,
    "start_time": "2022-03-09T12:27:41.045Z"
   },
   {
    "duration": 20,
    "start_time": "2022-03-09T12:27:41.080Z"
   },
   {
    "duration": 8,
    "start_time": "2022-03-09T12:27:41.102Z"
   },
   {
    "duration": 17,
    "start_time": "2022-03-09T12:27:41.112Z"
   },
   {
    "duration": 12,
    "start_time": "2022-03-09T12:27:41.131Z"
   },
   {
    "duration": 17,
    "start_time": "2022-03-09T12:27:41.146Z"
   },
   {
    "duration": 26,
    "start_time": "2022-03-09T12:27:41.167Z"
   },
   {
    "duration": 6,
    "start_time": "2022-03-09T12:27:41.196Z"
   },
   {
    "duration": 212,
    "start_time": "2022-03-09T12:27:41.205Z"
   },
   {
    "duration": 221,
    "start_time": "2022-03-09T12:28:52.309Z"
   },
   {
    "duration": 199,
    "start_time": "2022-03-09T12:29:38.382Z"
   },
   {
    "duration": 3,
    "start_time": "2022-03-09T12:30:38.195Z"
   },
   {
    "duration": 1083,
    "start_time": "2022-03-09T12:35:55.560Z"
   },
   {
    "duration": 1228,
    "start_time": "2022-03-09T12:36:09.531Z"
   },
   {
    "duration": 590,
    "start_time": "2022-03-09T12:38:51.839Z"
   },
   {
    "duration": 354,
    "start_time": "2022-03-09T12:38:56.142Z"
   },
   {
    "duration": 1356,
    "start_time": "2022-03-09T12:39:00.812Z"
   },
   {
    "duration": 602,
    "start_time": "2022-03-09T12:39:05.245Z"
   },
   {
    "duration": 7,
    "start_time": "2022-03-09T12:40:20.422Z"
   },
   {
    "duration": 190,
    "start_time": "2022-03-09T12:40:57.848Z"
   },
   {
    "duration": 9,
    "start_time": "2022-03-09T12:41:03.845Z"
   },
   {
    "duration": 4,
    "start_time": "2022-03-09T15:42:35.319Z"
   },
   {
    "duration": 24,
    "start_time": "2022-03-09T15:42:35.326Z"
   },
   {
    "duration": 16,
    "start_time": "2022-03-09T15:42:35.353Z"
   },
   {
    "duration": 13,
    "start_time": "2022-03-09T15:42:35.371Z"
   },
   {
    "duration": 6,
    "start_time": "2022-03-09T15:42:35.386Z"
   },
   {
    "duration": 7,
    "start_time": "2022-03-09T15:42:35.395Z"
   },
   {
    "duration": 7,
    "start_time": "2022-03-09T15:42:35.404Z"
   },
   {
    "duration": 11,
    "start_time": "2022-03-09T15:42:35.413Z"
   },
   {
    "duration": 7,
    "start_time": "2022-03-09T15:42:35.428Z"
   },
   {
    "duration": 54,
    "start_time": "2022-03-09T15:42:35.437Z"
   },
   {
    "duration": 219,
    "start_time": "2022-03-09T15:42:35.494Z"
   },
   {
    "duration": 650,
    "start_time": "2022-03-09T15:42:35.716Z"
   },
   {
    "duration": 18,
    "start_time": "2022-03-09T15:42:36.369Z"
   },
   {
    "duration": 298,
    "start_time": "2022-03-09T15:44:30.238Z"
   },
   {
    "duration": 259,
    "start_time": "2022-03-09T15:45:15.444Z"
   },
   {
    "duration": 257,
    "start_time": "2022-03-09T15:46:43.119Z"
   },
   {
    "duration": 1348,
    "start_time": "2022-03-09T15:47:20.964Z"
   },
   {
    "duration": 6,
    "start_time": "2022-03-09T15:50:10.952Z"
   },
   {
    "duration": 5289,
    "start_time": "2022-03-09T15:50:22.217Z"
   },
   {
    "duration": 5,
    "start_time": "2022-03-09T15:50:27.508Z"
   },
   {
    "duration": 1302,
    "start_time": "2022-03-09T15:50:36.556Z"
   },
   {
    "duration": 5,
    "start_time": "2022-03-09T15:50:42.893Z"
   },
   {
    "duration": 11,
    "start_time": "2022-03-09T15:53:02.863Z"
   },
   {
    "duration": 363,
    "start_time": "2022-03-09T15:57:34.601Z"
   },
   {
    "duration": 66,
    "start_time": "2022-03-09T15:59:38.295Z"
   },
   {
    "duration": 278,
    "start_time": "2022-03-09T16:00:26.215Z"
   },
   {
    "duration": 5,
    "start_time": "2022-03-09T16:04:47.025Z"
   },
   {
    "duration": 21,
    "start_time": "2022-03-09T16:04:47.032Z"
   },
   {
    "duration": 18,
    "start_time": "2022-03-09T16:04:47.058Z"
   },
   {
    "duration": 18,
    "start_time": "2022-03-09T16:04:47.078Z"
   },
   {
    "duration": 8,
    "start_time": "2022-03-09T16:04:47.098Z"
   },
   {
    "duration": 15,
    "start_time": "2022-03-09T16:04:47.109Z"
   },
   {
    "duration": 11,
    "start_time": "2022-03-09T16:04:47.127Z"
   },
   {
    "duration": 8,
    "start_time": "2022-03-09T16:04:47.141Z"
   },
   {
    "duration": 38,
    "start_time": "2022-03-09T16:04:47.153Z"
   },
   {
    "duration": 9,
    "start_time": "2022-03-09T16:04:47.193Z"
   },
   {
    "duration": 238,
    "start_time": "2022-03-09T16:04:47.204Z"
   },
   {
    "duration": 1350,
    "start_time": "2022-03-09T16:04:47.445Z"
   },
   {
    "duration": 5,
    "start_time": "2022-03-09T16:04:48.797Z"
   },
   {
    "duration": 11,
    "start_time": "2022-03-09T16:04:48.805Z"
   },
   {
    "duration": 319,
    "start_time": "2022-03-09T16:04:48.819Z"
   },
   {
    "duration": 239,
    "start_time": "2022-03-09T16:05:37.041Z"
   },
   {
    "duration": 280,
    "start_time": "2022-03-09T16:05:40.298Z"
   },
   {
    "duration": 286,
    "start_time": "2022-03-09T16:05:45.769Z"
   },
   {
    "duration": 245,
    "start_time": "2022-03-09T16:05:50.635Z"
   },
   {
    "duration": 182,
    "start_time": "2022-03-09T16:05:54.724Z"
   },
   {
    "duration": 286,
    "start_time": "2022-03-09T16:05:59.444Z"
   },
   {
    "duration": 287,
    "start_time": "2022-03-09T16:06:03.973Z"
   },
   {
    "duration": 136,
    "start_time": "2022-03-09T16:06:13.758Z"
   },
   {
    "duration": 206,
    "start_time": "2022-03-09T16:06:27.184Z"
   },
   {
    "duration": 295,
    "start_time": "2022-03-09T16:06:31.273Z"
   },
   {
    "duration": 269557,
    "start_time": "2022-03-09T16:10:26.076Z"
   },
   {
    "duration": 6,
    "start_time": "2022-03-09T16:15:37.806Z"
   },
   {
    "duration": 260,
    "start_time": "2022-03-09T16:27:13.764Z"
   },
   {
    "duration": 5,
    "start_time": "2022-03-09T16:27:29.273Z"
   },
   {
    "duration": 250,
    "start_time": "2022-03-09T16:27:33.697Z"
   },
   {
    "duration": 14071,
    "start_time": "2022-03-09T16:27:41.770Z"
   },
   {
    "duration": 5,
    "start_time": "2022-03-09T16:29:02.698Z"
   },
   {
    "duration": 43125,
    "start_time": "2022-03-09T16:41:28.806Z"
   },
   {
    "duration": 16960,
    "start_time": "2022-03-09T16:43:07.973Z"
   },
   {
    "duration": 10,
    "start_time": "2022-03-09T16:44:58.078Z"
   },
   {
    "duration": 4,
    "start_time": "2022-03-09T16:46:29.690Z"
   },
   {
    "duration": 26,
    "start_time": "2022-03-09T16:46:29.697Z"
   },
   {
    "duration": 21,
    "start_time": "2022-03-09T16:46:29.726Z"
   },
   {
    "duration": 38,
    "start_time": "2022-03-09T16:46:29.750Z"
   },
   {
    "duration": 5,
    "start_time": "2022-03-09T16:46:29.791Z"
   },
   {
    "duration": 9,
    "start_time": "2022-03-09T16:46:29.798Z"
   },
   {
    "duration": 9,
    "start_time": "2022-03-09T16:46:29.809Z"
   },
   {
    "duration": 9,
    "start_time": "2022-03-09T16:46:29.820Z"
   },
   {
    "duration": 56,
    "start_time": "2022-03-09T16:46:29.833Z"
   },
   {
    "duration": 8,
    "start_time": "2022-03-09T16:46:29.892Z"
   },
   {
    "duration": 240,
    "start_time": "2022-03-09T16:46:29.902Z"
   },
   {
    "duration": 1394,
    "start_time": "2022-03-09T16:46:30.144Z"
   },
   {
    "duration": 5,
    "start_time": "2022-03-09T16:46:31.540Z"
   },
   {
    "duration": 39,
    "start_time": "2022-03-09T16:46:31.548Z"
   },
   {
    "duration": 16908,
    "start_time": "2022-03-09T16:46:31.590Z"
   },
   {
    "duration": 9,
    "start_time": "2022-03-09T16:46:48.501Z"
   },
   {
    "duration": 99525,
    "start_time": "2022-03-09T16:46:48.513Z"
   },
   {
    "duration": 5,
    "start_time": "2022-03-09T16:48:28.040Z"
   },
   {
    "duration": 8622,
    "start_time": "2022-03-09T16:48:28.048Z"
   },
   {
    "duration": 15,
    "start_time": "2022-03-09T16:48:36.672Z"
   },
   {
    "duration": 19,
    "start_time": "2022-03-09T16:48:36.690Z"
   },
   {
    "duration": 7,
    "start_time": "2022-03-09T16:49:25.831Z"
   },
   {
    "duration": 7,
    "start_time": "2022-03-09T16:49:34.528Z"
   },
   {
    "duration": 221,
    "start_time": "2022-03-09T16:50:16.502Z"
   },
   {
    "duration": 5,
    "start_time": "2022-03-09T16:50:20.447Z"
   },
   {
    "duration": 18312,
    "start_time": "2022-03-09T16:50:46.118Z"
   },
   {
    "duration": 26,
    "start_time": "2022-03-09T16:51:04.432Z"
   },
   {
    "duration": 39,
    "start_time": "2022-03-09T16:51:12.557Z"
   },
   {
    "duration": 219,
    "start_time": "2022-03-09T17:02:14.286Z"
   },
   {
    "duration": 4,
    "start_time": "2022-03-09T17:02:21.522Z"
   },
   {
    "duration": 24,
    "start_time": "2022-03-09T17:02:26.778Z"
   },
   {
    "duration": 4,
    "start_time": "2022-03-09T17:15:27.540Z"
   },
   {
    "duration": 258,
    "start_time": "2022-03-09T17:15:41.496Z"
   },
   {
    "duration": 245,
    "start_time": "2022-03-09T17:16:18.421Z"
   },
   {
    "duration": 243,
    "start_time": "2022-03-09T17:18:25.077Z"
   },
   {
    "duration": 9,
    "start_time": "2022-03-09T17:18:35.574Z"
   },
   {
    "duration": 5,
    "start_time": "2022-03-09T17:18:47.200Z"
   },
   {
    "duration": 6,
    "start_time": "2022-03-09T17:18:49.688Z"
   },
   {
    "duration": 8,
    "start_time": "2022-03-09T17:18:51.895Z"
   },
   {
    "duration": 221,
    "start_time": "2022-03-09T17:21:52.089Z"
   },
   {
    "duration": 5,
    "start_time": "2022-03-09T17:22:06.976Z"
   },
   {
    "duration": 18,
    "start_time": "2022-03-09T17:22:13.176Z"
   },
   {
    "duration": 233,
    "start_time": "2022-03-09T17:22:45.956Z"
   },
   {
    "duration": 6,
    "start_time": "2022-03-09T17:22:57.134Z"
   },
   {
    "duration": 8,
    "start_time": "2022-03-09T17:23:00.440Z"
   },
   {
    "duration": 241,
    "start_time": "2022-03-09T17:30:20.519Z"
   },
   {
    "duration": 5,
    "start_time": "2022-03-09T17:30:45.540Z"
   },
   {
    "duration": 8,
    "start_time": "2022-03-09T17:31:45.795Z"
   },
   {
    "duration": 8,
    "start_time": "2022-03-09T17:31:55.970Z"
   },
   {
    "duration": 4,
    "start_time": "2022-03-10T06:47:10.650Z"
   },
   {
    "duration": 23,
    "start_time": "2022-03-10T06:47:10.657Z"
   },
   {
    "duration": 20,
    "start_time": "2022-03-10T06:47:10.684Z"
   },
   {
    "duration": 13,
    "start_time": "2022-03-10T06:47:10.707Z"
   },
   {
    "duration": 5,
    "start_time": "2022-03-10T06:47:10.723Z"
   },
   {
    "duration": 13,
    "start_time": "2022-03-10T06:47:10.730Z"
   },
   {
    "duration": 46,
    "start_time": "2022-03-10T06:47:10.746Z"
   },
   {
    "duration": 12,
    "start_time": "2022-03-10T06:47:10.794Z"
   },
   {
    "duration": 5,
    "start_time": "2022-03-10T06:47:10.810Z"
   },
   {
    "duration": 7,
    "start_time": "2022-03-10T06:47:10.818Z"
   },
   {
    "duration": 300,
    "start_time": "2022-03-10T06:47:10.828Z"
   },
   {
    "duration": 1484,
    "start_time": "2022-03-10T06:47:11.131Z"
   },
   {
    "duration": 5,
    "start_time": "2022-03-10T06:47:12.617Z"
   },
   {
    "duration": 9,
    "start_time": "2022-03-10T06:47:12.624Z"
   },
   {
    "duration": 19122,
    "start_time": "2022-03-10T06:47:12.635Z"
   },
   {
    "duration": 37,
    "start_time": "2022-03-10T06:47:31.759Z"
   },
   {
    "duration": 40,
    "start_time": "2022-03-10T06:47:31.799Z"
   },
   {
    "duration": 104263,
    "start_time": "2022-03-10T06:47:31.842Z"
   },
   {
    "duration": 5,
    "start_time": "2022-03-10T06:49:16.108Z"
   },
   {
    "duration": 7833,
    "start_time": "2022-03-10T06:49:16.115Z"
   },
   {
    "duration": 5,
    "start_time": "2022-03-10T06:49:23.951Z"
   },
   {
    "duration": 34,
    "start_time": "2022-03-10T06:49:23.958Z"
   },
   {
    "duration": 6,
    "start_time": "2022-03-10T06:49:23.995Z"
   },
   {
    "duration": 9,
    "start_time": "2022-03-10T06:49:24.003Z"
   },
   {
    "duration": 7,
    "start_time": "2022-03-10T06:49:24.014Z"
   },
   {
    "duration": 9,
    "start_time": "2022-03-10T06:49:24.023Z"
   },
   {
    "duration": 5,
    "start_time": "2022-03-10T06:54:44.230Z"
   },
   {
    "duration": 168,
    "start_time": "2022-03-10T06:56:21.534Z"
   },
   {
    "duration": 58,
    "start_time": "2022-03-10T06:56:49.802Z"
   },
   {
    "duration": 733,
    "start_time": "2022-03-10T06:56:55.468Z"
   },
   {
    "duration": 1433,
    "start_time": "2022-03-10T06:57:39.080Z"
   },
   {
    "duration": 567,
    "start_time": "2022-03-10T06:57:45.913Z"
   },
   {
    "duration": 567,
    "start_time": "2022-03-10T07:00:18.384Z"
   },
   {
    "duration": 538,
    "start_time": "2022-03-10T07:00:23.990Z"
   },
   {
    "duration": 550,
    "start_time": "2022-03-10T07:00:27.849Z"
   },
   {
    "duration": 549,
    "start_time": "2022-03-10T07:00:32.282Z"
   },
   {
    "duration": 20,
    "start_time": "2022-03-10T07:03:46.112Z"
   },
   {
    "duration": 121,
    "start_time": "2022-03-10T07:04:58.611Z"
   },
   {
    "duration": 127,
    "start_time": "2022-03-10T07:10:09.168Z"
   },
   {
    "duration": 130,
    "start_time": "2022-03-10T07:10:32.794Z"
   },
   {
    "duration": 51,
    "start_time": "2022-03-10T07:28:35.975Z"
   },
   {
    "duration": 1115,
    "start_time": "2022-03-10T07:28:41.799Z"
   },
   {
    "duration": 1402,
    "start_time": "2022-03-10T07:28:51.411Z"
   },
   {
    "duration": 1111,
    "start_time": "2022-03-10T07:28:56.836Z"
   },
   {
    "duration": 866,
    "start_time": "2022-03-10T07:29:00.445Z"
   },
   {
    "duration": 636,
    "start_time": "2022-03-10T07:29:03.911Z"
   },
   {
    "duration": 871,
    "start_time": "2022-03-10T07:29:07.253Z"
   },
   {
    "duration": 867,
    "start_time": "2022-03-10T07:29:15.995Z"
   },
   {
    "duration": 868,
    "start_time": "2022-03-10T07:29:20.478Z"
   },
   {
    "duration": 874,
    "start_time": "2022-03-10T07:29:24.883Z"
   },
   {
    "duration": 850,
    "start_time": "2022-03-10T07:29:28.477Z"
   },
   {
    "duration": 838,
    "start_time": "2022-03-10T07:29:32.464Z"
   },
   {
    "duration": 15892,
    "start_time": "2022-03-10T07:31:32.601Z"
   },
   {
    "duration": 11,
    "start_time": "2022-03-10T07:32:00.010Z"
   },
   {
    "duration": 8,
    "start_time": "2022-03-10T07:43:10.067Z"
   },
   {
    "duration": 6,
    "start_time": "2022-03-10T07:43:19.970Z"
   },
   {
    "duration": 7,
    "start_time": "2022-03-10T07:43:23.117Z"
   },
   {
    "duration": 120,
    "start_time": "2022-03-10T07:51:14.126Z"
   },
   {
    "duration": 252,
    "start_time": "2022-03-10T07:52:48.824Z"
   },
   {
    "duration": 468,
    "start_time": "2022-03-10T07:52:59.243Z"
   },
   {
    "duration": 195,
    "start_time": "2022-03-10T07:53:25.816Z"
   },
   {
    "duration": 269,
    "start_time": "2022-03-10T07:53:28.041Z"
   },
   {
    "duration": 282,
    "start_time": "2022-03-10T07:53:42.439Z"
   },
   {
    "duration": 8,
    "start_time": "2022-03-10T08:04:08.215Z"
   },
   {
    "duration": 10,
    "start_time": "2022-03-10T08:04:21.608Z"
   },
   {
    "duration": 5,
    "start_time": "2022-03-10T08:14:43.537Z"
   },
   {
    "duration": 16,
    "start_time": "2022-03-10T08:15:10.063Z"
   },
   {
    "duration": 16,
    "start_time": "2022-03-10T08:47:44.756Z"
   },
   {
    "duration": 6,
    "start_time": "2022-03-10T08:47:50.914Z"
   },
   {
    "duration": 15,
    "start_time": "2022-03-10T08:47:56.375Z"
   },
   {
    "duration": 12,
    "start_time": "2022-03-10T08:48:09.479Z"
   },
   {
    "duration": 6,
    "start_time": "2022-03-10T08:48:22.968Z"
   },
   {
    "duration": 212,
    "start_time": "2022-03-10T08:50:55.805Z"
   },
   {
    "duration": 1301,
    "start_time": "2022-03-10T08:53:41.900Z"
   },
   {
    "duration": 604,
    "start_time": "2022-03-10T08:55:22.517Z"
   },
   {
    "duration": 6,
    "start_time": "2022-03-10T08:55:28.700Z"
   },
   {
    "duration": 16232,
    "start_time": "2022-03-10T09:00:31.269Z"
   },
   {
    "duration": 16132,
    "start_time": "2022-03-10T09:01:47.745Z"
   },
   {
    "duration": 98728,
    "start_time": "2022-03-10T09:02:53.536Z"
   },
   {
    "duration": 157,
    "start_time": "2022-03-10T09:04:34.353Z"
   },
   {
    "duration": 46337,
    "start_time": "2022-03-10T09:04:45.619Z"
   },
   {
    "duration": 78,
    "start_time": "2022-03-10T09:06:11.552Z"
   },
   {
    "duration": 6125,
    "start_time": "2022-03-10T09:06:57.168Z"
   },
   {
    "duration": 5262,
    "start_time": "2022-03-10T09:07:26.169Z"
   },
   {
    "duration": 5319,
    "start_time": "2022-03-10T09:09:23.390Z"
   },
   {
    "duration": 24,
    "start_time": "2022-03-10T09:12:31.108Z"
   },
   {
    "duration": 4,
    "start_time": "2022-03-10T09:18:35.984Z"
   },
   {
    "duration": 241,
    "start_time": "2022-03-10T09:19:03.420Z"
   },
   {
    "duration": 227,
    "start_time": "2022-03-10T09:19:22.002Z"
   },
   {
    "duration": 5262,
    "start_time": "2022-03-10T09:19:27.505Z"
   },
   {
    "duration": 252,
    "start_time": "2022-03-10T09:20:31.865Z"
   },
   {
    "duration": 7810,
    "start_time": "2022-03-10T09:20:58.126Z"
   },
   {
    "duration": 5097,
    "start_time": "2022-03-10T09:21:19.211Z"
   },
   {
    "duration": 154,
    "start_time": "2022-03-10T09:21:41.272Z"
   },
   {
    "duration": 572,
    "start_time": "2022-03-10T09:21:46.740Z"
   },
   {
    "duration": 4014,
    "start_time": "2022-03-10T09:22:18.649Z"
   },
   {
    "duration": 9,
    "start_time": "2022-03-10T09:23:00.152Z"
   },
   {
    "duration": 6,
    "start_time": "2022-03-10T09:23:41.067Z"
   },
   {
    "duration": 27,
    "start_time": "2022-03-10T09:23:41.076Z"
   },
   {
    "duration": 17,
    "start_time": "2022-03-10T09:23:41.107Z"
   },
   {
    "duration": 9,
    "start_time": "2022-03-10T09:23:41.127Z"
   },
   {
    "duration": 12,
    "start_time": "2022-03-10T09:23:41.138Z"
   },
   {
    "duration": 41,
    "start_time": "2022-03-10T09:23:41.152Z"
   },
   {
    "duration": 20,
    "start_time": "2022-03-10T09:23:41.196Z"
   },
   {
    "duration": 13,
    "start_time": "2022-03-10T09:23:41.219Z"
   },
   {
    "duration": 8,
    "start_time": "2022-03-10T09:23:41.236Z"
   },
   {
    "duration": 17,
    "start_time": "2022-03-10T09:23:41.247Z"
   },
   {
    "duration": 21,
    "start_time": "2022-03-10T09:23:41.266Z"
   },
   {
    "duration": 20,
    "start_time": "2022-03-10T09:23:41.290Z"
   },
   {
    "duration": 8,
    "start_time": "2022-03-10T09:23:41.313Z"
   },
   {
    "duration": 16,
    "start_time": "2022-03-10T09:23:41.324Z"
   },
   {
    "duration": 8,
    "start_time": "2022-03-10T09:23:41.342Z"
   },
   {
    "duration": 217,
    "start_time": "2022-03-10T09:23:41.353Z"
   },
   {
    "duration": 609,
    "start_time": "2022-03-10T09:23:41.572Z"
   },
   {
    "duration": 5,
    "start_time": "2022-03-10T09:23:42.187Z"
   },
   {
    "duration": 16138,
    "start_time": "2022-03-10T09:23:42.194Z"
   },
   {
    "duration": 47024,
    "start_time": "2022-03-10T09:23:58.334Z"
   },
   {
    "duration": 5446,
    "start_time": "2022-03-10T09:24:45.361Z"
   },
   {
    "duration": 25,
    "start_time": "2022-03-10T09:24:50.810Z"
   },
   {
    "duration": 583,
    "start_time": "2022-03-10T09:24:50.838Z"
   },
   {
    "duration": 4895,
    "start_time": "2022-03-10T09:24:51.425Z"
   },
   {
    "duration": 883,
    "start_time": "2022-03-10T09:24:56.324Z"
   },
   {
    "duration": 3219,
    "start_time": "2022-03-10T09:24:57.210Z"
   },
   {
    "duration": 7,
    "start_time": "2022-03-10T09:25:00.435Z"
   },
   {
    "duration": 13,
    "start_time": "2022-03-10T09:25:00.445Z"
   },
   {
    "duration": 32,
    "start_time": "2022-03-10T09:25:00.461Z"
   },
   {
    "duration": 28,
    "start_time": "2022-03-10T09:25:00.496Z"
   },
   {
    "duration": 19,
    "start_time": "2022-03-10T09:25:43.663Z"
   },
   {
    "duration": 112,
    "start_time": "2022-03-10T09:33:10.853Z"
   },
   {
    "duration": 18479,
    "start_time": "2022-03-10T09:33:47.066Z"
   },
   {
    "duration": 16518,
    "start_time": "2022-03-10T09:34:13.273Z"
   },
   {
    "duration": 17,
    "start_time": "2022-03-10T09:43:09.133Z"
   },
   {
    "duration": 85,
    "start_time": "2022-03-10T09:43:32.425Z"
   },
   {
    "duration": 555,
    "start_time": "2022-03-10T09:43:58.826Z"
   },
   {
    "duration": 55833,
    "start_time": "2022-03-10T09:48:36.776Z"
   },
   {
    "duration": 5,
    "start_time": "2022-03-10T09:50:03.490Z"
   },
   {
    "duration": 28,
    "start_time": "2022-03-10T09:50:03.498Z"
   },
   {
    "duration": 28,
    "start_time": "2022-03-10T09:50:03.529Z"
   },
   {
    "duration": 31,
    "start_time": "2022-03-10T09:50:03.560Z"
   },
   {
    "duration": 26,
    "start_time": "2022-03-10T09:50:03.593Z"
   },
   {
    "duration": 40,
    "start_time": "2022-03-10T09:50:03.621Z"
   },
   {
    "duration": 22,
    "start_time": "2022-03-10T09:50:03.664Z"
   },
   {
    "duration": 34,
    "start_time": "2022-03-10T09:50:03.688Z"
   },
   {
    "duration": 31,
    "start_time": "2022-03-10T09:50:03.726Z"
   },
   {
    "duration": 30,
    "start_time": "2022-03-10T09:50:03.761Z"
   },
   {
    "duration": 29,
    "start_time": "2022-03-10T09:50:03.794Z"
   },
   {
    "duration": 34,
    "start_time": "2022-03-10T09:50:03.826Z"
   },
   {
    "duration": 25,
    "start_time": "2022-03-10T09:50:03.863Z"
   },
   {
    "duration": 34,
    "start_time": "2022-03-10T09:50:03.891Z"
   },
   {
    "duration": 18,
    "start_time": "2022-03-10T09:50:03.928Z"
   },
   {
    "duration": 228,
    "start_time": "2022-03-10T09:50:03.949Z"
   },
   {
    "duration": 617,
    "start_time": "2022-03-10T09:50:04.180Z"
   },
   {
    "duration": 4,
    "start_time": "2022-03-10T09:50:04.800Z"
   },
   {
    "duration": 16581,
    "start_time": "2022-03-10T09:50:04.807Z"
   },
   {
    "duration": 46760,
    "start_time": "2022-03-10T09:50:21.391Z"
   },
   {
    "duration": 5962,
    "start_time": "2022-03-10T09:51:08.153Z"
   },
   {
    "duration": 17,
    "start_time": "2022-03-10T09:51:14.118Z"
   },
   {
    "duration": 588,
    "start_time": "2022-03-10T09:51:14.138Z"
   },
   {
    "duration": 55560,
    "start_time": "2022-03-10T09:51:14.728Z"
   },
   {
    "duration": 951,
    "start_time": "2022-03-10T09:52:10.291Z"
   },
   {
    "duration": 3943,
    "start_time": "2022-03-10T09:52:11.244Z"
   },
   {
    "duration": 7,
    "start_time": "2022-03-10T09:52:15.191Z"
   },
   {
    "duration": 9,
    "start_time": "2022-03-10T09:52:15.201Z"
   },
   {
    "duration": 6,
    "start_time": "2022-03-10T09:52:15.212Z"
   },
   {
    "duration": 9,
    "start_time": "2022-03-10T09:52:15.221Z"
   },
   {
    "duration": 6389,
    "start_time": "2022-03-10T09:53:10.308Z"
   },
   {
    "duration": 25689,
    "start_time": "2022-03-10T09:56:24.986Z"
   },
   {
    "duration": 7,
    "start_time": "2022-03-10T10:03:26.056Z"
   },
   {
    "duration": 261,
    "start_time": "2022-03-10T10:04:13.571Z"
   },
   {
    "duration": 7,
    "start_time": "2022-03-10T10:04:36.906Z"
   },
   {
    "duration": 10,
    "start_time": "2022-03-10T10:06:48.423Z"
   },
   {
    "duration": 16,
    "start_time": "2022-03-10T10:08:16.568Z"
   },
   {
    "duration": 240,
    "start_time": "2022-03-10T10:08:33.294Z"
   },
   {
    "duration": 21,
    "start_time": "2022-03-10T10:08:48.536Z"
   },
   {
    "duration": 7,
    "start_time": "2022-03-10T10:12:07.737Z"
   },
   {
    "duration": 10,
    "start_time": "2022-03-10T10:14:11.874Z"
   },
   {
    "duration": 9,
    "start_time": "2022-03-10T10:14:18.904Z"
   },
   {
    "duration": 22,
    "start_time": "2022-03-10T10:15:35.113Z"
   },
   {
    "duration": 5,
    "start_time": "2022-03-10T10:22:39.886Z"
   },
   {
    "duration": 7,
    "start_time": "2022-03-10T10:22:58.804Z"
   },
   {
    "duration": 218,
    "start_time": "2022-03-10T10:23:52.848Z"
   },
   {
    "duration": 21,
    "start_time": "2022-03-10T10:24:11.033Z"
   },
   {
    "duration": 6,
    "start_time": "2022-03-10T10:24:25.113Z"
   },
   {
    "duration": 4,
    "start_time": "2022-03-10T10:26:46.319Z"
   },
   {
    "duration": 7,
    "start_time": "2022-03-10T10:26:53.060Z"
   },
   {
    "duration": 5,
    "start_time": "2022-03-10T10:27:00.039Z"
   },
   {
    "duration": 6,
    "start_time": "2022-03-10T10:27:13.080Z"
   },
   {
    "duration": 6,
    "start_time": "2022-03-10T10:27:40.121Z"
   },
   {
    "duration": 5,
    "start_time": "2022-03-10T10:46:16.528Z"
   },
   {
    "duration": 29,
    "start_time": "2022-03-10T10:46:16.536Z"
   },
   {
    "duration": 22,
    "start_time": "2022-03-10T10:46:16.568Z"
   },
   {
    "duration": 26,
    "start_time": "2022-03-10T10:46:16.593Z"
   },
   {
    "duration": 20,
    "start_time": "2022-03-10T10:46:16.621Z"
   },
   {
    "duration": 14,
    "start_time": "2022-03-10T10:46:16.643Z"
   },
   {
    "duration": 4,
    "start_time": "2022-03-10T10:46:16.659Z"
   },
   {
    "duration": 10,
    "start_time": "2022-03-10T10:46:16.665Z"
   },
   {
    "duration": 8,
    "start_time": "2022-03-10T10:46:16.680Z"
   },
   {
    "duration": 17,
    "start_time": "2022-03-10T10:46:16.691Z"
   },
   {
    "duration": 8,
    "start_time": "2022-03-10T10:46:16.710Z"
   },
   {
    "duration": 22,
    "start_time": "2022-03-10T10:46:16.721Z"
   },
   {
    "duration": 7,
    "start_time": "2022-03-10T10:46:16.745Z"
   },
   {
    "duration": 21,
    "start_time": "2022-03-10T10:46:16.754Z"
   },
   {
    "duration": 8,
    "start_time": "2022-03-10T10:46:16.778Z"
   },
   {
    "duration": 199,
    "start_time": "2022-03-10T10:46:16.788Z"
   },
   {
    "duration": 698,
    "start_time": "2022-03-10T10:46:16.989Z"
   },
   {
    "duration": 4,
    "start_time": "2022-03-10T10:46:17.689Z"
   },
   {
    "duration": 16344,
    "start_time": "2022-03-10T10:46:17.695Z"
   },
   {
    "duration": 47346,
    "start_time": "2022-03-10T10:46:34.041Z"
   },
   {
    "duration": 5859,
    "start_time": "2022-03-10T10:47:21.390Z"
   },
   {
    "duration": 18,
    "start_time": "2022-03-10T10:47:27.251Z"
   },
   {
    "duration": 581,
    "start_time": "2022-03-10T10:47:27.288Z"
   },
   {
    "duration": 55033,
    "start_time": "2022-03-10T10:47:27.872Z"
   },
   {
    "duration": 6046,
    "start_time": "2022-03-10T10:48:22.907Z"
   },
   {
    "duration": 873,
    "start_time": "2022-03-10T10:48:28.955Z"
   },
   {
    "duration": 25314,
    "start_time": "2022-03-10T10:48:29.832Z"
   },
   {
    "duration": 3158,
    "start_time": "2022-03-10T10:48:55.148Z"
   },
   {
    "duration": 7,
    "start_time": "2022-03-10T10:48:58.309Z"
   },
   {
    "duration": 9,
    "start_time": "2022-03-10T10:48:58.319Z"
   },
   {
    "duration": 10,
    "start_time": "2022-03-10T10:48:58.331Z"
   },
   {
    "duration": 55,
    "start_time": "2022-03-10T10:48:58.343Z"
   },
   {
    "duration": 16,
    "start_time": "2022-03-10T10:48:58.400Z"
   },
   {
    "duration": 7,
    "start_time": "2022-03-10T10:48:58.418Z"
   },
   {
    "duration": 70,
    "start_time": "2022-03-10T10:48:58.428Z"
   },
   {
    "duration": 5,
    "start_time": "2022-03-10T10:48:58.500Z"
   },
   {
    "duration": 8,
    "start_time": "2022-03-10T10:48:58.508Z"
   },
   {
    "duration": 13,
    "start_time": "2022-03-10T10:48:58.518Z"
   },
   {
    "duration": 7,
    "start_time": "2022-03-10T10:48:58.533Z"
   },
   {
    "duration": 4,
    "start_time": "2022-03-10T10:48:58.542Z"
   },
   {
    "duration": 8,
    "start_time": "2022-03-10T10:48:58.588Z"
   },
   {
    "duration": 1184,
    "start_time": "2022-03-10T14:26:45.092Z"
   },
   {
    "duration": 295,
    "start_time": "2022-03-10T14:28:55.140Z"
   },
   {
    "duration": 4,
    "start_time": "2022-03-10T14:29:00.370Z"
   },
   {
    "duration": 30,
    "start_time": "2022-03-10T14:29:00.376Z"
   },
   {
    "duration": 16,
    "start_time": "2022-03-10T14:29:00.408Z"
   },
   {
    "duration": 10,
    "start_time": "2022-03-10T14:29:00.426Z"
   },
   {
    "duration": 18,
    "start_time": "2022-03-10T14:29:00.438Z"
   },
   {
    "duration": 12,
    "start_time": "2022-03-10T14:29:00.458Z"
   },
   {
    "duration": 15,
    "start_time": "2022-03-10T14:29:00.472Z"
   },
   {
    "duration": 20,
    "start_time": "2022-03-10T14:29:00.489Z"
   },
   {
    "duration": 14,
    "start_time": "2022-03-10T14:29:00.512Z"
   },
   {
    "duration": 18,
    "start_time": "2022-03-10T14:29:00.529Z"
   },
   {
    "duration": 15,
    "start_time": "2022-03-10T14:29:00.548Z"
   },
   {
    "duration": 20,
    "start_time": "2022-03-10T14:29:00.565Z"
   },
   {
    "duration": 26,
    "start_time": "2022-03-10T14:29:00.587Z"
   },
   {
    "duration": 16,
    "start_time": "2022-03-10T14:29:00.615Z"
   },
   {
    "duration": 13,
    "start_time": "2022-03-10T14:29:00.633Z"
   },
   {
    "duration": 148,
    "start_time": "2022-03-10T14:29:00.648Z"
   },
   {
    "duration": 433,
    "start_time": "2022-03-10T14:29:00.798Z"
   },
   {
    "duration": 6,
    "start_time": "2022-03-10T14:29:01.233Z"
   },
   {
    "duration": 10142,
    "start_time": "2022-03-10T14:29:01.240Z"
   },
   {
    "duration": 29852,
    "start_time": "2022-03-10T14:29:11.383Z"
   },
   {
    "duration": 3731,
    "start_time": "2022-03-10T14:29:41.237Z"
   },
   {
    "duration": 14,
    "start_time": "2022-03-10T14:29:44.970Z"
   },
   {
    "duration": 396,
    "start_time": "2022-03-10T14:29:44.986Z"
   },
   {
    "duration": 36780,
    "start_time": "2022-03-10T14:29:45.384Z"
   },
   {
    "duration": 4616,
    "start_time": "2022-03-10T14:30:22.167Z"
   },
   {
    "duration": 567,
    "start_time": "2022-03-10T14:30:26.784Z"
   },
   {
    "duration": 17287,
    "start_time": "2022-03-10T14:30:27.355Z"
   },
   {
    "duration": 1872,
    "start_time": "2022-03-10T14:30:44.644Z"
   },
   {
    "duration": 5,
    "start_time": "2022-03-10T14:30:46.518Z"
   },
   {
    "duration": 6,
    "start_time": "2022-03-10T14:30:46.537Z"
   },
   {
    "duration": 8,
    "start_time": "2022-03-10T14:30:46.544Z"
   },
   {
    "duration": 11,
    "start_time": "2022-03-10T14:30:46.554Z"
   },
   {
    "duration": 8,
    "start_time": "2022-03-10T14:30:46.567Z"
   },
   {
    "duration": 5,
    "start_time": "2022-03-10T14:30:46.577Z"
   },
   {
    "duration": 59,
    "start_time": "2022-03-10T14:30:46.584Z"
   },
   {
    "duration": 4,
    "start_time": "2022-03-10T14:30:46.645Z"
   },
   {
    "duration": 8,
    "start_time": "2022-03-10T14:30:46.651Z"
   },
   {
    "duration": 7,
    "start_time": "2022-03-10T14:30:46.661Z"
   },
   {
    "duration": 182,
    "start_time": "2022-03-10T14:30:46.670Z"
   },
   {
    "duration": 132562,
    "start_time": "2022-03-10T14:28:34.292Z"
   },
   {
    "duration": 132560,
    "start_time": "2022-03-10T14:28:34.295Z"
   },
   {
    "duration": 132559,
    "start_time": "2022-03-10T14:28:34.297Z"
   },
   {
    "duration": 4,
    "start_time": "2022-03-10T14:32:08.972Z"
   },
   {
    "duration": 5,
    "start_time": "2022-03-10T14:32:09.774Z"
   },
   {
    "duration": 7,
    "start_time": "2022-03-10T14:32:10.455Z"
   },
   {
    "duration": 6,
    "start_time": "2022-03-10T14:32:49.709Z"
   },
   {
    "duration": 6,
    "start_time": "2022-03-10T14:34:37.403Z"
   },
   {
    "duration": 5,
    "start_time": "2022-03-10T14:34:41.252Z"
   },
   {
    "duration": 6,
    "start_time": "2022-03-10T14:38:01.886Z"
   },
   {
    "duration": 16,
    "start_time": "2022-03-10T14:38:15.399Z"
   },
   {
    "duration": 5,
    "start_time": "2022-03-10T14:38:17.416Z"
   },
   {
    "duration": 6,
    "start_time": "2022-03-10T14:41:45.284Z"
   },
   {
    "duration": 4,
    "start_time": "2022-03-10T14:42:24.512Z"
   },
   {
    "duration": 5,
    "start_time": "2022-03-10T14:42:56.341Z"
   },
   {
    "duration": 137,
    "start_time": "2022-03-25T16:07:07.588Z"
   },
   {
    "duration": 1704,
    "start_time": "2022-03-25T17:04:15.007Z"
   },
   {
    "duration": 76,
    "start_time": "2022-03-25T17:04:16.713Z"
   },
   {
    "duration": 18,
    "start_time": "2022-03-25T17:04:16.791Z"
   },
   {
    "duration": 8,
    "start_time": "2022-03-25T17:04:16.810Z"
   },
   {
    "duration": 6,
    "start_time": "2022-03-25T17:04:16.820Z"
   },
   {
    "duration": 15,
    "start_time": "2022-03-25T17:04:16.827Z"
   },
   {
    "duration": 5,
    "start_time": "2022-03-25T17:04:16.843Z"
   },
   {
    "duration": 7,
    "start_time": "2022-03-25T17:04:16.849Z"
   },
   {
    "duration": 5,
    "start_time": "2022-03-25T17:04:16.858Z"
   },
   {
    "duration": 44,
    "start_time": "2022-03-25T17:04:16.865Z"
   },
   {
    "duration": 11,
    "start_time": "2022-03-25T17:04:16.910Z"
   },
   {
    "duration": 16,
    "start_time": "2022-03-25T17:04:16.923Z"
   },
   {
    "duration": 7,
    "start_time": "2022-03-25T17:04:16.941Z"
   },
   {
    "duration": 10,
    "start_time": "2022-03-25T17:04:16.951Z"
   },
   {
    "duration": 6,
    "start_time": "2022-03-25T17:04:16.962Z"
   },
   {
    "duration": 8,
    "start_time": "2022-03-25T17:04:16.969Z"
   },
   {
    "duration": 214,
    "start_time": "2022-03-25T17:04:16.978Z"
   },
   {
    "duration": 548,
    "start_time": "2022-03-25T17:04:17.194Z"
   },
   {
    "duration": 5,
    "start_time": "2022-03-25T17:04:17.744Z"
   },
   {
    "duration": 12075,
    "start_time": "2022-03-25T17:04:17.751Z"
   },
   {
    "duration": 34321,
    "start_time": "2022-03-25T17:04:29.828Z"
   },
   {
    "duration": 4504,
    "start_time": "2022-03-25T17:05:04.151Z"
   },
   {
    "duration": 27,
    "start_time": "2022-03-25T17:05:08.657Z"
   },
   {
    "duration": 972,
    "start_time": "2022-03-25T17:05:08.686Z"
   },
   {
    "duration": 63193,
    "start_time": "2022-03-25T17:05:09.660Z"
   },
   {
    "duration": 162,
    "start_time": "2022-03-25T17:06:12.855Z"
   },
   {
    "duration": 126894,
    "start_time": "2022-03-25T17:06:13.018Z"
   },
   {
    "duration": 572008,
    "start_time": "2022-03-25T17:08:19.914Z"
   },
   {
    "duration": 67,
    "start_time": "2022-03-25T17:17:51.924Z"
   },
   {
    "duration": 16,
    "start_time": "2022-03-25T17:17:51.992Z"
   },
   {
    "duration": 6,
    "start_time": "2022-03-25T17:17:52.010Z"
   },
   {
    "duration": 14,
    "start_time": "2022-03-25T17:17:52.017Z"
   },
   {
    "duration": 17,
    "start_time": "2022-03-25T17:17:52.033Z"
   },
   {
    "duration": 20,
    "start_time": "2022-03-25T17:17:52.051Z"
   },
   {
    "duration": 6,
    "start_time": "2022-03-25T17:17:52.072Z"
   },
   {
    "duration": 39,
    "start_time": "2022-03-25T17:17:52.079Z"
   },
   {
    "duration": 0,
    "start_time": "2022-03-25T17:17:52.119Z"
   },
   {
    "duration": 0,
    "start_time": "2022-03-25T17:17:52.121Z"
   }
  ],
  "kernelspec": {
   "display_name": "Python 3 (ipykernel)",
   "language": "python",
   "name": "python3"
  },
  "language_info": {
   "codemirror_mode": {
    "name": "ipython",
    "version": 3
   },
   "file_extension": ".py",
   "mimetype": "text/x-python",
   "name": "python",
   "nbconvert_exporter": "python",
   "pygments_lexer": "ipython3",
   "version": "3.9.5"
  },
  "toc": {
   "base_numbering": 1,
   "nav_menu": {},
   "number_sections": true,
   "sideBar": true,
   "skip_h1_title": true,
   "title_cell": "Table of Contents",
   "title_sidebar": "Contents",
   "toc_cell": false,
   "toc_position": {
    "height": "calc(100% - 180px)",
    "left": "10px",
    "top": "150px",
    "width": "255.594px"
   },
   "toc_section_display": true,
   "toc_window_display": true
  }
 },
 "nbformat": 4,
 "nbformat_minor": 2
}
