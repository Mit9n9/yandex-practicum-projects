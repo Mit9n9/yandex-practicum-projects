{
 "cells": [
  {
   "cell_type": "markdown",
   "metadata": {
    "toc": true
   },
   "source": [
    "<h1>Содержание<span class=\"tocSkip\"></span></h1>\n",
    "<div class=\"toc\"><ul class=\"toc-item\"><li><span><a href=\"#Исследование-объявлений-о-продаже-квартир\" data-toc-modified-id=\"Исследование-объявлений-о-продаже-квартир-1\">Исследование объявлений о продаже квартир</a></span><ul class=\"toc-item\"><li><span><a href=\"#1.-Изучение-данных-из-файла\" data-toc-modified-id=\"1.-Изучение-данных-из-файла-1.1\">1. Изучение данных из файла</a></span><ul class=\"toc-item\"><li><span><a href=\"#Вывод\" data-toc-modified-id=\"Вывод-1.1.1\">Вывод</a></span></li></ul></li><li><span><a href=\"#2.-Предобработка-данных\" data-toc-modified-id=\"2.-Предобработка-данных-1.2\">2. Предобработка данных</a></span><ul class=\"toc-item\"><li><span><a href=\"#Пропуски-и-дупликаты\" data-toc-modified-id=\"Пропуски-и-дупликаты-1.2.1\">Пропуски и дупликаты</a></span><ul class=\"toc-item\"><li><span><a href=\"#Вывод\" data-toc-modified-id=\"Вывод-1.2.1.1\">Вывод</a></span></li></ul></li><li><span><a href=\"#Изменение-типов-данных\" data-toc-modified-id=\"Изменение-типов-данных-1.2.2\">Изменение типов данных</a></span><ul class=\"toc-item\"><li><span><a href=\"#Вывод\" data-toc-modified-id=\"Вывод-1.2.2.1\">Вывод</a></span></li></ul></li></ul></li><li><span><a href=\"#3.-Расчёты-и-добавление-результатов-в-таблицу\" data-toc-modified-id=\"3.-Расчёты-и-добавление-результатов-в-таблицу-1.3\">3. Расчёты и добавление результатов в таблицу</a></span><ul class=\"toc-item\"><li><ul class=\"toc-item\"><li><span><a href=\"#Вывод\" data-toc-modified-id=\"Вывод-1.3.0.1\">Вывод</a></span></li></ul></li></ul></li><li><span><a href=\"#4.-Исследовательский-анализ-данных\" data-toc-modified-id=\"4.-Исследовательский-анализ-данных-1.4\">4. Исследовательский анализ данных</a></span><ul class=\"toc-item\"><li><span><a href=\"#4.1-Исследование-параметров-квартир\" data-toc-modified-id=\"4.1-Исследование-параметров-квартир-1.4.1\">4.1 Исследование параметров квартир</a></span><ul class=\"toc-item\"><li><span><a href=\"#Вывод\" data-toc-modified-id=\"Вывод-1.4.1.1\">Вывод</a></span></li></ul></li><li><span><a href=\"#4.2-Фильтрация-от-аномальных-и-редких-значений\" data-toc-modified-id=\"4.2-Фильтрация-от-аномальных-и-редких-значений-1.4.2\">4.2 Фильтрация от аномальных и редких значений</a></span><ul class=\"toc-item\"><li><span><a href=\"#Вывод\" data-toc-modified-id=\"Вывод-1.4.2.1\">Вывод</a></span></li></ul></li><li><span><a href=\"#4.3-Изучение-факторов,-влияющий-на-цену-квартиры\" data-toc-modified-id=\"4.3-Изучение-факторов,-влияющий-на-цену-квартиры-1.4.3\">4.3 Изучение факторов, влияющий на цену квартиры</a></span><ul class=\"toc-item\"><li><span><a href=\"#Вывод\" data-toc-modified-id=\"Вывод-1.4.3.1\">Вывод</a></span></li></ul></li><li><span><a href=\"#4.4-Выделение-среди-десяти-пунктов-с-наибольшим-количеством-объявлений-пунктов-с-наиболее-высоким-и-наиболее-низким-средними-значениями\" data-toc-modified-id=\"4.4-Выделение-среди-десяти-пунктов-с-наибольшим-количеством-объявлений-пунктов-с-наиболее-высоким-и-наиболее-низким-средними-значениями-1.4.4\">4.4 Выделение среди десяти пунктов с наибольшим количеством объявлений пунктов с наиболее высоким и наиболее низким средними значениями</a></span><ul class=\"toc-item\"><li><span><a href=\"#Вывод\" data-toc-modified-id=\"Вывод-1.4.4.1\">Вывод</a></span></li></ul></li><li><span><a href=\"#4.5-Изучение-области-центра-Санкт-Петербурга\" data-toc-modified-id=\"4.5-Изучение-области-центра-Санкт-Петербурга-1.4.5\">4.5 Изучение области центра Санкт-Петербурга</a></span><ul class=\"toc-item\"><li><span><a href=\"#Вывод\" data-toc-modified-id=\"Вывод-1.4.5.1\">Вывод</a></span></li></ul></li></ul></li><li><span><a href=\"#Общий-вывод\" data-toc-modified-id=\"Общий-вывод-1.5\">Общий вывод</a></span></li></ul></li></ul></div>"
   ]
  },
  {
   "cell_type": "markdown",
   "metadata": {},
   "source": [
    "# Исследование объявлений о продаже квартир\n",
    "\n",
    "\n",
    "В нашем распоряжении данные с агрегатора объявлений по продаже недвижимости. Цель - исследовать параметры, влияющие на цену квартиры.\n",
    "\n",
    "По каждой квартире на продажу доступны два вида данных. Первые вписаны пользователем, вторые получены автоматически на основе картографических данных. Например, расстояние до центра, аэропорта, ближайшего парка и водоёма. \n",
    "\n",
    "Нет информации о качестве данных, поэтому необходима предобработка. Выполнение проекта будет следовать в несколько этапов:\n",
    "1. [Изучение данных из файла](#start)\n",
    "2. [Предобработка данных](#preprocessing)\n",
    "    * [Пропуски, дупликаты](#nan_duplicated)\n",
    "    * [Изменение типов данных](#type_change)\n",
    "3. [Добавление столбцов с расчётами](#add_data)\n",
    "4. [Исследовательский анализ данных](#data_researh)\n",
    "    * [Изучение параметров квартир](#flat_parametr)\n",
    "    * [Изучение факторов, влияющих на цену квартир](#price_parametr)\n",
    "    * [Выделение среди десяти пунктов с наибольшим количеством объявлений пунктов с наиболее высоким и наиболее низким средними значениями](#max_min)\n",
    "    * [Изучение области центра Санкт-Петербурга](#center_researh)\n",
    "5. [Общий вывод](#conclusion)    "
   ]
  },
  {
   "cell_type": "markdown",
   "metadata": {},
   "source": [
    "<a id=\"start\"></a>\n",
    "## 1. Изучение данных из файла\n"
   ]
  },
  {
   "cell_type": "code",
   "execution_count": 115,
   "metadata": {},
   "outputs": [],
   "source": [
    "import pandas as pd\n",
    "pd.options.mode.chained_assignment = None"
   ]
  },
  {
   "cell_type": "code",
   "execution_count": 116,
   "metadata": {},
   "outputs": [
    {
     "name": "stdout",
     "output_type": "stream",
     "text": [
      "<class 'pandas.core.frame.DataFrame'>\n",
      "RangeIndex: 23699 entries, 0 to 23698\n",
      "Data columns (total 22 columns):\n",
      " #   Column                Non-Null Count  Dtype  \n",
      "---  ------                --------------  -----  \n",
      " 0   total_images          23699 non-null  int64  \n",
      " 1   last_price            23699 non-null  float64\n",
      " 2   total_area            23699 non-null  float64\n",
      " 3   first_day_exposition  23699 non-null  object \n",
      " 4   rooms                 23699 non-null  int64  \n",
      " 5   ceiling_height        14504 non-null  float64\n",
      " 6   floors_total          23613 non-null  float64\n",
      " 7   living_area           21796 non-null  float64\n",
      " 8   floor                 23699 non-null  int64  \n",
      " 9   is_apartment          2775 non-null   object \n",
      " 10  studio                23699 non-null  bool   \n",
      " 11  open_plan             23699 non-null  bool   \n",
      " 12  kitchen_area          21421 non-null  float64\n",
      " 13  balcony               12180 non-null  float64\n",
      " 14  locality_name         23650 non-null  object \n",
      " 15  airports_nearest      18157 non-null  float64\n",
      " 16  cityCenters_nearest   18180 non-null  float64\n",
      " 17  parks_around3000      18181 non-null  float64\n",
      " 18  parks_nearest         8079 non-null   float64\n",
      " 19  ponds_around3000      18181 non-null  float64\n",
      " 20  ponds_nearest         9110 non-null   float64\n",
      " 21  days_exposition       20518 non-null  float64\n",
      "dtypes: bool(2), float64(14), int64(3), object(3)\n",
      "memory usage: 8.1 MB\n"
     ]
    }
   ],
   "source": [
    "data = pd.read_csv('real_estate_data.csv', sep='\\t')\n",
    "data.info(memory_usage='deep')"
   ]
  },
  {
   "cell_type": "code",
   "execution_count": 117,
   "metadata": {},
   "outputs": [
    {
     "data": {
      "text/html": [
       "<div>\n",
       "<style scoped>\n",
       "    .dataframe tbody tr th:only-of-type {\n",
       "        vertical-align: middle;\n",
       "    }\n",
       "\n",
       "    .dataframe tbody tr th {\n",
       "        vertical-align: top;\n",
       "    }\n",
       "\n",
       "    .dataframe thead th {\n",
       "        text-align: right;\n",
       "    }\n",
       "</style>\n",
       "<table border=\"1\" class=\"dataframe\">\n",
       "  <thead>\n",
       "    <tr style=\"text-align: right;\">\n",
       "      <th></th>\n",
       "      <th>total_images</th>\n",
       "      <th>last_price</th>\n",
       "      <th>total_area</th>\n",
       "      <th>first_day_exposition</th>\n",
       "      <th>rooms</th>\n",
       "      <th>ceiling_height</th>\n",
       "      <th>floors_total</th>\n",
       "      <th>living_area</th>\n",
       "      <th>floor</th>\n",
       "      <th>is_apartment</th>\n",
       "      <th>...</th>\n",
       "      <th>kitchen_area</th>\n",
       "      <th>balcony</th>\n",
       "      <th>locality_name</th>\n",
       "      <th>airports_nearest</th>\n",
       "      <th>cityCenters_nearest</th>\n",
       "      <th>parks_around3000</th>\n",
       "      <th>parks_nearest</th>\n",
       "      <th>ponds_around3000</th>\n",
       "      <th>ponds_nearest</th>\n",
       "      <th>days_exposition</th>\n",
       "    </tr>\n",
       "  </thead>\n",
       "  <tbody>\n",
       "    <tr>\n",
       "      <th>0</th>\n",
       "      <td>20</td>\n",
       "      <td>13000000.0</td>\n",
       "      <td>108.00</td>\n",
       "      <td>2019-03-07T00:00:00</td>\n",
       "      <td>3</td>\n",
       "      <td>2.70</td>\n",
       "      <td>16.0</td>\n",
       "      <td>51.00</td>\n",
       "      <td>8</td>\n",
       "      <td>NaN</td>\n",
       "      <td>...</td>\n",
       "      <td>25.00</td>\n",
       "      <td>NaN</td>\n",
       "      <td>Санкт-Петербург</td>\n",
       "      <td>18863.0</td>\n",
       "      <td>16028.0</td>\n",
       "      <td>1.0</td>\n",
       "      <td>482.0</td>\n",
       "      <td>2.0</td>\n",
       "      <td>755.0</td>\n",
       "      <td>NaN</td>\n",
       "    </tr>\n",
       "    <tr>\n",
       "      <th>1</th>\n",
       "      <td>7</td>\n",
       "      <td>3350000.0</td>\n",
       "      <td>40.40</td>\n",
       "      <td>2018-12-04T00:00:00</td>\n",
       "      <td>1</td>\n",
       "      <td>NaN</td>\n",
       "      <td>11.0</td>\n",
       "      <td>18.60</td>\n",
       "      <td>1</td>\n",
       "      <td>NaN</td>\n",
       "      <td>...</td>\n",
       "      <td>11.00</td>\n",
       "      <td>2.0</td>\n",
       "      <td>посёлок Шушары</td>\n",
       "      <td>12817.0</td>\n",
       "      <td>18603.0</td>\n",
       "      <td>0.0</td>\n",
       "      <td>NaN</td>\n",
       "      <td>0.0</td>\n",
       "      <td>NaN</td>\n",
       "      <td>81.0</td>\n",
       "    </tr>\n",
       "    <tr>\n",
       "      <th>2</th>\n",
       "      <td>10</td>\n",
       "      <td>5196000.0</td>\n",
       "      <td>56.00</td>\n",
       "      <td>2015-08-20T00:00:00</td>\n",
       "      <td>2</td>\n",
       "      <td>NaN</td>\n",
       "      <td>5.0</td>\n",
       "      <td>34.30</td>\n",
       "      <td>4</td>\n",
       "      <td>NaN</td>\n",
       "      <td>...</td>\n",
       "      <td>8.30</td>\n",
       "      <td>0.0</td>\n",
       "      <td>Санкт-Петербург</td>\n",
       "      <td>21741.0</td>\n",
       "      <td>13933.0</td>\n",
       "      <td>1.0</td>\n",
       "      <td>90.0</td>\n",
       "      <td>2.0</td>\n",
       "      <td>574.0</td>\n",
       "      <td>558.0</td>\n",
       "    </tr>\n",
       "    <tr>\n",
       "      <th>3</th>\n",
       "      <td>0</td>\n",
       "      <td>64900000.0</td>\n",
       "      <td>159.00</td>\n",
       "      <td>2015-07-24T00:00:00</td>\n",
       "      <td>3</td>\n",
       "      <td>NaN</td>\n",
       "      <td>14.0</td>\n",
       "      <td>NaN</td>\n",
       "      <td>9</td>\n",
       "      <td>NaN</td>\n",
       "      <td>...</td>\n",
       "      <td>NaN</td>\n",
       "      <td>0.0</td>\n",
       "      <td>Санкт-Петербург</td>\n",
       "      <td>28098.0</td>\n",
       "      <td>6800.0</td>\n",
       "      <td>2.0</td>\n",
       "      <td>84.0</td>\n",
       "      <td>3.0</td>\n",
       "      <td>234.0</td>\n",
       "      <td>424.0</td>\n",
       "    </tr>\n",
       "    <tr>\n",
       "      <th>4</th>\n",
       "      <td>2</td>\n",
       "      <td>10000000.0</td>\n",
       "      <td>100.00</td>\n",
       "      <td>2018-06-19T00:00:00</td>\n",
       "      <td>2</td>\n",
       "      <td>3.03</td>\n",
       "      <td>14.0</td>\n",
       "      <td>32.00</td>\n",
       "      <td>13</td>\n",
       "      <td>NaN</td>\n",
       "      <td>...</td>\n",
       "      <td>41.00</td>\n",
       "      <td>NaN</td>\n",
       "      <td>Санкт-Петербург</td>\n",
       "      <td>31856.0</td>\n",
       "      <td>8098.0</td>\n",
       "      <td>2.0</td>\n",
       "      <td>112.0</td>\n",
       "      <td>1.0</td>\n",
       "      <td>48.0</td>\n",
       "      <td>121.0</td>\n",
       "    </tr>\n",
       "    <tr>\n",
       "      <th>5</th>\n",
       "      <td>10</td>\n",
       "      <td>2890000.0</td>\n",
       "      <td>30.40</td>\n",
       "      <td>2018-09-10T00:00:00</td>\n",
       "      <td>1</td>\n",
       "      <td>NaN</td>\n",
       "      <td>12.0</td>\n",
       "      <td>14.40</td>\n",
       "      <td>5</td>\n",
       "      <td>NaN</td>\n",
       "      <td>...</td>\n",
       "      <td>9.10</td>\n",
       "      <td>NaN</td>\n",
       "      <td>городской посёлок Янино-1</td>\n",
       "      <td>NaN</td>\n",
       "      <td>NaN</td>\n",
       "      <td>NaN</td>\n",
       "      <td>NaN</td>\n",
       "      <td>NaN</td>\n",
       "      <td>NaN</td>\n",
       "      <td>55.0</td>\n",
       "    </tr>\n",
       "    <tr>\n",
       "      <th>6</th>\n",
       "      <td>6</td>\n",
       "      <td>3700000.0</td>\n",
       "      <td>37.30</td>\n",
       "      <td>2017-11-02T00:00:00</td>\n",
       "      <td>1</td>\n",
       "      <td>NaN</td>\n",
       "      <td>26.0</td>\n",
       "      <td>10.60</td>\n",
       "      <td>6</td>\n",
       "      <td>NaN</td>\n",
       "      <td>...</td>\n",
       "      <td>14.40</td>\n",
       "      <td>1.0</td>\n",
       "      <td>посёлок Парголово</td>\n",
       "      <td>52996.0</td>\n",
       "      <td>19143.0</td>\n",
       "      <td>0.0</td>\n",
       "      <td>NaN</td>\n",
       "      <td>0.0</td>\n",
       "      <td>NaN</td>\n",
       "      <td>155.0</td>\n",
       "    </tr>\n",
       "    <tr>\n",
       "      <th>7</th>\n",
       "      <td>5</td>\n",
       "      <td>7915000.0</td>\n",
       "      <td>71.60</td>\n",
       "      <td>2019-04-18T00:00:00</td>\n",
       "      <td>2</td>\n",
       "      <td>NaN</td>\n",
       "      <td>24.0</td>\n",
       "      <td>NaN</td>\n",
       "      <td>22</td>\n",
       "      <td>NaN</td>\n",
       "      <td>...</td>\n",
       "      <td>18.90</td>\n",
       "      <td>2.0</td>\n",
       "      <td>Санкт-Петербург</td>\n",
       "      <td>23982.0</td>\n",
       "      <td>11634.0</td>\n",
       "      <td>0.0</td>\n",
       "      <td>NaN</td>\n",
       "      <td>0.0</td>\n",
       "      <td>NaN</td>\n",
       "      <td>NaN</td>\n",
       "    </tr>\n",
       "    <tr>\n",
       "      <th>8</th>\n",
       "      <td>20</td>\n",
       "      <td>2900000.0</td>\n",
       "      <td>33.16</td>\n",
       "      <td>2018-05-23T00:00:00</td>\n",
       "      <td>1</td>\n",
       "      <td>NaN</td>\n",
       "      <td>27.0</td>\n",
       "      <td>15.43</td>\n",
       "      <td>26</td>\n",
       "      <td>NaN</td>\n",
       "      <td>...</td>\n",
       "      <td>8.81</td>\n",
       "      <td>NaN</td>\n",
       "      <td>посёлок Мурино</td>\n",
       "      <td>NaN</td>\n",
       "      <td>NaN</td>\n",
       "      <td>NaN</td>\n",
       "      <td>NaN</td>\n",
       "      <td>NaN</td>\n",
       "      <td>NaN</td>\n",
       "      <td>189.0</td>\n",
       "    </tr>\n",
       "    <tr>\n",
       "      <th>9</th>\n",
       "      <td>18</td>\n",
       "      <td>5400000.0</td>\n",
       "      <td>61.00</td>\n",
       "      <td>2017-02-26T00:00:00</td>\n",
       "      <td>3</td>\n",
       "      <td>2.50</td>\n",
       "      <td>9.0</td>\n",
       "      <td>43.60</td>\n",
       "      <td>7</td>\n",
       "      <td>NaN</td>\n",
       "      <td>...</td>\n",
       "      <td>6.50</td>\n",
       "      <td>2.0</td>\n",
       "      <td>Санкт-Петербург</td>\n",
       "      <td>50898.0</td>\n",
       "      <td>15008.0</td>\n",
       "      <td>0.0</td>\n",
       "      <td>NaN</td>\n",
       "      <td>0.0</td>\n",
       "      <td>NaN</td>\n",
       "      <td>289.0</td>\n",
       "    </tr>\n",
       "  </tbody>\n",
       "</table>\n",
       "<p>10 rows × 22 columns</p>\n",
       "</div>"
      ],
      "text/plain": [
       "   total_images  last_price  total_area first_day_exposition  rooms  \\\n",
       "0            20  13000000.0      108.00  2019-03-07T00:00:00      3   \n",
       "1             7   3350000.0       40.40  2018-12-04T00:00:00      1   \n",
       "2            10   5196000.0       56.00  2015-08-20T00:00:00      2   \n",
       "3             0  64900000.0      159.00  2015-07-24T00:00:00      3   \n",
       "4             2  10000000.0      100.00  2018-06-19T00:00:00      2   \n",
       "5            10   2890000.0       30.40  2018-09-10T00:00:00      1   \n",
       "6             6   3700000.0       37.30  2017-11-02T00:00:00      1   \n",
       "7             5   7915000.0       71.60  2019-04-18T00:00:00      2   \n",
       "8            20   2900000.0       33.16  2018-05-23T00:00:00      1   \n",
       "9            18   5400000.0       61.00  2017-02-26T00:00:00      3   \n",
       "\n",
       "   ceiling_height  floors_total  living_area  floor is_apartment  ...  \\\n",
       "0            2.70          16.0        51.00      8          NaN  ...   \n",
       "1             NaN          11.0        18.60      1          NaN  ...   \n",
       "2             NaN           5.0        34.30      4          NaN  ...   \n",
       "3             NaN          14.0          NaN      9          NaN  ...   \n",
       "4            3.03          14.0        32.00     13          NaN  ...   \n",
       "5             NaN          12.0        14.40      5          NaN  ...   \n",
       "6             NaN          26.0        10.60      6          NaN  ...   \n",
       "7             NaN          24.0          NaN     22          NaN  ...   \n",
       "8             NaN          27.0        15.43     26          NaN  ...   \n",
       "9            2.50           9.0        43.60      7          NaN  ...   \n",
       "\n",
       "   kitchen_area  balcony              locality_name  airports_nearest  \\\n",
       "0         25.00      NaN            Санкт-Петербург           18863.0   \n",
       "1         11.00      2.0             посёлок Шушары           12817.0   \n",
       "2          8.30      0.0            Санкт-Петербург           21741.0   \n",
       "3           NaN      0.0            Санкт-Петербург           28098.0   \n",
       "4         41.00      NaN            Санкт-Петербург           31856.0   \n",
       "5          9.10      NaN  городской посёлок Янино-1               NaN   \n",
       "6         14.40      1.0          посёлок Парголово           52996.0   \n",
       "7         18.90      2.0            Санкт-Петербург           23982.0   \n",
       "8          8.81      NaN             посёлок Мурино               NaN   \n",
       "9          6.50      2.0            Санкт-Петербург           50898.0   \n",
       "\n",
       "  cityCenters_nearest  parks_around3000  parks_nearest  ponds_around3000  \\\n",
       "0             16028.0               1.0          482.0               2.0   \n",
       "1             18603.0               0.0            NaN               0.0   \n",
       "2             13933.0               1.0           90.0               2.0   \n",
       "3              6800.0               2.0           84.0               3.0   \n",
       "4              8098.0               2.0          112.0               1.0   \n",
       "5                 NaN               NaN            NaN               NaN   \n",
       "6             19143.0               0.0            NaN               0.0   \n",
       "7             11634.0               0.0            NaN               0.0   \n",
       "8                 NaN               NaN            NaN               NaN   \n",
       "9             15008.0               0.0            NaN               0.0   \n",
       "\n",
       "   ponds_nearest  days_exposition  \n",
       "0          755.0              NaN  \n",
       "1            NaN             81.0  \n",
       "2          574.0            558.0  \n",
       "3          234.0            424.0  \n",
       "4           48.0            121.0  \n",
       "5            NaN             55.0  \n",
       "6            NaN            155.0  \n",
       "7            NaN              NaN  \n",
       "8            NaN            189.0  \n",
       "9            NaN            289.0  \n",
       "\n",
       "[10 rows x 22 columns]"
      ]
     },
     "execution_count": 117,
     "metadata": {},
     "output_type": "execute_result"
    }
   ],
   "source": [
    "data.head(10)"
   ]
  },
  {
   "cell_type": "markdown",
   "metadata": {},
   "source": [
    "### Вывод"
   ]
  },
  {
   "cell_type": "markdown",
   "metadata": {},
   "source": [
    "В данной таблице представлены данные о объектах недвижимости. Во многих столбцах есть пропуски в данных. Некоторые столбцы не соответствуют змеиному регистру. Данные во многих столбцах нуждаются в изменении типа, с целью оптимизации таблицы."
   ]
  },
  {
   "cell_type": "markdown",
   "metadata": {},
   "source": [
    "<a id=\"preprocessing\"></a>\n",
    "## 2. Предобработка данных"
   ]
  },
  {
   "cell_type": "markdown",
   "metadata": {},
   "source": [
    "В данной главе проведем следующие действия:\n",
    "* Приведем названия столбцов к змеиному регистру;\n",
    "* Проверим данные на дупликаты;\n",
    "* Исследуем пропуски в таблице;\n",
    "* Изменим типы данных на более подходящие."
   ]
  },
  {
   "cell_type": "markdown",
   "metadata": {},
   "source": [
    "***Приведём названия столбцов к змеиному регистру:***"
   ]
  },
  {
   "cell_type": "code",
   "execution_count": 118,
   "metadata": {},
   "outputs": [],
   "source": [
    "data = data.rename(columns={'cityCenters_nearest' : 'city_centers_nearest',\n",
    "                            'parks_around3000' : 'parks_around_3000',\n",
    "                            'ponds_around3000' : 'ponds_around_3000'}\n",
    "                  )"
   ]
  },
  {
   "cell_type": "code",
   "execution_count": 119,
   "metadata": {},
   "outputs": [
    {
     "data": {
      "text/plain": [
       "Index(['total_images', 'last_price', 'total_area', 'first_day_exposition',\n",
       "       'rooms', 'ceiling_height', 'floors_total', 'living_area', 'floor',\n",
       "       'is_apartment', 'studio', 'open_plan', 'kitchen_area', 'balcony',\n",
       "       'locality_name', 'airports_nearest', 'city_centers_nearest',\n",
       "       'parks_around_3000', 'parks_nearest', 'ponds_around_3000',\n",
       "       'ponds_nearest', 'days_exposition'],\n",
       "      dtype='object')"
      ]
     },
     "execution_count": 119,
     "metadata": {},
     "output_type": "execute_result"
    }
   ],
   "source": [
    "data.columns"
   ]
  },
  {
   "cell_type": "markdown",
   "metadata": {},
   "source": [
    "### Пропуски и дупликаты"
   ]
  },
  {
   "cell_type": "markdown",
   "metadata": {},
   "source": [
    "<a id=\"nan_duplicated\"></a>\n",
    "***Посчитаем количество явных дупликатов:***"
   ]
  },
  {
   "cell_type": "code",
   "execution_count": 120,
   "metadata": {},
   "outputs": [
    {
     "data": {
      "text/plain": [
       "0"
      ]
     },
     "execution_count": 120,
     "metadata": {},
     "output_type": "execute_result"
    }
   ],
   "source": [
    "data.duplicated().sum()"
   ]
  },
  {
   "cell_type": "markdown",
   "metadata": {},
   "source": [
    "Явных дупликатов нет."
   ]
  },
  {
   "cell_type": "markdown",
   "metadata": {},
   "source": [
    "***Посчитаем количество пропусков во всех столбцах:***"
   ]
  },
  {
   "cell_type": "code",
   "execution_count": 121,
   "metadata": {},
   "outputs": [
    {
     "data": {
      "text/plain": [
       "total_images                0\n",
       "last_price                  0\n",
       "total_area                  0\n",
       "first_day_exposition        0\n",
       "rooms                       0\n",
       "ceiling_height           9195\n",
       "floors_total               86\n",
       "living_area              1903\n",
       "floor                       0\n",
       "is_apartment            20924\n",
       "studio                      0\n",
       "open_plan                   0\n",
       "kitchen_area             2278\n",
       "balcony                 11519\n",
       "locality_name              49\n",
       "airports_nearest         5542\n",
       "city_centers_nearest     5519\n",
       "parks_around_3000        5518\n",
       "parks_nearest           15620\n",
       "ponds_around_3000        5518\n",
       "ponds_nearest           14589\n",
       "days_exposition          3181\n",
       "dtype: int64"
      ]
     },
     "execution_count": 121,
     "metadata": {},
     "output_type": "execute_result"
    }
   ],
   "source": [
    "data.isna().sum()"
   ]
  },
  {
   "cell_type": "markdown",
   "metadata": {},
   "source": [
    "Высота потолка в одинаковых домах одинаковая. Можно было бы заполнить значением, с схожего дома. Но, так как информации для того, чтобы достоверно заполнить этот столбец недостаточно, оставим пропуски. Заполнив столбец медианой или средним, мы сильно изменим вид диаграммы. Стоит отметить, что пропусков практически 50%. Вероятнее всего, эту информацию можно не заполнять при формировании объявления."
   ]
  },
  {
   "cell_type": "markdown",
   "metadata": {},
   "source": [
    "***Пропуски в столбце с количеством этажей.*** \n",
    "\n",
    "Заполнив эти значения средним или медианой, мы сильно испортим вид графиков.\n",
    "Проверим, возможно, имеют место пропуски в одних и тех же строках:"
   ]
  },
  {
   "cell_type": "code",
   "execution_count": 122,
   "metadata": {},
   "outputs": [
    {
     "data": {
      "text/plain": [
       "2.80    5\n",
       "2.65    2\n",
       "3.00    1\n",
       "2.70    1\n",
       "Name: ceiling_height, dtype: int64"
      ]
     },
     "execution_count": 122,
     "metadata": {},
     "output_type": "execute_result"
    }
   ],
   "source": [
    "data[data['floors_total'].isna()]['ceiling_height'].value_counts()"
   ]
  },
  {
   "cell_type": "markdown",
   "metadata": {},
   "source": [
    "Почти во всех строках, где пропущена информация о количестве этажей нет информации и о высоте потолков. Вероятно, это тоже можно не заполнять при заполнении объявления."
   ]
  },
  {
   "cell_type": "markdown",
   "metadata": {},
   "source": [
    "***Пропуски в столбце с этажностью дома***"
   ]
  },
  {
   "cell_type": "code",
   "execution_count": 123,
   "metadata": {},
   "outputs": [
    {
     "data": {
      "text/html": [
       "<div>\n",
       "<style scoped>\n",
       "    .dataframe tbody tr th:only-of-type {\n",
       "        vertical-align: middle;\n",
       "    }\n",
       "\n",
       "    .dataframe tbody tr th {\n",
       "        vertical-align: top;\n",
       "    }\n",
       "\n",
       "    .dataframe thead th {\n",
       "        text-align: right;\n",
       "    }\n",
       "</style>\n",
       "<table border=\"1\" class=\"dataframe\">\n",
       "  <thead>\n",
       "    <tr style=\"text-align: right;\">\n",
       "      <th></th>\n",
       "      <th>total_images</th>\n",
       "      <th>last_price</th>\n",
       "      <th>total_area</th>\n",
       "      <th>first_day_exposition</th>\n",
       "      <th>rooms</th>\n",
       "      <th>ceiling_height</th>\n",
       "      <th>floors_total</th>\n",
       "      <th>living_area</th>\n",
       "      <th>floor</th>\n",
       "      <th>is_apartment</th>\n",
       "      <th>...</th>\n",
       "      <th>kitchen_area</th>\n",
       "      <th>balcony</th>\n",
       "      <th>locality_name</th>\n",
       "      <th>airports_nearest</th>\n",
       "      <th>city_centers_nearest</th>\n",
       "      <th>parks_around_3000</th>\n",
       "      <th>parks_nearest</th>\n",
       "      <th>ponds_around_3000</th>\n",
       "      <th>ponds_nearest</th>\n",
       "      <th>days_exposition</th>\n",
       "    </tr>\n",
       "  </thead>\n",
       "  <tbody>\n",
       "    <tr>\n",
       "      <th>186</th>\n",
       "      <td>12</td>\n",
       "      <td>11640000.0</td>\n",
       "      <td>65.2</td>\n",
       "      <td>2018-10-02T00:00:00</td>\n",
       "      <td>2</td>\n",
       "      <td>NaN</td>\n",
       "      <td>NaN</td>\n",
       "      <td>30.80</td>\n",
       "      <td>4</td>\n",
       "      <td>NaN</td>\n",
       "      <td>...</td>\n",
       "      <td>12.00</td>\n",
       "      <td>NaN</td>\n",
       "      <td>Санкт-Петербург</td>\n",
       "      <td>39197.0</td>\n",
       "      <td>12373.0</td>\n",
       "      <td>1.0</td>\n",
       "      <td>123.0</td>\n",
       "      <td>0.0</td>\n",
       "      <td>NaN</td>\n",
       "      <td>49.0</td>\n",
       "    </tr>\n",
       "    <tr>\n",
       "      <th>237</th>\n",
       "      <td>4</td>\n",
       "      <td>2438033.0</td>\n",
       "      <td>28.1</td>\n",
       "      <td>2016-11-23T00:00:00</td>\n",
       "      <td>1</td>\n",
       "      <td>NaN</td>\n",
       "      <td>NaN</td>\n",
       "      <td>20.75</td>\n",
       "      <td>1</td>\n",
       "      <td>NaN</td>\n",
       "      <td>...</td>\n",
       "      <td>NaN</td>\n",
       "      <td>0.0</td>\n",
       "      <td>Санкт-Петербург</td>\n",
       "      <td>22041.0</td>\n",
       "      <td>17369.0</td>\n",
       "      <td>0.0</td>\n",
       "      <td>NaN</td>\n",
       "      <td>1.0</td>\n",
       "      <td>374.0</td>\n",
       "      <td>251.0</td>\n",
       "    </tr>\n",
       "    <tr>\n",
       "      <th>457</th>\n",
       "      <td>4</td>\n",
       "      <td>9788348.0</td>\n",
       "      <td>70.8</td>\n",
       "      <td>2015-08-01T00:00:00</td>\n",
       "      <td>2</td>\n",
       "      <td>NaN</td>\n",
       "      <td>NaN</td>\n",
       "      <td>38.40</td>\n",
       "      <td>12</td>\n",
       "      <td>NaN</td>\n",
       "      <td>...</td>\n",
       "      <td>10.63</td>\n",
       "      <td>0.0</td>\n",
       "      <td>Санкт-Петербург</td>\n",
       "      <td>37364.0</td>\n",
       "      <td>8322.0</td>\n",
       "      <td>2.0</td>\n",
       "      <td>309.0</td>\n",
       "      <td>2.0</td>\n",
       "      <td>706.0</td>\n",
       "      <td>727.0</td>\n",
       "    </tr>\n",
       "    <tr>\n",
       "      <th>671</th>\n",
       "      <td>4</td>\n",
       "      <td>6051191.0</td>\n",
       "      <td>93.6</td>\n",
       "      <td>2017-04-06T00:00:00</td>\n",
       "      <td>3</td>\n",
       "      <td>NaN</td>\n",
       "      <td>NaN</td>\n",
       "      <td>47.10</td>\n",
       "      <td>8</td>\n",
       "      <td>NaN</td>\n",
       "      <td>...</td>\n",
       "      <td>16.80</td>\n",
       "      <td>0.0</td>\n",
       "      <td>Санкт-Петербург</td>\n",
       "      <td>22041.0</td>\n",
       "      <td>17369.0</td>\n",
       "      <td>0.0</td>\n",
       "      <td>NaN</td>\n",
       "      <td>1.0</td>\n",
       "      <td>374.0</td>\n",
       "      <td>123.0</td>\n",
       "    </tr>\n",
       "    <tr>\n",
       "      <th>1757</th>\n",
       "      <td>5</td>\n",
       "      <td>3600000.0</td>\n",
       "      <td>39.0</td>\n",
       "      <td>2017-04-22T00:00:00</td>\n",
       "      <td>1</td>\n",
       "      <td>NaN</td>\n",
       "      <td>NaN</td>\n",
       "      <td>NaN</td>\n",
       "      <td>9</td>\n",
       "      <td>NaN</td>\n",
       "      <td>...</td>\n",
       "      <td>NaN</td>\n",
       "      <td>0.0</td>\n",
       "      <td>Санкт-Петербург</td>\n",
       "      <td>22735.0</td>\n",
       "      <td>11618.0</td>\n",
       "      <td>1.0</td>\n",
       "      <td>835.0</td>\n",
       "      <td>1.0</td>\n",
       "      <td>652.0</td>\n",
       "      <td>77.0</td>\n",
       "    </tr>\n",
       "  </tbody>\n",
       "</table>\n",
       "<p>5 rows × 22 columns</p>\n",
       "</div>"
      ],
      "text/plain": [
       "      total_images  last_price  total_area first_day_exposition  rooms  \\\n",
       "186             12  11640000.0        65.2  2018-10-02T00:00:00      2   \n",
       "237              4   2438033.0        28.1  2016-11-23T00:00:00      1   \n",
       "457              4   9788348.0        70.8  2015-08-01T00:00:00      2   \n",
       "671              4   6051191.0        93.6  2017-04-06T00:00:00      3   \n",
       "1757             5   3600000.0        39.0  2017-04-22T00:00:00      1   \n",
       "\n",
       "      ceiling_height  floors_total  living_area  floor is_apartment  ...  \\\n",
       "186              NaN           NaN        30.80      4          NaN  ...   \n",
       "237              NaN           NaN        20.75      1          NaN  ...   \n",
       "457              NaN           NaN        38.40     12          NaN  ...   \n",
       "671              NaN           NaN        47.10      8          NaN  ...   \n",
       "1757             NaN           NaN          NaN      9          NaN  ...   \n",
       "\n",
       "      kitchen_area  balcony    locality_name  airports_nearest  \\\n",
       "186          12.00      NaN  Санкт-Петербург           39197.0   \n",
       "237            NaN      0.0  Санкт-Петербург           22041.0   \n",
       "457          10.63      0.0  Санкт-Петербург           37364.0   \n",
       "671          16.80      0.0  Санкт-Петербург           22041.0   \n",
       "1757           NaN      0.0  Санкт-Петербург           22735.0   \n",
       "\n",
       "     city_centers_nearest  parks_around_3000  parks_nearest  \\\n",
       "186               12373.0                1.0          123.0   \n",
       "237               17369.0                0.0            NaN   \n",
       "457                8322.0                2.0          309.0   \n",
       "671               17369.0                0.0            NaN   \n",
       "1757              11618.0                1.0          835.0   \n",
       "\n",
       "      ponds_around_3000  ponds_nearest  days_exposition  \n",
       "186                 0.0            NaN             49.0  \n",
       "237                 1.0          374.0            251.0  \n",
       "457                 2.0          706.0            727.0  \n",
       "671                 1.0          374.0            123.0  \n",
       "1757                1.0          652.0             77.0  \n",
       "\n",
       "[5 rows x 22 columns]"
      ]
     },
     "execution_count": 123,
     "metadata": {},
     "output_type": "execute_result"
    }
   ],
   "source": [
    "data[data['floors_total'].isna()].head()"
   ]
  },
  {
   "cell_type": "markdown",
   "metadata": {},
   "source": [
    "К сожалению, эти пропуски заполнить не представляется возможным так, чтобы не повлиять на статистику. Вероятно, это тоже можно не заполнять при заполнении объявления."
   ]
  },
  {
   "cell_type": "markdown",
   "metadata": {},
   "source": [
    "***Пропуски жилой площади***\n",
    "\n",
    "Вероятно, пропуски там, где квартиры со свободной планировкой."
   ]
  },
  {
   "cell_type": "code",
   "execution_count": 124,
   "metadata": {},
   "outputs": [
    {
     "data": {
      "text/plain": [
       "False    1898\n",
       "True        5\n",
       "Name: open_plan, dtype: int64"
      ]
     },
     "execution_count": 124,
     "metadata": {},
     "output_type": "execute_result"
    }
   ],
   "source": [
    "data[data['living_area'].isna()]['open_plan'].value_counts()"
   ]
  },
  {
   "cell_type": "markdown",
   "metadata": {},
   "source": [
    "Гипотеза не подтвердилась. Данных для того, чтобы заполнить пропуски в этом столбце - недостаточно. Посмотирм зависимость общей площади и жилой площади на диаграмме рассеяния."
   ]
  },
  {
   "cell_type": "code",
   "execution_count": 125,
   "metadata": {},
   "outputs": [
    {
     "data": {
      "text/plain": [
       "<AxesSubplot:xlabel='total_area', ylabel='living_area'>"
      ]
     },
     "execution_count": 125,
     "metadata": {},
     "output_type": "execute_result"
    },
    {
     "data": {
      "image/png": "[encoded data removed]",
      "text/plain": [
       "<Figure size 720x720 with 1 Axes>"
      ]
     },
     "metadata": {
      "needs_background": "light"
     },
     "output_type": "display_data"
    }
   ],
   "source": [
    "data.plot(x='total_area', y='living_area', kind='scatter', figsize=(10,10))"
   ]
  },
  {
   "cell_type": "markdown",
   "metadata": {},
   "source": [
    "Построим ещё один график, убрав значения свыше 300м."
   ]
  },
  {
   "cell_type": "code",
   "execution_count": 126,
   "metadata": {},
   "outputs": [
    {
     "data": {
      "text/plain": [
       "<AxesSubplot:xlabel='total_area', ylabel='living_area'>"
      ]
     },
     "execution_count": 126,
     "metadata": {},
     "output_type": "execute_result"
    },
    {
     "data": {
      "image/png": "[encoded data removed]",
      "text/plain": [
       "<Figure size 720x720 with 1 Axes>"
      ]
     },
     "metadata": {
      "needs_background": "light"
     },
     "output_type": "display_data"
    }
   ],
   "source": [
    "data.query('total_area < 300').plot(x='total_area', y='living_area', kind='scatter', figsize=(10,10))"
   ]
  },
  {
   "cell_type": "code",
   "execution_count": 127,
   "metadata": {},
   "outputs": [
    {
     "data": {
      "text/plain": [
       "0.9395373338721494"
      ]
     },
     "execution_count": 127,
     "metadata": {},
     "output_type": "execute_result"
    }
   ],
   "source": [
    "data['total_area'].corr(data['living_area'])"
   ]
  },
  {
   "cell_type": "markdown",
   "metadata": {},
   "source": [
    "Коэффициент корреляции почти единица, что означает практически прямую зависимость. Рассчитаем коэффициент пропорциональности: для этого рассчитаем медиану отношения жилой площади к общей площади:"
   ]
  },
  {
   "cell_type": "code",
   "execution_count": 128,
   "metadata": {},
   "outputs": [
    {
     "data": {
      "text/plain": [
       "0.5678598992678503"
      ]
     },
     "execution_count": 128,
     "metadata": {},
     "output_type": "execute_result"
    }
   ],
   "source": [
    "median_value = ( data['living_area'] / data['total_area'] ).median()\n",
    "median_value"
   ]
  },
  {
   "cell_type": "markdown",
   "metadata": {},
   "source": [
    "Заполним пропуски произведением общей площади на медианный коэффициент пропорциональности:"
   ]
  },
  {
   "cell_type": "code",
   "execution_count": 129,
   "metadata": {},
   "outputs": [
    {
     "data": {
      "text/plain": [
       "0    51.000000\n",
       "1    18.600000\n",
       "2    34.300000\n",
       "3    90.289724\n",
       "4    32.000000\n",
       "5    14.400000\n",
       "6    10.600000\n",
       "7    40.658769\n",
       "8    15.430000\n",
       "9    43.600000\n",
       "Name: living_area, dtype: float64"
      ]
     },
     "execution_count": 129,
     "metadata": {},
     "output_type": "execute_result"
    }
   ],
   "source": [
    "data['living_area'] = data['living_area'].fillna(value=data['total_area'] * median_value)\n",
    "data['living_area'].head(10)"
   ]
  },
  {
   "cell_type": "markdown",
   "metadata": {},
   "source": [
    "Проделаем тоже самое со столбцом с площадью кухни."
   ]
  },
  {
   "cell_type": "code",
   "execution_count": 130,
   "metadata": {},
   "outputs": [
    {
     "data": {
      "text/plain": [
       "0.6091211711198318"
      ]
     },
     "execution_count": 130,
     "metadata": {},
     "output_type": "execute_result"
    }
   ],
   "source": [
    "data['total_area'].corr(data['kitchen_area']) "
   ]
  },
  {
   "cell_type": "markdown",
   "metadata": {},
   "source": [
    "Зависимость слишком слабая, чтобы можно было восполнить пробелы аналогично жилой площади. Вероятно, это тоже можно не заполнять при заполнении объявления."
   ]
  },
  {
   "cell_type": "markdown",
   "metadata": {},
   "source": [
    "***Пропуски в столбце с информацией об апартаментах***"
   ]
  },
  {
   "cell_type": "code",
   "execution_count": 131,
   "metadata": {},
   "outputs": [
    {
     "data": {
      "text/plain": [
       "20924"
      ]
     },
     "execution_count": 131,
     "metadata": {},
     "output_type": "execute_result"
    }
   ],
   "source": [
    "data['is_apartment'].isna().sum()"
   ]
  },
  {
   "cell_type": "markdown",
   "metadata": {},
   "source": [
    "Логично предположить, что если пропуск - то объект не является апартаментом. Заменим все пропуски на значение False."
   ]
  },
  {
   "cell_type": "code",
   "execution_count": 132,
   "metadata": {},
   "outputs": [],
   "source": [
    "data['is_apartment'] = data['is_apartment'].fillna(value=False)"
   ]
  },
  {
   "cell_type": "code",
   "execution_count": 133,
   "metadata": {},
   "outputs": [
    {
     "data": {
      "text/plain": [
       "0"
      ]
     },
     "execution_count": 133,
     "metadata": {},
     "output_type": "execute_result"
    }
   ],
   "source": [
    "data['is_apartment'].isna().sum()"
   ]
  },
  {
   "cell_type": "markdown",
   "metadata": {},
   "source": [
    "***Пропуски в столбце с балконами***"
   ]
  },
  {
   "cell_type": "code",
   "execution_count": 134,
   "metadata": {},
   "outputs": [
    {
     "data": {
      "text/plain": [
       "11519"
      ]
     },
     "execution_count": 134,
     "metadata": {},
     "output_type": "execute_result"
    }
   ],
   "source": [
    "data['balcony'].isna().sum()"
   ]
  },
  {
   "cell_type": "markdown",
   "metadata": {},
   "source": [
    "Логично предположить, что пропущенные значения означают 0 балконов. Заменим пропуски на 0:"
   ]
  },
  {
   "cell_type": "code",
   "execution_count": 135,
   "metadata": {},
   "outputs": [],
   "source": [
    "data['balcony'] = data['balcony'].fillna(value=0)"
   ]
  },
  {
   "cell_type": "code",
   "execution_count": 136,
   "metadata": {},
   "outputs": [
    {
     "data": {
      "text/plain": [
       "0"
      ]
     },
     "execution_count": 136,
     "metadata": {},
     "output_type": "execute_result"
    }
   ],
   "source": [
    "data['balcony'].isna().sum()"
   ]
  },
  {
   "cell_type": "markdown",
   "metadata": {},
   "source": [
    "***Пропуски в столбце с локацией***"
   ]
  },
  {
   "cell_type": "code",
   "execution_count": 137,
   "metadata": {},
   "outputs": [
    {
     "data": {
      "text/plain": [
       "49"
      ]
     },
     "execution_count": 137,
     "metadata": {},
     "output_type": "execute_result"
    }
   ],
   "source": [
    "data['locality_name'].isna().sum()"
   ]
  },
  {
   "cell_type": "code",
   "execution_count": 138,
   "metadata": {},
   "outputs": [
    {
     "data": {
      "text/html": [
       "<div>\n",
       "<style scoped>\n",
       "    .dataframe tbody tr th:only-of-type {\n",
       "        vertical-align: middle;\n",
       "    }\n",
       "\n",
       "    .dataframe tbody tr th {\n",
       "        vertical-align: top;\n",
       "    }\n",
       "\n",
       "    .dataframe thead th {\n",
       "        text-align: right;\n",
       "    }\n",
       "</style>\n",
       "<table border=\"1\" class=\"dataframe\">\n",
       "  <thead>\n",
       "    <tr style=\"text-align: right;\">\n",
       "      <th></th>\n",
       "      <th>total_images</th>\n",
       "      <th>last_price</th>\n",
       "      <th>total_area</th>\n",
       "      <th>first_day_exposition</th>\n",
       "      <th>rooms</th>\n",
       "      <th>ceiling_height</th>\n",
       "      <th>floors_total</th>\n",
       "      <th>living_area</th>\n",
       "      <th>floor</th>\n",
       "      <th>is_apartment</th>\n",
       "      <th>...</th>\n",
       "      <th>kitchen_area</th>\n",
       "      <th>balcony</th>\n",
       "      <th>locality_name</th>\n",
       "      <th>airports_nearest</th>\n",
       "      <th>city_centers_nearest</th>\n",
       "      <th>parks_around_3000</th>\n",
       "      <th>parks_nearest</th>\n",
       "      <th>ponds_around_3000</th>\n",
       "      <th>ponds_nearest</th>\n",
       "      <th>days_exposition</th>\n",
       "    </tr>\n",
       "  </thead>\n",
       "  <tbody>\n",
       "    <tr>\n",
       "      <th>1097</th>\n",
       "      <td>3</td>\n",
       "      <td>8600000.0</td>\n",
       "      <td>81.7</td>\n",
       "      <td>2016-04-15T00:00:00</td>\n",
       "      <td>3</td>\n",
       "      <td>3.55</td>\n",
       "      <td>5.0</td>\n",
       "      <td>50.8</td>\n",
       "      <td>2</td>\n",
       "      <td>False</td>\n",
       "      <td>...</td>\n",
       "      <td>8.8</td>\n",
       "      <td>0.0</td>\n",
       "      <td>NaN</td>\n",
       "      <td>23478.0</td>\n",
       "      <td>4258.0</td>\n",
       "      <td>0.0</td>\n",
       "      <td>NaN</td>\n",
       "      <td>0.0</td>\n",
       "      <td>NaN</td>\n",
       "      <td>147.0</td>\n",
       "    </tr>\n",
       "    <tr>\n",
       "      <th>2033</th>\n",
       "      <td>6</td>\n",
       "      <td>5398000.0</td>\n",
       "      <td>80.0</td>\n",
       "      <td>2017-05-30T00:00:00</td>\n",
       "      <td>3</td>\n",
       "      <td>NaN</td>\n",
       "      <td>4.0</td>\n",
       "      <td>42.6</td>\n",
       "      <td>2</td>\n",
       "      <td>False</td>\n",
       "      <td>...</td>\n",
       "      <td>18.6</td>\n",
       "      <td>0.0</td>\n",
       "      <td>NaN</td>\n",
       "      <td>NaN</td>\n",
       "      <td>NaN</td>\n",
       "      <td>NaN</td>\n",
       "      <td>NaN</td>\n",
       "      <td>NaN</td>\n",
       "      <td>NaN</td>\n",
       "      <td>34.0</td>\n",
       "    </tr>\n",
       "    <tr>\n",
       "      <th>2603</th>\n",
       "      <td>20</td>\n",
       "      <td>3351765.0</td>\n",
       "      <td>42.7</td>\n",
       "      <td>2015-09-20T00:00:00</td>\n",
       "      <td>1</td>\n",
       "      <td>NaN</td>\n",
       "      <td>24.0</td>\n",
       "      <td>15.6</td>\n",
       "      <td>3</td>\n",
       "      <td>False</td>\n",
       "      <td>...</td>\n",
       "      <td>10.7</td>\n",
       "      <td>0.0</td>\n",
       "      <td>NaN</td>\n",
       "      <td>22041.0</td>\n",
       "      <td>17369.0</td>\n",
       "      <td>0.0</td>\n",
       "      <td>NaN</td>\n",
       "      <td>1.0</td>\n",
       "      <td>374.0</td>\n",
       "      <td>276.0</td>\n",
       "    </tr>\n",
       "    <tr>\n",
       "      <th>2632</th>\n",
       "      <td>2</td>\n",
       "      <td>5130593.0</td>\n",
       "      <td>62.4</td>\n",
       "      <td>2015-10-11T00:00:00</td>\n",
       "      <td>2</td>\n",
       "      <td>NaN</td>\n",
       "      <td>24.0</td>\n",
       "      <td>33.1</td>\n",
       "      <td>21</td>\n",
       "      <td>False</td>\n",
       "      <td>...</td>\n",
       "      <td>8.2</td>\n",
       "      <td>0.0</td>\n",
       "      <td>NaN</td>\n",
       "      <td>22041.0</td>\n",
       "      <td>17369.0</td>\n",
       "      <td>0.0</td>\n",
       "      <td>NaN</td>\n",
       "      <td>1.0</td>\n",
       "      <td>374.0</td>\n",
       "      <td>256.0</td>\n",
       "    </tr>\n",
       "    <tr>\n",
       "      <th>3574</th>\n",
       "      <td>10</td>\n",
       "      <td>4200000.0</td>\n",
       "      <td>46.5</td>\n",
       "      <td>2016-05-28T00:00:00</td>\n",
       "      <td>2</td>\n",
       "      <td>NaN</td>\n",
       "      <td>5.0</td>\n",
       "      <td>30.8</td>\n",
       "      <td>5</td>\n",
       "      <td>False</td>\n",
       "      <td>...</td>\n",
       "      <td>6.5</td>\n",
       "      <td>0.0</td>\n",
       "      <td>NaN</td>\n",
       "      <td>27419.0</td>\n",
       "      <td>8127.0</td>\n",
       "      <td>0.0</td>\n",
       "      <td>NaN</td>\n",
       "      <td>1.0</td>\n",
       "      <td>603.0</td>\n",
       "      <td>45.0</td>\n",
       "    </tr>\n",
       "  </tbody>\n",
       "</table>\n",
       "<p>5 rows × 22 columns</p>\n",
       "</div>"
      ],
      "text/plain": [
       "      total_images  last_price  total_area first_day_exposition  rooms  \\\n",
       "1097             3   8600000.0        81.7  2016-04-15T00:00:00      3   \n",
       "2033             6   5398000.0        80.0  2017-05-30T00:00:00      3   \n",
       "2603            20   3351765.0        42.7  2015-09-20T00:00:00      1   \n",
       "2632             2   5130593.0        62.4  2015-10-11T00:00:00      2   \n",
       "3574            10   4200000.0        46.5  2016-05-28T00:00:00      2   \n",
       "\n",
       "      ceiling_height  floors_total  living_area  floor  is_apartment  ...  \\\n",
       "1097            3.55           5.0         50.8      2         False  ...   \n",
       "2033             NaN           4.0         42.6      2         False  ...   \n",
       "2603             NaN          24.0         15.6      3         False  ...   \n",
       "2632             NaN          24.0         33.1     21         False  ...   \n",
       "3574             NaN           5.0         30.8      5         False  ...   \n",
       "\n",
       "      kitchen_area  balcony  locality_name  airports_nearest  \\\n",
       "1097           8.8      0.0            NaN           23478.0   \n",
       "2033          18.6      0.0            NaN               NaN   \n",
       "2603          10.7      0.0            NaN           22041.0   \n",
       "2632           8.2      0.0            NaN           22041.0   \n",
       "3574           6.5      0.0            NaN           27419.0   \n",
       "\n",
       "     city_centers_nearest  parks_around_3000  parks_nearest  \\\n",
       "1097               4258.0                0.0            NaN   \n",
       "2033                  NaN                NaN            NaN   \n",
       "2603              17369.0                0.0            NaN   \n",
       "2632              17369.0                0.0            NaN   \n",
       "3574               8127.0                0.0            NaN   \n",
       "\n",
       "      ponds_around_3000  ponds_nearest  days_exposition  \n",
       "1097                0.0            NaN            147.0  \n",
       "2033                NaN            NaN             34.0  \n",
       "2603                1.0          374.0            276.0  \n",
       "2632                1.0          374.0            256.0  \n",
       "3574                1.0          603.0             45.0  \n",
       "\n",
       "[5 rows x 22 columns]"
      ]
     },
     "execution_count": 138,
     "metadata": {},
     "output_type": "execute_result"
    }
   ],
   "source": [
    "data[data['locality_name'].isna()].head()"
   ]
  },
  {
   "cell_type": "markdown",
   "metadata": {},
   "source": [
    "Заполнить данные в столбце с названием локации не представляется возможным."
   ]
  },
  {
   "cell_type": "markdown",
   "metadata": {},
   "source": [
    "***Пропуски в столбце с ближайшим аэропортом***"
   ]
  },
  {
   "cell_type": "code",
   "execution_count": 139,
   "metadata": {},
   "outputs": [
    {
     "data": {
      "text/html": [
       "<div>\n",
       "<style scoped>\n",
       "    .dataframe tbody tr th:only-of-type {\n",
       "        vertical-align: middle;\n",
       "    }\n",
       "\n",
       "    .dataframe tbody tr th {\n",
       "        vertical-align: top;\n",
       "    }\n",
       "\n",
       "    .dataframe thead th {\n",
       "        text-align: right;\n",
       "    }\n",
       "</style>\n",
       "<table border=\"1\" class=\"dataframe\">\n",
       "  <thead>\n",
       "    <tr style=\"text-align: right;\">\n",
       "      <th></th>\n",
       "      <th>total_images</th>\n",
       "      <th>last_price</th>\n",
       "      <th>total_area</th>\n",
       "      <th>first_day_exposition</th>\n",
       "      <th>rooms</th>\n",
       "      <th>ceiling_height</th>\n",
       "      <th>floors_total</th>\n",
       "      <th>living_area</th>\n",
       "      <th>floor</th>\n",
       "      <th>is_apartment</th>\n",
       "      <th>...</th>\n",
       "      <th>kitchen_area</th>\n",
       "      <th>balcony</th>\n",
       "      <th>locality_name</th>\n",
       "      <th>airports_nearest</th>\n",
       "      <th>city_centers_nearest</th>\n",
       "      <th>parks_around_3000</th>\n",
       "      <th>parks_nearest</th>\n",
       "      <th>ponds_around_3000</th>\n",
       "      <th>ponds_nearest</th>\n",
       "      <th>days_exposition</th>\n",
       "    </tr>\n",
       "  </thead>\n",
       "  <tbody>\n",
       "    <tr>\n",
       "      <th>5</th>\n",
       "      <td>10</td>\n",
       "      <td>2890000.0</td>\n",
       "      <td>30.40</td>\n",
       "      <td>2018-09-10T00:00:00</td>\n",
       "      <td>1</td>\n",
       "      <td>NaN</td>\n",
       "      <td>12.0</td>\n",
       "      <td>14.400000</td>\n",
       "      <td>5</td>\n",
       "      <td>False</td>\n",
       "      <td>...</td>\n",
       "      <td>9.10</td>\n",
       "      <td>0.0</td>\n",
       "      <td>городской посёлок Янино-1</td>\n",
       "      <td>NaN</td>\n",
       "      <td>NaN</td>\n",
       "      <td>NaN</td>\n",
       "      <td>NaN</td>\n",
       "      <td>NaN</td>\n",
       "      <td>NaN</td>\n",
       "      <td>55.0</td>\n",
       "    </tr>\n",
       "    <tr>\n",
       "      <th>8</th>\n",
       "      <td>20</td>\n",
       "      <td>2900000.0</td>\n",
       "      <td>33.16</td>\n",
       "      <td>2018-05-23T00:00:00</td>\n",
       "      <td>1</td>\n",
       "      <td>NaN</td>\n",
       "      <td>27.0</td>\n",
       "      <td>15.430000</td>\n",
       "      <td>26</td>\n",
       "      <td>False</td>\n",
       "      <td>...</td>\n",
       "      <td>8.81</td>\n",
       "      <td>0.0</td>\n",
       "      <td>посёлок Мурино</td>\n",
       "      <td>NaN</td>\n",
       "      <td>NaN</td>\n",
       "      <td>NaN</td>\n",
       "      <td>NaN</td>\n",
       "      <td>NaN</td>\n",
       "      <td>NaN</td>\n",
       "      <td>189.0</td>\n",
       "    </tr>\n",
       "    <tr>\n",
       "      <th>12</th>\n",
       "      <td>10</td>\n",
       "      <td>3890000.0</td>\n",
       "      <td>54.00</td>\n",
       "      <td>2016-06-30T00:00:00</td>\n",
       "      <td>2</td>\n",
       "      <td>NaN</td>\n",
       "      <td>5.0</td>\n",
       "      <td>30.000000</td>\n",
       "      <td>5</td>\n",
       "      <td>False</td>\n",
       "      <td>...</td>\n",
       "      <td>9.00</td>\n",
       "      <td>0.0</td>\n",
       "      <td>Сертолово</td>\n",
       "      <td>NaN</td>\n",
       "      <td>NaN</td>\n",
       "      <td>NaN</td>\n",
       "      <td>NaN</td>\n",
       "      <td>NaN</td>\n",
       "      <td>NaN</td>\n",
       "      <td>90.0</td>\n",
       "    </tr>\n",
       "    <tr>\n",
       "      <th>22</th>\n",
       "      <td>20</td>\n",
       "      <td>5000000.0</td>\n",
       "      <td>58.00</td>\n",
       "      <td>2017-04-24T00:00:00</td>\n",
       "      <td>2</td>\n",
       "      <td>2.75</td>\n",
       "      <td>25.0</td>\n",
       "      <td>30.000000</td>\n",
       "      <td>15</td>\n",
       "      <td>False</td>\n",
       "      <td>...</td>\n",
       "      <td>11.00</td>\n",
       "      <td>2.0</td>\n",
       "      <td>деревня Кудрово</td>\n",
       "      <td>NaN</td>\n",
       "      <td>NaN</td>\n",
       "      <td>NaN</td>\n",
       "      <td>NaN</td>\n",
       "      <td>NaN</td>\n",
       "      <td>NaN</td>\n",
       "      <td>60.0</td>\n",
       "    </tr>\n",
       "    <tr>\n",
       "      <th>30</th>\n",
       "      <td>12</td>\n",
       "      <td>2200000.0</td>\n",
       "      <td>32.80</td>\n",
       "      <td>2018-02-19T00:00:00</td>\n",
       "      <td>1</td>\n",
       "      <td>NaN</td>\n",
       "      <td>9.0</td>\n",
       "      <td>18.625805</td>\n",
       "      <td>2</td>\n",
       "      <td>False</td>\n",
       "      <td>...</td>\n",
       "      <td>NaN</td>\n",
       "      <td>0.0</td>\n",
       "      <td>Коммунар</td>\n",
       "      <td>NaN</td>\n",
       "      <td>NaN</td>\n",
       "      <td>NaN</td>\n",
       "      <td>NaN</td>\n",
       "      <td>NaN</td>\n",
       "      <td>NaN</td>\n",
       "      <td>63.0</td>\n",
       "    </tr>\n",
       "  </tbody>\n",
       "</table>\n",
       "<p>5 rows × 22 columns</p>\n",
       "</div>"
      ],
      "text/plain": [
       "    total_images  last_price  total_area first_day_exposition  rooms  \\\n",
       "5             10   2890000.0       30.40  2018-09-10T00:00:00      1   \n",
       "8             20   2900000.0       33.16  2018-05-23T00:00:00      1   \n",
       "12            10   3890000.0       54.00  2016-06-30T00:00:00      2   \n",
       "22            20   5000000.0       58.00  2017-04-24T00:00:00      2   \n",
       "30            12   2200000.0       32.80  2018-02-19T00:00:00      1   \n",
       "\n",
       "    ceiling_height  floors_total  living_area  floor  is_apartment  ...  \\\n",
       "5              NaN          12.0    14.400000      5         False  ...   \n",
       "8              NaN          27.0    15.430000     26         False  ...   \n",
       "12             NaN           5.0    30.000000      5         False  ...   \n",
       "22            2.75          25.0    30.000000     15         False  ...   \n",
       "30             NaN           9.0    18.625805      2         False  ...   \n",
       "\n",
       "    kitchen_area  balcony              locality_name  airports_nearest  \\\n",
       "5           9.10      0.0  городской посёлок Янино-1               NaN   \n",
       "8           8.81      0.0             посёлок Мурино               NaN   \n",
       "12          9.00      0.0                  Сертолово               NaN   \n",
       "22         11.00      2.0            деревня Кудрово               NaN   \n",
       "30           NaN      0.0                   Коммунар               NaN   \n",
       "\n",
       "   city_centers_nearest  parks_around_3000  parks_nearest  ponds_around_3000  \\\n",
       "5                   NaN                NaN            NaN                NaN   \n",
       "8                   NaN                NaN            NaN                NaN   \n",
       "12                  NaN                NaN            NaN                NaN   \n",
       "22                  NaN                NaN            NaN                NaN   \n",
       "30                  NaN                NaN            NaN                NaN   \n",
       "\n",
       "    ponds_nearest  days_exposition  \n",
       "5             NaN             55.0  \n",
       "8             NaN            189.0  \n",
       "12            NaN             90.0  \n",
       "22            NaN             60.0  \n",
       "30            NaN             63.0  \n",
       "\n",
       "[5 rows x 22 columns]"
      ]
     },
     "execution_count": 139,
     "metadata": {},
     "output_type": "execute_result"
    }
   ],
   "source": [
    "data.query('airports_nearest.isna()').head()"
   ]
  },
  {
   "cell_type": "markdown",
   "metadata": {},
   "source": [
    "Проверим, возможно, если локация - Санкт-Петербург, то пропусков нет:"
   ]
  },
  {
   "cell_type": "code",
   "execution_count": 140,
   "metadata": {},
   "outputs": [
    {
     "data": {
      "text/html": [
       "<div>\n",
       "<style scoped>\n",
       "    .dataframe tbody tr th:only-of-type {\n",
       "        vertical-align: middle;\n",
       "    }\n",
       "\n",
       "    .dataframe tbody tr th {\n",
       "        vertical-align: top;\n",
       "    }\n",
       "\n",
       "    .dataframe thead th {\n",
       "        text-align: right;\n",
       "    }\n",
       "</style>\n",
       "<table border=\"1\" class=\"dataframe\">\n",
       "  <thead>\n",
       "    <tr style=\"text-align: right;\">\n",
       "      <th></th>\n",
       "      <th>total_images</th>\n",
       "      <th>last_price</th>\n",
       "      <th>total_area</th>\n",
       "      <th>first_day_exposition</th>\n",
       "      <th>rooms</th>\n",
       "      <th>ceiling_height</th>\n",
       "      <th>floors_total</th>\n",
       "      <th>living_area</th>\n",
       "      <th>floor</th>\n",
       "      <th>is_apartment</th>\n",
       "      <th>...</th>\n",
       "      <th>kitchen_area</th>\n",
       "      <th>balcony</th>\n",
       "      <th>locality_name</th>\n",
       "      <th>airports_nearest</th>\n",
       "      <th>city_centers_nearest</th>\n",
       "      <th>parks_around_3000</th>\n",
       "      <th>parks_nearest</th>\n",
       "      <th>ponds_around_3000</th>\n",
       "      <th>ponds_nearest</th>\n",
       "      <th>days_exposition</th>\n",
       "    </tr>\n",
       "  </thead>\n",
       "  <tbody>\n",
       "    <tr>\n",
       "      <th>81</th>\n",
       "      <td>9</td>\n",
       "      <td>10949000.0</td>\n",
       "      <td>68.0</td>\n",
       "      <td>2018-12-27T00:00:00</td>\n",
       "      <td>1</td>\n",
       "      <td>NaN</td>\n",
       "      <td>10.0</td>\n",
       "      <td>38.614473</td>\n",
       "      <td>6</td>\n",
       "      <td>False</td>\n",
       "      <td>...</td>\n",
       "      <td>NaN</td>\n",
       "      <td>0.0</td>\n",
       "      <td>Санкт-Петербург</td>\n",
       "      <td>NaN</td>\n",
       "      <td>NaN</td>\n",
       "      <td>NaN</td>\n",
       "      <td>NaN</td>\n",
       "      <td>NaN</td>\n",
       "      <td>NaN</td>\n",
       "      <td>NaN</td>\n",
       "    </tr>\n",
       "    <tr>\n",
       "      <th>593</th>\n",
       "      <td>20</td>\n",
       "      <td>4200000.0</td>\n",
       "      <td>38.3</td>\n",
       "      <td>2019-04-16T00:00:00</td>\n",
       "      <td>1</td>\n",
       "      <td>2.60</td>\n",
       "      <td>16.0</td>\n",
       "      <td>19.800000</td>\n",
       "      <td>10</td>\n",
       "      <td>False</td>\n",
       "      <td>...</td>\n",
       "      <td>10.1</td>\n",
       "      <td>2.0</td>\n",
       "      <td>Санкт-Петербург</td>\n",
       "      <td>NaN</td>\n",
       "      <td>NaN</td>\n",
       "      <td>NaN</td>\n",
       "      <td>NaN</td>\n",
       "      <td>NaN</td>\n",
       "      <td>NaN</td>\n",
       "      <td>NaN</td>\n",
       "    </tr>\n",
       "    <tr>\n",
       "      <th>604</th>\n",
       "      <td>11</td>\n",
       "      <td>9899000.0</td>\n",
       "      <td>101.0</td>\n",
       "      <td>2018-12-12T00:00:00</td>\n",
       "      <td>3</td>\n",
       "      <td>3.00</td>\n",
       "      <td>5.0</td>\n",
       "      <td>62.000000</td>\n",
       "      <td>3</td>\n",
       "      <td>False</td>\n",
       "      <td>...</td>\n",
       "      <td>15.0</td>\n",
       "      <td>0.0</td>\n",
       "      <td>Санкт-Петербург</td>\n",
       "      <td>NaN</td>\n",
       "      <td>NaN</td>\n",
       "      <td>NaN</td>\n",
       "      <td>NaN</td>\n",
       "      <td>NaN</td>\n",
       "      <td>NaN</td>\n",
       "      <td>NaN</td>\n",
       "    </tr>\n",
       "    <tr>\n",
       "      <th>733</th>\n",
       "      <td>18</td>\n",
       "      <td>18700000.0</td>\n",
       "      <td>109.7</td>\n",
       "      <td>2018-02-03T00:00:00</td>\n",
       "      <td>3</td>\n",
       "      <td>2.75</td>\n",
       "      <td>21.0</td>\n",
       "      <td>57.200000</td>\n",
       "      <td>13</td>\n",
       "      <td>False</td>\n",
       "      <td>...</td>\n",
       "      <td>15.3</td>\n",
       "      <td>1.0</td>\n",
       "      <td>Санкт-Петербург</td>\n",
       "      <td>NaN</td>\n",
       "      <td>13355.0</td>\n",
       "      <td>1.0</td>\n",
       "      <td>735.0</td>\n",
       "      <td>0.0</td>\n",
       "      <td>NaN</td>\n",
       "      <td>112.0</td>\n",
       "    </tr>\n",
       "    <tr>\n",
       "      <th>742</th>\n",
       "      <td>7</td>\n",
       "      <td>37000000.0</td>\n",
       "      <td>161.0</td>\n",
       "      <td>2016-05-22T00:00:00</td>\n",
       "      <td>3</td>\n",
       "      <td>NaN</td>\n",
       "      <td>9.0</td>\n",
       "      <td>84.000000</td>\n",
       "      <td>8</td>\n",
       "      <td>False</td>\n",
       "      <td>...</td>\n",
       "      <td>NaN</td>\n",
       "      <td>0.0</td>\n",
       "      <td>Санкт-Петербург</td>\n",
       "      <td>NaN</td>\n",
       "      <td>NaN</td>\n",
       "      <td>NaN</td>\n",
       "      <td>NaN</td>\n",
       "      <td>NaN</td>\n",
       "      <td>NaN</td>\n",
       "      <td>402.0</td>\n",
       "    </tr>\n",
       "  </tbody>\n",
       "</table>\n",
       "<p>5 rows × 22 columns</p>\n",
       "</div>"
      ],
      "text/plain": [
       "     total_images  last_price  total_area first_day_exposition  rooms  \\\n",
       "81              9  10949000.0        68.0  2018-12-27T00:00:00      1   \n",
       "593            20   4200000.0        38.3  2019-04-16T00:00:00      1   \n",
       "604            11   9899000.0       101.0  2018-12-12T00:00:00      3   \n",
       "733            18  18700000.0       109.7  2018-02-03T00:00:00      3   \n",
       "742             7  37000000.0       161.0  2016-05-22T00:00:00      3   \n",
       "\n",
       "     ceiling_height  floors_total  living_area  floor  is_apartment  ...  \\\n",
       "81              NaN          10.0    38.614473      6         False  ...   \n",
       "593            2.60          16.0    19.800000     10         False  ...   \n",
       "604            3.00           5.0    62.000000      3         False  ...   \n",
       "733            2.75          21.0    57.200000     13         False  ...   \n",
       "742             NaN           9.0    84.000000      8         False  ...   \n",
       "\n",
       "     kitchen_area  balcony    locality_name  airports_nearest  \\\n",
       "81            NaN      0.0  Санкт-Петербург               NaN   \n",
       "593          10.1      2.0  Санкт-Петербург               NaN   \n",
       "604          15.0      0.0  Санкт-Петербург               NaN   \n",
       "733          15.3      1.0  Санкт-Петербург               NaN   \n",
       "742           NaN      0.0  Санкт-Петербург               NaN   \n",
       "\n",
       "    city_centers_nearest  parks_around_3000  parks_nearest  ponds_around_3000  \\\n",
       "81                   NaN                NaN            NaN                NaN   \n",
       "593                  NaN                NaN            NaN                NaN   \n",
       "604                  NaN                NaN            NaN                NaN   \n",
       "733              13355.0                1.0          735.0                0.0   \n",
       "742                  NaN                NaN            NaN                NaN   \n",
       "\n",
       "     ponds_nearest  days_exposition  \n",
       "81             NaN              NaN  \n",
       "593            NaN              NaN  \n",
       "604            NaN              NaN  \n",
       "733            NaN            112.0  \n",
       "742            NaN            402.0  \n",
       "\n",
       "[5 rows x 22 columns]"
      ]
     },
     "execution_count": 140,
     "metadata": {},
     "output_type": "execute_result"
    }
   ],
   "source": [
    "data.query('locality_name == \"Санкт-Петербург\" and airports_nearest.isna()').head()"
   ]
  },
  {
   "cell_type": "markdown",
   "metadata": {},
   "source": [
    "Возможно, пропуск в данном случае, означает, что аэропорт дальше какого-то определенного значения."
   ]
  },
  {
   "cell_type": "markdown",
   "metadata": {},
   "source": [
    "***Пропуски в столбце с расстоянием до центра города***"
   ]
  },
  {
   "cell_type": "code",
   "execution_count": 141,
   "metadata": {},
   "outputs": [
    {
     "data": {
      "text/plain": [
       "5519"
      ]
     },
     "execution_count": 141,
     "metadata": {},
     "output_type": "execute_result"
    }
   ],
   "source": [
    "data['city_centers_nearest'].isna().sum()"
   ]
  },
  {
   "cell_type": "code",
   "execution_count": 142,
   "metadata": {},
   "outputs": [
    {
     "data": {
      "text/html": [
       "<div>\n",
       "<style scoped>\n",
       "    .dataframe tbody tr th:only-of-type {\n",
       "        vertical-align: middle;\n",
       "    }\n",
       "\n",
       "    .dataframe tbody tr th {\n",
       "        vertical-align: top;\n",
       "    }\n",
       "\n",
       "    .dataframe thead th {\n",
       "        text-align: right;\n",
       "    }\n",
       "</style>\n",
       "<table border=\"1\" class=\"dataframe\">\n",
       "  <thead>\n",
       "    <tr style=\"text-align: right;\">\n",
       "      <th></th>\n",
       "      <th>total_images</th>\n",
       "      <th>last_price</th>\n",
       "      <th>total_area</th>\n",
       "      <th>first_day_exposition</th>\n",
       "      <th>rooms</th>\n",
       "      <th>ceiling_height</th>\n",
       "      <th>floors_total</th>\n",
       "      <th>living_area</th>\n",
       "      <th>floor</th>\n",
       "      <th>is_apartment</th>\n",
       "      <th>...</th>\n",
       "      <th>kitchen_area</th>\n",
       "      <th>balcony</th>\n",
       "      <th>locality_name</th>\n",
       "      <th>airports_nearest</th>\n",
       "      <th>city_centers_nearest</th>\n",
       "      <th>parks_around_3000</th>\n",
       "      <th>parks_nearest</th>\n",
       "      <th>ponds_around_3000</th>\n",
       "      <th>ponds_nearest</th>\n",
       "      <th>days_exposition</th>\n",
       "    </tr>\n",
       "  </thead>\n",
       "  <tbody>\n",
       "    <tr>\n",
       "      <th>5</th>\n",
       "      <td>10</td>\n",
       "      <td>2890000.0</td>\n",
       "      <td>30.40</td>\n",
       "      <td>2018-09-10T00:00:00</td>\n",
       "      <td>1</td>\n",
       "      <td>NaN</td>\n",
       "      <td>12.0</td>\n",
       "      <td>14.400000</td>\n",
       "      <td>5</td>\n",
       "      <td>False</td>\n",
       "      <td>...</td>\n",
       "      <td>9.10</td>\n",
       "      <td>0.0</td>\n",
       "      <td>городской посёлок Янино-1</td>\n",
       "      <td>NaN</td>\n",
       "      <td>NaN</td>\n",
       "      <td>NaN</td>\n",
       "      <td>NaN</td>\n",
       "      <td>NaN</td>\n",
       "      <td>NaN</td>\n",
       "      <td>55.0</td>\n",
       "    </tr>\n",
       "    <tr>\n",
       "      <th>8</th>\n",
       "      <td>20</td>\n",
       "      <td>2900000.0</td>\n",
       "      <td>33.16</td>\n",
       "      <td>2018-05-23T00:00:00</td>\n",
       "      <td>1</td>\n",
       "      <td>NaN</td>\n",
       "      <td>27.0</td>\n",
       "      <td>15.430000</td>\n",
       "      <td>26</td>\n",
       "      <td>False</td>\n",
       "      <td>...</td>\n",
       "      <td>8.81</td>\n",
       "      <td>0.0</td>\n",
       "      <td>посёлок Мурино</td>\n",
       "      <td>NaN</td>\n",
       "      <td>NaN</td>\n",
       "      <td>NaN</td>\n",
       "      <td>NaN</td>\n",
       "      <td>NaN</td>\n",
       "      <td>NaN</td>\n",
       "      <td>189.0</td>\n",
       "    </tr>\n",
       "    <tr>\n",
       "      <th>12</th>\n",
       "      <td>10</td>\n",
       "      <td>3890000.0</td>\n",
       "      <td>54.00</td>\n",
       "      <td>2016-06-30T00:00:00</td>\n",
       "      <td>2</td>\n",
       "      <td>NaN</td>\n",
       "      <td>5.0</td>\n",
       "      <td>30.000000</td>\n",
       "      <td>5</td>\n",
       "      <td>False</td>\n",
       "      <td>...</td>\n",
       "      <td>9.00</td>\n",
       "      <td>0.0</td>\n",
       "      <td>Сертолово</td>\n",
       "      <td>NaN</td>\n",
       "      <td>NaN</td>\n",
       "      <td>NaN</td>\n",
       "      <td>NaN</td>\n",
       "      <td>NaN</td>\n",
       "      <td>NaN</td>\n",
       "      <td>90.0</td>\n",
       "    </tr>\n",
       "    <tr>\n",
       "      <th>22</th>\n",
       "      <td>20</td>\n",
       "      <td>5000000.0</td>\n",
       "      <td>58.00</td>\n",
       "      <td>2017-04-24T00:00:00</td>\n",
       "      <td>2</td>\n",
       "      <td>2.75</td>\n",
       "      <td>25.0</td>\n",
       "      <td>30.000000</td>\n",
       "      <td>15</td>\n",
       "      <td>False</td>\n",
       "      <td>...</td>\n",
       "      <td>11.00</td>\n",
       "      <td>2.0</td>\n",
       "      <td>деревня Кудрово</td>\n",
       "      <td>NaN</td>\n",
       "      <td>NaN</td>\n",
       "      <td>NaN</td>\n",
       "      <td>NaN</td>\n",
       "      <td>NaN</td>\n",
       "      <td>NaN</td>\n",
       "      <td>60.0</td>\n",
       "    </tr>\n",
       "    <tr>\n",
       "      <th>30</th>\n",
       "      <td>12</td>\n",
       "      <td>2200000.0</td>\n",
       "      <td>32.80</td>\n",
       "      <td>2018-02-19T00:00:00</td>\n",
       "      <td>1</td>\n",
       "      <td>NaN</td>\n",
       "      <td>9.0</td>\n",
       "      <td>18.625805</td>\n",
       "      <td>2</td>\n",
       "      <td>False</td>\n",
       "      <td>...</td>\n",
       "      <td>NaN</td>\n",
       "      <td>0.0</td>\n",
       "      <td>Коммунар</td>\n",
       "      <td>NaN</td>\n",
       "      <td>NaN</td>\n",
       "      <td>NaN</td>\n",
       "      <td>NaN</td>\n",
       "      <td>NaN</td>\n",
       "      <td>NaN</td>\n",
       "      <td>63.0</td>\n",
       "    </tr>\n",
       "  </tbody>\n",
       "</table>\n",
       "<p>5 rows × 22 columns</p>\n",
       "</div>"
      ],
      "text/plain": [
       "    total_images  last_price  total_area first_day_exposition  rooms  \\\n",
       "5             10   2890000.0       30.40  2018-09-10T00:00:00      1   \n",
       "8             20   2900000.0       33.16  2018-05-23T00:00:00      1   \n",
       "12            10   3890000.0       54.00  2016-06-30T00:00:00      2   \n",
       "22            20   5000000.0       58.00  2017-04-24T00:00:00      2   \n",
       "30            12   2200000.0       32.80  2018-02-19T00:00:00      1   \n",
       "\n",
       "    ceiling_height  floors_total  living_area  floor  is_apartment  ...  \\\n",
       "5              NaN          12.0    14.400000      5         False  ...   \n",
       "8              NaN          27.0    15.430000     26         False  ...   \n",
       "12             NaN           5.0    30.000000      5         False  ...   \n",
       "22            2.75          25.0    30.000000     15         False  ...   \n",
       "30             NaN           9.0    18.625805      2         False  ...   \n",
       "\n",
       "    kitchen_area  balcony              locality_name  airports_nearest  \\\n",
       "5           9.10      0.0  городской посёлок Янино-1               NaN   \n",
       "8           8.81      0.0             посёлок Мурино               NaN   \n",
       "12          9.00      0.0                  Сертолово               NaN   \n",
       "22         11.00      2.0            деревня Кудрово               NaN   \n",
       "30           NaN      0.0                   Коммунар               NaN   \n",
       "\n",
       "   city_centers_nearest  parks_around_3000  parks_nearest  ponds_around_3000  \\\n",
       "5                   NaN                NaN            NaN                NaN   \n",
       "8                   NaN                NaN            NaN                NaN   \n",
       "12                  NaN                NaN            NaN                NaN   \n",
       "22                  NaN                NaN            NaN                NaN   \n",
       "30                  NaN                NaN            NaN                NaN   \n",
       "\n",
       "    ponds_nearest  days_exposition  \n",
       "5             NaN             55.0  \n",
       "8             NaN            189.0  \n",
       "12            NaN             90.0  \n",
       "22            NaN             60.0  \n",
       "30            NaN             63.0  \n",
       "\n",
       "[5 rows x 22 columns]"
      ]
     },
     "execution_count": 142,
     "metadata": {},
     "output_type": "execute_result"
    }
   ],
   "source": [
    "data.query('city_centers_nearest.isna()').head()"
   ]
  },
  {
   "cell_type": "markdown",
   "metadata": {},
   "source": [
    "Количество пропусков в столбце с расстоянием до центра, количеством парков и прудов в радиусе 3000 почти совпадает, проверим, одни ли и те же это строки:"
   ]
  },
  {
   "cell_type": "code",
   "execution_count": 143,
   "metadata": {},
   "outputs": [
    {
     "data": {
      "text/plain": [
       "5518"
      ]
     },
     "execution_count": 143,
     "metadata": {},
     "output_type": "execute_result"
    }
   ],
   "source": [
    "data.query('city_centers_nearest.isna()')['parks_around_3000'].isna().sum()"
   ]
  },
  {
   "cell_type": "code",
   "execution_count": 144,
   "metadata": {},
   "outputs": [
    {
     "data": {
      "text/plain": [
       "5518"
      ]
     },
     "execution_count": 144,
     "metadata": {},
     "output_type": "execute_result"
    }
   ],
   "source": [
    "data.query('city_centers_nearest.isna()')['ponds_around_3000'].isna().sum()"
   ]
  },
  {
   "cell_type": "markdown",
   "metadata": {},
   "source": [
    "В тех же ячейках, но пропусков в расстоянии до центра на один больше, найдём его:"
   ]
  },
  {
   "cell_type": "code",
   "execution_count": 145,
   "metadata": {},
   "outputs": [
    {
     "data": {
      "text/html": [
       "<div>\n",
       "<style scoped>\n",
       "    .dataframe tbody tr th:only-of-type {\n",
       "        vertical-align: middle;\n",
       "    }\n",
       "\n",
       "    .dataframe tbody tr th {\n",
       "        vertical-align: top;\n",
       "    }\n",
       "\n",
       "    .dataframe thead th {\n",
       "        text-align: right;\n",
       "    }\n",
       "</style>\n",
       "<table border=\"1\" class=\"dataframe\">\n",
       "  <thead>\n",
       "    <tr style=\"text-align: right;\">\n",
       "      <th></th>\n",
       "      <th>total_images</th>\n",
       "      <th>last_price</th>\n",
       "      <th>total_area</th>\n",
       "      <th>first_day_exposition</th>\n",
       "      <th>rooms</th>\n",
       "      <th>ceiling_height</th>\n",
       "      <th>floors_total</th>\n",
       "      <th>living_area</th>\n",
       "      <th>floor</th>\n",
       "      <th>is_apartment</th>\n",
       "      <th>...</th>\n",
       "      <th>kitchen_area</th>\n",
       "      <th>balcony</th>\n",
       "      <th>locality_name</th>\n",
       "      <th>airports_nearest</th>\n",
       "      <th>city_centers_nearest</th>\n",
       "      <th>parks_around_3000</th>\n",
       "      <th>parks_nearest</th>\n",
       "      <th>ponds_around_3000</th>\n",
       "      <th>ponds_nearest</th>\n",
       "      <th>days_exposition</th>\n",
       "    </tr>\n",
       "  </thead>\n",
       "  <tbody>\n",
       "    <tr>\n",
       "      <th>20190</th>\n",
       "      <td>2</td>\n",
       "      <td>10500000.0</td>\n",
       "      <td>85.0</td>\n",
       "      <td>2019-01-08T00:00:00</td>\n",
       "      <td>3</td>\n",
       "      <td>3.0</td>\n",
       "      <td>3.0</td>\n",
       "      <td>55.5</td>\n",
       "      <td>2</td>\n",
       "      <td>False</td>\n",
       "      <td>...</td>\n",
       "      <td>8.0</td>\n",
       "      <td>1.0</td>\n",
       "      <td>Пушкин</td>\n",
       "      <td>15527.0</td>\n",
       "      <td>NaN</td>\n",
       "      <td>1.0</td>\n",
       "      <td>134.0</td>\n",
       "      <td>0.0</td>\n",
       "      <td>NaN</td>\n",
       "      <td>NaN</td>\n",
       "    </tr>\n",
       "  </tbody>\n",
       "</table>\n",
       "<p>1 rows × 22 columns</p>\n",
       "</div>"
      ],
      "text/plain": [
       "       total_images  last_price  total_area first_day_exposition  rooms  \\\n",
       "20190             2  10500000.0        85.0  2019-01-08T00:00:00      3   \n",
       "\n",
       "       ceiling_height  floors_total  living_area  floor  is_apartment  ...  \\\n",
       "20190             3.0           3.0         55.5      2         False  ...   \n",
       "\n",
       "       kitchen_area  balcony  locality_name  airports_nearest  \\\n",
       "20190           8.0      1.0         Пушкин           15527.0   \n",
       "\n",
       "      city_centers_nearest  parks_around_3000  parks_nearest  \\\n",
       "20190                  NaN                1.0          134.0   \n",
       "\n",
       "       ponds_around_3000  ponds_nearest  days_exposition  \n",
       "20190                0.0            NaN              NaN  \n",
       "\n",
       "[1 rows x 22 columns]"
      ]
     },
     "execution_count": 145,
     "metadata": {},
     "output_type": "execute_result"
    }
   ],
   "source": [
    "data.query('(not ponds_around_3000.isna()) and city_centers_nearest.isna()')"
   ]
  },
  {
   "cell_type": "markdown",
   "metadata": {},
   "source": [
    "Скорее всего пропуски в столбцах о количестве прудов и парков в радиусе 3000 означает, что их нет, вставим туда 0. В столбцах, в которых расстояние до ближайшего заполнить не представляется возможным, скорее всего это значит, что парк или пруд, или центр находится довольно далеко."
   ]
  },
  {
   "cell_type": "code",
   "execution_count": 146,
   "metadata": {},
   "outputs": [],
   "source": [
    "data['parks_around_3000'] = data['parks_around_3000'].fillna(value=0)\n",
    "data['ponds_around_3000'] = data['ponds_around_3000'].fillna(value=0)"
   ]
  },
  {
   "cell_type": "markdown",
   "metadata": {},
   "source": [
    "Проверим теперь пропуски в этих столбцах:"
   ]
  },
  {
   "cell_type": "code",
   "execution_count": 147,
   "metadata": {},
   "outputs": [
    {
     "data": {
      "text/plain": [
       "0"
      ]
     },
     "execution_count": 147,
     "metadata": {},
     "output_type": "execute_result"
    }
   ],
   "source": [
    "data['ponds_around_3000'].isna().sum()"
   ]
  },
  {
   "cell_type": "code",
   "execution_count": 148,
   "metadata": {},
   "outputs": [
    {
     "data": {
      "text/plain": [
       "0"
      ]
     },
     "execution_count": 148,
     "metadata": {},
     "output_type": "execute_result"
    }
   ],
   "source": [
    "data['parks_around_3000'].isna().sum()"
   ]
  },
  {
   "cell_type": "markdown",
   "metadata": {},
   "source": [
    "***Пропуски в столбце с количеством дней от начала публикации***"
   ]
  },
  {
   "cell_type": "code",
   "execution_count": 149,
   "metadata": {},
   "outputs": [
    {
     "data": {
      "text/plain": [
       "3181"
      ]
     },
     "execution_count": 149,
     "metadata": {},
     "output_type": "execute_result"
    }
   ],
   "source": [
    "data['days_exposition'].isna().sum()"
   ]
  },
  {
   "cell_type": "code",
   "execution_count": 150,
   "metadata": {},
   "outputs": [
    {
     "data": {
      "text/html": [
       "<div>\n",
       "<style scoped>\n",
       "    .dataframe tbody tr th:only-of-type {\n",
       "        vertical-align: middle;\n",
       "    }\n",
       "\n",
       "    .dataframe tbody tr th {\n",
       "        vertical-align: top;\n",
       "    }\n",
       "\n",
       "    .dataframe thead th {\n",
       "        text-align: right;\n",
       "    }\n",
       "</style>\n",
       "<table border=\"1\" class=\"dataframe\">\n",
       "  <thead>\n",
       "    <tr style=\"text-align: right;\">\n",
       "      <th></th>\n",
       "      <th>total_images</th>\n",
       "      <th>last_price</th>\n",
       "      <th>total_area</th>\n",
       "      <th>first_day_exposition</th>\n",
       "      <th>rooms</th>\n",
       "      <th>ceiling_height</th>\n",
       "      <th>floors_total</th>\n",
       "      <th>living_area</th>\n",
       "      <th>floor</th>\n",
       "      <th>is_apartment</th>\n",
       "      <th>...</th>\n",
       "      <th>kitchen_area</th>\n",
       "      <th>balcony</th>\n",
       "      <th>locality_name</th>\n",
       "      <th>airports_nearest</th>\n",
       "      <th>city_centers_nearest</th>\n",
       "      <th>parks_around_3000</th>\n",
       "      <th>parks_nearest</th>\n",
       "      <th>ponds_around_3000</th>\n",
       "      <th>ponds_nearest</th>\n",
       "      <th>days_exposition</th>\n",
       "    </tr>\n",
       "  </thead>\n",
       "  <tbody>\n",
       "    <tr>\n",
       "      <th>0</th>\n",
       "      <td>20</td>\n",
       "      <td>13000000.0</td>\n",
       "      <td>108.0</td>\n",
       "      <td>2019-03-07T00:00:00</td>\n",
       "      <td>3</td>\n",
       "      <td>2.70</td>\n",
       "      <td>16.0</td>\n",
       "      <td>51.000000</td>\n",
       "      <td>8</td>\n",
       "      <td>False</td>\n",
       "      <td>...</td>\n",
       "      <td>25.0</td>\n",
       "      <td>0.0</td>\n",
       "      <td>Санкт-Петербург</td>\n",
       "      <td>18863.0</td>\n",
       "      <td>16028.0</td>\n",
       "      <td>1.0</td>\n",
       "      <td>482.0</td>\n",
       "      <td>2.0</td>\n",
       "      <td>755.0</td>\n",
       "      <td>NaN</td>\n",
       "    </tr>\n",
       "    <tr>\n",
       "      <th>7</th>\n",
       "      <td>5</td>\n",
       "      <td>7915000.0</td>\n",
       "      <td>71.6</td>\n",
       "      <td>2019-04-18T00:00:00</td>\n",
       "      <td>2</td>\n",
       "      <td>NaN</td>\n",
       "      <td>24.0</td>\n",
       "      <td>40.658769</td>\n",
       "      <td>22</td>\n",
       "      <td>False</td>\n",
       "      <td>...</td>\n",
       "      <td>18.9</td>\n",
       "      <td>2.0</td>\n",
       "      <td>Санкт-Петербург</td>\n",
       "      <td>23982.0</td>\n",
       "      <td>11634.0</td>\n",
       "      <td>0.0</td>\n",
       "      <td>NaN</td>\n",
       "      <td>0.0</td>\n",
       "      <td>NaN</td>\n",
       "      <td>NaN</td>\n",
       "    </tr>\n",
       "    <tr>\n",
       "      <th>44</th>\n",
       "      <td>13</td>\n",
       "      <td>5350000.0</td>\n",
       "      <td>40.0</td>\n",
       "      <td>2018-11-18T00:00:00</td>\n",
       "      <td>1</td>\n",
       "      <td>NaN</td>\n",
       "      <td>22.0</td>\n",
       "      <td>22.714396</td>\n",
       "      <td>3</td>\n",
       "      <td>False</td>\n",
       "      <td>...</td>\n",
       "      <td>NaN</td>\n",
       "      <td>1.0</td>\n",
       "      <td>Санкт-Петербург</td>\n",
       "      <td>30471.0</td>\n",
       "      <td>11603.0</td>\n",
       "      <td>1.0</td>\n",
       "      <td>620.0</td>\n",
       "      <td>1.0</td>\n",
       "      <td>1152.0</td>\n",
       "      <td>NaN</td>\n",
       "    </tr>\n",
       "    <tr>\n",
       "      <th>45</th>\n",
       "      <td>17</td>\n",
       "      <td>5200000.0</td>\n",
       "      <td>50.6</td>\n",
       "      <td>2018-12-02T00:00:00</td>\n",
       "      <td>2</td>\n",
       "      <td>2.65</td>\n",
       "      <td>9.0</td>\n",
       "      <td>30.300000</td>\n",
       "      <td>7</td>\n",
       "      <td>False</td>\n",
       "      <td>...</td>\n",
       "      <td>7.0</td>\n",
       "      <td>0.0</td>\n",
       "      <td>Санкт-Петербург</td>\n",
       "      <td>30011.0</td>\n",
       "      <td>12872.0</td>\n",
       "      <td>0.0</td>\n",
       "      <td>NaN</td>\n",
       "      <td>0.0</td>\n",
       "      <td>NaN</td>\n",
       "      <td>NaN</td>\n",
       "    </tr>\n",
       "    <tr>\n",
       "      <th>46</th>\n",
       "      <td>17</td>\n",
       "      <td>6600000.0</td>\n",
       "      <td>52.1</td>\n",
       "      <td>2019-01-31T00:00:00</td>\n",
       "      <td>2</td>\n",
       "      <td>2.60</td>\n",
       "      <td>24.0</td>\n",
       "      <td>29.700000</td>\n",
       "      <td>9</td>\n",
       "      <td>False</td>\n",
       "      <td>...</td>\n",
       "      <td>8.3</td>\n",
       "      <td>2.0</td>\n",
       "      <td>Санкт-Петербург</td>\n",
       "      <td>15114.0</td>\n",
       "      <td>12702.0</td>\n",
       "      <td>0.0</td>\n",
       "      <td>NaN</td>\n",
       "      <td>0.0</td>\n",
       "      <td>NaN</td>\n",
       "      <td>NaN</td>\n",
       "    </tr>\n",
       "  </tbody>\n",
       "</table>\n",
       "<p>5 rows × 22 columns</p>\n",
       "</div>"
      ],
      "text/plain": [
       "    total_images  last_price  total_area first_day_exposition  rooms  \\\n",
       "0             20  13000000.0       108.0  2019-03-07T00:00:00      3   \n",
       "7              5   7915000.0        71.6  2019-04-18T00:00:00      2   \n",
       "44            13   5350000.0        40.0  2018-11-18T00:00:00      1   \n",
       "45            17   5200000.0        50.6  2018-12-02T00:00:00      2   \n",
       "46            17   6600000.0        52.1  2019-01-31T00:00:00      2   \n",
       "\n",
       "    ceiling_height  floors_total  living_area  floor  is_apartment  ...  \\\n",
       "0             2.70          16.0    51.000000      8         False  ...   \n",
       "7              NaN          24.0    40.658769     22         False  ...   \n",
       "44             NaN          22.0    22.714396      3         False  ...   \n",
       "45            2.65           9.0    30.300000      7         False  ...   \n",
       "46            2.60          24.0    29.700000      9         False  ...   \n",
       "\n",
       "    kitchen_area  balcony    locality_name  airports_nearest  \\\n",
       "0           25.0      0.0  Санкт-Петербург           18863.0   \n",
       "7           18.9      2.0  Санкт-Петербург           23982.0   \n",
       "44           NaN      1.0  Санкт-Петербург           30471.0   \n",
       "45           7.0      0.0  Санкт-Петербург           30011.0   \n",
       "46           8.3      2.0  Санкт-Петербург           15114.0   \n",
       "\n",
       "   city_centers_nearest  parks_around_3000  parks_nearest  ponds_around_3000  \\\n",
       "0               16028.0                1.0          482.0                2.0   \n",
       "7               11634.0                0.0            NaN                0.0   \n",
       "44              11603.0                1.0          620.0                1.0   \n",
       "45              12872.0                0.0            NaN                0.0   \n",
       "46              12702.0                0.0            NaN                0.0   \n",
       "\n",
       "    ponds_nearest  days_exposition  \n",
       "0           755.0              NaN  \n",
       "7             NaN              NaN  \n",
       "44         1152.0              NaN  \n",
       "45            NaN              NaN  \n",
       "46            NaN              NaN  \n",
       "\n",
       "[5 rows x 22 columns]"
      ]
     },
     "execution_count": 150,
     "metadata": {},
     "output_type": "execute_result"
    }
   ],
   "source": [
    "data.query('days_exposition.isna()').head()"
   ]
  },
  {
   "cell_type": "markdown",
   "metadata": {},
   "source": [
    "Предположительно, может быть пропущенно, когда время публикации 0 дней, проверим:"
   ]
  },
  {
   "cell_type": "code",
   "execution_count": 151,
   "metadata": {},
   "outputs": [
    {
     "data": {
      "text/plain": [
       "<AxesSubplot:>"
      ]
     },
     "execution_count": 151,
     "metadata": {},
     "output_type": "execute_result"
    },
    {
     "data": {
      "image/png": "[encoded data removed]",
      "text/plain": [
       "<Figure size 432x288 with 1 Axes>"
      ]
     },
     "metadata": {
      "needs_background": "light"
     },
     "output_type": "display_data"
    }
   ],
   "source": [
    "data['days_exposition'].hist(bins=50)"
   ]
  },
  {
   "cell_type": "markdown",
   "metadata": {},
   "source": [
    "Здесь плохо видно, что происходим около нуля, возьмём диграмму, где время объявления не более 50 дней:"
   ]
  },
  {
   "cell_type": "code",
   "execution_count": 152,
   "metadata": {},
   "outputs": [
    {
     "data": {
      "text/plain": [
       "<AxesSubplot:>"
      ]
     },
     "execution_count": 152,
     "metadata": {},
     "output_type": "execute_result"
    },
    {
     "data": {
      "image/png": "[encoded data removed]",
      "text/plain": [
       "<Figure size 648x648 with 1 Axes>"
      ]
     },
     "metadata": {
      "needs_background": "light"
     },
     "output_type": "display_data"
    }
   ],
   "source": [
    "data.query('days_exposition < 50')['days_exposition'].hist(bins=50, figsize=(9,9))"
   ]
  },
  {
   "cell_type": "markdown",
   "metadata": {},
   "source": [
    "Если мы добавим вместо пропусков нули, будет очень высокий пик в нуле, что сильно испортит диаграмму. Таким образом, заполнить эти пропуски не представляется возможным. Нужно уточнять у разработчиков, почему этих данных нет. Возможно, это ещё на тот момент действующие объявления."
   ]
  },
  {
   "cell_type": "markdown",
   "metadata": {},
   "source": [
    "#### Вывод"
   ]
  },
  {
   "cell_type": "markdown",
   "metadata": {},
   "source": [
    "В результате предобработки были заполнены пропуски в столбцах с информацией о балконах, о том, является ли квартира апартаментом, в столбце с жилой площадью, о том, есть ли в округе пруды и парки. В остальных столбцах, где представлены количественные данные, заполнить их не представляется возможным так, что не повлиять на распределение вечелин. В информации о площадях, высотах потолков, количестве этажей предположительно из-за того, что их необязательно заполнять при формировании объявления. Пропуски в столбце с количеством дней размещения объявления появились скорее всего в результате программного сбоя, либо это действующие объявления. "
   ]
  },
  {
   "cell_type": "markdown",
   "metadata": {},
   "source": [
    "### Изменение типов данных"
   ]
  },
  {
   "cell_type": "markdown",
   "metadata": {},
   "source": [
    "Рассмотрим типы данных в таблице:"
   ]
  },
  {
   "cell_type": "code",
   "execution_count": 153,
   "metadata": {},
   "outputs": [
    {
     "data": {
      "text/plain": [
       "total_images              int64\n",
       "last_price              float64\n",
       "total_area              float64\n",
       "first_day_exposition     object\n",
       "rooms                     int64\n",
       "ceiling_height          float64\n",
       "floors_total            float64\n",
       "living_area             float64\n",
       "floor                     int64\n",
       "is_apartment               bool\n",
       "studio                     bool\n",
       "open_plan                  bool\n",
       "kitchen_area            float64\n",
       "balcony                 float64\n",
       "locality_name            object\n",
       "airports_nearest        float64\n",
       "city_centers_nearest    float64\n",
       "parks_around_3000       float64\n",
       "parks_nearest           float64\n",
       "ponds_around_3000       float64\n",
       "ponds_nearest           float64\n",
       "days_exposition         float64\n",
       "dtype: object"
      ]
     },
     "execution_count": 153,
     "metadata": {},
     "output_type": "execute_result"
    }
   ],
   "source": [
    "data.dtypes"
   ]
  },
  {
   "cell_type": "markdown",
   "metadata": {},
   "source": [
    "Приведём столбец с датой к формату date_time:"
   ]
  },
  {
   "cell_type": "code",
   "execution_count": 154,
   "metadata": {},
   "outputs": [
    {
     "data": {
      "text/plain": [
       "0   2019-03-07\n",
       "1   2018-12-04\n",
       "2   2015-08-20\n",
       "3   2015-07-24\n",
       "4   2018-06-19\n",
       "Name: first_day_exposition, dtype: datetime64[ns]"
      ]
     },
     "execution_count": 154,
     "metadata": {},
     "output_type": "execute_result"
    }
   ],
   "source": [
    "data['first_day_exposition'] = pd.to_datetime(data['first_day_exposition'], format='%Y-%m-%dT%H:%M:%S')\n",
    "data['first_day_exposition'].head()"
   ]
  },
  {
   "cell_type": "markdown",
   "metadata": {},
   "source": [
    "Во многих столбцах, можно поменять тип данных, с целью уменьшения потребления памяти, проделаем это:"
   ]
  },
  {
   "cell_type": "code",
   "execution_count": 155,
   "metadata": {},
   "outputs": [],
   "source": [
    "for column in data.columns:\n",
    "    if data[column].dtype == 'int64':\n",
    "        data[column] = pd.to_numeric(data[column], downcast='integer')\n",
    "    elif data[column].dtype == 'float64':\n",
    "        data[column] = pd.to_numeric(data[column], downcast='float')"
   ]
  },
  {
   "cell_type": "code",
   "execution_count": 156,
   "metadata": {},
   "outputs": [
    {
     "data": {
      "text/plain": [
       "total_images                      int8\n",
       "last_price                     float32\n",
       "total_area                     float32\n",
       "first_day_exposition    datetime64[ns]\n",
       "rooms                             int8\n",
       "ceiling_height                 float32\n",
       "floors_total                   float32\n",
       "living_area                    float32\n",
       "floor                             int8\n",
       "is_apartment                      bool\n",
       "studio                            bool\n",
       "open_plan                         bool\n",
       "kitchen_area                   float32\n",
       "balcony                        float32\n",
       "locality_name                   object\n",
       "airports_nearest               float32\n",
       "city_centers_nearest           float32\n",
       "parks_around_3000              float32\n",
       "parks_nearest                  float32\n",
       "ponds_around_3000              float32\n",
       "ponds_nearest                  float32\n",
       "days_exposition                float32\n",
       "dtype: object"
      ]
     },
     "execution_count": 156,
     "metadata": {},
     "output_type": "execute_result"
    }
   ],
   "source": [
    "data.dtypes"
   ]
  },
  {
   "cell_type": "markdown",
   "metadata": {},
   "source": [
    "Во многих столбцах используется float32, хотя это не обосновано. В данном случае, использование формата float обосновано только в столбцах total_area, ceiling_height, living_area, kitchen_area. Заменим в остальных столбцах значение на int."
   ]
  },
  {
   "cell_type": "code",
   "execution_count": 157,
   "metadata": {},
   "outputs": [],
   "source": [
    "# создадим список названий столбцов, в которых необходимо поменять типы\n",
    "columns_to_change = ['last_price', 'floors_total', 'balcony', 'airports_nearest', 'city_centers_nearest',\n",
    "                    'parks_around_3000', 'parks_nearest', 'ponds_around_3000', 'ponds_nearest', 'days_exposition']\n",
    "\n",
    "for column in columns_to_change:\n",
    "    data[column] = pd.to_numeric(data[column], downcast='integer')\n"
   ]
  },
  {
   "cell_type": "code",
   "execution_count": 158,
   "metadata": {},
   "outputs": [
    {
     "data": {
      "text/plain": [
       "total_images                      int8\n",
       "last_price                       int32\n",
       "total_area                     float32\n",
       "first_day_exposition    datetime64[ns]\n",
       "rooms                             int8\n",
       "ceiling_height                 float32\n",
       "floors_total                   float32\n",
       "living_area                    float32\n",
       "floor                             int8\n",
       "is_apartment                      bool\n",
       "studio                            bool\n",
       "open_plan                         bool\n",
       "kitchen_area                   float32\n",
       "balcony                           int8\n",
       "locality_name                   object\n",
       "airports_nearest               float32\n",
       "city_centers_nearest           float32\n",
       "parks_around_3000                 int8\n",
       "parks_nearest                  float32\n",
       "ponds_around_3000                 int8\n",
       "ponds_nearest                  float32\n",
       "days_exposition                float32\n",
       "dtype: object"
      ]
     },
     "execution_count": 158,
     "metadata": {},
     "output_type": "execute_result"
    }
   ],
   "source": [
    "data.dtypes"
   ]
  },
  {
   "cell_type": "markdown",
   "metadata": {},
   "source": [
    "В столбцах, где есть пропуски, метод не сработал."
   ]
  },
  {
   "cell_type": "code",
   "execution_count": 159,
   "metadata": {},
   "outputs": [
    {
     "name": "stdout",
     "output_type": "stream",
     "text": [
      "<class 'pandas.core.frame.DataFrame'>\n",
      "RangeIndex: 23699 entries, 0 to 23698\n",
      "Data columns (total 22 columns):\n",
      " #   Column                Non-Null Count  Dtype         \n",
      "---  ------                --------------  -----         \n",
      " 0   total_images          23699 non-null  int8          \n",
      " 1   last_price            23699 non-null  int32         \n",
      " 2   total_area            23699 non-null  float32       \n",
      " 3   first_day_exposition  23699 non-null  datetime64[ns]\n",
      " 4   rooms                 23699 non-null  int8          \n",
      " 5   ceiling_height        14504 non-null  float32       \n",
      " 6   floors_total          23613 non-null  float32       \n",
      " 7   living_area           23699 non-null  float32       \n",
      " 8   floor                 23699 non-null  int8          \n",
      " 9   is_apartment          23699 non-null  bool          \n",
      " 10  studio                23699 non-null  bool          \n",
      " 11  open_plan             23699 non-null  bool          \n",
      " 12  kitchen_area          21421 non-null  float32       \n",
      " 13  balcony               23699 non-null  int8          \n",
      " 14  locality_name         23650 non-null  object        \n",
      " 15  airports_nearest      18157 non-null  float32       \n",
      " 16  city_centers_nearest  18180 non-null  float32       \n",
      " 17  parks_around_3000     23699 non-null  int8          \n",
      " 18  parks_nearest         8079 non-null   float32       \n",
      " 19  ponds_around_3000     23699 non-null  int8          \n",
      " 20  ponds_nearest         9110 non-null   float32       \n",
      " 21  days_exposition       20518 non-null  float32       \n",
      "dtypes: bool(3), datetime64[ns](1), float32(10), int32(1), int8(6), object(1)\n",
      "memory usage: 3.9 MB\n"
     ]
    }
   ],
   "source": [
    "data.info(memory_usage='deep')"
   ]
  },
  {
   "cell_type": "markdown",
   "metadata": {},
   "source": [
    "Благодаря преобразованию данных удалось уменьшить вес таблицы с 8.7 до 3.9 Мб."
   ]
  },
  {
   "cell_type": "markdown",
   "metadata": {},
   "source": [
    "#### Вывод"
   ]
  },
  {
   "cell_type": "markdown",
   "metadata": {},
   "source": [
    "При помощи измненния типов данных, удалось привести к читаемому виду информацию о дате размещения, а также снизить общий вес таблицы более чем на 50%."
   ]
  },
  {
   "cell_type": "markdown",
   "metadata": {},
   "source": [
    "<a id=\"add_data\"></a>\n",
    "## 3. Расчёты и добавление результатов в таблицу"
   ]
  },
  {
   "cell_type": "markdown",
   "metadata": {},
   "source": [
    "В этой главе мы:\n",
    "* Посчитаем и добавим в таблицу цену квадратного метра;\n",
    "* Добавим столбцы с днём, месяцем и годом публикации объявления;\n",
    "* Добавим столбец с категорией этажа;\n",
    "* Добавим столбец с долей площади кухни;\n",
    "* Добавим столбец с долей жилой площади."
   ]
  },
  {
   "cell_type": "markdown",
   "metadata": {},
   "source": [
    "Посчитаем и добавим в таблицу цену квадратного метра:"
   ]
  },
  {
   "cell_type": "code",
   "execution_count": 160,
   "metadata": {},
   "outputs": [
    {
     "data": {
      "text/plain": [
       "0    120370.370370\n",
       "1     82920.788947\n",
       "2     92785.714286\n",
       "3    408176.100629\n",
       "4    100000.000000\n",
       "Name: metr_price, dtype: float64"
      ]
     },
     "execution_count": 160,
     "metadata": {},
     "output_type": "execute_result"
    }
   ],
   "source": [
    "data['metr_price'] = data['last_price'] / data['total_area']\n",
    "data['metr_price'].head()"
   ]
  },
  {
   "cell_type": "markdown",
   "metadata": {},
   "source": [
    "Добавим столбы с днём, месяцем и годом публикации объявления:"
   ]
  },
  {
   "cell_type": "code",
   "execution_count": 161,
   "metadata": {},
   "outputs": [
    {
     "data": {
      "text/html": [
       "<div>\n",
       "<style scoped>\n",
       "    .dataframe tbody tr th:only-of-type {\n",
       "        vertical-align: middle;\n",
       "    }\n",
       "\n",
       "    .dataframe tbody tr th {\n",
       "        vertical-align: top;\n",
       "    }\n",
       "\n",
       "    .dataframe thead th {\n",
       "        text-align: right;\n",
       "    }\n",
       "</style>\n",
       "<table border=\"1\" class=\"dataframe\">\n",
       "  <thead>\n",
       "    <tr style=\"text-align: right;\">\n",
       "      <th></th>\n",
       "      <th>first_day_exposition</th>\n",
       "      <th>weekday</th>\n",
       "    </tr>\n",
       "  </thead>\n",
       "  <tbody>\n",
       "    <tr>\n",
       "      <th>0</th>\n",
       "      <td>2019-03-07</td>\n",
       "      <td>3</td>\n",
       "    </tr>\n",
       "    <tr>\n",
       "      <th>1</th>\n",
       "      <td>2018-12-04</td>\n",
       "      <td>1</td>\n",
       "    </tr>\n",
       "    <tr>\n",
       "      <th>2</th>\n",
       "      <td>2015-08-20</td>\n",
       "      <td>3</td>\n",
       "    </tr>\n",
       "    <tr>\n",
       "      <th>3</th>\n",
       "      <td>2015-07-24</td>\n",
       "      <td>4</td>\n",
       "    </tr>\n",
       "    <tr>\n",
       "      <th>4</th>\n",
       "      <td>2018-06-19</td>\n",
       "      <td>1</td>\n",
       "    </tr>\n",
       "  </tbody>\n",
       "</table>\n",
       "</div>"
      ],
      "text/plain": [
       "  first_day_exposition weekday\n",
       "0           2019-03-07       3\n",
       "1           2018-12-04       1\n",
       "2           2015-08-20       3\n",
       "3           2015-07-24       4\n",
       "4           2018-06-19       1"
      ]
     },
     "execution_count": 161,
     "metadata": {},
     "output_type": "execute_result"
    }
   ],
   "source": [
    "data['weekday'] = data['first_day_exposition'].dt.weekday\n",
    "# сделаем тип категории, чтобы дальше можно было проще поменять цифры на названия\n",
    "data['weekday'] = data['weekday'].astype('category') \n",
    "data[['first_day_exposition','weekday']].head()\n"
   ]
  },
  {
   "cell_type": "code",
   "execution_count": 162,
   "metadata": {},
   "outputs": [
    {
     "data": {
      "text/plain": [
       "CategoricalDtype(categories=[0, 1, 2, 3, 4, 5, 6], ordered=False)"
      ]
     },
     "execution_count": 162,
     "metadata": {},
     "output_type": "execute_result"
    }
   ],
   "source": [
    "data['weekday'].dtypes"
   ]
  },
  {
   "cell_type": "code",
   "execution_count": 163,
   "metadata": {},
   "outputs": [
    {
     "data": {
      "text/html": [
       "<div>\n",
       "<style scoped>\n",
       "    .dataframe tbody tr th:only-of-type {\n",
       "        vertical-align: middle;\n",
       "    }\n",
       "\n",
       "    .dataframe tbody tr th {\n",
       "        vertical-align: top;\n",
       "    }\n",
       "\n",
       "    .dataframe thead th {\n",
       "        text-align: right;\n",
       "    }\n",
       "</style>\n",
       "<table border=\"1\" class=\"dataframe\">\n",
       "  <thead>\n",
       "    <tr style=\"text-align: right;\">\n",
       "      <th></th>\n",
       "      <th>first_day_exposition</th>\n",
       "      <th>weekday</th>\n",
       "    </tr>\n",
       "  </thead>\n",
       "  <tbody>\n",
       "    <tr>\n",
       "      <th>0</th>\n",
       "      <td>2019-03-07</td>\n",
       "      <td>Четверг</td>\n",
       "    </tr>\n",
       "    <tr>\n",
       "      <th>1</th>\n",
       "      <td>2018-12-04</td>\n",
       "      <td>Вторник</td>\n",
       "    </tr>\n",
       "    <tr>\n",
       "      <th>2</th>\n",
       "      <td>2015-08-20</td>\n",
       "      <td>Четверг</td>\n",
       "    </tr>\n",
       "    <tr>\n",
       "      <th>3</th>\n",
       "      <td>2015-07-24</td>\n",
       "      <td>Пятница</td>\n",
       "    </tr>\n",
       "    <tr>\n",
       "      <th>4</th>\n",
       "      <td>2018-06-19</td>\n",
       "      <td>Вторник</td>\n",
       "    </tr>\n",
       "  </tbody>\n",
       "</table>\n",
       "</div>"
      ],
      "text/plain": [
       "  first_day_exposition  weekday\n",
       "0           2019-03-07  Четверг\n",
       "1           2018-12-04  Вторник\n",
       "2           2015-08-20  Четверг\n",
       "3           2015-07-24  Пятница\n",
       "4           2018-06-19  Вторник"
      ]
     },
     "execution_count": 163,
     "metadata": {},
     "output_type": "execute_result"
    }
   ],
   "source": [
    "# создадим словарь с ключами в виде старых значений и элементами в виде новых\n",
    "weekdays = {\n",
    "    0 : 'Понедельник',\n",
    "    1 : 'Вторник',\n",
    "    2 : 'Среда',\n",
    "    3 : 'Четверг',\n",
    "    4 : 'Пятница',\n",
    "    5 : 'Суббота',\n",
    "    6 : 'Воскресенье'\n",
    "}\n",
    "# поменяем значения\n",
    "data['weekday'] = data['weekday'].map(weekdays)\n",
    "data[['first_day_exposition','weekday']].head()"
   ]
  },
  {
   "cell_type": "markdown",
   "metadata": {},
   "source": [
    "Добавим столбец с месяцем:"
   ]
  },
  {
   "cell_type": "code",
   "execution_count": 164,
   "metadata": {},
   "outputs": [
    {
     "data": {
      "text/html": [
       "<div>\n",
       "<style scoped>\n",
       "    .dataframe tbody tr th:only-of-type {\n",
       "        vertical-align: middle;\n",
       "    }\n",
       "\n",
       "    .dataframe tbody tr th {\n",
       "        vertical-align: top;\n",
       "    }\n",
       "\n",
       "    .dataframe thead th {\n",
       "        text-align: right;\n",
       "    }\n",
       "</style>\n",
       "<table border=\"1\" class=\"dataframe\">\n",
       "  <thead>\n",
       "    <tr style=\"text-align: right;\">\n",
       "      <th></th>\n",
       "      <th>first_day_exposition</th>\n",
       "      <th>month</th>\n",
       "    </tr>\n",
       "  </thead>\n",
       "  <tbody>\n",
       "    <tr>\n",
       "      <th>0</th>\n",
       "      <td>2019-03-07</td>\n",
       "      <td>Март</td>\n",
       "    </tr>\n",
       "    <tr>\n",
       "      <th>1</th>\n",
       "      <td>2018-12-04</td>\n",
       "      <td>Декабрь</td>\n",
       "    </tr>\n",
       "    <tr>\n",
       "      <th>2</th>\n",
       "      <td>2015-08-20</td>\n",
       "      <td>Август</td>\n",
       "    </tr>\n",
       "    <tr>\n",
       "      <th>3</th>\n",
       "      <td>2015-07-24</td>\n",
       "      <td>Июль</td>\n",
       "    </tr>\n",
       "    <tr>\n",
       "      <th>4</th>\n",
       "      <td>2018-06-19</td>\n",
       "      <td>Июнь</td>\n",
       "    </tr>\n",
       "  </tbody>\n",
       "</table>\n",
       "</div>"
      ],
      "text/plain": [
       "  first_day_exposition    month\n",
       "0           2019-03-07     Март\n",
       "1           2018-12-04  Декабрь\n",
       "2           2015-08-20   Август\n",
       "3           2015-07-24     Июль\n",
       "4           2018-06-19     Июнь"
      ]
     },
     "execution_count": 164,
     "metadata": {},
     "output_type": "execute_result"
    }
   ],
   "source": [
    "data['month'] = data['first_day_exposition'].dt.month\n",
    "# сделаем тип категории, чтобы дальше можно было проще поменять цифры на названия\n",
    "data['month'] = data['month'].astype('category') \n",
    "\n",
    "# создадим словарь с ключами в виде старых значений и элементами в виде новых\n",
    "month = {\n",
    "    1 : 'Январь',\n",
    "    2 : 'Февраль',\n",
    "    3 : 'Март',\n",
    "    4 : 'Апрель',\n",
    "    5 : 'Май',\n",
    "    6 : 'Июнь',\n",
    "    7 : 'Июль',\n",
    "    8 : 'Август',\n",
    "    9 : 'Сентябрь',\n",
    "    10 : 'Октябрь',\n",
    "    11 : 'Ноябрь',\n",
    "    12 : 'Декабрь'\n",
    "    \n",
    "}\n",
    "# поменяем значения\n",
    "data['month'] = data['month'].map(month)\n",
    "data[['first_day_exposition','month']].head()"
   ]
  },
  {
   "cell_type": "markdown",
   "metadata": {},
   "source": [
    "Добавим столбец с годом:"
   ]
  },
  {
   "cell_type": "code",
   "execution_count": 165,
   "metadata": {},
   "outputs": [
    {
     "data": {
      "text/html": [
       "<div>\n",
       "<style scoped>\n",
       "    .dataframe tbody tr th:only-of-type {\n",
       "        vertical-align: middle;\n",
       "    }\n",
       "\n",
       "    .dataframe tbody tr th {\n",
       "        vertical-align: top;\n",
       "    }\n",
       "\n",
       "    .dataframe thead th {\n",
       "        text-align: right;\n",
       "    }\n",
       "</style>\n",
       "<table border=\"1\" class=\"dataframe\">\n",
       "  <thead>\n",
       "    <tr style=\"text-align: right;\">\n",
       "      <th></th>\n",
       "      <th>first_day_exposition</th>\n",
       "      <th>year</th>\n",
       "    </tr>\n",
       "  </thead>\n",
       "  <tbody>\n",
       "    <tr>\n",
       "      <th>0</th>\n",
       "      <td>2019-03-07</td>\n",
       "      <td>2019</td>\n",
       "    </tr>\n",
       "    <tr>\n",
       "      <th>1</th>\n",
       "      <td>2018-12-04</td>\n",
       "      <td>2018</td>\n",
       "    </tr>\n",
       "    <tr>\n",
       "      <th>2</th>\n",
       "      <td>2015-08-20</td>\n",
       "      <td>2015</td>\n",
       "    </tr>\n",
       "    <tr>\n",
       "      <th>3</th>\n",
       "      <td>2015-07-24</td>\n",
       "      <td>2015</td>\n",
       "    </tr>\n",
       "    <tr>\n",
       "      <th>4</th>\n",
       "      <td>2018-06-19</td>\n",
       "      <td>2018</td>\n",
       "    </tr>\n",
       "  </tbody>\n",
       "</table>\n",
       "</div>"
      ],
      "text/plain": [
       "  first_day_exposition  year\n",
       "0           2019-03-07  2019\n",
       "1           2018-12-04  2018\n",
       "2           2015-08-20  2015\n",
       "3           2015-07-24  2015\n",
       "4           2018-06-19  2018"
      ]
     },
     "execution_count": 165,
     "metadata": {},
     "output_type": "execute_result"
    }
   ],
   "source": [
    "data['year'] = data['first_day_exposition'].dt.year\n",
    "data[['first_day_exposition', 'year']].head()"
   ]
  },
  {
   "cell_type": "markdown",
   "metadata": {},
   "source": [
    "Добавим столбец с категорией этажа: первый, последний, другой:"
   ]
  },
  {
   "cell_type": "code",
   "execution_count": 166,
   "metadata": {},
   "outputs": [
    {
     "data": {
      "text/html": [
       "<div>\n",
       "<style scoped>\n",
       "    .dataframe tbody tr th:only-of-type {\n",
       "        vertical-align: middle;\n",
       "    }\n",
       "\n",
       "    .dataframe tbody tr th {\n",
       "        vertical-align: top;\n",
       "    }\n",
       "\n",
       "    .dataframe thead th {\n",
       "        text-align: right;\n",
       "    }\n",
       "</style>\n",
       "<table border=\"1\" class=\"dataframe\">\n",
       "  <thead>\n",
       "    <tr style=\"text-align: right;\">\n",
       "      <th></th>\n",
       "      <th>floors_total</th>\n",
       "      <th>floor</th>\n",
       "      <th>floor_category</th>\n",
       "    </tr>\n",
       "  </thead>\n",
       "  <tbody>\n",
       "    <tr>\n",
       "      <th>0</th>\n",
       "      <td>16.0</td>\n",
       "      <td>8</td>\n",
       "      <td>другой</td>\n",
       "    </tr>\n",
       "    <tr>\n",
       "      <th>1</th>\n",
       "      <td>11.0</td>\n",
       "      <td>1</td>\n",
       "      <td>первый</td>\n",
       "    </tr>\n",
       "    <tr>\n",
       "      <th>2</th>\n",
       "      <td>5.0</td>\n",
       "      <td>4</td>\n",
       "      <td>другой</td>\n",
       "    </tr>\n",
       "    <tr>\n",
       "      <th>3</th>\n",
       "      <td>14.0</td>\n",
       "      <td>9</td>\n",
       "      <td>другой</td>\n",
       "    </tr>\n",
       "    <tr>\n",
       "      <th>4</th>\n",
       "      <td>14.0</td>\n",
       "      <td>13</td>\n",
       "      <td>другой</td>\n",
       "    </tr>\n",
       "  </tbody>\n",
       "</table>\n",
       "</div>"
      ],
      "text/plain": [
       "   floors_total  floor floor_category\n",
       "0          16.0      8         другой\n",
       "1          11.0      1         первый\n",
       "2           5.0      4         другой\n",
       "3          14.0      9         другой\n",
       "4          14.0     13         другой"
      ]
     },
     "execution_count": 166,
     "metadata": {},
     "output_type": "execute_result"
    }
   ],
   "source": [
    "def floor_category(data):\n",
    "    if data['floor'] == data['floors_total']:\n",
    "        return 'последний'\n",
    "    if data['floor'] == 1:\n",
    "        return 'первый'\n",
    "    return 'другой'\n",
    "\n",
    "data.loc[~(data['floors_total'].isna()), 'floor_category'] = data.apply(floor_category, axis=1)\n",
    "data[['floors_total','floor', 'floor_category']].head()"
   ]
  },
  {
   "cell_type": "code",
   "execution_count": 167,
   "metadata": {},
   "outputs": [
    {
     "data": {
      "text/html": [
       "<div>\n",
       "<style scoped>\n",
       "    .dataframe tbody tr th:only-of-type {\n",
       "        vertical-align: middle;\n",
       "    }\n",
       "\n",
       "    .dataframe tbody tr th {\n",
       "        vertical-align: top;\n",
       "    }\n",
       "\n",
       "    .dataframe thead th {\n",
       "        text-align: right;\n",
       "    }\n",
       "</style>\n",
       "<table border=\"1\" class=\"dataframe\">\n",
       "  <thead>\n",
       "    <tr style=\"text-align: right;\">\n",
       "      <th></th>\n",
       "      <th>floors_total</th>\n",
       "      <th>floor</th>\n",
       "      <th>floor_category</th>\n",
       "    </tr>\n",
       "  </thead>\n",
       "  <tbody>\n",
       "    <tr>\n",
       "      <th>186</th>\n",
       "      <td>NaN</td>\n",
       "      <td>4</td>\n",
       "      <td>NaN</td>\n",
       "    </tr>\n",
       "    <tr>\n",
       "      <th>237</th>\n",
       "      <td>NaN</td>\n",
       "      <td>1</td>\n",
       "      <td>NaN</td>\n",
       "    </tr>\n",
       "    <tr>\n",
       "      <th>457</th>\n",
       "      <td>NaN</td>\n",
       "      <td>12</td>\n",
       "      <td>NaN</td>\n",
       "    </tr>\n",
       "    <tr>\n",
       "      <th>671</th>\n",
       "      <td>NaN</td>\n",
       "      <td>8</td>\n",
       "      <td>NaN</td>\n",
       "    </tr>\n",
       "    <tr>\n",
       "      <th>1757</th>\n",
       "      <td>NaN</td>\n",
       "      <td>9</td>\n",
       "      <td>NaN</td>\n",
       "    </tr>\n",
       "  </tbody>\n",
       "</table>\n",
       "</div>"
      ],
      "text/plain": [
       "      floors_total  floor floor_category\n",
       "186            NaN      4            NaN\n",
       "237            NaN      1            NaN\n",
       "457            NaN     12            NaN\n",
       "671            NaN      8            NaN\n",
       "1757           NaN      9            NaN"
      ]
     },
     "execution_count": 167,
     "metadata": {},
     "output_type": "execute_result"
    }
   ],
   "source": [
    "data.query('floors_total.isna()')[['floors_total','floor', 'floor_category']].head()"
   ]
  },
  {
   "cell_type": "markdown",
   "metadata": {},
   "source": [
    "В строках, где не указано количество этажей - пропуски."
   ]
  },
  {
   "cell_type": "markdown",
   "metadata": {},
   "source": [
    "Добавим столбец с соотношением жилой и общей площади:"
   ]
  },
  {
   "cell_type": "code",
   "execution_count": 168,
   "metadata": {},
   "outputs": [
    {
     "data": {
      "text/html": [
       "<div>\n",
       "<style scoped>\n",
       "    .dataframe tbody tr th:only-of-type {\n",
       "        vertical-align: middle;\n",
       "    }\n",
       "\n",
       "    .dataframe tbody tr th {\n",
       "        vertical-align: top;\n",
       "    }\n",
       "\n",
       "    .dataframe thead th {\n",
       "        text-align: right;\n",
       "    }\n",
       "</style>\n",
       "<table border=\"1\" class=\"dataframe\">\n",
       "  <thead>\n",
       "    <tr style=\"text-align: right;\">\n",
       "      <th></th>\n",
       "      <th>total_area</th>\n",
       "      <th>living_area</th>\n",
       "      <th>living_fraction</th>\n",
       "    </tr>\n",
       "  </thead>\n",
       "  <tbody>\n",
       "    <tr>\n",
       "      <th>0</th>\n",
       "      <td>108.000000</td>\n",
       "      <td>51.000000</td>\n",
       "      <td>0.472222</td>\n",
       "    </tr>\n",
       "    <tr>\n",
       "      <th>1</th>\n",
       "      <td>40.400002</td>\n",
       "      <td>18.600000</td>\n",
       "      <td>0.460396</td>\n",
       "    </tr>\n",
       "    <tr>\n",
       "      <th>2</th>\n",
       "      <td>56.000000</td>\n",
       "      <td>34.299999</td>\n",
       "      <td>0.612500</td>\n",
       "    </tr>\n",
       "    <tr>\n",
       "      <th>3</th>\n",
       "      <td>159.000000</td>\n",
       "      <td>90.289726</td>\n",
       "      <td>0.567860</td>\n",
       "    </tr>\n",
       "    <tr>\n",
       "      <th>4</th>\n",
       "      <td>100.000000</td>\n",
       "      <td>32.000000</td>\n",
       "      <td>0.320000</td>\n",
       "    </tr>\n",
       "  </tbody>\n",
       "</table>\n",
       "</div>"
      ],
      "text/plain": [
       "   total_area  living_area  living_fraction\n",
       "0  108.000000    51.000000         0.472222\n",
       "1   40.400002    18.600000         0.460396\n",
       "2   56.000000    34.299999         0.612500\n",
       "3  159.000000    90.289726         0.567860\n",
       "4  100.000000    32.000000         0.320000"
      ]
     },
     "execution_count": 168,
     "metadata": {},
     "output_type": "execute_result"
    }
   ],
   "source": [
    "data['living_fraction'] = data['living_area'] / data['total_area']\n",
    "data[['total_area', 'living_area', 'living_fraction']].head()"
   ]
  },
  {
   "cell_type": "markdown",
   "metadata": {},
   "source": [
    "Добавим столбец с соотношением площади кухни и общей площади:"
   ]
  },
  {
   "cell_type": "code",
   "execution_count": 169,
   "metadata": {},
   "outputs": [
    {
     "data": {
      "text/html": [
       "<div>\n",
       "<style scoped>\n",
       "    .dataframe tbody tr th:only-of-type {\n",
       "        vertical-align: middle;\n",
       "    }\n",
       "\n",
       "    .dataframe tbody tr th {\n",
       "        vertical-align: top;\n",
       "    }\n",
       "\n",
       "    .dataframe thead th {\n",
       "        text-align: right;\n",
       "    }\n",
       "</style>\n",
       "<table border=\"1\" class=\"dataframe\">\n",
       "  <thead>\n",
       "    <tr style=\"text-align: right;\">\n",
       "      <th></th>\n",
       "      <th>total_area</th>\n",
       "      <th>kitchen_area</th>\n",
       "      <th>kitchen_fraction</th>\n",
       "    </tr>\n",
       "  </thead>\n",
       "  <tbody>\n",
       "    <tr>\n",
       "      <th>0</th>\n",
       "      <td>108.000000</td>\n",
       "      <td>25.0</td>\n",
       "      <td>0.231481</td>\n",
       "    </tr>\n",
       "    <tr>\n",
       "      <th>1</th>\n",
       "      <td>40.400002</td>\n",
       "      <td>11.0</td>\n",
       "      <td>0.272277</td>\n",
       "    </tr>\n",
       "    <tr>\n",
       "      <th>2</th>\n",
       "      <td>56.000000</td>\n",
       "      <td>8.3</td>\n",
       "      <td>0.148214</td>\n",
       "    </tr>\n",
       "    <tr>\n",
       "      <th>3</th>\n",
       "      <td>159.000000</td>\n",
       "      <td>NaN</td>\n",
       "      <td>NaN</td>\n",
       "    </tr>\n",
       "    <tr>\n",
       "      <th>4</th>\n",
       "      <td>100.000000</td>\n",
       "      <td>41.0</td>\n",
       "      <td>0.410000</td>\n",
       "    </tr>\n",
       "  </tbody>\n",
       "</table>\n",
       "</div>"
      ],
      "text/plain": [
       "   total_area  kitchen_area  kitchen_fraction\n",
       "0  108.000000          25.0          0.231481\n",
       "1   40.400002          11.0          0.272277\n",
       "2   56.000000           8.3          0.148214\n",
       "3  159.000000           NaN               NaN\n",
       "4  100.000000          41.0          0.410000"
      ]
     },
     "execution_count": 169,
     "metadata": {},
     "output_type": "execute_result"
    }
   ],
   "source": [
    "data['kitchen_fraction'] = data['kitchen_area'] / data['total_area']\n",
    "data[['total_area', 'kitchen_area', 'kitchen_fraction']].head()"
   ]
  },
  {
   "cell_type": "markdown",
   "metadata": {},
   "source": [
    "#### Вывод"
   ]
  },
  {
   "cell_type": "markdown",
   "metadata": {},
   "source": [
    "В результате работы были добавлены столбцы с днём, месяцем, годом публикации. Рассчитаны и добавлены столбцы с ценой за квадратный метр, долей площади кухни и жилой площади."
   ]
  },
  {
   "cell_type": "markdown",
   "metadata": {},
   "source": [
    "<a id=\"data_researh\"></a>\n",
    "## 4. Исследовательский анализ данных"
   ]
  },
  {
   "cell_type": "markdown",
   "metadata": {},
   "source": [
    "<a id=\"flat_parametr\"></a>\n",
    "### 4.1 Исследование параметров квартир"
   ]
  },
  {
   "cell_type": "markdown",
   "metadata": {},
   "source": [
    "В этой главе мы:\n",
    "* Площадь квартир;\n",
    "* Цену квартир;\n",
    "* Количество комнат;\n",
    "* Высоту потолков;\n",
    "* Время продажи квартиры; "
   ]
  },
  {
   "cell_type": "markdown",
   "metadata": {},
   "source": [
    "***Исследуем площадь квартир***\n",
    "\n",
    "\n",
    "Построим гистограмму по площади:"
   ]
  },
  {
   "cell_type": "code",
   "execution_count": 170,
   "metadata": {},
   "outputs": [
    {
     "data": {
      "text/plain": [
       "<AxesSubplot:>"
      ]
     },
     "execution_count": 170,
     "metadata": {},
     "output_type": "execute_result"
    },
    {
     "data": {
      "image/png": "[encoded data removed]",
      "text/plain": [
       "<Figure size 720x360 with 1 Axes>"
      ]
     },
     "metadata": {
      "needs_background": "light"
     },
     "output_type": "display_data"
    }
   ],
   "source": [
    "data['total_area'].hist(bins=50, figsize=(10, 5))"
   ]
  },
  {
   "cell_type": "code",
   "execution_count": 171,
   "metadata": {},
   "outputs": [
    {
     "data": {
      "text/plain": [
       "count    23699.000000\n",
       "mean        60.348648\n",
       "std         35.654083\n",
       "min         12.000000\n",
       "25%         40.000000\n",
       "50%         52.000000\n",
       "75%         69.900002\n",
       "max        900.000000\n",
       "Name: total_area, dtype: float64"
      ]
     },
     "execution_count": 171,
     "metadata": {},
     "output_type": "execute_result"
    }
   ],
   "source": [
    "data['total_area'].describe()"
   ]
  },
  {
   "cell_type": "markdown",
   "metadata": {},
   "source": [
    "Гигантские квартиры в несколько сотен метров не дают увидеть более детально распределение квартир входящих в межквартильный размах, посмотрим, как будет выглядеть распределение, если отбросить квартиры площадью более 300 метров:"
   ]
  },
  {
   "cell_type": "code",
   "execution_count": 172,
   "metadata": {},
   "outputs": [
    {
     "data": {
      "text/plain": [
       "<AxesSubplot:>"
      ]
     },
     "execution_count": 172,
     "metadata": {},
     "output_type": "execute_result"
    },
    {
     "data": {
      "image/png": "[encoded data removed]",
      "text/plain": [
       "<Figure size 720x360 with 1 Axes>"
      ]
     },
     "metadata": {
      "needs_background": "light"
     },
     "output_type": "display_data"
    }
   ],
   "source": [
    "data.query('total_area < 300')['total_area'].hist(bins=50, figsize=(10, 5))"
   ]
  },
  {
   "cell_type": "markdown",
   "metadata": {},
   "source": [
    "Пометим квартиры площадью более 300 м^2."
   ]
  },
  {
   "cell_type": "code",
   "execution_count": 173,
   "metadata": {},
   "outputs": [],
   "source": [
    "data['too_large'] = data['total_area'] > 300\n"
   ]
  },
  {
   "cell_type": "markdown",
   "metadata": {},
   "source": [
    "\n",
    "\n",
    "Медианное значение 52 м2. 75% квартир имеют площадь до 70м2. На гистрограмме видны локальные пики, скорее всего это связано с типовой застройкой. Интересно, что количество квартир площадью менее 40 метров составляет всего 25% от общей массы квартир. Квартиры площадью более 300 м^2 можно считать выбросами. "
   ]
  },
  {
   "cell_type": "markdown",
   "metadata": {},
   "source": [
    "***Исследуем цену квартир***"
   ]
  },
  {
   "cell_type": "code",
   "execution_count": 174,
   "metadata": {},
   "outputs": [
    {
     "data": {
      "text/plain": [
       "count    2.369900e+04\n",
       "mean     6.541549e+06\n",
       "std      1.088701e+07\n",
       "min      1.219000e+04\n",
       "25%      3.400000e+06\n",
       "50%      4.650000e+06\n",
       "75%      6.800000e+06\n",
       "max      7.630000e+08\n",
       "Name: last_price, dtype: float64"
      ]
     },
     "execution_count": 174,
     "metadata": {},
     "output_type": "execute_result"
    }
   ],
   "source": [
    "data['last_price'].describe()"
   ]
  },
  {
   "cell_type": "code",
   "execution_count": 175,
   "metadata": {},
   "outputs": [
    {
     "data": {
      "text/plain": [
       "<AxesSubplot:>"
      ]
     },
     "execution_count": 175,
     "metadata": {},
     "output_type": "execute_result"
    },
    {
     "data": {
      "image/png": "[encoded data removed]",
      "text/plain": [
       "<Figure size 720x360 with 1 Axes>"
      ]
     },
     "metadata": {
      "needs_background": "light"
     },
     "output_type": "display_data"
    }
   ],
   "source": [
    "data['last_price'].hist(bins=30, figsize=(10, 5))"
   ]
  },
  {
   "cell_type": "markdown",
   "metadata": {},
   "source": [
    "Как видно из рассчитанных показателей - медианное значение 4,65 млн, среднее значение - 6,5 млн, а максимальное - сотни миллионов, из-за этих очень дорогих квартир на диаграмме ничего не видно, построим гистограмму по значениям стоимости квартир не более 50 млн:"
   ]
  },
  {
   "cell_type": "code",
   "execution_count": 176,
   "metadata": {},
   "outputs": [
    {
     "data": {
      "text/plain": [
       "<AxesSubplot:>"
      ]
     },
     "execution_count": 176,
     "metadata": {},
     "output_type": "execute_result"
    },
    {
     "data": {
      "image/png": "[encoded data removed]",
      "text/plain": [
       "<Figure size 720x360 with 1 Axes>"
      ]
     },
     "metadata": {
      "needs_background": "light"
     },
     "output_type": "display_data"
    }
   ],
   "source": [
    "data.query('last_price < 50000000')['last_price'].hist(bins=30, figsize=(10, 5))"
   ]
  },
  {
   "cell_type": "markdown",
   "metadata": {},
   "source": [
    "График скорее напоминает распределение гаусса. 75% квартир лежит в ценовом диапозоне до 6,8 млн. Самая низкая цена  - 12 тысяч, выглядит подозрительно:"
   ]
  },
  {
   "cell_type": "code",
   "execution_count": 177,
   "metadata": {},
   "outputs": [
    {
     "data": {
      "text/html": [
       "<div>\n",
       "<style scoped>\n",
       "    .dataframe tbody tr th:only-of-type {\n",
       "        vertical-align: middle;\n",
       "    }\n",
       "\n",
       "    .dataframe tbody tr th {\n",
       "        vertical-align: top;\n",
       "    }\n",
       "\n",
       "    .dataframe thead th {\n",
       "        text-align: right;\n",
       "    }\n",
       "</style>\n",
       "<table border=\"1\" class=\"dataframe\">\n",
       "  <thead>\n",
       "    <tr style=\"text-align: right;\">\n",
       "      <th></th>\n",
       "      <th>last_price</th>\n",
       "      <th>locality_name</th>\n",
       "      <th>total_area</th>\n",
       "      <th>days_exposition</th>\n",
       "    </tr>\n",
       "  </thead>\n",
       "  <tbody>\n",
       "    <tr>\n",
       "      <th>8793</th>\n",
       "      <td>12190</td>\n",
       "      <td>Санкт-Петербург</td>\n",
       "      <td>109.0</td>\n",
       "      <td>8.0</td>\n",
       "    </tr>\n",
       "  </tbody>\n",
       "</table>\n",
       "</div>"
      ],
      "text/plain": [
       "      last_price    locality_name  total_area  days_exposition\n",
       "8793       12190  Санкт-Петербург       109.0              8.0"
      ]
     },
     "execution_count": 177,
     "metadata": {},
     "output_type": "execute_result"
    }
   ],
   "source": [
    "data.query('last_price < 100000')[['last_price','locality_name', 'total_area', 'days_exposition']]"
   ]
  },
  {
   "cell_type": "markdown",
   "metadata": {},
   "source": [
    "Явно что-то странное."
   ]
  },
  {
   "cell_type": "code",
   "execution_count": 178,
   "metadata": {},
   "outputs": [
    {
     "data": {
      "text/plain": [
       "12990000.0"
      ]
     },
     "execution_count": 178,
     "metadata": {},
     "output_type": "execute_result"
    }
   ],
   "source": [
    "data.query('105 < total_area < 110')['last_price'].median()"
   ]
  },
  {
   "cell_type": "markdown",
   "metadata": {},
   "source": [
    "Медианная стоимость в данном случае в тысячу раз больше, вероятнее всего здесь была ошибка в порядке."
   ]
  },
  {
   "cell_type": "code",
   "execution_count": 179,
   "metadata": {},
   "outputs": [
    {
     "data": {
      "text/html": [
       "<div>\n",
       "<style scoped>\n",
       "    .dataframe tbody tr th:only-of-type {\n",
       "        vertical-align: middle;\n",
       "    }\n",
       "\n",
       "    .dataframe tbody tr th {\n",
       "        vertical-align: top;\n",
       "    }\n",
       "\n",
       "    .dataframe thead th {\n",
       "        text-align: right;\n",
       "    }\n",
       "</style>\n",
       "<table border=\"1\" class=\"dataframe\">\n",
       "  <thead>\n",
       "    <tr style=\"text-align: right;\">\n",
       "      <th></th>\n",
       "      <th>last_price</th>\n",
       "      <th>locality_name</th>\n",
       "      <th>total_area</th>\n",
       "      <th>days_exposition</th>\n",
       "    </tr>\n",
       "  </thead>\n",
       "  <tbody>\n",
       "    <tr>\n",
       "      <th>8793</th>\n",
       "      <td>12190</td>\n",
       "      <td>Санкт-Петербург</td>\n",
       "      <td>109.0</td>\n",
       "      <td>8.0</td>\n",
       "    </tr>\n",
       "  </tbody>\n",
       "</table>\n",
       "</div>"
      ],
      "text/plain": [
       "      last_price    locality_name  total_area  days_exposition\n",
       "8793       12190  Санкт-Петербург       109.0              8.0"
      ]
     },
     "execution_count": 179,
     "metadata": {},
     "output_type": "execute_result"
    }
   ],
   "source": [
    "data.query('last_price < 100000')[['last_price','locality_name', 'total_area', 'days_exposition']]"
   ]
  },
  {
   "cell_type": "markdown",
   "metadata": {},
   "source": [
    "Пометим квартиры, стоиомсть более 50 млн, как очень дорогие и менее 200 тыс, как совсем дешевые:"
   ]
  },
  {
   "cell_type": "code",
   "execution_count": 180,
   "metadata": {},
   "outputs": [],
   "source": [
    "data['anomaly_price'] = (data['last_price'] > 50000000) | (data['last_price'] < 200000)"
   ]
  },
  {
   "cell_type": "markdown",
   "metadata": {},
   "source": [
    "\n",
    "\n",
    "В ходе анализа были выявлены выбивающиеся из общей выборки данные - слишком дорогие квартиры стоимость более 50 млн. Медианная стоимость квартир - 4,65 млн."
   ]
  },
  {
   "cell_type": "markdown",
   "metadata": {},
   "source": [
    "***Изучим данные о числе комнат***"
   ]
  },
  {
   "cell_type": "code",
   "execution_count": 181,
   "metadata": {},
   "outputs": [
    {
     "data": {
      "text/plain": [
       "count    23699.000000\n",
       "mean         2.070636\n",
       "std          1.078405\n",
       "min          0.000000\n",
       "25%          1.000000\n",
       "50%          2.000000\n",
       "75%          3.000000\n",
       "max         19.000000\n",
       "Name: rooms, dtype: float64"
      ]
     },
     "execution_count": 181,
     "metadata": {},
     "output_type": "execute_result"
    }
   ],
   "source": [
    "data['rooms'].describe()"
   ]
  },
  {
   "cell_type": "code",
   "execution_count": 182,
   "metadata": {},
   "outputs": [
    {
     "data": {
      "text/plain": [
       "<AxesSubplot:>"
      ]
     },
     "execution_count": 182,
     "metadata": {},
     "output_type": "execute_result"
    },
    {
     "data": {
      "image/png": "[encoded data removed]",
      "text/plain": [
       "<Figure size 720x360 with 1 Axes>"
      ]
     },
     "metadata": {
      "needs_background": "light"
     },
     "output_type": "display_data"
    }
   ],
   "source": [
    "data['rooms'].hist(bins=10, figsize=(10,5))"
   ]
  },
  {
   "cell_type": "markdown",
   "metadata": {},
   "source": [
    "Есть квартиры в которых общее количество комнат 0, скорее всего это студии, проверим:"
   ]
  },
  {
   "cell_type": "code",
   "execution_count": 183,
   "metadata": {},
   "outputs": [
    {
     "data": {
      "text/plain": [
       "0    138\n",
       "1     11\n",
       "Name: rooms, dtype: int64"
      ]
     },
     "execution_count": 183,
     "metadata": {},
     "output_type": "execute_result"
    }
   ],
   "source": [
    "data.query('studio == True')['rooms'].value_counts()"
   ]
  },
  {
   "cell_type": "markdown",
   "metadata": {},
   "source": [
    "Иногда в студия считается как одна комната, иногда как 0."
   ]
  },
  {
   "cell_type": "markdown",
   "metadata": {},
   "source": [
    "Проверим квартиры со свободной планировкой:"
   ]
  },
  {
   "cell_type": "code",
   "execution_count": 184,
   "metadata": {},
   "outputs": [
    {
     "data": {
      "text/plain": [
       "0    59\n",
       "1     3\n",
       "3     2\n",
       "2     1\n",
       "4     1\n",
       "5     1\n",
       "Name: rooms, dtype: int64"
      ]
     },
     "execution_count": 184,
     "metadata": {},
     "output_type": "execute_result"
    }
   ],
   "source": [
    "data.query('open_plan == True')['rooms'].value_counts()"
   ]
  },
  {
   "cell_type": "markdown",
   "metadata": {},
   "source": [
    "Большая часть нули."
   ]
  },
  {
   "cell_type": "markdown",
   "metadata": {},
   "source": [
    "Посчитаем количество квартир с количеством комнат = 0:"
   ]
  },
  {
   "cell_type": "code",
   "execution_count": 185,
   "metadata": {},
   "outputs": [
    {
     "data": {
      "text/plain": [
       "197"
      ]
     },
     "execution_count": 185,
     "metadata": {},
     "output_type": "execute_result"
    }
   ],
   "source": [
    "data.query('rooms == 0')['rooms'].count()"
   ]
  },
  {
   "cell_type": "markdown",
   "metadata": {},
   "source": [
    "197 это как раз нули свободной планировки и студий. Построим снова гистограмму отбросив значения выше 8, так как там график уже сливается с нулём:"
   ]
  },
  {
   "cell_type": "code",
   "execution_count": 186,
   "metadata": {},
   "outputs": [
    {
     "data": {
      "text/plain": [
       "<AxesSubplot:>"
      ]
     },
     "execution_count": 186,
     "metadata": {},
     "output_type": "execute_result"
    },
    {
     "data": {
      "image/png": "[encoded data removed]",
      "text/plain": [
       "<Figure size 720x360 with 1 Axes>"
      ]
     },
     "metadata": {
      "needs_background": "light"
     },
     "output_type": "display_data"
    }
   ],
   "source": [
    "data.query('rooms <= 8')['rooms'].hist(bins=8, figsize=(10, 5))"
   ]
  },
  {
   "cell_type": "code",
   "execution_count": 187,
   "metadata": {},
   "outputs": [
    {
     "data": {
      "text/plain": [
       "count    23680.00000\n",
       "mean         2.06326\n",
       "std          1.04373\n",
       "min          0.00000\n",
       "25%          1.00000\n",
       "50%          2.00000\n",
       "75%          3.00000\n",
       "max          8.00000\n",
       "Name: rooms, dtype: float64"
      ]
     },
     "execution_count": 187,
     "metadata": {},
     "output_type": "execute_result"
    }
   ],
   "source": [
    "data.query('rooms <= 8')['rooms'].describe()"
   ]
  },
  {
   "cell_type": "markdown",
   "metadata": {},
   "source": [
    "Пометим квартиры с аномально большим количеством комнат:"
   ]
  },
  {
   "cell_type": "code",
   "execution_count": 188,
   "metadata": {},
   "outputs": [],
   "source": [
    "data['too_many_rooms'] = data['rooms'] > 8"
   ]
  },
  {
   "cell_type": "markdown",
   "metadata": {},
   "source": [
    "\n",
    "\n",
    "График имеет вид распределения пуассона. 75% квартир с количеством комнат не более 3х. Медианное значение - 2 комнаты. В ходе анализа были убраны из датафрейма квартиры с аномально большим количеством комнат. Присутствуют квартиры с 0 комнат, это либо студии, либо квартиры со свободной планировкой. Выбросами можно считать квартиры с количеством комнат больше 8."
   ]
  },
  {
   "cell_type": "markdown",
   "metadata": {},
   "source": [
    "***Изучим высоту потолков***"
   ]
  },
  {
   "cell_type": "code",
   "execution_count": 189,
   "metadata": {},
   "outputs": [
    {
     "data": {
      "text/plain": [
       "count    14504.000000\n",
       "mean         2.771499\n",
       "std          1.261056\n",
       "min          1.000000\n",
       "25%          2.520000\n",
       "50%          2.650000\n",
       "75%          2.800000\n",
       "max        100.000000\n",
       "Name: ceiling_height, dtype: float64"
      ]
     },
     "execution_count": 189,
     "metadata": {},
     "output_type": "execute_result"
    }
   ],
   "source": [
    "data['ceiling_height'].describe()"
   ]
  },
  {
   "cell_type": "code",
   "execution_count": 190,
   "metadata": {},
   "outputs": [
    {
     "data": {
      "text/plain": [
       "<AxesSubplot:>"
      ]
     },
     "execution_count": 190,
     "metadata": {},
     "output_type": "execute_result"
    },
    {
     "data": {
      "image/png": "[encoded data removed]",
      "text/plain": [
       "<Figure size 432x288 with 1 Axes>"
      ]
     },
     "metadata": {
      "needs_background": "light"
     },
     "output_type": "display_data"
    }
   ],
   "source": [
    "data['ceiling_height'].hist(bins=30)"
   ]
  },
  {
   "cell_type": "markdown",
   "metadata": {},
   "source": [
    "Из полученных данных видно, что на график сильное влияние оказывает выброс - 100 метров, а также минимальная высота потолка - 1м. Исключим данные о потолках, высота которых более 5 м, и менее 2 м:"
   ]
  },
  {
   "cell_type": "code",
   "execution_count": 191,
   "metadata": {},
   "outputs": [
    {
     "data": {
      "text/plain": [
       "<AxesSubplot:>"
      ]
     },
     "execution_count": 191,
     "metadata": {},
     "output_type": "execute_result"
    },
    {
     "data": {
      "image/png": "[encoded data removed]",
      "text/plain": [
       "<Figure size 432x288 with 1 Axes>"
      ]
     },
     "metadata": {
      "needs_background": "light"
     },
     "output_type": "display_data"
    }
   ],
   "source": [
    "data.query('ceiling_height < 5 and ceiling_height > 2')['ceiling_height'].hist(bins=15)"
   ]
  },
  {
   "cell_type": "markdown",
   "metadata": {},
   "source": [
    "Пометим квартиры, с аномальными значениями потолков:"
   ]
  },
  {
   "cell_type": "code",
   "execution_count": 192,
   "metadata": {},
   "outputs": [],
   "source": [
    "data['anomaly_height'] = (data['ceiling_height'] > 5) | (data['ceiling_height'] < 2)"
   ]
  },
  {
   "cell_type": "markdown",
   "metadata": {},
   "source": [
    "\n",
    "\n",
    "Медианное значение высоты потолка - 2.65, форма распределения - распределение пуассона. Выбросами можно считать высоту более 5 м и менее 2 м. "
   ]
  },
  {
   "cell_type": "markdown",
   "metadata": {},
   "source": [
    "***Изучим время продажи квартиры***\n",
    "\n",
    "Построим гистограмму:"
   ]
  },
  {
   "cell_type": "code",
   "execution_count": 193,
   "metadata": {},
   "outputs": [
    {
     "data": {
      "text/plain": [
       "<AxesSubplot:>"
      ]
     },
     "execution_count": 193,
     "metadata": {},
     "output_type": "execute_result"
    },
    {
     "data": {
      "image/png": "[encoded data removed]",
      "text/plain": [
       "<Figure size 720x360 with 1 Axes>"
      ]
     },
     "metadata": {
      "needs_background": "light"
     },
     "output_type": "display_data"
    }
   ],
   "source": [
    "data['days_exposition'].hist(bins=50, figsize=(10, 5))"
   ]
  },
  {
   "cell_type": "code",
   "execution_count": 194,
   "metadata": {},
   "outputs": [
    {
     "data": {
      "text/plain": [
       "count    20518.000000\n",
       "mean       180.888641\n",
       "std        219.727982\n",
       "min          1.000000\n",
       "25%         45.000000\n",
       "50%         95.000000\n",
       "75%        232.000000\n",
       "max       1580.000000\n",
       "Name: days_exposition, dtype: float64"
      ]
     },
     "execution_count": 194,
     "metadata": {},
     "output_type": "execute_result"
    }
   ],
   "source": [
    "data['days_exposition'].describe()"
   ]
  },
  {
   "cell_type": "code",
   "execution_count": 195,
   "metadata": {},
   "outputs": [
    {
     "data": {
      "text/plain": [
       "<AxesSubplot:>"
      ]
     },
     "execution_count": 195,
     "metadata": {},
     "output_type": "execute_result"
    },
    {
     "data": {
      "image/png": "[encoded data removed]",
      "text/plain": [
       "<Figure size 720x360 with 1 Axes>"
      ]
     },
     "metadata": {
      "needs_background": "light"
     },
     "output_type": "display_data"
    }
   ],
   "source": [
    "data.boxplot(column='days_exposition', figsize=(10,5))"
   ]
  },
  {
   "cell_type": "markdown",
   "metadata": {},
   "source": [
    "График имеет вид распределения пуассона. Среднее значение времени продажи - 180 дней, медианное значение 95 дней. Очень долгие продажи сильно сдвигают среднее время. Необычно долгой, судя по даиграмме ящик с усами можно считать более 500 дней, что касается очень быстрых продаж - это 1 -2 дня."
   ]
  },
  {
   "cell_type": "code",
   "execution_count": 196,
   "metadata": {},
   "outputs": [
    {
     "data": {
      "text/plain": [
       "<AxesSubplot:>"
      ]
     },
     "execution_count": 196,
     "metadata": {},
     "output_type": "execute_result"
    },
    {
     "data": {
      "image/png": "[encoded data removed]",
      "text/plain": [
       "<Figure size 720x360 with 1 Axes>"
      ]
     },
     "metadata": {
      "needs_background": "light"
     },
     "output_type": "display_data"
    }
   ],
   "source": [
    "data.query('days_exposition < 800')['days_exposition'].hist(bins=30, figsize=(10, 5))"
   ]
  },
  {
   "cell_type": "markdown",
   "metadata": {},
   "source": [
    "Для того, чтобы определить какие продажи могут считаться слишком быстрыми, приблизим график:"
   ]
  },
  {
   "cell_type": "code",
   "execution_count": 197,
   "metadata": {},
   "outputs": [
    {
     "data": {
      "text/plain": [
       "<AxesSubplot:>"
      ]
     },
     "execution_count": 197,
     "metadata": {},
     "output_type": "execute_result"
    },
    {
     "data": {
      "image/png": "[encoded data removed]",
      "text/plain": [
       "<Figure size 720x360 with 1 Axes>"
      ]
     },
     "metadata": {
      "needs_background": "light"
     },
     "output_type": "display_data"
    }
   ],
   "source": [
    "data.query('days_exposition < 25')['days_exposition'].hist(bins=25, figsize=(10, 5))"
   ]
  },
  {
   "cell_type": "code",
   "execution_count": 198,
   "metadata": {},
   "outputs": [
    {
     "data": {
      "text/plain": [
       "<AxesSubplot:>"
      ]
     },
     "execution_count": 198,
     "metadata": {},
     "output_type": "execute_result"
    },
    {
     "data": {
      "image/png": "[encoded data removed]",
      "text/plain": [
       "<Figure size 720x360 with 1 Axes>"
      ]
     },
     "metadata": {
      "needs_background": "light"
     },
     "output_type": "display_data"
    }
   ],
   "source": [
    "data.query('days_exposition < 100')['days_exposition'].hist(bins=100, figsize=(10, 5))"
   ]
  },
  {
   "cell_type": "markdown",
   "metadata": {},
   "source": [
    "Незначительное количество длительностей это 1-2 дня, что является неправдоподобно быстрым, а дальше распределение по дням вполне равномерное. Тем не менее, мы можем определить к быстрым продажам всё, что входит в первый квартиль, то есть 25% квартир, которые наиболее быстро продались.\n",
    "Из этого графика видны пики на 45 дней, 60 дней и тд. Возможно, эти пики связаны как-то с подготовкой документов."
   ]
  },
  {
   "cell_type": "markdown",
   "metadata": {},
   "source": [
    "Пометим квартиры с аномальным временем продажи:"
   ]
  },
  {
   "cell_type": "code",
   "execution_count": 199,
   "metadata": {},
   "outputs": [],
   "source": [
    "data['anomaly_exposition'] = (data['days_exposition'] < 2) | (data['days_exposition'] > 800) "
   ]
  },
  {
   "cell_type": "markdown",
   "metadata": {},
   "source": [
    "\n",
    "\n",
    "Среднее значение времени продажи квартиры - 180 дней, медианное значение  - 95 дней. Можно считать, что продажи прошли очень быстро если их время заняло менее 2 дней, очень долго - более 800 дней. "
   ]
  },
  {
   "cell_type": "markdown",
   "metadata": {},
   "source": [
    "#### Вывод\n",
    "\n",
    "* Медианное значение 52 м2. 75% квартир имеют площадь до 70м2. На гистрограмме видны локальные пики, скорее всего это связано с типовой застройкой. Интересно, что количество квартир площадью менее 40 метров составляет всего 25% от общей массы квартир. Квартиры площадью более 300 м^2 можно считать выбросами.\n",
    "* В ходе анализа были выявлены выбивающиеся из общей выборки данные - слишком дорогие квартиры стоимость более 50 млн. Медианная стоимость квартир - 4,65 млн.\n",
    "* 75% квартир с количеством комнат не более 3х. Медианное значение - 2 комнаты. В ходе анализа были убраны из датафрейма квартиры с аномально большим количеством комнат. Присутствуют квартиры с 0 комнат, это либо студии, либо квартиры со свободной планировкой. Выбросами можно считать квартиры с количеством комнат больше 8.\n",
    "* Медианное значение высоты потолка - 2.65, форма распределения - распределение пуассона. Выбросами можно считать высоту более 5 м и менее 2 м. \n",
    "* Среднее значение времени продажи квартиры - 180 дней, медианное значение  - 95 дней. Можно считать, что продажи прошли очень быстро если их время заняло менее 2 дней, очень долго - более 800 дней. "
   ]
  },
  {
   "cell_type": "markdown",
   "metadata": {},
   "source": [
    "<a id=\"filter\"></a>\n",
    "### 4.2 Фильтрация от аномальных и редких значений"
   ]
  },
  {
   "cell_type": "markdown",
   "metadata": {},
   "source": [
    "В прошлой главе мы пометили странные данные, создадим новый дата фрейм без выбивающихся значений:"
   ]
  },
  {
   "cell_type": "code",
   "execution_count": 200,
   "metadata": {},
   "outputs": [
    {
     "data": {
      "text/html": [
       "<div>\n",
       "<style scoped>\n",
       "    .dataframe tbody tr th:only-of-type {\n",
       "        vertical-align: middle;\n",
       "    }\n",
       "\n",
       "    .dataframe tbody tr th {\n",
       "        vertical-align: top;\n",
       "    }\n",
       "\n",
       "    .dataframe thead th {\n",
       "        text-align: right;\n",
       "    }\n",
       "</style>\n",
       "<table border=\"1\" class=\"dataframe\">\n",
       "  <thead>\n",
       "    <tr style=\"text-align: right;\">\n",
       "      <th></th>\n",
       "      <th>total_images</th>\n",
       "      <th>last_price</th>\n",
       "      <th>total_area</th>\n",
       "      <th>first_day_exposition</th>\n",
       "      <th>rooms</th>\n",
       "      <th>ceiling_height</th>\n",
       "      <th>floors_total</th>\n",
       "      <th>living_area</th>\n",
       "      <th>floor</th>\n",
       "      <th>is_apartment</th>\n",
       "      <th>...</th>\n",
       "      <th>month</th>\n",
       "      <th>year</th>\n",
       "      <th>floor_category</th>\n",
       "      <th>living_fraction</th>\n",
       "      <th>kitchen_fraction</th>\n",
       "      <th>too_large</th>\n",
       "      <th>anomaly_price</th>\n",
       "      <th>too_many_rooms</th>\n",
       "      <th>anomaly_height</th>\n",
       "      <th>anomaly_exposition</th>\n",
       "    </tr>\n",
       "  </thead>\n",
       "  <tbody>\n",
       "    <tr>\n",
       "      <th>0</th>\n",
       "      <td>20</td>\n",
       "      <td>13000000</td>\n",
       "      <td>108.000000</td>\n",
       "      <td>2019-03-07</td>\n",
       "      <td>3</td>\n",
       "      <td>2.70</td>\n",
       "      <td>16.0</td>\n",
       "      <td>51.000000</td>\n",
       "      <td>8</td>\n",
       "      <td>False</td>\n",
       "      <td>...</td>\n",
       "      <td>Март</td>\n",
       "      <td>2019</td>\n",
       "      <td>другой</td>\n",
       "      <td>0.472222</td>\n",
       "      <td>0.231481</td>\n",
       "      <td>False</td>\n",
       "      <td>False</td>\n",
       "      <td>False</td>\n",
       "      <td>False</td>\n",
       "      <td>False</td>\n",
       "    </tr>\n",
       "    <tr>\n",
       "      <th>1</th>\n",
       "      <td>7</td>\n",
       "      <td>3350000</td>\n",
       "      <td>40.400002</td>\n",
       "      <td>2018-12-04</td>\n",
       "      <td>1</td>\n",
       "      <td>NaN</td>\n",
       "      <td>11.0</td>\n",
       "      <td>18.600000</td>\n",
       "      <td>1</td>\n",
       "      <td>False</td>\n",
       "      <td>...</td>\n",
       "      <td>Декабрь</td>\n",
       "      <td>2018</td>\n",
       "      <td>первый</td>\n",
       "      <td>0.460396</td>\n",
       "      <td>0.272277</td>\n",
       "      <td>False</td>\n",
       "      <td>False</td>\n",
       "      <td>False</td>\n",
       "      <td>False</td>\n",
       "      <td>False</td>\n",
       "    </tr>\n",
       "    <tr>\n",
       "      <th>2</th>\n",
       "      <td>10</td>\n",
       "      <td>5196000</td>\n",
       "      <td>56.000000</td>\n",
       "      <td>2015-08-20</td>\n",
       "      <td>2</td>\n",
       "      <td>NaN</td>\n",
       "      <td>5.0</td>\n",
       "      <td>34.299999</td>\n",
       "      <td>4</td>\n",
       "      <td>False</td>\n",
       "      <td>...</td>\n",
       "      <td>Август</td>\n",
       "      <td>2015</td>\n",
       "      <td>другой</td>\n",
       "      <td>0.612500</td>\n",
       "      <td>0.148214</td>\n",
       "      <td>False</td>\n",
       "      <td>False</td>\n",
       "      <td>False</td>\n",
       "      <td>False</td>\n",
       "      <td>False</td>\n",
       "    </tr>\n",
       "    <tr>\n",
       "      <th>4</th>\n",
       "      <td>2</td>\n",
       "      <td>10000000</td>\n",
       "      <td>100.000000</td>\n",
       "      <td>2018-06-19</td>\n",
       "      <td>2</td>\n",
       "      <td>3.03</td>\n",
       "      <td>14.0</td>\n",
       "      <td>32.000000</td>\n",
       "      <td>13</td>\n",
       "      <td>False</td>\n",
       "      <td>...</td>\n",
       "      <td>Июнь</td>\n",
       "      <td>2018</td>\n",
       "      <td>другой</td>\n",
       "      <td>0.320000</td>\n",
       "      <td>0.410000</td>\n",
       "      <td>False</td>\n",
       "      <td>False</td>\n",
       "      <td>False</td>\n",
       "      <td>False</td>\n",
       "      <td>False</td>\n",
       "    </tr>\n",
       "    <tr>\n",
       "      <th>5</th>\n",
       "      <td>10</td>\n",
       "      <td>2890000</td>\n",
       "      <td>30.400000</td>\n",
       "      <td>2018-09-10</td>\n",
       "      <td>1</td>\n",
       "      <td>NaN</td>\n",
       "      <td>12.0</td>\n",
       "      <td>14.400000</td>\n",
       "      <td>5</td>\n",
       "      <td>False</td>\n",
       "      <td>...</td>\n",
       "      <td>Сентябрь</td>\n",
       "      <td>2018</td>\n",
       "      <td>другой</td>\n",
       "      <td>0.473684</td>\n",
       "      <td>0.299342</td>\n",
       "      <td>False</td>\n",
       "      <td>False</td>\n",
       "      <td>False</td>\n",
       "      <td>False</td>\n",
       "      <td>False</td>\n",
       "    </tr>\n",
       "  </tbody>\n",
       "</table>\n",
       "<p>5 rows × 34 columns</p>\n",
       "</div>"
      ],
      "text/plain": [
       "   total_images  last_price  total_area first_day_exposition  rooms  \\\n",
       "0            20    13000000  108.000000           2019-03-07      3   \n",
       "1             7     3350000   40.400002           2018-12-04      1   \n",
       "2            10     5196000   56.000000           2015-08-20      2   \n",
       "4             2    10000000  100.000000           2018-06-19      2   \n",
       "5            10     2890000   30.400000           2018-09-10      1   \n",
       "\n",
       "   ceiling_height  floors_total  living_area  floor  is_apartment  ...  \\\n",
       "0            2.70          16.0    51.000000      8         False  ...   \n",
       "1             NaN          11.0    18.600000      1         False  ...   \n",
       "2             NaN           5.0    34.299999      4         False  ...   \n",
       "4            3.03          14.0    32.000000     13         False  ...   \n",
       "5             NaN          12.0    14.400000      5         False  ...   \n",
       "\n",
       "      month  year  floor_category  living_fraction kitchen_fraction  \\\n",
       "0      Март  2019          другой         0.472222         0.231481   \n",
       "1   Декабрь  2018          первый         0.460396         0.272277   \n",
       "2    Август  2015          другой         0.612500         0.148214   \n",
       "4      Июнь  2018          другой         0.320000         0.410000   \n",
       "5  Сентябрь  2018          другой         0.473684         0.299342   \n",
       "\n",
       "   too_large  anomaly_price  too_many_rooms  anomaly_height  \\\n",
       "0      False          False           False           False   \n",
       "1      False          False           False           False   \n",
       "2      False          False           False           False   \n",
       "4      False          False           False           False   \n",
       "5      False          False           False           False   \n",
       "\n",
       "   anomaly_exposition  \n",
       "0               False  \n",
       "1               False  \n",
       "2               False  \n",
       "4               False  \n",
       "5               False  \n",
       "\n",
       "[5 rows x 34 columns]"
      ]
     },
     "execution_count": 200,
     "metadata": {},
     "output_type": "execute_result"
    }
   ],
   "source": [
    "good_data = data.query('not too_large')\n",
    "good_data = good_data.query('not anomaly_price')\n",
    "good_data = good_data.query('not anomaly_height')\n",
    "good_data = good_data.query('not too_many_rooms')\n",
    "good_data = good_data.query('not anomaly_exposition')\n",
    "good_data.head()"
   ]
  },
  {
   "cell_type": "code",
   "execution_count": 201,
   "metadata": {},
   "outputs": [
    {
     "data": {
      "text/plain": [
       "total_images                0\n",
       "last_price                  0\n",
       "total_area                  0\n",
       "first_day_exposition        0\n",
       "rooms                       0\n",
       "ceiling_height           8937\n",
       "floors_total               83\n",
       "living_area                 0\n",
       "floor                       0\n",
       "is_apartment                0\n",
       "studio                      0\n",
       "open_plan                   0\n",
       "kitchen_area             2211\n",
       "balcony                     0\n",
       "locality_name              48\n",
       "airports_nearest         5416\n",
       "city_centers_nearest     5396\n",
       "parks_around_3000           0\n",
       "parks_nearest           15212\n",
       "ponds_around_3000           0\n",
       "ponds_nearest           14226\n",
       "days_exposition          3136\n",
       "metr_price                  0\n",
       "weekday                     0\n",
       "month                       0\n",
       "year                        0\n",
       "floor_category             83\n",
       "living_fraction             0\n",
       "kitchen_fraction         2211\n",
       "too_large                   0\n",
       "anomaly_price               0\n",
       "too_many_rooms              0\n",
       "anomaly_height              0\n",
       "anomaly_exposition          0\n",
       "dtype: int64"
      ]
     },
     "execution_count": 201,
     "metadata": {},
     "output_type": "execute_result"
    }
   ],
   "source": [
    "good_data.isna().sum()"
   ]
  },
  {
   "cell_type": "markdown",
   "metadata": {},
   "source": [
    "#### Вывод\n",
    "\n",
    "Были отфильтрованы аномальные значения."
   ]
  },
  {
   "cell_type": "markdown",
   "metadata": {},
   "source": [
    "<a id=\"price_parametr\"></a>\n",
    "### 4.3 Изучение факторов, влияющий на цену квартиры"
   ]
  },
  {
   "cell_type": "markdown",
   "metadata": {},
   "source": [
    "В этой главе мы изучим:\n",
    "* зависимость цены от площади квартиры;\n",
    "* влияние количества комнат на цену;\n",
    "* влияние этажа на стоимость;\n",
    "* зависимость стоимости от расстояния до центра;\n",
    "* влияние дня недели, месяца и года публикации на цены квартир."
   ]
  },
  {
   "cell_type": "markdown",
   "metadata": {},
   "source": [
    "***Зависимость цены от количества квадратных метров***\n",
    "\n",
    "Построим диаграмму рассеяния:"
   ]
  },
  {
   "cell_type": "code",
   "execution_count": 202,
   "metadata": {},
   "outputs": [
    {
     "name": "stdout",
     "output_type": "stream",
     "text": [
      "Коэффициент корреляции Пирсона: 0.7787729174755895\n"
     ]
    },
    {
     "data": {
      "image/png": "[encoded data removed]",
      "text/plain": [
       "<Figure size 720x360 with 1 Axes>"
      ]
     },
     "metadata": {
      "needs_background": "light"
     },
     "output_type": "display_data"
    }
   ],
   "source": [
    "good_data.plot(x='total_area', y='last_price', kind='scatter', figsize=(10,5))\n",
    "print('Коэффициент корреляции Пирсона:', good_data['last_price'].corr(good_data['total_area']))"
   ]
  },
  {
   "cell_type": "markdown",
   "metadata": {},
   "source": [
    "\n",
    "\n",
    "Как видно, коэффициент корреляция пирсона для пары цена - площадь равен 0,778, что означает прямопропорциональную зависимость, с высокой степенью корреляции. Это подтверждает и график, чем выше площадь, тем выше цена, но, стоит отметить, что чем выше площадь квартиры, тем больше отклонений от этого тренда, в квартирах площадью более 150 метров эта зависимость уже не такая явная."
   ]
  },
  {
   "cell_type": "markdown",
   "metadata": {},
   "source": [
    "***Влияние количества комнат на стоимость*** \n",
    "\n",
    "\n",
    "Сгруппируем данные по числу комнат, найдём медианы и построим по ним столбчатую диаграмму:"
   ]
  },
  {
   "cell_type": "code",
   "execution_count": 203,
   "metadata": {},
   "outputs": [
    {
     "data": {
      "text/plain": [
       "<AxesSubplot:xlabel='rooms'>"
      ]
     },
     "execution_count": 203,
     "metadata": {},
     "output_type": "execute_result"
    },
    {
     "data": {
      "image/png": "[encoded data removed]",
      "text/plain": [
       "<Figure size 720x360 with 1 Axes>"
      ]
     },
     "metadata": {
      "needs_background": "light"
     },
     "output_type": "display_data"
    }
   ],
   "source": [
    "good_data.pivot_table(index='rooms', values='last_price', aggfunc='median').plot(kind='bar', figsize=(10,5))"
   ]
  },
  {
   "cell_type": "markdown",
   "metadata": {},
   "source": [
    "Ожидаемо, с ростом количества комнат растёт и цена, но, как правило, чем больше комнат тем больше квартира, то есть, здесь вероятно влияет именно количество квадратных метров. Посмотрим, как влияет на цену квадратного метра число комнат, так это будет более информативно, 0 - здесь это студии и квартиры с свободной планировкой:"
   ]
  },
  {
   "cell_type": "code",
   "execution_count": 204,
   "metadata": {},
   "outputs": [
    {
     "data": {
      "text/plain": [
       "<AxesSubplot:xlabel='rooms'>"
      ]
     },
     "execution_count": 204,
     "metadata": {},
     "output_type": "execute_result"
    },
    {
     "data": {
      "image/png": "[encoded data removed]",
      "text/plain": [
       "<Figure size 720x360 with 1 Axes>"
      ]
     },
     "metadata": {
      "needs_background": "light"
     },
     "output_type": "display_data"
    }
   ],
   "source": [
    "good_data.pivot_table(index='rooms', values='metr_price', aggfunc='median').plot(kind='bar', figsize=(10,5))"
   ]
  },
  {
   "cell_type": "markdown",
   "metadata": {},
   "source": [
    "Как оказалась, цена квадратного метра падает, вплоть до числа комнат равных 4. Связано это с тем, что массовый сегмент это не более 3-х комнат, далее видимо идут в основном очень дорогие шикарные квартиры. Причём самая дорога стоимость квадратного метра в студиях."
   ]
  },
  {
   "cell_type": "markdown",
   "metadata": {},
   "source": [
    "\n",
    "\n",
    "Было выявлено, что цена растёт с ростом количества комнат, но связанно это с увеличением площади. А цена квадртаного метра падает вплоть до количества комнат - 4. Самая дорогая стоимость квадратного метра в студиях и квартирах со свободной планировкой."
   ]
  },
  {
   "cell_type": "markdown",
   "metadata": {},
   "source": [
    "***Влияние этажа на стоимость квартиры***"
   ]
  },
  {
   "cell_type": "code",
   "execution_count": 205,
   "metadata": {},
   "outputs": [
    {
     "data": {
      "text/plain": [
       "<AxesSubplot:xlabel='floor_category'>"
      ]
     },
     "execution_count": 205,
     "metadata": {},
     "output_type": "execute_result"
    },
    {
     "data": {
      "image/png": "[encoded data removed]",
      "text/plain": [
       "<Figure size 720x360 with 1 Axes>"
      ]
     },
     "metadata": {
      "needs_background": "light"
     },
     "output_type": "display_data"
    }
   ],
   "source": [
    "good_data.pivot_table(index='floor_category', values='last_price', aggfunc='median').plot(kind='bar', figsize=(10,5))"
   ]
  },
  {
   "cell_type": "markdown",
   "metadata": {},
   "source": [
    "\n",
    "\n",
    "Как видно из графика, самые дешевые квартиры на первых этажах, затем идут квартиры на последнем этаже, а потом уже квартиры на остальных этажах."
   ]
  },
  {
   "cell_type": "markdown",
   "metadata": {},
   "source": [
    "***Зависимость стоимости от расстояния до центра***"
   ]
  },
  {
   "cell_type": "code",
   "execution_count": 206,
   "metadata": {},
   "outputs": [
    {
     "name": "stdout",
     "output_type": "stream",
     "text": [
      "Коэффициент корреляции Пирсона: -0.3337167894014125\n"
     ]
    },
    {
     "data": {
      "text/plain": [
       "<AxesSubplot:xlabel='city_centers_nearest', ylabel='last_price'>"
      ]
     },
     "execution_count": 206,
     "metadata": {},
     "output_type": "execute_result"
    },
    {
     "data": {
      "image/png": "[encoded data removed]",
      "text/plain": [
       "<Figure size 720x360 with 1 Axes>"
      ]
     },
     "metadata": {
      "needs_background": "light"
     },
     "output_type": "display_data"
    }
   ],
   "source": [
    "print('Коэффициент корреляции Пирсона:', good_data['last_price'].corr(good_data['city_centers_nearest']))\n",
    "good_data.plot(x='city_centers_nearest', y='last_price', kind='scatter', figsize=(10,5), alpha=0.5)"
   ]
  },
  {
   "cell_type": "markdown",
   "metadata": {},
   "source": [
    "\n",
    "\n",
    "Как видно, очень дорогие квартиры встречаются часто в пределах 20 км, скорее всего, это квартиры, которые входят в город Санкт-Петербург. В целом видно, что чем дальше от центра, тем меньше относительно дорогих квартир. Коэффициент корреляции пирсона подтверждает обратно-пропорциональную зависимость, хотя и не очень явную. "
   ]
  },
  {
   "cell_type": "markdown",
   "metadata": {},
   "source": [
    "***Влияние дня недели, месяца и года публикации на стоимость квартир***\n",
    "\n",
    "Для каждого значения дня недели, месяца или года будем брать медианное значение:"
   ]
  },
  {
   "cell_type": "code",
   "execution_count": 207,
   "metadata": {},
   "outputs": [
    {
     "data": {
      "image/png": "[encoded data removed]",
      "text/plain": [
       "<Figure size 720x360 with 1 Axes>"
      ]
     },
     "metadata": {
      "needs_background": "light"
     },
     "output_type": "display_data"
    },
    {
     "data": {
      "image/png": "[encoded data removed]",
      "text/plain": [
       "<Figure size 720x360 with 1 Axes>"
      ]
     },
     "metadata": {
      "needs_background": "light"
     },
     "output_type": "display_data"
    },
    {
     "data": {
      "image/png": "[encoded data removed]",
      "text/plain": [
       "<Figure size 720x360 with 1 Axes>"
      ]
     },
     "metadata": {
      "needs_background": "light"
     },
     "output_type": "display_data"
    }
   ],
   "source": [
    "variables= ['weekday', 'month', 'year']\n",
    "\n",
    "for column in variables:\n",
    "    good_data.pivot_table(index=column, values='last_price', aggfunc='median').plot(kind='bar', figsize=(10,5))"
   ]
  },
  {
   "cell_type": "markdown",
   "metadata": {},
   "source": [
    "\n",
    "\n",
    "* Как видно из графиков, день недели размещения никак не влияет на стоимость квартир.\n",
    "* Что касается месяцев, видно, в апреле цена резко взлетает и постепенно падает. В июле снова небольшой подъем до значений зимы.\n",
    "* Из графика зависимости от года, видно, что в 2014 году был всплеск цен, связанный, по-видимому, с кризисом, все в панике пытались защитить свои вклады, затем рынок охладился и падал вплоть до 2016, дальше стагнация до 2019 года.\n"
   ]
  },
  {
   "cell_type": "markdown",
   "metadata": {},
   "source": [
    "#### Вывод\n",
    "\n",
    "* Коэффициент корреляция пирсона для пары цена - площадь равен 0,778, что означает прямопропорциональную зависимость, с высокой степенью корреляции. Это подтверждает и график, чем выше площадь, тем выше цена, но, стоит отметить, что чем выше площадь квартиры, тем больше отклонений от этого тренда, в квартирах площадью более 150 метров эта зависимость уже не такая явная.\n",
    "* Было выявлено, что цена растёт с ростом количества комнат, но связанно это с увеличением площади. А цена квадртаного метра падает вплоть до количества комнат - 4. Самая дорогая стоимость квадратного метра в студиях и квартирах со свободной планировкой.\n",
    "* Самые дешевые квартиры на первых этажах, затем идут квартиры на последнем этаже, а потом уже квартиры на остальных этажах.\n",
    "* Очень дорогие квартиры встречаются часто в пределах 20 км, скорее всего, это квартиры, которые входят в город Санкт-Петербург. В целом видно, что чем дальше от центра, тем меньше относительно дорогих квартир. Коэффициент корреляции пирсона подтверждает обратно-пропорциональную зависимость, хотя и не очень явную.\n",
    "* Как видно из графиков, день недели размещения никак не влияет на стоимость квартир.\n",
    "* Что касается месяцев, видно, в апреле цена резко взлетает и постепенно падает. В июле снова небольшой подъем до значений зимы.\n",
    "* Из графика зависимости от года, видно, что в 2014 году был всплеск цен, связанный, по-видимому, с кризисом, все в панике пытались защитить свои вклады, затем рынок охладился и падал вплоть до 2016, дальше стагнация до 2019 года."
   ]
  },
  {
   "cell_type": "markdown",
   "metadata": {},
   "source": [
    "<a id=\"max_min\"></a>\n",
    "### 4.4 Выделение среди десяти пунктов с наибольшим количеством объявлений пунктов с наиболее высоким и наиболее низким средними значениями"
   ]
  },
  {
   "cell_type": "markdown",
   "metadata": {},
   "source": [
    "Cоздадим сводную таблицу, в которой в качестве индексов будут названия населенных пунктов, а в столбцах - количество размещений и цена:"
   ]
  },
  {
   "cell_type": "code",
   "execution_count": 208,
   "metadata": {},
   "outputs": [
    {
     "data": {
      "text/html": [
       "<div>\n",
       "<style scoped>\n",
       "    .dataframe tbody tr th:only-of-type {\n",
       "        vertical-align: middle;\n",
       "    }\n",
       "\n",
       "    .dataframe tbody tr th {\n",
       "        vertical-align: top;\n",
       "    }\n",
       "\n",
       "    .dataframe thead th {\n",
       "        text-align: right;\n",
       "    }\n",
       "</style>\n",
       "<table border=\"1\" class=\"dataframe\">\n",
       "  <thead>\n",
       "    <tr style=\"text-align: right;\">\n",
       "      <th></th>\n",
       "      <th>count</th>\n",
       "      <th>last_price_mean</th>\n",
       "    </tr>\n",
       "    <tr>\n",
       "      <th>locality_name</th>\n",
       "      <th></th>\n",
       "      <th></th>\n",
       "    </tr>\n",
       "  </thead>\n",
       "  <tbody>\n",
       "    <tr>\n",
       "      <th>Санкт-Петербург</th>\n",
       "      <td>15118.0</td>\n",
       "      <td>7145608</td>\n",
       "    </tr>\n",
       "    <tr>\n",
       "      <th>посёлок Мурино</th>\n",
       "      <td>507.0</td>\n",
       "      <td>3662474</td>\n",
       "    </tr>\n",
       "    <tr>\n",
       "      <th>посёлок Шушары</th>\n",
       "      <td>433.0</td>\n",
       "      <td>4118976</td>\n",
       "    </tr>\n",
       "    <tr>\n",
       "      <th>Всеволожск</th>\n",
       "      <td>389.0</td>\n",
       "      <td>3798017</td>\n",
       "    </tr>\n",
       "    <tr>\n",
       "      <th>Пушкин</th>\n",
       "      <td>354.0</td>\n",
       "      <td>6226695</td>\n",
       "    </tr>\n",
       "    <tr>\n",
       "      <th>Колпино</th>\n",
       "      <td>333.0</td>\n",
       "      <td>3851742</td>\n",
       "    </tr>\n",
       "    <tr>\n",
       "      <th>посёлок Парголово</th>\n",
       "      <td>322.0</td>\n",
       "      <td>4492765</td>\n",
       "    </tr>\n",
       "    <tr>\n",
       "      <th>Гатчина</th>\n",
       "      <td>297.0</td>\n",
       "      <td>3484691</td>\n",
       "    </tr>\n",
       "    <tr>\n",
       "      <th>деревня Кудрово</th>\n",
       "      <td>290.0</td>\n",
       "      <td>4247190</td>\n",
       "    </tr>\n",
       "    <tr>\n",
       "      <th>Выборг</th>\n",
       "      <td>230.0</td>\n",
       "      <td>3263752</td>\n",
       "    </tr>\n",
       "  </tbody>\n",
       "</table>\n",
       "</div>"
      ],
      "text/plain": [
       "                     count  last_price_mean\n",
       "locality_name                              \n",
       "Санкт-Петербург    15118.0          7145608\n",
       "посёлок Мурино       507.0          3662474\n",
       "посёлок Шушары       433.0          4118976\n",
       "Всеволожск           389.0          3798017\n",
       "Пушкин               354.0          6226695\n",
       "Колпино              333.0          3851742\n",
       "посёлок Парголово    322.0          4492765\n",
       "Гатчина              297.0          3484691\n",
       "деревня Кудрово      290.0          4247190\n",
       "Выборг               230.0          3263752"
      ]
     },
     "execution_count": 208,
     "metadata": {},
     "output_type": "execute_result"
    }
   ],
   "source": [
    "# создадим сводную таблицу, в которой в качестве индексов будут названия населенных пунктов, а\n",
    "# в столбцах - количество размещений и цена\n",
    "locality_stat = (good_data.pivot_table(index='locality_name', values='last_price', aggfunc=({'mean', 'count'})).\n",
    "                 sort_values(by='count', ascending=False)\n",
    ")\n",
    "locality_stat.columns = ['count', 'last_price_mean']\n",
    "# приведем к целым значениям значения столбца со средней ценой\n",
    "locality_stat['last_price_mean'] = locality_stat['last_price_mean'].astype('int32')\n",
    "# выделим первые 10 строк:\n",
    "locality_stat = locality_stat.head(10)\n",
    "locality_stat"
   ]
  },
  {
   "cell_type": "code",
   "execution_count": 209,
   "metadata": {},
   "outputs": [
    {
     "data": {
      "text/plain": [
       "<AxesSubplot:xlabel='locality_name'>"
      ]
     },
     "execution_count": 209,
     "metadata": {},
     "output_type": "execute_result"
    },
    {
     "data": {
      "image/png": "[encoded data removed]",
      "text/plain": [
       "<Figure size 432x288 with 1 Axes>"
      ]
     },
     "metadata": {
      "needs_background": "light"
     },
     "output_type": "display_data"
    }
   ],
   "source": [
    "locality_stat.sort_values(by='last_price_mean', ascending=False).plot(kind='bar', y='last_price_mean')"
   ]
  },
  {
   "cell_type": "markdown",
   "metadata": {},
   "source": [
    "#### Вывод\n",
    "\n",
    "Самая высокая средняя стоимость жилья - Санкт-Петербург, самая низкая средняя стоимость жилья - Выборг."
   ]
  },
  {
   "cell_type": "markdown",
   "metadata": {},
   "source": [
    "##### <a id=\"center_researh\"></a>\n",
    "### 4.5 Изучение области центра Санкт-Петербурга"
   ]
  },
  {
   "cell_type": "markdown",
   "metadata": {},
   "source": [
    "В данной главе мы:\n",
    "* выделим квартиры, находящиеся в Санкт-Петербурге;\n",
    "* посчитаем расстояния до центра в километрах;\n",
    "* выделим расстояние, которое можно считать центром исходя из средних цен;\n",
    "* исследуем параметры квартир в центре и сравним их с результатом общего анализа;\n",
    "* исследуем как влияют различные характеристики на цены квартир в центре."
   ]
  },
  {
   "cell_type": "markdown",
   "metadata": {},
   "source": [
    "Выделим квартиры с локацией в Санкт-Петербурге и добавим столбец с округленным до километров расстоянием до центра:"
   ]
  },
  {
   "cell_type": "code",
   "execution_count": 210,
   "metadata": {},
   "outputs": [],
   "source": [
    "# выделим квартиры в Санкт-Петербурге\n",
    "good_data_peter = good_data.loc[good_data['locality_name'] == 'Санкт-Петербург', :]\n",
    "\n",
    "# добавим столбец с расстоянием от центра в километрах\n",
    "good_data_peter.loc[:, 'city_centers_nearest_km'] = (good_data_peter.loc[:, 'city_centers_nearest']\n",
    "                                                     / 1000).round()\n"
   ]
  },
  {
   "cell_type": "code",
   "execution_count": 211,
   "metadata": {},
   "outputs": [
    {
     "data": {
      "text/html": [
       "<div>\n",
       "<style scoped>\n",
       "    .dataframe tbody tr th:only-of-type {\n",
       "        vertical-align: middle;\n",
       "    }\n",
       "\n",
       "    .dataframe tbody tr th {\n",
       "        vertical-align: top;\n",
       "    }\n",
       "\n",
       "    .dataframe thead th {\n",
       "        text-align: right;\n",
       "    }\n",
       "</style>\n",
       "<table border=\"1\" class=\"dataframe\">\n",
       "  <thead>\n",
       "    <tr style=\"text-align: right;\">\n",
       "      <th></th>\n",
       "      <th>locality_name</th>\n",
       "      <th>last_price</th>\n",
       "      <th>city_centers_nearest_km</th>\n",
       "      <th>city_centers_nearest</th>\n",
       "    </tr>\n",
       "  </thead>\n",
       "  <tbody>\n",
       "    <tr>\n",
       "      <th>0</th>\n",
       "      <td>Санкт-Петербург</td>\n",
       "      <td>13000000</td>\n",
       "      <td>16.0</td>\n",
       "      <td>16028.0</td>\n",
       "    </tr>\n",
       "    <tr>\n",
       "      <th>2</th>\n",
       "      <td>Санкт-Петербург</td>\n",
       "      <td>5196000</td>\n",
       "      <td>14.0</td>\n",
       "      <td>13933.0</td>\n",
       "    </tr>\n",
       "    <tr>\n",
       "      <th>4</th>\n",
       "      <td>Санкт-Петербург</td>\n",
       "      <td>10000000</td>\n",
       "      <td>8.0</td>\n",
       "      <td>8098.0</td>\n",
       "    </tr>\n",
       "    <tr>\n",
       "      <th>7</th>\n",
       "      <td>Санкт-Петербург</td>\n",
       "      <td>7915000</td>\n",
       "      <td>12.0</td>\n",
       "      <td>11634.0</td>\n",
       "    </tr>\n",
       "    <tr>\n",
       "      <th>9</th>\n",
       "      <td>Санкт-Петербург</td>\n",
       "      <td>5400000</td>\n",
       "      <td>15.0</td>\n",
       "      <td>15008.0</td>\n",
       "    </tr>\n",
       "  </tbody>\n",
       "</table>\n",
       "</div>"
      ],
      "text/plain": [
       "     locality_name  last_price  city_centers_nearest_km  city_centers_nearest\n",
       "0  Санкт-Петербург    13000000                     16.0               16028.0\n",
       "2  Санкт-Петербург     5196000                     14.0               13933.0\n",
       "4  Санкт-Петербург    10000000                      8.0                8098.0\n",
       "7  Санкт-Петербург     7915000                     12.0               11634.0\n",
       "9  Санкт-Петербург     5400000                     15.0               15008.0"
      ]
     },
     "execution_count": 211,
     "metadata": {},
     "output_type": "execute_result"
    }
   ],
   "source": [
    "good_data_peter[['locality_name', 'last_price', 'city_centers_nearest_km', 'city_centers_nearest']].head()"
   ]
  },
  {
   "cell_type": "markdown",
   "metadata": {},
   "source": [
    "Создадим сводную таблицу, в которой в качестве индекса будет расстояние до центра, в столбце - средняя цена, и выведем график зависимости цены от расстояния до центра:"
   ]
  },
  {
   "cell_type": "code",
   "execution_count": 212,
   "metadata": {},
   "outputs": [
    {
     "data": {
      "text/plain": [
       "<AxesSubplot:xlabel='city_centers_nearest_km'>"
      ]
     },
     "execution_count": 212,
     "metadata": {},
     "output_type": "execute_result"
    },
    {
     "data": {
      "image/png": "[encoded data removed]",
      "text/plain": [
       "<Figure size 720x360 with 1 Axes>"
      ]
     },
     "metadata": {
      "needs_background": "light"
     },
     "output_type": "display_data"
    }
   ],
   "source": [
    "good_peter_stat = good_data_peter.pivot_table(index='city_centers_nearest_km', values='last_price', aggfunc='mean')\n",
    "\n",
    "good_peter_stat.columns = ['last_price_mean']\n",
    "\n",
    "good_peter_stat.plot(figsize=(10,5), kind='bar')"
   ]
  },
  {
   "cell_type": "markdown",
   "metadata": {},
   "source": [
    "Наиболее сильно выделяется часть графика до 8 км. Центром будем считать до 8 км радиус включительно:"
   ]
  },
  {
   "cell_type": "code",
   "execution_count": 213,
   "metadata": {},
   "outputs": [
    {
     "data": {
      "text/html": [
       "<div>\n",
       "<style scoped>\n",
       "    .dataframe tbody tr th:only-of-type {\n",
       "        vertical-align: middle;\n",
       "    }\n",
       "\n",
       "    .dataframe tbody tr th {\n",
       "        vertical-align: top;\n",
       "    }\n",
       "\n",
       "    .dataframe thead th {\n",
       "        text-align: right;\n",
       "    }\n",
       "</style>\n",
       "<table border=\"1\" class=\"dataframe\">\n",
       "  <thead>\n",
       "    <tr style=\"text-align: right;\">\n",
       "      <th></th>\n",
       "      <th>city_centers_nearest_km</th>\n",
       "      <th>last_price</th>\n",
       "    </tr>\n",
       "  </thead>\n",
       "  <tbody>\n",
       "    <tr>\n",
       "      <th>4</th>\n",
       "      <td>8.0</td>\n",
       "      <td>10000000</td>\n",
       "    </tr>\n",
       "    <tr>\n",
       "      <th>24</th>\n",
       "      <td>2.0</td>\n",
       "      <td>6500000</td>\n",
       "    </tr>\n",
       "    <tr>\n",
       "      <th>35</th>\n",
       "      <td>4.0</td>\n",
       "      <td>15500000</td>\n",
       "    </tr>\n",
       "    <tr>\n",
       "      <th>51</th>\n",
       "      <td>7.0</td>\n",
       "      <td>45000000</td>\n",
       "    </tr>\n",
       "    <tr>\n",
       "      <th>52</th>\n",
       "      <td>7.0</td>\n",
       "      <td>11795000</td>\n",
       "    </tr>\n",
       "  </tbody>\n",
       "</table>\n",
       "</div>"
      ],
      "text/plain": [
       "    city_centers_nearest_km  last_price\n",
       "4                       8.0    10000000\n",
       "24                      2.0     6500000\n",
       "35                      4.0    15500000\n",
       "51                      7.0    45000000\n",
       "52                      7.0    11795000"
      ]
     },
     "execution_count": 213,
     "metadata": {},
     "output_type": "execute_result"
    }
   ],
   "source": [
    "good_peter_center = good_data_peter.query('city_centers_nearest_km <= 8')\n",
    "good_peter_center[['city_centers_nearest_km', 'last_price']].head()"
   ]
  },
  {
   "cell_type": "markdown",
   "metadata": {},
   "source": [
    "***Рассмотрим данные о площади в центре***"
   ]
  },
  {
   "cell_type": "code",
   "execution_count": 214,
   "metadata": {},
   "outputs": [
    {
     "data": {
      "text/plain": [
       "count    3778.000000\n",
       "mean       83.043015\n",
       "std        41.400330\n",
       "min        12.000000\n",
       "25%        53.892500\n",
       "50%        74.199997\n",
       "75%       100.400002\n",
       "max       297.500000\n",
       "Name: total_area, dtype: float64"
      ]
     },
     "execution_count": 214,
     "metadata": {},
     "output_type": "execute_result"
    }
   ],
   "source": [
    "good_peter_center['total_area'].describe()"
   ]
  },
  {
   "cell_type": "code",
   "execution_count": 215,
   "metadata": {},
   "outputs": [
    {
     "data": {
      "text/plain": [
       "<AxesSubplot:>"
      ]
     },
     "execution_count": 215,
     "metadata": {},
     "output_type": "execute_result"
    },
    {
     "data": {
      "image/png": "[encoded data removed]",
      "text/plain": [
       "<Figure size 432x288 with 1 Axes>"
      ]
     },
     "metadata": {
      "needs_background": "light"
     },
     "output_type": "display_data"
    }
   ],
   "source": [
    "good_peter_center['total_area'].hist(bins=30)"
   ]
  },
  {
   "cell_type": "markdown",
   "metadata": {},
   "source": [
    "\n",
    "\n",
    "Среднее значение площади в центра города 83 м2, медианное значение 74 м2, что на 22 м2 выше, чем по всем населенным пунктам. В центре квартиры в среднем больше по площади."
   ]
  },
  {
   "cell_type": "markdown",
   "metadata": {},
   "source": [
    "***Рассмотрим данные о стоимости квартир в центре города***"
   ]
  },
  {
   "cell_type": "code",
   "execution_count": 216,
   "metadata": {},
   "outputs": [
    {
     "data": {
      "text/plain": [
       "count    3.778000e+03\n",
       "mean     1.111058e+07\n",
       "std      7.718650e+06\n",
       "min      1.600000e+06\n",
       "25%      6.300000e+06\n",
       "50%      8.600000e+06\n",
       "75%      1.299000e+07\n",
       "max      5.000000e+07\n",
       "Name: last_price, dtype: float64"
      ]
     },
     "execution_count": 216,
     "metadata": {},
     "output_type": "execute_result"
    }
   ],
   "source": [
    "good_peter_center['last_price'].describe()"
   ]
  },
  {
   "cell_type": "code",
   "execution_count": 217,
   "metadata": {},
   "outputs": [
    {
     "data": {
      "text/plain": [
       "<AxesSubplot:>"
      ]
     },
     "execution_count": 217,
     "metadata": {},
     "output_type": "execute_result"
    },
    {
     "data": {
      "image/png": "[encoded data removed]",
      "text/plain": [
       "<Figure size 432x288 with 1 Axes>"
      ]
     },
     "metadata": {
      "needs_background": "light"
     },
     "output_type": "display_data"
    }
   ],
   "source": [
    "good_peter_center['last_price'].hist(bins=30)"
   ]
  },
  {
   "cell_type": "markdown",
   "metadata": {},
   "source": [
    "\n",
    "\n",
    "Средняя стиомсть квартир в центре  - 12.7 млн. Медианное значение 10 млн. 75% квартир в центре стоят не более 15 млн. Таким образом, средняя стоимость квартир в центре больше на 6.2 млн, а медианное значение на 5,4 млн. "
   ]
  },
  {
   "cell_type": "markdown",
   "metadata": {},
   "source": [
    "***Рассмотрим данные о количестве комнат в центре города***"
   ]
  },
  {
   "cell_type": "code",
   "execution_count": 218,
   "metadata": {},
   "outputs": [
    {
     "data": {
      "text/plain": [
       "count    3778.000000\n",
       "mean        2.656697\n",
       "std         1.252135\n",
       "min         0.000000\n",
       "25%         2.000000\n",
       "50%         3.000000\n",
       "75%         3.000000\n",
       "max         8.000000\n",
       "Name: rooms, dtype: float64"
      ]
     },
     "execution_count": 218,
     "metadata": {},
     "output_type": "execute_result"
    }
   ],
   "source": [
    "good_peter_center['rooms'].describe()"
   ]
  },
  {
   "cell_type": "code",
   "execution_count": 219,
   "metadata": {},
   "outputs": [
    {
     "data": {
      "text/plain": [
       "<AxesSubplot:>"
      ]
     },
     "execution_count": 219,
     "metadata": {},
     "output_type": "execute_result"
    },
    {
     "data": {
      "image/png": "[encoded data removed]",
      "text/plain": [
       "<Figure size 432x288 with 1 Axes>"
      ]
     },
     "metadata": {
      "needs_background": "light"
     },
     "output_type": "display_data"
    }
   ],
   "source": [
    "good_peter_center['rooms'].hist(bins=9)"
   ]
  },
  {
   "cell_type": "markdown",
   "metadata": {},
   "source": [
    "\n",
    "\n",
    "Среднее количество комнат в центре - 3, медианное значение тоже 3. Стоит отметить, что в центре среднее количество комнат на одну больше, чем по всему городу."
   ]
  },
  {
   "cell_type": "markdown",
   "metadata": {},
   "source": [
    "***Рассмотрим данные о высоте потолков***"
   ]
  },
  {
   "cell_type": "code",
   "execution_count": 220,
   "metadata": {},
   "outputs": [
    {
     "data": {
      "text/plain": [
       "count    2455.000000\n",
       "mean        3.036452\n",
       "std         0.343550\n",
       "min         2.000000\n",
       "25%         2.800000\n",
       "50%         3.000000\n",
       "75%         3.200000\n",
       "max         4.800000\n",
       "Name: ceiling_height, dtype: float64"
      ]
     },
     "execution_count": 220,
     "metadata": {},
     "output_type": "execute_result"
    }
   ],
   "source": [
    "good_peter_center['ceiling_height'].describe()"
   ]
  },
  {
   "cell_type": "code",
   "execution_count": 221,
   "metadata": {},
   "outputs": [
    {
     "data": {
      "text/plain": [
       "<AxesSubplot:>"
      ]
     },
     "execution_count": 221,
     "metadata": {},
     "output_type": "execute_result"
    },
    {
     "data": {
      "image/png": "[encoded data removed]",
      "text/plain": [
       "<Figure size 432x288 with 1 Axes>"
      ]
     },
     "metadata": {
      "needs_background": "light"
     },
     "output_type": "display_data"
    }
   ],
   "source": [
    "good_peter_center['ceiling_height'].hist(bins=10)"
   ]
  },
  {
   "cell_type": "markdown",
   "metadata": {},
   "source": [
    "\n",
    "\n",
    "Среднее и медианное значениея высоты потолков порядка 3,2 м. Что выше чем в среднем по городу и области на 0,5 м."
   ]
  },
  {
   "cell_type": "markdown",
   "metadata": {},
   "source": [
    "***Влияние площади на цену в центре***"
   ]
  },
  {
   "cell_type": "code",
   "execution_count": 222,
   "metadata": {},
   "outputs": [
    {
     "name": "stdout",
     "output_type": "stream",
     "text": [
      "Коэффициент корреляции Пирсона: 0.7198850206284138\n"
     ]
    },
    {
     "data": {
      "image/png": "[encoded data removed]",
      "text/plain": [
       "<Figure size 720x360 with 1 Axes>"
      ]
     },
     "metadata": {
      "needs_background": "light"
     },
     "output_type": "display_data"
    }
   ],
   "source": [
    "good_peter_center.plot(x='total_area', y='last_price', kind='scatter', figsize=(10,5))\n",
    "print('Коэффициент корреляции Пирсона:', good_peter_center['last_price'].corr(good_peter_center['total_area']))"
   ]
  },
  {
   "cell_type": "markdown",
   "metadata": {},
   "source": [
    "\n",
    "\n",
    "Как можно видеть из графика, а также значения коэффициента корреляции пирсона - чем выше площадь, тем выше цена. Но корреляция немного слабее, чем по остальному городу."
   ]
  },
  {
   "cell_type": "markdown",
   "metadata": {},
   "source": [
    "***Зависимость близости к центру на цену в центре города***"
   ]
  },
  {
   "cell_type": "code",
   "execution_count": 223,
   "metadata": {},
   "outputs": [
    {
     "name": "stdout",
     "output_type": "stream",
     "text": [
      "Коэффициент корреляции Пирсона: -0.3337167894014125\n"
     ]
    },
    {
     "data": {
      "text/plain": [
       "<AxesSubplot:xlabel='city_centers_nearest', ylabel='last_price'>"
      ]
     },
     "execution_count": 223,
     "metadata": {},
     "output_type": "execute_result"
    },
    {
     "data": {
      "image/png": "[encoded data removed]",
      "text/plain": [
       "<Figure size 720x360 with 1 Axes>"
      ]
     },
     "metadata": {
      "needs_background": "light"
     },
     "output_type": "display_data"
    }
   ],
   "source": [
    "print('Коэффициент корреляции Пирсона:', good_data['last_price'].corr(good_data['city_centers_nearest']))\n",
    "good_peter_center.plot(x='city_centers_nearest', y='last_price', kind='scatter', figsize=(10,5), alpha=0.5)"
   ]
  },
  {
   "cell_type": "markdown",
   "metadata": {},
   "source": [
    "\n",
    "\n",
    "Как и ранее - чем дальше от центра тем меньше цена, но значения коэффициента корреляции слишком мало, чтобы говорить о точной зависимости."
   ]
  },
  {
   "cell_type": "markdown",
   "metadata": {},
   "source": [
    "***Зависимость цены от количества комнат***"
   ]
  },
  {
   "cell_type": "markdown",
   "metadata": {},
   "source": [
    "Как и ранее сделаем после пересчёт на цену квадртаного метра:"
   ]
  },
  {
   "cell_type": "code",
   "execution_count": 224,
   "metadata": {},
   "outputs": [
    {
     "data": {
      "text/plain": [
       "<AxesSubplot:xlabel='rooms'>"
      ]
     },
     "execution_count": 224,
     "metadata": {},
     "output_type": "execute_result"
    },
    {
     "data": {
      "image/png": "[encoded data removed]",
      "text/plain": [
       "<Figure size 720x360 with 1 Axes>"
      ]
     },
     "metadata": {
      "needs_background": "light"
     },
     "output_type": "display_data"
    }
   ],
   "source": [
    "good_peter_center.pivot_table(index='rooms', values='last_price', aggfunc='median').plot(kind='bar', figsize=(10,5))"
   ]
  },
  {
   "cell_type": "code",
   "execution_count": 225,
   "metadata": {},
   "outputs": [
    {
     "data": {
      "text/plain": [
       "<AxesSubplot:xlabel='rooms'>"
      ]
     },
     "execution_count": 225,
     "metadata": {},
     "output_type": "execute_result"
    },
    {
     "data": {
      "image/png": "[encoded data removed]",
      "text/plain": [
       "<Figure size 720x360 with 1 Axes>"
      ]
     },
     "metadata": {
      "needs_background": "light"
     },
     "output_type": "display_data"
    }
   ],
   "source": [
    "good_peter_center.pivot_table(index='rooms', values='metr_price', aggfunc='median').plot(kind='bar', figsize=(10,5))"
   ]
  },
  {
   "cell_type": "markdown",
   "metadata": {},
   "source": [
    "\n",
    "\n",
    "Как видно, полная стоимость растёт с увеличением числа комнат, но, вклад в цену здесь делает скорее увеличение площади, что подтверждает второй график: медианная стоимость квадратного метра в общем падает с ростом числа комнат, за исключением 7 комнат, что нельзя считать за тенценцию, потому мало количество квартир с числом комнат - 7. Стоит отметить, что в целом по городу, падение стоимости метра происходило только до 4 комнат, затем шёл рост, что объясняется тем, что большая часть квартир с числом комнат - 6 являются очень дорогими. Стоимость квадратного метра в студиях в центре ниже чем в однокомнатных квартирах, что отличается от всего города."
   ]
  },
  {
   "cell_type": "markdown",
   "metadata": {},
   "source": [
    "***Зависимость стоимости от этажа***"
   ]
  },
  {
   "cell_type": "code",
   "execution_count": 226,
   "metadata": {},
   "outputs": [
    {
     "data": {
      "text/plain": [
       "<AxesSubplot:xlabel='floor_category'>"
      ]
     },
     "execution_count": 226,
     "metadata": {},
     "output_type": "execute_result"
    },
    {
     "data": {
      "image/png": "[encoded data removed]",
      "text/plain": [
       "<Figure size 720x360 with 1 Axes>"
      ]
     },
     "metadata": {
      "needs_background": "light"
     },
     "output_type": "display_data"
    }
   ],
   "source": [
    "good_peter_center.pivot_table(index='floor_category', values='last_price', aggfunc='median').plot(kind='bar', figsize=(10,5))"
   ]
  },
  {
   "cell_type": "markdown",
   "metadata": {},
   "source": [
    "\n",
    "\n",
    "Как можно видеть из столбчатой диаграммы самые высокие медианные значения стоимости получаются на этажах, которые не являются ни первыми ни последними. Самые дешевые квартиры, как правило, на первом этаже, затем идут квартиры на последних этажах."
   ]
  },
  {
   "cell_type": "markdown",
   "metadata": {},
   "source": [
    "#### Вывод\n",
    "\n",
    "\n",
    "* Среднее значение площади в центра города 83 м2, медианное значение 74 м2, что на 22 м2 выше, чем по всем населенным пунктам. В центре квартиры в среднем больше по площади.\n",
    "* Средняя стиомсть квартир в центре  - 12.7 млн. Медианное значение 10 млн. 75% квартир в центре стоят не более 15 млн. Таким образом, средняя стоимость квартир в центре больше на 6.2 млн, а медианное значение на 5,4 млн. \n",
    "* Среднее количество комнат в центре - 3, медианное значение тоже 3. Стоит отметить, что в центре среднее количество комнат на одну больше, чем по всему городу.\n",
    "* Среднее и медианное значениея высоты потолков порядка 3,2 м. Что выше чем в среднем по городу и области на 0,5 м.\n",
    "* Как можно видеть из графика, а также значения коэффициента корреляции пирсона - чем выше площадь, тем выше цена. Но корреляция немного слабее, чем по остальному городу.\n",
    "* Как и ранее - чем дальше от центра тем меньше цена, но значения коэффициента корреляции слишком мало, чтобы говорить о точной зависимости.\n",
    "* Как видно, полная стоимость растёт с увеличением числа комнат, но, вклад в цену здесь делает скорее увеличение площади, что подтверждает второй график: медианная стоимость квадратного метра в общем падает с ростом числа комнат, за исключением 7 комнат, что нельзя считать за тенценцию, потому мало количество квартир с числом комнат - 7. Стоит отметить, что в целом по городу, падение стоимости метра происходило только до 4 комнат, затем шёл рост, что объясняется тем, что большая часть квартир с числом комнат - 6 являются очень дорогими. Стоимость квадратного метра в студиях в центре ниже чем в однокомнатных квартирах, что отличается от всего города.\n",
    "* Как можно видеть из столбчатой диаграммы самые высокие медианные значения стоимости получаются на этажах, которые не являются ни первыми ни последними. Самые дешевые квартиры, как правило, на первом этаже, затем идут квартиры на последних этажах."
   ]
  },
  {
   "cell_type": "markdown",
   "metadata": {},
   "source": [
    "<a id=\"conclusion\"></a>\n",
    "## Общий вывод"
   ]
  },
  {
   "cell_type": "markdown",
   "metadata": {},
   "source": [
    "* В данных были обнаружены многочисленные пропуски;\n",
    "* В результате предобработки были заполнены пропуски в столбцах с информацией о\n",
    "    * балконах;\n",
    "    * является ли квартира апартаментом;\n",
    "    * о жилой площади;\n",
    "    * о том, есть ли в округе пруды и парки; \n",
    "* В остальных столбцах, где представлены количественные данные, заполнить их не представляется возможным так, что не повлиять на распределение вечелин. \n",
    "* В информации о площадях, высотах потолков, количестве этажей предположительно из-за того, что их необязательно заполнять при формировании объявления. \n",
    "* Пропуски в столбце с количеством дней размещения объявления появились скорее всего в результате программного сбоя, либо это действующие объявления. \n",
    "* Были добавлены столбцы с днём, месяцем, годом публикации; \n",
    "* Рассчитаны и добавлены столбцы с ценой за квадратный метр, долей площади кухни и жилой площади;\n",
    "* Изучены характеристики квартир:\n",
    "    * Площадь: медианное значение 52 м2. 75% квартир имеют площадь до 70м2. Интересно, что количество квартир площадью менее 40 метров составляет всего 25% от общей массы квартир. Квартиры площадью более 300 м^2 можно считать выбросами.  \n",
    "    * Стоимость: ходе анализа были выявлены выбивающиеся из общей выборки данные - слишком дорогие квартиры стоимость более 50 млн. Медианная стоимость квартир - 4,65 млн.\n",
    "    * Количество комнат: график имеет вид распределения пуассона. 75% квартир с количеством комнат не более 3х. Медианное значение - 2 комнаты. В ходе анализа были убраны из датафрейма квартиры с аномально большим количеством комнат. Присутствуют квартиры с 0 комнат, это либо студии, либо квартиры со свободной планировкой. Выбросами можно считать квартиры с количеством комнат больше 8.\n",
    "    * Высота потолков: медианное значение высоты потолка - 2.65, форма распределения - распределение пуассона. Выбросами можно считать высоту более 5 м и менее 2 м. \n",
    "    * Время продажи: среднее значение времени продажи квартиры - 180 дней, медианное значение  - 95 дней. Можно считать, что продажи прошли очень быстро если их время заняло менее 2 дней, очень долго - более 800 дней. \n",
    "* Из данных убраны строкими с редкими и аномальными значениями;    \n",
    "* Изучены влияния характеристик на цену квартиры:\n",
    "    * Площадь сильнее всего влияет на цену прямопропорционально;\n",
    "    * Было выявлено, что цена растёт с ростом количества комнат, но связанно это с увеличением площади. А цена квадртаного метра падает вплоть до количества комнат - 4. Самая дорогая стоимость квадратного метра в студиях и квартирах со свободной планировкой;\n",
    "    * Самые дешевые квартиры на первых этажах, затем идут квартиры на последнем этаже, а потом уже квартиры на остальных этажах;\n",
    "    * Очень дорогие квартиры встречаются часто в пределах 20 км, скорее всего, это квартиры, которые входят в город Санкт-Петербург. В целом, чем дальше от центра тем меньше встречается дорогих квартир;\n",
    "    * Как видно из графиков, день недели размещения никак не влияет на стоимость квартир;\n",
    "    * Что касается месяцев, видно, в апреле цена резко взлетает и постепенно падает. В июле снова небольшой подъем до значений зимы;\n",
    "    * Из графика зависимости от года, видно, что в 2014 году был всплеск цен, затем рынок охладился и падал вплоть до 2016, далее стагнация до 2019 года;\n",
    "* Были выделены 10 населенных пунктов с наибольшим количеством объявлений\n",
    "    * Самые дорогие в среднем квартиры в Санкт-Петербурге;\n",
    "    * Самые дешевые в среднем квартиры в Выборге;\n",
    "* Изучена область центра Санкт-Петербурга:\n",
    "    * центр - квартиры входящий в область до 8 км от центра включительно;\n",
    "    * среднее значение площади в центра города 83 м2, медианное значение 74 м2, что на 22 м2 выше, чем по всем населенным пунктам. В центре квартиры в среднем больше по площади;\n",
    "    * Средняя стиомсть квартир в центре  - 12.7 млн. Медианное значение 10 млн. 75% квартир в центре стоят не более 15 млн. Таким образом, средняя стоимость квартир в центре больше на 6.2 млн, а медианное значение на 5,4 млн;\n",
    "    * Среднее количество комнат в центре - 3, медианное значение тоже 3. Стоит отметить, что в центре среднее количество комнат на одну больше, чем по всему городу;\n",
    "    * Среднее и медианное значениея высоты потолков порядка 3,2 м. Что выше чем в среднем по городу и области на 0,5 м;\n",
    "    * Зависимость цены от количества квадратных метров немного менее заметная чем в целом по городу и области;\n",
    "    * Чем дальше от центра тем меньше цена, но зависимость крайне слабая\n",
    "    * Стоимость квадратного метра падает с увеличением числа комнат. Стоимость квадратного метра в студих здесь ниже чем в однокомнатных, что отличается от остального города и области;\n",
    "    * Самые низкие цены на последних и первых этажах, как и в целом по области и городу, но отличие стоимости последних этажей и остальных кроме первого ниже чем по всей области и городу.\n",
    "    "
   ]
  }
 ],
 "metadata": {
  "ExecuteTimeLog": [
   {
    "duration": 502,
    "start_time": "2022-01-26T16:11:53.962Z"
   },
   {
    "duration": 65,
    "start_time": "2022-01-26T16:13:01.348Z"
   },
   {
    "duration": 90,
    "start_time": "2022-01-26T16:13:28.040Z"
   },
   {
    "duration": 70,
    "start_time": "2022-01-26T16:13:45.245Z"
   },
   {
    "duration": 24,
    "start_time": "2022-01-26T16:14:53.541Z"
   },
   {
    "duration": 8,
    "start_time": "2022-01-26T16:20:31.715Z"
   },
   {
    "duration": 4,
    "start_time": "2022-01-26T16:20:40.072Z"
   },
   {
    "duration": 261,
    "start_time": "2022-01-26T16:21:36.776Z"
   },
   {
    "duration": 13,
    "start_time": "2022-01-26T16:21:44.173Z"
   },
   {
    "duration": 9,
    "start_time": "2022-01-26T16:21:50.394Z"
   },
   {
    "duration": 788,
    "start_time": "2022-02-10T15:04:08.247Z"
   },
   {
    "duration": 143,
    "start_time": "2022-02-10T15:04:09.038Z"
   },
   {
    "duration": 61,
    "start_time": "2022-02-10T15:04:09.184Z"
   },
   {
    "duration": 10,
    "start_time": "2022-02-10T15:04:09.248Z"
   },
   {
    "duration": 5,
    "start_time": "2022-02-10T15:04:09.260Z"
   },
   {
    "duration": 68,
    "start_time": "2022-02-10T15:04:09.268Z"
   },
   {
    "duration": 11,
    "start_time": "2022-02-10T15:04:09.339Z"
   },
   {
    "duration": 11,
    "start_time": "2022-02-10T15:04:09.354Z"
   },
   {
    "duration": 71,
    "start_time": "2022-02-10T15:04:09.368Z"
   },
   {
    "duration": 26,
    "start_time": "2022-02-10T15:04:09.441Z"
   },
   {
    "duration": 918,
    "start_time": "2022-02-10T15:04:09.469Z"
   },
   {
    "duration": 956,
    "start_time": "2022-02-10T15:04:10.390Z"
   },
   {
    "duration": 8,
    "start_time": "2022-02-10T15:04:11.348Z"
   },
   {
    "duration": 17,
    "start_time": "2022-02-10T15:04:11.358Z"
   },
   {
    "duration": 22,
    "start_time": "2022-02-10T15:04:11.378Z"
   },
   {
    "duration": 17,
    "start_time": "2022-02-10T15:04:11.402Z"
   },
   {
    "duration": 7,
    "start_time": "2022-02-10T15:04:11.433Z"
   },
   {
    "duration": 37,
    "start_time": "2022-02-10T15:04:11.443Z"
   },
   {
    "duration": 23,
    "start_time": "2022-02-10T15:04:11.482Z"
   },
   {
    "duration": 28,
    "start_time": "2022-02-10T15:04:11.507Z"
   },
   {
    "duration": 8,
    "start_time": "2022-02-10T15:04:11.539Z"
   },
   {
    "duration": 19,
    "start_time": "2022-02-10T15:04:11.550Z"
   },
   {
    "duration": 12,
    "start_time": "2022-02-10T15:04:11.575Z"
   },
   {
    "duration": 54,
    "start_time": "2022-02-10T15:04:11.591Z"
   },
   {
    "duration": 37,
    "start_time": "2022-02-10T15:04:11.648Z"
   },
   {
    "duration": 62,
    "start_time": "2022-02-10T15:04:11.687Z"
   },
   {
    "duration": 6,
    "start_time": "2022-02-10T15:04:11.751Z"
   },
   {
    "duration": 44,
    "start_time": "2022-02-10T15:04:11.759Z"
   },
   {
    "duration": 29,
    "start_time": "2022-02-10T15:04:11.806Z"
   },
   {
    "duration": 11,
    "start_time": "2022-02-10T15:04:11.837Z"
   },
   {
    "duration": 34,
    "start_time": "2022-02-10T15:04:11.850Z"
   },
   {
    "duration": 5,
    "start_time": "2022-02-10T15:04:11.886Z"
   },
   {
    "duration": 42,
    "start_time": "2022-02-10T15:04:11.894Z"
   },
   {
    "duration": 6,
    "start_time": "2022-02-10T15:04:11.939Z"
   },
   {
    "duration": 17,
    "start_time": "2022-02-10T15:04:11.947Z"
   },
   {
    "duration": 69,
    "start_time": "2022-02-10T15:04:11.967Z"
   },
   {
    "duration": 488,
    "start_time": "2022-02-10T15:04:12.039Z"
   },
   {
    "duration": 499,
    "start_time": "2022-02-10T15:04:12.533Z"
   },
   {
    "duration": 9,
    "start_time": "2022-02-10T15:04:13.036Z"
   },
   {
    "duration": 22,
    "start_time": "2022-02-10T15:04:13.049Z"
   },
   {
    "duration": 26,
    "start_time": "2022-02-10T15:04:13.074Z"
   },
   {
    "duration": 8,
    "start_time": "2022-02-10T15:04:13.133Z"
   },
   {
    "duration": 17,
    "start_time": "2022-02-10T15:04:13.143Z"
   },
   {
    "duration": 7,
    "start_time": "2022-02-10T15:04:13.162Z"
   },
   {
    "duration": 66,
    "start_time": "2022-02-10T15:04:13.172Z"
   },
   {
    "duration": 11,
    "start_time": "2022-02-10T15:04:13.241Z"
   },
   {
    "duration": 27,
    "start_time": "2022-02-10T15:04:13.257Z"
   },
   {
    "duration": 5,
    "start_time": "2022-02-10T15:04:13.287Z"
   },
   {
    "duration": 52,
    "start_time": "2022-02-10T15:04:13.294Z"
   },
   {
    "duration": 34,
    "start_time": "2022-02-10T15:04:13.349Z"
   },
   {
    "duration": 15,
    "start_time": "2022-02-10T15:04:13.385Z"
   },
   {
    "duration": 3973,
    "start_time": "2022-02-10T15:04:13.402Z"
   },
   {
    "duration": 19,
    "start_time": "2022-02-10T15:04:17.378Z"
   },
   {
    "duration": 39,
    "start_time": "2022-02-10T15:04:17.399Z"
   },
   {
    "duration": 17,
    "start_time": "2022-02-10T15:04:17.440Z"
   },
   {
    "duration": 480,
    "start_time": "2022-02-10T15:04:17.459Z"
   },
   {
    "duration": 10,
    "start_time": "2022-02-10T15:04:17.941Z"
   },
   {
    "duration": 466,
    "start_time": "2022-02-10T15:04:17.954Z"
   },
   {
    "duration": 16,
    "start_time": "2022-02-10T15:04:18.422Z"
   },
   {
    "duration": 428,
    "start_time": "2022-02-10T15:04:18.441Z"
   },
   {
    "duration": 428,
    "start_time": "2022-02-10T15:04:18.872Z"
   },
   {
    "duration": 16,
    "start_time": "2022-02-10T15:04:19.303Z"
   },
   {
    "duration": 13,
    "start_time": "2022-02-10T15:04:19.333Z"
   },
   {
    "duration": 22,
    "start_time": "2022-02-10T15:04:19.348Z"
   },
   {
    "duration": 412,
    "start_time": "2022-02-10T15:04:19.372Z"
   },
   {
    "duration": 10,
    "start_time": "2022-02-10T15:04:19.787Z"
   },
   {
    "duration": 388,
    "start_time": "2022-02-10T15:04:19.800Z"
   },
   {
    "duration": 14,
    "start_time": "2022-02-10T15:04:20.199Z"
   },
   {
    "duration": 18,
    "start_time": "2022-02-10T15:04:20.234Z"
   },
   {
    "duration": 12,
    "start_time": "2022-02-10T15:04:20.255Z"
   },
   {
    "duration": 20,
    "start_time": "2022-02-10T15:04:20.269Z"
   },
   {
    "duration": 44,
    "start_time": "2022-02-10T15:04:20.291Z"
   },
   {
    "duration": 351,
    "start_time": "2022-02-10T15:04:20.338Z"
   },
   {
    "duration": 18,
    "start_time": "2022-02-10T15:04:20.692Z"
   },
   {
    "duration": 29,
    "start_time": "2022-02-10T15:04:20.712Z"
   },
   {
    "duration": 356,
    "start_time": "2022-02-10T15:04:20.743Z"
   },
   {
    "duration": 333,
    "start_time": "2022-02-10T15:04:21.101Z"
   },
   {
    "duration": 440,
    "start_time": "2022-02-10T15:04:21.437Z"
   },
   {
    "duration": 10,
    "start_time": "2022-02-10T15:04:21.880Z"
   },
   {
    "duration": 497,
    "start_time": "2022-02-10T15:04:21.893Z"
   },
   {
    "duration": 382,
    "start_time": "2022-02-10T15:04:22.393Z"
   },
   {
    "duration": 628,
    "start_time": "2022-02-10T15:04:22.778Z"
   },
   {
    "duration": 470,
    "start_time": "2022-02-10T15:04:23.409Z"
   },
   {
    "duration": 632,
    "start_time": "2022-02-10T15:04:23.881Z"
   },
   {
    "duration": 319,
    "start_time": "2022-02-10T15:04:24.515Z"
   },
   {
    "duration": 328,
    "start_time": "2022-02-10T15:04:24.837Z"
   },
   {
    "duration": 306,
    "start_time": "2022-02-10T15:04:25.168Z"
   },
   {
    "duration": 622,
    "start_time": "2022-02-10T15:04:25.477Z"
   },
   {
    "duration": 1094,
    "start_time": "2022-02-10T15:04:26.102Z"
   },
   {
    "duration": 46,
    "start_time": "2022-02-10T15:04:27.199Z"
   },
   {
    "duration": 358,
    "start_time": "2022-02-10T15:04:27.247Z"
   },
   {
    "duration": 27,
    "start_time": "2022-02-10T15:04:27.607Z"
   },
   {
    "duration": 14,
    "start_time": "2022-02-10T15:04:27.636Z"
   },
   {
    "duration": 579,
    "start_time": "2022-02-10T15:04:27.653Z"
   },
   {
    "duration": 17,
    "start_time": "2022-02-10T15:04:28.234Z"
   },
   {
    "duration": 14,
    "start_time": "2022-02-10T15:04:28.253Z"
   },
   {
    "duration": 396,
    "start_time": "2022-02-10T15:04:28.269Z"
   },
   {
    "duration": 11,
    "start_time": "2022-02-10T15:04:28.667Z"
   },
   {
    "duration": 343,
    "start_time": "2022-02-10T15:04:28.680Z"
   },
   {
    "duration": 14,
    "start_time": "2022-02-10T15:04:29.025Z"
   },
   {
    "duration": 302,
    "start_time": "2022-02-10T15:04:29.041Z"
   },
   {
    "duration": 10,
    "start_time": "2022-02-10T15:04:29.345Z"
   },
   {
    "duration": 324,
    "start_time": "2022-02-10T15:04:29.358Z"
   },
   {
    "duration": 498,
    "start_time": "2022-02-10T15:04:29.685Z"
   },
   {
    "duration": 491,
    "start_time": "2022-02-10T15:04:30.185Z"
   },
   {
    "duration": 343,
    "start_time": "2022-02-10T15:04:30.679Z"
   },
   {
    "duration": 351,
    "start_time": "2022-02-10T15:04:31.024Z"
   },
   {
    "duration": 318,
    "start_time": "2022-02-10T15:04:31.378Z"
   },
   {
    "duration": 62,
    "start_time": "2022-02-10T15:10:48.107Z"
   },
   {
    "duration": 790,
    "start_time": "2022-02-10T17:50:47.912Z"
   },
   {
    "duration": 164,
    "start_time": "2022-02-10T17:50:48.705Z"
   },
   {
    "duration": 52,
    "start_time": "2022-02-10T17:50:48.873Z"
   },
   {
    "duration": 40,
    "start_time": "2022-02-10T17:50:48.929Z"
   },
   {
    "duration": 7,
    "start_time": "2022-02-10T17:50:48.972Z"
   },
   {
    "duration": 51,
    "start_time": "2022-02-10T17:50:48.982Z"
   },
   {
    "duration": 40,
    "start_time": "2022-02-10T17:50:49.036Z"
   },
   {
    "duration": 14,
    "start_time": "2022-02-10T17:50:49.081Z"
   },
   {
    "duration": 47,
    "start_time": "2022-02-10T17:50:49.098Z"
   },
   {
    "duration": 28,
    "start_time": "2022-02-10T17:50:49.147Z"
   },
   {
    "duration": 1048,
    "start_time": "2022-02-10T17:50:49.178Z"
   },
   {
    "duration": 857,
    "start_time": "2022-02-10T17:50:50.229Z"
   },
   {
    "duration": 7,
    "start_time": "2022-02-10T17:50:51.089Z"
   },
   {
    "duration": 15,
    "start_time": "2022-02-10T17:50:51.098Z"
   },
   {
    "duration": 19,
    "start_time": "2022-02-10T17:50:51.116Z"
   },
   {
    "duration": 36,
    "start_time": "2022-02-10T17:50:51.137Z"
   },
   {
    "duration": 8,
    "start_time": "2022-02-10T17:50:51.176Z"
   },
   {
    "duration": 11,
    "start_time": "2022-02-10T17:50:51.186Z"
   },
   {
    "duration": 9,
    "start_time": "2022-02-10T17:50:51.199Z"
   },
   {
    "duration": 9,
    "start_time": "2022-02-10T17:50:51.211Z"
   },
   {
    "duration": 10,
    "start_time": "2022-02-10T17:50:51.222Z"
   },
   {
    "duration": 36,
    "start_time": "2022-02-10T17:50:51.235Z"
   },
   {
    "duration": 8,
    "start_time": "2022-02-10T17:50:51.277Z"
   },
   {
    "duration": 40,
    "start_time": "2022-02-10T17:50:51.288Z"
   },
   {
    "duration": 64,
    "start_time": "2022-02-10T17:50:51.331Z"
   },
   {
    "duration": 43,
    "start_time": "2022-02-10T17:50:51.397Z"
   },
   {
    "duration": 31,
    "start_time": "2022-02-10T17:50:51.442Z"
   },
   {
    "duration": 46,
    "start_time": "2022-02-10T17:50:51.475Z"
   },
   {
    "duration": 11,
    "start_time": "2022-02-10T17:50:51.523Z"
   },
   {
    "duration": 43,
    "start_time": "2022-02-10T17:50:51.537Z"
   },
   {
    "duration": 36,
    "start_time": "2022-02-10T17:50:51.582Z"
   },
   {
    "duration": 5,
    "start_time": "2022-02-10T17:50:51.621Z"
   },
   {
    "duration": 12,
    "start_time": "2022-02-10T17:50:51.628Z"
   },
   {
    "duration": 31,
    "start_time": "2022-02-10T17:50:51.643Z"
   },
   {
    "duration": 8,
    "start_time": "2022-02-10T17:50:51.676Z"
   },
   {
    "duration": 41,
    "start_time": "2022-02-10T17:50:51.686Z"
   },
   {
    "duration": 550,
    "start_time": "2022-02-10T17:50:51.730Z"
   },
   {
    "duration": 503,
    "start_time": "2022-02-10T17:50:52.282Z"
   },
   {
    "duration": 7,
    "start_time": "2022-02-10T17:50:52.788Z"
   },
   {
    "duration": 15,
    "start_time": "2022-02-10T17:50:52.798Z"
   },
   {
    "duration": 24,
    "start_time": "2022-02-10T17:50:52.816Z"
   },
   {
    "duration": 7,
    "start_time": "2022-02-10T17:50:52.842Z"
   },
   {
    "duration": 33,
    "start_time": "2022-02-10T17:50:52.851Z"
   },
   {
    "duration": 7,
    "start_time": "2022-02-10T17:50:52.887Z"
   },
   {
    "duration": 34,
    "start_time": "2022-02-10T17:50:52.896Z"
   },
   {
    "duration": 10,
    "start_time": "2022-02-10T17:50:52.932Z"
   },
   {
    "duration": 26,
    "start_time": "2022-02-10T17:50:52.945Z"
   },
   {
    "duration": 5,
    "start_time": "2022-02-10T17:50:52.974Z"
   },
   {
    "duration": 15,
    "start_time": "2022-02-10T17:50:52.982Z"
   },
   {
    "duration": 25,
    "start_time": "2022-02-10T17:50:52.999Z"
   },
   {
    "duration": 16,
    "start_time": "2022-02-10T17:50:53.026Z"
   },
   {
    "duration": 4799,
    "start_time": "2022-02-10T17:50:53.044Z"
   },
   {
    "duration": 30,
    "start_time": "2022-02-10T17:50:57.846Z"
   },
   {
    "duration": 18,
    "start_time": "2022-02-10T17:50:57.878Z"
   },
   {
    "duration": 16,
    "start_time": "2022-02-10T17:50:57.898Z"
   },
   {
    "duration": 534,
    "start_time": "2022-02-10T17:50:57.916Z"
   },
   {
    "duration": 21,
    "start_time": "2022-02-10T17:50:58.452Z"
   },
   {
    "duration": 5211,
    "start_time": "2022-02-10T17:50:58.475Z"
   },
   {
    "duration": 85325,
    "start_time": "2022-02-10T17:49:38.365Z"
   },
   {
    "duration": 85314,
    "start_time": "2022-02-10T17:49:38.377Z"
   },
   {
    "duration": 85310,
    "start_time": "2022-02-10T17:49:38.383Z"
   },
   {
    "duration": 85307,
    "start_time": "2022-02-10T17:49:38.387Z"
   },
   {
    "duration": 85303,
    "start_time": "2022-02-10T17:49:38.392Z"
   },
   {
    "duration": 85299,
    "start_time": "2022-02-10T17:49:38.397Z"
   },
   {
    "duration": 85296,
    "start_time": "2022-02-10T17:49:38.402Z"
   },
   {
    "duration": 85292,
    "start_time": "2022-02-10T17:49:38.407Z"
   },
   {
    "duration": 85288,
    "start_time": "2022-02-10T17:49:38.412Z"
   },
   {
    "duration": 85281,
    "start_time": "2022-02-10T17:49:38.420Z"
   },
   {
    "duration": 85278,
    "start_time": "2022-02-10T17:49:38.425Z"
   },
   {
    "duration": 85274,
    "start_time": "2022-02-10T17:49:38.430Z"
   },
   {
    "duration": 85270,
    "start_time": "2022-02-10T17:49:38.435Z"
   },
   {
    "duration": 85261,
    "start_time": "2022-02-10T17:49:38.446Z"
   },
   {
    "duration": 85257,
    "start_time": "2022-02-10T17:49:38.451Z"
   },
   {
    "duration": 85253,
    "start_time": "2022-02-10T17:49:38.456Z"
   },
   {
    "duration": 85248,
    "start_time": "2022-02-10T17:49:38.462Z"
   },
   {
    "duration": 85245,
    "start_time": "2022-02-10T17:49:38.467Z"
   },
   {
    "duration": 85242,
    "start_time": "2022-02-10T17:49:38.471Z"
   },
   {
    "duration": 85237,
    "start_time": "2022-02-10T17:49:38.477Z"
   },
   {
    "duration": 85234,
    "start_time": "2022-02-10T17:49:38.482Z"
   },
   {
    "duration": 85231,
    "start_time": "2022-02-10T17:49:38.486Z"
   },
   {
    "duration": 85227,
    "start_time": "2022-02-10T17:49:38.491Z"
   },
   {
    "duration": 85224,
    "start_time": "2022-02-10T17:49:38.496Z"
   },
   {
    "duration": 85268,
    "start_time": "2022-02-10T17:49:38.501Z"
   },
   {
    "duration": 85264,
    "start_time": "2022-02-10T17:49:38.506Z"
   },
   {
    "duration": 85261,
    "start_time": "2022-02-10T17:49:38.511Z"
   },
   {
    "duration": 85258,
    "start_time": "2022-02-10T17:49:38.515Z"
   },
   {
    "duration": 85255,
    "start_time": "2022-02-10T17:49:38.520Z"
   },
   {
    "duration": 85251,
    "start_time": "2022-02-10T17:49:38.525Z"
   },
   {
    "duration": 85219,
    "start_time": "2022-02-10T17:49:38.559Z"
   },
   {
    "duration": 85215,
    "start_time": "2022-02-10T17:49:38.564Z"
   },
   {
    "duration": 85044,
    "start_time": "2022-02-10T17:49:38.737Z"
   },
   {
    "duration": 85040,
    "start_time": "2022-02-10T17:49:38.742Z"
   },
   {
    "duration": 85037,
    "start_time": "2022-02-10T17:49:38.746Z"
   },
   {
    "duration": 85034,
    "start_time": "2022-02-10T17:49:38.751Z"
   },
   {
    "duration": 84946,
    "start_time": "2022-02-10T17:49:38.840Z"
   },
   {
    "duration": 84942,
    "start_time": "2022-02-10T17:49:38.845Z"
   },
   {
    "duration": 84931,
    "start_time": "2022-02-10T17:49:38.858Z"
   },
   {
    "duration": 84920,
    "start_time": "2022-02-10T17:49:38.870Z"
   },
   {
    "duration": 84917,
    "start_time": "2022-02-10T17:49:38.875Z"
   },
   {
    "duration": 84904,
    "start_time": "2022-02-10T17:49:38.889Z"
   },
   {
    "duration": 84901,
    "start_time": "2022-02-10T17:49:38.894Z"
   },
   {
    "duration": 84891,
    "start_time": "2022-02-10T17:49:38.906Z"
   },
   {
    "duration": 84879,
    "start_time": "2022-02-10T17:49:38.919Z"
   },
   {
    "duration": 84874,
    "start_time": "2022-02-10T17:49:38.926Z"
   },
   {
    "duration": 84863,
    "start_time": "2022-02-10T17:49:38.938Z"
   },
   {
    "duration": 84860,
    "start_time": "2022-02-10T17:49:38.943Z"
   },
   {
    "duration": 84848,
    "start_time": "2022-02-10T17:49:38.956Z"
   },
   {
    "duration": 84845,
    "start_time": "2022-02-10T17:49:38.960Z"
   },
   {
    "duration": 463,
    "start_time": "2022-02-10T17:51:42.452Z"
   },
   {
    "duration": 512,
    "start_time": "2022-02-10T17:51:47.919Z"
   },
   {
    "duration": 12,
    "start_time": "2022-02-10T17:51:48.434Z"
   },
   {
    "duration": 435,
    "start_time": "2022-02-10T17:51:48.449Z"
   },
   {
    "duration": 441,
    "start_time": "2022-02-10T17:51:48.887Z"
   },
   {
    "duration": 17,
    "start_time": "2022-02-10T17:51:49.330Z"
   },
   {
    "duration": 29,
    "start_time": "2022-02-10T17:51:49.349Z"
   },
   {
    "duration": 20,
    "start_time": "2022-02-10T17:51:49.381Z"
   },
   {
    "duration": 437,
    "start_time": "2022-02-10T17:51:49.405Z"
   },
   {
    "duration": 11,
    "start_time": "2022-02-10T17:51:49.845Z"
   },
   {
    "duration": 367,
    "start_time": "2022-02-10T17:51:49.870Z"
   },
   {
    "duration": 12,
    "start_time": "2022-02-10T17:51:50.239Z"
   },
   {
    "duration": 28,
    "start_time": "2022-02-10T17:51:50.253Z"
   },
   {
    "duration": 13,
    "start_time": "2022-02-10T17:51:50.283Z"
   },
   {
    "duration": 12,
    "start_time": "2022-02-10T17:51:50.299Z"
   },
   {
    "duration": 10,
    "start_time": "2022-02-10T17:51:50.313Z"
   },
   {
    "duration": 257,
    "start_time": "2022-02-10T17:51:50.325Z"
   },
   {
    "duration": 85279,
    "start_time": "2022-02-10T17:50:25.307Z"
   },
   {
    "duration": 85267,
    "start_time": "2022-02-10T17:50:25.321Z"
   },
   {
    "duration": 85254,
    "start_time": "2022-02-10T17:50:25.335Z"
   },
   {
    "duration": 85239,
    "start_time": "2022-02-10T17:50:25.352Z"
   },
   {
    "duration": 85234,
    "start_time": "2022-02-10T17:50:25.358Z"
   },
   {
    "duration": 85222,
    "start_time": "2022-02-10T17:50:25.372Z"
   },
   {
    "duration": 85209,
    "start_time": "2022-02-10T17:50:25.386Z"
   },
   {
    "duration": 85205,
    "start_time": "2022-02-10T17:50:25.392Z"
   },
   {
    "duration": 85192,
    "start_time": "2022-02-10T17:50:25.406Z"
   },
   {
    "duration": 85180,
    "start_time": "2022-02-10T17:50:25.420Z"
   },
   {
    "duration": 85176,
    "start_time": "2022-02-10T17:50:25.425Z"
   },
   {
    "duration": 85163,
    "start_time": "2022-02-10T17:50:25.440Z"
   },
   {
    "duration": 85151,
    "start_time": "2022-02-10T17:50:25.453Z"
   },
   {
    "duration": 85146,
    "start_time": "2022-02-10T17:50:25.460Z"
   },
   {
    "duration": 85143,
    "start_time": "2022-02-10T17:50:25.465Z"
   },
   {
    "duration": 85138,
    "start_time": "2022-02-10T17:50:25.471Z"
   },
   {
    "duration": 85135,
    "start_time": "2022-02-10T17:50:25.476Z"
   },
   {
    "duration": 85126,
    "start_time": "2022-02-10T17:50:25.486Z"
   },
   {
    "duration": 85122,
    "start_time": "2022-02-10T17:50:25.492Z"
   },
   {
    "duration": 85118,
    "start_time": "2022-02-10T17:50:25.498Z"
   },
   {
    "duration": 85113,
    "start_time": "2022-02-10T17:50:25.504Z"
   },
   {
    "duration": 85109,
    "start_time": "2022-02-10T17:50:25.510Z"
   },
   {
    "duration": 85105,
    "start_time": "2022-02-10T17:50:25.515Z"
   },
   {
    "duration": 85101,
    "start_time": "2022-02-10T17:50:25.521Z"
   },
   {
    "duration": 85096,
    "start_time": "2022-02-10T17:50:25.527Z"
   },
   {
    "duration": 85092,
    "start_time": "2022-02-10T17:50:25.533Z"
   },
   {
    "duration": 85130,
    "start_time": "2022-02-10T17:50:25.539Z"
   },
   {
    "duration": 85127,
    "start_time": "2022-02-10T17:50:25.544Z"
   },
   {
    "duration": 85122,
    "start_time": "2022-02-10T17:50:25.550Z"
   },
   {
    "duration": 85109,
    "start_time": "2022-02-10T17:50:25.565Z"
   },
   {
    "duration": 85104,
    "start_time": "2022-02-10T17:50:25.571Z"
   },
   {
    "duration": 85100,
    "start_time": "2022-02-10T17:50:25.577Z"
   },
   {
    "duration": 85096,
    "start_time": "2022-02-10T17:50:25.582Z"
   },
   {
    "duration": 85092,
    "start_time": "2022-02-10T17:50:25.588Z"
   },
   {
    "duration": 85087,
    "start_time": "2022-02-10T17:50:25.594Z"
   },
   {
    "duration": 424,
    "start_time": "2022-02-10T17:52:14.280Z"
   },
   {
    "duration": 20,
    "start_time": "2022-02-10T17:52:21.849Z"
   },
   {
    "duration": 14,
    "start_time": "2022-02-10T17:52:26.585Z"
   },
   {
    "duration": 368,
    "start_time": "2022-02-10T17:52:27.368Z"
   },
   {
    "duration": 430,
    "start_time": "2022-02-10T17:52:31.418Z"
   },
   {
    "duration": 481,
    "start_time": "2022-02-10T17:52:39.602Z"
   },
   {
    "duration": 12,
    "start_time": "2022-02-10T17:52:41.419Z"
   },
   {
    "duration": 423,
    "start_time": "2022-02-10T17:52:44.323Z"
   },
   {
    "duration": 377,
    "start_time": "2022-02-10T17:52:47.283Z"
   },
   {
    "duration": 691,
    "start_time": "2022-02-10T17:52:50.715Z"
   },
   {
    "duration": 484,
    "start_time": "2022-02-10T17:52:57.548Z"
   },
   {
    "duration": 406,
    "start_time": "2022-02-10T17:56:01.188Z"
   },
   {
    "duration": 12,
    "start_time": "2022-02-10T17:59:39.240Z"
   },
   {
    "duration": 315,
    "start_time": "2022-02-10T18:01:11.852Z"
   },
   {
    "duration": 314,
    "start_time": "2022-02-10T18:01:20.702Z"
   },
   {
    "duration": 779,
    "start_time": "2022-02-11T06:22:30.562Z"
   },
   {
    "duration": 158,
    "start_time": "2022-02-11T06:22:31.343Z"
   },
   {
    "duration": 57,
    "start_time": "2022-02-11T06:22:31.504Z"
   },
   {
    "duration": 9,
    "start_time": "2022-02-11T06:22:31.564Z"
   },
   {
    "duration": 5,
    "start_time": "2022-02-11T06:22:31.576Z"
   },
   {
    "duration": 67,
    "start_time": "2022-02-11T06:22:31.583Z"
   },
   {
    "duration": 11,
    "start_time": "2022-02-11T06:22:31.653Z"
   },
   {
    "duration": 9,
    "start_time": "2022-02-11T06:22:31.667Z"
   },
   {
    "duration": 67,
    "start_time": "2022-02-11T06:22:31.679Z"
   },
   {
    "duration": 10,
    "start_time": "2022-02-11T06:22:31.749Z"
   },
   {
    "duration": 907,
    "start_time": "2022-02-11T06:22:31.762Z"
   },
   {
    "duration": 822,
    "start_time": "2022-02-11T06:22:32.671Z"
   },
   {
    "duration": 6,
    "start_time": "2022-02-11T06:22:33.495Z"
   },
   {
    "duration": 29,
    "start_time": "2022-02-11T06:22:33.504Z"
   },
   {
    "duration": 9,
    "start_time": "2022-02-11T06:22:33.535Z"
   },
   {
    "duration": 7,
    "start_time": "2022-02-11T06:22:33.546Z"
   },
   {
    "duration": 6,
    "start_time": "2022-02-11T06:22:33.555Z"
   },
   {
    "duration": 10,
    "start_time": "2022-02-11T06:22:33.564Z"
   },
   {
    "duration": 9,
    "start_time": "2022-02-11T06:22:33.576Z"
   },
   {
    "duration": 48,
    "start_time": "2022-02-11T06:22:33.587Z"
   },
   {
    "duration": 5,
    "start_time": "2022-02-11T06:22:33.638Z"
   },
   {
    "duration": 7,
    "start_time": "2022-02-11T06:22:33.645Z"
   },
   {
    "duration": 6,
    "start_time": "2022-02-11T06:22:33.660Z"
   },
   {
    "duration": 78,
    "start_time": "2022-02-11T06:22:33.670Z"
   },
   {
    "duration": 38,
    "start_time": "2022-02-11T06:22:33.751Z"
   },
   {
    "duration": 60,
    "start_time": "2022-02-11T06:22:33.791Z"
   },
   {
    "duration": 7,
    "start_time": "2022-02-11T06:22:33.853Z"
   },
   {
    "duration": 39,
    "start_time": "2022-02-11T06:22:33.862Z"
   },
   {
    "duration": 34,
    "start_time": "2022-02-11T06:22:33.904Z"
   },
   {
    "duration": 10,
    "start_time": "2022-02-11T06:22:33.941Z"
   },
   {
    "duration": 35,
    "start_time": "2022-02-11T06:22:33.953Z"
   },
   {
    "duration": 43,
    "start_time": "2022-02-11T06:22:33.990Z"
   },
   {
    "duration": 6,
    "start_time": "2022-02-11T06:22:34.035Z"
   },
   {
    "duration": 6,
    "start_time": "2022-02-11T06:22:34.044Z"
   },
   {
    "duration": 7,
    "start_time": "2022-02-11T06:22:34.053Z"
   },
   {
    "duration": 74,
    "start_time": "2022-02-11T06:22:34.062Z"
   },
   {
    "duration": 471,
    "start_time": "2022-02-11T06:22:34.138Z"
   },
   {
    "duration": 485,
    "start_time": "2022-02-11T06:22:34.611Z"
   },
   {
    "duration": 7,
    "start_time": "2022-02-11T06:22:35.099Z"
   },
   {
    "duration": 32,
    "start_time": "2022-02-11T06:22:35.109Z"
   },
   {
    "duration": 30,
    "start_time": "2022-02-11T06:22:35.143Z"
   },
   {
    "duration": 6,
    "start_time": "2022-02-11T06:22:35.176Z"
   },
   {
    "duration": 16,
    "start_time": "2022-02-11T06:22:35.185Z"
   },
   {
    "duration": 30,
    "start_time": "2022-02-11T06:22:35.203Z"
   },
   {
    "duration": 33,
    "start_time": "2022-02-11T06:22:35.235Z"
   },
   {
    "duration": 9,
    "start_time": "2022-02-11T06:22:35.270Z"
   },
   {
    "duration": 51,
    "start_time": "2022-02-11T06:22:35.281Z"
   },
   {
    "duration": 5,
    "start_time": "2022-02-11T06:22:35.335Z"
   },
   {
    "duration": 17,
    "start_time": "2022-02-11T06:22:35.342Z"
   },
   {
    "duration": 28,
    "start_time": "2022-02-11T06:22:35.361Z"
   },
   {
    "duration": 42,
    "start_time": "2022-02-11T06:22:35.391Z"
   },
   {
    "duration": 3923,
    "start_time": "2022-02-11T06:22:35.436Z"
   },
   {
    "duration": 20,
    "start_time": "2022-02-11T06:22:39.361Z"
   },
   {
    "duration": 22,
    "start_time": "2022-02-11T06:22:39.383Z"
   },
   {
    "duration": 36,
    "start_time": "2022-02-11T06:22:39.408Z"
   },
   {
    "duration": 494,
    "start_time": "2022-02-11T06:22:39.446Z"
   },
   {
    "duration": 11,
    "start_time": "2022-02-11T06:22:39.942Z"
   },
   {
    "duration": 478,
    "start_time": "2022-02-11T06:22:39.956Z"
   },
   {
    "duration": 12,
    "start_time": "2022-02-11T06:22:40.437Z"
   },
   {
    "duration": 403,
    "start_time": "2022-02-11T06:22:40.452Z"
   },
   {
    "duration": 388,
    "start_time": "2022-02-11T06:22:40.858Z"
   },
   {
    "duration": 20,
    "start_time": "2022-02-11T06:22:41.249Z"
   },
   {
    "duration": 12,
    "start_time": "2022-02-11T06:22:41.272Z"
   },
   {
    "duration": 54,
    "start_time": "2022-02-11T06:22:41.287Z"
   },
   {
    "duration": 10,
    "start_time": "2022-02-11T06:22:41.344Z"
   },
   {
    "duration": 354,
    "start_time": "2022-02-11T06:22:41.356Z"
   },
   {
    "duration": 24,
    "start_time": "2022-02-11T06:22:41.713Z"
   },
   {
    "duration": 12,
    "start_time": "2022-02-11T06:22:41.745Z"
   },
   {
    "duration": 10,
    "start_time": "2022-02-11T06:22:41.767Z"
   },
   {
    "duration": 422,
    "start_time": "2022-02-11T06:22:41.780Z"
   },
   {
    "duration": 33,
    "start_time": "2022-02-11T06:22:42.205Z"
   },
   {
    "duration": 11,
    "start_time": "2022-02-11T06:22:42.240Z"
   },
   {
    "duration": 350,
    "start_time": "2022-02-11T06:22:42.253Z"
   },
   {
    "duration": 297,
    "start_time": "2022-02-11T06:22:42.605Z"
   },
   {
    "duration": 475,
    "start_time": "2022-02-11T06:22:42.904Z"
   },
   {
    "duration": 13,
    "start_time": "2022-02-11T06:22:43.381Z"
   },
   {
    "duration": 434,
    "start_time": "2022-02-11T06:22:43.397Z"
   },
   {
    "duration": 434,
    "start_time": "2022-02-11T06:22:43.833Z"
   },
   {
    "duration": 575,
    "start_time": "2022-02-11T06:22:44.269Z"
   },
   {
    "duration": 367,
    "start_time": "2022-02-11T06:22:44.846Z"
   },
   {
    "duration": -2328,
    "start_time": "2022-02-11T06:22:47.543Z"
   },
   {
    "duration": -2375,
    "start_time": "2022-02-11T06:22:47.591Z"
   },
   {
    "duration": -2386,
    "start_time": "2022-02-11T06:22:47.603Z"
   },
   {
    "duration": -2392,
    "start_time": "2022-02-11T06:22:47.611Z"
   },
   {
    "duration": -2399,
    "start_time": "2022-02-11T06:22:47.619Z"
   },
   {
    "duration": -2405,
    "start_time": "2022-02-11T06:22:47.627Z"
   },
   {
    "duration": -2412,
    "start_time": "2022-02-11T06:22:47.635Z"
   },
   {
    "duration": -2417,
    "start_time": "2022-02-11T06:22:47.642Z"
   },
   {
    "duration": -2425,
    "start_time": "2022-02-11T06:22:47.651Z"
   },
   {
    "duration": -2431,
    "start_time": "2022-02-11T06:22:47.658Z"
   },
   {
    "duration": -2438,
    "start_time": "2022-02-11T06:22:47.666Z"
   },
   {
    "duration": -2444,
    "start_time": "2022-02-11T06:22:47.673Z"
   },
   {
    "duration": -2450,
    "start_time": "2022-02-11T06:22:47.681Z"
   },
   {
    "duration": -2471,
    "start_time": "2022-02-11T06:22:47.703Z"
   },
   {
    "duration": -2479,
    "start_time": "2022-02-11T06:22:47.712Z"
   },
   {
    "duration": -2485,
    "start_time": "2022-02-11T06:22:47.720Z"
   },
   {
    "duration": -2492,
    "start_time": "2022-02-11T06:22:47.728Z"
   },
   {
    "duration": -2499,
    "start_time": "2022-02-11T06:22:47.736Z"
   },
   {
    "duration": -2506,
    "start_time": "2022-02-11T06:22:47.745Z"
   },
   {
    "duration": -2512,
    "start_time": "2022-02-11T06:22:47.753Z"
   },
   {
    "duration": -2520,
    "start_time": "2022-02-11T06:22:47.762Z"
   },
   {
    "duration": -2525,
    "start_time": "2022-02-11T06:22:47.769Z"
   },
   {
    "duration": -2532,
    "start_time": "2022-02-11T06:22:47.777Z"
   },
   {
    "duration": -2539,
    "start_time": "2022-02-11T06:22:47.785Z"
   },
   {
    "duration": 4,
    "start_time": "2022-02-11T06:23:33.583Z"
   },
   {
    "duration": 6,
    "start_time": "2022-02-11T06:23:39.330Z"
   },
   {
    "duration": 5,
    "start_time": "2022-02-11T06:23:50.465Z"
   },
   {
    "duration": 5,
    "start_time": "2022-02-11T06:23:55.938Z"
   },
   {
    "duration": 6875,
    "start_time": "2022-02-11T06:25:32.062Z"
   },
   {
    "duration": 61,
    "start_time": "2022-02-11T06:26:03.749Z"
   },
   {
    "duration": 8,
    "start_time": "2022-02-11T06:26:19.449Z"
   },
   {
    "duration": 5,
    "start_time": "2022-02-11T06:26:32.097Z"
   },
   {
    "duration": 15,
    "start_time": "2022-02-11T06:27:06.334Z"
   },
   {
    "duration": 19,
    "start_time": "2022-02-11T06:27:24.808Z"
   },
   {
    "duration": 23,
    "start_time": "2022-02-11T06:27:32.565Z"
   },
   {
    "duration": 20,
    "start_time": "2022-02-11T06:27:53.937Z"
   },
   {
    "duration": 395,
    "start_time": "2022-02-11T06:28:27.470Z"
   },
   {
    "duration": 413,
    "start_time": "2022-02-11T06:28:32.804Z"
   },
   {
    "duration": 6,
    "start_time": "2022-02-11T06:30:54.460Z"
   },
   {
    "duration": 360,
    "start_time": "2022-02-11T06:32:00.046Z"
   },
   {
    "duration": 364,
    "start_time": "2022-02-11T06:32:58.314Z"
   },
   {
    "duration": 442,
    "start_time": "2022-02-11T06:33:09.390Z"
   },
   {
    "duration": 353,
    "start_time": "2022-02-11T06:33:14.399Z"
   },
   {
    "duration": 19,
    "start_time": "2022-02-11T06:34:13.510Z"
   },
   {
    "duration": 5,
    "start_time": "2022-02-11T06:36:12.009Z"
   },
   {
    "duration": 5,
    "start_time": "2022-02-11T06:36:17.296Z"
   },
   {
    "duration": 250,
    "start_time": "2022-02-11T06:39:27.018Z"
   },
   {
    "duration": 7,
    "start_time": "2022-02-11T06:39:40.866Z"
   },
   {
    "duration": 13,
    "start_time": "2022-02-11T06:40:09.838Z"
   },
   {
    "duration": 10,
    "start_time": "2022-02-11T06:40:23.628Z"
   },
   {
    "duration": 6,
    "start_time": "2022-02-11T06:40:41.452Z"
   },
   {
    "duration": 11,
    "start_time": "2022-02-11T06:40:44.694Z"
   },
   {
    "duration": 12,
    "start_time": "2022-02-11T06:40:50.594Z"
   },
   {
    "duration": 11,
    "start_time": "2022-02-11T06:40:57.343Z"
   },
   {
    "duration": 11,
    "start_time": "2022-02-11T06:41:07.689Z"
   },
   {
    "duration": 245,
    "start_time": "2022-02-11T06:44:30.767Z"
   },
   {
    "duration": 224,
    "start_time": "2022-02-11T06:45:08.679Z"
   },
   {
    "duration": 259,
    "start_time": "2022-02-11T06:45:35.820Z"
   },
   {
    "duration": 7,
    "start_time": "2022-02-11T06:47:08.420Z"
   },
   {
    "duration": 7,
    "start_time": "2022-02-11T06:52:30.282Z"
   },
   {
    "duration": 281,
    "start_time": "2022-02-11T07:09:30.993Z"
   },
   {
    "duration": 172,
    "start_time": "2022-02-11T07:13:01.019Z"
   },
   {
    "duration": 67,
    "start_time": "2022-02-11T07:13:17.201Z"
   },
   {
    "duration": 4,
    "start_time": "2022-02-11T07:13:38.666Z"
   },
   {
    "duration": 3,
    "start_time": "2022-02-11T07:14:00.543Z"
   },
   {
    "duration": 158,
    "start_time": "2022-02-11T07:14:00.551Z"
   },
   {
    "duration": 52,
    "start_time": "2022-02-11T07:14:00.712Z"
   },
   {
    "duration": 19,
    "start_time": "2022-02-11T07:14:00.767Z"
   },
   {
    "duration": 14,
    "start_time": "2022-02-11T07:14:00.789Z"
   },
   {
    "duration": 63,
    "start_time": "2022-02-11T07:14:00.806Z"
   },
   {
    "duration": 15,
    "start_time": "2022-02-11T07:14:00.872Z"
   },
   {
    "duration": 49,
    "start_time": "2022-02-11T07:14:00.890Z"
   },
   {
    "duration": 67,
    "start_time": "2022-02-11T07:14:00.944Z"
   },
   {
    "duration": 14,
    "start_time": "2022-02-11T07:14:01.035Z"
   },
   {
    "duration": 1239,
    "start_time": "2022-02-11T07:14:01.052Z"
   },
   {
    "duration": 880,
    "start_time": "2022-02-11T07:14:02.293Z"
   },
   {
    "duration": 6,
    "start_time": "2022-02-11T07:14:03.176Z"
   },
   {
    "duration": 7,
    "start_time": "2022-02-11T07:14:03.184Z"
   },
   {
    "duration": 38,
    "start_time": "2022-02-11T07:14:03.194Z"
   },
   {
    "duration": 6,
    "start_time": "2022-02-11T07:14:03.235Z"
   },
   {
    "duration": 7,
    "start_time": "2022-02-11T07:14:03.243Z"
   },
   {
    "duration": 7,
    "start_time": "2022-02-11T07:14:03.253Z"
   },
   {
    "duration": 11,
    "start_time": "2022-02-11T07:14:03.262Z"
   },
   {
    "duration": 59,
    "start_time": "2022-02-11T07:14:03.275Z"
   },
   {
    "duration": 7,
    "start_time": "2022-02-11T07:14:03.336Z"
   },
   {
    "duration": 16,
    "start_time": "2022-02-11T07:14:03.345Z"
   },
   {
    "duration": 22,
    "start_time": "2022-02-11T07:14:03.363Z"
   },
   {
    "duration": 63,
    "start_time": "2022-02-11T07:14:03.393Z"
   },
   {
    "duration": 42,
    "start_time": "2022-02-11T07:14:03.461Z"
   },
   {
    "duration": 65,
    "start_time": "2022-02-11T07:14:03.506Z"
   },
   {
    "duration": 9,
    "start_time": "2022-02-11T07:14:03.574Z"
   },
   {
    "duration": 71,
    "start_time": "2022-02-11T07:14:03.586Z"
   },
   {
    "duration": 14,
    "start_time": "2022-02-11T07:14:03.660Z"
   },
   {
    "duration": 13,
    "start_time": "2022-02-11T07:14:03.677Z"
   },
   {
    "duration": 72,
    "start_time": "2022-02-11T07:14:03.692Z"
   },
   {
    "duration": 5,
    "start_time": "2022-02-11T07:14:03.766Z"
   },
   {
    "duration": 7,
    "start_time": "2022-02-11T07:14:03.773Z"
   },
   {
    "duration": 6,
    "start_time": "2022-02-11T07:14:03.783Z"
   },
   {
    "duration": 41,
    "start_time": "2022-02-11T07:14:03.792Z"
   },
   {
    "duration": 38,
    "start_time": "2022-02-11T07:14:03.836Z"
   },
   {
    "duration": 458,
    "start_time": "2022-02-11T07:14:03.877Z"
   },
   {
    "duration": 669,
    "start_time": "2022-02-11T07:14:04.337Z"
   },
   {
    "duration": 7,
    "start_time": "2022-02-11T07:14:05.009Z"
   },
   {
    "duration": 27,
    "start_time": "2022-02-11T07:14:05.018Z"
   },
   {
    "duration": 21,
    "start_time": "2022-02-11T07:14:05.047Z"
   },
   {
    "duration": 7,
    "start_time": "2022-02-11T07:14:05.070Z"
   },
   {
    "duration": 54,
    "start_time": "2022-02-11T07:14:05.079Z"
   },
   {
    "duration": 7,
    "start_time": "2022-02-11T07:14:05.136Z"
   },
   {
    "duration": 35,
    "start_time": "2022-02-11T07:14:05.145Z"
   },
   {
    "duration": 10,
    "start_time": "2022-02-11T07:14:05.183Z"
   },
   {
    "duration": 49,
    "start_time": "2022-02-11T07:14:05.196Z"
   },
   {
    "duration": 7,
    "start_time": "2022-02-11T07:14:05.248Z"
   },
   {
    "duration": 25,
    "start_time": "2022-02-11T07:14:05.258Z"
   },
   {
    "duration": 52,
    "start_time": "2022-02-11T07:14:05.286Z"
   },
   {
    "duration": 18,
    "start_time": "2022-02-11T07:14:05.341Z"
   },
   {
    "duration": 4196,
    "start_time": "2022-02-11T07:14:05.363Z"
   },
   {
    "duration": 20,
    "start_time": "2022-02-11T07:14:09.562Z"
   },
   {
    "duration": 14,
    "start_time": "2022-02-11T07:14:09.585Z"
   },
   {
    "duration": 44,
    "start_time": "2022-02-11T07:14:09.601Z"
   },
   {
    "duration": 449,
    "start_time": "2022-02-11T07:14:09.647Z"
   },
   {
    "duration": 12,
    "start_time": "2022-02-11T07:14:10.098Z"
   },
   {
    "duration": 473,
    "start_time": "2022-02-11T07:14:10.112Z"
   },
   {
    "duration": 21,
    "start_time": "2022-02-11T07:14:10.587Z"
   },
   {
    "duration": 32,
    "start_time": "2022-02-11T07:14:10.611Z"
   },
   {
    "duration": 403,
    "start_time": "2022-02-11T07:14:10.645Z"
   },
   {
    "duration": 410,
    "start_time": "2022-02-11T07:14:11.051Z"
   },
   {
    "duration": 18,
    "start_time": "2022-02-11T07:14:11.463Z"
   },
   {
    "duration": 14,
    "start_time": "2022-02-11T07:14:11.483Z"
   },
   {
    "duration": 45,
    "start_time": "2022-02-11T07:14:11.499Z"
   },
   {
    "duration": 6,
    "start_time": "2022-02-11T07:14:11.547Z"
   },
   {
    "duration": 15,
    "start_time": "2022-02-11T07:14:11.555Z"
   },
   {
    "duration": 370,
    "start_time": "2022-02-11T07:14:11.573Z"
   },
   {
    "duration": 15,
    "start_time": "2022-02-11T07:14:11.955Z"
   },
   {
    "duration": 18,
    "start_time": "2022-02-11T07:14:11.974Z"
   },
   {
    "duration": 47,
    "start_time": "2022-02-11T07:14:11.995Z"
   },
   {
    "duration": 415,
    "start_time": "2022-02-11T07:14:12.045Z"
   },
   {
    "duration": 18,
    "start_time": "2022-02-11T07:14:12.462Z"
   },
   {
    "duration": 5,
    "start_time": "2022-02-11T07:14:12.482Z"
   },
   {
    "duration": 16,
    "start_time": "2022-02-11T07:14:12.489Z"
   },
   {
    "duration": 359,
    "start_time": "2022-02-11T07:14:12.532Z"
   },
   {
    "duration": 322,
    "start_time": "2022-02-11T07:14:12.894Z"
   },
   {
    "duration": 15,
    "start_time": "2022-02-11T07:14:13.218Z"
   },
   {
    "duration": 742,
    "start_time": "2022-02-11T07:14:13.236Z"
   },
   {
    "duration": 15,
    "start_time": "2022-02-11T07:14:13.982Z"
   },
   {
    "duration": 392,
    "start_time": "2022-02-11T07:14:13.999Z"
   },
   {
    "duration": 634,
    "start_time": "2022-02-11T07:14:14.394Z"
   },
   {
    "duration": 369,
    "start_time": "2022-02-11T07:14:15.032Z"
   },
   {
    "duration": 689,
    "start_time": "2022-02-11T07:14:15.403Z"
   },
   {
    "duration": 8,
    "start_time": "2022-02-11T07:14:16.095Z"
   },
   {
    "duration": 95,
    "start_time": "2022-02-11T07:14:16.105Z"
   },
   {
    "duration": 5,
    "start_time": "2022-02-11T07:14:16.202Z"
   },
   {
    "duration": 815,
    "start_time": "2022-02-11T07:14:16.209Z"
   },
   {
    "duration": 351,
    "start_time": "2022-02-11T07:14:17.027Z"
   },
   {
    "duration": 334,
    "start_time": "2022-02-11T07:14:17.380Z"
   },
   {
    "duration": 302,
    "start_time": "2022-02-11T07:14:17.717Z"
   },
   {
    "duration": 771,
    "start_time": "2022-02-11T07:14:18.022Z"
   },
   {
    "duration": 1021,
    "start_time": "2022-02-11T07:14:18.796Z"
   },
   {
    "duration": 45,
    "start_time": "2022-02-11T07:14:19.819Z"
   },
   {
    "duration": 481,
    "start_time": "2022-02-11T07:14:19.866Z"
   },
   {
    "duration": 21,
    "start_time": "2022-02-11T07:14:20.349Z"
   },
   {
    "duration": 15,
    "start_time": "2022-02-11T07:14:20.374Z"
   },
   {
    "duration": 618,
    "start_time": "2022-02-11T07:14:20.391Z"
   },
   {
    "duration": 30,
    "start_time": "2022-02-11T07:14:21.012Z"
   },
   {
    "duration": 17,
    "start_time": "2022-02-11T07:14:21.045Z"
   },
   {
    "duration": 368,
    "start_time": "2022-02-11T07:14:21.064Z"
   },
   {
    "duration": 9,
    "start_time": "2022-02-11T07:14:21.435Z"
   },
   {
    "duration": 357,
    "start_time": "2022-02-11T07:14:21.447Z"
   },
   {
    "duration": 11,
    "start_time": "2022-02-11T07:14:21.807Z"
   },
   {
    "duration": 327,
    "start_time": "2022-02-11T07:14:21.832Z"
   },
   {
    "duration": 12,
    "start_time": "2022-02-11T07:14:22.162Z"
   },
   {
    "duration": 314,
    "start_time": "2022-02-11T07:14:22.177Z"
   },
   {
    "duration": 498,
    "start_time": "2022-02-11T07:14:22.494Z"
   },
   {
    "duration": 497,
    "start_time": "2022-02-11T07:14:22.995Z"
   },
   {
    "duration": 496,
    "start_time": "2022-02-11T07:14:23.495Z"
   },
   {
    "duration": 367,
    "start_time": "2022-02-11T07:14:23.994Z"
   },
   {
    "duration": 316,
    "start_time": "2022-02-11T07:14:24.364Z"
   },
   {
    "duration": 704,
    "start_time": "2022-02-11T08:08:08.498Z"
   },
   {
    "duration": 6396,
    "start_time": "2022-02-11T08:15:10.327Z"
   },
   {
    "duration": 28,
    "start_time": "2022-02-11T08:15:31.891Z"
   },
   {
    "duration": 25,
    "start_time": "2022-02-11T08:15:39.075Z"
   },
   {
    "duration": 12,
    "start_time": "2022-02-11T08:16:07.752Z"
   },
   {
    "duration": 3,
    "start_time": "2022-02-11T08:19:19.601Z"
   },
   {
    "duration": 12,
    "start_time": "2022-02-11T08:19:19.607Z"
   },
   {
    "duration": 151,
    "start_time": "2022-02-11T08:19:19.622Z"
   },
   {
    "duration": 60,
    "start_time": "2022-02-11T08:19:19.776Z"
   },
   {
    "duration": 7,
    "start_time": "2022-02-11T08:19:19.838Z"
   },
   {
    "duration": 5,
    "start_time": "2022-02-11T08:19:19.849Z"
   },
   {
    "duration": 77,
    "start_time": "2022-02-11T08:19:19.857Z"
   },
   {
    "duration": 12,
    "start_time": "2022-02-11T08:19:19.936Z"
   },
   {
    "duration": 9,
    "start_time": "2022-02-11T08:19:19.950Z"
   },
   {
    "duration": 72,
    "start_time": "2022-02-11T08:19:19.962Z"
   },
   {
    "duration": 11,
    "start_time": "2022-02-11T08:19:20.037Z"
   },
   {
    "duration": 852,
    "start_time": "2022-02-11T08:19:20.050Z"
   },
   {
    "duration": 864,
    "start_time": "2022-02-11T08:19:20.905Z"
   },
   {
    "duration": 8,
    "start_time": "2022-02-11T08:19:21.773Z"
   },
   {
    "duration": 7,
    "start_time": "2022-02-11T08:19:21.784Z"
   },
   {
    "duration": 40,
    "start_time": "2022-02-11T08:19:21.793Z"
   },
   {
    "duration": 7,
    "start_time": "2022-02-11T08:19:21.836Z"
   },
   {
    "duration": 7,
    "start_time": "2022-02-11T08:19:21.845Z"
   },
   {
    "duration": 11,
    "start_time": "2022-02-11T08:19:21.854Z"
   },
   {
    "duration": 10,
    "start_time": "2022-02-11T08:19:21.867Z"
   },
   {
    "duration": 19,
    "start_time": "2022-02-11T08:19:21.879Z"
   },
   {
    "duration": 31,
    "start_time": "2022-02-11T08:19:21.901Z"
   },
   {
    "duration": 7,
    "start_time": "2022-02-11T08:19:21.934Z"
   },
   {
    "duration": 18,
    "start_time": "2022-02-11T08:19:21.944Z"
   },
   {
    "duration": 40,
    "start_time": "2022-02-11T08:19:21.965Z"
   },
   {
    "duration": 42,
    "start_time": "2022-02-11T08:19:22.033Z"
   },
   {
    "duration": 66,
    "start_time": "2022-02-11T08:19:22.078Z"
   },
   {
    "duration": 7,
    "start_time": "2022-02-11T08:19:22.148Z"
   },
   {
    "duration": 44,
    "start_time": "2022-02-11T08:19:22.157Z"
   },
   {
    "duration": 38,
    "start_time": "2022-02-11T08:19:22.204Z"
   },
   {
    "duration": 16,
    "start_time": "2022-02-11T08:19:22.245Z"
   },
   {
    "duration": 38,
    "start_time": "2022-02-11T08:19:22.264Z"
   },
   {
    "duration": 30,
    "start_time": "2022-02-11T08:19:22.305Z"
   },
   {
    "duration": 8,
    "start_time": "2022-02-11T08:19:22.338Z"
   },
   {
    "duration": 17,
    "start_time": "2022-02-11T08:19:22.348Z"
   },
   {
    "duration": 8,
    "start_time": "2022-02-11T08:19:22.367Z"
   },
   {
    "duration": 63,
    "start_time": "2022-02-11T08:19:22.377Z"
   },
   {
    "duration": 429,
    "start_time": "2022-02-11T08:19:22.449Z"
   },
   {
    "duration": 518,
    "start_time": "2022-02-11T08:19:22.883Z"
   },
   {
    "duration": 8,
    "start_time": "2022-02-11T08:19:23.403Z"
   },
   {
    "duration": 16,
    "start_time": "2022-02-11T08:19:23.432Z"
   },
   {
    "duration": 22,
    "start_time": "2022-02-11T08:19:23.450Z"
   },
   {
    "duration": 9,
    "start_time": "2022-02-11T08:19:23.475Z"
   },
   {
    "duration": 52,
    "start_time": "2022-02-11T08:19:23.486Z"
   },
   {
    "duration": 7,
    "start_time": "2022-02-11T08:19:23.540Z"
   },
   {
    "duration": 35,
    "start_time": "2022-02-11T08:19:23.549Z"
   },
   {
    "duration": 9,
    "start_time": "2022-02-11T08:19:23.587Z"
   },
   {
    "duration": 50,
    "start_time": "2022-02-11T08:19:23.599Z"
   },
   {
    "duration": 6,
    "start_time": "2022-02-11T08:19:23.652Z"
   },
   {
    "duration": 17,
    "start_time": "2022-02-11T08:19:23.661Z"
   },
   {
    "duration": 64,
    "start_time": "2022-02-11T08:19:23.682Z"
   },
   {
    "duration": 16,
    "start_time": "2022-02-11T08:19:23.749Z"
   },
   {
    "duration": 4444,
    "start_time": "2022-02-11T08:19:23.768Z"
   },
   {
    "duration": 28,
    "start_time": "2022-02-11T08:19:28.214Z"
   },
   {
    "duration": 21,
    "start_time": "2022-02-11T08:19:28.244Z"
   },
   {
    "duration": 14,
    "start_time": "2022-02-11T08:19:28.267Z"
   },
   {
    "duration": 744,
    "start_time": "2022-02-11T08:19:28.283Z"
   },
   {
    "duration": 11,
    "start_time": "2022-02-11T08:19:29.032Z"
   },
   {
    "duration": 474,
    "start_time": "2022-02-11T08:19:29.046Z"
   },
   {
    "duration": 24,
    "start_time": "2022-02-11T08:19:29.523Z"
   },
   {
    "duration": 12,
    "start_time": "2022-02-11T08:19:29.550Z"
   },
   {
    "duration": 431,
    "start_time": "2022-02-11T08:19:29.564Z"
   },
   {
    "duration": 436,
    "start_time": "2022-02-11T08:19:29.997Z"
   },
   {
    "duration": 18,
    "start_time": "2022-02-11T08:19:30.435Z"
   },
   {
    "duration": 31,
    "start_time": "2022-02-11T08:19:30.456Z"
   },
   {
    "duration": 34,
    "start_time": "2022-02-11T08:19:30.490Z"
   },
   {
    "duration": 6,
    "start_time": "2022-02-11T08:19:30.533Z"
   },
   {
    "duration": 33,
    "start_time": "2022-02-11T08:19:30.542Z"
   },
   {
    "duration": 362,
    "start_time": "2022-02-11T08:19:30.577Z"
   },
   {
    "duration": 15,
    "start_time": "2022-02-11T08:19:30.942Z"
   },
   {
    "duration": 16,
    "start_time": "2022-02-11T08:19:30.959Z"
   },
   {
    "duration": 11,
    "start_time": "2022-02-11T08:19:30.978Z"
   },
   {
    "duration": 409,
    "start_time": "2022-02-11T08:19:30.991Z"
   },
   {
    "duration": 32,
    "start_time": "2022-02-11T08:19:31.402Z"
   },
   {
    "duration": 5,
    "start_time": "2022-02-11T08:19:31.436Z"
   },
   {
    "duration": 23,
    "start_time": "2022-02-11T08:19:31.443Z"
   },
   {
    "duration": 368,
    "start_time": "2022-02-11T08:19:31.469Z"
   },
   {
    "duration": 318,
    "start_time": "2022-02-11T08:19:31.840Z"
   },
   {
    "duration": 7,
    "start_time": "2022-02-11T08:19:32.160Z"
   },
   {
    "duration": 518,
    "start_time": "2022-02-11T08:19:32.170Z"
   },
   {
    "duration": 13,
    "start_time": "2022-02-11T08:19:32.690Z"
   },
   {
    "duration": 333,
    "start_time": "2022-02-11T08:19:32.706Z"
   },
   {
    "duration": 449,
    "start_time": "2022-02-11T08:19:33.042Z"
   },
   {
    "duration": 379,
    "start_time": "2022-02-11T08:19:33.494Z"
   },
   {
    "duration": 583,
    "start_time": "2022-02-11T08:19:33.876Z"
   },
   {
    "duration": 6,
    "start_time": "2022-02-11T08:19:34.462Z"
   },
   {
    "duration": 89,
    "start_time": "2022-02-11T08:19:34.470Z"
   },
   {
    "duration": 12,
    "start_time": "2022-02-11T08:19:34.561Z"
   },
   {
    "duration": 769,
    "start_time": "2022-02-11T08:19:34.576Z"
   },
   {
    "duration": 339,
    "start_time": "2022-02-11T08:19:35.347Z"
   },
   {
    "duration": 338,
    "start_time": "2022-02-11T08:19:35.689Z"
   },
   {
    "duration": 299,
    "start_time": "2022-02-11T08:19:36.033Z"
   },
   {
    "duration": 792,
    "start_time": "2022-02-11T08:19:36.335Z"
   },
   {
    "duration": 1245,
    "start_time": "2022-02-11T08:19:37.133Z"
   },
   {
    "duration": 54,
    "start_time": "2022-02-11T08:19:38.382Z"
   },
   {
    "duration": 354,
    "start_time": "2022-02-11T08:19:38.440Z"
   },
   {
    "duration": 15,
    "start_time": "2022-02-11T08:19:38.796Z"
   },
   {
    "duration": 26,
    "start_time": "2022-02-11T08:19:38.814Z"
   },
   {
    "duration": 548,
    "start_time": "2022-02-11T08:19:38.842Z"
   },
   {
    "duration": 21,
    "start_time": "2022-02-11T08:19:39.392Z"
   },
   {
    "duration": 13,
    "start_time": "2022-02-11T08:19:39.432Z"
   },
   {
    "duration": 387,
    "start_time": "2022-02-11T08:19:39.448Z"
   },
   {
    "duration": 11,
    "start_time": "2022-02-11T08:19:39.838Z"
   },
   {
    "duration": 349,
    "start_time": "2022-02-11T08:19:39.851Z"
   },
   {
    "duration": 10,
    "start_time": "2022-02-11T08:19:40.202Z"
   },
   {
    "duration": 327,
    "start_time": "2022-02-11T08:19:40.215Z"
   },
   {
    "duration": 11,
    "start_time": "2022-02-11T08:19:40.544Z"
   },
   {
    "duration": 306,
    "start_time": "2022-02-11T08:19:40.557Z"
   },
   {
    "duration": 480,
    "start_time": "2022-02-11T08:19:40.865Z"
   },
   {
    "duration": 458,
    "start_time": "2022-02-11T08:19:41.360Z"
   },
   {
    "duration": 372,
    "start_time": "2022-02-11T08:19:41.821Z"
   },
   {
    "duration": 369,
    "start_time": "2022-02-11T08:19:42.195Z"
   },
   {
    "duration": 318,
    "start_time": "2022-02-11T08:19:42.566Z"
   },
   {
    "duration": 470,
    "start_time": "2022-02-11T08:39:12.395Z"
   },
   {
    "duration": 15,
    "start_time": "2022-02-11T09:05:07.656Z"
   },
   {
    "duration": 20,
    "start_time": "2022-02-11T09:07:10.059Z"
   },
   {
    "duration": 12,
    "start_time": "2022-02-11T09:07:14.613Z"
   },
   {
    "duration": 350,
    "start_time": "2022-02-11T09:07:19.218Z"
   },
   {
    "duration": 241,
    "start_time": "2022-02-11T09:09:44.626Z"
   },
   {
    "duration": 365,
    "start_time": "2022-02-11T09:09:49.529Z"
   },
   {
    "duration": 302,
    "start_time": "2022-02-11T09:11:07.098Z"
   },
   {
    "duration": 288,
    "start_time": "2022-02-11T09:11:10.747Z"
   },
   {
    "duration": 4,
    "start_time": "2022-02-11T09:32:25.818Z"
   },
   {
    "duration": 8,
    "start_time": "2022-02-11T09:32:25.825Z"
   },
   {
    "duration": 152,
    "start_time": "2022-02-11T09:32:25.837Z"
   },
   {
    "duration": 54,
    "start_time": "2022-02-11T09:32:25.992Z"
   },
   {
    "duration": 10,
    "start_time": "2022-02-11T09:32:26.049Z"
   },
   {
    "duration": 5,
    "start_time": "2022-02-11T09:32:26.412Z"
   },
   {
    "duration": 40,
    "start_time": "2022-02-11T09:32:26.420Z"
   },
   {
    "duration": 12,
    "start_time": "2022-02-11T09:32:26.462Z"
   },
   {
    "duration": 9,
    "start_time": "2022-02-11T09:32:26.476Z"
   },
   {
    "duration": 70,
    "start_time": "2022-02-11T09:32:26.488Z"
   },
   {
    "duration": 10,
    "start_time": "2022-02-11T09:32:26.560Z"
   },
   {
    "duration": 978,
    "start_time": "2022-02-11T09:32:26.573Z"
   },
   {
    "duration": 1108,
    "start_time": "2022-02-11T09:32:27.554Z"
   },
   {
    "duration": 8,
    "start_time": "2022-02-11T09:32:28.667Z"
   },
   {
    "duration": 12,
    "start_time": "2022-02-11T09:32:28.679Z"
   },
   {
    "duration": 42,
    "start_time": "2022-02-11T09:32:28.693Z"
   },
   {
    "duration": 9,
    "start_time": "2022-02-11T09:32:28.738Z"
   },
   {
    "duration": 7,
    "start_time": "2022-02-11T09:32:28.749Z"
   },
   {
    "duration": 14,
    "start_time": "2022-02-11T09:32:28.758Z"
   },
   {
    "duration": 13,
    "start_time": "2022-02-11T09:32:28.774Z"
   },
   {
    "duration": 7,
    "start_time": "2022-02-11T09:32:28.790Z"
   },
   {
    "duration": 35,
    "start_time": "2022-02-11T09:32:28.800Z"
   },
   {
    "duration": 8,
    "start_time": "2022-02-11T09:32:28.837Z"
   },
   {
    "duration": 7,
    "start_time": "2022-02-11T09:32:28.848Z"
   },
   {
    "duration": 36,
    "start_time": "2022-02-11T09:32:28.858Z"
   },
   {
    "duration": 73,
    "start_time": "2022-02-11T09:32:28.896Z"
   },
   {
    "duration": 41,
    "start_time": "2022-02-11T09:32:28.971Z"
   },
   {
    "duration": 7,
    "start_time": "2022-02-11T09:32:29.033Z"
   },
   {
    "duration": 39,
    "start_time": "2022-02-11T09:32:29.042Z"
   },
   {
    "duration": 12,
    "start_time": "2022-02-11T09:32:29.084Z"
   },
   {
    "duration": 12,
    "start_time": "2022-02-11T09:32:29.132Z"
   },
   {
    "duration": 39,
    "start_time": "2022-02-11T09:32:29.154Z"
   },
   {
    "duration": 34,
    "start_time": "2022-02-11T09:32:29.199Z"
   },
   {
    "duration": 10,
    "start_time": "2022-02-11T09:32:29.235Z"
   },
   {
    "duration": 7,
    "start_time": "2022-02-11T09:32:29.248Z"
   },
   {
    "duration": 10,
    "start_time": "2022-02-11T09:32:29.257Z"
   },
   {
    "duration": 79,
    "start_time": "2022-02-11T09:32:29.269Z"
   },
   {
    "duration": 445,
    "start_time": "2022-02-11T09:32:29.350Z"
   },
   {
    "duration": 503,
    "start_time": "2022-02-11T09:32:29.798Z"
   },
   {
    "duration": 8,
    "start_time": "2022-02-11T09:32:30.303Z"
   },
   {
    "duration": 32,
    "start_time": "2022-02-11T09:32:30.313Z"
   },
   {
    "duration": 42,
    "start_time": "2022-02-11T09:32:30.348Z"
   },
   {
    "duration": 8,
    "start_time": "2022-02-11T09:32:30.392Z"
   },
   {
    "duration": 30,
    "start_time": "2022-02-11T09:32:30.402Z"
   },
   {
    "duration": 12,
    "start_time": "2022-02-11T09:32:30.434Z"
   },
   {
    "duration": 41,
    "start_time": "2022-02-11T09:32:30.448Z"
   },
   {
    "duration": 8,
    "start_time": "2022-02-11T09:32:30.492Z"
   },
   {
    "duration": 41,
    "start_time": "2022-02-11T09:32:30.503Z"
   },
   {
    "duration": 31,
    "start_time": "2022-02-11T09:32:30.548Z"
   },
   {
    "duration": 27,
    "start_time": "2022-02-11T09:32:30.582Z"
   },
   {
    "duration": 37,
    "start_time": "2022-02-11T09:32:30.611Z"
   },
   {
    "duration": 15,
    "start_time": "2022-02-11T09:32:30.650Z"
   },
   {
    "duration": 4363,
    "start_time": "2022-02-11T09:32:30.668Z"
   },
   {
    "duration": 19,
    "start_time": "2022-02-11T09:32:35.033Z"
   },
   {
    "duration": 29,
    "start_time": "2022-02-11T09:32:35.054Z"
   },
   {
    "duration": 18,
    "start_time": "2022-02-11T09:32:35.085Z"
   },
   {
    "duration": 453,
    "start_time": "2022-02-11T09:32:35.105Z"
   },
   {
    "duration": 12,
    "start_time": "2022-02-11T09:32:35.560Z"
   },
   {
    "duration": 488,
    "start_time": "2022-02-11T09:32:35.574Z"
   },
   {
    "duration": 19,
    "start_time": "2022-02-11T09:32:36.065Z"
   },
   {
    "duration": 11,
    "start_time": "2022-02-11T09:32:36.086Z"
   },
   {
    "duration": 435,
    "start_time": "2022-02-11T09:32:36.100Z"
   },
   {
    "duration": 425,
    "start_time": "2022-02-11T09:32:36.537Z"
   },
   {
    "duration": 21,
    "start_time": "2022-02-11T09:32:36.965Z"
   },
   {
    "duration": 13,
    "start_time": "2022-02-11T09:32:36.989Z"
   },
   {
    "duration": 18,
    "start_time": "2022-02-11T09:32:37.033Z"
   },
   {
    "duration": 8,
    "start_time": "2022-02-11T09:32:37.053Z"
   },
   {
    "duration": 12,
    "start_time": "2022-02-11T09:32:37.064Z"
   },
   {
    "duration": 404,
    "start_time": "2022-02-11T09:32:37.079Z"
   },
   {
    "duration": 18,
    "start_time": "2022-02-11T09:32:37.486Z"
   },
   {
    "duration": 31,
    "start_time": "2022-02-11T09:32:37.506Z"
   },
   {
    "duration": 12,
    "start_time": "2022-02-11T09:32:37.540Z"
   },
   {
    "duration": 379,
    "start_time": "2022-02-11T09:32:37.555Z"
   },
   {
    "duration": 18,
    "start_time": "2022-02-11T09:32:37.936Z"
   },
   {
    "duration": 4,
    "start_time": "2022-02-11T09:32:37.956Z"
   },
   {
    "duration": 16,
    "start_time": "2022-02-11T09:32:37.963Z"
   },
   {
    "duration": 378,
    "start_time": "2022-02-11T09:32:37.981Z"
   },
   {
    "duration": 321,
    "start_time": "2022-02-11T09:32:38.361Z"
   },
   {
    "duration": 6,
    "start_time": "2022-02-11T09:32:38.684Z"
   },
   {
    "duration": 495,
    "start_time": "2022-02-11T09:32:38.693Z"
   },
   {
    "duration": 12,
    "start_time": "2022-02-11T09:32:39.190Z"
   },
   {
    "duration": 306,
    "start_time": "2022-02-11T09:32:39.204Z"
   },
   {
    "duration": 412,
    "start_time": "2022-02-11T09:32:39.514Z"
   },
   {
    "duration": 370,
    "start_time": "2022-02-11T09:32:39.933Z"
   },
   {
    "duration": 595,
    "start_time": "2022-02-11T09:32:40.306Z"
   },
   {
    "duration": 6,
    "start_time": "2022-02-11T09:32:40.911Z"
   },
   {
    "duration": 88,
    "start_time": "2022-02-11T09:32:40.920Z"
   },
   {
    "duration": 25,
    "start_time": "2022-02-11T09:32:41.010Z"
   },
   {
    "duration": 765,
    "start_time": "2022-02-11T09:32:41.038Z"
   },
   {
    "duration": 393,
    "start_time": "2022-02-11T09:32:41.806Z"
   },
   {
    "duration": 345,
    "start_time": "2022-02-11T09:32:42.202Z"
   },
   {
    "duration": 295,
    "start_time": "2022-02-11T09:32:42.549Z"
   },
   {
    "duration": 743,
    "start_time": "2022-02-11T09:32:42.846Z"
   },
   {
    "duration": 991,
    "start_time": "2022-02-11T09:32:43.592Z"
   },
   {
    "duration": 48,
    "start_time": "2022-02-11T09:32:44.586Z"
   },
   {
    "duration": 332,
    "start_time": "2022-02-11T09:32:44.636Z"
   },
   {
    "duration": 17,
    "start_time": "2022-02-11T09:32:44.971Z"
   },
   {
    "duration": 42,
    "start_time": "2022-02-11T09:32:44.991Z"
   },
   {
    "duration": 546,
    "start_time": "2022-02-11T09:32:45.036Z"
   },
   {
    "duration": 19,
    "start_time": "2022-02-11T09:32:45.584Z"
   },
   {
    "duration": 32,
    "start_time": "2022-02-11T09:32:45.605Z"
   },
   {
    "duration": 348,
    "start_time": "2022-02-11T09:32:45.639Z"
   },
   {
    "duration": 13,
    "start_time": "2022-02-11T09:32:45.990Z"
   },
   {
    "duration": 637,
    "start_time": "2022-02-11T09:32:46.006Z"
   },
   {
    "duration": 12,
    "start_time": "2022-02-11T09:32:46.646Z"
   },
   {
    "duration": 329,
    "start_time": "2022-02-11T09:32:46.661Z"
   },
   {
    "duration": 13,
    "start_time": "2022-02-11T09:32:46.993Z"
   },
   {
    "duration": 407,
    "start_time": "2022-02-11T09:32:47.009Z"
   },
   {
    "duration": 513,
    "start_time": "2022-02-11T09:32:47.419Z"
   },
   {
    "duration": 522,
    "start_time": "2022-02-11T09:32:47.934Z"
   },
   {
    "duration": 386,
    "start_time": "2022-02-11T09:32:48.458Z"
   },
   {
    "duration": 359,
    "start_time": "2022-02-11T09:32:48.847Z"
   },
   {
    "duration": 310,
    "start_time": "2022-02-11T09:32:49.209Z"
   },
   {
    "duration": 773,
    "start_time": "2022-02-11T20:05:37.259Z"
   },
   {
    "duration": 3,
    "start_time": "2022-02-11T20:05:38.035Z"
   },
   {
    "duration": 164,
    "start_time": "2022-02-11T20:05:38.041Z"
   },
   {
    "duration": 60,
    "start_time": "2022-02-11T20:05:38.209Z"
   },
   {
    "duration": 12,
    "start_time": "2022-02-11T20:05:38.272Z"
   },
   {
    "duration": 6,
    "start_time": "2022-02-11T20:05:38.287Z"
   },
   {
    "duration": 73,
    "start_time": "2022-02-11T20:05:38.296Z"
   },
   {
    "duration": 14,
    "start_time": "2022-02-11T20:05:38.372Z"
   },
   {
    "duration": 45,
    "start_time": "2022-02-11T20:05:38.391Z"
   },
   {
    "duration": 38,
    "start_time": "2022-02-11T20:05:38.440Z"
   },
   {
    "duration": 12,
    "start_time": "2022-02-11T20:05:38.481Z"
   },
   {
    "duration": 1007,
    "start_time": "2022-02-11T20:05:38.495Z"
   },
   {
    "duration": 876,
    "start_time": "2022-02-11T20:05:39.505Z"
   },
   {
    "duration": 9,
    "start_time": "2022-02-11T20:05:40.384Z"
   },
   {
    "duration": 39,
    "start_time": "2022-02-11T20:05:40.395Z"
   },
   {
    "duration": 11,
    "start_time": "2022-02-11T20:05:40.436Z"
   },
   {
    "duration": 10,
    "start_time": "2022-02-11T20:05:40.450Z"
   },
   {
    "duration": 11,
    "start_time": "2022-02-11T20:05:40.462Z"
   },
   {
    "duration": 13,
    "start_time": "2022-02-11T20:05:40.475Z"
   },
   {
    "duration": 45,
    "start_time": "2022-02-11T20:05:40.490Z"
   },
   {
    "duration": 6,
    "start_time": "2022-02-11T20:05:40.537Z"
   },
   {
    "duration": 7,
    "start_time": "2022-02-11T20:05:40.545Z"
   },
   {
    "duration": 9,
    "start_time": "2022-02-11T20:05:40.555Z"
   },
   {
    "duration": 10,
    "start_time": "2022-02-11T20:05:40.566Z"
   },
   {
    "duration": 73,
    "start_time": "2022-02-11T20:05:40.578Z"
   },
   {
    "duration": 37,
    "start_time": "2022-02-11T20:05:40.654Z"
   },
   {
    "duration": 58,
    "start_time": "2022-02-11T20:05:40.698Z"
   },
   {
    "duration": 6,
    "start_time": "2022-02-11T20:05:40.760Z"
   },
   {
    "duration": 40,
    "start_time": "2022-02-11T20:05:40.769Z"
   },
   {
    "duration": 11,
    "start_time": "2022-02-11T20:05:40.832Z"
   },
   {
    "duration": 11,
    "start_time": "2022-02-11T20:05:40.845Z"
   },
   {
    "duration": 38,
    "start_time": "2022-02-11T20:05:40.859Z"
   },
   {
    "duration": 6,
    "start_time": "2022-02-11T20:05:40.932Z"
   },
   {
    "duration": 9,
    "start_time": "2022-02-11T20:05:40.941Z"
   },
   {
    "duration": 21,
    "start_time": "2022-02-11T20:05:40.952Z"
   },
   {
    "duration": 6,
    "start_time": "2022-02-11T20:05:40.975Z"
   },
   {
    "duration": 64,
    "start_time": "2022-02-11T20:05:40.983Z"
   },
   {
    "duration": 485,
    "start_time": "2022-02-11T20:05:41.049Z"
   },
   {
    "duration": 489,
    "start_time": "2022-02-11T20:05:41.537Z"
   },
   {
    "duration": 8,
    "start_time": "2022-02-11T20:05:42.028Z"
   },
   {
    "duration": 21,
    "start_time": "2022-02-11T20:05:42.038Z"
   },
   {
    "duration": 27,
    "start_time": "2022-02-11T20:05:42.062Z"
   },
   {
    "duration": 7,
    "start_time": "2022-02-11T20:05:42.092Z"
   },
   {
    "duration": 63,
    "start_time": "2022-02-11T20:05:42.101Z"
   },
   {
    "duration": 36,
    "start_time": "2022-02-11T20:05:42.173Z"
   },
   {
    "duration": 67,
    "start_time": "2022-02-11T20:05:42.221Z"
   },
   {
    "duration": 9,
    "start_time": "2022-02-11T20:05:42.290Z"
   },
   {
    "duration": 21,
    "start_time": "2022-02-11T20:05:42.302Z"
   },
   {
    "duration": 10,
    "start_time": "2022-02-11T20:05:42.325Z"
   },
   {
    "duration": 21,
    "start_time": "2022-02-11T20:05:42.338Z"
   },
   {
    "duration": 21,
    "start_time": "2022-02-11T20:05:42.362Z"
   },
   {
    "duration": 15,
    "start_time": "2022-02-11T20:05:42.385Z"
   },
   {
    "duration": 4595,
    "start_time": "2022-02-11T20:05:42.432Z"
   },
   {
    "duration": 20,
    "start_time": "2022-02-11T20:05:47.032Z"
   },
   {
    "duration": 15,
    "start_time": "2022-02-11T20:05:47.055Z"
   },
   {
    "duration": 16,
    "start_time": "2022-02-11T20:05:47.072Z"
   },
   {
    "duration": 537,
    "start_time": "2022-02-11T20:05:47.090Z"
   },
   {
    "duration": 11,
    "start_time": "2022-02-11T20:05:47.632Z"
   },
   {
    "duration": 488,
    "start_time": "2022-02-11T20:05:47.646Z"
   },
   {
    "duration": 21,
    "start_time": "2022-02-11T20:05:48.137Z"
   },
   {
    "duration": 10,
    "start_time": "2022-02-11T20:05:48.160Z"
   },
   {
    "duration": 425,
    "start_time": "2022-02-11T20:05:48.173Z"
   },
   {
    "duration": 534,
    "start_time": "2022-02-11T20:05:48.601Z"
   },
   {
    "duration": 18,
    "start_time": "2022-02-11T20:05:49.138Z"
   },
   {
    "duration": 12,
    "start_time": "2022-02-11T20:05:49.158Z"
   },
   {
    "duration": 16,
    "start_time": "2022-02-11T20:05:49.173Z"
   },
   {
    "duration": 45,
    "start_time": "2022-02-11T20:05:49.191Z"
   },
   {
    "duration": 20,
    "start_time": "2022-02-11T20:05:49.239Z"
   },
   {
    "duration": 381,
    "start_time": "2022-02-11T20:05:49.262Z"
   },
   {
    "duration": 15,
    "start_time": "2022-02-11T20:05:49.646Z"
   },
   {
    "duration": 12,
    "start_time": "2022-02-11T20:05:49.663Z"
   },
   {
    "duration": 11,
    "start_time": "2022-02-11T20:05:49.678Z"
   },
   {
    "duration": 419,
    "start_time": "2022-02-11T20:05:49.692Z"
   },
   {
    "duration": 30,
    "start_time": "2022-02-11T20:05:50.116Z"
   },
   {
    "duration": 5,
    "start_time": "2022-02-11T20:05:50.148Z"
   },
   {
    "duration": 14,
    "start_time": "2022-02-11T20:05:50.156Z"
   },
   {
    "duration": 371,
    "start_time": "2022-02-11T20:05:50.172Z"
   },
   {
    "duration": 308,
    "start_time": "2022-02-11T20:05:50.545Z"
   },
   {
    "duration": 6,
    "start_time": "2022-02-11T20:05:50.856Z"
   },
   {
    "duration": 491,
    "start_time": "2022-02-11T20:05:50.865Z"
   },
   {
    "duration": 11,
    "start_time": "2022-02-11T20:05:51.365Z"
   },
   {
    "duration": 374,
    "start_time": "2022-02-11T20:05:51.380Z"
   },
   {
    "duration": 424,
    "start_time": "2022-02-11T20:05:51.757Z"
   },
   {
    "duration": 365,
    "start_time": "2022-02-11T20:05:52.184Z"
   },
   {
    "duration": 580,
    "start_time": "2022-02-11T20:05:52.552Z"
   },
   {
    "duration": 7,
    "start_time": "2022-02-11T20:05:53.134Z"
   },
   {
    "duration": 90,
    "start_time": "2022-02-11T20:05:53.144Z"
   },
   {
    "duration": 16,
    "start_time": "2022-02-11T20:05:53.236Z"
   },
   {
    "duration": 782,
    "start_time": "2022-02-11T20:05:53.255Z"
   },
   {
    "duration": 378,
    "start_time": "2022-02-11T20:05:54.040Z"
   },
   {
    "duration": 355,
    "start_time": "2022-02-11T20:05:54.421Z"
   },
   {
    "duration": 357,
    "start_time": "2022-02-11T20:05:54.779Z"
   },
   {
    "duration": 753,
    "start_time": "2022-02-11T20:05:55.138Z"
   },
   {
    "duration": 1098,
    "start_time": "2022-02-11T20:05:55.893Z"
   },
   {
    "duration": 54,
    "start_time": "2022-02-11T20:05:56.993Z"
   },
   {
    "duration": 361,
    "start_time": "2022-02-11T20:05:57.050Z"
   },
   {
    "duration": 19,
    "start_time": "2022-02-11T20:05:57.413Z"
   },
   {
    "duration": 15,
    "start_time": "2022-02-11T20:05:57.434Z"
   },
   {
    "duration": 565,
    "start_time": "2022-02-11T20:05:57.451Z"
   },
   {
    "duration": 30,
    "start_time": "2022-02-11T20:05:58.019Z"
   },
   {
    "duration": 13,
    "start_time": "2022-02-11T20:05:58.052Z"
   },
   {
    "duration": 384,
    "start_time": "2022-02-11T20:05:58.067Z"
   },
   {
    "duration": 11,
    "start_time": "2022-02-11T20:05:58.454Z"
   },
   {
    "duration": 391,
    "start_time": "2022-02-11T20:05:58.467Z"
   },
   {
    "duration": 11,
    "start_time": "2022-02-11T20:05:58.860Z"
   },
   {
    "duration": 314,
    "start_time": "2022-02-11T20:05:58.873Z"
   },
   {
    "duration": 11,
    "start_time": "2022-02-11T20:05:59.189Z"
   },
   {
    "duration": 310,
    "start_time": "2022-02-11T20:05:59.203Z"
   },
   {
    "duration": 517,
    "start_time": "2022-02-11T20:05:59.515Z"
   },
   {
    "duration": 513,
    "start_time": "2022-02-11T20:06:00.034Z"
   },
   {
    "duration": 369,
    "start_time": "2022-02-11T20:06:00.550Z"
   },
   {
    "duration": 364,
    "start_time": "2022-02-11T20:06:00.923Z"
   },
   {
    "duration": 310,
    "start_time": "2022-02-11T20:06:01.290Z"
   },
   {
    "duration": 67,
    "start_time": "2022-02-11T20:06:01.604Z"
   },
   {
    "duration": 479,
    "start_time": "2022-04-03T15:53:44.805Z"
   },
   {
    "duration": 2,
    "start_time": "2022-04-03T15:53:45.286Z"
   },
   {
    "duration": 123,
    "start_time": "2022-04-03T15:53:45.290Z"
   },
   {
    "duration": 52,
    "start_time": "2022-04-03T15:53:45.416Z"
   },
   {
    "duration": 5,
    "start_time": "2022-04-03T15:53:45.470Z"
   },
   {
    "duration": 7,
    "start_time": "2022-04-03T15:53:45.476Z"
   },
   {
    "duration": 51,
    "start_time": "2022-04-03T15:53:45.485Z"
   },
   {
    "duration": 10,
    "start_time": "2022-04-03T15:53:45.537Z"
   },
   {
    "duration": 7,
    "start_time": "2022-04-03T15:53:45.549Z"
   },
   {
    "duration": 28,
    "start_time": "2022-04-03T15:53:45.560Z"
   },
   {
    "duration": 8,
    "start_time": "2022-04-03T15:53:45.590Z"
   },
   {
    "duration": 703,
    "start_time": "2022-04-03T15:53:45.632Z"
   },
   {
    "duration": 241,
    "start_time": "2022-04-03T15:53:46.337Z"
   },
   {
    "duration": 5,
    "start_time": "2022-04-03T15:53:46.580Z"
   },
   {
    "duration": 9,
    "start_time": "2022-04-03T15:53:46.587Z"
   },
   {
    "duration": 8,
    "start_time": "2022-04-03T15:53:46.597Z"
   },
   {
    "duration": 26,
    "start_time": "2022-04-03T15:53:46.607Z"
   },
   {
    "duration": 6,
    "start_time": "2022-04-03T15:53:46.635Z"
   },
   {
    "duration": 16,
    "start_time": "2022-04-03T15:53:46.643Z"
   },
   {
    "duration": 6,
    "start_time": "2022-04-03T15:53:46.661Z"
   },
   {
    "duration": 5,
    "start_time": "2022-04-03T15:53:46.670Z"
   },
   {
    "duration": 5,
    "start_time": "2022-04-03T15:53:46.677Z"
   },
   {
    "duration": 7,
    "start_time": "2022-04-03T15:53:46.684Z"
   },
   {
    "duration": 42,
    "start_time": "2022-04-03T15:53:46.692Z"
   },
   {
    "duration": 29,
    "start_time": "2022-04-03T15:53:46.736Z"
   },
   {
    "duration": 27,
    "start_time": "2022-04-03T15:53:46.767Z"
   },
   {
    "duration": 54,
    "start_time": "2022-04-03T15:53:46.796Z"
   },
   {
    "duration": 5,
    "start_time": "2022-04-03T15:53:46.854Z"
   },
   {
    "duration": 29,
    "start_time": "2022-04-03T15:53:46.861Z"
   },
   {
    "duration": 9,
    "start_time": "2022-04-03T15:53:46.891Z"
   },
   {
    "duration": 35,
    "start_time": "2022-04-03T15:53:46.901Z"
   },
   {
    "duration": 26,
    "start_time": "2022-04-03T15:53:46.937Z"
   },
   {
    "duration": 4,
    "start_time": "2022-04-03T15:53:46.965Z"
   },
   {
    "duration": 12,
    "start_time": "2022-04-03T15:53:46.970Z"
   },
   {
    "duration": 11,
    "start_time": "2022-04-03T15:53:46.983Z"
   },
   {
    "duration": 5,
    "start_time": "2022-04-03T15:53:46.996Z"
   },
   {
    "duration": 53,
    "start_time": "2022-04-03T15:53:47.003Z"
   },
   {
    "duration": 226,
    "start_time": "2022-04-03T15:53:47.058Z"
   },
   {
    "duration": 261,
    "start_time": "2022-04-03T15:53:47.286Z"
   },
   {
    "duration": 6,
    "start_time": "2022-04-03T15:53:47.548Z"
   },
   {
    "duration": 16,
    "start_time": "2022-04-03T15:53:47.555Z"
   },
   {
    "duration": 62,
    "start_time": "2022-04-03T15:53:47.572Z"
   },
   {
    "duration": 5,
    "start_time": "2022-04-03T15:53:47.636Z"
   },
   {
    "duration": 12,
    "start_time": "2022-04-03T15:53:47.643Z"
   },
   {
    "duration": 5,
    "start_time": "2022-04-03T15:53:47.657Z"
   },
   {
    "duration": 68,
    "start_time": "2022-04-03T15:53:47.664Z"
   },
   {
    "duration": 7,
    "start_time": "2022-04-03T15:53:47.734Z"
   },
   {
    "duration": 28,
    "start_time": "2022-04-03T15:53:47.742Z"
   },
   {
    "duration": 5,
    "start_time": "2022-04-03T15:53:47.772Z"
   },
   {
    "duration": 64,
    "start_time": "2022-04-03T15:53:47.780Z"
   },
   {
    "duration": 24,
    "start_time": "2022-04-03T15:53:47.846Z"
   },
   {
    "duration": 70,
    "start_time": "2022-04-03T15:53:47.872Z"
   },
   {
    "duration": 720,
    "start_time": "2022-04-03T15:53:47.944Z"
   },
   {
    "duration": 14,
    "start_time": "2022-04-03T15:53:48.665Z"
   },
   {
    "duration": 12,
    "start_time": "2022-04-03T15:53:48.732Z"
   },
   {
    "duration": 11,
    "start_time": "2022-04-03T15:53:48.745Z"
   },
   {
    "duration": 398,
    "start_time": "2022-04-03T15:53:48.758Z"
   },
   {
    "duration": 9,
    "start_time": "2022-04-03T15:53:49.158Z"
   },
   {
    "duration": 335,
    "start_time": "2022-04-03T15:53:49.169Z"
   },
   {
    "duration": 12,
    "start_time": "2022-04-03T15:53:49.505Z"
   },
   {
    "duration": 19,
    "start_time": "2022-04-03T15:53:49.519Z"
   },
   {
    "duration": 183,
    "start_time": "2022-04-03T15:53:49.539Z"
   },
   {
    "duration": 194,
    "start_time": "2022-04-03T15:53:49.724Z"
   },
   {
    "duration": 18,
    "start_time": "2022-04-03T15:53:49.920Z"
   },
   {
    "duration": 10,
    "start_time": "2022-04-03T15:53:49.940Z"
   },
   {
    "duration": 12,
    "start_time": "2022-04-03T15:53:49.952Z"
   },
   {
    "duration": 8,
    "start_time": "2022-04-03T15:53:49.966Z"
   },
   {
    "duration": 11,
    "start_time": "2022-04-03T15:53:49.976Z"
   },
   {
    "duration": 192,
    "start_time": "2022-04-03T15:53:49.989Z"
   },
   {
    "duration": 11,
    "start_time": "2022-04-03T15:53:50.183Z"
   },
   {
    "duration": 9,
    "start_time": "2022-04-03T15:53:50.195Z"
   },
   {
    "duration": 28,
    "start_time": "2022-04-03T15:53:50.206Z"
   },
   {
    "duration": 179,
    "start_time": "2022-04-03T15:53:50.236Z"
   },
   {
    "duration": 24,
    "start_time": "2022-04-03T15:53:50.416Z"
   },
   {
    "duration": 3,
    "start_time": "2022-04-03T15:53:50.442Z"
   },
   {
    "duration": 13,
    "start_time": "2022-04-03T15:53:50.447Z"
   },
   {
    "duration": 248,
    "start_time": "2022-04-03T15:53:50.461Z"
   },
   {
    "duration": 157,
    "start_time": "2022-04-03T15:53:50.710Z"
   },
   {
    "duration": 4,
    "start_time": "2022-04-03T15:53:50.869Z"
   },
   {
    "duration": 238,
    "start_time": "2022-04-03T15:53:50.875Z"
   },
   {
    "duration": 9,
    "start_time": "2022-04-03T15:53:51.115Z"
   },
   {
    "duration": 151,
    "start_time": "2022-04-03T15:53:51.137Z"
   },
   {
    "duration": 208,
    "start_time": "2022-04-03T15:53:51.290Z"
   },
   {
    "duration": 185,
    "start_time": "2022-04-03T15:53:51.500Z"
   },
   {
    "duration": 263,
    "start_time": "2022-04-03T15:53:51.686Z"
   },
   {
    "duration": 4,
    "start_time": "2022-04-03T15:53:51.951Z"
   },
   {
    "duration": 54,
    "start_time": "2022-04-03T15:53:51.957Z"
   },
   {
    "duration": 20,
    "start_time": "2022-04-03T15:53:52.013Z"
   },
   {
    "duration": 210,
    "start_time": "2022-04-03T15:53:52.034Z"
   },
   {
    "duration": 191,
    "start_time": "2022-04-03T15:53:52.246Z"
   },
   {
    "duration": 242,
    "start_time": "2022-04-03T15:53:52.439Z"
   },
   {
    "duration": 150,
    "start_time": "2022-04-03T15:53:52.683Z"
   },
   {
    "duration": 229,
    "start_time": "2022-04-03T15:53:52.835Z"
   },
   {
    "duration": 517,
    "start_time": "2022-04-03T15:53:53.066Z"
   },
   {
    "duration": 25,
    "start_time": "2022-04-03T15:53:53.584Z"
   },
   {
    "duration": 205,
    "start_time": "2022-04-03T15:53:53.611Z"
   },
   {
    "duration": 15,
    "start_time": "2022-04-03T15:53:53.817Z"
   },
   {
    "duration": 13,
    "start_time": "2022-04-03T15:53:53.833Z"
   },
   {
    "duration": 316,
    "start_time": "2022-04-03T15:53:53.848Z"
   },
   {
    "duration": 13,
    "start_time": "2022-04-03T15:53:54.166Z"
   },
   {
    "duration": 8,
    "start_time": "2022-04-03T15:53:54.181Z"
   },
   {
    "duration": 185,
    "start_time": "2022-04-03T15:53:54.190Z"
   },
   {
    "duration": 10,
    "start_time": "2022-04-03T15:53:54.377Z"
   },
   {
    "duration": 185,
    "start_time": "2022-04-03T15:53:54.389Z"
   },
   {
    "duration": 9,
    "start_time": "2022-04-03T15:53:54.577Z"
   },
   {
    "duration": 171,
    "start_time": "2022-04-03T15:53:54.588Z"
   },
   {
    "duration": 9,
    "start_time": "2022-04-03T15:53:54.760Z"
   },
   {
    "duration": 142,
    "start_time": "2022-04-03T15:53:54.770Z"
   },
   {
    "duration": 257,
    "start_time": "2022-04-03T15:53:54.914Z"
   },
   {
    "duration": 189,
    "start_time": "2022-04-03T15:53:55.173Z"
   },
   {
    "duration": 187,
    "start_time": "2022-04-03T15:53:55.363Z"
   },
   {
    "duration": 181,
    "start_time": "2022-04-03T15:53:55.552Z"
   },
   {
    "duration": 153,
    "start_time": "2022-04-03T15:53:55.735Z"
   },
   {
    "duration": 3,
    "start_time": "2022-04-03T16:04:03.659Z"
   },
   {
    "duration": 3,
    "start_time": "2022-04-03T16:04:06.637Z"
   },
   {
    "duration": 115,
    "start_time": "2022-04-03T16:04:06.642Z"
   },
   {
    "duration": 33,
    "start_time": "2022-04-03T16:04:06.759Z"
   },
   {
    "duration": 39,
    "start_time": "2022-04-03T16:04:06.794Z"
   },
   {
    "duration": 4,
    "start_time": "2022-04-03T16:04:06.834Z"
   },
   {
    "duration": 29,
    "start_time": "2022-04-03T16:04:06.840Z"
   },
   {
    "duration": 10,
    "start_time": "2022-04-03T16:04:06.870Z"
   },
   {
    "duration": 7,
    "start_time": "2022-04-03T16:04:06.881Z"
   },
   {
    "duration": 62,
    "start_time": "2022-04-03T16:04:06.891Z"
   },
   {
    "duration": 7,
    "start_time": "2022-04-03T16:04:06.955Z"
   },
   {
    "duration": 273,
    "start_time": "2022-04-03T16:04:06.964Z"
   },
   {
    "duration": 238,
    "start_time": "2022-04-03T16:04:07.239Z"
   },
   {
    "duration": 6,
    "start_time": "2022-04-03T16:04:07.479Z"
   },
   {
    "duration": 6,
    "start_time": "2022-04-03T16:04:07.487Z"
   },
   {
    "duration": 10,
    "start_time": "2022-04-03T16:04:07.495Z"
   },
   {
    "duration": 29,
    "start_time": "2022-04-03T16:04:07.506Z"
   },
   {
    "duration": 5,
    "start_time": "2022-04-03T16:04:07.537Z"
   },
   {
    "duration": 11,
    "start_time": "2022-04-03T16:04:07.543Z"
   },
   {
    "duration": 8,
    "start_time": "2022-04-03T16:04:07.556Z"
   },
   {
    "duration": 8,
    "start_time": "2022-04-03T16:04:07.565Z"
   },
   {
    "duration": 8,
    "start_time": "2022-04-03T16:04:07.575Z"
   },
   {
    "duration": 8,
    "start_time": "2022-04-03T16:04:07.585Z"
   },
   {
    "duration": 8,
    "start_time": "2022-04-03T16:04:07.594Z"
   },
   {
    "duration": 29,
    "start_time": "2022-04-03T16:04:07.631Z"
   },
   {
    "duration": 29,
    "start_time": "2022-04-03T16:04:07.661Z"
   },
   {
    "duration": 51,
    "start_time": "2022-04-03T16:04:07.692Z"
   },
   {
    "duration": 4,
    "start_time": "2022-04-03T16:04:07.745Z"
   },
   {
    "duration": 35,
    "start_time": "2022-04-03T16:04:07.750Z"
   },
   {
    "duration": 8,
    "start_time": "2022-04-03T16:04:07.787Z"
   },
   {
    "duration": 14,
    "start_time": "2022-04-03T16:04:07.797Z"
   },
   {
    "duration": 36,
    "start_time": "2022-04-03T16:04:07.833Z"
   },
   {
    "duration": 4,
    "start_time": "2022-04-03T16:04:07.871Z"
   },
   {
    "duration": 7,
    "start_time": "2022-04-03T16:04:07.877Z"
   },
   {
    "duration": 6,
    "start_time": "2022-04-03T16:04:07.885Z"
   },
   {
    "duration": 8,
    "start_time": "2022-04-03T16:04:07.892Z"
   },
   {
    "duration": 31,
    "start_time": "2022-04-03T16:04:07.932Z"
   },
   {
    "duration": 236,
    "start_time": "2022-04-03T16:04:07.965Z"
   },
   {
    "duration": 208,
    "start_time": "2022-04-03T16:04:08.203Z"
   },
   {
    "duration": 6,
    "start_time": "2022-04-03T16:04:08.413Z"
   },
   {
    "duration": 16,
    "start_time": "2022-04-03T16:04:08.420Z"
   },
   {
    "duration": 19,
    "start_time": "2022-04-03T16:04:08.437Z"
   },
   {
    "duration": 6,
    "start_time": "2022-04-03T16:04:08.457Z"
   },
   {
    "duration": 17,
    "start_time": "2022-04-03T16:04:08.464Z"
   },
   {
    "duration": 13,
    "start_time": "2022-04-03T16:04:08.483Z"
   },
   {
    "duration": 40,
    "start_time": "2022-04-03T16:04:08.498Z"
   },
   {
    "duration": 6,
    "start_time": "2022-04-03T16:04:08.540Z"
   },
   {
    "duration": 22,
    "start_time": "2022-04-03T16:04:08.547Z"
   },
   {
    "duration": 19,
    "start_time": "2022-04-03T16:04:08.571Z"
   },
   {
    "duration": 19,
    "start_time": "2022-04-03T16:04:08.592Z"
   },
   {
    "duration": 27,
    "start_time": "2022-04-03T16:04:08.612Z"
   },
   {
    "duration": 12,
    "start_time": "2022-04-03T16:04:08.640Z"
   },
   {
    "duration": 351,
    "start_time": "2022-04-03T16:04:08.653Z"
   },
   {
    "duration": 13,
    "start_time": "2022-04-03T16:04:09.006Z"
   },
   {
    "duration": 15,
    "start_time": "2022-04-03T16:04:09.020Z"
   },
   {
    "duration": 13,
    "start_time": "2022-04-03T16:04:09.037Z"
   },
   {
    "duration": 210,
    "start_time": "2022-04-03T16:04:09.053Z"
   },
   {
    "duration": 10,
    "start_time": "2022-04-03T16:04:09.265Z"
   },
   {
    "duration": 330,
    "start_time": "2022-04-03T16:04:09.277Z"
   },
   {
    "duration": 4,
    "start_time": "2022-04-03T16:04:09.609Z"
   },
   {
    "duration": 19,
    "start_time": "2022-04-03T16:04:09.615Z"
   },
   {
    "duration": 202,
    "start_time": "2022-04-03T16:04:09.636Z"
   },
   {
    "duration": 206,
    "start_time": "2022-04-03T16:04:09.840Z"
   },
   {
    "duration": 14,
    "start_time": "2022-04-03T16:04:10.048Z"
   },
   {
    "duration": 15,
    "start_time": "2022-04-03T16:04:10.064Z"
   },
   {
    "duration": 19,
    "start_time": "2022-04-03T16:04:10.081Z"
   },
   {
    "duration": 15,
    "start_time": "2022-04-03T16:04:10.102Z"
   },
   {
    "duration": 18,
    "start_time": "2022-04-03T16:04:10.119Z"
   },
   {
    "duration": 170,
    "start_time": "2022-04-03T16:04:10.139Z"
   },
   {
    "duration": 19,
    "start_time": "2022-04-03T16:04:10.315Z"
   },
   {
    "duration": 9,
    "start_time": "2022-04-03T16:04:10.336Z"
   },
   {
    "duration": 11,
    "start_time": "2022-04-03T16:04:10.347Z"
   },
   {
    "duration": 197,
    "start_time": "2022-04-03T16:04:10.360Z"
   },
   {
    "duration": 14,
    "start_time": "2022-04-03T16:04:10.559Z"
   },
   {
    "duration": 4,
    "start_time": "2022-04-03T16:04:10.574Z"
   },
   {
    "duration": 15,
    "start_time": "2022-04-03T16:04:10.580Z"
   },
   {
    "duration": 199,
    "start_time": "2022-04-03T16:04:10.597Z"
   },
   {
    "duration": 157,
    "start_time": "2022-04-03T16:04:10.798Z"
   },
   {
    "duration": 5,
    "start_time": "2022-04-03T16:04:10.957Z"
   },
   {
    "duration": 241,
    "start_time": "2022-04-03T16:04:10.963Z"
   },
   {
    "duration": 10,
    "start_time": "2022-04-03T16:04:11.206Z"
   },
   {
    "duration": 160,
    "start_time": "2022-04-03T16:04:11.217Z"
   },
   {
    "duration": 203,
    "start_time": "2022-04-03T16:04:11.379Z"
   },
   {
    "duration": 164,
    "start_time": "2022-04-03T16:04:11.584Z"
   },
   {
    "duration": 250,
    "start_time": "2022-04-03T16:04:11.749Z"
   },
   {
    "duration": 4,
    "start_time": "2022-04-03T16:04:12.001Z"
   },
   {
    "duration": 63,
    "start_time": "2022-04-03T16:04:12.007Z"
   },
   {
    "duration": 10,
    "start_time": "2022-04-03T16:04:12.071Z"
   },
   {
    "duration": 329,
    "start_time": "2022-04-03T16:04:12.082Z"
   },
   {
    "duration": 190,
    "start_time": "2022-04-03T16:04:12.413Z"
   },
   {
    "duration": 182,
    "start_time": "2022-04-03T16:04:12.605Z"
   },
   {
    "duration": 154,
    "start_time": "2022-04-03T16:04:12.789Z"
   },
   {
    "duration": 216,
    "start_time": "2022-04-03T16:04:12.945Z"
   },
   {
    "duration": 558,
    "start_time": "2022-04-03T16:04:13.163Z"
   },
   {
    "duration": 31,
    "start_time": "2022-04-03T16:04:13.722Z"
   },
   {
    "duration": 207,
    "start_time": "2022-04-03T16:04:13.755Z"
   },
   {
    "duration": 11,
    "start_time": "2022-04-03T16:04:13.964Z"
   },
   {
    "duration": 28,
    "start_time": "2022-04-03T16:04:13.976Z"
   },
   {
    "duration": 338,
    "start_time": "2022-04-03T16:04:14.006Z"
   },
   {
    "duration": 15,
    "start_time": "2022-04-03T16:04:14.345Z"
   },
   {
    "duration": 14,
    "start_time": "2022-04-03T16:04:14.361Z"
   },
   {
    "duration": 191,
    "start_time": "2022-04-03T16:04:14.377Z"
   },
   {
    "duration": 9,
    "start_time": "2022-04-03T16:04:14.569Z"
   },
   {
    "duration": 185,
    "start_time": "2022-04-03T16:04:14.579Z"
   },
   {
    "duration": 8,
    "start_time": "2022-04-03T16:04:14.766Z"
   },
   {
    "duration": 161,
    "start_time": "2022-04-03T16:04:14.776Z"
   },
   {
    "duration": 8,
    "start_time": "2022-04-03T16:04:14.939Z"
   },
   {
    "duration": 149,
    "start_time": "2022-04-03T16:04:14.948Z"
   },
   {
    "duration": 175,
    "start_time": "2022-04-03T16:04:15.099Z"
   },
   {
    "duration": 190,
    "start_time": "2022-04-03T16:04:15.276Z"
   },
   {
    "duration": 187,
    "start_time": "2022-04-03T16:04:15.468Z"
   },
   {
    "duration": 188,
    "start_time": "2022-04-03T16:04:15.657Z"
   },
   {
    "duration": 217,
    "start_time": "2022-04-03T16:04:15.847Z"
   }
  ],
  "kernelspec": {
   "display_name": "Python 3 (ipykernel)",
   "language": "python",
   "name": "python3"
  },
  "language_info": {
   "codemirror_mode": {
    "name": "ipython",
    "version": 3
   },
   "file_extension": ".py",
   "mimetype": "text/x-python",
   "name": "python",
   "nbconvert_exporter": "python",
   "pygments_lexer": "ipython3",
   "version": "3.9.5"
  },
  "toc": {
   "base_numbering": 1,
   "nav_menu": {},
   "number_sections": false,
   "sideBar": true,
   "skip_h1_title": false,
   "title_cell": "Содержание",
   "title_sidebar": "Contents",
   "toc_cell": true,
   "toc_position": {
    "height": "calc(100% - 180px)",
    "left": "10px",
    "top": "150px",
    "width": "277.562px"
   },
   "toc_section_display": true,
   "toc_window_display": true
  }
 },
 "nbformat": 4,
 "nbformat_minor": 2
}
